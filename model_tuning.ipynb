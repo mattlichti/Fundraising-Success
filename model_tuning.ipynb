{
 "metadata": {
  "name": "",
  "signature": "sha256:4f78c74d96f9e2e04d1cc40271e4eb212940cf37ae54ef34c3d202ae004285ca"
 },
 "nbformat": 3,
 "nbformat_minor": 0,
 "worksheets": [
  {
   "cells": [
    {
     "cell_type": "code",
     "collapsed": false,
     "input": [
      "import model\n",
      "import pipe\n",
      "reload(model)\n",
      "import pandas as pd"
     ],
     "language": "python",
     "metadata": {},
     "outputs": [],
     "prompt_number": 1
    },
    {
     "cell_type": "code",
     "collapsed": false,
     "input": [
      "df = pipe.load_cleaned(['timeframe'])\n",
      "df.info()"
     ],
     "language": "python",
     "metadata": {},
     "outputs": [
      {
       "output_type": "stream",
       "stream": "stdout",
       "text": [
        "<class 'pandas.core.frame.DataFrame'>\n",
        "Float64Index: 141250 entries, 638631.0 to 797987.0\n",
        "Data columns (total 17 columns):\n",
        "activity                    141250 non-null object\n",
        "bonus_credit_eligibility    141250 non-null bool\n",
        "country                     141250 non-null object\n",
        "currency_loss               141250 non-null bool\n",
        "dollars                     141250 non-null bool\n",
        "expired                     141250 non-null bool\n",
        "gender                      141250 non-null bool\n",
        "group_size                  141250 non-null int64\n",
        "irregular_payments          141250 non-null bool\n",
        "loan_amount                 141250 non-null int64\n",
        "pay_at_end                  141250 non-null bool\n",
        "posted_date                 141250 non-null datetime64[ns]\n",
        "repayment_term              141250 non-null int64\n",
        "sector                      141250 non-null object\n",
        "tags                        141250 non-null object\n",
        "themes                      56211 non-null object\n",
        "use                         141250 non-null object\n",
        "dtypes: bool(7), datetime64[ns](1), int64(3), object(6)"
       ]
      }
     ],
     "prompt_number": 2
    },
    {
     "cell_type": "code",
     "collapsed": false,
     "input": [
      "aa = df['themes'].astype(set)"
     ],
     "language": "python",
     "metadata": {},
     "outputs": [],
     "prompt_number": 13
    },
    {
     "cell_type": "code",
     "collapsed": false,
     "input": [
      "aa[aa.notnull()]"
     ],
     "language": "python",
     "metadata": {},
     "outputs": [
      {
       "metadata": {},
       "output_type": "pyout",
       "prompt_number": 26,
       "text": [
        "638631                      [Underfunded Areas]\n",
        "641594                        [Rural Exclusion]\n",
        "642256                      [Vulnerable Groups]\n",
        "642311                         [Conflict Zones]\n",
        "642353                      [Vulnerable Groups]\n",
        "643267                      [Vulnerable Groups]\n",
        "644101                         [Conflict Zones]\n",
        "645222    [Mobile Technology, Innovative Loans]\n",
        "647413                      [Vulnerable Groups]\n",
        "647439                      [Vulnerable Groups]\n",
        "647956                         [Conflict Zones]\n",
        "648132     [Underfunded Areas, Rural Exclusion]\n",
        "648200     [Underfunded Areas, Rural Exclusion]\n",
        "648389                      [Underfunded Areas]\n",
        "648489                         [Conflict Zones]\n",
        "...\n",
        "797932                            [Conflict Zones]\n",
        "797933                         [Vulnerable Groups]\n",
        "797934                            [Conflict Zones]\n",
        "797936                            [Conflict Zones]\n",
        "797937                            [Conflict Zones]\n",
        "797938                            [Conflict Zones]\n",
        "797940                            [Conflict Zones]\n",
        "797941                            [Conflict Zones]\n",
        "797942                            [Conflict Zones]\n",
        "797944                         [Vulnerable Groups]\n",
        "797952                                  [Start-Up]\n",
        "797973                         [Underfunded Areas]\n",
        "797974                         [Underfunded Areas]\n",
        "797980    [Water and Sanitation, Innovative Loans]\n",
        "797984                                  [Start-Up]\n",
        "Name: themes, Length: 56211, dtype: object"
       ]
      }
     ],
     "prompt_number": 26
    },
    {
     "cell_type": "code",
     "collapsed": false,
     "input": [
      "type([]) == list"
     ],
     "language": "python",
     "metadata": {},
     "outputs": [
      {
       "metadata": {},
       "output_type": "pyout",
       "prompt_number": 53,
       "text": [
        "True"
       ]
      }
     ],
     "prompt_number": 53
    },
    {
     "cell_type": "code",
     "collapsed": false,
     "input": [
      "bb = aa.map(lambda x: x if type(x) == list else [])"
     ],
     "language": "python",
     "metadata": {},
     "outputs": [],
     "prompt_number": 54
    },
    {
     "cell_type": "code",
     "collapsed": false,
     "input": [
      "zz = pd.DataFrame(list(bb))"
     ],
     "language": "python",
     "metadata": {},
     "outputs": [],
     "prompt_number": 57
    },
    {
     "cell_type": "code",
     "collapsed": false,
     "input": [
      "zz"
     ],
     "language": "python",
     "metadata": {},
     "outputs": [
      {
       "html": [
        "<div style=\"max-height:1000px;max-width:1500px;overflow:auto;\">\n",
        "<table border=\"1\" class=\"dataframe\">\n",
        "  <thead>\n",
        "    <tr style=\"text-align: right;\">\n",
        "      <th></th>\n",
        "      <th>0</th>\n",
        "      <th>1</th>\n",
        "      <th>2</th>\n",
        "      <th>3</th>\n",
        "    </tr>\n",
        "  </thead>\n",
        "  <tbody>\n",
        "    <tr>\n",
        "      <th>0     </th>\n",
        "      <td>    Underfunded Areas</td>\n",
        "      <td>             None</td>\n",
        "      <td> None</td>\n",
        "      <td> None</td>\n",
        "    </tr>\n",
        "    <tr>\n",
        "      <th>1     </th>\n",
        "      <td>                 None</td>\n",
        "      <td>             None</td>\n",
        "      <td> None</td>\n",
        "      <td> None</td>\n",
        "    </tr>\n",
        "    <tr>\n",
        "      <th>2     </th>\n",
        "      <td>                 None</td>\n",
        "      <td>             None</td>\n",
        "      <td> None</td>\n",
        "      <td> None</td>\n",
        "    </tr>\n",
        "    <tr>\n",
        "      <th>3     </th>\n",
        "      <td>      Rural Exclusion</td>\n",
        "      <td>             None</td>\n",
        "      <td> None</td>\n",
        "      <td> None</td>\n",
        "    </tr>\n",
        "    <tr>\n",
        "      <th>4     </th>\n",
        "      <td>    Vulnerable Groups</td>\n",
        "      <td>             None</td>\n",
        "      <td> None</td>\n",
        "      <td> None</td>\n",
        "    </tr>\n",
        "    <tr>\n",
        "      <th>5     </th>\n",
        "      <td>       Conflict Zones</td>\n",
        "      <td>             None</td>\n",
        "      <td> None</td>\n",
        "      <td> None</td>\n",
        "    </tr>\n",
        "    <tr>\n",
        "      <th>6     </th>\n",
        "      <td>    Vulnerable Groups</td>\n",
        "      <td>             None</td>\n",
        "      <td> None</td>\n",
        "      <td> None</td>\n",
        "    </tr>\n",
        "    <tr>\n",
        "      <th>7     </th>\n",
        "      <td>                 None</td>\n",
        "      <td>             None</td>\n",
        "      <td> None</td>\n",
        "      <td> None</td>\n",
        "    </tr>\n",
        "    <tr>\n",
        "      <th>8     </th>\n",
        "      <td>                 None</td>\n",
        "      <td>             None</td>\n",
        "      <td> None</td>\n",
        "      <td> None</td>\n",
        "    </tr>\n",
        "    <tr>\n",
        "      <th>9     </th>\n",
        "      <td>                 None</td>\n",
        "      <td>             None</td>\n",
        "      <td> None</td>\n",
        "      <td> None</td>\n",
        "    </tr>\n",
        "    <tr>\n",
        "      <th>10    </th>\n",
        "      <td>    Vulnerable Groups</td>\n",
        "      <td>             None</td>\n",
        "      <td> None</td>\n",
        "      <td> None</td>\n",
        "    </tr>\n",
        "    <tr>\n",
        "      <th>11    </th>\n",
        "      <td>                 None</td>\n",
        "      <td>             None</td>\n",
        "      <td> None</td>\n",
        "      <td> None</td>\n",
        "    </tr>\n",
        "    <tr>\n",
        "      <th>12    </th>\n",
        "      <td>                 None</td>\n",
        "      <td>             None</td>\n",
        "      <td> None</td>\n",
        "      <td> None</td>\n",
        "    </tr>\n",
        "    <tr>\n",
        "      <th>13    </th>\n",
        "      <td>                 None</td>\n",
        "      <td>             None</td>\n",
        "      <td> None</td>\n",
        "      <td> None</td>\n",
        "    </tr>\n",
        "    <tr>\n",
        "      <th>14    </th>\n",
        "      <td>       Conflict Zones</td>\n",
        "      <td>             None</td>\n",
        "      <td> None</td>\n",
        "      <td> None</td>\n",
        "    </tr>\n",
        "    <tr>\n",
        "      <th>15    </th>\n",
        "      <td>                 None</td>\n",
        "      <td>             None</td>\n",
        "      <td> None</td>\n",
        "      <td> None</td>\n",
        "    </tr>\n",
        "    <tr>\n",
        "      <th>16    </th>\n",
        "      <td>    Mobile Technology</td>\n",
        "      <td> Innovative Loans</td>\n",
        "      <td> None</td>\n",
        "      <td> None</td>\n",
        "    </tr>\n",
        "    <tr>\n",
        "      <th>17    </th>\n",
        "      <td>                 None</td>\n",
        "      <td>             None</td>\n",
        "      <td> None</td>\n",
        "      <td> None</td>\n",
        "    </tr>\n",
        "    <tr>\n",
        "      <th>18    </th>\n",
        "      <td>                 None</td>\n",
        "      <td>             None</td>\n",
        "      <td> None</td>\n",
        "      <td> None</td>\n",
        "    </tr>\n",
        "    <tr>\n",
        "      <th>19    </th>\n",
        "      <td>                 None</td>\n",
        "      <td>             None</td>\n",
        "      <td> None</td>\n",
        "      <td> None</td>\n",
        "    </tr>\n",
        "    <tr>\n",
        "      <th>20    </th>\n",
        "      <td>                 None</td>\n",
        "      <td>             None</td>\n",
        "      <td> None</td>\n",
        "      <td> None</td>\n",
        "    </tr>\n",
        "    <tr>\n",
        "      <th>21    </th>\n",
        "      <td>                 None</td>\n",
        "      <td>             None</td>\n",
        "      <td> None</td>\n",
        "      <td> None</td>\n",
        "    </tr>\n",
        "    <tr>\n",
        "      <th>22    </th>\n",
        "      <td>                 None</td>\n",
        "      <td>             None</td>\n",
        "      <td> None</td>\n",
        "      <td> None</td>\n",
        "    </tr>\n",
        "    <tr>\n",
        "      <th>23    </th>\n",
        "      <td>                 None</td>\n",
        "      <td>             None</td>\n",
        "      <td> None</td>\n",
        "      <td> None</td>\n",
        "    </tr>\n",
        "    <tr>\n",
        "      <th>24    </th>\n",
        "      <td>                 None</td>\n",
        "      <td>             None</td>\n",
        "      <td> None</td>\n",
        "      <td> None</td>\n",
        "    </tr>\n",
        "    <tr>\n",
        "      <th>25    </th>\n",
        "      <td>                 None</td>\n",
        "      <td>             None</td>\n",
        "      <td> None</td>\n",
        "      <td> None</td>\n",
        "    </tr>\n",
        "    <tr>\n",
        "      <th>26    </th>\n",
        "      <td>                 None</td>\n",
        "      <td>             None</td>\n",
        "      <td> None</td>\n",
        "      <td> None</td>\n",
        "    </tr>\n",
        "    <tr>\n",
        "      <th>27    </th>\n",
        "      <td>                 None</td>\n",
        "      <td>             None</td>\n",
        "      <td> None</td>\n",
        "      <td> None</td>\n",
        "    </tr>\n",
        "    <tr>\n",
        "      <th>28    </th>\n",
        "      <td>                 None</td>\n",
        "      <td>             None</td>\n",
        "      <td> None</td>\n",
        "      <td> None</td>\n",
        "    </tr>\n",
        "    <tr>\n",
        "      <th>29    </th>\n",
        "      <td>                 None</td>\n",
        "      <td>             None</td>\n",
        "      <td> None</td>\n",
        "      <td> None</td>\n",
        "    </tr>\n",
        "    <tr>\n",
        "      <th>...</th>\n",
        "      <td>...</td>\n",
        "      <td>...</td>\n",
        "      <td>...</td>\n",
        "      <td>...</td>\n",
        "    </tr>\n",
        "    <tr>\n",
        "      <th>141220</th>\n",
        "      <td>       Conflict Zones</td>\n",
        "      <td>             None</td>\n",
        "      <td> None</td>\n",
        "      <td> None</td>\n",
        "    </tr>\n",
        "    <tr>\n",
        "      <th>141221</th>\n",
        "      <td>    Vulnerable Groups</td>\n",
        "      <td>             None</td>\n",
        "      <td> None</td>\n",
        "      <td> None</td>\n",
        "    </tr>\n",
        "    <tr>\n",
        "      <th>141222</th>\n",
        "      <td>                 None</td>\n",
        "      <td>             None</td>\n",
        "      <td> None</td>\n",
        "      <td> None</td>\n",
        "    </tr>\n",
        "    <tr>\n",
        "      <th>141223</th>\n",
        "      <td>                 None</td>\n",
        "      <td>             None</td>\n",
        "      <td> None</td>\n",
        "      <td> None</td>\n",
        "    </tr>\n",
        "    <tr>\n",
        "      <th>141224</th>\n",
        "      <td>                 None</td>\n",
        "      <td>             None</td>\n",
        "      <td> None</td>\n",
        "      <td> None</td>\n",
        "    </tr>\n",
        "    <tr>\n",
        "      <th>141225</th>\n",
        "      <td>             Start-Up</td>\n",
        "      <td>             None</td>\n",
        "      <td> None</td>\n",
        "      <td> None</td>\n",
        "    </tr>\n",
        "    <tr>\n",
        "      <th>141226</th>\n",
        "      <td>                 None</td>\n",
        "      <td>             None</td>\n",
        "      <td> None</td>\n",
        "      <td> None</td>\n",
        "    </tr>\n",
        "    <tr>\n",
        "      <th>141227</th>\n",
        "      <td>                 None</td>\n",
        "      <td>             None</td>\n",
        "      <td> None</td>\n",
        "      <td> None</td>\n",
        "    </tr>\n",
        "    <tr>\n",
        "      <th>141228</th>\n",
        "      <td>                 None</td>\n",
        "      <td>             None</td>\n",
        "      <td> None</td>\n",
        "      <td> None</td>\n",
        "    </tr>\n",
        "    <tr>\n",
        "      <th>141229</th>\n",
        "      <td>                 None</td>\n",
        "      <td>             None</td>\n",
        "      <td> None</td>\n",
        "      <td> None</td>\n",
        "    </tr>\n",
        "    <tr>\n",
        "      <th>141230</th>\n",
        "      <td>                 None</td>\n",
        "      <td>             None</td>\n",
        "      <td> None</td>\n",
        "      <td> None</td>\n",
        "    </tr>\n",
        "    <tr>\n",
        "      <th>141231</th>\n",
        "      <td>                 None</td>\n",
        "      <td>             None</td>\n",
        "      <td> None</td>\n",
        "      <td> None</td>\n",
        "    </tr>\n",
        "    <tr>\n",
        "      <th>141232</th>\n",
        "      <td>                 None</td>\n",
        "      <td>             None</td>\n",
        "      <td> None</td>\n",
        "      <td> None</td>\n",
        "    </tr>\n",
        "    <tr>\n",
        "      <th>141233</th>\n",
        "      <td>                 None</td>\n",
        "      <td>             None</td>\n",
        "      <td> None</td>\n",
        "      <td> None</td>\n",
        "    </tr>\n",
        "    <tr>\n",
        "      <th>141234</th>\n",
        "      <td>                 None</td>\n",
        "      <td>             None</td>\n",
        "      <td> None</td>\n",
        "      <td> None</td>\n",
        "    </tr>\n",
        "    <tr>\n",
        "      <th>141235</th>\n",
        "      <td>                 None</td>\n",
        "      <td>             None</td>\n",
        "      <td> None</td>\n",
        "      <td> None</td>\n",
        "    </tr>\n",
        "    <tr>\n",
        "      <th>141236</th>\n",
        "      <td>                 None</td>\n",
        "      <td>             None</td>\n",
        "      <td> None</td>\n",
        "      <td> None</td>\n",
        "    </tr>\n",
        "    <tr>\n",
        "      <th>141237</th>\n",
        "      <td>                 None</td>\n",
        "      <td>             None</td>\n",
        "      <td> None</td>\n",
        "      <td> None</td>\n",
        "    </tr>\n",
        "    <tr>\n",
        "      <th>141238</th>\n",
        "      <td>                 None</td>\n",
        "      <td>             None</td>\n",
        "      <td> None</td>\n",
        "      <td> None</td>\n",
        "    </tr>\n",
        "    <tr>\n",
        "      <th>141239</th>\n",
        "      <td>    Underfunded Areas</td>\n",
        "      <td>             None</td>\n",
        "      <td> None</td>\n",
        "      <td> None</td>\n",
        "    </tr>\n",
        "    <tr>\n",
        "      <th>141240</th>\n",
        "      <td>    Underfunded Areas</td>\n",
        "      <td>             None</td>\n",
        "      <td> None</td>\n",
        "      <td> None</td>\n",
        "    </tr>\n",
        "    <tr>\n",
        "      <th>141241</th>\n",
        "      <td>                 None</td>\n",
        "      <td>             None</td>\n",
        "      <td> None</td>\n",
        "      <td> None</td>\n",
        "    </tr>\n",
        "    <tr>\n",
        "      <th>141242</th>\n",
        "      <td>                 None</td>\n",
        "      <td>             None</td>\n",
        "      <td> None</td>\n",
        "      <td> None</td>\n",
        "    </tr>\n",
        "    <tr>\n",
        "      <th>141243</th>\n",
        "      <td>                 None</td>\n",
        "      <td>             None</td>\n",
        "      <td> None</td>\n",
        "      <td> None</td>\n",
        "    </tr>\n",
        "    <tr>\n",
        "      <th>141244</th>\n",
        "      <td> Water and Sanitation</td>\n",
        "      <td> Innovative Loans</td>\n",
        "      <td> None</td>\n",
        "      <td> None</td>\n",
        "    </tr>\n",
        "    <tr>\n",
        "      <th>141245</th>\n",
        "      <td>                 None</td>\n",
        "      <td>             None</td>\n",
        "      <td> None</td>\n",
        "      <td> None</td>\n",
        "    </tr>\n",
        "    <tr>\n",
        "      <th>141246</th>\n",
        "      <td>                 None</td>\n",
        "      <td>             None</td>\n",
        "      <td> None</td>\n",
        "      <td> None</td>\n",
        "    </tr>\n",
        "    <tr>\n",
        "      <th>141247</th>\n",
        "      <td>             Start-Up</td>\n",
        "      <td>             None</td>\n",
        "      <td> None</td>\n",
        "      <td> None</td>\n",
        "    </tr>\n",
        "    <tr>\n",
        "      <th>141248</th>\n",
        "      <td>                 None</td>\n",
        "      <td>             None</td>\n",
        "      <td> None</td>\n",
        "      <td> None</td>\n",
        "    </tr>\n",
        "    <tr>\n",
        "      <th>141249</th>\n",
        "      <td>                 None</td>\n",
        "      <td>             None</td>\n",
        "      <td> None</td>\n",
        "      <td> None</td>\n",
        "    </tr>\n",
        "  </tbody>\n",
        "</table>\n",
        "<p>141250 rows \u00d7 4 columns</p>\n",
        "</div>"
       ],
       "metadata": {},
       "output_type": "pyout",
       "prompt_number": 58,
       "text": [
        "                           0                 1     2     3\n",
        "0          Underfunded Areas              None  None  None\n",
        "1                       None              None  None  None\n",
        "2                       None              None  None  None\n",
        "3            Rural Exclusion              None  None  None\n",
        "4          Vulnerable Groups              None  None  None\n",
        "5             Conflict Zones              None  None  None\n",
        "6          Vulnerable Groups              None  None  None\n",
        "7                       None              None  None  None\n",
        "8                       None              None  None  None\n",
        "9                       None              None  None  None\n",
        "10         Vulnerable Groups              None  None  None\n",
        "11                      None              None  None  None\n",
        "12                      None              None  None  None\n",
        "13                      None              None  None  None\n",
        "14            Conflict Zones              None  None  None\n",
        "15                      None              None  None  None\n",
        "16         Mobile Technology  Innovative Loans  None  None\n",
        "17                      None              None  None  None\n",
        "18                      None              None  None  None\n",
        "19                      None              None  None  None\n",
        "20                      None              None  None  None\n",
        "21                      None              None  None  None\n",
        "22                      None              None  None  None\n",
        "23                      None              None  None  None\n",
        "24                      None              None  None  None\n",
        "25                      None              None  None  None\n",
        "26                      None              None  None  None\n",
        "27                      None              None  None  None\n",
        "28                      None              None  None  None\n",
        "29                      None              None  None  None\n",
        "...                      ...               ...   ...   ...\n",
        "141220        Conflict Zones              None  None  None\n",
        "141221     Vulnerable Groups              None  None  None\n",
        "141222                  None              None  None  None\n",
        "141223                  None              None  None  None\n",
        "141224                  None              None  None  None\n",
        "141225              Start-Up              None  None  None\n",
        "141226                  None              None  None  None\n",
        "141227                  None              None  None  None\n",
        "141228                  None              None  None  None\n",
        "141229                  None              None  None  None\n",
        "141230                  None              None  None  None\n",
        "141231                  None              None  None  None\n",
        "141232                  None              None  None  None\n",
        "141233                  None              None  None  None\n",
        "141234                  None              None  None  None\n",
        "141235                  None              None  None  None\n",
        "141236                  None              None  None  None\n",
        "141237                  None              None  None  None\n",
        "141238                  None              None  None  None\n",
        "141239     Underfunded Areas              None  None  None\n",
        "141240     Underfunded Areas              None  None  None\n",
        "141241                  None              None  None  None\n",
        "141242                  None              None  None  None\n",
        "141243                  None              None  None  None\n",
        "141244  Water and Sanitation  Innovative Loans  None  None\n",
        "141245                  None              None  None  None\n",
        "141246                  None              None  None  None\n",
        "141247              Start-Up              None  None  None\n",
        "141248                  None              None  None  None\n",
        "141249                  None              None  None  None\n",
        "\n",
        "[141250 rows x 4 columns]"
       ]
      }
     ],
     "prompt_number": 58
    },
    {
     "cell_type": "code",
     "collapsed": false,
     "input": [
      "zz[0].unique()"
     ],
     "language": "python",
     "metadata": {},
     "outputs": [
      {
       "metadata": {},
       "output_type": "pyout",
       "prompt_number": 63,
       "text": [
        "array([u'Underfunded Areas', None, u'Rural Exclusion',\n",
        "       u'Vulnerable Groups', u'Conflict Zones', u'Mobile Technology',\n",
        "       u'Green', u'Higher Education', u'Start-Up', u'Arab Youth', u'SME',\n",
        "       u'Water and Sanitation', u'Youth', u'Islamic Finance',\n",
        "       u'Job Creation', u'Fair Trade', u'Kiva City LA',\n",
        "       u'Innovative Loans', u'Growing Businesses', u'Disaster recovery',\n",
        "       u'Health', u'Kiva City Detroit'], dtype=object)"
       ]
      }
     ],
     "prompt_number": 63
    },
    {
     "cell_type": "code",
     "collapsed": false,
     "input": [
      "bb"
     ],
     "language": "python",
     "metadata": {},
     "outputs": [
      {
       "metadata": {},
       "output_type": "pyout",
       "prompt_number": 65,
       "text": [
        "638631    [Underfunded Areas]\n",
        "641006                     []\n",
        "641019                     []\n",
        "641594      [Rural Exclusion]\n",
        "642256    [Vulnerable Groups]\n",
        "642311       [Conflict Zones]\n",
        "642353    [Vulnerable Groups]\n",
        "642386                     []\n",
        "642429                     []\n",
        "642836                     []\n",
        "643267    [Vulnerable Groups]\n",
        "643288                     []\n",
        "643402                     []\n",
        "643761                     []\n",
        "644101       [Conflict Zones]\n",
        "...\n",
        "797968                                          []\n",
        "797970                                          []\n",
        "797971                                          []\n",
        "797972                                          []\n",
        "797973                         [Underfunded Areas]\n",
        "797974                         [Underfunded Areas]\n",
        "797977                                          []\n",
        "797978                                          []\n",
        "797979                                          []\n",
        "797980    [Water and Sanitation, Innovative Loans]\n",
        "797982                                          []\n",
        "797983                                          []\n",
        "797984                                  [Start-Up]\n",
        "797985                                          []\n",
        "797987                                          []\n",
        "Name: themes, Length: 141250, dtype: object"
       ]
      }
     ],
     "prompt_number": 65
    },
    {
     "cell_type": "code",
     "collapsed": false,
     "input": [
      "bb.map(lambda x: 'Start-Up' in x)"
     ],
     "language": "python",
     "metadata": {},
     "outputs": [
      {
       "metadata": {},
       "output_type": "pyout",
       "prompt_number": 67,
       "text": [
        "638631    False\n",
        "641006    False\n",
        "641019    False\n",
        "641594    False\n",
        "642256    False\n",
        "642311    False\n",
        "642353    False\n",
        "642386    False\n",
        "642429    False\n",
        "642836    False\n",
        "643267    False\n",
        "643288    False\n",
        "643402    False\n",
        "643761    False\n",
        "644101    False\n",
        "...\n",
        "797968    False\n",
        "797970    False\n",
        "797971    False\n",
        "797972    False\n",
        "797973    False\n",
        "797974    False\n",
        "797977    False\n",
        "797978    False\n",
        "797979    False\n",
        "797980    False\n",
        "797982    False\n",
        "797983    False\n",
        "797984     True\n",
        "797985    False\n",
        "797987    False\n",
        "Name: themes, Length: 141250, dtype: bool"
       ]
      }
     ],
     "prompt_number": 67
    },
    {
     "cell_type": "code",
     "collapsed": false,
     "input": [
      "df.themes"
     ],
     "language": "python",
     "metadata": {},
     "outputs": [
      {
       "metadata": {},
       "output_type": "pyout",
       "prompt_number": 64,
       "text": [
        "False"
       ]
      }
     ],
     "prompt_number": 64
    },
    {
     "cell_type": "code",
     "collapsed": false,
     "input": [
      "aa.map(lambda x: 0 if type(x) == none)"
     ],
     "language": "python",
     "metadata": {},
     "outputs": [
      {
       "ename": "SyntaxError",
       "evalue": "invalid syntax (<ipython-input-20-b8160a992f10>, line 1)",
       "output_type": "pyerr",
       "traceback": [
        "\u001b[1;36m  File \u001b[1;32m\"<ipython-input-20-b8160a992f10>\"\u001b[1;36m, line \u001b[1;32m1\u001b[0m\n\u001b[1;33m    aa.map(lambda x: 0 if type(x) == none)\u001b[0m\n\u001b[1;37m                                         ^\u001b[0m\n\u001b[1;31mSyntaxError\u001b[0m\u001b[1;31m:\u001b[0m invalid syntax\n"
       ]
      }
     ],
     "prompt_number": 20
    },
    {
     "cell_type": "code",
     "collapsed": false,
     "input": [
      "df = model.dum(df)\n"
     ],
     "language": "python",
     "metadata": {},
     "outputs": [],
     "prompt_number": 46
    },
    {
     "cell_type": "code",
     "collapsed": false,
     "input": [
      "X,y = model.get_xy(df)"
     ],
     "language": "python",
     "metadata": {},
     "outputs": [],
     "prompt_number": 47
    },
    {
     "cell_type": "code",
     "collapsed": false,
     "input": [
      "df.columns[5]"
     ],
     "language": "python",
     "metadata": {},
     "outputs": [
      {
       "metadata": {},
       "output_type": "pyout",
       "prompt_number": 50,
       "text": [
        "u'irregular_payments'"
       ]
      }
     ],
     "prompt_number": 50
    },
    {
     "cell_type": "code",
     "collapsed": false,
     "input": [
      "X"
     ],
     "language": "python",
     "metadata": {},
     "outputs": [
      {
       "metadata": {},
       "output_type": "pyout",
       "prompt_number": 14,
       "text": [
        "array([[False, False, False, ..., 0.0, 0.0, 0.0],\n",
        "       [False, False, True, ..., 0.0, 0.0, 0.0],\n",
        "       [False, False, True, ..., 0.0, 0.0, 0.0],\n",
        "       ..., \n",
        "       [False, False, False, ..., 0.0, 0.0, 0.0],\n",
        "       [True, False, False, ..., 0.0, 0.0, 0.0],\n",
        "       [True, False, False, ..., 0.0, 0.0, 0.0]], dtype=object)"
       ]
      }
     ],
     "prompt_number": 14
    },
    {
     "cell_type": "code",
     "collapsed": false,
     "input": [
      "model.oversample_model(X,y,ratio=5)"
     ],
     "language": "python",
     "metadata": {},
     "outputs": [
      {
       "output_type": "stream",
       "stream": "stdout",
       "text": [
        "pct_positive 0.0525302296605\n",
        "true_pos: 0.0313 false_pos: 0.0606\n",
        "true_neg 0.886840540311 false_neg 0.0211820009628\n",
        "recall: 0.596765498652 precision: 0.340825123153\n",
        "[  1.52388738e-02   1.58185916e-03   1.03986001e-02   6.41897305e-02\n",
        "   2.45013838e-02   1.07456169e-01   3.21964069e-01   1.00225856e-02\n",
        "   1.59287423e-01   1.26732497e-02   1.87693497e-03   8.62278897e-03\n",
        "   4.12437034e-03   8.67987474e-03   2.28662421e-04   1.10754451e-02\n",
        "   2.37569096e-03   1.42094020e-02   3.73225376e-03   7.16311933e-03\n",
        "   1.55490712e-02   8.35697395e-03   4.52267931e-03   5.09728690e-04\n",
        "   1.37683553e-03   3.60679343e-03   3.58615446e-03   7.32720009e-05\n",
        "   6.56479426e-04   7.92112539e-04   3.95329938e-03   1.55357663e-05\n",
        "   8.54005252e-05   2.80046294e-04   6.91254594e-05   1.12676780e-06\n",
        "   9.81434892e-04   0.00000000e+00   1.36519084e-02   9.67554591e-04\n",
        "   2.44589889e-04   1.78024458e-03   1.50053982e-03   6.97290865e-04\n",
        "   1.78958118e-03   4.11659807e-03   8.24243983e-04   6.50066199e-03\n",
        "   2.08595073e-04   8.38573559e-04   9.91649462e-04   2.51808658e-03\n",
        "   5.28944813e-03   2.15448228e-03   5.20202816e-03   1.98639768e-04\n",
        "   1.78878705e-03   2.94380773e-04   3.83967629e-05   2.58335506e-03\n",
        "   7.50216920e-05   2.68920427e-03   2.02895811e-05   1.55594331e-05\n",
        "   1.23127891e-03   1.44061808e-03   8.11511790e-04   7.07443354e-03\n",
        "   3.89297218e-05   5.55915645e-05   4.37721874e-03   1.32388863e-02\n",
        "   4.27693330e-03   4.40004853e-03   2.29519317e-03   0.00000000e+00\n",
        "   1.06717583e-03   1.47738739e-10   1.70700228e-03   2.19450091e-03\n",
        "   1.26185890e-06   2.72154500e-04   2.75909257e-02   6.36337457e-04\n",
        "   2.41377296e-06   4.94919042e-03   9.84441938e-04   3.57877020e-06\n",
        "   1.62445477e-03   1.09897324e-03   1.30758102e-02   3.57515539e-03\n",
        "   1.80652922e-05   3.04013788e-03   1.73921445e-06   1.78583862e-03\n",
        "   1.67490340e-03   2.14718968e-03   1.28300472e-04   5.25551559e-05\n",
        "   2.32898185e-03]\n"
       ]
      }
     ],
     "prompt_number": 44
    },
    {
     "cell_type": "code",
     "collapsed": false,
     "input": [
      "df.info()"
     ],
     "language": "python",
     "metadata": {},
     "outputs": [
      {
       "output_type": "stream",
       "stream": "stdout",
       "text": [
        "<class 'pandas.core.frame.DataFrame'>\n",
        "Float64Index: 141250 entries, 638631.0 to 797987.0\n",
        "Columns: 101 entries, bonus_credit_eligibility to ZW\n",
        "dtypes: bool(6), float64(92), int64(3)"
       ]
      }
     ],
     "prompt_number": 35
    },
    {
     "cell_type": "code",
     "collapsed": false,
     "input": [
      "lst = pipe.import_loans('1600s')"
     ],
     "language": "python",
     "metadata": {},
     "outputs": [],
     "prompt_number": 28
    },
    {
     "cell_type": "code",
     "collapsed": false,
     "input": [
      "reload(pipe)"
     ],
     "language": "python",
     "metadata": {},
     "outputs": [
      {
       "metadata": {},
       "output_type": "pyout",
       "prompt_number": 29,
       "text": [
        "<module 'pipe' from '/home/matt/gdrive/final_project/Fundraising-Success/pipe.py'>"
       ]
      }
     ],
     "prompt_number": 29
    },
    {
     "cell_type": "code",
     "collapsed": false,
     "input": [
      "dfr = pipe.build_df(lst)"
     ],
     "language": "python",
     "metadata": {},
     "outputs": [],
     "prompt_number": 31
    },
    {
     "cell_type": "code",
     "collapsed": false,
     "input": [
      "dfr.info()"
     ],
     "language": "python",
     "metadata": {},
     "outputs": [
      {
       "output_type": "stream",
       "stream": "stdout",
       "text": [
        "<class 'pandas.core.frame.DataFrame'>\n",
        "Int64Index: 35333 entries, 0 to 35332\n",
        "Data columns (total 21 columns):\n",
        "activity                    35333 non-null object\n",
        "bonus_credit_eligibility    35333 non-null bool\n",
        "description                 35331 non-null object\n",
        "id                          35333 non-null int64\n",
        "image                       35333 non-null int64\n",
        "loan_amount                 35333 non-null int64\n",
        "name                        35333 non-null object\n",
        "partner_id                  35333 non-null int64\n",
        "posted_date                 35333 non-null datetime64[ns]\n",
        "sector                      35333 non-null object\n",
        "status                      35333 non-null object\n",
        "tags                        35333 non-null object\n",
        "themes                      15979 non-null object\n",
        "use                         35333 non-null object\n",
        "country                     35333 non-null object\n",
        "repayment_interval          35333 non-null object\n",
        "repayment_term              35333 non-null int64\n",
        "currency_loss               35333 non-null object\n",
        "group_size                  35333 non-null int64\n",
        "gender                      35333 non-null object\n",
        "days_available              35333 non-null int64\n",
        "dtypes: bool(1), datetime64[ns](1), int64(7), object(12)"
       ]
      }
     ],
     "prompt_number": 32
    },
    {
     "cell_type": "code",
     "collapsed": false,
     "input": [
      "dfhuh = pd.DataFrame(lst)"
     ],
     "language": "python",
     "metadata": {},
     "outputs": [],
     "prompt_number": 34
    },
    {
     "cell_type": "code",
     "collapsed": false,
     "input": [
      "dfhuh.info()"
     ],
     "language": "python",
     "metadata": {},
     "outputs": [
      {
       "output_type": "stream",
       "stream": "stdout",
       "text": [
        "<class 'pandas.core.frame.DataFrame'>\n",
        "Int64Index: 35333 entries, 0 to 35332\n",
        "Data columns (total 30 columns):\n",
        "activity                         35333 non-null object\n",
        "basket_amount                    5832 non-null float64\n",
        "bonus_credit_eligibility         35333 non-null bool\n",
        "borrowers                        35333 non-null object\n",
        "currency_exchange_loss_amount    43 non-null float64\n",
        "delinquent                       502 non-null object\n",
        "description                      35333 non-null object\n",
        "funded_amount                    35333 non-null int64\n",
        "funded_date                      28459 non-null object\n",
        "id                               35333 non-null int64\n",
        "image                            35333 non-null object\n",
        "journal_totals                   35333 non-null object\n",
        "lender_count                     35333 non-null int64\n",
        "loan_amount                      35333 non-null int64\n",
        "location                         35333 non-null object\n",
        "name                             35333 non-null object\n",
        "paid_amount                      28182 non-null float64\n",
        "paid_date                        285 non-null object\n",
        "partner_id                       35333 non-null int64\n",
        "payments                         35333 non-null object\n",
        "planned_expiration_date          35333 non-null object\n",
        "posted_date                      35333 non-null object\n",
        "sector                           35333 non-null object\n",
        "status                           35333 non-null object\n",
        "tags                             35333 non-null object\n",
        "terms                            35333 non-null object\n",
        "themes                           15979 non-null object\n",
        "translator                       32769 non-null object\n",
        "use                              35333 non-null object\n",
        "video                            5 non-null object\n",
        "dtypes: bool(1), float64(3), int64(5), object(21)"
       ]
      }
     ],
     "prompt_number": 35
    },
    {
     "cell_type": "code",
     "collapsed": false,
     "input": [
      "lst2 = pipe.import_loans('700s')"
     ],
     "language": "python",
     "metadata": {},
     "outputs": [],
     "prompt_number": 2
    },
    {
     "cell_type": "code",
     "collapsed": false,
     "input": [
      "dfhuh2 = pd.DataFrame(lst2)"
     ],
     "language": "python",
     "metadata": {},
     "outputs": [],
     "prompt_number": 3
    },
    {
     "cell_type": "code",
     "collapsed": false,
     "input": [
      "dfhuh2.info()"
     ],
     "language": "python",
     "metadata": {},
     "outputs": [
      {
       "output_type": "stream",
       "stream": "stdout",
       "text": [
        "<class 'pandas.core.frame.DataFrame'>\n",
        "Int64Index: 12000 entries, 0 to 11999\n",
        "Data columns (total 30 columns):\n",
        "activity                         12000 non-null object\n",
        "basket_amount                    0 non-null object\n",
        "bonus_credit_eligibility         12000 non-null bool\n",
        "borrowers                        12000 non-null object\n",
        "currency_exchange_loss_amount    301 non-null float64\n",
        "delinquent                       209 non-null object\n",
        "description                      12000 non-null object\n",
        "funded_amount                    12000 non-null int64\n",
        "funded_date                      11834 non-null object\n",
        "id                               12000 non-null int64\n",
        "image                            12000 non-null object\n",
        "journal_totals                   12000 non-null object\n",
        "lender_count                     12000 non-null int64\n",
        "loan_amount                      12000 non-null int64\n",
        "location                         12000 non-null object\n",
        "name                             12000 non-null object\n",
        "paid_amount                      11607 non-null float64\n",
        "paid_date                        11585 non-null object\n",
        "partner_id                       12000 non-null int64\n",
        "payments                         12000 non-null object\n",
        "planned_expiration_date          12000 non-null object\n",
        "posted_date                      12000 non-null object\n",
        "sector                           12000 non-null object\n",
        "status                           12000 non-null object\n",
        "tags                             12000 non-null object\n",
        "terms                            12000 non-null object\n",
        "themes                           864 non-null object\n",
        "translator                       11181 non-null object\n",
        "use                              12000 non-null object\n",
        "video                            5 non-null object\n",
        "dtypes: bool(1), float64(2), int64(5), object(22)"
       ]
      }
     ],
     "prompt_number": 4
    },
    {
     "cell_type": "code",
     "collapsed": false,
     "input": [
      "lst3 = pipe.import_loans('test/rand')\n",
      "dfhuh3 = pd.DataFrame(lst3)"
     ],
     "language": "python",
     "metadata": {},
     "outputs": [],
     "prompt_number": 7
    },
    {
     "cell_type": "code",
     "collapsed": false,
     "input": [
      "dfhuh3.info()"
     ],
     "language": "python",
     "metadata": {},
     "outputs": [
      {
       "output_type": "stream",
       "stream": "stdout",
       "text": [
        "<class 'pandas.core.frame.DataFrame'>\n",
        "Int64Index: 18000 entries, 0 to 17999\n",
        "Data columns (total 30 columns):\n",
        "activity                         18000 non-null object\n",
        "basket_amount                    0 non-null object\n",
        "bonus_credit_eligibility         18000 non-null bool\n",
        "borrowers                        18000 non-null object\n",
        "currency_exchange_loss_amount    1099 non-null float64\n",
        "delinquent                       1271 non-null object\n",
        "description                      18000 non-null object\n",
        "funded_amount                    18000 non-null int64\n",
        "funded_date                      17542 non-null object\n",
        "id                               18000 non-null int64\n",
        "image                            18000 non-null object\n",
        "journal_totals                   18000 non-null object\n",
        "lender_count                     18000 non-null int64\n",
        "loan_amount                      18000 non-null int64\n",
        "location                         18000 non-null object\n",
        "name                             18000 non-null object\n",
        "paid_amount                      17281 non-null float64\n",
        "paid_date                        10406 non-null object\n",
        "partner_id                       18000 non-null int64\n",
        "payments                         18000 non-null object\n",
        "planned_expiration_date          18000 non-null object\n",
        "posted_date                      18000 non-null object\n",
        "sector                           18000 non-null object\n",
        "status                           18000 non-null object\n",
        "tags                             18000 non-null object\n",
        "terms                            18000 non-null object\n",
        "themes                           5200 non-null object\n",
        "translator                       16712 non-null object\n",
        "use                              18000 non-null object\n",
        "video                            10 non-null object\n",
        "dtypes: bool(1), float64(2), int64(5), object(22)"
       ]
      }
     ],
     "prompt_number": 8
    },
    {
     "cell_type": "code",
     "collapsed": false,
     "input": [
      "theme_list = sorted([u'Underfunded Areas', u'Rural Exclusion',\n",
      "       u'Vulnerable Groups', u'Conflict Zones', u'Mobile Technology',\n",
      "       u'Green', u'Higher Education', u'Start-Up', u'Arab Youth', u'SME',\n",
      "       u'Water and Sanitation', u'Youth', u'Islamic Finance',\n",
      "       u'Job Creation', u'Fair Trade', u'Kiva City LA',\n",
      "       u'Innovative Loans', u'Growing Businesses', u'Disaster recovery',\n",
      "       u'Health', u'Kiva City Detroit', 'Flexible Credit Study'])"
     ],
     "language": "python",
     "metadata": {},
     "outputs": [],
     "prompt_number": 76
    },
    {
     "cell_type": "code",
     "collapsed": false,
     "input": [],
     "language": "python",
     "metadata": {},
     "outputs": []
    },
    {
     "cell_type": "code",
     "collapsed": false,
     "input": [
      "bb.map(lambda x: 'Flexible Credit Study' in x).mean()"
     ],
     "language": "python",
     "metadata": {},
     "outputs": [
      {
       "metadata": {},
       "output_type": "pyout",
       "prompt_number": 74,
       "text": [
        "0.00072920353982300888"
       ]
      }
     ],
     "prompt_number": 74
    },
    {
     "cell_type": "code",
     "collapsed": false,
     "input": [
      "df.themes = df.themes.map(lambda x: x if type(x) == list else [])"
     ],
     "language": "python",
     "metadata": {},
     "outputs": [],
     "prompt_number": 82
    },
    {
     "cell_type": "code",
     "collapsed": false,
     "input": [
      "for theme in theme_list:\n",
      "    df[theme] = df.themes.map(lambda x: 'Start-Up' in x)"
     ],
     "language": "python",
     "metadata": {},
     "outputs": [],
     "prompt_number": 83
    },
    {
     "cell_type": "code",
     "collapsed": false,
     "input": [
      "df = model.get_themes(df)"
     ],
     "language": "python",
     "metadata": {},
     "outputs": [],
     "prompt_number": 97
    },
    {
     "cell_type": "code",
     "collapsed": false,
     "input": [
      "df.info()"
     ],
     "language": "python",
     "metadata": {},
     "outputs": [
      {
       "output_type": "stream",
       "stream": "stdout",
       "text": [
        "<class 'pandas.core.frame.DataFrame'>\n",
        "Float64Index: 141250 entries, 638631.0 to 797987.0\n",
        "Data columns (total 38 columns):\n",
        "activity                    141250 non-null object\n",
        "bonus_credit_eligibility    141250 non-null bool\n",
        "country                     141250 non-null object\n",
        "currency_loss               141250 non-null bool\n",
        "dollars                     141250 non-null bool\n",
        "expired                     141250 non-null bool\n",
        "gender                      141250 non-null bool\n",
        "group_size                  141250 non-null int64\n",
        "irregular_payments          141250 non-null bool\n",
        "loan_amount                 141250 non-null int64\n",
        "pay_at_end                  141250 non-null bool\n",
        "posted_date                 141250 non-null datetime64[ns]\n",
        "repayment_term              141250 non-null int64\n",
        "sector                      141250 non-null object\n",
        "tags                        141250 non-null object\n",
        "use                         141250 non-null object\n",
        "Arab Youth                  141250 non-null bool\n",
        "Conflict Zones              141250 non-null bool\n",
        "Disaster recovery           141250 non-null bool\n",
        "Fair Trade                  141250 non-null bool\n",
        "Flexible Credit Study       141250 non-null bool\n",
        "Green                       141250 non-null bool\n",
        "Growing Businesses          141250 non-null bool\n",
        "Health                      141250 non-null bool\n",
        "Higher Education            141250 non-null bool\n",
        "Innovative Loans            141250 non-null bool\n",
        "Islamic Finance             141250 non-null bool\n",
        "Job Creation                141250 non-null bool\n",
        "Kiva City Detroit           141250 non-null bool\n",
        "Kiva City LA                141250 non-null bool\n",
        "Mobile Technology           141250 non-null bool\n",
        "Rural Exclusion             141250 non-null bool\n",
        "SME                         141250 non-null bool\n",
        "Start-Up                    141250 non-null bool\n",
        "Underfunded Areas           141250 non-null bool\n",
        "Vulnerable Groups           141250 non-null bool\n",
        "Water and Sanitation        141250 non-null bool\n",
        "Youth                       141250 non-null bool\n",
        "dtypes: bool(29), datetime64[ns](1), int64(3), object(5)"
       ]
      }
     ],
     "prompt_number": 98
    },
    {
     "cell_type": "code",
     "collapsed": false,
     "input": [
      "df[df['Job Creation']].count()"
     ],
     "language": "python",
     "metadata": {},
     "outputs": [
      {
       "metadata": {},
       "output_type": "pyout",
       "prompt_number": 101,
       "text": [
        "activity                    264\n",
        "bonus_credit_eligibility    264\n",
        "country                     264\n",
        "currency_loss               264\n",
        "dollars                     264\n",
        "expired                     264\n",
        "gender                      264\n",
        "group_size                  264\n",
        "irregular_payments          264\n",
        "loan_amount                 264\n",
        "pay_at_end                  264\n",
        "posted_date                 264\n",
        "repayment_term              264\n",
        "sector                      264\n",
        "tags                        264\n",
        "use                         264\n",
        "Arab Youth                  264\n",
        "Conflict Zones              264\n",
        "Disaster recovery           264\n",
        "Fair Trade                  264\n",
        "Flexible Credit Study       264\n",
        "Green                       264\n",
        "Growing Businesses          264\n",
        "Health                      264\n",
        "Higher Education            264\n",
        "Innovative Loans            264\n",
        "Islamic Finance             264\n",
        "Job Creation                264\n",
        "Kiva City Detroit           264\n",
        "Kiva City LA                264\n",
        "Mobile Technology           264\n",
        "Rural Exclusion             264\n",
        "SME                         264\n",
        "Start-Up                    264\n",
        "Underfunded Areas           264\n",
        "Vulnerable Groups           264\n",
        "Water and Sanitation        264\n",
        "Youth                       264\n",
        "dtype: int64"
       ]
      }
     ],
     "prompt_number": 101
    },
    {
     "cell_type": "code",
     "collapsed": false,
     "input": [
      "df[df['Green']].count()"
     ],
     "language": "python",
     "metadata": {},
     "outputs": [
      {
       "metadata": {},
       "output_type": "pyout",
       "prompt_number": 102,
       "text": [
        "activity                    1954\n",
        "bonus_credit_eligibility    1954\n",
        "country                     1954\n",
        "currency_loss               1954\n",
        "dollars                     1954\n",
        "expired                     1954\n",
        "gender                      1954\n",
        "group_size                  1954\n",
        "irregular_payments          1954\n",
        "loan_amount                 1954\n",
        "pay_at_end                  1954\n",
        "posted_date                 1954\n",
        "repayment_term              1954\n",
        "sector                      1954\n",
        "tags                        1954\n",
        "use                         1954\n",
        "Arab Youth                  1954\n",
        "Conflict Zones              1954\n",
        "Disaster recovery           1954\n",
        "Fair Trade                  1954\n",
        "Flexible Credit Study       1954\n",
        "Green                       1954\n",
        "Growing Businesses          1954\n",
        "Health                      1954\n",
        "Higher Education            1954\n",
        "Innovative Loans            1954\n",
        "Islamic Finance             1954\n",
        "Job Creation                1954\n",
        "Kiva City Detroit           1954\n",
        "Kiva City LA                1954\n",
        "Mobile Technology           1954\n",
        "Rural Exclusion             1954\n",
        "SME                         1954\n",
        "Start-Up                    1954\n",
        "Underfunded Areas           1954\n",
        "Vulnerable Groups           1954\n",
        "Water and Sanitation        1954\n",
        "Youth                       1954\n",
        "dtype: int64"
       ]
      }
     ],
     "prompt_number": 102
    },
    {
     "cell_type": "code",
     "collapsed": false,
     "input": [
      "df[df.posted_date < '2014-04-01'].expired.mean()"
     ],
     "language": "python",
     "metadata": {},
     "outputs": [
      {
       "metadata": {},
       "output_type": "pyout",
       "prompt_number": 17,
       "text": [
        "0.015252775681793684"
       ]
      }
     ],
     "prompt_number": 17
    },
    {
     "cell_type": "code",
     "collapsed": false,
     "input": [
      "hf = df[(df.posted_date > '2014-4-01') & (df.posted_date < '2014-12-01')].copy()"
     ],
     "language": "python",
     "metadata": {},
     "outputs": [],
     "prompt_number": 10
    },
    {
     "cell_type": "code",
     "collapsed": false,
     "input": [
      "hf = model.dum(hf)"
     ],
     "language": "python",
     "metadata": {},
     "outputs": [],
     "prompt_number": 11
    },
    {
     "cell_type": "code",
     "collapsed": false,
     "input": [
      "hf.info()"
     ],
     "language": "python",
     "metadata": {},
     "outputs": [
      {
       "output_type": "stream",
       "stream": "stdout",
       "text": [
        "<class 'pandas.core.frame.DataFrame'>\n",
        "Float64Index: 104142 entries, 667730.0 to 797987.0\n",
        "Columns: 123 entries, bonus_credit_eligibility to ZW\n",
        "dtypes: bool(29), float64(91), int64(3)"
       ]
      }
     ],
     "prompt_number": 9
    },
    {
     "cell_type": "code",
     "collapsed": false,
     "input": [
      "x,y = model.get_xy(hf)"
     ],
     "language": "python",
     "metadata": {},
     "outputs": [],
     "prompt_number": 12
    },
    {
     "cell_type": "code",
     "collapsed": false,
     "input": [
      "x,y"
     ],
     "language": "python",
     "metadata": {},
     "outputs": [
      {
       "metadata": {},
       "output_type": "pyout",
       "prompt_number": 13,
       "text": [
        "(array([[False, False, False, ..., 0.0, 0.0, 0.0],\n",
        "        [False, False, False, ..., 0.0, 0.0, 0.0],\n",
        "        [False, False, True, ..., 0.0, 0.0, 0.0],\n",
        "        ..., \n",
        "        [False, False, False, ..., 0.0, 0.0, 0.0],\n",
        "        [True, False, False, ..., 0.0, 0.0, 0.0],\n",
        "        [True, False, False, ..., 0.0, 0.0, 0.0]], dtype=object),\n",
        " array([False, False, False, ..., False, False, False], dtype=bool))"
       ]
      }
     ],
     "prompt_number": 13
    },
    {
     "cell_type": "code",
     "collapsed": false,
     "input": [
      "column_list = hf.columns\n"
     ],
     "language": "python",
     "metadata": {},
     "outputs": [],
     "prompt_number": 14
    },
    {
     "cell_type": "code",
     "collapsed": false,
     "input": [
      "rf = model.oversample_model(x,y)\n"
     ],
     "language": "python",
     "metadata": {},
     "outputs": [
      {
       "output_type": "stream",
       "stream": "stdout",
       "text": [
        "(26036, 122) (26036,)\n",
        "(72922, 122) (72922,)\n",
        "pct_positive"
       ]
      },
      {
       "output_type": "stream",
       "stream": "stdout",
       "text": [
        " 0.0654478414503\n",
        "true_pos: 0.0567 false_pos: 0.1521\n",
        "true_neg 0.782455062222 false_neg 0.00879551390383\n",
        "recall: 0.865610328638 precision: 0.271389144434\n"
       ]
      }
     ],
     "prompt_number": 15
    },
    {
     "cell_type": "code",
     "collapsed": false,
     "input": [],
     "language": "python",
     "metadata": {},
     "outputs": []
    }
   ],
   "metadata": {}
  }
 ]
}