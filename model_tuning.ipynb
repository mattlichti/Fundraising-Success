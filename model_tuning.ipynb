{
 "metadata": {
  "name": "",
  "signature": "sha256:49e919ba3e365e8ad8295cd3d9fc2cc267975124d91c615b451f0f29fef43299"
 },
 "nbformat": 3,
 "nbformat_minor": 0,
 "worksheets": [
  {
   "cells": [
    {
     "cell_type": "code",
     "collapsed": false,
     "input": [
      "import model\n",
      "import pipe\n",
      "reload(model)\n",
      "import pandas as pd\n",
      "from sklearn.cross_validation import train_test_split\n"
     ],
     "language": "python",
     "metadata": {},
     "outputs": [],
     "prompt_number": 1
    },
    {
     "cell_type": "code",
     "collapsed": false,
     "input": [
      "df = pipe.load_cleaned(['timeframe'])\n",
      "df.info()"
     ],
     "language": "python",
     "metadata": {},
     "outputs": [
      {
       "output_type": "stream",
       "stream": "stdout",
       "text": [
        "<class 'pandas.core.frame.DataFrame'>\n",
        "Float64Index: 141250 entries, 638631.0 to 797987.0\n",
        "Data columns (total 17 columns):\n",
        "activity                    141250 non-null object\n",
        "bonus_credit_eligibility    141250 non-null bool\n",
        "country                     141250 non-null object\n",
        "currency_loss               141250 non-null bool\n",
        "dollars                     141250 non-null bool\n",
        "expired                     141250 non-null bool\n",
        "gender                      141250 non-null bool\n",
        "group_size                  141250 non-null int64\n",
        "irregular_payments          141250 non-null bool\n",
        "loan_amount                 141250 non-null int64\n",
        "pay_at_end                  141250 non-null bool\n",
        "posted_date                 141250 non-null datetime64[ns]\n",
        "repayment_term              141250 non-null int64\n",
        "sector                      141250 non-null object\n",
        "tags                        141250 non-null object\n",
        "themes                      56211 non-null object\n",
        "use                         141250 non-null object\n",
        "dtypes: bool(7), datetime64[ns](1), int64(3), object(6)"
       ]
      }
     ],
     "prompt_number": 2
    },
    {
     "cell_type": "code",
     "collapsed": false,
     "input": [
      "aa = df['themes'].astype(set)"
     ],
     "language": "python",
     "metadata": {},
     "outputs": [],
     "prompt_number": 13
    },
    {
     "cell_type": "code",
     "collapsed": false,
     "input": [
      "aa[aa.notnull()]"
     ],
     "language": "python",
     "metadata": {},
     "outputs": [
      {
       "metadata": {},
       "output_type": "pyout",
       "prompt_number": 26,
       "text": [
        "638631                      [Underfunded Areas]\n",
        "641594                        [Rural Exclusion]\n",
        "642256                      [Vulnerable Groups]\n",
        "642311                         [Conflict Zones]\n",
        "642353                      [Vulnerable Groups]\n",
        "643267                      [Vulnerable Groups]\n",
        "644101                         [Conflict Zones]\n",
        "645222    [Mobile Technology, Innovative Loans]\n",
        "647413                      [Vulnerable Groups]\n",
        "647439                      [Vulnerable Groups]\n",
        "647956                         [Conflict Zones]\n",
        "648132     [Underfunded Areas, Rural Exclusion]\n",
        "648200     [Underfunded Areas, Rural Exclusion]\n",
        "648389                      [Underfunded Areas]\n",
        "648489                         [Conflict Zones]\n",
        "...\n",
        "797932                            [Conflict Zones]\n",
        "797933                         [Vulnerable Groups]\n",
        "797934                            [Conflict Zones]\n",
        "797936                            [Conflict Zones]\n",
        "797937                            [Conflict Zones]\n",
        "797938                            [Conflict Zones]\n",
        "797940                            [Conflict Zones]\n",
        "797941                            [Conflict Zones]\n",
        "797942                            [Conflict Zones]\n",
        "797944                         [Vulnerable Groups]\n",
        "797952                                  [Start-Up]\n",
        "797973                         [Underfunded Areas]\n",
        "797974                         [Underfunded Areas]\n",
        "797980    [Water and Sanitation, Innovative Loans]\n",
        "797984                                  [Start-Up]\n",
        "Name: themes, Length: 56211, dtype: object"
       ]
      }
     ],
     "prompt_number": 26
    },
    {
     "cell_type": "code",
     "collapsed": false,
     "input": [
      "type([]) == list"
     ],
     "language": "python",
     "metadata": {},
     "outputs": [
      {
       "metadata": {},
       "output_type": "pyout",
       "prompt_number": 53,
       "text": [
        "True"
       ]
      }
     ],
     "prompt_number": 53
    },
    {
     "cell_type": "code",
     "collapsed": false,
     "input": [
      "bb = aa.map(lambda x: x if type(x) == list else [])"
     ],
     "language": "python",
     "metadata": {},
     "outputs": [],
     "prompt_number": 54
    },
    {
     "cell_type": "code",
     "collapsed": false,
     "input": [
      "zz = pd.DataFrame(list(bb))"
     ],
     "language": "python",
     "metadata": {},
     "outputs": [],
     "prompt_number": 57
    },
    {
     "cell_type": "code",
     "collapsed": false,
     "input": [
      "zz"
     ],
     "language": "python",
     "metadata": {},
     "outputs": [
      {
       "html": [
        "<div style=\"max-height:1000px;max-width:1500px;overflow:auto;\">\n",
        "<table border=\"1\" class=\"dataframe\">\n",
        "  <thead>\n",
        "    <tr style=\"text-align: right;\">\n",
        "      <th></th>\n",
        "      <th>0</th>\n",
        "      <th>1</th>\n",
        "      <th>2</th>\n",
        "      <th>3</th>\n",
        "    </tr>\n",
        "  </thead>\n",
        "  <tbody>\n",
        "    <tr>\n",
        "      <th>0     </th>\n",
        "      <td>    Underfunded Areas</td>\n",
        "      <td>             None</td>\n",
        "      <td> None</td>\n",
        "      <td> None</td>\n",
        "    </tr>\n",
        "    <tr>\n",
        "      <th>1     </th>\n",
        "      <td>                 None</td>\n",
        "      <td>             None</td>\n",
        "      <td> None</td>\n",
        "      <td> None</td>\n",
        "    </tr>\n",
        "    <tr>\n",
        "      <th>2     </th>\n",
        "      <td>                 None</td>\n",
        "      <td>             None</td>\n",
        "      <td> None</td>\n",
        "      <td> None</td>\n",
        "    </tr>\n",
        "    <tr>\n",
        "      <th>3     </th>\n",
        "      <td>      Rural Exclusion</td>\n",
        "      <td>             None</td>\n",
        "      <td> None</td>\n",
        "      <td> None</td>\n",
        "    </tr>\n",
        "    <tr>\n",
        "      <th>4     </th>\n",
        "      <td>    Vulnerable Groups</td>\n",
        "      <td>             None</td>\n",
        "      <td> None</td>\n",
        "      <td> None</td>\n",
        "    </tr>\n",
        "    <tr>\n",
        "      <th>5     </th>\n",
        "      <td>       Conflict Zones</td>\n",
        "      <td>             None</td>\n",
        "      <td> None</td>\n",
        "      <td> None</td>\n",
        "    </tr>\n",
        "    <tr>\n",
        "      <th>6     </th>\n",
        "      <td>    Vulnerable Groups</td>\n",
        "      <td>             None</td>\n",
        "      <td> None</td>\n",
        "      <td> None</td>\n",
        "    </tr>\n",
        "    <tr>\n",
        "      <th>7     </th>\n",
        "      <td>                 None</td>\n",
        "      <td>             None</td>\n",
        "      <td> None</td>\n",
        "      <td> None</td>\n",
        "    </tr>\n",
        "    <tr>\n",
        "      <th>8     </th>\n",
        "      <td>                 None</td>\n",
        "      <td>             None</td>\n",
        "      <td> None</td>\n",
        "      <td> None</td>\n",
        "    </tr>\n",
        "    <tr>\n",
        "      <th>9     </th>\n",
        "      <td>                 None</td>\n",
        "      <td>             None</td>\n",
        "      <td> None</td>\n",
        "      <td> None</td>\n",
        "    </tr>\n",
        "    <tr>\n",
        "      <th>10    </th>\n",
        "      <td>    Vulnerable Groups</td>\n",
        "      <td>             None</td>\n",
        "      <td> None</td>\n",
        "      <td> None</td>\n",
        "    </tr>\n",
        "    <tr>\n",
        "      <th>11    </th>\n",
        "      <td>                 None</td>\n",
        "      <td>             None</td>\n",
        "      <td> None</td>\n",
        "      <td> None</td>\n",
        "    </tr>\n",
        "    <tr>\n",
        "      <th>12    </th>\n",
        "      <td>                 None</td>\n",
        "      <td>             None</td>\n",
        "      <td> None</td>\n",
        "      <td> None</td>\n",
        "    </tr>\n",
        "    <tr>\n",
        "      <th>13    </th>\n",
        "      <td>                 None</td>\n",
        "      <td>             None</td>\n",
        "      <td> None</td>\n",
        "      <td> None</td>\n",
        "    </tr>\n",
        "    <tr>\n",
        "      <th>14    </th>\n",
        "      <td>       Conflict Zones</td>\n",
        "      <td>             None</td>\n",
        "      <td> None</td>\n",
        "      <td> None</td>\n",
        "    </tr>\n",
        "    <tr>\n",
        "      <th>15    </th>\n",
        "      <td>                 None</td>\n",
        "      <td>             None</td>\n",
        "      <td> None</td>\n",
        "      <td> None</td>\n",
        "    </tr>\n",
        "    <tr>\n",
        "      <th>16    </th>\n",
        "      <td>    Mobile Technology</td>\n",
        "      <td> Innovative Loans</td>\n",
        "      <td> None</td>\n",
        "      <td> None</td>\n",
        "    </tr>\n",
        "    <tr>\n",
        "      <th>17    </th>\n",
        "      <td>                 None</td>\n",
        "      <td>             None</td>\n",
        "      <td> None</td>\n",
        "      <td> None</td>\n",
        "    </tr>\n",
        "    <tr>\n",
        "      <th>18    </th>\n",
        "      <td>                 None</td>\n",
        "      <td>             None</td>\n",
        "      <td> None</td>\n",
        "      <td> None</td>\n",
        "    </tr>\n",
        "    <tr>\n",
        "      <th>19    </th>\n",
        "      <td>                 None</td>\n",
        "      <td>             None</td>\n",
        "      <td> None</td>\n",
        "      <td> None</td>\n",
        "    </tr>\n",
        "    <tr>\n",
        "      <th>20    </th>\n",
        "      <td>                 None</td>\n",
        "      <td>             None</td>\n",
        "      <td> None</td>\n",
        "      <td> None</td>\n",
        "    </tr>\n",
        "    <tr>\n",
        "      <th>21    </th>\n",
        "      <td>                 None</td>\n",
        "      <td>             None</td>\n",
        "      <td> None</td>\n",
        "      <td> None</td>\n",
        "    </tr>\n",
        "    <tr>\n",
        "      <th>22    </th>\n",
        "      <td>                 None</td>\n",
        "      <td>             None</td>\n",
        "      <td> None</td>\n",
        "      <td> None</td>\n",
        "    </tr>\n",
        "    <tr>\n",
        "      <th>23    </th>\n",
        "      <td>                 None</td>\n",
        "      <td>             None</td>\n",
        "      <td> None</td>\n",
        "      <td> None</td>\n",
        "    </tr>\n",
        "    <tr>\n",
        "      <th>24    </th>\n",
        "      <td>                 None</td>\n",
        "      <td>             None</td>\n",
        "      <td> None</td>\n",
        "      <td> None</td>\n",
        "    </tr>\n",
        "    <tr>\n",
        "      <th>25    </th>\n",
        "      <td>                 None</td>\n",
        "      <td>             None</td>\n",
        "      <td> None</td>\n",
        "      <td> None</td>\n",
        "    </tr>\n",
        "    <tr>\n",
        "      <th>26    </th>\n",
        "      <td>                 None</td>\n",
        "      <td>             None</td>\n",
        "      <td> None</td>\n",
        "      <td> None</td>\n",
        "    </tr>\n",
        "    <tr>\n",
        "      <th>27    </th>\n",
        "      <td>                 None</td>\n",
        "      <td>             None</td>\n",
        "      <td> None</td>\n",
        "      <td> None</td>\n",
        "    </tr>\n",
        "    <tr>\n",
        "      <th>28    </th>\n",
        "      <td>                 None</td>\n",
        "      <td>             None</td>\n",
        "      <td> None</td>\n",
        "      <td> None</td>\n",
        "    </tr>\n",
        "    <tr>\n",
        "      <th>29    </th>\n",
        "      <td>                 None</td>\n",
        "      <td>             None</td>\n",
        "      <td> None</td>\n",
        "      <td> None</td>\n",
        "    </tr>\n",
        "    <tr>\n",
        "      <th>...</th>\n",
        "      <td>...</td>\n",
        "      <td>...</td>\n",
        "      <td>...</td>\n",
        "      <td>...</td>\n",
        "    </tr>\n",
        "    <tr>\n",
        "      <th>141220</th>\n",
        "      <td>       Conflict Zones</td>\n",
        "      <td>             None</td>\n",
        "      <td> None</td>\n",
        "      <td> None</td>\n",
        "    </tr>\n",
        "    <tr>\n",
        "      <th>141221</th>\n",
        "      <td>    Vulnerable Groups</td>\n",
        "      <td>             None</td>\n",
        "      <td> None</td>\n",
        "      <td> None</td>\n",
        "    </tr>\n",
        "    <tr>\n",
        "      <th>141222</th>\n",
        "      <td>                 None</td>\n",
        "      <td>             None</td>\n",
        "      <td> None</td>\n",
        "      <td> None</td>\n",
        "    </tr>\n",
        "    <tr>\n",
        "      <th>141223</th>\n",
        "      <td>                 None</td>\n",
        "      <td>             None</td>\n",
        "      <td> None</td>\n",
        "      <td> None</td>\n",
        "    </tr>\n",
        "    <tr>\n",
        "      <th>141224</th>\n",
        "      <td>                 None</td>\n",
        "      <td>             None</td>\n",
        "      <td> None</td>\n",
        "      <td> None</td>\n",
        "    </tr>\n",
        "    <tr>\n",
        "      <th>141225</th>\n",
        "      <td>             Start-Up</td>\n",
        "      <td>             None</td>\n",
        "      <td> None</td>\n",
        "      <td> None</td>\n",
        "    </tr>\n",
        "    <tr>\n",
        "      <th>141226</th>\n",
        "      <td>                 None</td>\n",
        "      <td>             None</td>\n",
        "      <td> None</td>\n",
        "      <td> None</td>\n",
        "    </tr>\n",
        "    <tr>\n",
        "      <th>141227</th>\n",
        "      <td>                 None</td>\n",
        "      <td>             None</td>\n",
        "      <td> None</td>\n",
        "      <td> None</td>\n",
        "    </tr>\n",
        "    <tr>\n",
        "      <th>141228</th>\n",
        "      <td>                 None</td>\n",
        "      <td>             None</td>\n",
        "      <td> None</td>\n",
        "      <td> None</td>\n",
        "    </tr>\n",
        "    <tr>\n",
        "      <th>141229</th>\n",
        "      <td>                 None</td>\n",
        "      <td>             None</td>\n",
        "      <td> None</td>\n",
        "      <td> None</td>\n",
        "    </tr>\n",
        "    <tr>\n",
        "      <th>141230</th>\n",
        "      <td>                 None</td>\n",
        "      <td>             None</td>\n",
        "      <td> None</td>\n",
        "      <td> None</td>\n",
        "    </tr>\n",
        "    <tr>\n",
        "      <th>141231</th>\n",
        "      <td>                 None</td>\n",
        "      <td>             None</td>\n",
        "      <td> None</td>\n",
        "      <td> None</td>\n",
        "    </tr>\n",
        "    <tr>\n",
        "      <th>141232</th>\n",
        "      <td>                 None</td>\n",
        "      <td>             None</td>\n",
        "      <td> None</td>\n",
        "      <td> None</td>\n",
        "    </tr>\n",
        "    <tr>\n",
        "      <th>141233</th>\n",
        "      <td>                 None</td>\n",
        "      <td>             None</td>\n",
        "      <td> None</td>\n",
        "      <td> None</td>\n",
        "    </tr>\n",
        "    <tr>\n",
        "      <th>141234</th>\n",
        "      <td>                 None</td>\n",
        "      <td>             None</td>\n",
        "      <td> None</td>\n",
        "      <td> None</td>\n",
        "    </tr>\n",
        "    <tr>\n",
        "      <th>141235</th>\n",
        "      <td>                 None</td>\n",
        "      <td>             None</td>\n",
        "      <td> None</td>\n",
        "      <td> None</td>\n",
        "    </tr>\n",
        "    <tr>\n",
        "      <th>141236</th>\n",
        "      <td>                 None</td>\n",
        "      <td>             None</td>\n",
        "      <td> None</td>\n",
        "      <td> None</td>\n",
        "    </tr>\n",
        "    <tr>\n",
        "      <th>141237</th>\n",
        "      <td>                 None</td>\n",
        "      <td>             None</td>\n",
        "      <td> None</td>\n",
        "      <td> None</td>\n",
        "    </tr>\n",
        "    <tr>\n",
        "      <th>141238</th>\n",
        "      <td>                 None</td>\n",
        "      <td>             None</td>\n",
        "      <td> None</td>\n",
        "      <td> None</td>\n",
        "    </tr>\n",
        "    <tr>\n",
        "      <th>141239</th>\n",
        "      <td>    Underfunded Areas</td>\n",
        "      <td>             None</td>\n",
        "      <td> None</td>\n",
        "      <td> None</td>\n",
        "    </tr>\n",
        "    <tr>\n",
        "      <th>141240</th>\n",
        "      <td>    Underfunded Areas</td>\n",
        "      <td>             None</td>\n",
        "      <td> None</td>\n",
        "      <td> None</td>\n",
        "    </tr>\n",
        "    <tr>\n",
        "      <th>141241</th>\n",
        "      <td>                 None</td>\n",
        "      <td>             None</td>\n",
        "      <td> None</td>\n",
        "      <td> None</td>\n",
        "    </tr>\n",
        "    <tr>\n",
        "      <th>141242</th>\n",
        "      <td>                 None</td>\n",
        "      <td>             None</td>\n",
        "      <td> None</td>\n",
        "      <td> None</td>\n",
        "    </tr>\n",
        "    <tr>\n",
        "      <th>141243</th>\n",
        "      <td>                 None</td>\n",
        "      <td>             None</td>\n",
        "      <td> None</td>\n",
        "      <td> None</td>\n",
        "    </tr>\n",
        "    <tr>\n",
        "      <th>141244</th>\n",
        "      <td> Water and Sanitation</td>\n",
        "      <td> Innovative Loans</td>\n",
        "      <td> None</td>\n",
        "      <td> None</td>\n",
        "    </tr>\n",
        "    <tr>\n",
        "      <th>141245</th>\n",
        "      <td>                 None</td>\n",
        "      <td>             None</td>\n",
        "      <td> None</td>\n",
        "      <td> None</td>\n",
        "    </tr>\n",
        "    <tr>\n",
        "      <th>141246</th>\n",
        "      <td>                 None</td>\n",
        "      <td>             None</td>\n",
        "      <td> None</td>\n",
        "      <td> None</td>\n",
        "    </tr>\n",
        "    <tr>\n",
        "      <th>141247</th>\n",
        "      <td>             Start-Up</td>\n",
        "      <td>             None</td>\n",
        "      <td> None</td>\n",
        "      <td> None</td>\n",
        "    </tr>\n",
        "    <tr>\n",
        "      <th>141248</th>\n",
        "      <td>                 None</td>\n",
        "      <td>             None</td>\n",
        "      <td> None</td>\n",
        "      <td> None</td>\n",
        "    </tr>\n",
        "    <tr>\n",
        "      <th>141249</th>\n",
        "      <td>                 None</td>\n",
        "      <td>             None</td>\n",
        "      <td> None</td>\n",
        "      <td> None</td>\n",
        "    </tr>\n",
        "  </tbody>\n",
        "</table>\n",
        "<p>141250 rows \u00d7 4 columns</p>\n",
        "</div>"
       ],
       "metadata": {},
       "output_type": "pyout",
       "prompt_number": 58,
       "text": [
        "                           0                 1     2     3\n",
        "0          Underfunded Areas              None  None  None\n",
        "1                       None              None  None  None\n",
        "2                       None              None  None  None\n",
        "3            Rural Exclusion              None  None  None\n",
        "4          Vulnerable Groups              None  None  None\n",
        "5             Conflict Zones              None  None  None\n",
        "6          Vulnerable Groups              None  None  None\n",
        "7                       None              None  None  None\n",
        "8                       None              None  None  None\n",
        "9                       None              None  None  None\n",
        "10         Vulnerable Groups              None  None  None\n",
        "11                      None              None  None  None\n",
        "12                      None              None  None  None\n",
        "13                      None              None  None  None\n",
        "14            Conflict Zones              None  None  None\n",
        "15                      None              None  None  None\n",
        "16         Mobile Technology  Innovative Loans  None  None\n",
        "17                      None              None  None  None\n",
        "18                      None              None  None  None\n",
        "19                      None              None  None  None\n",
        "20                      None              None  None  None\n",
        "21                      None              None  None  None\n",
        "22                      None              None  None  None\n",
        "23                      None              None  None  None\n",
        "24                      None              None  None  None\n",
        "25                      None              None  None  None\n",
        "26                      None              None  None  None\n",
        "27                      None              None  None  None\n",
        "28                      None              None  None  None\n",
        "29                      None              None  None  None\n",
        "...                      ...               ...   ...   ...\n",
        "141220        Conflict Zones              None  None  None\n",
        "141221     Vulnerable Groups              None  None  None\n",
        "141222                  None              None  None  None\n",
        "141223                  None              None  None  None\n",
        "141224                  None              None  None  None\n",
        "141225              Start-Up              None  None  None\n",
        "141226                  None              None  None  None\n",
        "141227                  None              None  None  None\n",
        "141228                  None              None  None  None\n",
        "141229                  None              None  None  None\n",
        "141230                  None              None  None  None\n",
        "141231                  None              None  None  None\n",
        "141232                  None              None  None  None\n",
        "141233                  None              None  None  None\n",
        "141234                  None              None  None  None\n",
        "141235                  None              None  None  None\n",
        "141236                  None              None  None  None\n",
        "141237                  None              None  None  None\n",
        "141238                  None              None  None  None\n",
        "141239     Underfunded Areas              None  None  None\n",
        "141240     Underfunded Areas              None  None  None\n",
        "141241                  None              None  None  None\n",
        "141242                  None              None  None  None\n",
        "141243                  None              None  None  None\n",
        "141244  Water and Sanitation  Innovative Loans  None  None\n",
        "141245                  None              None  None  None\n",
        "141246                  None              None  None  None\n",
        "141247              Start-Up              None  None  None\n",
        "141248                  None              None  None  None\n",
        "141249                  None              None  None  None\n",
        "\n",
        "[141250 rows x 4 columns]"
       ]
      }
     ],
     "prompt_number": 58
    },
    {
     "cell_type": "code",
     "collapsed": false,
     "input": [
      "zz[0].unique()"
     ],
     "language": "python",
     "metadata": {},
     "outputs": [
      {
       "metadata": {},
       "output_type": "pyout",
       "prompt_number": 63,
       "text": [
        "array([u'Underfunded Areas', None, u'Rural Exclusion',\n",
        "       u'Vulnerable Groups', u'Conflict Zones', u'Mobile Technology',\n",
        "       u'Green', u'Higher Education', u'Start-Up', u'Arab Youth', u'SME',\n",
        "       u'Water and Sanitation', u'Youth', u'Islamic Finance',\n",
        "       u'Job Creation', u'Fair Trade', u'Kiva City LA',\n",
        "       u'Innovative Loans', u'Growing Businesses', u'Disaster recovery',\n",
        "       u'Health', u'Kiva City Detroit'], dtype=object)"
       ]
      }
     ],
     "prompt_number": 63
    },
    {
     "cell_type": "code",
     "collapsed": false,
     "input": [
      "bb"
     ],
     "language": "python",
     "metadata": {},
     "outputs": [
      {
       "metadata": {},
       "output_type": "pyout",
       "prompt_number": 65,
       "text": [
        "638631    [Underfunded Areas]\n",
        "641006                     []\n",
        "641019                     []\n",
        "641594      [Rural Exclusion]\n",
        "642256    [Vulnerable Groups]\n",
        "642311       [Conflict Zones]\n",
        "642353    [Vulnerable Groups]\n",
        "642386                     []\n",
        "642429                     []\n",
        "642836                     []\n",
        "643267    [Vulnerable Groups]\n",
        "643288                     []\n",
        "643402                     []\n",
        "643761                     []\n",
        "644101       [Conflict Zones]\n",
        "...\n",
        "797968                                          []\n",
        "797970                                          []\n",
        "797971                                          []\n",
        "797972                                          []\n",
        "797973                         [Underfunded Areas]\n",
        "797974                         [Underfunded Areas]\n",
        "797977                                          []\n",
        "797978                                          []\n",
        "797979                                          []\n",
        "797980    [Water and Sanitation, Innovative Loans]\n",
        "797982                                          []\n",
        "797983                                          []\n",
        "797984                                  [Start-Up]\n",
        "797985                                          []\n",
        "797987                                          []\n",
        "Name: themes, Length: 141250, dtype: object"
       ]
      }
     ],
     "prompt_number": 65
    },
    {
     "cell_type": "code",
     "collapsed": false,
     "input": [
      "bb.map(lambda x: 'Start-Up' in x)"
     ],
     "language": "python",
     "metadata": {},
     "outputs": [
      {
       "metadata": {},
       "output_type": "pyout",
       "prompt_number": 67,
       "text": [
        "638631    False\n",
        "641006    False\n",
        "641019    False\n",
        "641594    False\n",
        "642256    False\n",
        "642311    False\n",
        "642353    False\n",
        "642386    False\n",
        "642429    False\n",
        "642836    False\n",
        "643267    False\n",
        "643288    False\n",
        "643402    False\n",
        "643761    False\n",
        "644101    False\n",
        "...\n",
        "797968    False\n",
        "797970    False\n",
        "797971    False\n",
        "797972    False\n",
        "797973    False\n",
        "797974    False\n",
        "797977    False\n",
        "797978    False\n",
        "797979    False\n",
        "797980    False\n",
        "797982    False\n",
        "797983    False\n",
        "797984     True\n",
        "797985    False\n",
        "797987    False\n",
        "Name: themes, Length: 141250, dtype: bool"
       ]
      }
     ],
     "prompt_number": 67
    },
    {
     "cell_type": "code",
     "collapsed": false,
     "input": [
      "df.themes"
     ],
     "language": "python",
     "metadata": {},
     "outputs": [
      {
       "metadata": {},
       "output_type": "pyout",
       "prompt_number": 64,
       "text": [
        "False"
       ]
      }
     ],
     "prompt_number": 64
    },
    {
     "cell_type": "code",
     "collapsed": false,
     "input": [
      "aa.map(lambda x: 0 if type(x) == none)"
     ],
     "language": "python",
     "metadata": {},
     "outputs": [
      {
       "ename": "SyntaxError",
       "evalue": "invalid syntax (<ipython-input-20-b8160a992f10>, line 1)",
       "output_type": "pyerr",
       "traceback": [
        "\u001b[1;36m  File \u001b[1;32m\"<ipython-input-20-b8160a992f10>\"\u001b[1;36m, line \u001b[1;32m1\u001b[0m\n\u001b[1;33m    aa.map(lambda x: 0 if type(x) == none)\u001b[0m\n\u001b[1;37m                                         ^\u001b[0m\n\u001b[1;31mSyntaxError\u001b[0m\u001b[1;31m:\u001b[0m invalid syntax\n"
       ]
      }
     ],
     "prompt_number": 20
    },
    {
     "cell_type": "code",
     "collapsed": false,
     "input": [
      "df = model.dum(df)\n"
     ],
     "language": "python",
     "metadata": {},
     "outputs": [],
     "prompt_number": 46
    },
    {
     "cell_type": "code",
     "collapsed": false,
     "input": [
      "X,y = model.get_xy(df)"
     ],
     "language": "python",
     "metadata": {},
     "outputs": [],
     "prompt_number": 47
    },
    {
     "cell_type": "code",
     "collapsed": false,
     "input": [
      "df.columns[5]"
     ],
     "language": "python",
     "metadata": {},
     "outputs": [
      {
       "metadata": {},
       "output_type": "pyout",
       "prompt_number": 50,
       "text": [
        "u'irregular_payments'"
       ]
      }
     ],
     "prompt_number": 50
    },
    {
     "cell_type": "code",
     "collapsed": false,
     "input": [
      "X"
     ],
     "language": "python",
     "metadata": {},
     "outputs": [
      {
       "metadata": {},
       "output_type": "pyout",
       "prompt_number": 14,
       "text": [
        "array([[False, False, False, ..., 0.0, 0.0, 0.0],\n",
        "       [False, False, True, ..., 0.0, 0.0, 0.0],\n",
        "       [False, False, True, ..., 0.0, 0.0, 0.0],\n",
        "       ..., \n",
        "       [False, False, False, ..., 0.0, 0.0, 0.0],\n",
        "       [True, False, False, ..., 0.0, 0.0, 0.0],\n",
        "       [True, False, False, ..., 0.0, 0.0, 0.0]], dtype=object)"
       ]
      }
     ],
     "prompt_number": 14
    },
    {
     "cell_type": "code",
     "collapsed": false,
     "input": [
      "model.oversample_model(X,y,ratio=5)"
     ],
     "language": "python",
     "metadata": {},
     "outputs": [
      {
       "output_type": "stream",
       "stream": "stdout",
       "text": [
        "pct_positive 0.0525302296605\n",
        "true_pos: 0.0313 false_pos: 0.0606\n",
        "true_neg 0.886840540311 false_neg 0.0211820009628\n",
        "recall: 0.596765498652 precision: 0.340825123153\n",
        "[  1.52388738e-02   1.58185916e-03   1.03986001e-02   6.41897305e-02\n",
        "   2.45013838e-02   1.07456169e-01   3.21964069e-01   1.00225856e-02\n",
        "   1.59287423e-01   1.26732497e-02   1.87693497e-03   8.62278897e-03\n",
        "   4.12437034e-03   8.67987474e-03   2.28662421e-04   1.10754451e-02\n",
        "   2.37569096e-03   1.42094020e-02   3.73225376e-03   7.16311933e-03\n",
        "   1.55490712e-02   8.35697395e-03   4.52267931e-03   5.09728690e-04\n",
        "   1.37683553e-03   3.60679343e-03   3.58615446e-03   7.32720009e-05\n",
        "   6.56479426e-04   7.92112539e-04   3.95329938e-03   1.55357663e-05\n",
        "   8.54005252e-05   2.80046294e-04   6.91254594e-05   1.12676780e-06\n",
        "   9.81434892e-04   0.00000000e+00   1.36519084e-02   9.67554591e-04\n",
        "   2.44589889e-04   1.78024458e-03   1.50053982e-03   6.97290865e-04\n",
        "   1.78958118e-03   4.11659807e-03   8.24243983e-04   6.50066199e-03\n",
        "   2.08595073e-04   8.38573559e-04   9.91649462e-04   2.51808658e-03\n",
        "   5.28944813e-03   2.15448228e-03   5.20202816e-03   1.98639768e-04\n",
        "   1.78878705e-03   2.94380773e-04   3.83967629e-05   2.58335506e-03\n",
        "   7.50216920e-05   2.68920427e-03   2.02895811e-05   1.55594331e-05\n",
        "   1.23127891e-03   1.44061808e-03   8.11511790e-04   7.07443354e-03\n",
        "   3.89297218e-05   5.55915645e-05   4.37721874e-03   1.32388863e-02\n",
        "   4.27693330e-03   4.40004853e-03   2.29519317e-03   0.00000000e+00\n",
        "   1.06717583e-03   1.47738739e-10   1.70700228e-03   2.19450091e-03\n",
        "   1.26185890e-06   2.72154500e-04   2.75909257e-02   6.36337457e-04\n",
        "   2.41377296e-06   4.94919042e-03   9.84441938e-04   3.57877020e-06\n",
        "   1.62445477e-03   1.09897324e-03   1.30758102e-02   3.57515539e-03\n",
        "   1.80652922e-05   3.04013788e-03   1.73921445e-06   1.78583862e-03\n",
        "   1.67490340e-03   2.14718968e-03   1.28300472e-04   5.25551559e-05\n",
        "   2.32898185e-03]\n"
       ]
      }
     ],
     "prompt_number": 44
    },
    {
     "cell_type": "code",
     "collapsed": false,
     "input": [
      "df.info()"
     ],
     "language": "python",
     "metadata": {},
     "outputs": [
      {
       "output_type": "stream",
       "stream": "stdout",
       "text": [
        "<class 'pandas.core.frame.DataFrame'>\n",
        "Float64Index: 141250 entries, 638631.0 to 797987.0\n",
        "Columns: 101 entries, bonus_credit_eligibility to ZW\n",
        "dtypes: bool(6), float64(92), int64(3)"
       ]
      }
     ],
     "prompt_number": 35
    },
    {
     "cell_type": "code",
     "collapsed": false,
     "input": [
      "lst = pipe.import_loans('1600s')"
     ],
     "language": "python",
     "metadata": {},
     "outputs": [],
     "prompt_number": 28
    },
    {
     "cell_type": "code",
     "collapsed": false,
     "input": [
      "reload(pipe)"
     ],
     "language": "python",
     "metadata": {},
     "outputs": [
      {
       "metadata": {},
       "output_type": "pyout",
       "prompt_number": 29,
       "text": [
        "<module 'pipe' from '/home/matt/gdrive/final_project/Fundraising-Success/pipe.py'>"
       ]
      }
     ],
     "prompt_number": 29
    },
    {
     "cell_type": "code",
     "collapsed": false,
     "input": [
      "dfr = pipe.build_df(lst)"
     ],
     "language": "python",
     "metadata": {},
     "outputs": [],
     "prompt_number": 31
    },
    {
     "cell_type": "code",
     "collapsed": false,
     "input": [
      "dfr.info()"
     ],
     "language": "python",
     "metadata": {},
     "outputs": [
      {
       "output_type": "stream",
       "stream": "stdout",
       "text": [
        "<class 'pandas.core.frame.DataFrame'>\n",
        "Int64Index: 35333 entries, 0 to 35332\n",
        "Data columns (total 21 columns):\n",
        "activity                    35333 non-null object\n",
        "bonus_credit_eligibility    35333 non-null bool\n",
        "description                 35331 non-null object\n",
        "id                          35333 non-null int64\n",
        "image                       35333 non-null int64\n",
        "loan_amount                 35333 non-null int64\n",
        "name                        35333 non-null object\n",
        "partner_id                  35333 non-null int64\n",
        "posted_date                 35333 non-null datetime64[ns]\n",
        "sector                      35333 non-null object\n",
        "status                      35333 non-null object\n",
        "tags                        35333 non-null object\n",
        "themes                      15979 non-null object\n",
        "use                         35333 non-null object\n",
        "country                     35333 non-null object\n",
        "repayment_interval          35333 non-null object\n",
        "repayment_term              35333 non-null int64\n",
        "currency_loss               35333 non-null object\n",
        "group_size                  35333 non-null int64\n",
        "gender                      35333 non-null object\n",
        "days_available              35333 non-null int64\n",
        "dtypes: bool(1), datetime64[ns](1), int64(7), object(12)"
       ]
      }
     ],
     "prompt_number": 32
    },
    {
     "cell_type": "code",
     "collapsed": false,
     "input": [
      "dfhuh = pd.DataFrame(lst)"
     ],
     "language": "python",
     "metadata": {},
     "outputs": [],
     "prompt_number": 34
    },
    {
     "cell_type": "code",
     "collapsed": false,
     "input": [
      "dfhuh.info()"
     ],
     "language": "python",
     "metadata": {},
     "outputs": [
      {
       "output_type": "stream",
       "stream": "stdout",
       "text": [
        "<class 'pandas.core.frame.DataFrame'>\n",
        "Int64Index: 35333 entries, 0 to 35332\n",
        "Data columns (total 30 columns):\n",
        "activity                         35333 non-null object\n",
        "basket_amount                    5832 non-null float64\n",
        "bonus_credit_eligibility         35333 non-null bool\n",
        "borrowers                        35333 non-null object\n",
        "currency_exchange_loss_amount    43 non-null float64\n",
        "delinquent                       502 non-null object\n",
        "description                      35333 non-null object\n",
        "funded_amount                    35333 non-null int64\n",
        "funded_date                      28459 non-null object\n",
        "id                               35333 non-null int64\n",
        "image                            35333 non-null object\n",
        "journal_totals                   35333 non-null object\n",
        "lender_count                     35333 non-null int64\n",
        "loan_amount                      35333 non-null int64\n",
        "location                         35333 non-null object\n",
        "name                             35333 non-null object\n",
        "paid_amount                      28182 non-null float64\n",
        "paid_date                        285 non-null object\n",
        "partner_id                       35333 non-null int64\n",
        "payments                         35333 non-null object\n",
        "planned_expiration_date          35333 non-null object\n",
        "posted_date                      35333 non-null object\n",
        "sector                           35333 non-null object\n",
        "status                           35333 non-null object\n",
        "tags                             35333 non-null object\n",
        "terms                            35333 non-null object\n",
        "themes                           15979 non-null object\n",
        "translator                       32769 non-null object\n",
        "use                              35333 non-null object\n",
        "video                            5 non-null object\n",
        "dtypes: bool(1), float64(3), int64(5), object(21)"
       ]
      }
     ],
     "prompt_number": 35
    },
    {
     "cell_type": "code",
     "collapsed": false,
     "input": [
      "lst2 = pipe.import_loans('700s')"
     ],
     "language": "python",
     "metadata": {},
     "outputs": [],
     "prompt_number": 2
    },
    {
     "cell_type": "code",
     "collapsed": false,
     "input": [
      "dfhuh2 = pd.DataFrame(lst2)"
     ],
     "language": "python",
     "metadata": {},
     "outputs": [],
     "prompt_number": 3
    },
    {
     "cell_type": "code",
     "collapsed": false,
     "input": [
      "dfhuh2.info()"
     ],
     "language": "python",
     "metadata": {},
     "outputs": [
      {
       "output_type": "stream",
       "stream": "stdout",
       "text": [
        "<class 'pandas.core.frame.DataFrame'>\n",
        "Int64Index: 12000 entries, 0 to 11999\n",
        "Data columns (total 30 columns):\n",
        "activity                         12000 non-null object\n",
        "basket_amount                    0 non-null object\n",
        "bonus_credit_eligibility         12000 non-null bool\n",
        "borrowers                        12000 non-null object\n",
        "currency_exchange_loss_amount    301 non-null float64\n",
        "delinquent                       209 non-null object\n",
        "description                      12000 non-null object\n",
        "funded_amount                    12000 non-null int64\n",
        "funded_date                      11834 non-null object\n",
        "id                               12000 non-null int64\n",
        "image                            12000 non-null object\n",
        "journal_totals                   12000 non-null object\n",
        "lender_count                     12000 non-null int64\n",
        "loan_amount                      12000 non-null int64\n",
        "location                         12000 non-null object\n",
        "name                             12000 non-null object\n",
        "paid_amount                      11607 non-null float64\n",
        "paid_date                        11585 non-null object\n",
        "partner_id                       12000 non-null int64\n",
        "payments                         12000 non-null object\n",
        "planned_expiration_date          12000 non-null object\n",
        "posted_date                      12000 non-null object\n",
        "sector                           12000 non-null object\n",
        "status                           12000 non-null object\n",
        "tags                             12000 non-null object\n",
        "terms                            12000 non-null object\n",
        "themes                           864 non-null object\n",
        "translator                       11181 non-null object\n",
        "use                              12000 non-null object\n",
        "video                            5 non-null object\n",
        "dtypes: bool(1), float64(2), int64(5), object(22)"
       ]
      }
     ],
     "prompt_number": 4
    },
    {
     "cell_type": "code",
     "collapsed": false,
     "input": [
      "lst3 = pipe.import_loans('test/rand')\n",
      "dfhuh3 = pd.DataFrame(lst3)"
     ],
     "language": "python",
     "metadata": {},
     "outputs": [],
     "prompt_number": 7
    },
    {
     "cell_type": "code",
     "collapsed": false,
     "input": [
      "dfhuh3.info()"
     ],
     "language": "python",
     "metadata": {},
     "outputs": [
      {
       "output_type": "stream",
       "stream": "stdout",
       "text": [
        "<class 'pandas.core.frame.DataFrame'>\n",
        "Int64Index: 18000 entries, 0 to 17999\n",
        "Data columns (total 30 columns):\n",
        "activity                         18000 non-null object\n",
        "basket_amount                    0 non-null object\n",
        "bonus_credit_eligibility         18000 non-null bool\n",
        "borrowers                        18000 non-null object\n",
        "currency_exchange_loss_amount    1099 non-null float64\n",
        "delinquent                       1271 non-null object\n",
        "description                      18000 non-null object\n",
        "funded_amount                    18000 non-null int64\n",
        "funded_date                      17542 non-null object\n",
        "id                               18000 non-null int64\n",
        "image                            18000 non-null object\n",
        "journal_totals                   18000 non-null object\n",
        "lender_count                     18000 non-null int64\n",
        "loan_amount                      18000 non-null int64\n",
        "location                         18000 non-null object\n",
        "name                             18000 non-null object\n",
        "paid_amount                      17281 non-null float64\n",
        "paid_date                        10406 non-null object\n",
        "partner_id                       18000 non-null int64\n",
        "payments                         18000 non-null object\n",
        "planned_expiration_date          18000 non-null object\n",
        "posted_date                      18000 non-null object\n",
        "sector                           18000 non-null object\n",
        "status                           18000 non-null object\n",
        "tags                             18000 non-null object\n",
        "terms                            18000 non-null object\n",
        "themes                           5200 non-null object\n",
        "translator                       16712 non-null object\n",
        "use                              18000 non-null object\n",
        "video                            10 non-null object\n",
        "dtypes: bool(1), float64(2), int64(5), object(22)"
       ]
      }
     ],
     "prompt_number": 8
    },
    {
     "cell_type": "code",
     "collapsed": false,
     "input": [
      "theme_list = sorted([u'Underfunded Areas', u'Rural Exclusion',\n",
      "       u'Vulnerable Groups', u'Conflict Zones', u'Mobile Technology',\n",
      "       u'Green', u'Higher Education', u'Start-Up', u'Arab Youth', u'SME',\n",
      "       u'Water and Sanitation', u'Youth', u'Islamic Finance',\n",
      "       u'Job Creation', u'Fair Trade', u'Kiva City LA',\n",
      "       u'Innovative Loans', u'Growing Businesses', u'Disaster recovery',\n",
      "       u'Health', u'Kiva City Detroit', 'Flexible Credit Study'])"
     ],
     "language": "python",
     "metadata": {},
     "outputs": [],
     "prompt_number": 76
    },
    {
     "cell_type": "code",
     "collapsed": false,
     "input": [],
     "language": "python",
     "metadata": {},
     "outputs": []
    },
    {
     "cell_type": "code",
     "collapsed": false,
     "input": [
      "bb.map(lambda x: 'Flexible Credit Study' in x).mean()"
     ],
     "language": "python",
     "metadata": {},
     "outputs": [
      {
       "metadata": {},
       "output_type": "pyout",
       "prompt_number": 74,
       "text": [
        "0.00072920353982300888"
       ]
      }
     ],
     "prompt_number": 74
    },
    {
     "cell_type": "code",
     "collapsed": false,
     "input": [
      "df.themes = df.themes.map(lambda x: x if type(x) == list else [])"
     ],
     "language": "python",
     "metadata": {},
     "outputs": [],
     "prompt_number": 82
    },
    {
     "cell_type": "code",
     "collapsed": false,
     "input": [
      "for theme in theme_list:\n",
      "    df[theme] = df.themes.map(lambda x: 'Start-Up' in x)"
     ],
     "language": "python",
     "metadata": {},
     "outputs": [],
     "prompt_number": 83
    },
    {
     "cell_type": "code",
     "collapsed": false,
     "input": [
      "df = model.get_themes(df)"
     ],
     "language": "python",
     "metadata": {},
     "outputs": [],
     "prompt_number": 97
    },
    {
     "cell_type": "code",
     "collapsed": false,
     "input": [
      "df.info()"
     ],
     "language": "python",
     "metadata": {},
     "outputs": [
      {
       "output_type": "stream",
       "stream": "stdout",
       "text": [
        "<class 'pandas.core.frame.DataFrame'>\n",
        "Float64Index: 141250 entries, 638631.0 to 797987.0\n",
        "Data columns (total 38 columns):\n",
        "activity                    141250 non-null object\n",
        "bonus_credit_eligibility    141250 non-null bool\n",
        "country                     141250 non-null object\n",
        "currency_loss               141250 non-null bool\n",
        "dollars                     141250 non-null bool\n",
        "expired                     141250 non-null bool\n",
        "gender                      141250 non-null bool\n",
        "group_size                  141250 non-null int64\n",
        "irregular_payments          141250 non-null bool\n",
        "loan_amount                 141250 non-null int64\n",
        "pay_at_end                  141250 non-null bool\n",
        "posted_date                 141250 non-null datetime64[ns]\n",
        "repayment_term              141250 non-null int64\n",
        "sector                      141250 non-null object\n",
        "tags                        141250 non-null object\n",
        "use                         141250 non-null object\n",
        "Arab Youth                  141250 non-null bool\n",
        "Conflict Zones              141250 non-null bool\n",
        "Disaster recovery           141250 non-null bool\n",
        "Fair Trade                  141250 non-null bool\n",
        "Flexible Credit Study       141250 non-null bool\n",
        "Green                       141250 non-null bool\n",
        "Growing Businesses          141250 non-null bool\n",
        "Health                      141250 non-null bool\n",
        "Higher Education            141250 non-null bool\n",
        "Innovative Loans            141250 non-null bool\n",
        "Islamic Finance             141250 non-null bool\n",
        "Job Creation                141250 non-null bool\n",
        "Kiva City Detroit           141250 non-null bool\n",
        "Kiva City LA                141250 non-null bool\n",
        "Mobile Technology           141250 non-null bool\n",
        "Rural Exclusion             141250 non-null bool\n",
        "SME                         141250 non-null bool\n",
        "Start-Up                    141250 non-null bool\n",
        "Underfunded Areas           141250 non-null bool\n",
        "Vulnerable Groups           141250 non-null bool\n",
        "Water and Sanitation        141250 non-null bool\n",
        "Youth                       141250 non-null bool\n",
        "dtypes: bool(29), datetime64[ns](1), int64(3), object(5)"
       ]
      }
     ],
     "prompt_number": 98
    },
    {
     "cell_type": "code",
     "collapsed": false,
     "input": [
      "df[df['Job Creation']].count()"
     ],
     "language": "python",
     "metadata": {},
     "outputs": [
      {
       "metadata": {},
       "output_type": "pyout",
       "prompt_number": 101,
       "text": [
        "activity                    264\n",
        "bonus_credit_eligibility    264\n",
        "country                     264\n",
        "currency_loss               264\n",
        "dollars                     264\n",
        "expired                     264\n",
        "gender                      264\n",
        "group_size                  264\n",
        "irregular_payments          264\n",
        "loan_amount                 264\n",
        "pay_at_end                  264\n",
        "posted_date                 264\n",
        "repayment_term              264\n",
        "sector                      264\n",
        "tags                        264\n",
        "use                         264\n",
        "Arab Youth                  264\n",
        "Conflict Zones              264\n",
        "Disaster recovery           264\n",
        "Fair Trade                  264\n",
        "Flexible Credit Study       264\n",
        "Green                       264\n",
        "Growing Businesses          264\n",
        "Health                      264\n",
        "Higher Education            264\n",
        "Innovative Loans            264\n",
        "Islamic Finance             264\n",
        "Job Creation                264\n",
        "Kiva City Detroit           264\n",
        "Kiva City LA                264\n",
        "Mobile Technology           264\n",
        "Rural Exclusion             264\n",
        "SME                         264\n",
        "Start-Up                    264\n",
        "Underfunded Areas           264\n",
        "Vulnerable Groups           264\n",
        "Water and Sanitation        264\n",
        "Youth                       264\n",
        "dtype: int64"
       ]
      }
     ],
     "prompt_number": 101
    },
    {
     "cell_type": "code",
     "collapsed": false,
     "input": [
      "df[df['Green']].count()"
     ],
     "language": "python",
     "metadata": {},
     "outputs": [
      {
       "metadata": {},
       "output_type": "pyout",
       "prompt_number": 102,
       "text": [
        "activity                    1954\n",
        "bonus_credit_eligibility    1954\n",
        "country                     1954\n",
        "currency_loss               1954\n",
        "dollars                     1954\n",
        "expired                     1954\n",
        "gender                      1954\n",
        "group_size                  1954\n",
        "irregular_payments          1954\n",
        "loan_amount                 1954\n",
        "pay_at_end                  1954\n",
        "posted_date                 1954\n",
        "repayment_term              1954\n",
        "sector                      1954\n",
        "tags                        1954\n",
        "use                         1954\n",
        "Arab Youth                  1954\n",
        "Conflict Zones              1954\n",
        "Disaster recovery           1954\n",
        "Fair Trade                  1954\n",
        "Flexible Credit Study       1954\n",
        "Green                       1954\n",
        "Growing Businesses          1954\n",
        "Health                      1954\n",
        "Higher Education            1954\n",
        "Innovative Loans            1954\n",
        "Islamic Finance             1954\n",
        "Job Creation                1954\n",
        "Kiva City Detroit           1954\n",
        "Kiva City LA                1954\n",
        "Mobile Technology           1954\n",
        "Rural Exclusion             1954\n",
        "SME                         1954\n",
        "Start-Up                    1954\n",
        "Underfunded Areas           1954\n",
        "Vulnerable Groups           1954\n",
        "Water and Sanitation        1954\n",
        "Youth                       1954\n",
        "dtype: int64"
       ]
      }
     ],
     "prompt_number": 102
    },
    {
     "cell_type": "code",
     "collapsed": false,
     "input": [
      "df[df.posted_date < '2014-04-01'].expired.mean()"
     ],
     "language": "python",
     "metadata": {},
     "outputs": [
      {
       "metadata": {},
       "output_type": "pyout",
       "prompt_number": 17,
       "text": [
        "0.015252775681793684"
       ]
      }
     ],
     "prompt_number": 17
    },
    {
     "cell_type": "code",
     "collapsed": false,
     "input": [
      "hf = df[(df.posted_date > '2014-4-01') & (df.posted_date < '2014-12-01')].copy()"
     ],
     "language": "python",
     "metadata": {},
     "outputs": [],
     "prompt_number": 243
    },
    {
     "cell_type": "code",
     "collapsed": false,
     "input": [
      "hf = model.dum(hf)"
     ],
     "language": "python",
     "metadata": {},
     "outputs": [],
     "prompt_number": 11
    },
    {
     "cell_type": "code",
     "collapsed": false,
     "input": [
      "hf.info()"
     ],
     "language": "python",
     "metadata": {},
     "outputs": [
      {
       "output_type": "stream",
       "stream": "stdout",
       "text": [
        "<class 'pandas.core.frame.DataFrame'>\n",
        "Float64Index: 104142 entries, 667730.0 to 797987.0\n",
        "Columns: 123 entries, bonus_credit_eligibility to ZW\n",
        "dtypes: bool(29), float64(91), int64(3)"
       ]
      }
     ],
     "prompt_number": 9
    },
    {
     "cell_type": "code",
     "collapsed": false,
     "input": [
      "x,y = model.get_xy(hf)"
     ],
     "language": "python",
     "metadata": {},
     "outputs": [],
     "prompt_number": 12
    },
    {
     "cell_type": "code",
     "collapsed": false,
     "input": [
      "x,y"
     ],
     "language": "python",
     "metadata": {},
     "outputs": [
      {
       "metadata": {},
       "output_type": "pyout",
       "prompt_number": 13,
       "text": [
        "(array([[False, False, False, ..., 0.0, 0.0, 0.0],\n",
        "        [False, False, False, ..., 0.0, 0.0, 0.0],\n",
        "        [False, False, True, ..., 0.0, 0.0, 0.0],\n",
        "        ..., \n",
        "        [False, False, False, ..., 0.0, 0.0, 0.0],\n",
        "        [True, False, False, ..., 0.0, 0.0, 0.0],\n",
        "        [True, False, False, ..., 0.0, 0.0, 0.0]], dtype=object),\n",
        " array([False, False, False, ..., False, False, False], dtype=bool))"
       ]
      }
     ],
     "prompt_number": 13
    },
    {
     "cell_type": "code",
     "collapsed": false,
     "input": [
      "column_list = hf.columns\n"
     ],
     "language": "python",
     "metadata": {},
     "outputs": [],
     "prompt_number": 14
    },
    {
     "cell_type": "code",
     "collapsed": false,
     "input": [
      "rf = model.oversample_model(x,y)\n"
     ],
     "language": "python",
     "metadata": {},
     "outputs": [
      {
       "output_type": "stream",
       "stream": "stdout",
       "text": [
        "(26036, 122) (26036,)\n",
        "(72922, 122) (72922,)\n",
        "pct_positive"
       ]
      },
      {
       "output_type": "stream",
       "stream": "stdout",
       "text": [
        " 0.0654478414503\n",
        "true_pos: 0.0567 false_pos: 0.1521\n",
        "true_neg 0.782455062222 false_neg 0.00879551390383\n",
        "recall: 0.865610328638 precision: 0.271389144434\n"
       ]
      }
     ],
     "prompt_number": 15
    },
    {
     "cell_type": "code",
     "collapsed": false,
     "input": [
      "mod = model.funding_model()"
     ],
     "language": "python",
     "metadata": {},
     "outputs": [],
     "prompt_number": 102
    },
    {
     "cell_type": "code",
     "collapsed": false,
     "input": [
      "hf = df[(df.posted_date > '2014-4-01') & (df.posted_date < '2014-11-01')]"
     ],
     "language": "python",
     "metadata": {},
     "outputs": [],
     "prompt_number": 91
    },
    {
     "cell_type": "code",
     "collapsed": false,
     "input": [
      "tf = df[(df.posted_date > '2014-11-01') & (df.posted_date < '2014-12-01')]"
     ],
     "language": "python",
     "metadata": {},
     "outputs": [],
     "prompt_number": 92
    },
    {
     "cell_type": "code",
     "collapsed": false,
     "input": [
      "zf = df[(df.posted_date > '2014-1-01') & (df.posted_date < '2014-4-01')]"
     ],
     "language": "python",
     "metadata": {},
     "outputs": [],
     "prompt_number": 93
    },
    {
     "cell_type": "code",
     "collapsed": true,
     "input": [
      "tf.info()"
     ],
     "language": "python",
     "metadata": {},
     "outputs": [
      {
       "output_type": "stream",
       "stream": "stdout",
       "text": [
        "<class 'pandas.core.frame.DataFrame'>\n",
        "Float64Index: 8309 entries, 777202.0 to 797987.0\n",
        "Data columns (total 17 columns):\n",
        "activity                    8309 non-null object\n",
        "bonus_credit_eligibility    8309 non-null bool\n",
        "country                     8309 non-null object\n",
        "currency_loss               8309 non-null bool\n",
        "dollars                     8309 non-null bool\n",
        "expired                     8309 non-null bool\n",
        "gender                      8309 non-null bool\n",
        "group_size                  8309 non-null int64\n",
        "irregular_payments          8309 non-null bool\n",
        "loan_amount                 8309 non-null int64\n",
        "pay_at_end                  8309 non-null bool\n",
        "posted_date                 8309 non-null datetime64[ns]\n",
        "repayment_term              8309 non-null int64\n",
        "sector                      8309 non-null object\n",
        "tags                        8309 non-null object\n",
        "themes                      3163 non-null object\n",
        "use                         8309 non-null object\n",
        "dtypes: bool(7), datetime64[ns](1), int64(3), object(6)"
       ]
      }
     ],
     "prompt_number": 49
    },
    {
     "cell_type": "code",
     "collapsed": false,
     "input": [
      "# hf = mod.transform(hf)"
     ],
     "language": "python",
     "metadata": {},
     "outputs": [],
     "prompt_number": 50
    },
    {
     "cell_type": "code",
     "collapsed": false,
     "input": [
      "# hf.info()"
     ],
     "language": "python",
     "metadata": {},
     "outputs": [],
     "prompt_number": 51
    },
    {
     "cell_type": "code",
     "collapsed": false,
     "input": [
      "# mod.fit_oversample(hf,ratio=.3)"
     ],
     "language": "python",
     "metadata": {},
     "outputs": [],
     "prompt_number": 52
    },
    {
     "cell_type": "code",
     "collapsed": false,
     "input": [
      "mod.transform_fit(hf)"
     ],
     "language": "python",
     "metadata": {},
     "outputs": [
      {
       "output_type": "stream",
       "stream": "stdout",
       "text": [
        "17\n",
        "121"
       ]
      },
      {
       "output_type": "stream",
       "stream": "stdout",
       "text": [
        "\n",
        "[u'AL', u'AM', u'AZ', u'Agriculture', u'Arts', u'BF', u'BI', u'BJ', u'BO', u'BR', u'BZ', u'CD', u'CG', u'CM', u'CO', u'CR', u'Clothing', u'Construction', u'DO', u'EC', u'Education', u'Entertainment', u'Food', u'GE', u'GH', u'GT', u'HN', u'HT', u'Health', u'Housing', u'ID', u'IL', u'IN', u'IQ', u'JO', u'KE', u'KG', u'KH', u'LA', u'LB', u'LR', u'MD', u'ML', u'MM', u'MN', u'MR', u'MW', u'MX', u'MZ', u'Manufacturing', u'NG', u'NI', u'NP', u'PA', u'PE', u'PH', u'PK', u'PS', u'PY', u'Personal Use', u'QS', u'RW', u'Retail', u'SL', u'SN', u'SO', u'SR', u'SV', u'Services', u'TG', u'TH', u'TJ', u'TL', u'TR', u'TZ', u'Transportation', u'UA', u'UG', u'US', u'VC', u'VN', u'VU', u'WS', u'Wholesale', u'XK', u'YE', u'ZA', u'ZM', u'ZW', u'bonus_credit_eligibility', u'currency_loss', u'dollars', u'gender', u'group_size', u'irregular_payments', u'loan_amount', u'pay_at_end', u'repayment_term', 'theme_Arab Youth', 'theme_Conflict Zones', 'theme_Disaster recovery', 'theme_Fair Trade', 'theme_Flexible Credit Study', 'theme_Green', 'theme_Growing Businesses', 'theme_Health', 'theme_Higher Education', 'theme_Innovative Loans', 'theme_Islamic Finance', 'theme_Job Creation', 'theme_Kiva City Detroit', 'theme_Kiva City LA', 'theme_Mobile Technology', 'theme_Rural Exclusion', 'theme_SME', 'theme_Start-Up', 'theme_Underfunded Areas', 'theme_Vulnerable Groups', 'theme_Water and Sanitation', 'theme_Youth', 'theme_none']\n"
       ]
      }
     ],
     "prompt_number": 56
    },
    {
     "cell_type": "code",
     "collapsed": false,
     "input": [
      "mod.predict(tf)"
     ],
     "language": "python",
     "metadata": {},
     "outputs": [
      {
       "output_type": "stream",
       "stream": "stdout",
       "text": [
        "111\n",
        "121\n",
        "12\n",
        "2\n",
        "109\n",
        "121\n",
        "pct_positive"
       ]
      },
      {
       "output_type": "stream",
       "stream": "stdout",
       "text": [
        " 0.140450114334\n",
        "true_pos: 0.0741 false_pos: 0.0874\n",
        "true_neg 0.772174750271 false_neg 0.0663136358166\n",
        "recall: 0.527849185947 precision: 0.459016393443\n"
       ]
      }
     ],
     "prompt_number": 57
    },
    {
     "cell_type": "code",
     "collapsed": false,
     "input": [
      "mod.predict(zf)"
     ],
     "language": "python",
     "metadata": {},
     "outputs": [
      {
       "output_type": "stream",
       "stream": "stdout",
       "text": [
        "113\n",
        "121\n",
        "9\n",
        "1\n",
        "112\n",
        "121\n",
        "pct_positive"
       ]
      },
      {
       "output_type": "stream",
       "stream": "stdout",
       "text": [
        " 0.0152527756818\n",
        "true_pos: 0.0143 false_pos: 0.1529\n",
        "true_neg 0.831842190363 false_neg 0.000997089576372\n",
        "recall: 0.934628975265 precision: 0.0852813154925\n"
       ]
      }
     ],
     "prompt_number": 58
    },
    {
     "cell_type": "code",
     "collapsed": false,
     "input": [
      "tf.info()"
     ],
     "language": "python",
     "metadata": {},
     "outputs": [
      {
       "output_type": "stream",
       "stream": "stdout",
       "text": [
        "<class 'pandas.core.frame.DataFrame'>\n",
        "Float64Index: 8309 entries, 777202.0 to 797987.0\n",
        "Data columns (total 17 columns):\n",
        "activity                    8309 non-null object\n",
        "bonus_credit_eligibility    8309 non-null bool\n",
        "country                     8309 non-null object\n",
        "currency_loss               8309 non-null bool\n",
        "dollars                     8309 non-null bool\n",
        "expired                     8309 non-null bool\n",
        "gender                      8309 non-null bool\n",
        "group_size                  8309 non-null int64\n",
        "irregular_payments          8309 non-null bool\n",
        "loan_amount                 8309 non-null int64\n",
        "pay_at_end                  8309 non-null bool\n",
        "posted_date                 8309 non-null datetime64[ns]\n",
        "repayment_term              8309 non-null int64\n",
        "sector                      8309 non-null object\n",
        "tags                        8309 non-null object\n",
        "themes                      3163 non-null object\n",
        "use                         8309 non-null object\n",
        "dtypes: bool(7), datetime64[ns](1), int64(3), object(6)"
       ]
      }
     ],
     "prompt_number": 39
    },
    {
     "cell_type": "code",
     "collapsed": false,
     "input": [
      "for n in xrange(2,10):\n",
      "    mod.fit_oversample(hf,ratio=.3,split = n)\n",
      "    mod.predict(tf)"
     ],
     "language": "python",
     "metadata": {},
     "outputs": [
      {
       "output_type": "stream",
       "stream": "stdout",
       "text": [
        "pct_positive 0.140450114334\n",
        "true_pos: 0.1305 false_pos: 0.2104\n",
        "true_neg 0.649175592731 false_neg 0.00998916837165\n",
        "recall: 0.928877463582 precision: 0.382768361582\n",
        "pct_positive"
       ]
      },
      {
       "output_type": "stream",
       "stream": "stdout",
       "text": [
        " 0.140450114334\n",
        "true_pos: 0.1047 false_pos: 0.1861\n",
        "true_neg 0.673486580816 false_neg 0.0357443735708\n",
        "recall: 0.745501285347 precision: 0.360099337748\n",
        "pct_positive"
       ]
      },
      {
       "output_type": "stream",
       "stream": "stdout",
       "text": [
        " 0.140450114334\n",
        "true_pos: 0.1028 false_pos: 0.1793\n",
        "true_neg 0.680226260681 false_neg 0.0376699963895\n",
        "recall: 0.731790916881 precision: 0.36433447099\n",
        "pct_positive"
       ]
      },
      {
       "output_type": "stream",
       "stream": "stdout",
       "text": [
        " 0.140450114334\n",
        "true_pos: 0.1099 false_pos: 0.1934\n",
        "true_neg 0.66614514382 false_neg 0.0305692622458\n",
        "recall: 0.7823479006 precision: 0.362301587302\n",
        "pct_positive"
       ]
      },
      {
       "output_type": "stream",
       "stream": "stdout",
       "text": [
        " 0.140450114334\n",
        "true_pos: 0.1035 false_pos: 0.1744\n",
        "true_neg 0.685160669154 false_neg 0.0369478878325\n",
        "recall: 0.736932305056 precision: 0.372455608489\n",
        "pct_positive"
       ]
      },
      {
       "output_type": "stream",
       "stream": "stdout",
       "text": [
        " 0.140450114334\n",
        "true_pos: 0.109 false_pos: 0.1844\n",
        "true_neg 0.675171500782 false_neg 0.0314117222289\n",
        "recall: 0.776349614396 precision: 0.371616078753\n",
        "pct_positive"
       ]
      },
      {
       "output_type": "stream",
       "stream": "stdout",
       "text": [
        " 0.140450114334\n",
        "true_pos: 0.1172 false_pos: 0.1932\n",
        "true_neg 0.666385846672 false_neg 0.0232278252497\n",
        "recall: 0.834618680377 precision: 0.377665761923\n",
        "pct_positive"
       ]
      },
      {
       "output_type": "stream",
       "stream": "stdout",
       "text": [
        " 0.140450114334\n",
        "true_pos: 0.0956 false_pos: 0.1804\n",
        "true_neg 0.679143097846 false_neg 0.0448910819593\n",
        "recall: 0.680377035133 precision: 0.346271260358\n"
       ]
      }
     ],
     "prompt_number": 14
    },
    {
     "cell_type": "code",
     "collapsed": false,
     "input": [
      "mod.feat_imp()"
     ],
     "language": "python",
     "metadata": {},
     "outputs": [
      {
       "output_type": "stream",
       "stream": "stdout",
       "text": [
        "Index([u'bonus_credit_eligibility', u'currency_loss', u'dollars', u'gender', u'group_size', u'irregular_payments', u'loan_amount', u'pay_at_end', u'repayment_term', u'theme_Arab Youth', u'theme_Conflict Zones', u'theme_Disaster recovery', u'theme_Fair Trade', u'theme_Flexible Credit Study', u'theme_Green', u'theme_Growing Businesses', u'theme_Health', u'theme_Higher Education', u'theme_Innovative Loans', u'theme_Islamic Finance', u'theme_Job Creation', u'theme_Kiva City Detroit', u'theme_Kiva City LA', u'theme_Mobile Technology', u'theme_Rural Exclusion', u'theme_SME', u'theme_Start-Up', u'theme_Underfunded Areas', u'theme_Vulnerable Groups', u'theme_Water and Sanitation', u'theme_Youth', u'theme_none', u'Agriculture', u'Arts', u'Clothing', u'Construction', u'Education', u'Entertainment', u'Food', u'Health', u'Housing', u'Manufacturing', u'Personal Use', u'Retail', u'Services', u'Transportation', u'Wholesale', u'AL', u'AM', u'AZ', u'BF', u'BI', u'BJ', u'BO', u'BR', u'BZ', u'CD', u'CG', u'CM', u'CO', u'CR', u'DO', u'EC', u'GE', u'GH', u'GT', u'HN', u'HT', u'ID', u'IL', u'IN', u'IQ', u'JO', u'KE', u'KG', u'KH', u'LA', u'LB', u'LR', u'MD', u'ML', u'MM', u'MN', u'MR', u'MW', u'MX', u'MZ', u'NG', u'NI', u'NP', u'PA', u'PE', u'PH', u'PK', u'PS', u'PY', u'QS', u'RW', u'SL', u'SN', ...], dtype='object')\n",
        "Index([u'bonus_credit_eligibility', u'currency_loss', u'dollars', u'gender', u'group_size', u'irregular_payments', u'loan_amount', u'pay_at_end', u'repayment_term', u'theme_Arab Youth', u'theme_Conflict Zones', u'theme_Disaster recovery', u'theme_Fair Trade', u'theme_Flexible Credit Study', u'theme_Green', u'theme_Growing Businesses', u'theme_Health', u'theme_Higher Education', u'theme_Innovative Loans', u'theme_Islamic Finance', u'theme_Job Creation', u'theme_Kiva City Detroit', u'theme_Kiva City LA', u'theme_Mobile Technology', u'theme_Rural Exclusion', u'theme_SME', u'theme_Start-Up', u'theme_Underfunded Areas', u'theme_Vulnerable Groups', u'theme_Water and Sanitation', u'theme_Youth', u'theme_none', u'Agriculture', u'Arts', u'Clothing', u'Construction', u'Education', u'Entertainment', u'Food', u'Health', u'Housing', u'Manufacturing', u'Personal Use', u'Retail', u'Services', u'Transportation', u'Wholesale', u'AL', u'AM', u'AZ', u'BF', u'BI', u'BJ', u'BO', u'BR', u'BZ', u'CD', u'CG', u'CM', u'CO', u'CR', u'DO', u'EC', u'GE', u'GH', u'GT', u'HN', u'HT', u'ID', u'IL', u'IN', u'IQ', u'JO', u'KE', u'KG', u'KH', u'LA', u'LB', u'LR', u'MD', u'ML', u'MM', u'MN', u'MR', u'MW', u'MX', u'MZ', u'NG', u'NI', u'NP', u'PA', u'PE', u'PH', u'PK', u'PS', u'PY', u'QS', u'RW', u'SL', u'SN', ...], dtype='object')\n",
        "[  1.45869483e-02   0.00000000e+00   9.91108002e-03   6.72033956e-02\n",
        "   2.20500564e-02   1.27792928e-01   2.62659165e-01   9.32193223e-03\n",
        "   1.61264777e-01   1.02226907e-03   4.11463783e-03   1.50477338e-03\n",
        "   6.63833873e-04   3.53191313e-04   3.31399310e-03   8.17705140e-04\n",
        "   0.00000000e+00   2.22881705e-03   2.31411624e-03   1.57757250e-03\n",
        "   7.63129976e-04   0.00000000e+00   1.67053625e-04   4.09318422e-03\n",
        "   6.13319790e-03   8.76295587e-05   2.50277711e-03   5.42143520e-03\n",
        "   4.85292229e-03   3.90271449e-03   5.06610701e-03   1.41701564e-02\n",
        "   1.31793287e-02   2.63368567e-03   6.37545534e-03   2.36084357e-03\n",
        "   8.35401712e-03   2.99392100e-04   1.07479343e-02   2.96120382e-03\n",
        "   1.25024091e-02   3.98890269e-03   6.00847485e-03   1.29044405e-02\n",
        "   7.87657827e-03   3.81210180e-03   9.22551157e-04   6.27987566e-04\n",
        "   2.71049292e-03   1.32587355e-03   9.31406508e-05   2.03367934e-04\n",
        "   1.32743945e-03   3.11335910e-03   0.00000000e+00   1.38192593e-04\n",
        "   4.51863070e-04   2.01360729e-05   7.48692278e-04   9.66893334e-03\n",
        "   9.05706259e-04   3.60650112e-04   2.38687783e-03   5.74702506e-04\n",
        "   6.64868612e-04   1.63445579e-03   2.67370138e-03   1.44103128e-03\n",
        "   4.77535104e-03   0.00000000e+00   9.62814324e-04   3.12150471e-03\n",
        "   2.19955231e-03   7.87101357e-03   1.30309420e-03   1.12478047e-02\n",
        "   6.68097523e-05   1.91582821e-03   7.58273423e-04   0.00000000e+00\n",
        "   2.08671930e-03   1.53512782e-04   1.17922953e-03   0.00000000e+00\n",
        "   4.37385528e-05   1.36754780e-03   7.89601121e-04   3.83548326e-03\n",
        "   4.42646291e-03   1.46413086e-05   0.00000000e+00   4.00950649e-03\n",
        "   1.98436088e-02   3.83329598e-03   4.93435244e-03   3.22747133e-03\n",
        "   0.00000000e+00   1.66716040e-03   1.72392454e-03   2.92682537e-03\n",
        "   4.69597754e-07   6.21090232e-04   1.59580694e-02   6.39326544e-04\n",
        "   0.00000000e+00   3.66438711e-03   6.15842872e-04   6.71169482e-05\n",
        "   1.70079073e-03   1.09340053e-03   6.44549882e-03   1.39225732e-03\n",
        "   5.77219251e-05   4.49317566e-03   0.00000000e+00   2.55777061e-03\n",
        "   6.64333193e-04   9.66530894e-04   1.17813559e-04   4.18515070e-04\n",
        "   2.38046921e-03]\n",
        "[ 21  83  69  90  96 104  54  16  79   1 114 100  89  57  84 112  76 107\n",
        "  25  50 118  55  81  22  51  37  13  61 119  56  63 106 101  47 103  12\n",
        " 116  64  58  78  20  86  15  60  46  70 117   9 109  82  74  49  52  85\n",
        " 111  67  11  19  65  97 108  98  77  80  72  17  18  35 120  62  26 115\n",
        "  33  66  48  99  39  53  71  95  14 105  45  93  87  29  41  91  23  10\n",
        "  88 113  68  28  94  30  27  42  24  34 110  73  44  36   7  59   2  38\n",
        "  75  40  43  32  31   0 102  92   4   3   5   8   6]\n",
        "Index([u'bonus_credit_eligibility', u'currency_loss', u'dollars', u'gender', u'group_size', u'irregular_payments', u'loan_amount', u'pay_at_end', u'repayment_term', u'theme_Arab Youth', u'theme_Conflict Zones', u'theme_Disaster recovery', u'theme_Fair Trade', u'theme_Flexible Credit Study', u'theme_Green', u'theme_Growing Businesses', u'theme_Health', u'theme_Higher Education', u'theme_Innovative Loans', u'theme_Islamic Finance', u'theme_Job Creation', u'theme_Kiva City Detroit', u'theme_Kiva City LA', u'theme_Mobile Technology', u'theme_Rural Exclusion', u'theme_SME', u'theme_Start-Up', u'theme_Underfunded Areas', u'theme_Vulnerable Groups', u'theme_Water and Sanitation', u'theme_Youth', u'theme_none', u'Agriculture', u'Arts', u'Clothing', u'Construction', u'Education', u'Entertainment', u'Food', u'Health', u'Housing', u'Manufacturing', u'Personal Use', u'Retail', u'Services', u'Transportation', u'Wholesale', u'AL', u'AM', u'AZ', u'BF', u'BI', u'BJ', u'BO', u'BR', u'BZ', u'CD', u'CG', u'CM', u'CO', u'CR', u'DO', u'EC', u'GE', u'GH', u'GT', u'HN', u'HT', u'ID', u'IL', u'IN', u'IQ', u'JO', u'KE', u'KG', u'KH', u'LA', u'LB', u'LR', u'MD', u'ML', u'MM', u'MN', u'MR', u'MW', u'MX', u'MZ', u'NG', u'NI', u'NP', u'PA', u'PE', u'PH', u'PK', u'PS', u'PY', u'QS', u'RW', u'SL', u'SN', ...], dtype='object')\n",
        "loan_amount: 26.3%\n",
        "repayment_term: 16.1%\n",
        "irregular_payments: 12.8%\n",
        "gender: 6.7%\n",
        "group_size: 2.2%\n",
        "PH: 2.0%\n",
        "SV: 1.6%\n",
        "bonus_credit_eligibility: 1.5%\n",
        "theme_none: 1.4%\n",
        "Agriculture: 1.3%\n",
        "Retail: 1.3%\n",
        "Housing: 1.3%\n",
        "KH: 1.1%\n",
        "Food: 1.1%\n",
        "dollars: 1.0%\n",
        "CO: 1.0%\n",
        "pay_at_end: 0.9%\n",
        "Education: 0.8%\n",
        "Services: 0.8%\n",
        "KE: 0.8%\n",
        "UG: 0.6%\n",
        "Clothing: 0.6%\n",
        "theme_Rural Exclusion: 0.6%\n",
        "Personal Use: 0.6%\n",
        "theme_Underfunded Areas: 0.5%\n",
        "theme_Youth: 0.5%\n",
        "PS: 0.5%\n",
        "theme_Vulnerable Groups: 0.5%\n",
        "ID: 0.5%\n",
        "VN: 0.4%\n",
        "NI: 0.4%\n",
        "theme_Conflict Zones: 0.4%\n",
        "theme_Mobile Technology: 0.4%\n",
        "PE: 0.4%\n",
        "Manufacturing: 0.4%\n",
        "theme_Water and Sanitation: 0.4%\n",
        "NG: 0.4%\n",
        "PK: 0.4%\n",
        "Transportation: 0.4%\n",
        "TJ: 0.4%\n",
        "theme_Green: 0.3%\n",
        "PY: 0.3%\n",
        "IQ: 0.3%\n",
        "BO: 0.3%\n",
        "Health: 0.3%\n",
        "SN: 0.3%\n",
        "AM: 0.3%\n",
        "HN: 0.3%\n",
        "Arts: 0.3%\n",
        "WS: 0.3%\n",
        "theme_Start-Up: 0.3%\n",
        "EC: 0.2%\n",
        "ZW: 0.2%\n",
        "Construction: 0.2%\n",
        "theme_Innovative Loans: 0.2%\n",
        "theme_Higher Education: 0.2%\n",
        "JO: 0.2%\n",
        "ML: 0.2%\n",
        "LB: 0.2%\n",
        "SL: 0.2%\n",
        "TZ: 0.2%\n",
        "RW: 0.2%\n",
        "GT: 0.2%\n",
        "theme_Islamic Finance: 0.2%\n",
        "theme_Disaster recovery: 0.2%\n",
        "HT: 0.1%\n",
        "US: 0.1%\n",
        "MX: 0.1%\n",
        "BJ: 0.1%\n",
        "AZ: 0.1%\n",
        "KG: 0.1%\n",
        "MN: 0.1%\n",
        "UA: 0.1%\n",
        "theme_Arab Youth: 0.1%\n",
        "YE: 0.1%\n",
        "IN: 0.1%\n",
        "Wholesale: 0.1%\n",
        "CR: 0.1%\n",
        "theme_Growing Businesses: 0.1%\n",
        "MZ: 0.1%\n",
        "theme_Job Creation: 0.1%\n",
        "LR: 0.1%\n",
        "CM: 0.1%\n",
        "GH: 0.1%\n",
        "XK: 0.1%\n",
        "theme_Fair Trade: 0.1%\n",
        "TG: 0.1%\n",
        "AL: 0.1%\n",
        "SR: 0.1%\n",
        "TL: 0.1%\n",
        "GE: 0.1%\n",
        "CD: 0.0%\n",
        "ZM: 0.0%\n",
        "DO: 0.0%\n",
        "theme_Flexible Credit Study: 0.0%\n",
        "Entertainment: 0.0%\n",
        "BI: 0.0%\n",
        "theme_Kiva City LA: 0.0%\n",
        "MM: 0.0%\n",
        "BZ: 0.0%\n",
        "ZA: 0.0%\n",
        "BF: 0.0%\n",
        "theme_SME: 0.0%\n",
        "TR: 0.0%\n",
        "LA: 0.0%\n",
        "VC: 0.0%\n",
        "MW: 0.0%\n",
        "CG: 0.0%\n",
        "NP: 0.0%\n",
        "SO: 0.0%\n",
        "VU: 0.0%\n",
        "currency_loss: 0.0%\n",
        "MD: 0.0%\n",
        "theme_Health: 0.0%\n",
        "BR: 0.0%\n",
        "TH: 0.0%\n",
        "QS: 0.0%\n",
        "PA: 0.0%\n",
        "IL: 0.0%\n",
        "MR: 0.0%\n",
        "theme_Kiva City Detroit: 0.0%\n"
       ]
      }
     ],
     "prompt_number": 59
    },
    {
     "cell_type": "code",
     "collapsed": false,
     "input": [
      "a = [1,2,3]"
     ],
     "language": "python",
     "metadata": {},
     "outputs": [],
     "prompt_number": 84
    },
    {
     "cell_type": "code",
     "collapsed": false,
     "input": [
      "set(a)"
     ],
     "language": "python",
     "metadata": {},
     "outputs": [
      {
       "metadata": {},
       "output_type": "pyout",
       "prompt_number": 85,
       "text": [
        "{1, 2, 3}"
       ]
      }
     ],
     "prompt_number": 85
    },
    {
     "cell_type": "code",
     "collapsed": false,
     "input": [
      "a"
     ],
     "language": "python",
     "metadata": {},
     "outputs": [
      {
       "metadata": {},
       "output_type": "pyout",
       "prompt_number": 86,
       "text": [
        "[1, 2, 3]"
       ]
      }
     ],
     "prompt_number": 86
    },
    {
     "cell_type": "code",
     "collapsed": false,
     "input": [
      "ed = df[df.sector=='Education']"
     ],
     "language": "python",
     "metadata": {},
     "outputs": [],
     "prompt_number": 41
    },
    {
     "cell_type": "code",
     "collapsed": false,
     "input": [
      "df.sector"
     ],
     "language": "python",
     "metadata": {},
     "outputs": [
      {
       "metadata": {},
       "output_type": "pyout",
       "prompt_number": 20,
       "text": [
        "638631          Retail\n",
        "641006       Education\n",
        "641019       Education\n",
        "641594     Agriculture\n",
        "642256        Services\n",
        "642311            Food\n",
        "642353            Food\n",
        "642386        Clothing\n",
        "642429            Arts\n",
        "642836          Retail\n",
        "643267            Food\n",
        "643288       Education\n",
        "643402     Agriculture\n",
        "643761    Construction\n",
        "644101            Food\n",
        "...\n",
        "797968            Food\n",
        "797970        Services\n",
        "797971          Retail\n",
        "797972          Retail\n",
        "797973     Agriculture\n",
        "797974     Agriculture\n",
        "797977     Agriculture\n",
        "797978     Agriculture\n",
        "797979          Retail\n",
        "797980        Services\n",
        "797982    Construction\n",
        "797983            Food\n",
        "797984        Services\n",
        "797985            Food\n",
        "797987          Retail\n",
        "Name: sector, Length: 141250, dtype: object"
       ]
      }
     ],
     "prompt_number": 20
    },
    {
     "cell_type": "code",
     "collapsed": false,
     "input": [
      "mod.predict(ed)"
     ],
     "language": "python",
     "metadata": {},
     "outputs": [
      {
       "output_type": "stream",
       "stream": "stdout",
       "text": [
        "82\n",
        "121\n",
        "39\n",
        "0\n",
        "82\n",
        "121\n",
        "pct_positive"
       ]
      },
      {
       "output_type": "stream",
       "stream": "stdout",
       "text": [
        " 0.0151446993552\n",
        "true_pos: 0.0115 false_pos: 0.1898\n",
        "true_neg 0.79502174239 false_neg 0.00359874044085\n",
        "recall: 0.762376237624 precision: 0.0573343261355\n"
       ]
      }
     ],
     "prompt_number": 60
    },
    {
     "cell_type": "code",
     "collapsed": false,
     "input": [
      "ag = df[df.sector=='Agriculture']"
     ],
     "language": "python",
     "metadata": {},
     "outputs": [],
     "prompt_number": 68
    },
    {
     "cell_type": "code",
     "collapsed": false,
     "input": [
      "ag.info()"
     ],
     "language": "python",
     "metadata": {},
     "outputs": [
      {
       "output_type": "stream",
       "stream": "stdout",
       "text": [
        "<class 'pandas.core.frame.DataFrame'>\n",
        "Float64Index: 35856 entries, 641594.0 to 797978.0\n",
        "Data columns (total 17 columns):\n",
        "activity                    35856 non-null object\n",
        "bonus_credit_eligibility    35856 non-null bool\n",
        "country                     35856 non-null object\n",
        "currency_loss               35856 non-null bool\n",
        "dollars                     35856 non-null bool\n",
        "expired                     35856 non-null bool\n",
        "gender                      35856 non-null bool\n",
        "group_size                  35856 non-null int64\n",
        "irregular_payments          35856 non-null bool\n",
        "loan_amount                 35856 non-null int64\n",
        "pay_at_end                  35856 non-null bool\n",
        "posted_date                 35856 non-null datetime64[ns]\n",
        "repayment_term              35856 non-null int64\n",
        "sector                      35856 non-null object\n",
        "tags                        35856 non-null object\n",
        "themes                      17275 non-null object\n",
        "use                         35856 non-null object\n",
        "dtypes: bool(7), datetime64[ns](1), int64(3), object(6)"
       ]
      }
     ],
     "prompt_number": 69
    },
    {
     "cell_type": "code",
     "collapsed": false,
     "input": [
      "ed.shape"
     ],
     "language": "python",
     "metadata": {},
     "outputs": [
      {
       "metadata": {},
       "output_type": "pyout",
       "prompt_number": 66,
       "text": [
        "(6669, 17)"
       ]
      }
     ],
     "prompt_number": 66
    },
    {
     "cell_type": "code",
     "collapsed": false,
     "input": [
      "a = [1,2,3,4,5,3]"
     ],
     "language": "python",
     "metadata": {},
     "outputs": [],
     "prompt_number": 11
    },
    {
     "cell_type": "code",
     "collapsed": false,
     "input": [
      "b = list(set(a))"
     ],
     "language": "python",
     "metadata": {},
     "outputs": [],
     "prompt_number": 14
    },
    {
     "cell_type": "code",
     "collapsed": false,
     "input": [
      "[x for x in a if x not in b]"
     ],
     "language": "python",
     "metadata": {},
     "outputs": [
      {
       "metadata": {},
       "output_type": "pyout",
       "prompt_number": 16,
       "text": [
        "[]"
       ]
      }
     ],
     "prompt_number": 16
    },
    {
     "cell_type": "code",
     "collapsed": false,
     "input": [
      "a"
     ],
     "language": "python",
     "metadata": {},
     "outputs": [
      {
       "metadata": {},
       "output_type": "pyout",
       "prompt_number": 17,
       "text": [
        "[1, 2, 3, 4, 5, 3]"
       ]
      }
     ],
     "prompt_number": 17
    },
    {
     "cell_type": "code",
     "collapsed": false,
     "input": [
      "sorted(a)"
     ],
     "language": "python",
     "metadata": {},
     "outputs": [
      {
       "metadata": {},
       "output_type": "pyout",
       "prompt_number": 18,
       "text": [
        "[1, 2, 3, 3, 4, 5]"
       ]
      }
     ],
     "prompt_number": 18
    },
    {
     "cell_type": "code",
     "collapsed": false,
     "input": [
      "print df.themes.isnull().mean()\n",
      "print hf.themes.isnull().mean()\n",
      "print tf.themes.isnull().mean()\n",
      "print zf.themes.isnull().mean()\n"
     ],
     "language": "python",
     "metadata": {},
     "outputs": [
      {
       "output_type": "stream",
       "stream": "stdout",
       "text": [
        "0.602046017699\n",
        "0.594878590882\n",
        "0.619328439042\n",
        "0.616686428802\n"
       ]
      }
     ],
     "prompt_number": 33
    },
    {
     "cell_type": "code",
     "collapsed": false,
     "input": [
      "notheme = df[df.themes.isnull()]"
     ],
     "language": "python",
     "metadata": {},
     "outputs": [],
     "prompt_number": 63
    },
    {
     "cell_type": "code",
     "collapsed": false,
     "input": [
      "mod.predict(notheme)"
     ],
     "language": "python",
     "metadata": {},
     "outputs": [
      {
       "output_type": "stream",
       "stream": "stdout",
       "text": [
        "99\n",
        "121\n",
        "22\n",
        "0\n",
        "99\n",
        "121\n",
        "pct_positive"
       ]
      },
      {
       "output_type": "stream",
       "stream": "stdout",
       "text": [
        " 0.0540340314444\n",
        "true_pos: 0.0432 false_pos: 0.1309\n",
        "true_neg 0.815108362046 false_neg 0.0107950469784\n",
        "recall: 0.800217627856 precision: 0.248362039851\n"
       ]
      }
     ],
     "prompt_number": 64
    },
    {
     "cell_type": "code",
     "collapsed": false,
     "input": [
      "mod.predict(df)"
     ],
     "language": "python",
     "metadata": {},
     "outputs": [
      {
       "output_type": "stream",
       "stream": "stdout",
       "text": [
        "124\n",
        "121\n",
        "0\n",
        "3\n",
        "121"
       ]
      },
      {
       "output_type": "stream",
       "stream": "stdout",
       "text": [
        "\n",
        "121\n",
        "pct_positive"
       ]
      },
      {
       "output_type": "stream",
       "stream": "stdout",
       "text": [
        " 0.0527716814159\n",
        "true_pos: 0.0499 false_pos: 0.156\n",
        "true_neg 0.791228318584 false_neg 0.00291681415929\n",
        "recall: 0.944727663 precision: 0.242184544485\n"
       ]
      }
     ],
     "prompt_number": 65
    },
    {
     "cell_type": "code",
     "collapsed": false,
     "input": [
      "mod.predict(ag)"
     ],
     "language": "python",
     "metadata": {},
     "outputs": [
      {
       "output_type": "stream",
       "stream": "stdout",
       "text": [
        "100\n",
        "121\n",
        "23\n",
        "2\n",
        "98\n",
        "121\n",
        "pct_positive"
       ]
      },
      {
       "output_type": "stream",
       "stream": "stdout",
       "text": [
        " 0.0448739402053\n",
        "true_pos: 0.0351 false_pos: 0.1412\n",
        "true_neg 0.813950245426 false_neg 0.00981704596162\n",
        "recall: 0.781230577999 precision: 0.198923880361\n"
       ]
      }
     ],
     "prompt_number": 70
    },
    {
     "cell_type": "code",
     "collapsed": false,
     "input": [
      "colombia = df[df.country=='CO']"
     ],
     "language": "python",
     "metadata": {},
     "outputs": [],
     "prompt_number": 71
    },
    {
     "cell_type": "code",
     "collapsed": false,
     "input": [
      "colombia.info()"
     ],
     "language": "python",
     "metadata": {},
     "outputs": [
      {
       "output_type": "stream",
       "stream": "stdout",
       "text": [
        "<class 'pandas.core.frame.DataFrame'>\n",
        "Float64Index: 4120 entries, 647522.0 to 795688.0\n",
        "Data columns (total 17 columns):\n",
        "activity                    4120 non-null object\n",
        "bonus_credit_eligibility    4120 non-null bool\n",
        "country                     4120 non-null object\n",
        "currency_loss               4120 non-null bool\n",
        "dollars                     4120 non-null bool\n",
        "expired                     4120 non-null bool\n",
        "gender                      4120 non-null bool\n",
        "group_size                  4120 non-null int64\n",
        "irregular_payments          4120 non-null bool\n",
        "loan_amount                 4120 non-null int64\n",
        "pay_at_end                  4120 non-null bool\n",
        "posted_date                 4120 non-null datetime64[ns]\n",
        "repayment_term              4120 non-null int64\n",
        "sector                      4120 non-null object\n",
        "tags                        4120 non-null object\n",
        "themes                      1725 non-null object\n",
        "use                         4120 non-null object\n",
        "dtypes: bool(7), datetime64[ns](1), int64(3), object(6)"
       ]
      }
     ],
     "prompt_number": 72
    },
    {
     "cell_type": "code",
     "collapsed": false,
     "input": [
      "mod.predict(colombia)"
     ],
     "language": "python",
     "metadata": {},
     "outputs": [
      {
       "output_type": "stream",
       "stream": "stdout",
       "text": [
        "48\n",
        "121\n",
        "73\n",
        "0\n",
        "48\n",
        "121\n",
        "pct_positive"
       ]
      },
      {
       "output_type": "stream",
       "stream": "stdout",
       "text": [
        " 0.168932038835\n",
        "true_pos: 0.1473 false_pos: 0.3252\n",
        "true_neg 0.505825242718 false_neg 0.0216019417476\n",
        "recall: 0.872126436782 precision: 0.311761684643\n"
       ]
      }
     ],
     "prompt_number": 73
    },
    {
     "cell_type": "code",
     "collapsed": false,
     "input": [
      "Philippines = df[df.country=='PH']"
     ],
     "language": "python",
     "metadata": {},
     "outputs": [],
     "prompt_number": 75
    },
    {
     "cell_type": "code",
     "collapsed": false,
     "input": [
      "mod.predict(Philippines)"
     ],
     "language": "python",
     "metadata": {},
     "outputs": [
      {
       "output_type": "stream",
       "stream": "stdout",
       "text": [
        "48\n",
        "121\n",
        "73\n",
        "0\n",
        "48\n",
        "121\n",
        "pct_positive"
       ]
      },
      {
       "output_type": "stream",
       "stream": "stdout",
       "text": [
        " 0.0135459698338\n",
        "true_pos: 0.0077 false_pos: 0.0198\n",
        "true_neg 0.966695487879 false_neg 0.00582828962116\n",
        "recall: 0.569739952719 precision: 0.280885780886\n"
       ]
      }
     ],
     "prompt_number": 76
    },
    {
     "cell_type": "code",
     "collapsed": false,
     "input": [
      "colombia = df[df.country=='CO']"
     ],
     "language": "python",
     "metadata": {},
     "outputs": []
    },
    {
     "cell_type": "code",
     "collapsed": false,
     "input": [
      "Kenya = df[df.country=='KE']"
     ],
     "language": "python",
     "metadata": {},
     "outputs": [],
     "prompt_number": 77
    },
    {
     "cell_type": "code",
     "collapsed": false,
     "input": [
      "mod.predict(Kenya)"
     ],
     "language": "python",
     "metadata": {},
     "outputs": [
      {
       "output_type": "stream",
       "stream": "stdout",
       "text": [
        "48\n",
        "121\n",
        "73\n",
        "0\n",
        "48\n",
        "121\n",
        "pct_positive"
       ]
      },
      {
       "output_type": "stream",
       "stream": "stdout",
       "text": [
        " 0.0266102959463\n",
        "true_pos: 0.019 false_pos: 0.0704\n",
        "true_neg 0.903009201691 false_neg 0.00762662687557\n",
        "recall: 0.713395638629 precision: 0.212430426716\n"
       ]
      }
     ],
     "prompt_number": 78
    },
    {
     "cell_type": "code",
     "collapsed": false,
     "input": [
      "model.run_model()"
     ],
     "language": "python",
     "metadata": {},
     "outputs": [
      {
       "output_type": "stream",
       "stream": "stdout",
       "text": [
        "17\n",
        "124"
       ]
      },
      {
       "output_type": "stream",
       "stream": "stdout",
       "text": [
        "\n",
        "loan_amount: 28.3%"
       ]
      },
      {
       "output_type": "stream",
       "stream": "stdout",
       "text": [
        "\n",
        "repayment_term: 16.1%\n",
        "irregular_payments: 13.3%\n",
        "gender: 6.7%\n",
        "group_size: 2.1%\n",
        "SV: 1.9%\n",
        "PH: 1.7%\n",
        "bonus_credit_eligibility: 1.3%\n",
        "Agriculture: 1.2%\n",
        "Education: 1.2%\n",
        "Retail: 1.2%\n",
        "KH: 1.2%\n",
        "CO: 1.1%\n",
        "Housing: 1.1%\n",
        "dollars: 1.0%\n",
        "pay_at_end: 1.0%\n",
        "theme_none: 0.9%\n",
        "Food: 0.9%\n",
        "theme_Rural Exclusion: 0.8%\n",
        "KE: 0.7%\n",
        "Services: 0.7%\n",
        "theme_Underfunded Areas: 0.6%\n",
        "Clothing: 0.6%\n",
        "UG: 0.6%\n",
        "theme_Conflict Zones: 0.5%\n",
        "theme_Water and Sanitation: 0.5%\n",
        "NI: 0.5%\n",
        "Arts: 0.5%\n",
        "theme_Youth: 0.4%\n",
        "Personal Use: 0.4%\n",
        "TJ: 0.4%\n",
        "theme_Vulnerable Groups: 0.4%\n",
        "PE: 0.4%\n",
        "Manufacturing: 0.4%\n",
        "ID: 0.4%\n",
        "theme_Higher Education: 0.4%\n",
        "PK: 0.3%\n",
        "theme_Start-Up: 0.3%\n",
        "JO: 0.3%\n",
        "PS: 0.3%\n",
        "Transportation: 0.3%\n",
        "HN: 0.3%\n",
        "theme_Green: 0.3%\n",
        "Construction: 0.2%\n",
        "EC: 0.2%\n",
        "PY: 0.2%\n",
        "BO: 0.2%\n",
        "theme_Innovative Loans: 0.2%\n",
        "VN: 0.2%\n",
        "GT: 0.2%\n",
        "Health: 0.2%\n",
        "theme_Mobile Technology: 0.2%\n",
        "SN: 0.2%\n",
        "theme_Islamic Finance: 0.2%\n",
        "KG: 0.2%\n",
        "theme_Arab Youth: 0.2%\n",
        "ML: 0.2%\n",
        "RW: 0.2%\n",
        "AM: 0.2%\n",
        "TZ: 0.2%\n",
        "BJ: 0.1%\n",
        "IQ: 0.1%\n",
        "WS: 0.1%\n",
        "UA: 0.1%\n",
        "NG: 0.1%\n",
        "LB: 0.1%\n",
        "MN: 0.1%\n",
        "YE: 0.1%\n",
        "AZ: 0.1%\n",
        "US: 0.1%\n",
        "theme_Disaster recovery: 0.1%\n",
        "SL: 0.1%\n",
        "IN: 0.1%\n",
        "CR: 0.1%\n",
        "theme_Job Creation: 0.1%\n",
        "MX: 0.1%\n",
        "theme_Growing Businesses: 0.1%\n",
        "GE: 0.1%\n",
        "TL: 0.1%\n",
        "AL: 0.1%\n",
        "MZ: 0.1%\n",
        "XK: 0.1%\n",
        "CM: 0.1%\n",
        "HT: 0.1%\n",
        "ZW: 0.1%\n",
        "TG: 0.1%\n",
        "currency_loss: 0.1%\n",
        "GH: 0.1%\n",
        "BI: 0.0%\n",
        "Wholesale: 0.0%\n",
        "BR: 0.0%\n",
        "theme_Fair Trade: 0.0%\n",
        "Entertainment: 0.0%\n",
        "theme_Flexible Credit Study: 0.0%\n",
        "LR: 0.0%\n",
        "CD: 0.0%\n",
        "theme_SME: 0.0%\n",
        "DO: 0.0%\n",
        "LA: 0.0%\n",
        "MD: 0.0%\n",
        "SR: 0.0%\n",
        "MW: 0.0%\n",
        "BF: 0.0%\n",
        "ZM: 0.0%\n",
        "BZ: 0.0%\n",
        "CG: 0.0%\n",
        "IL: 0.0%\n",
        "TH: 0.0%\n",
        "theme_Kiva City LA: 0.0%\n",
        "TR: 0.0%\n",
        "NP: 0.0%\n",
        "SO: 0.0%\n",
        "ZA: 0.0%\n",
        "SB: 0.0%\n",
        "QS: 0.0%\n",
        "PA: 0.0%\n",
        "theme_Kiva City Detroit: 0.0%\n",
        "VU: 0.0%\n",
        "MM: 0.0%\n",
        "CN: 0.0%\n",
        "CL: 0.0%\n",
        "VC: 0.0%\n",
        "theme_Health: 0.0%\n",
        "MR: 0.0%\n"
       ]
      }
     ],
     "prompt_number": 88
    },
    {
     "cell_type": "code",
     "collapsed": false,
     "input": [
      "mod.transform_fit(hf)"
     ],
     "language": "python",
     "metadata": {},
     "outputs": [
      {
       "output_type": "stream",
       "stream": "stdout",
       "text": [
        "17\n"
       ]
      },
      {
       "output_type": "stream",
       "stream": "stderr",
       "text": [
        "/home/matt/anaconda/lib/python2.7/site-packages/sklearn/utils/__init__.py:93: DeprecationWarning: Function balance_weights is deprecated; balance_weights is an internal function and will be removed in 0.16\n",
        "  warnings.warn(msg, category=DeprecationWarning)\n"
       ]
      },
      {
       "ename": "NameError",
       "evalue": "global name 'sample_weight' is not defined",
       "output_type": "pyerr",
       "traceback": [
        "\u001b[1;31m---------------------------------------------------------------------------\u001b[0m\n\u001b[1;31mNameError\u001b[0m                                 Traceback (most recent call last)",
        "\u001b[1;32m<ipython-input-103-fb13e304f60d>\u001b[0m in \u001b[0;36m<module>\u001b[1;34m()\u001b[0m\n\u001b[1;32m----> 1\u001b[1;33m \u001b[0mmod\u001b[0m\u001b[1;33m.\u001b[0m\u001b[0mtransform_fit\u001b[0m\u001b[1;33m(\u001b[0m\u001b[0mhf\u001b[0m\u001b[1;33m)\u001b[0m\u001b[1;33m\u001b[0m\u001b[0m\n\u001b[0m",
        "\u001b[1;32m/home/matt/gdrive/final_project/Fundraising-Success/model.py\u001b[0m in \u001b[0;36mtransform_fit\u001b[1;34m(self, df, mod)\u001b[0m\n\u001b[0;32m     66\u001b[0m                 \u001b[0mself\u001b[0m\u001b[1;33m.\u001b[0m\u001b[0mcolumns\u001b[0m \u001b[1;33m=\u001b[0m \u001b[0mdf\u001b[0m\u001b[1;33m.\u001b[0m\u001b[0mcolumns\u001b[0m\u001b[1;33m\u001b[0m\u001b[0m\n\u001b[0;32m     67\u001b[0m                 \u001b[1;32mif\u001b[0m \u001b[0mmod\u001b[0m \u001b[1;33m==\u001b[0m \u001b[1;34m'weighted'\u001b[0m\u001b[1;33m:\u001b[0m\u001b[1;33m\u001b[0m\u001b[0m\n\u001b[1;32m---> 68\u001b[1;33m                         \u001b[0mself\u001b[0m\u001b[1;33m.\u001b[0m\u001b[0mfit_weighted\u001b[0m\u001b[1;33m(\u001b[0m\u001b[0mX\u001b[0m\u001b[1;33m,\u001b[0m\u001b[0my\u001b[0m\u001b[1;33m)\u001b[0m\u001b[1;33m\u001b[0m\u001b[0m\n\u001b[0m\u001b[0;32m     69\u001b[0m                 \u001b[1;32melse\u001b[0m\u001b[1;33m:\u001b[0m\u001b[1;33m\u001b[0m\u001b[0m\n\u001b[0;32m     70\u001b[0m                         \u001b[0mself\u001b[0m\u001b[1;33m.\u001b[0m\u001b[0mfit_oversample\u001b[0m\u001b[1;33m(\u001b[0m\u001b[0mX\u001b[0m\u001b[1;33m,\u001b[0m\u001b[0my\u001b[0m\u001b[1;33m)\u001b[0m\u001b[1;33m\u001b[0m\u001b[0m\n",
        "\u001b[1;32m/home/matt/gdrive/final_project/Fundraising-Success/model.py\u001b[0m in \u001b[0;36mfit_weighted\u001b[1;34m(self, X, y)\u001b[0m\n\u001b[0;32m     56\u001b[0m                 \u001b[0mself\u001b[0m\u001b[1;33m.\u001b[0m\u001b[0mmodel\u001b[0m \u001b[1;33m=\u001b[0m \u001b[0mRandomForestClassifier\u001b[0m\u001b[1;33m(\u001b[0m\u001b[1;33m)\u001b[0m\u001b[1;33m\u001b[0m\u001b[0m\n\u001b[0;32m     57\u001b[0m                 \u001b[0mclf_fit\u001b[0m \u001b[1;33m=\u001b[0m \u001b[0mself\u001b[0m\u001b[1;33m.\u001b[0m\u001b[0mmodel\u001b[0m\u001b[1;33m.\u001b[0m\u001b[0mfit\u001b[0m\u001b[1;33m(\u001b[0m\u001b[0mX\u001b[0m\u001b[1;33m,\u001b[0m \u001b[0my\u001b[0m\u001b[1;33m,\u001b[0m \u001b[0msample_weight\u001b[0m \u001b[1;33m=\u001b[0m \u001b[0mbalance_weights\u001b[0m\u001b[1;33m(\u001b[0m\u001b[0my\u001b[0m\u001b[1;33m)\u001b[0m\u001b[1;33m)\u001b[0m\u001b[1;33m\u001b[0m\u001b[0m\n\u001b[1;32m---> 58\u001b[1;33m                 \u001b[1;32mprint\u001b[0m \u001b[0msample_weight\u001b[0m\u001b[1;33m\u001b[0m\u001b[0m\n\u001b[0m\u001b[0;32m     59\u001b[0m \u001b[1;33m\u001b[0m\u001b[0m\n\u001b[0;32m     60\u001b[0m         \u001b[1;32mdef\u001b[0m \u001b[0mtransform_fit\u001b[0m\u001b[1;33m(\u001b[0m\u001b[0mself\u001b[0m\u001b[1;33m,\u001b[0m \u001b[0mdf\u001b[0m\u001b[1;33m,\u001b[0m \u001b[0mmod\u001b[0m \u001b[1;33m=\u001b[0m \u001b[1;34m'weighted'\u001b[0m\u001b[1;33m)\u001b[0m\u001b[1;33m:\u001b[0m\u001b[1;33m\u001b[0m\u001b[0m\n",
        "\u001b[1;31mNameError\u001b[0m: global name 'sample_weight' is not defined"
       ]
      }
     ],
     "prompt_number": 103
    },
    {
     "cell_type": "code",
     "collapsed": false,
     "input": [
      "mod.predict(df)"
     ],
     "language": "python",
     "metadata": {},
     "outputs": [
      {
       "output_type": "stream",
       "stream": "stdout",
       "text": [
        "124\n",
        "121\n",
        "0\n",
        "3\n",
        "121"
       ]
      },
      {
       "output_type": "stream",
       "stream": "stdout",
       "text": [
        "\n",
        "121\n",
        "pct_positive"
       ]
      },
      {
       "output_type": "stream",
       "stream": "stdout",
       "text": [
        " 0.0527716814159\n",
        "true_pos: 0.0411 false_pos: 0.0464\n",
        "true_neg 0.9008 false_neg 0.0117\n",
        "recall: 0.778 precision: 0.4692\n"
       ]
      }
     ],
     "prompt_number": 98
    },
    {
     "cell_type": "code",
     "collapsed": false,
     "input": [
      "mod.predict(tf)"
     ],
     "language": "python",
     "metadata": {},
     "outputs": [
      {
       "output_type": "stream",
       "stream": "stdout",
       "text": [
        "111\n",
        "121\n",
        "12\n",
        "2\n",
        "109\n",
        "121\n",
        "pct_positive"
       ]
      },
      {
       "output_type": "stream",
       "stream": "stdout",
       "text": [
        " 0.140450114334\n",
        "true_pos: 0.0141 false_pos: 0.0078\n",
        "true_neg 0.8517 false_neg 0.1264\n",
        "recall: 0.1003 precision: 0.6429\n"
       ]
      }
     ],
     "prompt_number": 99
    },
    {
     "cell_type": "code",
     "collapsed": false,
     "input": [
      "mod.predict(zf)"
     ],
     "language": "python",
     "metadata": {},
     "outputs": [
      {
       "output_type": "stream",
       "stream": "stdout",
       "text": [
        "113\n",
        "121\n",
        "9\n",
        "1\n",
        "112\n",
        "121\n",
        "pct_positive"
       ]
      },
      {
       "output_type": "stream",
       "stream": "stdout",
       "text": [
        " 0.0152527756818\n",
        "true_pos: 0.0027 false_pos: 0.0229\n",
        "true_neg 0.9618 false_neg 0.0125\n",
        "recall: 0.1784 precision: 0.1061\n"
       ]
      }
     ],
     "prompt_number": 100
    },
    {
     "cell_type": "code",
     "collapsed": false,
     "input": [
      "from sklearn.preprocessing import balance_weights\n",
      "\n"
     ],
     "language": "python",
     "metadata": {},
     "outputs": [],
     "prompt_number": 104
    },
    {
     "cell_type": "code",
     "collapsed": false,
     "input": [
      "y = df['expired'].values"
     ],
     "language": "python",
     "metadata": {},
     "outputs": [],
     "prompt_number": 106
    },
    {
     "cell_type": "code",
     "collapsed": false,
     "input": [
      "y"
     ],
     "language": "python",
     "metadata": {},
     "outputs": [
      {
       "metadata": {},
       "output_type": "pyout",
       "prompt_number": 107,
       "text": [
        "array([False, False, False, ..., False, False, False], dtype=bool)"
       ]
      }
     ],
     "prompt_number": 107
    },
    {
     "cell_type": "code",
     "collapsed": false,
     "input": [
      "aa = balance_weights(y)\n"
     ],
     "language": "python",
     "metadata": {},
     "outputs": [
      {
       "output_type": "stream",
       "stream": "stderr",
       "text": [
        "/home/matt/anaconda/lib/python2.7/site-packages/sklearn/utils/__init__.py:93: DeprecationWarning: Function balance_weights is deprecated; balance_weights is an internal function and will be removed in 0.16\n",
        "  warnings.warn(msg, category=DeprecationWarning)\n"
       ]
      }
     ],
     "prompt_number": 109
    },
    {
     "cell_type": "code",
     "collapsed": false,
     "input": [
      "aa[10:40]"
     ],
     "language": "python",
     "metadata": {},
     "outputs": [
      {
       "metadata": {},
       "output_type": "pyout",
       "prompt_number": 114,
       "text": [
        "array([ 0.05571168,  0.05571168,  0.05571168,  0.05571168,  0.05571168,\n",
        "        0.05571168,  0.05571168,  0.05571168,  0.05571168,  1.        ,\n",
        "        0.05571168,  0.05571168,  0.05571168,  1.        ,  0.05571168,\n",
        "        0.05571168,  1.        ,  0.05571168,  0.05571168,  0.05571168,\n",
        "        1.        ,  0.05571168,  0.05571168,  0.05571168,  0.05571168,\n",
        "        0.05571168,  0.05571168,  0.05571168,  0.05571168,  0.05571168])"
       ]
      }
     ],
     "prompt_number": 114
    },
    {
     "cell_type": "code",
     "collapsed": false,
     "input": [
      "mod.feat_imp()"
     ],
     "language": "python",
     "metadata": {},
     "outputs": [
      {
       "output_type": "stream",
       "stream": "stdout",
       "text": [
        "loan_amount: 28.6%\n",
        "repayment_term: 17.0%\n",
        "irregular_payments: 11.9%\n",
        "gender: 7.7%\n",
        "group_size: 2.2%\n",
        "SV: 1.5%\n",
        "Agriculture: 1.4%\n",
        "bonus_credit_eligibility: 1.3%\n",
        "Retail: 1.2%\n",
        "theme_none: 1.2%\n",
        "Housing: 1.2%\n",
        "KH: 1.1%\n",
        "Education: 1.0%\n",
        "KE: 1.0%\n",
        "Food: 0.9%\n",
        "pay_at_end: 0.9%\n",
        "dollars: 0.9%\n",
        "CO: 0.8%\n",
        "PH: 0.7%\n",
        "Services: 0.7%\n",
        "Clothing: 0.7%\n",
        "theme_Rural Exclusion: 0.6%\n",
        "UG: 0.6%\n",
        "theme_Underfunded Areas: 0.6%\n",
        "theme_Mobile Technology: 0.5%\n",
        "theme_Vulnerable Groups: 0.4%\n",
        "Personal Use: 0.4%\n",
        "NI: 0.4%\n",
        "theme_Water and Sanitation: 0.4%\n",
        "theme_Conflict Zones: 0.4%\n",
        "theme_Youth: 0.4%\n",
        "PE: 0.4%\n",
        "TJ: 0.4%\n",
        "Manufacturing: 0.4%\n",
        "Transportation: 0.3%\n",
        "PS: 0.3%\n",
        "Health: 0.3%\n",
        "PK: 0.3%\n",
        "theme_Innovative Loans: 0.3%\n",
        "PY: 0.3%\n",
        "theme_Disaster recovery: 0.3%\n",
        "theme_Higher Education: 0.3%\n",
        "NG: 0.3%\n",
        "Arts: 0.3%\n",
        "Construction: 0.3%\n",
        "theme_Green: 0.3%\n",
        "JO: 0.2%\n",
        "theme_Start-Up: 0.2%\n",
        "TZ: 0.2%\n",
        "BO: 0.2%\n",
        "HN: 0.2%\n",
        "VN: 0.2%\n",
        "ML: 0.2%\n",
        "SN: 0.2%\n",
        "ID: 0.2%\n",
        "theme_Arab Youth: 0.2%\n",
        "ZW: 0.2%\n",
        "EC: 0.2%\n",
        "WS: 0.2%\n",
        "GT: 0.2%\n",
        "LB: 0.2%\n",
        "IN: 0.2%\n",
        "AM: 0.2%\n",
        "IQ: 0.2%\n",
        "SL: 0.2%\n",
        "HT: 0.2%\n",
        "YE: 0.1%\n",
        "MX: 0.1%\n",
        "RW: 0.1%\n",
        "theme_Islamic Finance: 0.1%\n",
        "MN: 0.1%\n",
        "CR: 0.1%\n",
        "BJ: 0.1%\n",
        "theme_Job Creation: 0.1%\n",
        "AZ: 0.1%\n",
        "KG: 0.1%\n",
        "TG: 0.1%\n",
        "GE: 0.1%\n",
        "US: 0.1%\n",
        "GH: 0.1%\n",
        "XK: 0.1%\n",
        "MZ: 0.1%\n",
        "UA: 0.1%\n",
        "LR: 0.1%\n",
        "theme_Growing Businesses: 0.1%\n",
        "TL: 0.1%\n",
        "AL: 0.1%\n",
        "Wholesale: 0.0%\n",
        "CD: 0.0%\n",
        "Entertainment: 0.0%\n",
        "CM: 0.0%\n",
        "theme_Flexible Credit Study: 0.0%\n",
        "theme_SME: 0.0%\n",
        "BZ: 0.0%\n",
        "BI: 0.0%\n",
        "DO: 0.0%\n",
        "SR: 0.0%\n",
        "theme_Fair Trade: 0.0%\n",
        "ZM: 0.0%\n",
        "ZA: 0.0%\n",
        "BF: 0.0%\n",
        "IL: 0.0%\n",
        "MW: 0.0%\n",
        "LA: 0.0%\n",
        "MM: 0.0%\n",
        "theme_Kiva City LA: 0.0%\n",
        "TH: 0.0%\n",
        "NP: 0.0%\n",
        "TR: 0.0%\n",
        "MD: 0.0%\n",
        "CG: 0.0%\n",
        "PA: 0.0%\n",
        "MR: 0.0%\n",
        "BR: 0.0%\n",
        "VU: 0.0%\n",
        "QS: 0.0%\n",
        "theme_Kiva City Detroit: 0.0%\n",
        "theme_Health: 0.0%\n",
        "VC: 0.0%\n",
        "SO: 0.0%\n",
        "currency_loss: 0.0%\n"
       ]
      }
     ],
     "prompt_number": 115
    },
    {
     "cell_type": "code",
     "collapsed": false,
     "input": [
      "reload(model)\n",
      "mod = model.funding_model()"
     ],
     "language": "python",
     "metadata": {},
     "outputs": [],
     "prompt_number": 116
    },
    {
     "cell_type": "code",
     "collapsed": false,
     "input": [
      "mod.transform_fit(hf)"
     ],
     "language": "python",
     "metadata": {},
     "outputs": [
      {
       "output_type": "stream",
       "stream": "stdout",
       "text": [
        "17\n",
        "121"
       ]
      },
      {
       "output_type": "stream",
       "stream": "stdout",
       "text": [
        "\n"
       ]
      },
      {
       "output_type": "stream",
       "stream": "stderr",
       "text": [
        "/home/matt/anaconda/lib/python2.7/site-packages/sklearn/utils/__init__.py:93: DeprecationWarning: Function balance_weights is deprecated; balance_weights is an internal function and will be removed in 0.16\n",
        "  warnings.warn(msg, category=DeprecationWarning)\n"
       ]
      }
     ],
     "prompt_number": 117
    },
    {
     "cell_type": "code",
     "collapsed": false,
     "input": [
      "mod.predict(df)"
     ],
     "language": "python",
     "metadata": {},
     "outputs": [
      {
       "output_type": "stream",
       "stream": "stdout",
       "text": [
        "124\n",
        "121\n",
        "0\n",
        "3\n",
        "121"
       ]
      },
      {
       "output_type": "stream",
       "stream": "stdout",
       "text": [
        "\n",
        "121\n",
        "pct_positive"
       ]
      },
      {
       "output_type": "stream",
       "stream": "stdout",
       "text": [
        " 0.0527716814159\n",
        "true_pos: 0.041 false_pos: 0.0476\n",
        "true_neg 0.8996 false_neg 0.0118\n",
        "recall: 0.7765 precision: 0.4624\n"
       ]
      }
     ],
     "prompt_number": 118
    },
    {
     "cell_type": "code",
     "collapsed": false,
     "input": [
      "mod.predict(tf)"
     ],
     "language": "python",
     "metadata": {},
     "outputs": [
      {
       "output_type": "stream",
       "stream": "stdout",
       "text": [
        "111\n",
        "121\n",
        "12\n",
        "2\n",
        "109\n",
        "121\n",
        "pct_positive"
       ]
      },
      {
       "output_type": "stream",
       "stream": "stdout",
       "text": [
        " 0.140450114334\n",
        "true_pos: 0.013 false_pos: 0.0075\n",
        "true_neg 0.8521 false_neg 0.1275\n",
        "recall: 0.0925 precision: 0.6353\n"
       ]
      }
     ],
     "prompt_number": 119
    },
    {
     "cell_type": "code",
     "collapsed": false,
     "input": [
      "mod.predict(zf)"
     ],
     "language": "python",
     "metadata": {},
     "outputs": [
      {
       "output_type": "stream",
       "stream": "stdout",
       "text": [
        "113\n",
        "121\n",
        "9\n",
        "1\n",
        "112\n",
        "121\n",
        "pct_positive"
       ]
      },
      {
       "output_type": "stream",
       "stream": "stdout",
       "text": [
        " 0.0152527756818\n",
        "true_pos: 0.0031 false_pos: 0.0243\n",
        "true_neg 0.9604 false_neg 0.0121\n",
        "recall: 0.2049 precision: 0.1138\n"
       ]
      }
     ],
     "prompt_number": 120
    },
    {
     "cell_type": "code",
     "collapsed": false,
     "input": [
      "reload(model)\n",
      "mod = model.funding_model()\n",
      "mod.transform_fit(hf)"
     ],
     "language": "python",
     "metadata": {},
     "outputs": [
      {
       "output_type": "stream",
       "stream": "stdout",
       "text": [
        "17\n",
        "doing weighted"
       ]
      },
      {
       "output_type": "stream",
       "stream": "stdout",
       "text": [
        "\n",
        "121"
       ]
      },
      {
       "output_type": "stream",
       "stream": "stdout",
       "text": [
        "\n"
       ]
      }
     ],
     "prompt_number": 146
    },
    {
     "cell_type": "code",
     "collapsed": false,
     "input": [
      "mod.predict(df)"
     ],
     "language": "python",
     "metadata": {},
     "outputs": [
      {
       "output_type": "stream",
       "stream": "stdout",
       "text": [
        "124\n",
        "121\n",
        "0\n",
        "3\n",
        "121"
       ]
      },
      {
       "output_type": "stream",
       "stream": "stdout",
       "text": [
        "\n",
        "121\n",
        "pct_positive"
       ]
      },
      {
       "output_type": "stream",
       "stream": "stdout",
       "text": [
        " 0.0527716814159\n",
        "true_pos: 0.0515 false_pos: 0.2021\n",
        "true_neg 0.7452 false_neg 0.0013\n",
        "recall: 0.9754 precision: 0.203\n"
       ]
      }
     ],
     "prompt_number": 147
    },
    {
     "cell_type": "code",
     "collapsed": false,
     "input": [
      "mod.predict(tf)"
     ],
     "language": "python",
     "metadata": {},
     "outputs": [
      {
       "output_type": "stream",
       "stream": "stdout",
       "text": [
        "111\n",
        "121\n",
        "12\n",
        "2\n",
        "109\n",
        "121\n",
        "pct_positive"
       ]
      },
      {
       "output_type": "stream",
       "stream": "stdout",
       "text": [
        " 0.140450114334\n",
        "true_pos: 0.0726 false_pos: 0.1012\n",
        "true_neg 0.7583 false_neg 0.0679\n",
        "recall: 0.5167 precision: 0.4176\n"
       ]
      }
     ],
     "prompt_number": 148
    },
    {
     "cell_type": "code",
     "collapsed": false,
     "input": [
      "mod.predict(zf)"
     ],
     "language": "python",
     "metadata": {},
     "outputs": [
      {
       "output_type": "stream",
       "stream": "stdout",
       "text": [
        "113\n",
        "121\n",
        "9\n",
        "1\n",
        "112\n",
        "121\n",
        "pct_positive"
       ]
      },
      {
       "output_type": "stream",
       "stream": "stdout",
       "text": [
        " 0.0152527756818\n",
        "true_pos: 0.0135 false_pos: 0.1858\n",
        "true_neg 0.7989 false_neg 0.0017\n",
        "recall: 0.8869 precision: 0.0679\n"
       ]
      }
     ],
     "prompt_number": 149
    },
    {
     "cell_type": "code",
     "collapsed": false,
     "input": [
      "y"
     ],
     "language": "python",
     "metadata": {},
     "outputs": [
      {
       "metadata": {},
       "output_type": "pyout",
       "prompt_number": 142,
       "text": [
        "array([False, False, False, ..., False, False, False], dtype=bool)"
       ]
      }
     ],
     "prompt_number": 142
    },
    {
     "cell_type": "code",
     "collapsed": false,
     "input": [
      "(y*100+1).mean()"
     ],
     "language": "python",
     "metadata": {},
     "outputs": [
      {
       "metadata": {},
       "output_type": "pyout",
       "prompt_number": 145,
       "text": [
        "6.2771681415929201"
       ]
      }
     ],
     "prompt_number": 145
    },
    {
     "cell_type": "code",
     "collapsed": false,
     "input": [
      "df2, df3 = train_test_split(df)"
     ],
     "language": "python",
     "metadata": {},
     "outputs": [],
     "prompt_number": 151
    },
    {
     "cell_type": "code",
     "collapsed": false,
     "input": [
      "df2"
     ],
     "language": "python",
     "metadata": {},
     "outputs": [
      {
       "metadata": {},
       "output_type": "pyout",
       "prompt_number": 152,
       "text": [
        "array([[u'Poultry', True, u'SV', ..., [], [u'Rural Exclusion'],\n",
        "        u'to buy concentrated feed and vitamins and carry out improvements to the place where she keeps the chickens.'],\n",
        "       [u'Fishing', True, u'PH', ..., [{u'name': u'user_favorite'}], None,\n",
        "        u'to buy additional fishing nets.'],\n",
        "       [u'Food Market', False, u'SL', ..., [{u'name': u'user_favorite'}],\n",
        "        [u'Conflict Zones'],\n",
        "        u'to purchase palm oil and gari to expand her business'],\n",
        "       ..., \n",
        "       [u'Farming', True, u'PH', ...,\n",
        "        [{u'name': u'volunteer_pick'}, {u'name': u'volunteer_like'}],\n",
        "        [u'Disaster recovery'],\n",
        "        u'to repair his barn, buy seeds and start farm cultivation'],\n",
        "       [u'Agriculture', True, u'SV', ...,\n",
        "        [{u'name': u'user_favorite'}, {u'name': u'#Animals'}, {u'name': u'#Schooling'}],\n",
        "        [u'Rural Exclusion'],\n",
        "        u'buy more livestock, as well as manure and fertilizer for his fields'],\n",
        "       [u'Farming', True, u'PH', ...,\n",
        "        [{u'name': u'#WomanOwnedBiz'}, {u'name': u'#Elderly'}], None,\n",
        "        u'to buy fertilizer and farm supplies']], dtype=object)"
       ]
      }
     ],
     "prompt_number": 152
    },
    {
     "cell_type": "code",
     "collapsed": false,
     "input": [
      "reload(model)\n",
      "mod = model.funding_model()\n",
      "mod.transform_fit(hf)"
     ],
     "language": "python",
     "metadata": {},
     "outputs": [
      {
       "output_type": "stream",
       "stream": "stdout",
       "text": [
        "17\n",
        "doing weighted"
       ]
      },
      {
       "output_type": "stream",
       "stream": "stdout",
       "text": [
        "\n",
        "121"
       ]
      },
      {
       "output_type": "stream",
       "stream": "stdout",
       "text": [
        "\n"
       ]
      }
     ],
     "prompt_number": 198
    },
    {
     "cell_type": "code",
     "collapsed": false,
     "input": [
      "mod.predict(zf)"
     ],
     "language": "python",
     "metadata": {},
     "outputs": [
      {
       "output_type": "stream",
       "stream": "stdout",
       "text": [
        "113\n",
        "121\n",
        "9\n",
        "1\n",
        "112\n",
        "121\n",
        "pct_positive"
       ]
      },
      {
       "output_type": "stream",
       "stream": "stdout",
       "text": [
        " 0.0152527756818\n",
        "true_pos: 0.0151 false_pos: 0.2601\n",
        "true_neg 0.7247 false_neg 0.0001\n",
        "recall: 0.9912 precision: 0.0549\n"
       ]
      }
     ],
     "prompt_number": 199
    },
    {
     "cell_type": "code",
     "collapsed": false,
     "input": [
      "mod.predict(tf)"
     ],
     "language": "python",
     "metadata": {},
     "outputs": [
      {
       "output_type": "stream",
       "stream": "stdout",
       "text": [
        "111\n",
        "121\n",
        "12\n",
        "2\n",
        "109\n",
        "121\n",
        "pct_positive"
       ]
      },
      {
       "output_type": "stream",
       "stream": "stdout",
       "text": [
        " 0.140450114334\n",
        "true_pos: 0.104 false_pos: 0.1782\n",
        "true_neg 0.6813 false_neg 0.0365\n",
        "recall: 0.7404 precision: 0.3684\n"
       ]
      }
     ],
     "prompt_number": 200
    },
    {
     "cell_type": "code",
     "collapsed": false,
     "input": [
      "reload(model)\n",
      "mod = model.funding_model()\n",
      "mod.transform_fit(zf)\n",
      "mod.predict(hf)"
     ],
     "language": "python",
     "metadata": {},
     "outputs": [
      {
       "output_type": "stream",
       "stream": "stdout",
       "text": [
        "17\n",
        "doing weighted"
       ]
      },
      {
       "output_type": "stream",
       "stream": "stdout",
       "text": [
        "\n",
        "113"
       ]
      },
      {
       "output_type": "stream",
       "stream": "stdout",
       "text": [
        "\n",
        "121"
       ]
      },
      {
       "output_type": "stream",
       "stream": "stdout",
       "text": [
        "\n",
        "113\n",
        "1\n",
        "9\n",
        "112\n",
        "113\n",
        "pct_positive"
       ]
      },
      {
       "output_type": "stream",
       "stream": "stdout",
       "text": [
        " 0.0596975989482\n",
        "true_pos: 0.0266 false_pos: 0.0659\n",
        "true_neg 0.8744 false_neg 0.0331\n",
        "recall: 0.4454 precision: 0.2875\n"
       ]
      }
     ],
     "prompt_number": 201
    },
    {
     "cell_type": "code",
     "collapsed": false,
     "input": [
      "type(df2)"
     ],
     "language": "python",
     "metadata": {},
     "outputs": [
      {
       "metadata": {},
       "output_type": "pyout",
       "prompt_number": 158,
       "text": [
        "numpy.ndarray"
       ]
      }
     ],
     "prompt_number": 158
    },
    {
     "cell_type": "code",
     "collapsed": false,
     "input": [
      "df2 = pd.DataFrame(df2)"
     ],
     "language": "python",
     "metadata": {},
     "outputs": [],
     "prompt_number": 160
    },
    {
     "cell_type": "code",
     "collapsed": false,
     "input": [
      "model.run_model()"
     ],
     "language": "python",
     "metadata": {},
     "outputs": [
      {
       "output_type": "stream",
       "stream": "stdout",
       "text": [
        "17\n",
        "doing weighted"
       ]
      },
      {
       "output_type": "stream",
       "stream": "stdout",
       "text": [
        "\n",
        "124"
       ]
      },
      {
       "output_type": "stream",
       "stream": "stdout",
       "text": [
        "\n",
        "loan_amount: 30.0%"
       ]
      },
      {
       "output_type": "stream",
       "stream": "stdout",
       "text": [
        "\n",
        "repayment_term: 18.5%\n",
        "irregular_payments: 16.1%\n",
        "gender: 6.4%\n",
        "PH: 1.8%\n",
        "KH: 1.4%\n",
        "SV: 1.4%\n",
        "bonus_credit_eligibility: 1.3%\n",
        "group_size: 1.2%\n",
        "pay_at_end: 1.1%\n",
        "Education: 1.1%\n",
        "Agriculture: 1.0%\n",
        "dollars: 0.8%\n",
        "theme_Rural Exclusion: 0.8%\n",
        "Housing: 0.8%\n",
        "theme_none: 0.7%\n",
        "theme_Water and Sanitation: 0.7%\n",
        "ZW: 0.7%\n",
        "theme_Mobile Technology: 0.7%\n",
        "Arts: 0.7%\n",
        "LR: 0.7%\n",
        "CO: 0.7%\n",
        "Retail: 0.6%\n",
        "UG: 0.6%\n",
        "Manufacturing: 0.6%\n",
        "theme_Underfunded Areas: 0.5%\n",
        "theme_Higher Education: 0.5%\n",
        "theme_Innovative Loans: 0.5%\n",
        "KE: 0.5%\n",
        "theme_Conflict Zones: 0.5%\n",
        "Food: 0.3%\n",
        "Health: 0.3%\n",
        "PS: 0.3%\n",
        "NI: 0.2%\n",
        "VN: 0.2%\n",
        "ID: 0.2%\n",
        "PE: 0.2%\n",
        "PK: 0.2%\n",
        "Clothing: 0.2%\n",
        "Services: 0.2%\n",
        "theme_Youth: 0.2%\n",
        "theme_Green: 0.2%\n",
        "IQ: 0.2%\n",
        "IN: 0.2%\n",
        "PY: 0.2%\n",
        "EC: 0.2%\n",
        "theme_Disaster recovery: 0.2%\n",
        "Personal Use: 0.2%\n",
        "theme_Vulnerable Groups: 0.2%\n",
        "MX: 0.2%\n",
        "SL: 0.1%\n",
        "TJ: 0.1%\n",
        "CM: 0.1%\n",
        "AM: 0.1%\n",
        "HT: 0.1%\n",
        "ML: 0.1%\n",
        "NG: 0.1%\n",
        "CR: 0.1%\n",
        "RW: 0.1%\n",
        "JO: 0.1%\n",
        "theme_Islamic Finance: 0.1%\n",
        "TZ: 0.1%\n",
        "AZ: 0.1%\n",
        "SN: 0.1%\n",
        "Construction: 0.1%\n",
        "Transportation: 0.1%\n",
        "LB: 0.1%\n",
        "KG: 0.1%\n",
        "theme_Start-Up: 0.1%\n",
        "TL: 0.1%\n",
        "HN: 0.1%\n",
        "WS: 0.1%\n",
        "US: 0.1%\n",
        "theme_Arab Youth: 0.1%\n",
        "theme_Job Creation: 0.1%\n",
        "BJ: 0.1%\n",
        "YE: 0.0%\n",
        "GE: 0.0%\n",
        "GT: 0.0%\n",
        "GH: 0.0%\n",
        "BO: 0.0%\n",
        "BF: 0.0%\n",
        "SR: 0.0%\n",
        "UA: 0.0%\n",
        "MN: 0.0%\n",
        "theme_Growing Businesses: 0.0%\n",
        "TG: 0.0%\n",
        "theme_Fair Trade: 0.0%\n",
        "XK: 0.0%\n",
        "BZ: 0.0%\n",
        "AL: 0.0%\n",
        "CG: 0.0%\n",
        "LA: 0.0%\n",
        "BI: 0.0%\n",
        "MZ: 0.0%\n",
        "CD: 0.0%\n",
        "ZA: 0.0%\n",
        "DO: 0.0%\n",
        "MM: 0.0%\n",
        "IL: 0.0%\n",
        "TR: 0.0%\n",
        "currency_loss: 0.0%\n",
        "theme_Flexible Credit Study: 0.0%\n",
        "TH: 0.0%\n",
        "CN: 0.0%\n",
        "CL: 0.0%\n",
        "BR: 0.0%\n",
        "SO: 0.0%\n",
        "VU: 0.0%\n",
        "SB: 0.0%\n",
        "VC: 0.0%\n",
        "QS: 0.0%\n",
        "MD: 0.0%\n",
        "PA: 0.0%\n",
        "Wholesale: 0.0%\n",
        "NP: 0.0%\n",
        "ZM: 0.0%\n",
        "theme_SME: 0.0%\n",
        "MW: 0.0%\n",
        "MR: 0.0%\n",
        "Entertainment: 0.0%\n",
        "theme_Kiva City Detroit: 0.0%\n",
        "theme_Kiva City LA: 0.0%\n",
        "theme_Health: 0.0%\n"
       ]
      }
     ],
     "prompt_number": 2
    },
    {
     "cell_type": "code",
     "collapsed": false,
     "input": [
      "df"
     ],
     "language": "python",
     "metadata": {},
     "outputs": [
      {
       "ename": "NameError",
       "evalue": "name 'df' is not defined",
       "output_type": "pyerr",
       "traceback": [
        "\u001b[1;31m---------------------------------------------------------------------------\u001b[0m\n\u001b[1;31mNameError\u001b[0m                                 Traceback (most recent call last)",
        "\u001b[1;32m<ipython-input-3-7ed0097d7e9e>\u001b[0m in \u001b[0;36m<module>\u001b[1;34m()\u001b[0m\n\u001b[1;32m----> 1\u001b[1;33m \u001b[0mdf\u001b[0m\u001b[1;33m\u001b[0m\u001b[0m\n\u001b[0m",
        "\u001b[1;31mNameError\u001b[0m: name 'df' is not defined"
       ]
      }
     ],
     "prompt_number": 3
    },
    {
     "cell_type": "code",
     "collapsed": false,
     "input": [
      "jan = df[(df.posted_date > '2014-1-01') & (df.posted_date < '2014-2-01')]\n",
      "feb = df[(df.posted_date > '2014-2-01') & (df.posted_date < '2014-3-01')]\n",
      "march = df[(df.posted_date > '2014-3-01') & (df.posted_date < '2014-4-01')]\n",
      "april = df[(df.posted_date > '2014-4-01') & (df.posted_date < '2014-5-01')]\n",
      "may = df[(df.posted_date > '2014-5-01') & (df.posted_date < '2014-6-01')]\n",
      "june = df[(df.posted_date > '2014-6-01') & (df.posted_date < '2014-7-01')]\n",
      "july = df[(df.posted_date > '2014-7-01') & (df.posted_date < '2014-8-01')]\n",
      "aug = df[(df.posted_date > '2014-8-01') & (df.posted_date < '2014-9-01')]\n",
      "sep = df[(df.posted_date > '2014-9-01') & (df.posted_date < '2014-10-01')]\n",
      "oct = df[(df.posted_date > '2014-10-01') & (df.posted_date < '2014-11-01')]\n",
      "nov = df[(df.posted_date > '2014-11-01') & (df.posted_date < '2014-12-01')]\n",
      "augsep = df[(df.posted_date > '2014-8-01') & (df.posted_date < '2014-10-01')]\n",
      "apsep = df[(df.posted_date > '2014-4-01') & (df.posted_date < '2014-10-01')]\n"
     ],
     "language": "python",
     "metadata": {},
     "outputs": [],
     "prompt_number": 3
    },
    {
     "cell_type": "code",
     "collapsed": false,
     "input": [
      "reload(model)\n",
      "mod = model.funding_model()\n",
      "mod.transform_fit(jan)\n",
      "mod.predict(jan)\n",
      "mod.predict(feb)\n",
      "mod.predict(march)\n",
      "mod.predict(april)\n",
      "mod.predict(may)\n",
      "mod.predict(june)\n",
      "mod.predict(july)\n",
      "mod.predict(aug)\n",
      "mod.predict(sep)"
     ],
     "language": "python",
     "metadata": {},
     "outputs": [
      {
       "output_type": "stream",
       "stream": "stdout",
       "text": [
        "17\n",
        "doing weighted"
       ]
      },
      {
       "output_type": "stream",
       "stream": "stdout",
       "text": [
        "\n",
        "106"
       ]
      },
      {
       "output_type": "stream",
       "stream": "stdout",
       "text": [
        "\n",
        "106"
       ]
      },
      {
       "output_type": "stream",
       "stream": "stdout",
       "text": [
        "\n",
        "106\n",
        "0\n",
        "0\n",
        "106\n",
        "106\n",
        "pct_positive"
       ]
      },
      {
       "output_type": "stream",
       "stream": "stdout",
       "text": [
        " 0.0318977553431\n",
        "true_pos: 0.0317 false_pos: 0.1433\n",
        "true_neg 0.8248 false_neg 0.0002\n",
        "recall: 0.9933 precision: 0.1811\n",
        "109"
       ]
      },
      {
       "output_type": "stream",
       "stream": "stdout",
       "text": [
        "\n",
        "106\n",
        "2\n",
        "5\n",
        "104\n",
        "106\n",
        "pct_positive"
       ]
      },
      {
       "output_type": "stream",
       "stream": "stdout",
       "text": [
        " 0.0126262626263\n",
        "true_pos: 0.0078 false_pos: 0.1324\n",
        "true_neg 0.8549 false_neg 0.0048\n",
        "recall: 0.6176 precision: 0.0556\n",
        "109"
       ]
      },
      {
       "output_type": "stream",
       "stream": "stdout",
       "text": [
        "\n",
        "106\n",
        "3\n",
        "6\n",
        "103\n",
        "106\n",
        "pct_positive"
       ]
      },
      {
       "output_type": "stream",
       "stream": "stdout",
       "text": [
        " 0.00690713737529\n",
        "true_pos: 0.0052 false_pos: 0.1283\n",
        "true_neg 0.8648 false_neg 0.0017\n",
        "recall: 0.7475 precision: 0.0387\n",
        "112"
       ]
      },
      {
       "output_type": "stream",
       "stream": "stdout",
       "text": [
        "\n",
        "106\n",
        "3\n",
        "9\n",
        "103\n",
        "106\n",
        "pct_positive"
       ]
      },
      {
       "output_type": "stream",
       "stream": "stdout",
       "text": [
        " 0.0408048741382\n",
        "true_pos: 0.0274 false_pos: 0.1146\n",
        "true_neg 0.8446 false_neg 0.0134\n",
        "recall: 0.6719 precision: 0.1931\n",
        "109"
       ]
      },
      {
       "output_type": "stream",
       "stream": "stdout",
       "text": [
        "\n",
        "106\n",
        "5\n",
        "8\n",
        "101\n",
        "106\n",
        "pct_positive"
       ]
      },
      {
       "output_type": "stream",
       "stream": "stdout",
       "text": [
        " 0.047319121447\n",
        "true_pos: 0.0316 false_pos: 0.1104\n",
        "true_neg 0.8423 false_neg 0.0157\n",
        "recall: 0.6672 precision: 0.2224\n",
        "113"
       ]
      },
      {
       "output_type": "stream",
       "stream": "stdout",
       "text": [
        "\n",
        "106\n",
        "3\n",
        "10\n",
        "103\n",
        "106\n",
        "pct_positive"
       ]
      },
      {
       "output_type": "stream",
       "stream": "stdout",
       "text": [
        " 0.0582904222451\n",
        "true_pos: 0.0267 false_pos: 0.1053\n",
        "true_neg 0.8365 false_neg 0.0316\n",
        "recall: 0.4582 precision: 0.2024\n",
        "112"
       ]
      },
      {
       "output_type": "stream",
       "stream": "stdout",
       "text": [
        "\n",
        "106\n",
        "4\n",
        "10\n",
        "102\n",
        "106\n",
        "pct_positive"
       ]
      },
      {
       "output_type": "stream",
       "stream": "stdout",
       "text": [
        " 0.0314858891533\n",
        "true_pos: 0.0195 false_pos: 0.113\n",
        "true_neg 0.8556 false_neg 0.012\n",
        "recall: 0.6199 precision: 0.1473\n",
        "111"
       ]
      },
      {
       "output_type": "stream",
       "stream": "stdout",
       "text": [
        "\n",
        "106\n",
        "4\n",
        "9\n",
        "102\n",
        "106\n",
        "pct_positive"
       ]
      },
      {
       "output_type": "stream",
       "stream": "stdout",
       "text": [
        " 0.0871212121212\n",
        "true_pos: 0.0467 false_pos: 0.1013\n",
        "true_neg 0.8116 false_neg 0.0404\n",
        "recall: 0.5365 precision: 0.3158\n",
        "114"
       ]
      },
      {
       "output_type": "stream",
       "stream": "stdout",
       "text": [
        "\n",
        "106\n",
        "3\n",
        "11\n",
        "103\n",
        "106\n",
        "pct_positive"
       ]
      },
      {
       "output_type": "stream",
       "stream": "stdout",
       "text": [
        " 0.0986537652503\n",
        "true_pos: 0.0467 false_pos: 0.0868\n",
        "true_neg 0.8145 false_neg 0.052\n",
        "recall: 0.4733 precision: 0.3498\n"
       ]
      }
     ],
     "prompt_number": 14
    },
    {
     "cell_type": "code",
     "collapsed": false,
     "input": [
      "reload(model)\n",
      "mod = model.funding_model()\n",
      "mod.transform_fit(april)\n",
      "mod.predict(jan)\n",
      "mod.predict(feb)\n",
      "mod.predict(march)\n",
      "mod.predict(april)\n",
      "mod.predict(may)\n",
      "mod.predict(june)\n",
      "mod.predict(july)\n",
      "mod.predict(aug)\n",
      "mod.predict(sep)"
     ],
     "language": "python",
     "metadata": {},
     "outputs": [
      {
       "output_type": "stream",
       "stream": "stdout",
       "text": [
        "17\n",
        "doing weighted"
       ]
      },
      {
       "output_type": "stream",
       "stream": "stdout",
       "text": [
        "\n",
        "112"
       ]
      },
      {
       "output_type": "stream",
       "stream": "stdout",
       "text": [
        "\n",
        "106"
       ]
      },
      {
       "output_type": "stream",
       "stream": "stdout",
       "text": [
        "\n",
        "112\n",
        "9\n",
        "3\n",
        "103\n",
        "112\n",
        "pct_positive"
       ]
      },
      {
       "output_type": "stream",
       "stream": "stdout",
       "text": [
        " 0.0318977553431\n",
        "true_pos: 0.0317 false_pos: 0.257\n",
        "true_neg 0.7111 false_neg 0.0002\n",
        "recall: 0.9933 precision: 0.1097\n",
        "109"
       ]
      },
      {
       "output_type": "stream",
       "stream": "stdout",
       "text": [
        "\n",
        "112\n",
        "5\n",
        "2\n",
        "107\n",
        "112\n",
        "pct_positive"
       ]
      },
      {
       "output_type": "stream",
       "stream": "stdout",
       "text": [
        " 0.0126262626263\n",
        "true_pos: 0.0081 false_pos: 0.2473\n",
        "true_neg 0.74 false_neg 0.0045\n",
        "recall: 0.6412 precision: 0.0317\n",
        "109"
       ]
      },
      {
       "output_type": "stream",
       "stream": "stdout",
       "text": [
        "\n",
        "112\n",
        "3\n",
        "0\n",
        "109\n",
        "112\n",
        "pct_positive"
       ]
      },
      {
       "output_type": "stream",
       "stream": "stdout",
       "text": [
        " 0.00690713737529\n",
        "true_pos: 0.0056 false_pos: 0.2514\n",
        "true_neg 0.7417 false_neg 0.0013\n",
        "recall: 0.8081 precision: 0.0217\n",
        "112"
       ]
      },
      {
       "output_type": "stream",
       "stream": "stdout",
       "text": [
        "\n",
        "112\n",
        "0\n",
        "0\n",
        "112\n",
        "112\n",
        "pct_positive"
       ]
      },
      {
       "output_type": "stream",
       "stream": "stdout",
       "text": [
        " 0.0408048741382\n",
        "true_pos: 0.0401 false_pos: 0.2289\n",
        "true_neg 0.7303 false_neg 0.0007\n",
        "recall: 0.9823 precision: 0.149\n",
        "109"
       ]
      },
      {
       "output_type": "stream",
       "stream": "stdout",
       "text": [
        "\n",
        "112\n",
        "4\n",
        "1\n",
        "108\n",
        "112\n",
        "pct_positive"
       ]
      },
      {
       "output_type": "stream",
       "stream": "stdout",
       "text": [
        " 0.047319121447\n",
        "true_pos: 0.0409 false_pos: 0.2203\n",
        "true_neg 0.7324 false_neg 0.0065\n",
        "recall: 0.8635 precision: 0.1565\n",
        "113"
       ]
      },
      {
       "output_type": "stream",
       "stream": "stdout",
       "text": [
        "\n",
        "112\n",
        "2\n",
        "3\n",
        "110\n",
        "112\n",
        "pct_positive"
       ]
      },
      {
       "output_type": "stream",
       "stream": "stdout",
       "text": [
        " 0.0582904222451\n",
        "true_pos: 0.0435 false_pos: 0.2058\n",
        "true_neg 0.7359 false_neg 0.0148\n",
        "recall: 0.7456 precision: 0.1744\n",
        "112"
       ]
      },
      {
       "output_type": "stream",
       "stream": "stdout",
       "text": [
        "\n",
        "112\n",
        "3\n",
        "3\n",
        "109\n",
        "112\n",
        "pct_positive"
       ]
      },
      {
       "output_type": "stream",
       "stream": "stdout",
       "text": [
        " 0.0314858891533\n",
        "true_pos: 0.0269 false_pos: 0.2395\n",
        "true_neg 0.729 false_neg 0.0046\n",
        "recall: 0.8531 precision: 0.1008\n",
        "111"
       ]
      },
      {
       "output_type": "stream",
       "stream": "stdout",
       "text": [
        "\n",
        "112\n",
        "5\n",
        "4\n",
        "107\n",
        "112\n",
        "pct_positive"
       ]
      },
      {
       "output_type": "stream",
       "stream": "stdout",
       "text": [
        " 0.0871212121212\n",
        "true_pos: 0.067 false_pos: 0.2384\n",
        "true_neg 0.6745 false_neg 0.0201\n",
        "recall: 0.7695 precision: 0.2195\n",
        "114"
       ]
      },
      {
       "output_type": "stream",
       "stream": "stdout",
       "text": [
        "\n",
        "112\n",
        "4\n",
        "6\n",
        "108\n",
        "112\n",
        "pct_positive"
       ]
      },
      {
       "output_type": "stream",
       "stream": "stdout",
       "text": [
        " 0.0986537652503\n",
        "true_pos: 0.0653 false_pos: 0.1757\n",
        "true_neg 0.7256 false_neg 0.0334\n",
        "recall: 0.6617 precision: 0.2709\n"
       ]
      }
     ],
     "prompt_number": 15
    },
    {
     "cell_type": "code",
     "collapsed": false,
     "input": [
      "reload(model)\n",
      "mod = model.funding_model()\n",
      "mod.transform_fit(aug)\n",
      "mod.predict(jan)\n",
      "mod.predict(feb)\n",
      "mod.predict(march)\n",
      "mod.predict(april)\n",
      "mod.predict(may)\n",
      "mod.predict(june)\n",
      "mod.predict(july)\n",
      "mod.predict(aug)\n",
      "mod.predict(sep)"
     ],
     "language": "python",
     "metadata": {},
     "outputs": [
      {
       "output_type": "stream",
       "stream": "stdout",
       "text": [
        "17\n",
        "doing weighted"
       ]
      },
      {
       "output_type": "stream",
       "stream": "stdout",
       "text": [
        "\n",
        "111"
       ]
      },
      {
       "output_type": "stream",
       "stream": "stdout",
       "text": [
        "\n",
        "106"
       ]
      },
      {
       "output_type": "stream",
       "stream": "stdout",
       "text": [
        "\n",
        "111\n",
        "9\n",
        "4\n",
        "102\n",
        "111\n",
        "pct_positive"
       ]
      },
      {
       "output_type": "stream",
       "stream": "stdout",
       "text": [
        " 0.0318977553431\n",
        "true_pos: 0.0315 false_pos: 0.299\n",
        "true_neg 0.6691 false_neg 0.0004\n",
        "recall: 0.9865 precision: 0.0952\n",
        "109"
       ]
      },
      {
       "output_type": "stream",
       "stream": "stdout",
       "text": [
        "\n",
        "111\n",
        "7\n",
        "5\n",
        "104\n",
        "111\n",
        "pct_positive"
       ]
      },
      {
       "output_type": "stream",
       "stream": "stdout",
       "text": [
        " 0.0126262626263\n",
        "true_pos: 0.0126 false_pos: 0.3206\n",
        "true_neg 0.6667 false_neg 0.0001\n",
        "recall: 0.9941 precision: 0.0377\n",
        "109"
       ]
      },
      {
       "output_type": "stream",
       "stream": "stdout",
       "text": [
        "\n",
        "111\n",
        "5\n",
        "3\n",
        "106\n",
        "111\n",
        "pct_positive"
       ]
      },
      {
       "output_type": "stream",
       "stream": "stdout",
       "text": [
        " 0.00690713737529\n",
        "true_pos: 0.0069 false_pos: 0.3055\n",
        "true_neg 0.6876 false_neg 0.0\n",
        "recall: 1.0 precision: 0.0221\n",
        "112"
       ]
      },
      {
       "output_type": "stream",
       "stream": "stdout",
       "text": [
        "\n",
        "111\n",
        "4\n",
        "5\n",
        "107\n",
        "111\n",
        "pct_positive"
       ]
      },
      {
       "output_type": "stream",
       "stream": "stdout",
       "text": [
        " 0.0408048741382\n",
        "true_pos: 0.0389 false_pos: 0.2967\n",
        "true_neg 0.6625 false_neg 0.0019\n",
        "recall: 0.9528 precision: 0.1159\n",
        "109"
       ]
      },
      {
       "output_type": "stream",
       "stream": "stdout",
       "text": [
        "\n",
        "111\n",
        "6\n",
        "4\n",
        "105\n",
        "111\n",
        "pct_positive"
       ]
      },
      {
       "output_type": "stream",
       "stream": "stdout",
       "text": [
        " 0.047319121447\n",
        "true_pos: 0.0445 false_pos: 0.3058\n",
        "true_neg 0.6469 false_neg 0.0028\n",
        "recall: 0.9403 precision: 0.127\n",
        "113"
       ]
      },
      {
       "output_type": "stream",
       "stream": "stdout",
       "text": [
        "\n",
        "111\n",
        "3\n",
        "5\n",
        "108\n",
        "111\n",
        "pct_positive"
       ]
      },
      {
       "output_type": "stream",
       "stream": "stdout",
       "text": [
        " 0.0582904222451\n",
        "true_pos: 0.0563 false_pos: 0.3238\n",
        "true_neg 0.6179 false_neg 0.002\n",
        "recall: 0.9658 precision: 0.1481\n",
        "112"
       ]
      },
      {
       "output_type": "stream",
       "stream": "stdout",
       "text": [
        "\n",
        "111\n",
        "3\n",
        "4\n",
        "108\n",
        "111\n",
        "pct_positive"
       ]
      },
      {
       "output_type": "stream",
       "stream": "stdout",
       "text": [
        " 0.0314858891533\n",
        "true_pos: 0.0308 false_pos: 0.3034\n",
        "true_neg 0.6651 false_neg 0.0007\n",
        "recall: 0.9784 precision: 0.0922\n",
        "111"
       ]
      },
      {
       "output_type": "stream",
       "stream": "stdout",
       "text": [
        "\n",
        "111\n",
        "0\n",
        "0\n",
        "111\n",
        "111\n",
        "pct_positive"
       ]
      },
      {
       "output_type": "stream",
       "stream": "stdout",
       "text": [
        " 0.0871212121212\n",
        "true_pos: 0.086 false_pos: 0.2924\n",
        "true_neg 0.6205 false_neg 0.0011\n",
        "recall: 0.9869 precision: 0.2272\n",
        "114"
       ]
      },
      {
       "output_type": "stream",
       "stream": "stdout",
       "text": [
        "\n",
        "111\n",
        "1\n",
        "4\n",
        "110\n",
        "111\n",
        "pct_positive"
       ]
      },
      {
       "output_type": "stream",
       "stream": "stdout",
       "text": [
        " 0.0986537652503\n",
        "true_pos: 0.0931 false_pos: 0.2692\n",
        "true_neg 0.6321 false_neg 0.0055\n",
        "recall: 0.9439 precision: 0.257\n"
       ]
      }
     ],
     "prompt_number": 17
    },
    {
     "cell_type": "code",
     "collapsed": false,
     "input": [
      "reload(model)\n",
      "mod = model.funding_model()\n",
      "mod.transform_fit(aug)\n",
      "mod.predict(jan)\n",
      "mod.predict(feb)\n",
      "mod.predict(march)\n",
      "mod.predict(april)\n",
      "mod.predict(may)\n",
      "mod.predict(june)\n",
      "mod.predict(july)\n",
      "mod.predict(aug)\n",
      "mod.predict(sep)\n",
      "mod.predict(oct)\n",
      "mod.predict(nov)"
     ],
     "language": "python",
     "metadata": {},
     "outputs": [
      {
       "ename": "NameError",
       "evalue": "name 'aug' is not defined",
       "output_type": "pyerr",
       "traceback": [
        "\u001b[1;31m---------------------------------------------------------------------------\u001b[0m\n\u001b[1;31mNameError\u001b[0m                                 Traceback (most recent call last)",
        "\u001b[1;32m<ipython-input-5-a544460bae5a>\u001b[0m in \u001b[0;36m<module>\u001b[1;34m()\u001b[0m\n\u001b[0;32m      1\u001b[0m \u001b[0mreload\u001b[0m\u001b[1;33m(\u001b[0m\u001b[0mmodel\u001b[0m\u001b[1;33m)\u001b[0m\u001b[1;33m\u001b[0m\u001b[0m\n\u001b[0;32m      2\u001b[0m \u001b[0mmod\u001b[0m \u001b[1;33m=\u001b[0m \u001b[0mmodel\u001b[0m\u001b[1;33m.\u001b[0m\u001b[0mfunding_model\u001b[0m\u001b[1;33m(\u001b[0m\u001b[1;33m)\u001b[0m\u001b[1;33m\u001b[0m\u001b[0m\n\u001b[1;32m----> 3\u001b[1;33m \u001b[0mmod\u001b[0m\u001b[1;33m.\u001b[0m\u001b[0mtransform_fit\u001b[0m\u001b[1;33m(\u001b[0m\u001b[0maug\u001b[0m\u001b[1;33m)\u001b[0m\u001b[1;33m\u001b[0m\u001b[0m\n\u001b[0m\u001b[0;32m      4\u001b[0m \u001b[0mmod\u001b[0m\u001b[1;33m.\u001b[0m\u001b[0mpredict\u001b[0m\u001b[1;33m(\u001b[0m\u001b[0mjan\u001b[0m\u001b[1;33m)\u001b[0m\u001b[1;33m\u001b[0m\u001b[0m\n\u001b[0;32m      5\u001b[0m \u001b[0mmod\u001b[0m\u001b[1;33m.\u001b[0m\u001b[0mpredict\u001b[0m\u001b[1;33m(\u001b[0m\u001b[0mfeb\u001b[0m\u001b[1;33m)\u001b[0m\u001b[1;33m\u001b[0m\u001b[0m\n",
        "\u001b[1;31mNameError\u001b[0m: name 'aug' is not defined"
       ]
      }
     ],
     "prompt_number": 5
    },
    {
     "cell_type": "code",
     "collapsed": false,
     "input": [
      "reload(model)\n",
      "mod = model.funding_model()\n",
      "mod.transform_fit(sep)\n",
      "mod.predict(jan)\n",
      "mod.predict(feb)\n",
      "mod.predict(march)\n",
      "mod.predict(april)\n",
      "mod.predict(may)\n",
      "mod.predict(june)\n",
      "mod.predict(july)\n",
      "mod.predict(aug)\n",
      "mod.predict(sep)\n",
      "mod.predict(oct)\n",
      "mod.predict(nov)"
     ],
     "language": "python",
     "metadata": {},
     "outputs": [
      {
       "output_type": "stream",
       "stream": "stdout",
       "text": [
        "17\n",
        "doing weighted"
       ]
      },
      {
       "output_type": "stream",
       "stream": "stdout",
       "text": [
        "\n",
        "114"
       ]
      },
      {
       "output_type": "stream",
       "stream": "stdout",
       "text": [
        "\n",
        "106"
       ]
      },
      {
       "output_type": "stream",
       "stream": "stdout",
       "text": [
        "\n",
        "114\n",
        "11\n",
        "3\n",
        "103\n",
        "114\n",
        "pct_positive"
       ]
      },
      {
       "output_type": "stream",
       "stream": "stdout",
       "text": [
        " 0.0318977553431\n",
        "true_pos: 0.0314 false_pos: 0.3213\n",
        "true_neg 0.6468 false_neg 0.0005\n",
        "recall: 0.9832 precision: 0.0889\n",
        "109"
       ]
      },
      {
       "output_type": "stream",
       "stream": "stdout",
       "text": [
        "\n",
        "114\n",
        "8\n",
        "3\n",
        "106\n",
        "114\n",
        "pct_positive"
       ]
      },
      {
       "output_type": "stream",
       "stream": "stdout",
       "text": [
        " 0.0126262626263\n",
        "true_pos: 0.0126 false_pos: 0.3404\n",
        "true_neg 0.647 false_neg 0.0\n",
        "recall: 1.0 precision: 0.0358\n",
        "109"
       ]
      },
      {
       "output_type": "stream",
       "stream": "stdout",
       "text": [
        "\n",
        "114\n",
        "6\n",
        "1\n",
        "108\n",
        "114\n",
        "pct_positive"
       ]
      },
      {
       "output_type": "stream",
       "stream": "stdout",
       "text": [
        " 0.00690713737529\n",
        "true_pos: 0.0069 false_pos: 0.3184\n",
        "true_neg 0.6747 false_neg 0.0\n",
        "recall: 1.0 precision: 0.0212\n",
        "112"
       ]
      },
      {
       "output_type": "stream",
       "stream": "stdout",
       "text": [
        "\n",
        "114\n",
        "6\n",
        "4\n",
        "108\n",
        "114\n",
        "pct_positive"
       ]
      },
      {
       "output_type": "stream",
       "stream": "stdout",
       "text": [
        " 0.0408048741382\n",
        "true_pos: 0.0394 false_pos: 0.3034\n",
        "true_neg 0.6558 false_neg 0.0014\n",
        "recall: 0.9646 precision: 0.1148\n",
        "109"
       ]
      },
      {
       "output_type": "stream",
       "stream": "stdout",
       "text": [
        "\n",
        "114\n",
        "8\n",
        "3\n",
        "106\n",
        "114\n",
        "pct_positive"
       ]
      },
      {
       "output_type": "stream",
       "stream": "stdout",
       "text": [
        " 0.047319121447\n",
        "true_pos: 0.0447 false_pos: 0.3326\n",
        "true_neg 0.6201 false_neg 0.0027\n",
        "recall: 0.9437 precision: 0.1184\n",
        "113"
       ]
      },
      {
       "output_type": "stream",
       "stream": "stdout",
       "text": [
        "\n",
        "114\n",
        "4\n",
        "3\n",
        "110\n",
        "114\n",
        "pct_positive"
       ]
      },
      {
       "output_type": "stream",
       "stream": "stdout",
       "text": [
        " 0.0582904222451\n",
        "true_pos: 0.0548 false_pos: 0.3243\n",
        "true_neg 0.6174 false_neg 0.0035\n",
        "recall: 0.9399 precision: 0.1445\n",
        "112"
       ]
      },
      {
       "output_type": "stream",
       "stream": "stdout",
       "text": [
        "\n",
        "114\n",
        "5\n",
        "3\n",
        "109\n",
        "114\n",
        "pct_positive"
       ]
      },
      {
       "output_type": "stream",
       "stream": "stdout",
       "text": [
        " 0.0314858891533\n",
        "true_pos: 0.0304 false_pos: 0.297\n",
        "true_neg 0.6715 false_neg 0.0011\n",
        "recall: 0.9654 precision: 0.0929\n",
        "111"
       ]
      },
      {
       "output_type": "stream",
       "stream": "stdout",
       "text": [
        "\n",
        "114\n",
        "4\n",
        "1\n",
        "110\n",
        "114\n",
        "pct_positive"
       ]
      },
      {
       "output_type": "stream",
       "stream": "stdout",
       "text": [
        " 0.0871212121212\n",
        "true_pos: 0.082 false_pos: 0.2987\n",
        "true_neg 0.6142 false_neg 0.0051\n",
        "recall: 0.9409 precision: 0.2154\n",
        "114"
       ]
      },
      {
       "output_type": "stream",
       "stream": "stdout",
       "text": [
        "\n",
        "114\n",
        "0\n",
        "0\n",
        "114\n",
        "114\n",
        "pct_positive"
       ]
      },
      {
       "output_type": "stream",
       "stream": "stdout",
       "text": [
        " 0.0986537652503\n",
        "true_pos: 0.097 false_pos: 0.2766\n",
        "true_neg 0.6247 false_neg 0.0016\n",
        "recall: 0.9837 precision: 0.2597\n",
        "112"
       ]
      },
      {
       "output_type": "stream",
       "stream": "stdout",
       "text": [
        "\n",
        "114\n",
        "5\n",
        "3\n",
        "109\n",
        "114\n",
        "pct_positive"
       ]
      },
      {
       "output_type": "stream",
       "stream": "stdout",
       "text": [
        " 0.051148613486\n",
        "true_pos: 0.0502 false_pos: 0.3251\n",
        "true_neg 0.6237 false_neg 0.001\n",
        "recall: 0.9811 precision: 0.1337\n",
        "111"
       ]
      },
      {
       "output_type": "stream",
       "stream": "stdout",
       "text": [
        "\n",
        "114\n",
        "8\n",
        "5\n",
        "106\n",
        "114\n",
        "pct_positive"
       ]
      },
      {
       "output_type": "stream",
       "stream": "stdout",
       "text": [
        " 0.140450114334\n",
        "true_pos: 0.1354 false_pos: 0.2597\n",
        "true_neg 0.5998 false_neg 0.0051\n",
        "recall: 0.964 precision: 0.3427\n"
       ]
      }
     ],
     "prompt_number": 20
    },
    {
     "cell_type": "code",
     "collapsed": false,
     "input": [
      "mod.feat_imp()"
     ],
     "language": "python",
     "metadata": {},
     "outputs": [
      {
       "output_type": "stream",
       "stream": "stdout",
       "text": [
        "repayment_term: 34.4%\n",
        "irregular_payments: 20.2%\n",
        "loan_amount: 16.8%\n",
        "gender: 5.2%\n",
        "pay_at_end: 1.6%\n",
        "KH: 1.4%\n",
        "group_size: 1.3%\n",
        "Retail: 1.1%\n",
        "bonus_credit_eligibility: 1.1%\n",
        "SN: 1.0%\n",
        "Arts: 0.9%\n",
        "SV: 0.9%\n",
        "Education: 0.9%\n",
        "KE: 0.8%\n",
        "VN: 0.7%\n",
        "theme_Rural Exclusion: 0.7%\n",
        "theme_Disaster recovery: 0.7%\n",
        "HT: 0.5%\n",
        "Agriculture: 0.5%\n",
        "ZW: 0.5%\n",
        "theme_Higher Education: 0.4%\n",
        "Housing: 0.4%\n",
        "dollars: 0.4%\n",
        "theme_Underfunded Areas: 0.4%\n",
        "theme_Water and Sanitation: 0.4%\n",
        "UG: 0.4%\n",
        "theme_none: 0.3%\n",
        "PE: 0.3%\n",
        "IN: 0.3%\n",
        "WS: 0.3%\n",
        "PS: 0.3%\n",
        "PH: 0.3%\n",
        "TG: 0.3%\n",
        "theme_Conflict Zones: 0.3%\n",
        "CO: 0.3%\n",
        "PY: 0.3%\n",
        "TZ: 0.2%\n",
        "Manufacturing: 0.2%\n",
        "TJ: 0.2%\n",
        "Food: 0.2%\n",
        "theme_Innovative Loans: 0.2%\n",
        "RW: 0.2%\n",
        "theme_Green: 0.2%\n",
        "Personal Use: 0.2%\n",
        "PK: 0.2%\n",
        "YE: 0.1%\n",
        "theme_Mobile Technology: 0.1%\n",
        "AM: 0.1%\n",
        "theme_Vulnerable Groups: 0.1%\n",
        "EC: 0.1%\n",
        "ML: 0.1%\n",
        "ID: 0.1%\n",
        "Services: 0.1%\n",
        "XK: 0.1%\n",
        "Health: 0.1%\n",
        "BO: 0.1%\n",
        "HN: 0.1%\n",
        "theme_Youth: 0.1%\n",
        "Construction: 0.1%\n",
        "Transportation: 0.1%\n",
        "GH: 0.1%\n",
        "AZ: 0.1%\n",
        "JO: 0.0%\n",
        "Clothing: 0.0%\n",
        "NI: 0.0%\n",
        "MN: 0.0%\n",
        "SL: 0.0%\n",
        "TL: 0.0%\n",
        "US: 0.0%\n",
        "GT: 0.0%\n",
        "theme_Start-Up: 0.0%\n",
        "KG: 0.0%\n",
        "theme_Arab Youth: 0.0%\n",
        "theme_Growing Businesses: 0.0%\n",
        "CD: 0.0%\n",
        "currency_loss: 0.0%\n",
        "VC: 0.0%\n",
        "theme_Kiva City LA: 0.0%\n",
        "UA: 0.0%\n",
        "theme_Kiva City Detroit: 0.0%\n",
        "theme_Fair Trade: 0.0%\n",
        "theme_Flexible Credit Study: 0.0%\n",
        "theme_Health: 0.0%\n",
        "theme_Islamic Finance: 0.0%\n",
        "theme_Job Creation: 0.0%\n",
        "theme_SME: 0.0%\n",
        "Wholesale: 0.0%\n",
        "TR: 0.0%\n",
        "IQ: 0.0%\n",
        "NP: 0.0%\n",
        "MZ: 0.0%\n",
        "MX: 0.0%\n",
        "MW: 0.0%\n",
        "MM: 0.0%\n",
        "MD: 0.0%\n",
        "LR: 0.0%\n",
        "LB: 0.0%\n",
        "LA: 0.0%\n",
        "SO: 0.0%\n",
        "SR: 0.0%\n",
        "IL: 0.0%\n",
        "Entertainment: 0.0%\n",
        "GE: 0.0%\n",
        "DO: 0.0%\n",
        "CR: 0.0%\n",
        "CM: 0.0%\n",
        "ZM: 0.0%\n",
        "BZ: 0.0%\n",
        "BJ: 0.0%\n",
        "BI: 0.0%\n",
        "BF: 0.0%\n",
        "AL: 0.0%\n",
        "TH: 0.0%\n",
        "CG: 0.0%\n"
       ]
      }
     ],
     "prompt_number": 21
    },
    {
     "cell_type": "code",
     "collapsed": false,
     "input": [
      "reload(model)\n",
      "mod = model.funding_model()\n",
      "mod.transform_fit(augsep,weight=1.5)\n",
      "mod.predict(jan)\n",
      "mod.predict(feb)\n",
      "mod.predict(march)\n",
      "mod.predict(april)\n",
      "mod.predict(may)\n",
      "mod.predict(june)\n",
      "mod.predict(july)\n",
      "mod.predict(aug)\n",
      "mod.predict(sep)\n",
      "mod.predict(oct)\n",
      "mod.predict(nov)"
     ],
     "language": "python",
     "metadata": {},
     "outputs": [
      {
       "output_type": "stream",
       "stream": "stdout",
       "text": [
        "17\n",
        "doing weighted"
       ]
      },
      {
       "output_type": "stream",
       "stream": "stdout",
       "text": [
        "\n",
        "115"
       ]
      },
      {
       "output_type": "stream",
       "stream": "stdout",
       "text": [
        "\n",
        "106"
       ]
      },
      {
       "output_type": "stream",
       "stream": "stdout",
       "text": [
        "\n",
        "115\n",
        "12\n",
        "3\n",
        "103\n",
        "115\n",
        "pct_positive"
       ]
      },
      {
       "output_type": "stream",
       "stream": "stdout",
       "text": [
        " 0.0318977553431\n",
        "true_pos: 0.0317 false_pos: 0.3106\n",
        "true_neg 0.6575 false_neg 0.0002\n",
        "recall: 0.9933 precision: 0.0926\n",
        "109"
       ]
      },
      {
       "output_type": "stream",
       "stream": "stdout",
       "text": [
        "\n",
        "115\n",
        "9\n",
        "3\n",
        "106\n",
        "115\n",
        "pct_positive"
       ]
      },
      {
       "output_type": "stream",
       "stream": "stdout",
       "text": [
        " 0.0126262626263\n",
        "true_pos: 0.0125 false_pos: 0.275\n",
        "true_neg 0.7124 false_neg 0.0001\n",
        "recall: 0.9882 precision: 0.0434\n",
        "109"
       ]
      },
      {
       "output_type": "stream",
       "stream": "stdout",
       "text": [
        "\n",
        "115\n",
        "7\n",
        "1\n",
        "108\n",
        "115\n",
        "pct_positive"
       ]
      },
      {
       "output_type": "stream",
       "stream": "stdout",
       "text": [
        " 0.00690713737529\n",
        "true_pos: 0.0069 false_pos: 0.2877\n",
        "true_neg 0.7054 false_neg 0.0\n",
        "recall: 1.0 precision: 0.0234\n",
        "112"
       ]
      },
      {
       "output_type": "stream",
       "stream": "stdout",
       "text": [
        "\n",
        "115\n",
        "6\n",
        "3\n",
        "109\n",
        "115\n",
        "pct_positive"
       ]
      },
      {
       "output_type": "stream",
       "stream": "stdout",
       "text": [
        " 0.0408048741382\n",
        "true_pos: 0.0394 false_pos: 0.2765\n",
        "true_neg 0.6827 false_neg 0.0014\n",
        "recall: 0.9646 precision: 0.1246\n",
        "109"
       ]
      },
      {
       "output_type": "stream",
       "stream": "stdout",
       "text": [
        "\n",
        "115\n",
        "8\n",
        "2\n",
        "107\n",
        "115\n",
        "pct_positive"
       ]
      },
      {
       "output_type": "stream",
       "stream": "stdout",
       "text": [
        " 0.047319121447\n",
        "true_pos: 0.0443 false_pos: 0.2976\n",
        "true_neg 0.655 false_neg 0.003\n",
        "recall: 0.9369 precision: 0.1296\n",
        "113"
       ]
      },
      {
       "output_type": "stream",
       "stream": "stdout",
       "text": [
        "\n",
        "115\n",
        "4\n",
        "2\n",
        "111\n",
        "115\n",
        "pct_positive"
       ]
      },
      {
       "output_type": "stream",
       "stream": "stdout",
       "text": [
        " 0.0582904222451\n",
        "true_pos: 0.0562 false_pos: 0.2909\n",
        "true_neg 0.6508 false_neg 0.0021\n",
        "recall: 0.9635 precision: 0.1618\n",
        "112"
       ]
      },
      {
       "output_type": "stream",
       "stream": "stdout",
       "text": [
        "\n",
        "115\n",
        "5\n",
        "2\n",
        "110\n",
        "115\n",
        "pct_positive"
       ]
      },
      {
       "output_type": "stream",
       "stream": "stdout",
       "text": [
        " 0.0314858891533\n",
        "true_pos: 0.0305 false_pos: 0.2809\n",
        "true_neg 0.6877 false_neg 0.001\n",
        "recall: 0.9698 precision: 0.0981\n",
        "111"
       ]
      },
      {
       "output_type": "stream",
       "stream": "stdout",
       "text": [
        "\n",
        "115\n",
        "4\n",
        "0\n",
        "111\n",
        "115\n",
        "pct_positive"
       ]
      },
      {
       "output_type": "stream",
       "stream": "stdout",
       "text": [
        " 0.0871212121212\n",
        "true_pos: 0.0843 false_pos: 0.2652\n",
        "true_neg 0.6477 false_neg 0.0028\n",
        "recall: 0.968 precision: 0.2413\n",
        "114"
       ]
      },
      {
       "output_type": "stream",
       "stream": "stdout",
       "text": [
        "\n",
        "115\n",
        "1\n",
        "0\n",
        "114\n",
        "115\n",
        "pct_positive"
       ]
      },
      {
       "output_type": "stream",
       "stream": "stdout",
       "text": [
        " 0.0986537652503\n",
        "true_pos: 0.0951 false_pos: 0.2289\n",
        "true_neg 0.6725 false_neg 0.0036\n",
        "recall: 0.9638 precision: 0.2935\n",
        "112"
       ]
      },
      {
       "output_type": "stream",
       "stream": "stdout",
       "text": [
        "\n",
        "115\n",
        "5\n",
        "2\n",
        "110\n",
        "115\n",
        "pct_positive"
       ]
      },
      {
       "output_type": "stream",
       "stream": "stdout",
       "text": [
        " 0.051148613486\n",
        "true_pos: 0.0494 false_pos: 0.2857\n",
        "true_neg 0.6631 false_neg 0.0017\n",
        "recall: 0.9666 precision: 0.1475\n",
        "111"
       ]
      },
      {
       "output_type": "stream",
       "stream": "stdout",
       "text": [
        "\n",
        "115\n",
        "8\n",
        "4\n",
        "107\n",
        "115\n",
        "pct_positive"
       ]
      },
      {
       "output_type": "stream",
       "stream": "stdout",
       "text": [
        " 0.140450114334\n",
        "true_pos: 0.1317 false_pos: 0.2163\n",
        "true_neg 0.6433 false_neg 0.0088\n",
        "recall: 0.9374 precision: 0.3784\n"
       ]
      }
     ],
     "prompt_number": 23
    },
    {
     "cell_type": "code",
     "collapsed": false,
     "input": [
      "reload(model)\n",
      "mod = model.funding_model()\n",
      "mod.transform_fit(augsep)\n",
      "mod.predict(jan)\n",
      "mod.predict(feb)\n",
      "mod.predict(march)\n",
      "mod.predict(april)\n",
      "mod.predict(may)\n",
      "mod.predict(june)\n",
      "mod.predict(july)\n",
      "mod.predict(aug)\n",
      "mod.predict(sep)\n",
      "mod.predict(oct)\n",
      "mod.predict(nov)"
     ],
     "language": "python",
     "metadata": {},
     "outputs": [
      {
       "output_type": "stream",
       "stream": "stdout",
       "text": [
        "17\n",
        "doing weighted"
       ]
      },
      {
       "output_type": "stream",
       "stream": "stdout",
       "text": [
        "\n",
        "115"
       ]
      },
      {
       "output_type": "stream",
       "stream": "stdout",
       "text": [
        "\n",
        "106"
       ]
      },
      {
       "output_type": "stream",
       "stream": "stdout",
       "text": [
        "\n",
        "115\n",
        "12\n",
        "3\n",
        "103\n",
        "115\n",
        "pct_positive"
       ]
      },
      {
       "output_type": "stream",
       "stream": "stdout",
       "text": [
        " 0.0318977553431\n",
        "true_pos: 0.0319 false_pos: 0.4612\n",
        "true_neg 0.5069 false_neg 0.0\n",
        "recall: 1.0 precision: 0.0647\n",
        "109"
       ]
      },
      {
       "output_type": "stream",
       "stream": "stdout",
       "text": [
        "\n",
        "115\n",
        "9\n",
        "3\n",
        "106\n",
        "115\n",
        "pct_positive"
       ]
      },
      {
       "output_type": "stream",
       "stream": "stdout",
       "text": [
        " 0.0126262626263\n",
        "true_pos: 0.0114 false_pos: 0.4049\n",
        "true_neg 0.5824 false_neg 0.0012\n",
        "recall: 0.9059 precision: 0.0275\n",
        "109"
       ]
      },
      {
       "output_type": "stream",
       "stream": "stdout",
       "text": [
        "\n",
        "115\n",
        "7\n",
        "1\n",
        "108\n",
        "115\n",
        "pct_positive"
       ]
      },
      {
       "output_type": "stream",
       "stream": "stdout",
       "text": [
        " 0.00690713737529\n",
        "true_pos: 0.0069 false_pos: 0.44\n",
        "true_neg 0.5531 false_neg 0.0\n",
        "recall: 1.0 precision: 0.0155\n",
        "112"
       ]
      },
      {
       "output_type": "stream",
       "stream": "stdout",
       "text": [
        "\n",
        "115\n",
        "6\n",
        "3\n",
        "109\n",
        "115\n",
        "pct_positive"
       ]
      },
      {
       "output_type": "stream",
       "stream": "stdout",
       "text": [
        " 0.0408048741382\n",
        "true_pos: 0.0395 false_pos: 0.4092\n",
        "true_neg 0.55 false_neg 0.0013\n",
        "recall: 0.9686 precision: 0.0881\n",
        "109"
       ]
      },
      {
       "output_type": "stream",
       "stream": "stdout",
       "text": [
        "\n",
        "115\n",
        "8\n",
        "2\n",
        "107\n",
        "115\n",
        "pct_positive"
       ]
      },
      {
       "output_type": "stream",
       "stream": "stdout",
       "text": [
        " 0.047319121447\n",
        "true_pos: 0.0464 false_pos: 0.4469\n",
        "true_neg 0.5058 false_neg 0.0009\n",
        "recall: 0.9812 precision: 0.0941\n",
        "113"
       ]
      },
      {
       "output_type": "stream",
       "stream": "stdout",
       "text": [
        "\n",
        "115\n",
        "4\n",
        "2\n",
        "111\n",
        "115\n",
        "pct_positive"
       ]
      },
      {
       "output_type": "stream",
       "stream": "stdout",
       "text": [
        " 0.0582904222451\n",
        "true_pos: 0.057 false_pos: 0.4092\n",
        "true_neg 0.5325 false_neg 0.0013\n",
        "recall: 0.9776 precision: 0.1222\n",
        "112"
       ]
      },
      {
       "output_type": "stream",
       "stream": "stdout",
       "text": [
        "\n",
        "115\n",
        "5\n",
        "2\n",
        "110\n",
        "115\n",
        "pct_positive"
       ]
      },
      {
       "output_type": "stream",
       "stream": "stdout",
       "text": [
        " 0.0314858891533\n",
        "true_pos: 0.0313 false_pos: 0.4124\n",
        "true_neg 0.5561 false_neg 0.0001\n",
        "recall: 0.9957 precision: 0.0706\n",
        "111"
       ]
      },
      {
       "output_type": "stream",
       "stream": "stdout",
       "text": [
        "\n",
        "115\n",
        "4\n",
        "0\n",
        "111\n",
        "115\n",
        "pct_positive"
       ]
      },
      {
       "output_type": "stream",
       "stream": "stdout",
       "text": [
        " 0.0871212121212\n",
        "true_pos: 0.0863 false_pos: 0.3881\n",
        "true_neg 0.5248 false_neg 0.0009\n",
        "recall: 0.9902 precision: 0.1819\n",
        "114"
       ]
      },
      {
       "output_type": "stream",
       "stream": "stdout",
       "text": [
        "\n",
        "115\n",
        "1\n",
        "0\n",
        "114\n",
        "115\n",
        "pct_positive"
       ]
      },
      {
       "output_type": "stream",
       "stream": "stdout",
       "text": [
        " 0.0986537652503\n",
        "true_pos: 0.0984 false_pos: 0.3662\n",
        "true_neg 0.5351 false_neg 0.0003\n",
        "recall: 0.9972 precision: 0.2117\n",
        "112"
       ]
      },
      {
       "output_type": "stream",
       "stream": "stdout",
       "text": [
        "\n",
        "115\n",
        "5\n",
        "2\n",
        "110\n",
        "115\n",
        "pct_positive"
       ]
      },
      {
       "output_type": "stream",
       "stream": "stdout",
       "text": [
        " 0.051148613486\n",
        "true_pos: 0.0501 false_pos: 0.4536\n",
        "true_neg 0.4953 false_neg 0.001\n",
        "recall: 0.9797 precision: 0.0995\n",
        "111"
       ]
      },
      {
       "output_type": "stream",
       "stream": "stdout",
       "text": [
        "\n",
        "115\n",
        "8\n",
        "4\n",
        "107\n",
        "115\n",
        "pct_positive"
       ]
      },
      {
       "output_type": "stream",
       "stream": "stdout",
       "text": [
        " 0.140450114334\n",
        "true_pos: 0.137 false_pos: 0.342\n",
        "true_neg 0.5175 false_neg 0.0035\n",
        "recall: 0.9751 precision: 0.2859\n"
       ]
      }
     ],
     "prompt_number": 24
    },
    {
     "cell_type": "code",
     "collapsed": false,
     "input": [
      "reload(model)\n",
      "mod = model.funding_model()\n",
      "mod.transform_fit(augsep,weight= 1,leaf=40)\n",
      "mod.predict(jan)\n",
      "mod.predict(feb)\n",
      "mod.predict(march)\n",
      "mod.predict(april)\n",
      "mod.predict(may)\n",
      "mod.predict(june)\n",
      "mod.predict(july)\n",
      "mod.predict(aug)\n",
      "mod.predict(sep)\n",
      "mod.predict(oct)\n",
      "mod.predict(nov)"
     ],
     "language": "python",
     "metadata": {},
     "outputs": [
      {
       "output_type": "stream",
       "stream": "stdout",
       "text": [
        "115\n",
        "actl pos:"
       ]
      },
      {
       "output_type": "stream",
       "stream": "stdout",
       "text": [
        " 0.0319 pred pos: 0.2864\n",
        "true pos: 0.0314 false pos: 0.2551\n",
        "true neg: 0.713 false neg: 0.0005\n",
        "recall: 0.9832 precision: 0.1095\n",
        "115"
       ]
      },
      {
       "output_type": "stream",
       "stream": "stdout",
       "text": [
        "\n",
        "actl pos:"
       ]
      },
      {
       "output_type": "stream",
       "stream": "stdout",
       "text": [
        " 0.0126 pred pos: 0.264\n",
        "true pos: 0.0126 false pos: 0.2513\n",
        "true neg: 0.736 false neg: 0.0\n",
        "recall: 1.0 precision: 0.0478\n",
        "115"
       ]
      },
      {
       "output_type": "stream",
       "stream": "stdout",
       "text": [
        "\n",
        "actl pos:"
       ]
      },
      {
       "output_type": "stream",
       "stream": "stdout",
       "text": [
        " 0.0069 pred pos: 0.2494\n",
        "true pos: 0.0069 false pos: 0.2424\n",
        "true neg: 0.7506 false neg: 0.0\n",
        "recall: 1.0 precision: 0.0277\n",
        "115"
       ]
      },
      {
       "output_type": "stream",
       "stream": "stdout",
       "text": [
        "\n",
        "actl pos:"
       ]
      },
      {
       "output_type": "stream",
       "stream": "stdout",
       "text": [
        " 0.0408 pred pos: 0.264\n",
        "true pos: 0.0369 false pos: 0.2271\n",
        "true neg: 0.7321 false neg: 0.0039\n",
        "recall: 0.9037 precision: 0.1397\n",
        "115"
       ]
      },
      {
       "output_type": "stream",
       "stream": "stdout",
       "text": [
        "\n",
        "actl pos:"
       ]
      },
      {
       "output_type": "stream",
       "stream": "stdout",
       "text": [
        " 0.0473 pred pos: 0.2913\n",
        "true pos: 0.042 false pos: 0.2494\n",
        "true neg: 0.7033 false neg: 0.0053\n",
        "recall: 0.8874 precision: 0.1441\n",
        "115"
       ]
      },
      {
       "output_type": "stream",
       "stream": "stdout",
       "text": [
        "\n",
        "actl pos:"
       ]
      },
      {
       "output_type": "stream",
       "stream": "stdout",
       "text": [
        " 0.0583 pred pos: 0.3046\n",
        "true pos: 0.0542 false pos: 0.2504\n",
        "true neg: 0.6913 false neg: 0.0041\n",
        "recall: 0.9305 precision: 0.178\n",
        "115"
       ]
      },
      {
       "output_type": "stream",
       "stream": "stdout",
       "text": [
        "\n",
        "actl pos:"
       ]
      },
      {
       "output_type": "stream",
       "stream": "stdout",
       "text": [
        " 0.0315 pred pos: 0.2658\n",
        "true pos: 0.0298 false pos: 0.236\n",
        "true neg: 0.7325 false neg: 0.0017\n",
        "recall: 0.946 precision: 0.1121\n",
        "115"
       ]
      },
      {
       "output_type": "stream",
       "stream": "stdout",
       "text": [
        "\n",
        "actl pos:"
       ]
      },
      {
       "output_type": "stream",
       "stream": "stdout",
       "text": [
        " 0.0871 pred pos: 0.3172\n",
        "true pos: 0.0837 false pos: 0.2335\n",
        "true neg: 0.6794 false neg: 0.0034\n",
        "recall: 0.9606 precision: 0.2639\n",
        "115"
       ]
      },
      {
       "output_type": "stream",
       "stream": "stdout",
       "text": [
        "\n",
        "actl pos:"
       ]
      },
      {
       "output_type": "stream",
       "stream": "stdout",
       "text": [
        " 0.0987 pred pos: 0.2904\n",
        "true pos: 0.09 false pos: 0.2005\n",
        "true neg: 0.7009 false neg: 0.0087\n",
        "recall: 0.9119 precision: 0.3098\n",
        "115"
       ]
      },
      {
       "output_type": "stream",
       "stream": "stdout",
       "text": [
        "\n",
        "actl pos:"
       ]
      },
      {
       "output_type": "stream",
       "stream": "stdout",
       "text": [
        " 0.0511 pred pos: 0.2959\n",
        "true pos: 0.0484 false pos: 0.2475\n",
        "true neg: 0.7014 false neg: 0.0028\n",
        "recall: 0.9462 precision: 0.1636\n",
        "115"
       ]
      },
      {
       "output_type": "stream",
       "stream": "stdout",
       "text": [
        "\n",
        "actl pos:"
       ]
      },
      {
       "output_type": "stream",
       "stream": "stdout",
       "text": [
        " 0.1405 pred pos: 0.3181\n",
        "true pos: 0.1261 false pos: 0.192\n",
        "true neg: 0.6676 false neg: 0.0143\n",
        "recall: 0.898 precision: 0.3965\n"
       ]
      }
     ],
     "prompt_number": 11
    },
    {
     "cell_type": "code",
     "collapsed": false,
     "input": [
      "reload(model)\n",
      "mod = model.funding_model()\n",
      "mod.transform_fit(augsep,weight= 1,leaf=40, trees=20, split=50)\n",
      "mod.predict(jan)\n",
      "mod.predict(feb)\n",
      "mod.predict(march)\n",
      "mod.predict(april)\n",
      "mod.predict(may)\n",
      "mod.predict(june)\n",
      "mod.predict(july)\n",
      "mod.predict(aug)\n",
      "mod.predict(sep)\n",
      "mod.predict(oct)\n",
      "mod.predict(nov)"
     ],
     "language": "python",
     "metadata": {},
     "outputs": [
      {
       "output_type": "stream",
       "stream": "stdout",
       "text": [
        "actl pos: 0.0319 pred pos: 0.2753\n",
        "true pos: 0.0316 false pos: 0.2437\n",
        "true neg: 0.7244 false neg: 0.0003\n",
        "recall: 0.9899 precision: 0.1147\n",
        "\n",
        "actl pos:"
       ]
      },
      {
       "output_type": "stream",
       "stream": "stdout",
       "text": [
        " 0.0126 pred pos: 0.2626\n",
        "true pos: 0.0126 false pos: 0.25\n",
        "true neg: 0.7374 false neg: 0.0001\n",
        "recall: 0.9941 precision: 0.0478\n",
        "\n",
        "actl pos:"
       ]
      },
      {
       "output_type": "stream",
       "stream": "stdout",
       "text": [
        " 0.0069 pred pos: 0.2441\n",
        "true pos: 0.0069 false pos: 0.2371\n",
        "true neg: 0.7559 false neg: 0.0\n",
        "recall: 1.0 precision: 0.0283\n",
        "\n",
        "actl pos:"
       ]
      },
      {
       "output_type": "stream",
       "stream": "stdout",
       "text": [
        " 0.0408 pred pos: 0.2593\n",
        "true pos: 0.0371 false pos: 0.2222\n",
        "true neg: 0.737 false neg: 0.0037\n",
        "recall: 0.9096 precision: 0.1431\n",
        "\n",
        "actl pos:"
       ]
      },
      {
       "output_type": "stream",
       "stream": "stdout",
       "text": [
        " 0.0473 pred pos: 0.2865\n",
        "true pos: 0.0422 false pos: 0.2443\n",
        "true neg: 0.7083 false neg: 0.0052\n",
        "recall: 0.8908 precision: 0.1471\n",
        "\n",
        "actl pos:"
       ]
      },
      {
       "output_type": "stream",
       "stream": "stdout",
       "text": [
        " 0.0583 pred pos: 0.3008\n",
        "true pos: 0.054 false pos: 0.2468\n",
        "true neg: 0.6949 false neg: 0.0043\n",
        "recall: 0.9258 precision: 0.1794\n",
        "\n",
        "actl pos:"
       ]
      },
      {
       "output_type": "stream",
       "stream": "stdout",
       "text": [
        " 0.0315 pred pos: 0.264\n",
        "true pos: 0.0299 false pos: 0.2341\n",
        "true neg: 0.7344 false neg: 0.0016\n",
        "recall: 0.9503 precision: 0.1133\n",
        "\n",
        "actl pos:"
       ]
      },
      {
       "output_type": "stream",
       "stream": "stdout",
       "text": [
        " 0.0871 pred pos: 0.3051\n",
        "true pos: 0.0815 false pos: 0.2236\n",
        "true neg: 0.6893 false neg: 0.0056\n",
        "recall: 0.936 precision: 0.2673\n",
        "\n",
        "actl pos:"
       ]
      },
      {
       "output_type": "stream",
       "stream": "stdout",
       "text": [
        " 0.0987 pred pos: 0.293\n",
        "true pos: 0.0925 false pos: 0.2005\n",
        "true neg: 0.7008 false neg: 0.0062\n",
        "recall: 0.9375 precision: 0.3156\n",
        "\n",
        "actl pos:"
       ]
      },
      {
       "output_type": "stream",
       "stream": "stdout",
       "text": [
        " 0.0511 pred pos: 0.2804\n",
        "true pos: 0.0489 false pos: 0.2314\n",
        "true neg: 0.7174 false neg: 0.0022\n",
        "recall: 0.9564 precision: 0.1745\n",
        "\n",
        "actl pos:"
       ]
      },
      {
       "output_type": "stream",
       "stream": "stdout",
       "text": [
        " 0.1405 pred pos: 0.3073\n",
        "true pos: 0.1258 false pos: 0.1815\n",
        "true neg: 0.6781 false neg: 0.0147\n",
        "recall: 0.8955 precision: 0.4093\n",
        "\n"
       ]
      }
     ],
     "prompt_number": 13
    },
    {
     "cell_type": "code",
     "collapsed": false,
     "input": [
      "reload(model)\n",
      "mod = model.funding_model()\n",
      "mod.transform_fit(augsep,weight= 1,leaf=1, trees=20, split=2)\n",
      "mod.predict(jan)\n",
      "mod.predict(feb)\n",
      "mod.predict(march)\n",
      "mod.predict(april)\n",
      "mod.predict(may)\n",
      "mod.predict(june)\n",
      "mod.predict(july)\n",
      "mod.predict(aug)\n",
      "mod.predict(sep)\n",
      "mod.predict(oct)\n",
      "mod.predict(nov)"
     ],
     "language": "python",
     "metadata": {},
     "outputs": [
      {
       "output_type": "stream",
       "stream": "stdout",
       "text": [
        "actl pos: 0.0319 pred pos: 0.0249\n",
        "true pos: 0.007 false pos: 0.0179\n",
        "true neg: 0.9502 false neg: 0.0249\n",
        "recall: 0.2189 precision: 0.2802\n",
        "\n",
        "actl pos:"
       ]
      },
      {
       "output_type": "stream",
       "stream": "stdout",
       "text": [
        " 0.0126 pred pos: 0.028\n",
        "true pos: 0.0017 false pos: 0.0263\n",
        "true neg: 0.9611 false neg: 0.0109\n",
        "recall: 0.1353 precision: 0.061\n",
        "\n",
        "actl pos:"
       ]
      },
      {
       "output_type": "stream",
       "stream": "stdout",
       "text": [
        " 0.0069 pred pos: 0.0389\n",
        "true pos: 0.0028 false pos: 0.0361\n",
        "true neg: 0.957 false neg: 0.0041\n",
        "recall: 0.404 precision: 0.0717\n",
        "\n",
        "actl pos:"
       ]
      },
      {
       "output_type": "stream",
       "stream": "stdout",
       "text": [
        " 0.0408 pred pos: 0.0396\n",
        "true pos: 0.0131 false pos: 0.0265\n",
        "true neg: 0.9327 false neg: 0.0277\n",
        "recall: 0.3222 precision: 0.332\n",
        "\n",
        "actl pos:"
       ]
      },
      {
       "output_type": "stream",
       "stream": "stdout",
       "text": [
        " 0.0473 pred pos: 0.0323\n",
        "true pos: 0.0124 false pos: 0.0199\n",
        "true neg: 0.9327 false neg: 0.035\n",
        "recall: 0.2611 precision: 0.3825\n",
        "\n",
        "actl pos:"
       ]
      },
      {
       "output_type": "stream",
       "stream": "stdout",
       "text": [
        " 0.0583 pred pos: 0.044\n",
        "true pos: 0.0145 false pos: 0.0295\n",
        "true neg: 0.9122 false neg: 0.0438\n",
        "recall: 0.2485 precision: 0.3292\n",
        "\n",
        "actl pos:"
       ]
      },
      {
       "output_type": "stream",
       "stream": "stdout",
       "text": [
        " 0.0315 pred pos: 0.0391\n",
        "true pos: 0.0093 false pos: 0.0298\n",
        "true neg: 0.9387 false neg: 0.0222\n",
        "recall: 0.2959 precision: 0.2383\n",
        "\n",
        "actl pos:"
       ]
      },
      {
       "output_type": "stream",
       "stream": "stdout",
       "text": [
        " 0.0871 pred pos: 0.0466\n",
        "true pos: 0.033 false pos: 0.0136\n",
        "true neg: 0.8993 false neg: 0.0541\n",
        "recall: 0.379 precision: 0.7086\n",
        "\n",
        "actl pos:"
       ]
      },
      {
       "output_type": "stream",
       "stream": "stdout",
       "text": [
        " 0.0987 pred pos: 0.0618\n",
        "true pos: 0.0456 false pos: 0.0162\n",
        "true neg: 0.8851 false neg: 0.053\n",
        "recall: 0.4627 precision: 0.7381\n",
        "\n",
        "actl pos:"
       ]
      },
      {
       "output_type": "stream",
       "stream": "stdout",
       "text": [
        " 0.0511 pred pos: 0.0357\n",
        "true pos: 0.0141 false pos: 0.0216\n",
        "true neg: 0.9273 false neg: 0.037\n",
        "recall: 0.2762 precision: 0.3958\n",
        "\n",
        "actl pos:"
       ]
      },
      {
       "output_type": "stream",
       "stream": "stdout",
       "text": [
        " 0.1405 pred pos: 0.0344\n",
        "true pos: 0.0239 false pos: 0.0105\n",
        "true neg: 0.8491 false neg: 0.1165\n",
        "recall: 0.1705 precision: 0.6958\n",
        "\n"
       ]
      }
     ],
     "prompt_number": 14
    },
    {
     "cell_type": "code",
     "collapsed": false,
     "input": [
      "reload(model)\n",
      "mod = model.funding_model()\n",
      "mod.transform_fit(augsep,weight= 1,leaf=1, trees=200, split=2)\n",
      "mod.predict(oct)\n",
      "mod.predict(nov)"
     ],
     "language": "python",
     "metadata": {},
     "outputs": [
      {
       "output_type": "stream",
       "stream": "stdout",
       "text": [
        "actl pos: 0.0511 pred pos: 0.0265\n",
        "true pos: 0.0117 false pos: 0.0147\n",
        "true neg: 0.9341 false neg: 0.0394\n",
        "recall: 0.2297 precision: 0.4438\n",
        "\n",
        "actl pos:"
       ]
      },
      {
       "output_type": "stream",
       "stream": "stdout",
       "text": [
        " 0.1405 pred pos: 0.0247\n",
        "true pos: 0.0181 false pos: 0.0066\n",
        "true neg: 0.8529 false neg: 0.1224\n",
        "recall: 0.1285 precision: 0.7317\n",
        "\n"
       ]
      }
     ],
     "prompt_number": 20
    },
    {
     "cell_type": "code",
     "collapsed": false,
     "input": [
      "reload(model)\n",
      "mod = model.funding_model()\n",
      "mod.transform_fit(augsep,weight= 1,leaf=20, trees=200, split=500)\n",
      "mod.predict(oct)\n",
      "mod.predict(nov)"
     ],
     "language": "python",
     "metadata": {},
     "outputs": [
      {
       "output_type": "stream",
       "stream": "stdout",
       "text": [
        "actl pos: 0.0511 pred pos: 0.2735\n",
        "true pos: 0.0482 false pos: 0.2253\n",
        "true neg: 0.7236 false neg: 0.0029\n",
        "recall: 0.9433 precision: 0.1764\n",
        "\n",
        "actl pos:"
       ]
      },
      {
       "output_type": "stream",
       "stream": "stdout",
       "text": [
        " 0.1405 pred pos: 0.2949\n",
        "true pos: 0.1235 false pos: 0.1714\n",
        "true neg: 0.6882 false neg: 0.017\n",
        "recall: 0.8792 precision: 0.4188\n",
        "\n"
       ]
      }
     ],
     "prompt_number": 21
    },
    {
     "cell_type": "code",
     "collapsed": false,
     "input": [
      "reload(model)\n",
      "mod = model.funding_model()\n",
      "mod.transform_fit(augsep,weight= 1,leaf=10, trees=100, split=100)\n",
      "mod.predict(oct)\n",
      "mod.predict(nov)"
     ],
     "language": "python",
     "metadata": {},
     "outputs": [
      {
       "output_type": "stream",
       "stream": "stdout",
       "text": [
        "actl pos: 0.0511 pred pos: 0.2388\n",
        "true pos: 0.0479 false pos: 0.1909\n",
        "true neg: 0.7579 false neg: 0.0033\n",
        "recall: 0.936 precision: 0.2005\n",
        "\n",
        "actl pos:"
       ]
      },
      {
       "output_type": "stream",
       "stream": "stdout",
       "text": [
        " 0.1405 pred pos: 0.2634\n",
        "true pos: 0.1169 false pos: 0.1466\n",
        "true neg: 0.713 false neg: 0.0236\n",
        "recall: 0.832 precision: 0.4436\n",
        "\n"
       ]
      }
     ],
     "prompt_number": 24
    },
    {
     "cell_type": "code",
     "collapsed": false,
     "input": [
      "reload(model)\n",
      "mod = model.funding_model()\n",
      "mod.transform_fit(augsep,weight= 1,leaf=10, trees=100, split=100, mf = 5)\n",
      "mod.predict(oct)\n",
      "mod.predict(nov)"
     ],
     "language": "python",
     "metadata": {},
     "outputs": [
      {
       "output_type": "stream",
       "stream": "stdout",
       "text": [
        "actl pos: 0.0511 pred pos: 0.2375\n",
        "true pos: 0.0478 false pos: 0.1897\n",
        "true neg: 0.7592 false neg: 0.0033\n",
        "recall: 0.9346 precision: 0.2013\n",
        "\n",
        "actl pos:"
       ]
      },
      {
       "output_type": "stream",
       "stream": "stdout",
       "text": [
        " 0.1405 pred pos: 0.2549\n",
        "true pos: 0.1165 false pos: 0.1384\n",
        "true neg: 0.7211 false neg: 0.0239\n",
        "recall: 0.8295 precision: 0.457\n",
        "\n"
       ]
      }
     ],
     "prompt_number": 25
    },
    {
     "cell_type": "code",
     "collapsed": false,
     "input": [
      "reload(model)\n",
      "mod = model.funding_model()\n",
      "mod.transform_fit(augsep,weight= 1.5,leaf=10, trees=100, split=100, mf = 3)\n",
      "mod.predict(oct)\n",
      "mod.predict(nov)"
     ],
     "language": "python",
     "metadata": {},
     "outputs": [
      {
       "output_type": "stream",
       "stream": "stdout",
       "text": [
        "actl pos: 0.0511 pred pos: 0.2669\n",
        "true pos: 0.0484 false pos: 0.2185\n",
        "true neg: 0.7304 false neg: 0.0028\n",
        "recall: 0.9462 precision: 0.1813\n",
        "\n",
        "actl pos:"
       ]
      },
      {
       "output_type": "stream",
       "stream": "stdout",
       "text": [
        " 0.1405 pred pos: 0.29\n",
        "true pos: 0.1247 false pos: 0.1654\n",
        "true neg: 0.6942 false neg: 0.0158\n",
        "recall: 0.8877 precision: 0.4299\n",
        "\n"
       ]
      }
     ],
     "prompt_number": 26
    },
    {
     "cell_type": "code",
     "collapsed": false,
     "input": [
      "reload(model)\n",
      "mod = model.funding_model()\n",
      "mod.transform_fit(augsep,weight= 1.5,leaf=10, trees=200, split=100, mf = 2)\n",
      "mod.predict(oct)\n",
      "mod.predict(nov)"
     ],
     "language": "python",
     "metadata": {},
     "outputs": [
      {
       "output_type": "stream",
       "stream": "stdout",
       "text": [
        "actl pos: 0.0511 pred pos: 0.2705\n",
        "true pos: 0.0483 false pos: 0.2221\n",
        "true neg: 0.7267 false neg: 0.0028\n",
        "recall: 0.9448 precision: 0.1787\n",
        "\n",
        "actl pos:"
       ]
      },
      {
       "output_type": "stream",
       "stream": "stdout",
       "text": [
        " 0.1405 pred pos: 0.2919\n",
        "true pos: 0.1243 false pos: 0.1675\n",
        "true neg: 0.692 false neg: 0.0161\n",
        "recall: 0.8852 precision: 0.426\n",
        "\n"
       ]
      }
     ],
     "prompt_number": 27
    },
    {
     "cell_type": "code",
     "collapsed": false,
     "input": [
      "mod.feat_imp()"
     ],
     "language": "python",
     "metadata": {},
     "outputs": [
      {
       "output_type": "stream",
       "stream": "stdout",
       "text": [
        "repayment_term: 21.9%\n",
        "loan_amount: 21.5%\n",
        "irregular_payments: 15.3%\n",
        "gender: 6.1%\n",
        "PH: 2.3%\n",
        "KH: 1.9%\n",
        "group_size: 1.7%\n",
        "SV: 1.6%\n",
        "bonus_credit_eligibility: 1.4%\n",
        "Agriculture: 1.4%\n",
        "pay_at_end: 1.4%\n",
        "NG: 1.1%\n",
        "Retail: 1.0%\n",
        "Housing: 1.0%\n",
        "KE: 1.0%\n",
        "Education: 0.9%\n",
        "UG: 0.8%\n",
        "theme_none: 0.7%\n",
        "Arts: 0.7%\n",
        "theme_Green: 0.7%\n",
        "theme_Water and Sanitation: 0.7%\n",
        "theme_Rural Exclusion: 0.7%\n",
        "ZW: 0.6%\n",
        "CO: 0.6%\n",
        "dollars: 0.6%\n",
        "HT: 0.5%\n",
        "theme_Innovative Loans: 0.5%\n",
        "theme_Underfunded Areas: 0.5%\n",
        "theme_Conflict Zones: 0.5%\n",
        "theme_Higher Education: 0.5%\n",
        "SN: 0.4%\n",
        "theme_Disaster recovery: 0.4%\n",
        "PS: 0.4%\n",
        "Manufacturing: 0.4%\n",
        "IN: 0.4%\n",
        "theme_Mobile Technology: 0.4%\n",
        "PK: 0.3%\n",
        "VN: 0.3%\n",
        "theme_Youth: 0.3%\n",
        "Food: 0.3%\n",
        "ID: 0.3%\n",
        "ML: 0.3%\n",
        "PY: 0.3%\n",
        "theme_Vulnerable Groups: 0.3%\n",
        "TJ: 0.3%\n",
        "Services: 0.3%\n",
        "PE: 0.3%\n",
        "Health: 0.2%\n",
        "EC: 0.2%\n",
        "Personal Use: 0.2%\n",
        "RW: 0.2%\n",
        "Clothing: 0.2%\n",
        "WS: 0.2%\n",
        "JO: 0.2%\n",
        "NI: 0.2%\n",
        "SL: 0.1%\n",
        "AM: 0.1%\n",
        "Transportation: 0.1%\n",
        "BO: 0.1%\n",
        "MX: 0.1%\n",
        "IQ: 0.1%\n",
        "TZ: 0.1%\n",
        "Construction: 0.1%\n",
        "YE: 0.1%\n",
        "TL: 0.1%\n",
        "HN: 0.1%\n",
        "CR: 0.1%\n",
        "theme_Start-Up: 0.1%\n",
        "UA: 0.1%\n",
        "LB: 0.1%\n",
        "GT: 0.1%\n",
        "theme_Arab Youth: 0.1%\n",
        "TG: 0.1%\n",
        "MZ: 0.1%\n",
        "GH: 0.1%\n",
        "LR: 0.1%\n",
        "LA: 0.1%\n",
        "US: 0.1%\n",
        "MN: 0.0%\n",
        "KG: 0.0%\n",
        "AZ: 0.0%\n",
        "theme_Islamic Finance: 0.0%\n",
        "GE: 0.0%\n",
        "MM: 0.0%\n",
        "theme_Growing Businesses: 0.0%\n",
        "CD: 0.0%\n",
        "XK: 0.0%\n",
        "theme_Flexible Credit Study: 0.0%\n",
        "theme_Job Creation: 0.0%\n",
        "AL: 0.0%\n",
        "BF: 0.0%\n",
        "BI: 0.0%\n",
        "ZM: 0.0%\n",
        "theme_Fair Trade: 0.0%\n",
        "Entertainment: 0.0%\n",
        "TR: 0.0%\n",
        "CM: 0.0%\n",
        "DO: 0.0%\n",
        "CG: 0.0%\n",
        "Wholesale: 0.0%\n",
        "theme_SME: 0.0%\n",
        "VC: 0.0%\n",
        "currency_loss: 0.0%\n",
        "NP: 0.0%\n",
        "BZ: 0.0%\n",
        "BJ: 0.0%\n",
        "MD: 0.0%\n",
        "theme_Health: 0.0%\n",
        "SR: 0.0%\n",
        "MW: 0.0%\n",
        "IL: 0.0%\n",
        "TH: 0.0%\n",
        "theme_Kiva City LA: 0.0%\n",
        "theme_Kiva City Detroit: 0.0%\n",
        "SO: 0.0%\n"
       ]
      }
     ],
     "prompt_number": 28
    },
    {
     "cell_type": "code",
     "collapsed": false,
     "input": [
      "reload(model)\n",
      "mod = model.funding_model()\n",
      "mod.transform_fit(augsep,weight= 2,leaf=5, trees=200, split=20, mf = 2)\n",
      "mod.predict(oct)\n",
      "mod.predict(nov)"
     ],
     "language": "python",
     "metadata": {},
     "outputs": [
      {
       "output_type": "stream",
       "stream": "stdout",
       "text": [
        "actl pos: 0.0511 pred pos: 0.252\n",
        "true pos: 0.048 false pos: 0.2039\n",
        "true neg: 0.7449 false neg: 0.0031\n",
        "recall: 0.939 precision: 0.1906\n",
        "\n",
        "actl pos:"
       ]
      },
      {
       "output_type": "stream",
       "stream": "stdout",
       "text": [
        " 0.1405 pred pos: 0.2712\n",
        "true pos: 0.1202 false pos: 0.1509\n",
        "true neg: 0.7086 false neg: 0.0202\n",
        "recall: 0.856 precision: 0.4434\n",
        "\n"
       ]
      }
     ],
     "prompt_number": 30
    },
    {
     "cell_type": "code",
     "collapsed": false,
     "input": [
      "reload(model)\n",
      "mod = model.funding_model()\n",
      "mod.transform_fit(augsep,weight= 2,leaf=2, trees=500, split=10, mf = 1)\n",
      "mod.predict(oct)\n",
      "mod.predict(nov)"
     ],
     "language": "python",
     "metadata": {},
     "outputs": [
      {
       "output_type": "stream",
       "stream": "stdout",
       "text": [
        "actl pos: 0.0511 pred pos: 0.1858\n",
        "true pos: 0.0439 false pos: 0.1418\n",
        "true neg: 0.807 false neg: 0.0072\n",
        "recall: 0.859 precision: 0.2365\n",
        "\n",
        "actl pos:"
       ]
      },
      {
       "output_type": "stream",
       "stream": "stdout",
       "text": [
        " 0.1405 pred pos: 0.1979\n",
        "true pos: 0.0993 false pos: 0.0986\n",
        "true neg: 0.761 false neg: 0.0412\n",
        "recall: 0.7069 precision: 0.5018\n",
        "\n"
       ]
      }
     ],
     "prompt_number": 31
    },
    {
     "cell_type": "code",
     "collapsed": false,
     "input": [
      "reload(model)\n",
      "mod = model.funding_model()\n",
      "mod.transform_fit(augsep,weight= 2,leaf=5, trees=200, split=20, mf = 2)\n",
      "mod.predict(oct)\n",
      "mod.predict(nov)"
     ],
     "language": "python",
     "metadata": {},
     "outputs": [
      {
       "output_type": "stream",
       "stream": "stdout",
       "text": [
        "actl pos: 0.0511 pred pos: 0.2511\n",
        "true pos: 0.0484 false pos: 0.2027\n",
        "true neg: 0.7462 false neg: 0.0028\n",
        "recall: 0.9462 precision: 0.1928\n",
        "\n",
        "actl pos:"
       ]
      },
      {
       "output_type": "stream",
       "stream": "stdout",
       "text": [
        " 0.1405 pred pos: 0.2751\n",
        "true pos: 0.1225 false pos: 0.1526\n",
        "true neg: 0.7069 false neg: 0.0179\n",
        "recall: 0.8723 precision: 0.4453\n",
        "\n"
       ]
      }
     ],
     "prompt_number": 56
    },
    {
     "cell_type": "code",
     "collapsed": false,
     "input": [
      "mod.feat_imp()"
     ],
     "language": "python",
     "metadata": {},
     "outputs": [
      {
       "output_type": "stream",
       "stream": "stdout",
       "text": [
        "loan_amount: 20.8%\n",
        "repayment_term: 19.2%\n",
        "monthly: 11.5%\n",
        "irregular_payments: 9.4%\n",
        "gender: 4.9%\n",
        "PH: 2.4%\n",
        "KH: 1.9%\n",
        "group_size: 1.7%\n",
        "bonus_credit_eligibility: 1.4%\n",
        "NG: 1.2%\n",
        "Agriculture: 1.2%\n",
        "KE: 1.1%\n",
        "Retail: 1.0%\n",
        "Education: 0.9%\n",
        "SV: 0.9%\n",
        "pay_at_end: 0.9%\n",
        "theme_none: 0.8%\n",
        "Housing: 0.8%\n",
        "ZW: 0.8%\n",
        "theme_Green: 0.7%\n",
        "Arts: 0.6%\n",
        "theme_Rural Exclusion: 0.6%\n",
        "theme_Water and Sanitation: 0.6%\n",
        "dollars: 0.6%\n",
        "HT: 0.6%\n",
        "PS: 0.5%\n",
        "UG: 0.5%\n",
        "theme_Innovative Loans: 0.5%\n",
        "theme_Underfunded Areas: 0.5%\n",
        "Food: 0.4%\n",
        "CO: 0.4%\n",
        "theme_Disaster recovery: 0.4%\n",
        "SN: 0.4%\n",
        "theme_Higher Education: 0.4%\n",
        "TJ: 0.4%\n",
        "Manufacturing: 0.4%\n",
        "Services: 0.4%\n",
        "Personal Use: 0.3%\n",
        "theme_Conflict Zones: 0.3%\n",
        "PY: 0.3%\n",
        "PK: 0.3%\n",
        "Clothing: 0.3%\n",
        "VN: 0.3%\n",
        "EC: 0.3%\n",
        "PE: 0.3%\n",
        "theme_Vulnerable Groups: 0.3%\n",
        "Health: 0.3%\n",
        "RW: 0.3%\n",
        "theme_Youth: 0.3%\n",
        "IN: 0.2%\n",
        "ML: 0.2%\n",
        "ID: 0.2%\n",
        "JO: 0.2%\n",
        "Transportation: 0.2%\n",
        "theme_Mobile Technology: 0.2%\n",
        "TZ: 0.2%\n",
        "AM: 0.2%\n",
        "WS: 0.2%\n",
        "IQ: 0.1%\n",
        "HN: 0.1%\n",
        "BO: 0.1%\n",
        "Construction: 0.1%\n",
        "SL: 0.1%\n",
        "NI: 0.1%\n",
        "MX: 0.1%\n",
        "YE: 0.1%\n",
        "LB: 0.1%\n",
        "GT: 0.1%\n",
        "CR: 0.1%\n",
        "theme_Start-Up: 0.1%\n",
        "TL: 0.1%\n",
        "UA: 0.1%\n",
        "MZ: 0.1%\n",
        "theme_Arab Youth: 0.1%\n",
        "theme_Job Creation: 0.1%\n",
        "GH: 0.1%\n",
        "GE: 0.1%\n",
        "TG: 0.1%\n",
        "theme_Islamic Finance: 0.1%\n",
        "MN: 0.1%\n",
        "AL: 0.1%\n",
        "AZ: 0.1%\n",
        "KG: 0.1%\n",
        "LA: 0.1%\n",
        "US: 0.0%\n",
        "MM: 0.0%\n",
        "LR: 0.0%\n",
        "theme_Growing Businesses: 0.0%\n",
        "XK: 0.0%\n",
        "CD: 0.0%\n",
        "BI: 0.0%\n",
        "theme_Flexible Credit Study: 0.0%\n",
        "BF: 0.0%\n",
        "ZM: 0.0%\n",
        "CM: 0.0%\n",
        "DO: 0.0%\n",
        "theme_Fair Trade: 0.0%\n",
        "Entertainment: 0.0%\n",
        "theme_SME: 0.0%\n",
        "TH: 0.0%\n",
        "MW: 0.0%\n",
        "Wholesale: 0.0%\n",
        "CG: 0.0%\n",
        "TR: 0.0%\n",
        "BZ: 0.0%\n",
        "NP: 0.0%\n",
        "SO: 0.0%\n",
        "SR: 0.0%\n",
        "theme_Kiva City LA: 0.0%\n",
        "theme_Health: 0.0%\n",
        "IL: 0.0%\n",
        "MD: 0.0%\n",
        "theme_Kiva City Detroit: 0.0%\n",
        "VC: 0.0%\n",
        "BJ: 0.0%\n",
        "currency_loss: 0.0%\n"
       ]
      }
     ],
     "prompt_number": 57
    },
    {
     "cell_type": "code",
     "collapsed": false,
     "input": [
      "reload(model)\n",
      "mod = model.funding_model()\n",
      "mod.transform_fit(augsep,weight= 3,leaf=5, trees=200, split=20, mf = 3)\n",
      "mod.predict(oct)\n",
      "mod.predict(nov)"
     ],
     "language": "python",
     "metadata": {},
     "outputs": [
      {
       "output_type": "stream",
       "stream": "stdout",
       "text": [
        "actl pos: 0.0511 pred pos: 0.2745\n",
        "true pos: 0.0488 false pos: 0.2256\n",
        "true neg: 0.7232 false neg: 0.0023\n",
        "recall: 0.9549 precision: 0.178\n",
        "\n",
        "actl pos:"
       ]
      },
      {
       "output_type": "stream",
       "stream": "stdout",
       "text": [
        " 0.1405 pred pos: 0.2917\n",
        "true pos: 0.1254 false pos: 0.1663\n",
        "true neg: 0.6932 false neg: 0.015\n",
        "recall: 0.8929 precision: 0.4299\n",
        "\n"
       ]
      }
     ],
     "prompt_number": 60
    },
    {
     "cell_type": "code",
     "collapsed": false,
     "input": [
      "reload(model)\n",
      "mod = model.funding_model()\n",
      "mod.transform_fit(augsep,weight= 3,leaf=5, trees=200, split=20, mf = 3, depth=4)\n",
      "mod.predict(oct)\n",
      "mod.predict(nov)"
     ],
     "language": "python",
     "metadata": {},
     "outputs": [
      {
       "output_type": "stream",
       "stream": "stdout",
       "text": [
        "actl pos: 0.0511 pred pos: 0.276\n",
        "true pos: 0.0491 false pos: 0.227\n",
        "true neg: 0.7219 false neg: 0.0021\n",
        "recall: 0.9593 precision: 0.1778\n",
        "\n",
        "actl pos:"
       ]
      },
      {
       "output_type": "stream",
       "stream": "stdout",
       "text": [
        " 0.1405 pred pos: 0.2944\n",
        "true pos: 0.1276 false pos: 0.1668\n",
        "true neg: 0.6927 false neg: 0.0129\n",
        "recall: 0.9083 precision: 0.4334\n",
        "\n"
       ]
      }
     ],
     "prompt_number": 61
    },
    {
     "cell_type": "code",
     "collapsed": false,
     "input": [
      "reload(model)\n",
      "mod = model.funding_model()\n",
      "mod.transform_fit(augsep,weight= 3,leaf=1, trees=200, split=2, mf = 3, depth=4)\n",
      "mod.predict(oct)\n",
      "mod.predict(nov)"
     ],
     "language": "python",
     "metadata": {},
     "outputs": [
      {
       "output_type": "stream",
       "stream": "stdout",
       "text": [
        "actl pos: 0.0511 pred pos: 0.031\n",
        "true pos: 0.0123 false pos: 0.0187\n",
        "true neg: 0.9302 false neg: 0.0388\n",
        "recall: 0.2413 precision: 0.3981\n",
        "\n",
        "actl pos:"
       ]
      },
      {
       "output_type": "stream",
       "stream": "stdout",
       "text": [
        " 0.1405 pred pos: 0.0277\n",
        "true pos: 0.0205 false pos: 0.0072\n",
        "true neg: 0.8523 false neg: 0.12\n",
        "recall: 0.1457 precision: 0.7391\n",
        "\n"
       ]
      }
     ],
     "prompt_number": 65
    },
    {
     "cell_type": "code",
     "collapsed": false,
     "input": [
      "reload(model)\n",
      "mod = model.funding_model()\n",
      "mod.transform_fit(augsep,weight= 3,leaf=1, trees=200, split=2, mf = 3, depth=2)\n",
      "mod.predict(oct)\n",
      "mod.predict(nov)"
     ],
     "language": "python",
     "metadata": {},
     "outputs": [
      {
       "output_type": "stream",
       "stream": "stdout",
       "text": [
        "actl pos: 0.0511 pred pos: 0.0291\n",
        "true pos: 0.0113 false pos: 0.0178\n",
        "true neg: 0.9311 false neg: 0.0398\n",
        "recall: 0.2209 precision: 0.3887\n",
        "\n",
        "actl pos:"
       ]
      },
      {
       "output_type": "stream",
       "stream": "stdout",
       "text": [
        " 0.1405 pred pos: 0.0279\n",
        "true pos: 0.0213 false pos: 0.0066\n",
        "true neg: 0.8529 false neg: 0.1191\n",
        "recall: 0.1517 precision: 0.7629\n",
        "\n"
       ]
      }
     ],
     "prompt_number": 64
    },
    {
     "cell_type": "code",
     "collapsed": false,
     "input": [
      "reload(model)\n",
      "mod = model.funding_model()\n",
      "mod.transform_fit(augsep,weight= 2,leaf=5, trees=200, mf = 3, depth=4)\n",
      "mod.predict(aug)\n",
      "mod.predict(sep)\n",
      "mod.predict(oct)\n",
      "mod.predict(nov)"
     ],
     "language": "python",
     "metadata": {},
     "outputs": [
      {
       "output_type": "stream",
       "stream": "stdout",
       "text": [
        "actl pos: 0.0871 pred pos: 0.3365\n",
        "true pos: 0.0843 false pos: 0.2522\n",
        "true neg: 0.6607 false neg: 0.0028\n",
        "recall: 0.968 precision: 0.2506\n",
        "\n",
        "actl pos:"
       ]
      },
      {
       "output_type": "stream",
       "stream": "stdout",
       "text": [
        " 0.0987 pred pos: 0.3201\n",
        "true pos: 0.0956 false pos: 0.2244\n",
        "true neg: 0.6769 false neg: 0.003\n",
        "recall: 0.9694 precision: 0.2988\n",
        "\n",
        "actl pos:"
       ]
      },
      {
       "output_type": "stream",
       "stream": "stdout",
       "text": [
        " 0.0511 pred pos: 0.3168\n",
        "true pos: 0.0496 false pos: 0.2672\n",
        "true neg: 0.6817 false neg: 0.0016\n",
        "recall: 0.9695 precision: 0.1565\n",
        "\n",
        "actl pos:"
       ]
      },
      {
       "output_type": "stream",
       "stream": "stdout",
       "text": [
        " 0.1405 pred pos: 0.3357\n",
        "true pos: 0.1307 false pos: 0.205\n",
        "true neg: 0.6546 false neg: 0.0097\n",
        "recall: 0.9306 precision: 0.3894\n",
        "\n"
       ]
      }
     ],
     "prompt_number": 78
    },
    {
     "cell_type": "code",
     "collapsed": false,
     "input": [
      "reload(model)\n",
      "mod = model.funding_model()\n",
      "mod.transform_fit(augsep, mod = \"oversamp\", weight= 2,leaf=5, trees=200, split=2, mf = 3, depth=4)\n",
      "mod.predict(aug)\n",
      "mod.predict(sep)\n",
      "mod.predict(oct)\n",
      "mod.predict(nov)"
     ],
     "language": "python",
     "metadata": {},
     "outputs": [
      {
       "output_type": "stream",
       "stream": "stdout",
       "text": [
        "actl pos: 0.0871 pred pos: 0.2294\n",
        "true pos: 0.0775 false pos: 0.1519\n",
        "true neg: 0.7609 false neg: 0.0096\n",
        "recall: 0.8893 precision: 0.3377\n",
        "\n",
        "actl pos:"
       ]
      },
      {
       "output_type": "stream",
       "stream": "stdout",
       "text": [
        " 0.0987 pred pos: 0.2082\n",
        "true pos: 0.0852 false pos: 0.123\n",
        "true neg: 0.7784 false neg: 0.0135\n",
        "recall: 0.8635 precision: 0.4092\n",
        "\n",
        "actl pos:"
       ]
      },
      {
       "output_type": "stream",
       "stream": "stdout",
       "text": [
        " 0.0511 pred pos: 0.2103\n",
        "true pos: 0.0456 false pos: 0.1647\n",
        "true neg: 0.7841 false neg: 0.0056\n",
        "recall: 0.891 precision: 0.2167\n",
        "\n",
        "actl pos:"
       ]
      },
      {
       "output_type": "stream",
       "stream": "stdout",
       "text": [
        " 0.1405 pred pos: 0.2265\n",
        "true pos: 0.1066 false pos: 0.1199\n",
        "true neg: 0.7397 false neg: 0.0338\n",
        "recall: 0.7592 precision: 0.4708\n",
        "\n"
       ]
      }
     ],
     "prompt_number": 81
    },
    {
     "cell_type": "code",
     "collapsed": false,
     "input": [
      "reload(model)\n",
      "mod = model.funding_model()\n",
      "mod.transform_fit(apsep,weight= 2,leaf=5, trees=200, mf = 3, depth=4)\n",
      "mod.predict(aug)\n",
      "mod.predict(sep)\n",
      "mod.predict(oct)\n",
      "mod.predict(nov)"
     ],
     "language": "python",
     "metadata": {},
     "outputs": [
      {
       "output_type": "stream",
       "stream": "stdout",
       "text": [
        "actl pos: 0.0871 pred pos: 0.3075\n",
        "true pos: 0.0831 false pos: 0.2243\n",
        "true neg: 0.6885 false neg: 0.004\n",
        "recall: 0.9541 precision: 0.2703\n",
        "\n",
        "actl pos:"
       ]
      },
      {
       "output_type": "stream",
       "stream": "stdout",
       "text": [
        " 0.0987 pred pos: 0.2953\n",
        "true pos: 0.0926 false pos: 0.2027\n",
        "true neg: 0.6986 false neg: 0.006\n",
        "recall: 0.9389 precision: 0.3136\n",
        "\n",
        "actl pos:"
       ]
      },
      {
       "output_type": "stream",
       "stream": "stdout",
       "text": [
        " 0.0511 pred pos: 0.2693\n",
        "true pos: 0.049 false pos: 0.2203\n",
        "true neg: 0.7286 false neg: 0.0022\n",
        "recall: 0.9578 precision: 0.1819\n",
        "\n",
        "actl pos:"
       ]
      },
      {
       "output_type": "stream",
       "stream": "stdout",
       "text": [
        " 0.1405 pred pos: 0.301\n",
        "true pos: 0.1272 false pos: 0.1738\n",
        "true neg: 0.6858 false neg: 0.0132\n",
        "recall: 0.9057 precision: 0.4226\n",
        "\n"
       ]
      }
     ],
     "prompt_number": 83
    },
    {
     "cell_type": "code",
     "collapsed": false,
     "input": [
      "mod.feat_imp()"
     ],
     "language": "python",
     "metadata": {},
     "outputs": [
      {
       "output_type": "stream",
       "stream": "stdout",
       "text": [
        "loan_amount: 21.5%\n",
        "repayment_term: 17.3%\n",
        "monthly: 13.7%\n",
        "irregular_payments: 9.1%\n",
        "gender: 6.8%\n",
        "PH: 2.6%\n",
        "KH: 1.6%\n",
        "group_size: 1.4%\n",
        "SV: 1.3%\n",
        "Agriculture: 1.2%\n",
        "bonus_credit_eligibility: 1.0%\n",
        "Education: 0.9%\n",
        "Housing: 0.9%\n",
        "ZW: 0.8%\n",
        "KE: 0.8%\n",
        "theme_none: 0.7%\n",
        "Retail: 0.7%\n",
        "pay_at_end: 0.7%\n",
        "NG: 0.7%\n",
        "CO: 0.6%\n",
        "theme_Water and Sanitation: 0.6%\n",
        "dollars: 0.6%\n",
        "PS: 0.6%\n",
        "UG: 0.6%\n",
        "theme_Rural Exclusion: 0.5%\n",
        "Arts: 0.5%\n",
        "theme_Mobile Technology: 0.5%\n",
        "theme_Innovative Loans: 0.5%\n",
        "theme_Disaster recovery: 0.4%\n",
        "theme_Underfunded Areas: 0.4%\n",
        "theme_Higher Education: 0.4%\n",
        "Manufacturing: 0.4%\n",
        "IQ: 0.4%\n",
        "theme_Youth: 0.3%\n",
        "VN: 0.3%\n",
        "PK: 0.3%\n",
        "TJ: 0.3%\n",
        "ID: 0.3%\n",
        "theme_Conflict Zones: 0.3%\n",
        "Health: 0.3%\n",
        "Clothing: 0.3%\n",
        "Services: 0.3%\n",
        "Food: 0.3%\n",
        "PY: 0.3%\n",
        "TZ: 0.3%\n",
        "PE: 0.3%\n",
        "NI: 0.3%\n",
        "HT: 0.2%\n",
        "LR: 0.2%\n",
        "SN: 0.2%\n",
        "ML: 0.2%\n",
        "theme_Green: 0.2%\n",
        "theme_Vulnerable Groups: 0.2%\n",
        "EC: 0.2%\n",
        "BJ: 0.2%\n",
        "Personal Use: 0.2%\n",
        "JO: 0.2%\n",
        "AM: 0.2%\n",
        "CR: 0.1%\n",
        "MX: 0.1%\n",
        "theme_Arab Youth: 0.1%\n",
        "theme_Start-Up: 0.1%\n",
        "WS: 0.1%\n",
        "theme_Job Creation: 0.1%\n",
        "Construction: 0.1%\n",
        "IN: 0.1%\n",
        "Transportation: 0.1%\n",
        "RW: 0.1%\n",
        "SL: 0.1%\n",
        "LB: 0.1%\n",
        "theme_Islamic Finance: 0.1%\n",
        "YE: 0.1%\n",
        "HN: 0.1%\n",
        "TL: 0.1%\n",
        "MN: 0.1%\n",
        "GT: 0.1%\n",
        "BO: 0.1%\n",
        "CM: 0.1%\n",
        "GE: 0.1%\n",
        "AZ: 0.1%\n",
        "SR: 0.0%\n",
        "AL: 0.0%\n",
        "theme_Fair Trade: 0.0%\n",
        "KG: 0.0%\n",
        "TG: 0.0%\n",
        "UA: 0.0%\n",
        "theme_Growing Businesses: 0.0%\n",
        "GH: 0.0%\n",
        "BZ: 0.0%\n",
        "CD: 0.0%\n",
        "XK: 0.0%\n",
        "MZ: 0.0%\n",
        "US: 0.0%\n",
        "theme_Flexible Credit Study: 0.0%\n",
        "ZM: 0.0%\n",
        "Wholesale: 0.0%\n",
        "BI: 0.0%\n",
        "LA: 0.0%\n",
        "BF: 0.0%\n",
        "ZA: 0.0%\n",
        "Entertainment: 0.0%\n",
        "MM: 0.0%\n",
        "DO: 0.0%\n",
        "NP: 0.0%\n",
        "TR: 0.0%\n",
        "theme_SME: 0.0%\n",
        "theme_Kiva City LA: 0.0%\n",
        "CG: 0.0%\n",
        "IL: 0.0%\n",
        "TH: 0.0%\n",
        "PA: 0.0%\n",
        "MW: 0.0%\n",
        "theme_Health: 0.0%\n",
        "VU: 0.0%\n",
        "SO: 0.0%\n",
        "BR: 0.0%\n",
        "theme_Kiva City Detroit: 0.0%\n",
        "MR: 0.0%\n",
        "MD: 0.0%\n",
        "currency_loss: 0.0%\n",
        "VC: 0.0%\n"
       ]
      }
     ],
     "prompt_number": 84
    },
    {
     "cell_type": "code",
     "collapsed": false,
     "input": [
      "reload(model)\n",
      "mod = model.funding_model()\n",
      "mod.transform_fit(apsep,weight= 2,leaf=5, trees=20, mf = 3, depth=4)\n",
      "mod.predict(aug)\n",
      "mod.predict(sep)\n",
      "mod.predict(oct)\n",
      "mod.predict(nov)"
     ],
     "language": "python",
     "metadata": {},
     "outputs": [
      {
       "output_type": "stream",
       "stream": "stdout",
       "text": [
        "actl pos: 0.0871 pred pos: 0.2962\n",
        "true pos: 0.081 false pos: 0.2153\n",
        "true neg: 0.6976 false neg: 0.0061\n",
        "recall: 0.9295 precision: 0.2733\n",
        "\n",
        "actl pos:"
       ]
      },
      {
       "output_type": "stream",
       "stream": "stdout",
       "text": [
        " 0.0987 pred pos: 0.2863\n",
        "true pos: 0.0897 false pos: 0.1965\n",
        "true neg: 0.7048 false neg: 0.0089\n",
        "recall: 0.9097 precision: 0.3135\n",
        "\n",
        "actl pos:"
       ]
      },
      {
       "output_type": "stream",
       "stream": "stdout",
       "text": [
        " 0.0511 pred pos: 0.2604\n",
        "true pos: 0.0465 false pos: 0.2138\n",
        "true neg: 0.735 false neg: 0.0046\n",
        "recall: 0.9099 precision: 0.1788\n",
        "\n",
        "actl pos:"
       ]
      },
      {
       "output_type": "stream",
       "stream": "stdout",
       "text": [
        " 0.1405 pred pos: 0.3109\n",
        "true pos: 0.1295 false pos: 0.1814\n",
        "true neg: 0.6782 false neg: 0.011\n",
        "recall: 0.922 precision: 0.4166\n",
        "\n"
       ]
      }
     ],
     "prompt_number": 85
    },
    {
     "cell_type": "code",
     "collapsed": false,
     "input": [
      "reload(model)\n",
      "mod = model.funding_model()\n",
      "mod.transform_fit(apsep,weight= 2,leaf=5, trees=20, mf = 3, depth=4)\n",
      "mod.predict(aug)\n",
      "mod.predict(sep)\n",
      "mod.predict(oct)\n",
      "mod.predict(nov)"
     ],
     "language": "python",
     "metadata": {},
     "outputs": [
      {
       "output_type": "stream",
       "stream": "stdout",
       "text": [
        "actl pos: 0.0871 pred pos: 0.3116\n",
        "true pos: 0.082 false pos: 0.2296\n",
        "true neg: 0.6833 false neg: 0.0051\n",
        "recall: 0.9418 precision: 0.2633\n",
        "\n",
        "actl pos:"
       ]
      },
      {
       "output_type": "stream",
       "stream": "stdout",
       "text": [
        " 0.0987 pred pos: 0.3011\n",
        "true pos: 0.0933 false pos: 0.2079\n",
        "true neg: 0.6935 false neg: 0.0054\n",
        "recall: 0.9453 precision: 0.3097\n",
        "\n",
        "actl pos:"
       ]
      },
      {
       "output_type": "stream",
       "stream": "stdout",
       "text": [
        " 0.0511 pred pos: 0.2774\n",
        "true pos: 0.0486 false pos: 0.2288\n",
        "true neg: 0.7201 false neg: 0.0025\n",
        "recall: 0.9506 precision: 0.1753\n",
        "\n",
        "actl pos:"
       ]
      },
      {
       "output_type": "stream",
       "stream": "stdout",
       "text": [
        " 0.1405 pred pos: 0.3047\n",
        "true pos: 0.1278 false pos: 0.1769\n",
        "true neg: 0.6826 false neg: 0.0126\n",
        "recall: 0.91 precision: 0.4194\n",
        "\n"
       ]
      }
     ],
     "prompt_number": 86
    },
    {
     "cell_type": "code",
     "collapsed": false,
     "input": [
      "reload(model)\n",
      "mod = model.funding_model()\n",
      "mod.transform_fit(apsep,weight= 1.5,leaf=5, trees=30, mf = 3, depth=4)\n",
      "mod.predict(jan)\n",
      "mod.predict(feb)\n",
      "mod.predict(march)\n",
      "\n",
      "mod.predict(aug)\n",
      "mod.predict(sep)\n",
      "mod.predict(oct)\n",
      "mod.predict(nov)"
     ],
     "language": "python",
     "metadata": {},
     "outputs": [
      {
       "output_type": "stream",
       "stream": "stdout",
       "text": [
        "actl pos: 0.0319 pred pos: 0.2419\n",
        "true pos: 0.0309 false pos: 0.2109\n",
        "true neg: 0.7572 false neg: 0.001\n",
        "recall: 0.9697 precision: 0.1279\n",
        "\n",
        "actl pos:"
       ]
      },
      {
       "output_type": "stream",
       "stream": "stdout",
       "text": [
        " 0.0126 pred pos: 0.241\n",
        "true pos: 0.012 false pos: 0.2291\n",
        "true neg: 0.7583 false neg: 0.0007\n",
        "recall: 0.9471 precision: 0.0496\n",
        "\n",
        "actl pos:"
       ]
      },
      {
       "output_type": "stream",
       "stream": "stdout",
       "text": [
        " 0.0069 pred pos: 0.2197\n",
        "true pos: 0.0069 false pos: 0.2128\n",
        "true neg: 0.7803 false neg: 0.0\n",
        "recall: 1.0 precision: 0.0314\n",
        "\n",
        "actl pos:"
       ]
      },
      {
       "output_type": "stream",
       "stream": "stdout",
       "text": [
        " 0.0871 pred pos: 0.2879\n",
        "true pos: 0.0819 false pos: 0.206\n",
        "true neg: 0.7069 false neg: 0.0052\n",
        "recall: 0.9401 precision: 0.2845\n",
        "\n",
        "actl pos:"
       ]
      },
      {
       "output_type": "stream",
       "stream": "stdout",
       "text": [
        " 0.0987 pred pos: 0.275\n",
        "true pos: 0.0917 false pos: 0.1833\n",
        "true neg: 0.7181 false neg: 0.0069\n",
        "recall: 0.9296 precision: 0.3335\n",
        "\n",
        "actl pos:"
       ]
      },
      {
       "output_type": "stream",
       "stream": "stdout",
       "text": [
        " 0.0511 pred pos: 0.2475\n",
        "true pos: 0.0483 false pos: 0.1992\n",
        "true neg: 0.7497 false neg: 0.0028\n",
        "recall: 0.9448 precision: 0.1953\n",
        "\n",
        "actl pos:"
       ]
      },
      {
       "output_type": "stream",
       "stream": "stdout",
       "text": [
        " 0.1405 pred pos: 0.2825\n",
        "true pos: 0.1243 false pos: 0.1581\n",
        "true neg: 0.7014 false neg: 0.0161\n",
        "recall: 0.8852 precision: 0.4401\n",
        "\n"
       ]
      }
     ],
     "prompt_number": 88
    },
    {
     "cell_type": "code",
     "collapsed": false,
     "input": [
      "march[march.expired].count()"
     ],
     "language": "python",
     "metadata": {},
     "outputs": [
      {
       "metadata": {},
       "output_type": "pyout",
       "prompt_number": 92,
       "text": [
        "activity                    99\n",
        "bonus_credit_eligibility    99\n",
        "country                     99\n",
        "currency_loss               99\n",
        "dollars                     99\n",
        "expired                     99\n",
        "gender                      99\n",
        "group_size                  99\n",
        "irregular_payments          99\n",
        "loan_amount                 99\n",
        "pay_at_end                  99\n",
        "posted_date                 99\n",
        "repayment_term              99\n",
        "sector                      99\n",
        "tags                        99\n",
        "themes                      41\n",
        "use                         99\n",
        "monthly                     99\n",
        "dtype: int64"
       ]
      }
     ],
     "prompt_number": 92
    },
    {
     "cell_type": "code",
     "collapsed": false,
     "input": [
      "mod.feat_imp()"
     ],
     "language": "python",
     "metadata": {},
     "outputs": [
      {
       "output_type": "stream",
       "stream": "stdout",
       "text": [
        "repayment_term: 20.7%\n",
        "loan_amount: 20.5%\n",
        "irregular_payments: 10.7%\n",
        "monthly: 8.8%\n",
        "gender: 8.2%\n",
        "PH: 2.2%\n",
        "group_size: 1.8%\n",
        "KH: 1.8%\n",
        "Agriculture: 1.6%\n",
        "pay_at_end: 1.5%\n",
        "SV: 1.2%\n",
        "Education: 1.1%\n",
        "bonus_credit_eligibility: 1.0%\n",
        "NG: 0.9%\n",
        "KE: 0.9%\n",
        "Retail: 0.8%\n",
        "theme_none: 0.7%\n",
        "dollars: 0.7%\n",
        "ZW: 0.6%\n",
        "theme_Water and Sanitation: 0.5%\n",
        "theme_Innovative Loans: 0.5%\n",
        "PS: 0.5%\n",
        "theme_Conflict Zones: 0.5%\n",
        "Manufacturing: 0.5%\n",
        "Housing: 0.4%\n",
        "theme_Rural Exclusion: 0.4%\n",
        "theme_Youth: 0.4%\n",
        "CO: 0.4%\n",
        "Clothing: 0.4%\n",
        "theme_Higher Education: 0.4%\n",
        "Arts: 0.4%\n",
        "IQ: 0.4%\n",
        "theme_Underfunded Areas: 0.4%\n",
        "Health: 0.4%\n",
        "VN: 0.3%\n",
        "Services: 0.3%\n",
        "UG: 0.3%\n",
        "Food: 0.3%\n",
        "PY: 0.3%\n",
        "LR: 0.3%\n",
        "TZ: 0.3%\n",
        "PK: 0.3%\n",
        "HT: 0.3%\n",
        "SN: 0.2%\n",
        "theme_Green: 0.2%\n",
        "SL: 0.2%\n",
        "EC: 0.2%\n",
        "NI: 0.2%\n",
        "TJ: 0.2%\n",
        "PE: 0.2%\n",
        "theme_Vulnerable Groups: 0.2%\n",
        "theme_Disaster recovery: 0.2%\n",
        "Construction: 0.2%\n",
        "BJ: 0.2%\n",
        "Personal Use: 0.2%\n",
        "MX: 0.2%\n",
        "CR: 0.2%\n",
        "theme_Start-Up: 0.1%\n",
        "JO: 0.1%\n",
        "RW: 0.1%\n",
        "ML: 0.1%\n",
        "YE: 0.1%\n",
        "TL: 0.1%\n",
        "theme_Mobile Technology: 0.1%\n",
        "ID: 0.1%\n",
        "Transportation: 0.1%\n",
        "theme_Islamic Finance: 0.1%\n",
        "LB: 0.1%\n",
        "theme_Job Creation: 0.1%\n",
        "IN: 0.1%\n",
        "theme_Arab Youth: 0.1%\n",
        "WS: 0.1%\n",
        "MN: 0.1%\n",
        "AM: 0.1%\n",
        "GT: 0.1%\n",
        "AZ: 0.1%\n",
        "CM: 0.1%\n",
        "HN: 0.1%\n",
        "theme_Growing Businesses: 0.1%\n",
        "MZ: 0.0%\n",
        "GE: 0.0%\n",
        "SR: 0.0%\n",
        "KG: 0.0%\n",
        "AL: 0.0%\n",
        "BO: 0.0%\n",
        "XK: 0.0%\n",
        "BZ: 0.0%\n",
        "CD: 0.0%\n",
        "TG: 0.0%\n",
        "UA: 0.0%\n",
        "GH: 0.0%\n",
        "BF: 0.0%\n",
        "LA: 0.0%\n",
        "theme_Fair Trade: 0.0%\n",
        "Wholesale: 0.0%\n",
        "Entertainment: 0.0%\n",
        "ZM: 0.0%\n",
        "US: 0.0%\n",
        "ZA: 0.0%\n",
        "MM: 0.0%\n",
        "TR: 0.0%\n",
        "BI: 0.0%\n",
        "NP: 0.0%\n",
        "DO: 0.0%\n",
        "theme_SME: 0.0%\n",
        "theme_Kiva City LA: 0.0%\n",
        "PA: 0.0%\n",
        "CG: 0.0%\n",
        "theme_Flexible Credit Study: 0.0%\n",
        "currency_loss: 0.0%\n",
        "SO: 0.0%\n",
        "BR: 0.0%\n",
        "VU: 0.0%\n",
        "MD: 0.0%\n",
        "VC: 0.0%\n",
        "TH: 0.0%\n",
        "MW: 0.0%\n",
        "MR: 0.0%\n",
        "IL: 0.0%\n",
        "theme_Health: 0.0%\n",
        "theme_Kiva City Detroit: 0.0%\n"
       ]
      }
     ],
     "prompt_number": 94
    },
    {
     "cell_type": "code",
     "collapsed": false,
     "input": [
      "reload(model)\n",
      "mod = model.funding_model()\n",
      "mod.transform_fit(augsep,mod='SVM')\n",
      "mod.predict(sep)\n",
      "mod.predict(oct)\n",
      "mod.predict(nov)"
     ],
     "language": "python",
     "metadata": {},
     "outputs": [
      {
       "output_type": "stream",
       "stream": "stdout",
       "text": [
        "actl pos: 0.0987 pred pos: 0.3301\n",
        "true pos: 0.0871 false pos: 0.243\n",
        "true neg: 0.6583 false neg: 0.0116\n",
        "recall: 0.8827 precision: 0.2638\n",
        "\n",
        "actl pos:"
       ]
      },
      {
       "output_type": "stream",
       "stream": "stdout",
       "text": [
        " 0.0511 pred pos: 0.3357\n",
        "true pos: 0.0433 false pos: 0.2925\n",
        "true neg: 0.6564 false neg: 0.0079\n",
        "recall: 0.8459 precision: 0.1289\n",
        "\n",
        "actl pos:"
       ]
      },
      {
       "output_type": "stream",
       "stream": "stdout",
       "text": [
        " 0.1405 pred pos: 0.3294\n",
        "true pos: 0.1122 false pos: 0.2172\n",
        "true neg: 0.6423 false neg: 0.0283\n",
        "recall: 0.7986 precision: 0.3405\n",
        "\n"
       ]
      }
     ],
     "prompt_number": 96
    },
    {
     "cell_type": "code",
     "collapsed": false,
     "input": [
      "ag = df[df.sector=='Agriculture']"
     ],
     "language": "python",
     "metadata": {},
     "outputs": [],
     "prompt_number": 100
    },
    {
     "cell_type": "code",
     "collapsed": false,
     "input": [
      "mod.predict(ag)"
     ],
     "language": "python",
     "metadata": {},
     "outputs": [
      {
       "output_type": "stream",
       "stream": "stdout",
       "text": [
        "actl pos: 0.0449 pred pos: 0.3574\n",
        "true pos: 0.0368 false pos: 0.3206\n",
        "true neg: 0.6345 false neg: 0.0081\n",
        "recall: 0.8204 precision: 0.103\n",
        "\n"
       ]
      }
     ],
     "prompt_number": 101
    },
    {
     "cell_type": "code",
     "collapsed": false,
     "input": [
      "len(df.activity.unique())"
     ],
     "language": "python",
     "metadata": {},
     "outputs": [
      {
       "metadata": {},
       "output_type": "pyout",
       "prompt_number": 105,
       "text": [
        "149"
       ]
      }
     ],
     "prompt_number": 105
    },
    {
     "cell_type": "code",
     "collapsed": false,
     "input": [
      "df.shape"
     ],
     "language": "python",
     "metadata": {},
     "outputs": [
      {
       "metadata": {},
       "output_type": "pyout",
       "prompt_number": 106,
       "text": [
        "(141250, 18)"
       ]
      }
     ],
     "prompt_number": 106
    },
    {
     "cell_type": "code",
     "collapsed": false,
     "input": [
      "len(df.use.unique())"
     ],
     "language": "python",
     "metadata": {},
     "outputs": [
      {
       "metadata": {},
       "output_type": "pyout",
       "prompt_number": 109,
       "text": [
        "102074"
       ]
      }
     ],
     "prompt_number": 109
    },
    {
     "cell_type": "code",
     "collapsed": false,
     "input": [
      "df.shape"
     ],
     "language": "python",
     "metadata": {},
     "outputs": [
      {
       "metadata": {},
       "output_type": "pyout",
       "prompt_number": 110,
       "text": [
        "(141250, 18)"
       ]
      }
     ],
     "prompt_number": 110
    },
    {
     "cell_type": "code",
     "collapsed": false,
     "input": [
      "df.activity"
     ],
     "language": "python",
     "metadata": {},
     "outputs": [
      {
       "metadata": {},
       "output_type": "pyout",
       "prompt_number": 111,
       "text": [
        "638631                            Retail\n",
        "641006            Higher education costs\n",
        "641019            Higher education costs\n",
        "641594                           Farming\n",
        "642256                          Services\n",
        "642311                       Food Market\n",
        "642353                       Soft Drinks\n",
        "642386                    Clothing Sales\n",
        "642429                            Crafts\n",
        "642836                   Phone Use Sales\n",
        "643267                       Food Market\n",
        "643288    Primary/secondary school costs\n",
        "643402                       Agriculture\n",
        "643761             Construction Supplies\n",
        "644101                      Fish Selling\n",
        "...\n",
        "797968           Food Production/Sales\n",
        "797970                       Tailoring\n",
        "797971    Cloth & Dressmaking Supplies\n",
        "797972                   General Store\n",
        "797973                         Farming\n",
        "797974                         Farming\n",
        "797977                    Animal Sales\n",
        "797978                         Farming\n",
        "797979                  Charcoal Sales\n",
        "797980                Waste Management\n",
        "797982                          Cement\n",
        "797983                      Food Stall\n",
        "797984                    Beauty Salon\n",
        "797985                     Food Market\n",
        "797987                  Charcoal Sales\n",
        "Name: activity, Length: 141250, dtype: object"
       ]
      }
     ],
     "prompt_number": 111
    },
    {
     "cell_type": "code",
     "collapsed": false,
     "input": [
      "df.activity.map(lambda x: \"act: \" + x)"
     ],
     "language": "python",
     "metadata": {},
     "outputs": [
      {
       "metadata": {},
       "output_type": "pyout",
       "prompt_number": 112,
       "text": [
        "638631                            act: Retail\n",
        "641006            act: Higher education costs\n",
        "641019            act: Higher education costs\n",
        "641594                           act: Farming\n",
        "642256                          act: Services\n",
        "642311                       act: Food Market\n",
        "642353                       act: Soft Drinks\n",
        "642386                    act: Clothing Sales\n",
        "642429                            act: Crafts\n",
        "642836                   act: Phone Use Sales\n",
        "643267                       act: Food Market\n",
        "643288    act: Primary/secondary school costs\n",
        "643402                       act: Agriculture\n",
        "643761             act: Construction Supplies\n",
        "644101                      act: Fish Selling\n",
        "...\n",
        "797968           act: Food Production/Sales\n",
        "797970                       act: Tailoring\n",
        "797971    act: Cloth & Dressmaking Supplies\n",
        "797972                   act: General Store\n",
        "797973                         act: Farming\n",
        "797974                         act: Farming\n",
        "797977                    act: Animal Sales\n",
        "797978                         act: Farming\n",
        "797979                  act: Charcoal Sales\n",
        "797980                act: Waste Management\n",
        "797982                          act: Cement\n",
        "797983                      act: Food Stall\n",
        "797984                    act: Beauty Salon\n",
        "797985                     act: Food Market\n",
        "797987                  act: Charcoal Sales\n",
        "Name: activity, Length: 141250, dtype: object"
       ]
      }
     ],
     "prompt_number": 112
    },
    {
     "cell_type": "code",
     "collapsed": false,
     "input": [
      "adum = pd.get_dummies(df.activity)"
     ],
     "language": "python",
     "metadata": {},
     "outputs": [],
     "prompt_number": 113
    },
    {
     "cell_type": "code",
     "collapsed": false,
     "input": [
      "adum.mean()"
     ],
     "language": "python",
     "metadata": {},
     "outputs": [
      {
       "metadata": {},
       "output_type": "pyout",
       "prompt_number": 117,
       "text": [
        "Agriculture         0.047667\n",
        "Air Conditioning    0.000064\n",
        "Animal Sales        0.015781\n",
        "Arts                0.001041\n",
        "Auto Repair         0.002237\n",
        "Bakery              0.005508\n",
        "Balut-Making        0.000078\n",
        "Barber Shop         0.001550\n",
        "Beauty Salon        0.009508\n",
        "Bicycle Repair      0.000333\n",
        "Bicycle Sales       0.000078\n",
        "Blacksmith          0.000786\n",
        "Bookbinding         0.000064\n",
        "Bookstore           0.000765\n",
        "Bricks              0.000814\n",
        "...\n",
        "Transportation        0.006619\n",
        "Traveling Sales       0.000212\n",
        "Upholstery            0.000234\n",
        "Used Clothing         0.007596\n",
        "Used Shoes            0.001083\n",
        "Utilities             0.000276\n",
        "Vehicle               0.002605\n",
        "Vehicle Repairs       0.001090\n",
        "Veterinary Sales      0.000297\n",
        "Waste Management      0.000609\n",
        "Water Distribution    0.001055\n",
        "Weaving               0.003455\n",
        "Wedding Expenses      0.000581\n",
        "Well digging          0.000085\n",
        "Wholesale             0.000566\n",
        "Length: 149, dtype: float64"
       ]
      }
     ],
     "prompt_number": 117
    },
    {
     "cell_type": "code",
     "collapsed": false,
     "input": [
      "reload(model)\n",
      "mod = model.funding_model()\n",
      "mod.transform_fit(apsep,weight= 1.5,leaf=5, trees=30, mf = 3, depth=4)\n",
      "mod.predict(jan)\n",
      "mod.predict(feb)\n",
      "mod.predict(march)\n",
      "\n",
      "mod.predict(aug)\n",
      "mod.predict(sep)\n",
      "mod.predict(oct)\n",
      "mod.predict(nov)"
     ],
     "language": "python",
     "metadata": {},
     "outputs": [
      {
       "output_type": "stream",
       "stream": "stdout",
       "text": [
        "actl pos: 0.0319 pred pos: 0.2357\n",
        "true pos: 0.0307 false pos: 0.205\n",
        "true neg: 0.7631 false neg: 0.0012\n",
        "recall: 0.963 precision: 0.1303\n",
        "\n",
        "actl pos:"
       ]
      },
      {
       "output_type": "stream",
       "stream": "stdout",
       "text": [
        " 0.0126 pred pos: 0.2205\n",
        "true pos: 0.0111 false pos: 0.2094\n",
        "true neg: 0.7779 false neg: 0.0016\n",
        "recall: 0.8765 precision: 0.0502\n",
        "\n",
        "actl pos:"
       ]
      },
      {
       "output_type": "stream",
       "stream": "stdout",
       "text": [
        " 0.0069 pred pos: 0.2109\n",
        "true pos: 0.0069 false pos: 0.204\n",
        "true neg: 0.7891 false neg: 0.0\n",
        "recall: 1.0 precision: 0.0327\n",
        "\n",
        "actl pos:"
       ]
      },
      {
       "output_type": "stream",
       "stream": "stdout",
       "text": [
        " 0.0871 pred pos: 0.2778\n",
        "true pos: 0.0796 false pos: 0.1982\n",
        "true neg: 0.7147 false neg: 0.0075\n",
        "recall: 0.9139 precision: 0.2866\n",
        "\n",
        "actl pos:"
       ]
      },
      {
       "output_type": "stream",
       "stream": "stdout",
       "text": [
        " 0.0987 pred pos: 0.2684\n",
        "true pos: 0.0887 false pos: 0.1797\n",
        "true neg: 0.7216 false neg: 0.01\n",
        "recall: 0.8991 precision: 0.3305\n",
        "\n",
        "actl pos:"
       ]
      },
      {
       "output_type": "stream",
       "stream": "stdout",
       "text": [
        " 0.0511 pred pos: 0.2361\n",
        "true pos: 0.046 false pos: 0.1901\n",
        "true neg: 0.7588 false neg: 0.0051\n",
        "recall: 0.8997 precision: 0.1949\n",
        "\n",
        "actl pos:"
       ]
      },
      {
       "output_type": "stream",
       "stream": "stdout",
       "text": [
        " 0.1405 pred pos: 0.276\n",
        "true pos: 0.122 false pos: 0.1539\n",
        "true neg: 0.7056 false neg: 0.0184\n",
        "recall: 0.8689 precision: 0.4422\n",
        "\n"
       ]
      }
     ],
     "prompt_number": 21
    },
    {
     "cell_type": "code",
     "collapsed": false,
     "input": [
      "reload(model)\n",
      "mod = model.funding_model()\n",
      "mod.transform_fit(augsep,weight= 2,leaf=5, trees=50, mf = 10, depth=7)\n",
      "print 'jan'\n",
      "mod.predict(jan)\n",
      "print 'feb'\n",
      "mod.predict(feb)\n",
      "print 'march'\n",
      "mod.predict(march)\n",
      "print 'april'\n",
      "mod.predict(april)\n",
      "print 'may'\n",
      "mod.predict(may)\n",
      "print 'june'\n",
      "mod.predict(june)\n",
      "print 'july'\n",
      "mod.predict(july)\n",
      "print 'august'\n",
      "mod.predict(aug)\n",
      "print 'sep'\n",
      "mod.predict(sep)\n",
      "print 'oct'\n",
      "mod.predict(oct)\n",
      "print 'nov'\n",
      "mod.predict(nov)\n",
      "print 'apsep'\n",
      "mod.predict(apsep)\n",
      "print 'augsep'\n",
      "mod.predict(augsep)"
     ],
     "language": "python",
     "metadata": {},
     "outputs": [
      {
       "output_type": "stream",
       "stream": "stdout",
       "text": [
        "jan\n",
        "actl pos:"
       ]
      },
      {
       "output_type": "stream",
       "stream": "stdout",
       "text": [
        " 0.0319 pred pos: 0.3058\n",
        "true pos: 0.0315 false pos: 0.2743\n",
        "true neg: 0.6938 false neg: 0.0004\n",
        "recall: 0.9865 precision: 0.1029\n",
        "\n",
        "feb\n",
        "actl pos:"
       ]
      },
      {
       "output_type": "stream",
       "stream": "stdout",
       "text": [
        " 0.0126 pred pos: 0.2604\n",
        "true pos: 0.0123 false pos: 0.2481\n",
        "true neg: 0.7392 false neg: 0.0004\n",
        "recall: 0.9706 precision: 0.0471\n",
        "\n",
        "march\n",
        "actl pos:"
       ]
      },
      {
       "output_type": "stream",
       "stream": "stdout",
       "text": [
        " 0.0069 pred pos: 0.2734\n",
        "true pos: 0.0069 false pos: 0.2665\n",
        "true neg: 0.7266 false neg: 0.0\n",
        "recall: 1.0 precision: 0.0253\n",
        "\n",
        "april\n",
        "actl pos:"
       ]
      },
      {
       "output_type": "stream",
       "stream": "stdout",
       "text": [
        " 0.0408 pred pos: 0.289\n",
        "true pos: 0.0373 false pos: 0.2517\n",
        "true neg: 0.7075 false neg: 0.0035\n",
        "recall: 0.9136 precision: 0.129\n",
        "\n",
        "may\n",
        "actl pos:"
       ]
      },
      {
       "output_type": "stream",
       "stream": "stdout",
       "text": [
        " 0.0473 pred pos: 0.3238\n",
        "true pos: 0.0436 false pos: 0.2802\n",
        "true neg: 0.6725 false neg: 0.0037\n",
        "recall: 0.9215 precision: 0.1347\n",
        "\n",
        "june\n",
        "actl pos:"
       ]
      },
      {
       "output_type": "stream",
       "stream": "stdout",
       "text": [
        " 0.0583 pred pos: 0.333\n",
        "true pos: 0.0553 false pos: 0.2777\n",
        "true neg: 0.6641 false neg: 0.003\n",
        "recall: 0.9494 precision: 0.1662\n",
        "\n",
        "july\n",
        "actl pos:"
       ]
      },
      {
       "output_type": "stream",
       "stream": "stdout",
       "text": [
        " 0.0315 pred pos: 0.2955\n",
        "true pos: 0.0304 false pos: 0.2651\n",
        "true neg: 0.7034 false neg: 0.0011\n",
        "recall: 0.9654 precision: 0.1029\n",
        "\n",
        "august\n",
        "actl pos:"
       ]
      },
      {
       "output_type": "stream",
       "stream": "stdout",
       "text": [
        " 0.0871 pred pos: 0.3335\n",
        "true pos: 0.0832 false pos: 0.2503\n",
        "true neg: 0.6626 false neg: 0.0039\n",
        "recall: 0.9549 precision: 0.2495\n",
        "\n",
        "sep\n",
        "actl pos:"
       ]
      },
      {
       "output_type": "stream",
       "stream": "stdout",
       "text": [
        " 0.0987 pred pos: 0.3145\n",
        "true pos: 0.0947 false pos: 0.2199\n",
        "true neg: 0.6815 false neg: 0.004\n",
        "recall: 0.9595 precision: 0.3009\n",
        "\n",
        "oct\n",
        "actl pos:"
       ]
      },
      {
       "output_type": "stream",
       "stream": "stdout",
       "text": [
        " 0.0511 pred pos: 0.3231\n",
        "true pos: 0.0499 false pos: 0.2732\n",
        "true neg: 0.6756 false neg: 0.0013\n",
        "recall: 0.9753 precision: 0.1544\n",
        "\n",
        "nov\n",
        "actl pos:"
       ]
      },
      {
       "output_type": "stream",
       "stream": "stdout",
       "text": [
        " 0.1405 pred pos: 0.3343\n",
        "true pos: 0.1302 false pos: 0.2041\n",
        "true neg: 0.6554 false neg: 0.0102\n",
        "recall: 0.9272 precision: 0.3895\n",
        "\n",
        "apsep\n",
        "actl pos:"
       ]
      },
      {
       "output_type": "stream",
       "stream": "stdout",
       "text": [
        " 0.0611 pred pos: 0.3183\n",
        "true pos: 0.0593 false pos: 0.259\n",
        "true neg: 0.6799 false neg: 0.0018\n",
        "recall: 0.9712 precision: 0.1864\n",
        "\n",
        "augsep"
       ]
      },
      {
       "output_type": "stream",
       "stream": "stdout",
       "text": [
        "\n",
        "actl pos:"
       ]
      },
      {
       "output_type": "stream",
       "stream": "stdout",
       "text": [
        " 0.0929 pred pos: 0.3315\n",
        "true pos: 0.091 false pos: 0.2404\n",
        "true neg: 0.6666 false neg: 0.0019\n",
        "recall: 0.9794 precision: 0.2746\n",
        "\n"
       ]
      }
     ],
     "prompt_number": 22
    },
    {
     "cell_type": "code",
     "collapsed": false,
     "input": [
      "mod.feat_imp()"
     ],
     "language": "python",
     "metadata": {},
     "outputs": [
      {
       "output_type": "stream",
       "stream": "stdout",
       "text": [
        "repayment_term: 18.8%\n",
        "loan_amount: 18.3%\n",
        "monthly: 13.0%\n",
        "irregular_payments: 8.1%\n",
        "gender: 6.3%\n",
        "PH: 2.4%\n",
        "group_size: 1.4%\n",
        "KH: 1.3%\n",
        "SV: 1.2%\n",
        "Agriculture: 1.1%\n",
        "bonus_credit_eligibility: 1.0%\n",
        "pay_at_end: 0.8%\n",
        "ZW: 0.8%\n",
        "Housing: 0.8%\n",
        "Retail: 0.8%\n",
        "dollars: 0.8%\n",
        "theme_none: 0.7%\n",
        "Education: 0.7%\n",
        "NG: 0.7%\n",
        "KE: 0.6%\n",
        "theme_Water and Sanitation: 0.6%\n",
        "theme_Disaster recovery: 0.6%\n",
        "theme_Innovative Loans: 0.6%\n",
        "Arts: 0.6%\n",
        "act: Personal Housing Expenses: 0.5%\n",
        "CO: 0.5%\n",
        "act: Farming: 0.5%\n",
        "PS: 0.5%\n",
        "UG: 0.5%\n",
        "theme_Rural Exclusion: 0.4%\n",
        "theme_Youth: 0.4%\n",
        "theme_Underfunded Areas: 0.4%\n",
        "LR: 0.4%\n",
        "NI: 0.4%\n",
        "Manufacturing: 0.3%\n",
        "theme_Conflict Zones: 0.3%\n",
        "act: Higher education costs: 0.3%\n",
        "act: Sewing: 0.3%\n",
        "VN: 0.3%\n",
        "ID: 0.3%\n",
        "theme_Higher Education: 0.3%\n",
        "Health: 0.3%\n",
        "act: Clothing Sales: 0.3%\n",
        "act: Agriculture: 0.3%\n",
        "PE: 0.3%\n",
        "PK: 0.3%\n",
        "Clothing: 0.3%\n",
        "theme_Mobile Technology: 0.3%\n",
        "act: Pigs: 0.2%\n",
        "TJ: 0.2%\n",
        "TZ: 0.2%\n",
        "theme_Vulnerable Groups: 0.2%\n",
        "IQ: 0.2%\n",
        "Food: 0.2%\n",
        "PY: 0.2%\n",
        "ML: 0.2%\n",
        "SN: 0.2%\n",
        "BJ: 0.2%\n",
        "EC: 0.2%\n",
        "act: Home Energy: 0.2%\n",
        "Services: 0.2%\n",
        "theme_Green: 0.2%\n",
        "AM: 0.2%\n",
        "Personal Use: 0.2%\n",
        "act: General Store: 0.2%\n",
        "act: Primary/secondary school costs: 0.2%\n",
        "HT: 0.2%\n",
        "CR: 0.2%\n",
        "act: Retail: 0.2%\n",
        "IN: 0.2%\n",
        "MX: 0.1%\n",
        "act: Fishing: 0.1%\n",
        "act: Phone Use Sales: 0.1%\n",
        "RW: 0.1%\n",
        "SL: 0.1%\n",
        "YE: 0.1%\n",
        "Transportation: 0.1%\n",
        "JO: 0.1%\n",
        "theme_Start-Up: 0.1%\n",
        "act: Poultry: 0.1%\n",
        "act: Dairy: 0.1%\n",
        "WS: 0.1%\n",
        "theme_Arab Youth: 0.1%\n",
        "LB: 0.1%\n",
        "theme_Islamic Finance: 0.1%\n",
        "Construction: 0.1%\n",
        "act: Personal Purchases: 0.1%\n",
        "act: Services: 0.1%\n",
        "act: Fruits & Vegetables: 0.1%\n",
        "act: Personal Medical Expenses: 0.1%\n",
        "act: Grocery Store: 0.1%\n",
        "act: Home Appliances: 0.1%\n",
        "act: Food Production/Sales: 0.1%\n",
        "theme_Job Creation: 0.1%\n",
        "act: Rickshaw: 0.1%\n",
        "act: Education provider: 0.1%\n",
        "act: Cattle: 0.1%\n",
        "TL: 0.1%\n",
        "act: Fish Selling: 0.1%\n",
        "act: Food Stall: 0.1%\n",
        "act: Tailoring: 0.1%\n",
        "GT: 0.1%\n",
        "act: Crafts: 0.1%\n",
        "act: Furniture Making: 0.1%\n",
        "act: Livestock: 0.1%\n",
        "HN: 0.1%\n",
        "CM: 0.1%\n",
        "GH: 0.1%\n",
        "BO: 0.0%\n",
        "act: Food Market: 0.0%\n",
        "act: Manufacturing: 0.0%\n",
        "theme_Growing Businesses: 0.0%\n",
        "act: Bakery: 0.0%\n",
        "act: Farm Supplies: 0.0%\n",
        "act: Charcoal Sales: 0.0%\n",
        "AZ: 0.0%\n",
        "act: Motorcycle Transport: 0.0%\n",
        "act: Animal Sales: 0.0%\n",
        "act: Construction Supplies: 0.0%\n",
        "act: Clothing: 0.0%\n",
        "act: Transportation: 0.0%\n",
        "SR: 0.0%\n",
        "act: Cosmetics Sales: 0.0%\n",
        "AL: 0.0%\n",
        "TG: 0.0%\n",
        "GE: 0.0%\n",
        "act: Carpentry: 0.0%\n",
        "MN: 0.0%\n",
        "act: Soft Drinks: 0.0%\n",
        "act: Personal Products Sales: 0.0%\n",
        "CD: 0.0%\n",
        "act: Vehicle: 0.0%\n",
        "KG: 0.0%\n",
        "MZ: 0.0%\n",
        "act: Shoe Sales: 0.0%\n",
        "act: Beauty Salon: 0.0%\n",
        "act: Food: 0.0%\n",
        "act: Fuel/Firewood: 0.0%\n",
        "UA: 0.0%\n",
        "BZ: 0.0%\n",
        "act: Cafe: 0.0%\n",
        "XK: 0.0%\n",
        "act: Cereals: 0.0%\n",
        "act: Used Clothing: 0.0%\n",
        "act: Cloth & Dressmaking Supplies: 0.0%\n",
        "act: Renewable Energy Products: 0.0%\n",
        "BI: 0.0%\n",
        "US: 0.0%\n",
        "theme_Flexible Credit Study: 0.0%\n",
        "act: Phone Accessories: 0.0%\n",
        "act: Home Products Sales: 0.0%\n",
        "act: Pharmacy: 0.0%\n",
        "act: Construction: 0.0%\n",
        "BF: 0.0%\n",
        "act: Pub: 0.0%\n",
        "act: Liquor Store / Off-License: 0.0%\n",
        "act: Metal Shop: 0.0%\n",
        "act: Milk Sales: 0.0%\n",
        "act: Butcher Shop: 0.0%\n",
        "act: Taxi: 0.0%\n",
        "LA: 0.0%\n",
        "act: Auto Repair: 0.0%\n",
        "act: Textiles: 0.0%\n",
        "act: Restaurant: 0.0%\n",
        "ZM: 0.0%\n",
        "Entertainment: 0.0%\n",
        "act: Mobile Phones: 0.0%\n",
        "ZA: 0.0%\n",
        "act: Spare Parts: 0.0%\n",
        "act: Weaving: 0.0%\n",
        "act: Cheese Making: 0.0%\n",
        "act: Jewelry: 0.0%\n",
        "DO: 0.0%\n",
        "Wholesale: 0.0%\n",
        "act: Consumer Goods: 0.0%\n",
        "act: Bricks: 0.0%\n",
        "act: Cobbler: 0.0%\n",
        "act: Health: 0.0%\n",
        "act: Property: 0.0%\n",
        "act: Perfumes: 0.0%\n",
        "act: Catering: 0.0%\n",
        "act: Hardware: 0.0%\n",
        "theme_Fair Trade: 0.0%\n",
        "MM: 0.0%\n",
        "act: Barber Shop: 0.0%\n",
        "act: Embroidery: 0.0%\n",
        "act: Wholesale: 0.0%\n",
        "act: Bookstore: 0.0%\n",
        "act: Vehicle Repairs: 0.0%\n",
        "act: Internet Cafe: 0.0%\n",
        "act: Electronics Sales: 0.0%\n",
        "act: Waste Management: 0.0%\n",
        "theme_SME: 0.0%\n",
        "act: Water Distribution: 0.0%\n",
        "act: Computers: 0.0%\n",
        "act: Arts: 0.0%\n",
        "act: Natural Medicines: 0.0%\n",
        "IL: 0.0%\n",
        "act: Recycled Materials: 0.0%\n",
        "act: Decorations Sales: 0.0%\n",
        "CG: 0.0%\n",
        "TR: 0.0%\n",
        "act: Electronics Repair: 0.0%\n",
        "act: Medical Clinic: 0.0%\n",
        "NP: 0.0%\n",
        "theme_Kiva City LA: 0.0%\n",
        "act: Photography: 0.0%\n",
        "act: Used Shoes: 0.0%\n",
        "act: Motorcycle Repair: 0.0%\n",
        "act: Flowers: 0.0%\n",
        "act: Goods Distribution: 0.0%\n",
        "TH: 0.0%\n",
        "act: Paper Sales: 0.0%\n",
        "act: Machinery Rental: 0.0%\n",
        "act: Electrical Goods: 0.0%\n",
        "act: Land Rental: 0.0%\n",
        "act: Entertainment: 0.0%\n",
        "act: Laundry: 0.0%\n",
        "act: Electrician: 0.0%\n",
        "act: Blacksmith: 0.0%\n",
        "act: Recycling: 0.0%\n",
        "act: Timber Sales: 0.0%\n",
        "act: Souvenir Sales: 0.0%\n",
        "act: Veterinary Sales: 0.0%\n",
        "act: Phone Repair: 0.0%\n",
        "act: Child Care: 0.0%\n",
        "act: Printing: 0.0%\n",
        "act: Office Supplies: 0.0%\n",
        "act: Bicycle Sales: 0.0%\n",
        "act: Hotel: 0.0%\n",
        "theme_Health: 0.0%\n",
        "act: Utilities: 0.0%\n",
        "act: Wedding Expenses: 0.0%\n",
        "act: Well digging: 0.0%\n",
        "VC: 0.0%\n",
        "BR: 0.0%\n",
        "MD: 0.0%\n",
        "act: Traveling Sales: 0.0%\n",
        "MR: 0.0%\n",
        "VU: 0.0%\n",
        "MW: 0.0%\n",
        "act: Games: 0.0%\n",
        "PA: 0.0%\n",
        "SO: 0.0%\n",
        "act: Funeral Expenses: 0.0%\n",
        "currency_loss: 0.0%\n",
        "act: Upholstery: 0.0%\n",
        "theme_Kiva City Detroit: 0.0%\n",
        "act: Tourism: 0.0%\n",
        "act: Bicycle Repair: 0.0%\n",
        "act: Music Discs & Tapes: 0.0%\n",
        "act: Musical Instruments: 0.0%\n",
        "act: Balut-Making: 0.0%\n",
        "act: Musical Performance: 0.0%\n",
        "act: Bookbinding: 0.0%\n",
        "act: Party Supplies: 0.0%\n",
        "act: Air Conditioning: 0.0%\n",
        "act: Movie Tapes & DVDs: 0.0%\n",
        "act: Plastics Sales: 0.0%\n",
        "act: Quarrying: 0.0%\n",
        "act: Call Center: 0.0%\n",
        "act: Religious Articles: 0.0%\n",
        "act: Secretarial Services: 0.0%\n",
        "act: Machine Shop: 0.0%\n",
        "act: Sporting Good Sales: 0.0%\n",
        "act: Cement: 0.0%\n",
        "act: Knitting: 0.0%\n",
        "act: Dental: 0.0%\n"
       ]
      }
     ],
     "prompt_number": 8
    },
    {
     "cell_type": "code",
     "collapsed": false,
     "input": [
      "apsep.shape[0]"
     ],
     "language": "python",
     "metadata": {},
     "outputs": [
      {
       "metadata": {},
       "output_type": "pyout",
       "prompt_number": 11,
       "text": [
        "82382"
       ]
      }
     ],
     "prompt_number": 11
    },
    {
     "cell_type": "code",
     "collapsed": false,
     "input": [
      "april.shape[0]+ may.shape[0] + june.shape[0] + july.shape[0] + aug.shape[0] + sep.shape[0]"
     ],
     "language": "python",
     "metadata": {},
     "outputs": [
      {
       "metadata": {},
       "output_type": "pyout",
       "prompt_number": 18,
       "text": [
        "82382"
       ]
      }
     ],
     "prompt_number": 18
    },
    {
     "cell_type": "code",
     "collapsed": false,
     "input": [
      "reload(model)\n",
      "mod = model.funding_model()\n",
      "mod.transform_fit(apsep,weight= 2,leaf=10, trees=50, mf = 10, depth=7)\n",
      "print 'jan'\n",
      "mod.predict(jan)\n",
      "print 'feb'\n",
      "mod.predict(feb)\n",
      "print 'march'\n",
      "mod.predict(march)\n",
      "print 'april'\n",
      "mod.predict(april)\n",
      "print 'may'\n",
      "mod.predict(may)\n",
      "print 'june'\n",
      "mod.predict(june)\n",
      "print 'july'\n",
      "mod.predict(july)\n",
      "print 'august'\n",
      "mod.predict(aug)\n",
      "print 'sep'\n",
      "mod.predict(sep)\n",
      "print 'oct'\n",
      "mod.predict(oct)\n",
      "print 'nov'\n",
      "mod.predict(nov)\n",
      "print 'apsep'\n",
      "mod.predict(apsep)\n",
      "print 'augsep'\n",
      "mod.predict(augsep)"
     ],
     "language": "python",
     "metadata": {},
     "outputs": [
      {
       "output_type": "stream",
       "stream": "stdout",
       "text": [
        "jan\n",
        "actl pos:"
       ]
      },
      {
       "output_type": "stream",
       "stream": "stdout",
       "text": [
        " 0.0319 pred pos: 0.282\n",
        "true pos: 0.0315 false pos: 0.2506\n",
        "true neg: 0.7175 false neg: 0.0004\n",
        "recall: 0.9865 precision: 0.1116\n",
        "\n",
        "feb\n",
        "actl pos:"
       ]
      },
      {
       "output_type": "stream",
       "stream": "stdout",
       "text": [
        " 0.0126 pred pos: 0.2744\n",
        "true pos: 0.0117 false pos: 0.2627\n",
        "true neg: 0.7247 false neg: 0.001\n",
        "recall: 0.9235 precision: 0.0425\n",
        "\n",
        "march\n",
        "actl pos:"
       ]
      },
      {
       "output_type": "stream",
       "stream": "stdout",
       "text": [
        " 0.0069 pred pos: 0.2547\n",
        "true pos: 0.0069 false pos: 0.2478\n",
        "true neg: 0.7453 false neg: 0.0\n",
        "recall: 1.0 precision: 0.0271\n",
        "\n",
        "april\n",
        "actl pos:"
       ]
      },
      {
       "output_type": "stream",
       "stream": "stdout",
       "text": [
        " 0.0408 pred pos: 0.2658\n",
        "true pos: 0.0386 false pos: 0.2272\n",
        "true neg: 0.732 false neg: 0.0022\n",
        "recall: 0.947 precision: 0.1454\n",
        "\n",
        "may\n",
        "actl pos:"
       ]
      },
      {
       "output_type": "stream",
       "stream": "stdout",
       "text": [
        " 0.0473 pred pos: 0.2918\n",
        "true pos: 0.0452 false pos: 0.2466\n",
        "true neg: 0.7061 false neg: 0.0021\n",
        "recall: 0.9556 precision: 0.155\n",
        "\n",
        "june\n",
        "actl pos:"
       ]
      },
      {
       "output_type": "stream",
       "stream": "stdout",
       "text": [
        " 0.0583 pred pos: 0.3131\n",
        "true pos: 0.0562 false pos: 0.2569\n",
        "true neg: 0.6848 false neg: 0.0021\n",
        "recall: 0.9635 precision: 0.1794\n",
        "\n",
        "july\n",
        "actl pos:"
       ]
      },
      {
       "output_type": "stream",
       "stream": "stdout",
       "text": [
        " 0.0315 pred pos: 0.2762\n",
        "true pos: 0.0305 false pos: 0.2456\n",
        "true neg: 0.7229 false neg: 0.001\n",
        "recall: 0.9698 precision: 0.1106\n",
        "\n",
        "august\n",
        "actl pos:"
       ]
      },
      {
       "output_type": "stream",
       "stream": "stdout",
       "text": [
        " 0.0871 pred pos: 0.3177\n",
        "true pos: 0.0827 false pos: 0.235\n",
        "true neg: 0.6779 false neg: 0.0044\n",
        "recall: 0.9491 precision: 0.2603\n",
        "\n",
        "sep\n",
        "actl pos:"
       ]
      },
      {
       "output_type": "stream",
       "stream": "stdout",
       "text": [
        " 0.0987 pred pos: 0.3075\n",
        "true pos: 0.0926 false pos: 0.2149\n",
        "true neg: 0.6864 false neg: 0.006\n",
        "recall: 0.9389 precision: 0.3012\n",
        "\n",
        "oct\n",
        "actl pos:"
       ]
      },
      {
       "output_type": "stream",
       "stream": "stdout",
       "text": [
        " 0.0511 pred pos: 0.2832\n",
        "true pos: 0.0491 false pos: 0.2341\n",
        "true neg: 0.7147 false neg: 0.0021\n",
        "recall: 0.9593 precision: 0.1733\n",
        "\n",
        "nov\n",
        "actl pos:"
       ]
      },
      {
       "output_type": "stream",
       "stream": "stdout",
       "text": [
        " 0.1405 pred pos: 0.3239\n",
        "true pos: 0.1309 false pos: 0.1929\n",
        "true neg: 0.6666 false neg: 0.0095\n",
        "recall: 0.9323 precision: 0.4043\n",
        "\n",
        "apsep\n",
        "actl pos:"
       ]
      },
      {
       "output_type": "stream",
       "stream": "stdout",
       "text": [
        " 0.0611 pred pos: 0.2986\n",
        "true pos: 0.06 false pos: 0.2386\n",
        "true neg: 0.7003 false neg: 0.0011\n",
        "recall: 0.9821 precision: 0.2009\n",
        "\n",
        "augsep"
       ]
      },
      {
       "output_type": "stream",
       "stream": "stdout",
       "text": [
        "\n",
        "actl pos:"
       ]
      },
      {
       "output_type": "stream",
       "stream": "stdout",
       "text": [
        " 0.0929 pred pos: 0.3252\n",
        "true pos: 0.0891 false pos: 0.2361\n",
        "true neg: 0.671 false neg: 0.0039\n",
        "recall: 0.9585 precision: 0.274\n",
        "\n"
       ]
      }
     ],
     "prompt_number": 23
    },
    {
     "cell_type": "code",
     "collapsed": false,
     "input": [],
     "language": "python",
     "metadata": {},
     "outputs": []
    }
   ],
   "metadata": {}
  }
 ]
}