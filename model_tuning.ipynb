{
 "metadata": {
  "name": "",
  "signature": "sha256:d5b52b3b63f3e42bb9236a236356b2b7a811f0c89682feaf8ab14d5b4e8aa3db"
 },
 "nbformat": 3,
 "nbformat_minor": 0,
 "worksheets": [
  {
   "cells": [
    {
     "cell_type": "code",
     "collapsed": false,
     "input": [
      "import model\n",
      "import pipe\n",
      "reload(model)\n",
      "import pandas as pd\n",
      "import filter\n",
      "from sklearn.cross_validation import train_test_split\n",
      "\n"
     ],
     "language": "python",
     "metadata": {},
     "outputs": [],
     "prompt_number": 3
    },
    {
     "cell_type": "code",
     "collapsed": false,
     "input": [
      "df = pipe.load_cleaned(['timeframe'])\n",
      "df.info()"
     ],
     "language": "python",
     "metadata": {},
     "outputs": [
      {
       "output_type": "stream",
       "stream": "stdout",
       "text": [
        "<class 'pandas.core.frame.DataFrame'>\n",
        "Float64Index: 141250 entries, 638631.0 to 797987.0\n",
        "Data columns (total 17 columns):\n",
        "activity                    141250 non-null object\n",
        "bonus_credit_eligibility    141250 non-null bool\n",
        "country                     141250 non-null object\n",
        "currency_loss               141250 non-null bool\n",
        "dollars                     141250 non-null bool\n",
        "expired                     141250 non-null bool\n",
        "gender                      141250 non-null bool\n",
        "group_size                  141250 non-null int64\n",
        "irregular_payments          141250 non-null bool\n",
        "loan_amount                 141250 non-null int64\n",
        "pay_at_end                  141250 non-null bool\n",
        "posted_date                 141250 non-null datetime64[ns]\n",
        "repayment_term              141250 non-null int64\n",
        "sector                      141250 non-null object\n",
        "tags                        141250 non-null object\n",
        "themes                      56211 non-null object\n",
        "use                         141250 non-null object\n",
        "dtypes: bool(7), datetime64[ns](1), int64(3), object(6)"
       ]
      }
     ],
     "prompt_number": 4
    },
    {
     "cell_type": "code",
     "collapsed": false,
     "input": [
      "aa = df['themes'].astype(set)"
     ],
     "language": "python",
     "metadata": {},
     "outputs": [],
     "prompt_number": 13
    },
    {
     "cell_type": "code",
     "collapsed": false,
     "input": [
      "aa[aa.notnull()]"
     ],
     "language": "python",
     "metadata": {},
     "outputs": [
      {
       "metadata": {},
       "output_type": "pyout",
       "prompt_number": 26,
       "text": [
        "638631                      [Underfunded Areas]\n",
        "641594                        [Rural Exclusion]\n",
        "642256                      [Vulnerable Groups]\n",
        "642311                         [Conflict Zones]\n",
        "642353                      [Vulnerable Groups]\n",
        "643267                      [Vulnerable Groups]\n",
        "644101                         [Conflict Zones]\n",
        "645222    [Mobile Technology, Innovative Loans]\n",
        "647413                      [Vulnerable Groups]\n",
        "647439                      [Vulnerable Groups]\n",
        "647956                         [Conflict Zones]\n",
        "648132     [Underfunded Areas, Rural Exclusion]\n",
        "648200     [Underfunded Areas, Rural Exclusion]\n",
        "648389                      [Underfunded Areas]\n",
        "648489                         [Conflict Zones]\n",
        "...\n",
        "797932                            [Conflict Zones]\n",
        "797933                         [Vulnerable Groups]\n",
        "797934                            [Conflict Zones]\n",
        "797936                            [Conflict Zones]\n",
        "797937                            [Conflict Zones]\n",
        "797938                            [Conflict Zones]\n",
        "797940                            [Conflict Zones]\n",
        "797941                            [Conflict Zones]\n",
        "797942                            [Conflict Zones]\n",
        "797944                         [Vulnerable Groups]\n",
        "797952                                  [Start-Up]\n",
        "797973                         [Underfunded Areas]\n",
        "797974                         [Underfunded Areas]\n",
        "797980    [Water and Sanitation, Innovative Loans]\n",
        "797984                                  [Start-Up]\n",
        "Name: themes, Length: 56211, dtype: object"
       ]
      }
     ],
     "prompt_number": 26
    },
    {
     "cell_type": "code",
     "collapsed": false,
     "input": [
      "type([]) == list"
     ],
     "language": "python",
     "metadata": {},
     "outputs": [
      {
       "metadata": {},
       "output_type": "pyout",
       "prompt_number": 53,
       "text": [
        "True"
       ]
      }
     ],
     "prompt_number": 53
    },
    {
     "cell_type": "code",
     "collapsed": false,
     "input": [
      "bb = aa.map(lambda x: x if type(x) == list else [])"
     ],
     "language": "python",
     "metadata": {},
     "outputs": [],
     "prompt_number": 54
    },
    {
     "cell_type": "code",
     "collapsed": false,
     "input": [
      "zz = pd.DataFrame(list(bb))"
     ],
     "language": "python",
     "metadata": {},
     "outputs": [],
     "prompt_number": 57
    },
    {
     "cell_type": "code",
     "collapsed": false,
     "input": [
      "zz"
     ],
     "language": "python",
     "metadata": {},
     "outputs": [
      {
       "html": [
        "<div style=\"max-height:1000px;max-width:1500px;overflow:auto;\">\n",
        "<table border=\"1\" class=\"dataframe\">\n",
        "  <thead>\n",
        "    <tr style=\"text-align: right;\">\n",
        "      <th></th>\n",
        "      <th>0</th>\n",
        "      <th>1</th>\n",
        "      <th>2</th>\n",
        "      <th>3</th>\n",
        "    </tr>\n",
        "  </thead>\n",
        "  <tbody>\n",
        "    <tr>\n",
        "      <th>0     </th>\n",
        "      <td>    Underfunded Areas</td>\n",
        "      <td>             None</td>\n",
        "      <td> None</td>\n",
        "      <td> None</td>\n",
        "    </tr>\n",
        "    <tr>\n",
        "      <th>1     </th>\n",
        "      <td>                 None</td>\n",
        "      <td>             None</td>\n",
        "      <td> None</td>\n",
        "      <td> None</td>\n",
        "    </tr>\n",
        "    <tr>\n",
        "      <th>2     </th>\n",
        "      <td>                 None</td>\n",
        "      <td>             None</td>\n",
        "      <td> None</td>\n",
        "      <td> None</td>\n",
        "    </tr>\n",
        "    <tr>\n",
        "      <th>3     </th>\n",
        "      <td>      Rural Exclusion</td>\n",
        "      <td>             None</td>\n",
        "      <td> None</td>\n",
        "      <td> None</td>\n",
        "    </tr>\n",
        "    <tr>\n",
        "      <th>4     </th>\n",
        "      <td>    Vulnerable Groups</td>\n",
        "      <td>             None</td>\n",
        "      <td> None</td>\n",
        "      <td> None</td>\n",
        "    </tr>\n",
        "    <tr>\n",
        "      <th>5     </th>\n",
        "      <td>       Conflict Zones</td>\n",
        "      <td>             None</td>\n",
        "      <td> None</td>\n",
        "      <td> None</td>\n",
        "    </tr>\n",
        "    <tr>\n",
        "      <th>6     </th>\n",
        "      <td>    Vulnerable Groups</td>\n",
        "      <td>             None</td>\n",
        "      <td> None</td>\n",
        "      <td> None</td>\n",
        "    </tr>\n",
        "    <tr>\n",
        "      <th>7     </th>\n",
        "      <td>                 None</td>\n",
        "      <td>             None</td>\n",
        "      <td> None</td>\n",
        "      <td> None</td>\n",
        "    </tr>\n",
        "    <tr>\n",
        "      <th>8     </th>\n",
        "      <td>                 None</td>\n",
        "      <td>             None</td>\n",
        "      <td> None</td>\n",
        "      <td> None</td>\n",
        "    </tr>\n",
        "    <tr>\n",
        "      <th>9     </th>\n",
        "      <td>                 None</td>\n",
        "      <td>             None</td>\n",
        "      <td> None</td>\n",
        "      <td> None</td>\n",
        "    </tr>\n",
        "    <tr>\n",
        "      <th>10    </th>\n",
        "      <td>    Vulnerable Groups</td>\n",
        "      <td>             None</td>\n",
        "      <td> None</td>\n",
        "      <td> None</td>\n",
        "    </tr>\n",
        "    <tr>\n",
        "      <th>11    </th>\n",
        "      <td>                 None</td>\n",
        "      <td>             None</td>\n",
        "      <td> None</td>\n",
        "      <td> None</td>\n",
        "    </tr>\n",
        "    <tr>\n",
        "      <th>12    </th>\n",
        "      <td>                 None</td>\n",
        "      <td>             None</td>\n",
        "      <td> None</td>\n",
        "      <td> None</td>\n",
        "    </tr>\n",
        "    <tr>\n",
        "      <th>13    </th>\n",
        "      <td>                 None</td>\n",
        "      <td>             None</td>\n",
        "      <td> None</td>\n",
        "      <td> None</td>\n",
        "    </tr>\n",
        "    <tr>\n",
        "      <th>14    </th>\n",
        "      <td>       Conflict Zones</td>\n",
        "      <td>             None</td>\n",
        "      <td> None</td>\n",
        "      <td> None</td>\n",
        "    </tr>\n",
        "    <tr>\n",
        "      <th>15    </th>\n",
        "      <td>                 None</td>\n",
        "      <td>             None</td>\n",
        "      <td> None</td>\n",
        "      <td> None</td>\n",
        "    </tr>\n",
        "    <tr>\n",
        "      <th>16    </th>\n",
        "      <td>    Mobile Technology</td>\n",
        "      <td> Innovative Loans</td>\n",
        "      <td> None</td>\n",
        "      <td> None</td>\n",
        "    </tr>\n",
        "    <tr>\n",
        "      <th>17    </th>\n",
        "      <td>                 None</td>\n",
        "      <td>             None</td>\n",
        "      <td> None</td>\n",
        "      <td> None</td>\n",
        "    </tr>\n",
        "    <tr>\n",
        "      <th>18    </th>\n",
        "      <td>                 None</td>\n",
        "      <td>             None</td>\n",
        "      <td> None</td>\n",
        "      <td> None</td>\n",
        "    </tr>\n",
        "    <tr>\n",
        "      <th>19    </th>\n",
        "      <td>                 None</td>\n",
        "      <td>             None</td>\n",
        "      <td> None</td>\n",
        "      <td> None</td>\n",
        "    </tr>\n",
        "    <tr>\n",
        "      <th>20    </th>\n",
        "      <td>                 None</td>\n",
        "      <td>             None</td>\n",
        "      <td> None</td>\n",
        "      <td> None</td>\n",
        "    </tr>\n",
        "    <tr>\n",
        "      <th>21    </th>\n",
        "      <td>                 None</td>\n",
        "      <td>             None</td>\n",
        "      <td> None</td>\n",
        "      <td> None</td>\n",
        "    </tr>\n",
        "    <tr>\n",
        "      <th>22    </th>\n",
        "      <td>                 None</td>\n",
        "      <td>             None</td>\n",
        "      <td> None</td>\n",
        "      <td> None</td>\n",
        "    </tr>\n",
        "    <tr>\n",
        "      <th>23    </th>\n",
        "      <td>                 None</td>\n",
        "      <td>             None</td>\n",
        "      <td> None</td>\n",
        "      <td> None</td>\n",
        "    </tr>\n",
        "    <tr>\n",
        "      <th>24    </th>\n",
        "      <td>                 None</td>\n",
        "      <td>             None</td>\n",
        "      <td> None</td>\n",
        "      <td> None</td>\n",
        "    </tr>\n",
        "    <tr>\n",
        "      <th>25    </th>\n",
        "      <td>                 None</td>\n",
        "      <td>             None</td>\n",
        "      <td> None</td>\n",
        "      <td> None</td>\n",
        "    </tr>\n",
        "    <tr>\n",
        "      <th>26    </th>\n",
        "      <td>                 None</td>\n",
        "      <td>             None</td>\n",
        "      <td> None</td>\n",
        "      <td> None</td>\n",
        "    </tr>\n",
        "    <tr>\n",
        "      <th>27    </th>\n",
        "      <td>                 None</td>\n",
        "      <td>             None</td>\n",
        "      <td> None</td>\n",
        "      <td> None</td>\n",
        "    </tr>\n",
        "    <tr>\n",
        "      <th>28    </th>\n",
        "      <td>                 None</td>\n",
        "      <td>             None</td>\n",
        "      <td> None</td>\n",
        "      <td> None</td>\n",
        "    </tr>\n",
        "    <tr>\n",
        "      <th>29    </th>\n",
        "      <td>                 None</td>\n",
        "      <td>             None</td>\n",
        "      <td> None</td>\n",
        "      <td> None</td>\n",
        "    </tr>\n",
        "    <tr>\n",
        "      <th>...</th>\n",
        "      <td>...</td>\n",
        "      <td>...</td>\n",
        "      <td>...</td>\n",
        "      <td>...</td>\n",
        "    </tr>\n",
        "    <tr>\n",
        "      <th>141220</th>\n",
        "      <td>       Conflict Zones</td>\n",
        "      <td>             None</td>\n",
        "      <td> None</td>\n",
        "      <td> None</td>\n",
        "    </tr>\n",
        "    <tr>\n",
        "      <th>141221</th>\n",
        "      <td>    Vulnerable Groups</td>\n",
        "      <td>             None</td>\n",
        "      <td> None</td>\n",
        "      <td> None</td>\n",
        "    </tr>\n",
        "    <tr>\n",
        "      <th>141222</th>\n",
        "      <td>                 None</td>\n",
        "      <td>             None</td>\n",
        "      <td> None</td>\n",
        "      <td> None</td>\n",
        "    </tr>\n",
        "    <tr>\n",
        "      <th>141223</th>\n",
        "      <td>                 None</td>\n",
        "      <td>             None</td>\n",
        "      <td> None</td>\n",
        "      <td> None</td>\n",
        "    </tr>\n",
        "    <tr>\n",
        "      <th>141224</th>\n",
        "      <td>                 None</td>\n",
        "      <td>             None</td>\n",
        "      <td> None</td>\n",
        "      <td> None</td>\n",
        "    </tr>\n",
        "    <tr>\n",
        "      <th>141225</th>\n",
        "      <td>             Start-Up</td>\n",
        "      <td>             None</td>\n",
        "      <td> None</td>\n",
        "      <td> None</td>\n",
        "    </tr>\n",
        "    <tr>\n",
        "      <th>141226</th>\n",
        "      <td>                 None</td>\n",
        "      <td>             None</td>\n",
        "      <td> None</td>\n",
        "      <td> None</td>\n",
        "    </tr>\n",
        "    <tr>\n",
        "      <th>141227</th>\n",
        "      <td>                 None</td>\n",
        "      <td>             None</td>\n",
        "      <td> None</td>\n",
        "      <td> None</td>\n",
        "    </tr>\n",
        "    <tr>\n",
        "      <th>141228</th>\n",
        "      <td>                 None</td>\n",
        "      <td>             None</td>\n",
        "      <td> None</td>\n",
        "      <td> None</td>\n",
        "    </tr>\n",
        "    <tr>\n",
        "      <th>141229</th>\n",
        "      <td>                 None</td>\n",
        "      <td>             None</td>\n",
        "      <td> None</td>\n",
        "      <td> None</td>\n",
        "    </tr>\n",
        "    <tr>\n",
        "      <th>141230</th>\n",
        "      <td>                 None</td>\n",
        "      <td>             None</td>\n",
        "      <td> None</td>\n",
        "      <td> None</td>\n",
        "    </tr>\n",
        "    <tr>\n",
        "      <th>141231</th>\n",
        "      <td>                 None</td>\n",
        "      <td>             None</td>\n",
        "      <td> None</td>\n",
        "      <td> None</td>\n",
        "    </tr>\n",
        "    <tr>\n",
        "      <th>141232</th>\n",
        "      <td>                 None</td>\n",
        "      <td>             None</td>\n",
        "      <td> None</td>\n",
        "      <td> None</td>\n",
        "    </tr>\n",
        "    <tr>\n",
        "      <th>141233</th>\n",
        "      <td>                 None</td>\n",
        "      <td>             None</td>\n",
        "      <td> None</td>\n",
        "      <td> None</td>\n",
        "    </tr>\n",
        "    <tr>\n",
        "      <th>141234</th>\n",
        "      <td>                 None</td>\n",
        "      <td>             None</td>\n",
        "      <td> None</td>\n",
        "      <td> None</td>\n",
        "    </tr>\n",
        "    <tr>\n",
        "      <th>141235</th>\n",
        "      <td>                 None</td>\n",
        "      <td>             None</td>\n",
        "      <td> None</td>\n",
        "      <td> None</td>\n",
        "    </tr>\n",
        "    <tr>\n",
        "      <th>141236</th>\n",
        "      <td>                 None</td>\n",
        "      <td>             None</td>\n",
        "      <td> None</td>\n",
        "      <td> None</td>\n",
        "    </tr>\n",
        "    <tr>\n",
        "      <th>141237</th>\n",
        "      <td>                 None</td>\n",
        "      <td>             None</td>\n",
        "      <td> None</td>\n",
        "      <td> None</td>\n",
        "    </tr>\n",
        "    <tr>\n",
        "      <th>141238</th>\n",
        "      <td>                 None</td>\n",
        "      <td>             None</td>\n",
        "      <td> None</td>\n",
        "      <td> None</td>\n",
        "    </tr>\n",
        "    <tr>\n",
        "      <th>141239</th>\n",
        "      <td>    Underfunded Areas</td>\n",
        "      <td>             None</td>\n",
        "      <td> None</td>\n",
        "      <td> None</td>\n",
        "    </tr>\n",
        "    <tr>\n",
        "      <th>141240</th>\n",
        "      <td>    Underfunded Areas</td>\n",
        "      <td>             None</td>\n",
        "      <td> None</td>\n",
        "      <td> None</td>\n",
        "    </tr>\n",
        "    <tr>\n",
        "      <th>141241</th>\n",
        "      <td>                 None</td>\n",
        "      <td>             None</td>\n",
        "      <td> None</td>\n",
        "      <td> None</td>\n",
        "    </tr>\n",
        "    <tr>\n",
        "      <th>141242</th>\n",
        "      <td>                 None</td>\n",
        "      <td>             None</td>\n",
        "      <td> None</td>\n",
        "      <td> None</td>\n",
        "    </tr>\n",
        "    <tr>\n",
        "      <th>141243</th>\n",
        "      <td>                 None</td>\n",
        "      <td>             None</td>\n",
        "      <td> None</td>\n",
        "      <td> None</td>\n",
        "    </tr>\n",
        "    <tr>\n",
        "      <th>141244</th>\n",
        "      <td> Water and Sanitation</td>\n",
        "      <td> Innovative Loans</td>\n",
        "      <td> None</td>\n",
        "      <td> None</td>\n",
        "    </tr>\n",
        "    <tr>\n",
        "      <th>141245</th>\n",
        "      <td>                 None</td>\n",
        "      <td>             None</td>\n",
        "      <td> None</td>\n",
        "      <td> None</td>\n",
        "    </tr>\n",
        "    <tr>\n",
        "      <th>141246</th>\n",
        "      <td>                 None</td>\n",
        "      <td>             None</td>\n",
        "      <td> None</td>\n",
        "      <td> None</td>\n",
        "    </tr>\n",
        "    <tr>\n",
        "      <th>141247</th>\n",
        "      <td>             Start-Up</td>\n",
        "      <td>             None</td>\n",
        "      <td> None</td>\n",
        "      <td> None</td>\n",
        "    </tr>\n",
        "    <tr>\n",
        "      <th>141248</th>\n",
        "      <td>                 None</td>\n",
        "      <td>             None</td>\n",
        "      <td> None</td>\n",
        "      <td> None</td>\n",
        "    </tr>\n",
        "    <tr>\n",
        "      <th>141249</th>\n",
        "      <td>                 None</td>\n",
        "      <td>             None</td>\n",
        "      <td> None</td>\n",
        "      <td> None</td>\n",
        "    </tr>\n",
        "  </tbody>\n",
        "</table>\n",
        "<p>141250 rows \u00d7 4 columns</p>\n",
        "</div>"
       ],
       "metadata": {},
       "output_type": "pyout",
       "prompt_number": 58,
       "text": [
        "                           0                 1     2     3\n",
        "0          Underfunded Areas              None  None  None\n",
        "1                       None              None  None  None\n",
        "2                       None              None  None  None\n",
        "3            Rural Exclusion              None  None  None\n",
        "4          Vulnerable Groups              None  None  None\n",
        "5             Conflict Zones              None  None  None\n",
        "6          Vulnerable Groups              None  None  None\n",
        "7                       None              None  None  None\n",
        "8                       None              None  None  None\n",
        "9                       None              None  None  None\n",
        "10         Vulnerable Groups              None  None  None\n",
        "11                      None              None  None  None\n",
        "12                      None              None  None  None\n",
        "13                      None              None  None  None\n",
        "14            Conflict Zones              None  None  None\n",
        "15                      None              None  None  None\n",
        "16         Mobile Technology  Innovative Loans  None  None\n",
        "17                      None              None  None  None\n",
        "18                      None              None  None  None\n",
        "19                      None              None  None  None\n",
        "20                      None              None  None  None\n",
        "21                      None              None  None  None\n",
        "22                      None              None  None  None\n",
        "23                      None              None  None  None\n",
        "24                      None              None  None  None\n",
        "25                      None              None  None  None\n",
        "26                      None              None  None  None\n",
        "27                      None              None  None  None\n",
        "28                      None              None  None  None\n",
        "29                      None              None  None  None\n",
        "...                      ...               ...   ...   ...\n",
        "141220        Conflict Zones              None  None  None\n",
        "141221     Vulnerable Groups              None  None  None\n",
        "141222                  None              None  None  None\n",
        "141223                  None              None  None  None\n",
        "141224                  None              None  None  None\n",
        "141225              Start-Up              None  None  None\n",
        "141226                  None              None  None  None\n",
        "141227                  None              None  None  None\n",
        "141228                  None              None  None  None\n",
        "141229                  None              None  None  None\n",
        "141230                  None              None  None  None\n",
        "141231                  None              None  None  None\n",
        "141232                  None              None  None  None\n",
        "141233                  None              None  None  None\n",
        "141234                  None              None  None  None\n",
        "141235                  None              None  None  None\n",
        "141236                  None              None  None  None\n",
        "141237                  None              None  None  None\n",
        "141238                  None              None  None  None\n",
        "141239     Underfunded Areas              None  None  None\n",
        "141240     Underfunded Areas              None  None  None\n",
        "141241                  None              None  None  None\n",
        "141242                  None              None  None  None\n",
        "141243                  None              None  None  None\n",
        "141244  Water and Sanitation  Innovative Loans  None  None\n",
        "141245                  None              None  None  None\n",
        "141246                  None              None  None  None\n",
        "141247              Start-Up              None  None  None\n",
        "141248                  None              None  None  None\n",
        "141249                  None              None  None  None\n",
        "\n",
        "[141250 rows x 4 columns]"
       ]
      }
     ],
     "prompt_number": 58
    },
    {
     "cell_type": "code",
     "collapsed": false,
     "input": [
      "zz[0].unique()"
     ],
     "language": "python",
     "metadata": {},
     "outputs": [
      {
       "metadata": {},
       "output_type": "pyout",
       "prompt_number": 63,
       "text": [
        "array([u'Underfunded Areas', None, u'Rural Exclusion',\n",
        "       u'Vulnerable Groups', u'Conflict Zones', u'Mobile Technology',\n",
        "       u'Green', u'Higher Education', u'Start-Up', u'Arab Youth', u'SME',\n",
        "       u'Water and Sanitation', u'Youth', u'Islamic Finance',\n",
        "       u'Job Creation', u'Fair Trade', u'Kiva City LA',\n",
        "       u'Innovative Loans', u'Growing Businesses', u'Disaster recovery',\n",
        "       u'Health', u'Kiva City Detroit'], dtype=object)"
       ]
      }
     ],
     "prompt_number": 63
    },
    {
     "cell_type": "code",
     "collapsed": false,
     "input": [
      "bb"
     ],
     "language": "python",
     "metadata": {},
     "outputs": [
      {
       "metadata": {},
       "output_type": "pyout",
       "prompt_number": 65,
       "text": [
        "638631    [Underfunded Areas]\n",
        "641006                     []\n",
        "641019                     []\n",
        "641594      [Rural Exclusion]\n",
        "642256    [Vulnerable Groups]\n",
        "642311       [Conflict Zones]\n",
        "642353    [Vulnerable Groups]\n",
        "642386                     []\n",
        "642429                     []\n",
        "642836                     []\n",
        "643267    [Vulnerable Groups]\n",
        "643288                     []\n",
        "643402                     []\n",
        "643761                     []\n",
        "644101       [Conflict Zones]\n",
        "...\n",
        "797968                                          []\n",
        "797970                                          []\n",
        "797971                                          []\n",
        "797972                                          []\n",
        "797973                         [Underfunded Areas]\n",
        "797974                         [Underfunded Areas]\n",
        "797977                                          []\n",
        "797978                                          []\n",
        "797979                                          []\n",
        "797980    [Water and Sanitation, Innovative Loans]\n",
        "797982                                          []\n",
        "797983                                          []\n",
        "797984                                  [Start-Up]\n",
        "797985                                          []\n",
        "797987                                          []\n",
        "Name: themes, Length: 141250, dtype: object"
       ]
      }
     ],
     "prompt_number": 65
    },
    {
     "cell_type": "code",
     "collapsed": false,
     "input": [
      "bb.map(lambda x: 'Start-Up' in x)"
     ],
     "language": "python",
     "metadata": {},
     "outputs": [
      {
       "metadata": {},
       "output_type": "pyout",
       "prompt_number": 67,
       "text": [
        "638631    False\n",
        "641006    False\n",
        "641019    False\n",
        "641594    False\n",
        "642256    False\n",
        "642311    False\n",
        "642353    False\n",
        "642386    False\n",
        "642429    False\n",
        "642836    False\n",
        "643267    False\n",
        "643288    False\n",
        "643402    False\n",
        "643761    False\n",
        "644101    False\n",
        "...\n",
        "797968    False\n",
        "797970    False\n",
        "797971    False\n",
        "797972    False\n",
        "797973    False\n",
        "797974    False\n",
        "797977    False\n",
        "797978    False\n",
        "797979    False\n",
        "797980    False\n",
        "797982    False\n",
        "797983    False\n",
        "797984     True\n",
        "797985    False\n",
        "797987    False\n",
        "Name: themes, Length: 141250, dtype: bool"
       ]
      }
     ],
     "prompt_number": 67
    },
    {
     "cell_type": "code",
     "collapsed": false,
     "input": [
      "df.themes"
     ],
     "language": "python",
     "metadata": {},
     "outputs": [
      {
       "metadata": {},
       "output_type": "pyout",
       "prompt_number": 64,
       "text": [
        "False"
       ]
      }
     ],
     "prompt_number": 64
    },
    {
     "cell_type": "code",
     "collapsed": false,
     "input": [
      "aa.map(lambda x: 0 if type(x) == none)"
     ],
     "language": "python",
     "metadata": {},
     "outputs": [
      {
       "ename": "SyntaxError",
       "evalue": "invalid syntax (<ipython-input-20-b8160a992f10>, line 1)",
       "output_type": "pyerr",
       "traceback": [
        "\u001b[1;36m  File \u001b[1;32m\"<ipython-input-20-b8160a992f10>\"\u001b[1;36m, line \u001b[1;32m1\u001b[0m\n\u001b[1;33m    aa.map(lambda x: 0 if type(x) == none)\u001b[0m\n\u001b[1;37m                                         ^\u001b[0m\n\u001b[1;31mSyntaxError\u001b[0m\u001b[1;31m:\u001b[0m invalid syntax\n"
       ]
      }
     ],
     "prompt_number": 20
    },
    {
     "cell_type": "code",
     "collapsed": false,
     "input": [
      "df = model.dum(df)\n"
     ],
     "language": "python",
     "metadata": {},
     "outputs": [],
     "prompt_number": 46
    },
    {
     "cell_type": "code",
     "collapsed": false,
     "input": [
      "X,y = model.get_xy(df)"
     ],
     "language": "python",
     "metadata": {},
     "outputs": [],
     "prompt_number": 47
    },
    {
     "cell_type": "code",
     "collapsed": false,
     "input": [
      "df.columns[5]"
     ],
     "language": "python",
     "metadata": {},
     "outputs": [
      {
       "metadata": {},
       "output_type": "pyout",
       "prompt_number": 50,
       "text": [
        "u'irregular_payments'"
       ]
      }
     ],
     "prompt_number": 50
    },
    {
     "cell_type": "code",
     "collapsed": false,
     "input": [
      "X"
     ],
     "language": "python",
     "metadata": {},
     "outputs": [
      {
       "metadata": {},
       "output_type": "pyout",
       "prompt_number": 14,
       "text": [
        "array([[False, False, False, ..., 0.0, 0.0, 0.0],\n",
        "       [False, False, True, ..., 0.0, 0.0, 0.0],\n",
        "       [False, False, True, ..., 0.0, 0.0, 0.0],\n",
        "       ..., \n",
        "       [False, False, False, ..., 0.0, 0.0, 0.0],\n",
        "       [True, False, False, ..., 0.0, 0.0, 0.0],\n",
        "       [True, False, False, ..., 0.0, 0.0, 0.0]], dtype=object)"
       ]
      }
     ],
     "prompt_number": 14
    },
    {
     "cell_type": "code",
     "collapsed": false,
     "input": [
      "model.oversample_model(X,y,ratio=5)"
     ],
     "language": "python",
     "metadata": {},
     "outputs": [
      {
       "output_type": "stream",
       "stream": "stdout",
       "text": [
        "pct_positive 0.0525302296605\n",
        "true_pos: 0.0313 false_pos: 0.0606\n",
        "true_neg 0.886840540311 false_neg 0.0211820009628\n",
        "recall: 0.596765498652 precision: 0.340825123153\n",
        "[  1.52388738e-02   1.58185916e-03   1.03986001e-02   6.41897305e-02\n",
        "   2.45013838e-02   1.07456169e-01   3.21964069e-01   1.00225856e-02\n",
        "   1.59287423e-01   1.26732497e-02   1.87693497e-03   8.62278897e-03\n",
        "   4.12437034e-03   8.67987474e-03   2.28662421e-04   1.10754451e-02\n",
        "   2.37569096e-03   1.42094020e-02   3.73225376e-03   7.16311933e-03\n",
        "   1.55490712e-02   8.35697395e-03   4.52267931e-03   5.09728690e-04\n",
        "   1.37683553e-03   3.60679343e-03   3.58615446e-03   7.32720009e-05\n",
        "   6.56479426e-04   7.92112539e-04   3.95329938e-03   1.55357663e-05\n",
        "   8.54005252e-05   2.80046294e-04   6.91254594e-05   1.12676780e-06\n",
        "   9.81434892e-04   0.00000000e+00   1.36519084e-02   9.67554591e-04\n",
        "   2.44589889e-04   1.78024458e-03   1.50053982e-03   6.97290865e-04\n",
        "   1.78958118e-03   4.11659807e-03   8.24243983e-04   6.50066199e-03\n",
        "   2.08595073e-04   8.38573559e-04   9.91649462e-04   2.51808658e-03\n",
        "   5.28944813e-03   2.15448228e-03   5.20202816e-03   1.98639768e-04\n",
        "   1.78878705e-03   2.94380773e-04   3.83967629e-05   2.58335506e-03\n",
        "   7.50216920e-05   2.68920427e-03   2.02895811e-05   1.55594331e-05\n",
        "   1.23127891e-03   1.44061808e-03   8.11511790e-04   7.07443354e-03\n",
        "   3.89297218e-05   5.55915645e-05   4.37721874e-03   1.32388863e-02\n",
        "   4.27693330e-03   4.40004853e-03   2.29519317e-03   0.00000000e+00\n",
        "   1.06717583e-03   1.47738739e-10   1.70700228e-03   2.19450091e-03\n",
        "   1.26185890e-06   2.72154500e-04   2.75909257e-02   6.36337457e-04\n",
        "   2.41377296e-06   4.94919042e-03   9.84441938e-04   3.57877020e-06\n",
        "   1.62445477e-03   1.09897324e-03   1.30758102e-02   3.57515539e-03\n",
        "   1.80652922e-05   3.04013788e-03   1.73921445e-06   1.78583862e-03\n",
        "   1.67490340e-03   2.14718968e-03   1.28300472e-04   5.25551559e-05\n",
        "   2.32898185e-03]\n"
       ]
      }
     ],
     "prompt_number": 44
    },
    {
     "cell_type": "code",
     "collapsed": false,
     "input": [
      "df.info()"
     ],
     "language": "python",
     "metadata": {},
     "outputs": [
      {
       "output_type": "stream",
       "stream": "stdout",
       "text": [
        "<class 'pandas.core.frame.DataFrame'>\n",
        "Float64Index: 141250 entries, 638631.0 to 797987.0\n",
        "Columns: 101 entries, bonus_credit_eligibility to ZW\n",
        "dtypes: bool(6), float64(92), int64(3)"
       ]
      }
     ],
     "prompt_number": 35
    },
    {
     "cell_type": "code",
     "collapsed": false,
     "input": [
      "lst = pipe.import_loans('1600s')"
     ],
     "language": "python",
     "metadata": {},
     "outputs": [],
     "prompt_number": 28
    },
    {
     "cell_type": "code",
     "collapsed": false,
     "input": [
      "reload(pipe)"
     ],
     "language": "python",
     "metadata": {},
     "outputs": [
      {
       "metadata": {},
       "output_type": "pyout",
       "prompt_number": 29,
       "text": [
        "<module 'pipe' from '/home/matt/gdrive/final_project/Fundraising-Success/pipe.py'>"
       ]
      }
     ],
     "prompt_number": 29
    },
    {
     "cell_type": "code",
     "collapsed": false,
     "input": [
      "dfr = pipe.build_df(lst)"
     ],
     "language": "python",
     "metadata": {},
     "outputs": [],
     "prompt_number": 31
    },
    {
     "cell_type": "code",
     "collapsed": false,
     "input": [
      "dfr.info()"
     ],
     "language": "python",
     "metadata": {},
     "outputs": [
      {
       "output_type": "stream",
       "stream": "stdout",
       "text": [
        "<class 'pandas.core.frame.DataFrame'>\n",
        "Int64Index: 35333 entries, 0 to 35332\n",
        "Data columns (total 21 columns):\n",
        "activity                    35333 non-null object\n",
        "bonus_credit_eligibility    35333 non-null bool\n",
        "description                 35331 non-null object\n",
        "id                          35333 non-null int64\n",
        "image                       35333 non-null int64\n",
        "loan_amount                 35333 non-null int64\n",
        "name                        35333 non-null object\n",
        "partner_id                  35333 non-null int64\n",
        "posted_date                 35333 non-null datetime64[ns]\n",
        "sector                      35333 non-null object\n",
        "status                      35333 non-null object\n",
        "tags                        35333 non-null object\n",
        "themes                      15979 non-null object\n",
        "use                         35333 non-null object\n",
        "country                     35333 non-null object\n",
        "repayment_interval          35333 non-null object\n",
        "repayment_term              35333 non-null int64\n",
        "currency_loss               35333 non-null object\n",
        "group_size                  35333 non-null int64\n",
        "gender                      35333 non-null object\n",
        "days_available              35333 non-null int64\n",
        "dtypes: bool(1), datetime64[ns](1), int64(7), object(12)"
       ]
      }
     ],
     "prompt_number": 32
    },
    {
     "cell_type": "code",
     "collapsed": false,
     "input": [
      "dfhuh = pd.DataFrame(lst)"
     ],
     "language": "python",
     "metadata": {},
     "outputs": [],
     "prompt_number": 34
    },
    {
     "cell_type": "code",
     "collapsed": false,
     "input": [
      "dfhuh.info()"
     ],
     "language": "python",
     "metadata": {},
     "outputs": [
      {
       "output_type": "stream",
       "stream": "stdout",
       "text": [
        "<class 'pandas.core.frame.DataFrame'>\n",
        "Int64Index: 35333 entries, 0 to 35332\n",
        "Data columns (total 30 columns):\n",
        "activity                         35333 non-null object\n",
        "basket_amount                    5832 non-null float64\n",
        "bonus_credit_eligibility         35333 non-null bool\n",
        "borrowers                        35333 non-null object\n",
        "currency_exchange_loss_amount    43 non-null float64\n",
        "delinquent                       502 non-null object\n",
        "description                      35333 non-null object\n",
        "funded_amount                    35333 non-null int64\n",
        "funded_date                      28459 non-null object\n",
        "id                               35333 non-null int64\n",
        "image                            35333 non-null object\n",
        "journal_totals                   35333 non-null object\n",
        "lender_count                     35333 non-null int64\n",
        "loan_amount                      35333 non-null int64\n",
        "location                         35333 non-null object\n",
        "name                             35333 non-null object\n",
        "paid_amount                      28182 non-null float64\n",
        "paid_date                        285 non-null object\n",
        "partner_id                       35333 non-null int64\n",
        "payments                         35333 non-null object\n",
        "planned_expiration_date          35333 non-null object\n",
        "posted_date                      35333 non-null object\n",
        "sector                           35333 non-null object\n",
        "status                           35333 non-null object\n",
        "tags                             35333 non-null object\n",
        "terms                            35333 non-null object\n",
        "themes                           15979 non-null object\n",
        "translator                       32769 non-null object\n",
        "use                              35333 non-null object\n",
        "video                            5 non-null object\n",
        "dtypes: bool(1), float64(3), int64(5), object(21)"
       ]
      }
     ],
     "prompt_number": 35
    },
    {
     "cell_type": "code",
     "collapsed": false,
     "input": [
      "lst2 = pipe.import_loans('700s')"
     ],
     "language": "python",
     "metadata": {},
     "outputs": [],
     "prompt_number": 2
    },
    {
     "cell_type": "code",
     "collapsed": false,
     "input": [
      "dfhuh2 = pd.DataFrame(lst2)"
     ],
     "language": "python",
     "metadata": {},
     "outputs": [],
     "prompt_number": 3
    },
    {
     "cell_type": "code",
     "collapsed": false,
     "input": [
      "dfhuh2.info()"
     ],
     "language": "python",
     "metadata": {},
     "outputs": [
      {
       "output_type": "stream",
       "stream": "stdout",
       "text": [
        "<class 'pandas.core.frame.DataFrame'>\n",
        "Int64Index: 12000 entries, 0 to 11999\n",
        "Data columns (total 30 columns):\n",
        "activity                         12000 non-null object\n",
        "basket_amount                    0 non-null object\n",
        "bonus_credit_eligibility         12000 non-null bool\n",
        "borrowers                        12000 non-null object\n",
        "currency_exchange_loss_amount    301 non-null float64\n",
        "delinquent                       209 non-null object\n",
        "description                      12000 non-null object\n",
        "funded_amount                    12000 non-null int64\n",
        "funded_date                      11834 non-null object\n",
        "id                               12000 non-null int64\n",
        "image                            12000 non-null object\n",
        "journal_totals                   12000 non-null object\n",
        "lender_count                     12000 non-null int64\n",
        "loan_amount                      12000 non-null int64\n",
        "location                         12000 non-null object\n",
        "name                             12000 non-null object\n",
        "paid_amount                      11607 non-null float64\n",
        "paid_date                        11585 non-null object\n",
        "partner_id                       12000 non-null int64\n",
        "payments                         12000 non-null object\n",
        "planned_expiration_date          12000 non-null object\n",
        "posted_date                      12000 non-null object\n",
        "sector                           12000 non-null object\n",
        "status                           12000 non-null object\n",
        "tags                             12000 non-null object\n",
        "terms                            12000 non-null object\n",
        "themes                           864 non-null object\n",
        "translator                       11181 non-null object\n",
        "use                              12000 non-null object\n",
        "video                            5 non-null object\n",
        "dtypes: bool(1), float64(2), int64(5), object(22)"
       ]
      }
     ],
     "prompt_number": 4
    },
    {
     "cell_type": "code",
     "collapsed": false,
     "input": [
      "lst3 = pipe.import_loans('test/rand')\n",
      "dfhuh3 = pd.DataFrame(lst3)"
     ],
     "language": "python",
     "metadata": {},
     "outputs": [],
     "prompt_number": 7
    },
    {
     "cell_type": "code",
     "collapsed": false,
     "input": [
      "dfhuh3.info()"
     ],
     "language": "python",
     "metadata": {},
     "outputs": [
      {
       "output_type": "stream",
       "stream": "stdout",
       "text": [
        "<class 'pandas.core.frame.DataFrame'>\n",
        "Int64Index: 18000 entries, 0 to 17999\n",
        "Data columns (total 30 columns):\n",
        "activity                         18000 non-null object\n",
        "basket_amount                    0 non-null object\n",
        "bonus_credit_eligibility         18000 non-null bool\n",
        "borrowers                        18000 non-null object\n",
        "currency_exchange_loss_amount    1099 non-null float64\n",
        "delinquent                       1271 non-null object\n",
        "description                      18000 non-null object\n",
        "funded_amount                    18000 non-null int64\n",
        "funded_date                      17542 non-null object\n",
        "id                               18000 non-null int64\n",
        "image                            18000 non-null object\n",
        "journal_totals                   18000 non-null object\n",
        "lender_count                     18000 non-null int64\n",
        "loan_amount                      18000 non-null int64\n",
        "location                         18000 non-null object\n",
        "name                             18000 non-null object\n",
        "paid_amount                      17281 non-null float64\n",
        "paid_date                        10406 non-null object\n",
        "partner_id                       18000 non-null int64\n",
        "payments                         18000 non-null object\n",
        "planned_expiration_date          18000 non-null object\n",
        "posted_date                      18000 non-null object\n",
        "sector                           18000 non-null object\n",
        "status                           18000 non-null object\n",
        "tags                             18000 non-null object\n",
        "terms                            18000 non-null object\n",
        "themes                           5200 non-null object\n",
        "translator                       16712 non-null object\n",
        "use                              18000 non-null object\n",
        "video                            10 non-null object\n",
        "dtypes: bool(1), float64(2), int64(5), object(22)"
       ]
      }
     ],
     "prompt_number": 8
    },
    {
     "cell_type": "code",
     "collapsed": false,
     "input": [
      "theme_list = sorted([u'Underfunded Areas', u'Rural Exclusion',\n",
      "       u'Vulnerable Groups', u'Conflict Zones', u'Mobile Technology',\n",
      "       u'Green', u'Higher Education', u'Start-Up', u'Arab Youth', u'SME',\n",
      "       u'Water and Sanitation', u'Youth', u'Islamic Finance',\n",
      "       u'Job Creation', u'Fair Trade', u'Kiva City LA',\n",
      "       u'Innovative Loans', u'Growing Businesses', u'Disaster recovery',\n",
      "       u'Health', u'Kiva City Detroit', 'Flexible Credit Study'])"
     ],
     "language": "python",
     "metadata": {},
     "outputs": [],
     "prompt_number": 76
    },
    {
     "cell_type": "code",
     "collapsed": false,
     "input": [],
     "language": "python",
     "metadata": {},
     "outputs": []
    },
    {
     "cell_type": "code",
     "collapsed": false,
     "input": [
      "bb.map(lambda x: 'Flexible Credit Study' in x).mean()"
     ],
     "language": "python",
     "metadata": {},
     "outputs": [
      {
       "metadata": {},
       "output_type": "pyout",
       "prompt_number": 74,
       "text": [
        "0.00072920353982300888"
       ]
      }
     ],
     "prompt_number": 74
    },
    {
     "cell_type": "code",
     "collapsed": false,
     "input": [
      "df.themes = df.themes.map(lambda x: x if type(x) == list else [])"
     ],
     "language": "python",
     "metadata": {},
     "outputs": [],
     "prompt_number": 82
    },
    {
     "cell_type": "code",
     "collapsed": false,
     "input": [
      "for theme in theme_list:\n",
      "    df[theme] = df.themes.map(lambda x: 'Start-Up' in x)"
     ],
     "language": "python",
     "metadata": {},
     "outputs": [],
     "prompt_number": 83
    },
    {
     "cell_type": "code",
     "collapsed": false,
     "input": [
      "df = model.get_themes(df)"
     ],
     "language": "python",
     "metadata": {},
     "outputs": [],
     "prompt_number": 97
    },
    {
     "cell_type": "code",
     "collapsed": false,
     "input": [
      "df.info()"
     ],
     "language": "python",
     "metadata": {},
     "outputs": [
      {
       "output_type": "stream",
       "stream": "stdout",
       "text": [
        "<class 'pandas.core.frame.DataFrame'>\n",
        "Float64Index: 141250 entries, 638631.0 to 797987.0\n",
        "Data columns (total 38 columns):\n",
        "activity                    141250 non-null object\n",
        "bonus_credit_eligibility    141250 non-null bool\n",
        "country                     141250 non-null object\n",
        "currency_loss               141250 non-null bool\n",
        "dollars                     141250 non-null bool\n",
        "expired                     141250 non-null bool\n",
        "gender                      141250 non-null bool\n",
        "group_size                  141250 non-null int64\n",
        "irregular_payments          141250 non-null bool\n",
        "loan_amount                 141250 non-null int64\n",
        "pay_at_end                  141250 non-null bool\n",
        "posted_date                 141250 non-null datetime64[ns]\n",
        "repayment_term              141250 non-null int64\n",
        "sector                      141250 non-null object\n",
        "tags                        141250 non-null object\n",
        "use                         141250 non-null object\n",
        "Arab Youth                  141250 non-null bool\n",
        "Conflict Zones              141250 non-null bool\n",
        "Disaster recovery           141250 non-null bool\n",
        "Fair Trade                  141250 non-null bool\n",
        "Flexible Credit Study       141250 non-null bool\n",
        "Green                       141250 non-null bool\n",
        "Growing Businesses          141250 non-null bool\n",
        "Health                      141250 non-null bool\n",
        "Higher Education            141250 non-null bool\n",
        "Innovative Loans            141250 non-null bool\n",
        "Islamic Finance             141250 non-null bool\n",
        "Job Creation                141250 non-null bool\n",
        "Kiva City Detroit           141250 non-null bool\n",
        "Kiva City LA                141250 non-null bool\n",
        "Mobile Technology           141250 non-null bool\n",
        "Rural Exclusion             141250 non-null bool\n",
        "SME                         141250 non-null bool\n",
        "Start-Up                    141250 non-null bool\n",
        "Underfunded Areas           141250 non-null bool\n",
        "Vulnerable Groups           141250 non-null bool\n",
        "Water and Sanitation        141250 non-null bool\n",
        "Youth                       141250 non-null bool\n",
        "dtypes: bool(29), datetime64[ns](1), int64(3), object(5)"
       ]
      }
     ],
     "prompt_number": 98
    },
    {
     "cell_type": "code",
     "collapsed": false,
     "input": [
      "df[df['Job Creation']].count()"
     ],
     "language": "python",
     "metadata": {},
     "outputs": [
      {
       "metadata": {},
       "output_type": "pyout",
       "prompt_number": 101,
       "text": [
        "activity                    264\n",
        "bonus_credit_eligibility    264\n",
        "country                     264\n",
        "currency_loss               264\n",
        "dollars                     264\n",
        "expired                     264\n",
        "gender                      264\n",
        "group_size                  264\n",
        "irregular_payments          264\n",
        "loan_amount                 264\n",
        "pay_at_end                  264\n",
        "posted_date                 264\n",
        "repayment_term              264\n",
        "sector                      264\n",
        "tags                        264\n",
        "use                         264\n",
        "Arab Youth                  264\n",
        "Conflict Zones              264\n",
        "Disaster recovery           264\n",
        "Fair Trade                  264\n",
        "Flexible Credit Study       264\n",
        "Green                       264\n",
        "Growing Businesses          264\n",
        "Health                      264\n",
        "Higher Education            264\n",
        "Innovative Loans            264\n",
        "Islamic Finance             264\n",
        "Job Creation                264\n",
        "Kiva City Detroit           264\n",
        "Kiva City LA                264\n",
        "Mobile Technology           264\n",
        "Rural Exclusion             264\n",
        "SME                         264\n",
        "Start-Up                    264\n",
        "Underfunded Areas           264\n",
        "Vulnerable Groups           264\n",
        "Water and Sanitation        264\n",
        "Youth                       264\n",
        "dtype: int64"
       ]
      }
     ],
     "prompt_number": 101
    },
    {
     "cell_type": "code",
     "collapsed": false,
     "input": [
      "df[df['Green']].count()"
     ],
     "language": "python",
     "metadata": {},
     "outputs": [
      {
       "metadata": {},
       "output_type": "pyout",
       "prompt_number": 102,
       "text": [
        "activity                    1954\n",
        "bonus_credit_eligibility    1954\n",
        "country                     1954\n",
        "currency_loss               1954\n",
        "dollars                     1954\n",
        "expired                     1954\n",
        "gender                      1954\n",
        "group_size                  1954\n",
        "irregular_payments          1954\n",
        "loan_amount                 1954\n",
        "pay_at_end                  1954\n",
        "posted_date                 1954\n",
        "repayment_term              1954\n",
        "sector                      1954\n",
        "tags                        1954\n",
        "use                         1954\n",
        "Arab Youth                  1954\n",
        "Conflict Zones              1954\n",
        "Disaster recovery           1954\n",
        "Fair Trade                  1954\n",
        "Flexible Credit Study       1954\n",
        "Green                       1954\n",
        "Growing Businesses          1954\n",
        "Health                      1954\n",
        "Higher Education            1954\n",
        "Innovative Loans            1954\n",
        "Islamic Finance             1954\n",
        "Job Creation                1954\n",
        "Kiva City Detroit           1954\n",
        "Kiva City LA                1954\n",
        "Mobile Technology           1954\n",
        "Rural Exclusion             1954\n",
        "SME                         1954\n",
        "Start-Up                    1954\n",
        "Underfunded Areas           1954\n",
        "Vulnerable Groups           1954\n",
        "Water and Sanitation        1954\n",
        "Youth                       1954\n",
        "dtype: int64"
       ]
      }
     ],
     "prompt_number": 102
    },
    {
     "cell_type": "code",
     "collapsed": false,
     "input": [
      "df[df.posted_date < '2014-04-01'].expired.mean()"
     ],
     "language": "python",
     "metadata": {},
     "outputs": [
      {
       "metadata": {},
       "output_type": "pyout",
       "prompt_number": 17,
       "text": [
        "0.015252775681793684"
       ]
      }
     ],
     "prompt_number": 17
    },
    {
     "cell_type": "code",
     "collapsed": false,
     "input": [
      "hf = df[(df.posted_date > '2014-4-01') & (df.posted_date < '2014-12-01')].copy()"
     ],
     "language": "python",
     "metadata": {},
     "outputs": [],
     "prompt_number": 243
    },
    {
     "cell_type": "code",
     "collapsed": false,
     "input": [
      "hf = model.dum(hf)"
     ],
     "language": "python",
     "metadata": {},
     "outputs": [],
     "prompt_number": 11
    },
    {
     "cell_type": "code",
     "collapsed": false,
     "input": [
      "hf.info()"
     ],
     "language": "python",
     "metadata": {},
     "outputs": [
      {
       "output_type": "stream",
       "stream": "stdout",
       "text": [
        "<class 'pandas.core.frame.DataFrame'>\n",
        "Float64Index: 104142 entries, 667730.0 to 797987.0\n",
        "Columns: 123 entries, bonus_credit_eligibility to ZW\n",
        "dtypes: bool(29), float64(91), int64(3)"
       ]
      }
     ],
     "prompt_number": 9
    },
    {
     "cell_type": "code",
     "collapsed": false,
     "input": [
      "x,y = model.get_xy(hf)"
     ],
     "language": "python",
     "metadata": {},
     "outputs": [],
     "prompt_number": 12
    },
    {
     "cell_type": "code",
     "collapsed": false,
     "input": [
      "x,y"
     ],
     "language": "python",
     "metadata": {},
     "outputs": [
      {
       "metadata": {},
       "output_type": "pyout",
       "prompt_number": 13,
       "text": [
        "(array([[False, False, False, ..., 0.0, 0.0, 0.0],\n",
        "        [False, False, False, ..., 0.0, 0.0, 0.0],\n",
        "        [False, False, True, ..., 0.0, 0.0, 0.0],\n",
        "        ..., \n",
        "        [False, False, False, ..., 0.0, 0.0, 0.0],\n",
        "        [True, False, False, ..., 0.0, 0.0, 0.0],\n",
        "        [True, False, False, ..., 0.0, 0.0, 0.0]], dtype=object),\n",
        " array([False, False, False, ..., False, False, False], dtype=bool))"
       ]
      }
     ],
     "prompt_number": 13
    },
    {
     "cell_type": "code",
     "collapsed": false,
     "input": [
      "column_list = hf.columns\n"
     ],
     "language": "python",
     "metadata": {},
     "outputs": [],
     "prompt_number": 14
    },
    {
     "cell_type": "code",
     "collapsed": false,
     "input": [
      "rf = model.oversample_model(x,y)\n"
     ],
     "language": "python",
     "metadata": {},
     "outputs": [
      {
       "output_type": "stream",
       "stream": "stdout",
       "text": [
        "(26036, 122) (26036,)\n",
        "(72922, 122) (72922,)\n",
        "pct_positive"
       ]
      },
      {
       "output_type": "stream",
       "stream": "stdout",
       "text": [
        " 0.0654478414503\n",
        "true_pos: 0.0567 false_pos: 0.1521\n",
        "true_neg 0.782455062222 false_neg 0.00879551390383\n",
        "recall: 0.865610328638 precision: 0.271389144434\n"
       ]
      }
     ],
     "prompt_number": 15
    },
    {
     "cell_type": "code",
     "collapsed": false,
     "input": [
      "mod = model.funding_model()"
     ],
     "language": "python",
     "metadata": {},
     "outputs": [],
     "prompt_number": 102
    },
    {
     "cell_type": "code",
     "collapsed": false,
     "input": [
      "hf = df[(df.posted_date > '2014-4-01') & (df.posted_date < '2014-11-01')]"
     ],
     "language": "python",
     "metadata": {},
     "outputs": [],
     "prompt_number": 91
    },
    {
     "cell_type": "code",
     "collapsed": false,
     "input": [
      "tf = df[(df.posted_date > '2014-11-01') & (df.posted_date < '2014-12-01')]"
     ],
     "language": "python",
     "metadata": {},
     "outputs": [],
     "prompt_number": 92
    },
    {
     "cell_type": "code",
     "collapsed": false,
     "input": [
      "zf = df[(df.posted_date > '2014-1-01') & (df.posted_date < '2014-4-01')]"
     ],
     "language": "python",
     "metadata": {},
     "outputs": [],
     "prompt_number": 93
    },
    {
     "cell_type": "code",
     "collapsed": true,
     "input": [
      "tf.info()"
     ],
     "language": "python",
     "metadata": {},
     "outputs": [
      {
       "output_type": "stream",
       "stream": "stdout",
       "text": [
        "<class 'pandas.core.frame.DataFrame'>\n",
        "Float64Index: 8309 entries, 777202.0 to 797987.0\n",
        "Data columns (total 17 columns):\n",
        "activity                    8309 non-null object\n",
        "bonus_credit_eligibility    8309 non-null bool\n",
        "country                     8309 non-null object\n",
        "currency_loss               8309 non-null bool\n",
        "dollars                     8309 non-null bool\n",
        "expired                     8309 non-null bool\n",
        "gender                      8309 non-null bool\n",
        "group_size                  8309 non-null int64\n",
        "irregular_payments          8309 non-null bool\n",
        "loan_amount                 8309 non-null int64\n",
        "pay_at_end                  8309 non-null bool\n",
        "posted_date                 8309 non-null datetime64[ns]\n",
        "repayment_term              8309 non-null int64\n",
        "sector                      8309 non-null object\n",
        "tags                        8309 non-null object\n",
        "themes                      3163 non-null object\n",
        "use                         8309 non-null object\n",
        "dtypes: bool(7), datetime64[ns](1), int64(3), object(6)"
       ]
      }
     ],
     "prompt_number": 49
    },
    {
     "cell_type": "code",
     "collapsed": false,
     "input": [
      "# hf = mod.transform(hf)"
     ],
     "language": "python",
     "metadata": {},
     "outputs": [],
     "prompt_number": 50
    },
    {
     "cell_type": "code",
     "collapsed": false,
     "input": [
      "# hf.info()"
     ],
     "language": "python",
     "metadata": {},
     "outputs": [],
     "prompt_number": 51
    },
    {
     "cell_type": "code",
     "collapsed": false,
     "input": [
      "# mod.fit_oversample(hf,ratio=.3)"
     ],
     "language": "python",
     "metadata": {},
     "outputs": [],
     "prompt_number": 52
    },
    {
     "cell_type": "code",
     "collapsed": false,
     "input": [
      "mod.transform_fit(hf)"
     ],
     "language": "python",
     "metadata": {},
     "outputs": [
      {
       "output_type": "stream",
       "stream": "stdout",
       "text": [
        "17\n",
        "121"
       ]
      },
      {
       "output_type": "stream",
       "stream": "stdout",
       "text": [
        "\n",
        "[u'AL', u'AM', u'AZ', u'Agriculture', u'Arts', u'BF', u'BI', u'BJ', u'BO', u'BR', u'BZ', u'CD', u'CG', u'CM', u'CO', u'CR', u'Clothing', u'Construction', u'DO', u'EC', u'Education', u'Entertainment', u'Food', u'GE', u'GH', u'GT', u'HN', u'HT', u'Health', u'Housing', u'ID', u'IL', u'IN', u'IQ', u'JO', u'KE', u'KG', u'KH', u'LA', u'LB', u'LR', u'MD', u'ML', u'MM', u'MN', u'MR', u'MW', u'MX', u'MZ', u'Manufacturing', u'NG', u'NI', u'NP', u'PA', u'PE', u'PH', u'PK', u'PS', u'PY', u'Personal Use', u'QS', u'RW', u'Retail', u'SL', u'SN', u'SO', u'SR', u'SV', u'Services', u'TG', u'TH', u'TJ', u'TL', u'TR', u'TZ', u'Transportation', u'UA', u'UG', u'US', u'VC', u'VN', u'VU', u'WS', u'Wholesale', u'XK', u'YE', u'ZA', u'ZM', u'ZW', u'bonus_credit_eligibility', u'currency_loss', u'dollars', u'gender', u'group_size', u'irregular_payments', u'loan_amount', u'pay_at_end', u'repayment_term', 'theme_Arab Youth', 'theme_Conflict Zones', 'theme_Disaster recovery', 'theme_Fair Trade', 'theme_Flexible Credit Study', 'theme_Green', 'theme_Growing Businesses', 'theme_Health', 'theme_Higher Education', 'theme_Innovative Loans', 'theme_Islamic Finance', 'theme_Job Creation', 'theme_Kiva City Detroit', 'theme_Kiva City LA', 'theme_Mobile Technology', 'theme_Rural Exclusion', 'theme_SME', 'theme_Start-Up', 'theme_Underfunded Areas', 'theme_Vulnerable Groups', 'theme_Water and Sanitation', 'theme_Youth', 'theme_none']\n"
       ]
      }
     ],
     "prompt_number": 56
    },
    {
     "cell_type": "code",
     "collapsed": false,
     "input": [
      "mod.predict(tf)"
     ],
     "language": "python",
     "metadata": {},
     "outputs": [
      {
       "output_type": "stream",
       "stream": "stdout",
       "text": [
        "111\n",
        "121\n",
        "12\n",
        "2\n",
        "109\n",
        "121\n",
        "pct_positive"
       ]
      },
      {
       "output_type": "stream",
       "stream": "stdout",
       "text": [
        " 0.140450114334\n",
        "true_pos: 0.0741 false_pos: 0.0874\n",
        "true_neg 0.772174750271 false_neg 0.0663136358166\n",
        "recall: 0.527849185947 precision: 0.459016393443\n"
       ]
      }
     ],
     "prompt_number": 57
    },
    {
     "cell_type": "code",
     "collapsed": false,
     "input": [
      "mod.predict(zf)"
     ],
     "language": "python",
     "metadata": {},
     "outputs": [
      {
       "output_type": "stream",
       "stream": "stdout",
       "text": [
        "113\n",
        "121\n",
        "9\n",
        "1\n",
        "112\n",
        "121\n",
        "pct_positive"
       ]
      },
      {
       "output_type": "stream",
       "stream": "stdout",
       "text": [
        " 0.0152527756818\n",
        "true_pos: 0.0143 false_pos: 0.1529\n",
        "true_neg 0.831842190363 false_neg 0.000997089576372\n",
        "recall: 0.934628975265 precision: 0.0852813154925\n"
       ]
      }
     ],
     "prompt_number": 58
    },
    {
     "cell_type": "code",
     "collapsed": false,
     "input": [
      "tf.info()"
     ],
     "language": "python",
     "metadata": {},
     "outputs": [
      {
       "output_type": "stream",
       "stream": "stdout",
       "text": [
        "<class 'pandas.core.frame.DataFrame'>\n",
        "Float64Index: 8309 entries, 777202.0 to 797987.0\n",
        "Data columns (total 17 columns):\n",
        "activity                    8309 non-null object\n",
        "bonus_credit_eligibility    8309 non-null bool\n",
        "country                     8309 non-null object\n",
        "currency_loss               8309 non-null bool\n",
        "dollars                     8309 non-null bool\n",
        "expired                     8309 non-null bool\n",
        "gender                      8309 non-null bool\n",
        "group_size                  8309 non-null int64\n",
        "irregular_payments          8309 non-null bool\n",
        "loan_amount                 8309 non-null int64\n",
        "pay_at_end                  8309 non-null bool\n",
        "posted_date                 8309 non-null datetime64[ns]\n",
        "repayment_term              8309 non-null int64\n",
        "sector                      8309 non-null object\n",
        "tags                        8309 non-null object\n",
        "themes                      3163 non-null object\n",
        "use                         8309 non-null object\n",
        "dtypes: bool(7), datetime64[ns](1), int64(3), object(6)"
       ]
      }
     ],
     "prompt_number": 39
    },
    {
     "cell_type": "code",
     "collapsed": false,
     "input": [
      "for n in xrange(2,10):\n",
      "    mod.fit_oversample(hf,ratio=.3,split = n)\n",
      "    mod.predict(tf)"
     ],
     "language": "python",
     "metadata": {},
     "outputs": [
      {
       "output_type": "stream",
       "stream": "stdout",
       "text": [
        "pct_positive 0.140450114334\n",
        "true_pos: 0.1305 false_pos: 0.2104\n",
        "true_neg 0.649175592731 false_neg 0.00998916837165\n",
        "recall: 0.928877463582 precision: 0.382768361582\n",
        "pct_positive"
       ]
      },
      {
       "output_type": "stream",
       "stream": "stdout",
       "text": [
        " 0.140450114334\n",
        "true_pos: 0.1047 false_pos: 0.1861\n",
        "true_neg 0.673486580816 false_neg 0.0357443735708\n",
        "recall: 0.745501285347 precision: 0.360099337748\n",
        "pct_positive"
       ]
      },
      {
       "output_type": "stream",
       "stream": "stdout",
       "text": [
        " 0.140450114334\n",
        "true_pos: 0.1028 false_pos: 0.1793\n",
        "true_neg 0.680226260681 false_neg 0.0376699963895\n",
        "recall: 0.731790916881 precision: 0.36433447099\n",
        "pct_positive"
       ]
      },
      {
       "output_type": "stream",
       "stream": "stdout",
       "text": [
        " 0.140450114334\n",
        "true_pos: 0.1099 false_pos: 0.1934\n",
        "true_neg 0.66614514382 false_neg 0.0305692622458\n",
        "recall: 0.7823479006 precision: 0.362301587302\n",
        "pct_positive"
       ]
      },
      {
       "output_type": "stream",
       "stream": "stdout",
       "text": [
        " 0.140450114334\n",
        "true_pos: 0.1035 false_pos: 0.1744\n",
        "true_neg 0.685160669154 false_neg 0.0369478878325\n",
        "recall: 0.736932305056 precision: 0.372455608489\n",
        "pct_positive"
       ]
      },
      {
       "output_type": "stream",
       "stream": "stdout",
       "text": [
        " 0.140450114334\n",
        "true_pos: 0.109 false_pos: 0.1844\n",
        "true_neg 0.675171500782 false_neg 0.0314117222289\n",
        "recall: 0.776349614396 precision: 0.371616078753\n",
        "pct_positive"
       ]
      },
      {
       "output_type": "stream",
       "stream": "stdout",
       "text": [
        " 0.140450114334\n",
        "true_pos: 0.1172 false_pos: 0.1932\n",
        "true_neg 0.666385846672 false_neg 0.0232278252497\n",
        "recall: 0.834618680377 precision: 0.377665761923\n",
        "pct_positive"
       ]
      },
      {
       "output_type": "stream",
       "stream": "stdout",
       "text": [
        " 0.140450114334\n",
        "true_pos: 0.0956 false_pos: 0.1804\n",
        "true_neg 0.679143097846 false_neg 0.0448910819593\n",
        "recall: 0.680377035133 precision: 0.346271260358\n"
       ]
      }
     ],
     "prompt_number": 14
    },
    {
     "cell_type": "code",
     "collapsed": false,
     "input": [
      "mod.feat_imp()"
     ],
     "language": "python",
     "metadata": {},
     "outputs": [
      {
       "output_type": "stream",
       "stream": "stdout",
       "text": [
        "Index([u'bonus_credit_eligibility', u'currency_loss', u'dollars', u'gender', u'group_size', u'irregular_payments', u'loan_amount', u'pay_at_end', u'repayment_term', u'theme_Arab Youth', u'theme_Conflict Zones', u'theme_Disaster recovery', u'theme_Fair Trade', u'theme_Flexible Credit Study', u'theme_Green', u'theme_Growing Businesses', u'theme_Health', u'theme_Higher Education', u'theme_Innovative Loans', u'theme_Islamic Finance', u'theme_Job Creation', u'theme_Kiva City Detroit', u'theme_Kiva City LA', u'theme_Mobile Technology', u'theme_Rural Exclusion', u'theme_SME', u'theme_Start-Up', u'theme_Underfunded Areas', u'theme_Vulnerable Groups', u'theme_Water and Sanitation', u'theme_Youth', u'theme_none', u'Agriculture', u'Arts', u'Clothing', u'Construction', u'Education', u'Entertainment', u'Food', u'Health', u'Housing', u'Manufacturing', u'Personal Use', u'Retail', u'Services', u'Transportation', u'Wholesale', u'AL', u'AM', u'AZ', u'BF', u'BI', u'BJ', u'BO', u'BR', u'BZ', u'CD', u'CG', u'CM', u'CO', u'CR', u'DO', u'EC', u'GE', u'GH', u'GT', u'HN', u'HT', u'ID', u'IL', u'IN', u'IQ', u'JO', u'KE', u'KG', u'KH', u'LA', u'LB', u'LR', u'MD', u'ML', u'MM', u'MN', u'MR', u'MW', u'MX', u'MZ', u'NG', u'NI', u'NP', u'PA', u'PE', u'PH', u'PK', u'PS', u'PY', u'QS', u'RW', u'SL', u'SN', ...], dtype='object')\n",
        "Index([u'bonus_credit_eligibility', u'currency_loss', u'dollars', u'gender', u'group_size', u'irregular_payments', u'loan_amount', u'pay_at_end', u'repayment_term', u'theme_Arab Youth', u'theme_Conflict Zones', u'theme_Disaster recovery', u'theme_Fair Trade', u'theme_Flexible Credit Study', u'theme_Green', u'theme_Growing Businesses', u'theme_Health', u'theme_Higher Education', u'theme_Innovative Loans', u'theme_Islamic Finance', u'theme_Job Creation', u'theme_Kiva City Detroit', u'theme_Kiva City LA', u'theme_Mobile Technology', u'theme_Rural Exclusion', u'theme_SME', u'theme_Start-Up', u'theme_Underfunded Areas', u'theme_Vulnerable Groups', u'theme_Water and Sanitation', u'theme_Youth', u'theme_none', u'Agriculture', u'Arts', u'Clothing', u'Construction', u'Education', u'Entertainment', u'Food', u'Health', u'Housing', u'Manufacturing', u'Personal Use', u'Retail', u'Services', u'Transportation', u'Wholesale', u'AL', u'AM', u'AZ', u'BF', u'BI', u'BJ', u'BO', u'BR', u'BZ', u'CD', u'CG', u'CM', u'CO', u'CR', u'DO', u'EC', u'GE', u'GH', u'GT', u'HN', u'HT', u'ID', u'IL', u'IN', u'IQ', u'JO', u'KE', u'KG', u'KH', u'LA', u'LB', u'LR', u'MD', u'ML', u'MM', u'MN', u'MR', u'MW', u'MX', u'MZ', u'NG', u'NI', u'NP', u'PA', u'PE', u'PH', u'PK', u'PS', u'PY', u'QS', u'RW', u'SL', u'SN', ...], dtype='object')\n",
        "[  1.45869483e-02   0.00000000e+00   9.91108002e-03   6.72033956e-02\n",
        "   2.20500564e-02   1.27792928e-01   2.62659165e-01   9.32193223e-03\n",
        "   1.61264777e-01   1.02226907e-03   4.11463783e-03   1.50477338e-03\n",
        "   6.63833873e-04   3.53191313e-04   3.31399310e-03   8.17705140e-04\n",
        "   0.00000000e+00   2.22881705e-03   2.31411624e-03   1.57757250e-03\n",
        "   7.63129976e-04   0.00000000e+00   1.67053625e-04   4.09318422e-03\n",
        "   6.13319790e-03   8.76295587e-05   2.50277711e-03   5.42143520e-03\n",
        "   4.85292229e-03   3.90271449e-03   5.06610701e-03   1.41701564e-02\n",
        "   1.31793287e-02   2.63368567e-03   6.37545534e-03   2.36084357e-03\n",
        "   8.35401712e-03   2.99392100e-04   1.07479343e-02   2.96120382e-03\n",
        "   1.25024091e-02   3.98890269e-03   6.00847485e-03   1.29044405e-02\n",
        "   7.87657827e-03   3.81210180e-03   9.22551157e-04   6.27987566e-04\n",
        "   2.71049292e-03   1.32587355e-03   9.31406508e-05   2.03367934e-04\n",
        "   1.32743945e-03   3.11335910e-03   0.00000000e+00   1.38192593e-04\n",
        "   4.51863070e-04   2.01360729e-05   7.48692278e-04   9.66893334e-03\n",
        "   9.05706259e-04   3.60650112e-04   2.38687783e-03   5.74702506e-04\n",
        "   6.64868612e-04   1.63445579e-03   2.67370138e-03   1.44103128e-03\n",
        "   4.77535104e-03   0.00000000e+00   9.62814324e-04   3.12150471e-03\n",
        "   2.19955231e-03   7.87101357e-03   1.30309420e-03   1.12478047e-02\n",
        "   6.68097523e-05   1.91582821e-03   7.58273423e-04   0.00000000e+00\n",
        "   2.08671930e-03   1.53512782e-04   1.17922953e-03   0.00000000e+00\n",
        "   4.37385528e-05   1.36754780e-03   7.89601121e-04   3.83548326e-03\n",
        "   4.42646291e-03   1.46413086e-05   0.00000000e+00   4.00950649e-03\n",
        "   1.98436088e-02   3.83329598e-03   4.93435244e-03   3.22747133e-03\n",
        "   0.00000000e+00   1.66716040e-03   1.72392454e-03   2.92682537e-03\n",
        "   4.69597754e-07   6.21090232e-04   1.59580694e-02   6.39326544e-04\n",
        "   0.00000000e+00   3.66438711e-03   6.15842872e-04   6.71169482e-05\n",
        "   1.70079073e-03   1.09340053e-03   6.44549882e-03   1.39225732e-03\n",
        "   5.77219251e-05   4.49317566e-03   0.00000000e+00   2.55777061e-03\n",
        "   6.64333193e-04   9.66530894e-04   1.17813559e-04   4.18515070e-04\n",
        "   2.38046921e-03]\n",
        "[ 21  83  69  90  96 104  54  16  79   1 114 100  89  57  84 112  76 107\n",
        "  25  50 118  55  81  22  51  37  13  61 119  56  63 106 101  47 103  12\n",
        " 116  64  58  78  20  86  15  60  46  70 117   9 109  82  74  49  52  85\n",
        " 111  67  11  19  65  97 108  98  77  80  72  17  18  35 120  62  26 115\n",
        "  33  66  48  99  39  53  71  95  14 105  45  93  87  29  41  91  23  10\n",
        "  88 113  68  28  94  30  27  42  24  34 110  73  44  36   7  59   2  38\n",
        "  75  40  43  32  31   0 102  92   4   3   5   8   6]\n",
        "Index([u'bonus_credit_eligibility', u'currency_loss', u'dollars', u'gender', u'group_size', u'irregular_payments', u'loan_amount', u'pay_at_end', u'repayment_term', u'theme_Arab Youth', u'theme_Conflict Zones', u'theme_Disaster recovery', u'theme_Fair Trade', u'theme_Flexible Credit Study', u'theme_Green', u'theme_Growing Businesses', u'theme_Health', u'theme_Higher Education', u'theme_Innovative Loans', u'theme_Islamic Finance', u'theme_Job Creation', u'theme_Kiva City Detroit', u'theme_Kiva City LA', u'theme_Mobile Technology', u'theme_Rural Exclusion', u'theme_SME', u'theme_Start-Up', u'theme_Underfunded Areas', u'theme_Vulnerable Groups', u'theme_Water and Sanitation', u'theme_Youth', u'theme_none', u'Agriculture', u'Arts', u'Clothing', u'Construction', u'Education', u'Entertainment', u'Food', u'Health', u'Housing', u'Manufacturing', u'Personal Use', u'Retail', u'Services', u'Transportation', u'Wholesale', u'AL', u'AM', u'AZ', u'BF', u'BI', u'BJ', u'BO', u'BR', u'BZ', u'CD', u'CG', u'CM', u'CO', u'CR', u'DO', u'EC', u'GE', u'GH', u'GT', u'HN', u'HT', u'ID', u'IL', u'IN', u'IQ', u'JO', u'KE', u'KG', u'KH', u'LA', u'LB', u'LR', u'MD', u'ML', u'MM', u'MN', u'MR', u'MW', u'MX', u'MZ', u'NG', u'NI', u'NP', u'PA', u'PE', u'PH', u'PK', u'PS', u'PY', u'QS', u'RW', u'SL', u'SN', ...], dtype='object')\n",
        "loan_amount: 26.3%\n",
        "repayment_term: 16.1%\n",
        "irregular_payments: 12.8%\n",
        "gender: 6.7%\n",
        "group_size: 2.2%\n",
        "PH: 2.0%\n",
        "SV: 1.6%\n",
        "bonus_credit_eligibility: 1.5%\n",
        "theme_none: 1.4%\n",
        "Agriculture: 1.3%\n",
        "Retail: 1.3%\n",
        "Housing: 1.3%\n",
        "KH: 1.1%\n",
        "Food: 1.1%\n",
        "dollars: 1.0%\n",
        "CO: 1.0%\n",
        "pay_at_end: 0.9%\n",
        "Education: 0.8%\n",
        "Services: 0.8%\n",
        "KE: 0.8%\n",
        "UG: 0.6%\n",
        "Clothing: 0.6%\n",
        "theme_Rural Exclusion: 0.6%\n",
        "Personal Use: 0.6%\n",
        "theme_Underfunded Areas: 0.5%\n",
        "theme_Youth: 0.5%\n",
        "PS: 0.5%\n",
        "theme_Vulnerable Groups: 0.5%\n",
        "ID: 0.5%\n",
        "VN: 0.4%\n",
        "NI: 0.4%\n",
        "theme_Conflict Zones: 0.4%\n",
        "theme_Mobile Technology: 0.4%\n",
        "PE: 0.4%\n",
        "Manufacturing: 0.4%\n",
        "theme_Water and Sanitation: 0.4%\n",
        "NG: 0.4%\n",
        "PK: 0.4%\n",
        "Transportation: 0.4%\n",
        "TJ: 0.4%\n",
        "theme_Green: 0.3%\n",
        "PY: 0.3%\n",
        "IQ: 0.3%\n",
        "BO: 0.3%\n",
        "Health: 0.3%\n",
        "SN: 0.3%\n",
        "AM: 0.3%\n",
        "HN: 0.3%\n",
        "Arts: 0.3%\n",
        "WS: 0.3%\n",
        "theme_Start-Up: 0.3%\n",
        "EC: 0.2%\n",
        "ZW: 0.2%\n",
        "Construction: 0.2%\n",
        "theme_Innovative Loans: 0.2%\n",
        "theme_Higher Education: 0.2%\n",
        "JO: 0.2%\n",
        "ML: 0.2%\n",
        "LB: 0.2%\n",
        "SL: 0.2%\n",
        "TZ: 0.2%\n",
        "RW: 0.2%\n",
        "GT: 0.2%\n",
        "theme_Islamic Finance: 0.2%\n",
        "theme_Disaster recovery: 0.2%\n",
        "HT: 0.1%\n",
        "US: 0.1%\n",
        "MX: 0.1%\n",
        "BJ: 0.1%\n",
        "AZ: 0.1%\n",
        "KG: 0.1%\n",
        "MN: 0.1%\n",
        "UA: 0.1%\n",
        "theme_Arab Youth: 0.1%\n",
        "YE: 0.1%\n",
        "IN: 0.1%\n",
        "Wholesale: 0.1%\n",
        "CR: 0.1%\n",
        "theme_Growing Businesses: 0.1%\n",
        "MZ: 0.1%\n",
        "theme_Job Creation: 0.1%\n",
        "LR: 0.1%\n",
        "CM: 0.1%\n",
        "GH: 0.1%\n",
        "XK: 0.1%\n",
        "theme_Fair Trade: 0.1%\n",
        "TG: 0.1%\n",
        "AL: 0.1%\n",
        "SR: 0.1%\n",
        "TL: 0.1%\n",
        "GE: 0.1%\n",
        "CD: 0.0%\n",
        "ZM: 0.0%\n",
        "DO: 0.0%\n",
        "theme_Flexible Credit Study: 0.0%\n",
        "Entertainment: 0.0%\n",
        "BI: 0.0%\n",
        "theme_Kiva City LA: 0.0%\n",
        "MM: 0.0%\n",
        "BZ: 0.0%\n",
        "ZA: 0.0%\n",
        "BF: 0.0%\n",
        "theme_SME: 0.0%\n",
        "TR: 0.0%\n",
        "LA: 0.0%\n",
        "VC: 0.0%\n",
        "MW: 0.0%\n",
        "CG: 0.0%\n",
        "NP: 0.0%\n",
        "SO: 0.0%\n",
        "VU: 0.0%\n",
        "currency_loss: 0.0%\n",
        "MD: 0.0%\n",
        "theme_Health: 0.0%\n",
        "BR: 0.0%\n",
        "TH: 0.0%\n",
        "QS: 0.0%\n",
        "PA: 0.0%\n",
        "IL: 0.0%\n",
        "MR: 0.0%\n",
        "theme_Kiva City Detroit: 0.0%\n"
       ]
      }
     ],
     "prompt_number": 59
    },
    {
     "cell_type": "code",
     "collapsed": false,
     "input": [
      "a = [1,2,3]"
     ],
     "language": "python",
     "metadata": {},
     "outputs": [],
     "prompt_number": 84
    },
    {
     "cell_type": "code",
     "collapsed": false,
     "input": [
      "set(a)"
     ],
     "language": "python",
     "metadata": {},
     "outputs": [
      {
       "metadata": {},
       "output_type": "pyout",
       "prompt_number": 85,
       "text": [
        "{1, 2, 3}"
       ]
      }
     ],
     "prompt_number": 85
    },
    {
     "cell_type": "code",
     "collapsed": false,
     "input": [
      "a"
     ],
     "language": "python",
     "metadata": {},
     "outputs": [
      {
       "metadata": {},
       "output_type": "pyout",
       "prompt_number": 86,
       "text": [
        "[1, 2, 3]"
       ]
      }
     ],
     "prompt_number": 86
    },
    {
     "cell_type": "code",
     "collapsed": false,
     "input": [
      "ed = df[df.sector=='Education']"
     ],
     "language": "python",
     "metadata": {},
     "outputs": [],
     "prompt_number": 41
    },
    {
     "cell_type": "code",
     "collapsed": false,
     "input": [
      "df.sector"
     ],
     "language": "python",
     "metadata": {},
     "outputs": [
      {
       "metadata": {},
       "output_type": "pyout",
       "prompt_number": 20,
       "text": [
        "638631          Retail\n",
        "641006       Education\n",
        "641019       Education\n",
        "641594     Agriculture\n",
        "642256        Services\n",
        "642311            Food\n",
        "642353            Food\n",
        "642386        Clothing\n",
        "642429            Arts\n",
        "642836          Retail\n",
        "643267            Food\n",
        "643288       Education\n",
        "643402     Agriculture\n",
        "643761    Construction\n",
        "644101            Food\n",
        "...\n",
        "797968            Food\n",
        "797970        Services\n",
        "797971          Retail\n",
        "797972          Retail\n",
        "797973     Agriculture\n",
        "797974     Agriculture\n",
        "797977     Agriculture\n",
        "797978     Agriculture\n",
        "797979          Retail\n",
        "797980        Services\n",
        "797982    Construction\n",
        "797983            Food\n",
        "797984        Services\n",
        "797985            Food\n",
        "797987          Retail\n",
        "Name: sector, Length: 141250, dtype: object"
       ]
      }
     ],
     "prompt_number": 20
    },
    {
     "cell_type": "code",
     "collapsed": false,
     "input": [
      "mod.predict(ed)"
     ],
     "language": "python",
     "metadata": {},
     "outputs": [
      {
       "output_type": "stream",
       "stream": "stdout",
       "text": [
        "82\n",
        "121\n",
        "39\n",
        "0\n",
        "82\n",
        "121\n",
        "pct_positive"
       ]
      },
      {
       "output_type": "stream",
       "stream": "stdout",
       "text": [
        " 0.0151446993552\n",
        "true_pos: 0.0115 false_pos: 0.1898\n",
        "true_neg 0.79502174239 false_neg 0.00359874044085\n",
        "recall: 0.762376237624 precision: 0.0573343261355\n"
       ]
      }
     ],
     "prompt_number": 60
    },
    {
     "cell_type": "code",
     "collapsed": false,
     "input": [
      "ag = df[df.sector=='Agriculture']"
     ],
     "language": "python",
     "metadata": {},
     "outputs": [],
     "prompt_number": 68
    },
    {
     "cell_type": "code",
     "collapsed": false,
     "input": [
      "ag.info()"
     ],
     "language": "python",
     "metadata": {},
     "outputs": [
      {
       "output_type": "stream",
       "stream": "stdout",
       "text": [
        "<class 'pandas.core.frame.DataFrame'>\n",
        "Float64Index: 35856 entries, 641594.0 to 797978.0\n",
        "Data columns (total 17 columns):\n",
        "activity                    35856 non-null object\n",
        "bonus_credit_eligibility    35856 non-null bool\n",
        "country                     35856 non-null object\n",
        "currency_loss               35856 non-null bool\n",
        "dollars                     35856 non-null bool\n",
        "expired                     35856 non-null bool\n",
        "gender                      35856 non-null bool\n",
        "group_size                  35856 non-null int64\n",
        "irregular_payments          35856 non-null bool\n",
        "loan_amount                 35856 non-null int64\n",
        "pay_at_end                  35856 non-null bool\n",
        "posted_date                 35856 non-null datetime64[ns]\n",
        "repayment_term              35856 non-null int64\n",
        "sector                      35856 non-null object\n",
        "tags                        35856 non-null object\n",
        "themes                      17275 non-null object\n",
        "use                         35856 non-null object\n",
        "dtypes: bool(7), datetime64[ns](1), int64(3), object(6)"
       ]
      }
     ],
     "prompt_number": 69
    },
    {
     "cell_type": "code",
     "collapsed": false,
     "input": [
      "ed.shape"
     ],
     "language": "python",
     "metadata": {},
     "outputs": [
      {
       "metadata": {},
       "output_type": "pyout",
       "prompt_number": 66,
       "text": [
        "(6669, 17)"
       ]
      }
     ],
     "prompt_number": 66
    },
    {
     "cell_type": "code",
     "collapsed": false,
     "input": [
      "a = [1,2,3,4,5,3]"
     ],
     "language": "python",
     "metadata": {},
     "outputs": [],
     "prompt_number": 11
    },
    {
     "cell_type": "code",
     "collapsed": false,
     "input": [
      "b = list(set(a))"
     ],
     "language": "python",
     "metadata": {},
     "outputs": [],
     "prompt_number": 14
    },
    {
     "cell_type": "code",
     "collapsed": false,
     "input": [
      "[x for x in a if x not in b]"
     ],
     "language": "python",
     "metadata": {},
     "outputs": [
      {
       "metadata": {},
       "output_type": "pyout",
       "prompt_number": 16,
       "text": [
        "[]"
       ]
      }
     ],
     "prompt_number": 16
    },
    {
     "cell_type": "code",
     "collapsed": false,
     "input": [
      "a"
     ],
     "language": "python",
     "metadata": {},
     "outputs": [
      {
       "metadata": {},
       "output_type": "pyout",
       "prompt_number": 17,
       "text": [
        "[1, 2, 3, 4, 5, 3]"
       ]
      }
     ],
     "prompt_number": 17
    },
    {
     "cell_type": "code",
     "collapsed": false,
     "input": [
      "sorted(a)"
     ],
     "language": "python",
     "metadata": {},
     "outputs": [
      {
       "metadata": {},
       "output_type": "pyout",
       "prompt_number": 18,
       "text": [
        "[1, 2, 3, 3, 4, 5]"
       ]
      }
     ],
     "prompt_number": 18
    },
    {
     "cell_type": "code",
     "collapsed": false,
     "input": [
      "print df.themes.isnull().mean()\n",
      "print hf.themes.isnull().mean()\n",
      "print tf.themes.isnull().mean()\n",
      "print zf.themes.isnull().mean()\n"
     ],
     "language": "python",
     "metadata": {},
     "outputs": [
      {
       "output_type": "stream",
       "stream": "stdout",
       "text": [
        "0.602046017699\n",
        "0.594878590882\n",
        "0.619328439042\n",
        "0.616686428802\n"
       ]
      }
     ],
     "prompt_number": 33
    },
    {
     "cell_type": "code",
     "collapsed": false,
     "input": [
      "notheme = df[df.themes.isnull()]"
     ],
     "language": "python",
     "metadata": {},
     "outputs": [],
     "prompt_number": 63
    },
    {
     "cell_type": "code",
     "collapsed": false,
     "input": [
      "mod.predict(notheme)"
     ],
     "language": "python",
     "metadata": {},
     "outputs": [
      {
       "output_type": "stream",
       "stream": "stdout",
       "text": [
        "99\n",
        "121\n",
        "22\n",
        "0\n",
        "99\n",
        "121\n",
        "pct_positive"
       ]
      },
      {
       "output_type": "stream",
       "stream": "stdout",
       "text": [
        " 0.0540340314444\n",
        "true_pos: 0.0432 false_pos: 0.1309\n",
        "true_neg 0.815108362046 false_neg 0.0107950469784\n",
        "recall: 0.800217627856 precision: 0.248362039851\n"
       ]
      }
     ],
     "prompt_number": 64
    },
    {
     "cell_type": "code",
     "collapsed": false,
     "input": [
      "mod.predict(df)"
     ],
     "language": "python",
     "metadata": {},
     "outputs": [
      {
       "output_type": "stream",
       "stream": "stdout",
       "text": [
        "124\n",
        "121\n",
        "0\n",
        "3\n",
        "121"
       ]
      },
      {
       "output_type": "stream",
       "stream": "stdout",
       "text": [
        "\n",
        "121\n",
        "pct_positive"
       ]
      },
      {
       "output_type": "stream",
       "stream": "stdout",
       "text": [
        " 0.0527716814159\n",
        "true_pos: 0.0499 false_pos: 0.156\n",
        "true_neg 0.791228318584 false_neg 0.00291681415929\n",
        "recall: 0.944727663 precision: 0.242184544485\n"
       ]
      }
     ],
     "prompt_number": 65
    },
    {
     "cell_type": "code",
     "collapsed": false,
     "input": [
      "mod.predict(ag)"
     ],
     "language": "python",
     "metadata": {},
     "outputs": [
      {
       "output_type": "stream",
       "stream": "stdout",
       "text": [
        "100\n",
        "121\n",
        "23\n",
        "2\n",
        "98\n",
        "121\n",
        "pct_positive"
       ]
      },
      {
       "output_type": "stream",
       "stream": "stdout",
       "text": [
        " 0.0448739402053\n",
        "true_pos: 0.0351 false_pos: 0.1412\n",
        "true_neg 0.813950245426 false_neg 0.00981704596162\n",
        "recall: 0.781230577999 precision: 0.198923880361\n"
       ]
      }
     ],
     "prompt_number": 70
    },
    {
     "cell_type": "code",
     "collapsed": false,
     "input": [
      "colombia = df[df.country=='CO']"
     ],
     "language": "python",
     "metadata": {},
     "outputs": [],
     "prompt_number": 71
    },
    {
     "cell_type": "code",
     "collapsed": false,
     "input": [
      "colombia.info()"
     ],
     "language": "python",
     "metadata": {},
     "outputs": [
      {
       "output_type": "stream",
       "stream": "stdout",
       "text": [
        "<class 'pandas.core.frame.DataFrame'>\n",
        "Float64Index: 4120 entries, 647522.0 to 795688.0\n",
        "Data columns (total 17 columns):\n",
        "activity                    4120 non-null object\n",
        "bonus_credit_eligibility    4120 non-null bool\n",
        "country                     4120 non-null object\n",
        "currency_loss               4120 non-null bool\n",
        "dollars                     4120 non-null bool\n",
        "expired                     4120 non-null bool\n",
        "gender                      4120 non-null bool\n",
        "group_size                  4120 non-null int64\n",
        "irregular_payments          4120 non-null bool\n",
        "loan_amount                 4120 non-null int64\n",
        "pay_at_end                  4120 non-null bool\n",
        "posted_date                 4120 non-null datetime64[ns]\n",
        "repayment_term              4120 non-null int64\n",
        "sector                      4120 non-null object\n",
        "tags                        4120 non-null object\n",
        "themes                      1725 non-null object\n",
        "use                         4120 non-null object\n",
        "dtypes: bool(7), datetime64[ns](1), int64(3), object(6)"
       ]
      }
     ],
     "prompt_number": 72
    },
    {
     "cell_type": "code",
     "collapsed": false,
     "input": [
      "mod.predict(colombia)"
     ],
     "language": "python",
     "metadata": {},
     "outputs": [
      {
       "output_type": "stream",
       "stream": "stdout",
       "text": [
        "48\n",
        "121\n",
        "73\n",
        "0\n",
        "48\n",
        "121\n",
        "pct_positive"
       ]
      },
      {
       "output_type": "stream",
       "stream": "stdout",
       "text": [
        " 0.168932038835\n",
        "true_pos: 0.1473 false_pos: 0.3252\n",
        "true_neg 0.505825242718 false_neg 0.0216019417476\n",
        "recall: 0.872126436782 precision: 0.311761684643\n"
       ]
      }
     ],
     "prompt_number": 73
    },
    {
     "cell_type": "code",
     "collapsed": false,
     "input": [
      "Philippines = df[df.country=='PH']"
     ],
     "language": "python",
     "metadata": {},
     "outputs": [],
     "prompt_number": 75
    },
    {
     "cell_type": "code",
     "collapsed": false,
     "input": [
      "mod.predict(Philippines)"
     ],
     "language": "python",
     "metadata": {},
     "outputs": [
      {
       "output_type": "stream",
       "stream": "stdout",
       "text": [
        "48\n",
        "121\n",
        "73\n",
        "0\n",
        "48\n",
        "121\n",
        "pct_positive"
       ]
      },
      {
       "output_type": "stream",
       "stream": "stdout",
       "text": [
        " 0.0135459698338\n",
        "true_pos: 0.0077 false_pos: 0.0198\n",
        "true_neg 0.966695487879 false_neg 0.00582828962116\n",
        "recall: 0.569739952719 precision: 0.280885780886\n"
       ]
      }
     ],
     "prompt_number": 76
    },
    {
     "cell_type": "code",
     "collapsed": false,
     "input": [
      "colombia = df[df.country=='CO']"
     ],
     "language": "python",
     "metadata": {},
     "outputs": []
    },
    {
     "cell_type": "code",
     "collapsed": false,
     "input": [
      "Kenya = df[df.country=='KE']"
     ],
     "language": "python",
     "metadata": {},
     "outputs": [],
     "prompt_number": 77
    },
    {
     "cell_type": "code",
     "collapsed": false,
     "input": [
      "mod.predict(Kenya)"
     ],
     "language": "python",
     "metadata": {},
     "outputs": [
      {
       "output_type": "stream",
       "stream": "stdout",
       "text": [
        "48\n",
        "121\n",
        "73\n",
        "0\n",
        "48\n",
        "121\n",
        "pct_positive"
       ]
      },
      {
       "output_type": "stream",
       "stream": "stdout",
       "text": [
        " 0.0266102959463\n",
        "true_pos: 0.019 false_pos: 0.0704\n",
        "true_neg 0.903009201691 false_neg 0.00762662687557\n",
        "recall: 0.713395638629 precision: 0.212430426716\n"
       ]
      }
     ],
     "prompt_number": 78
    },
    {
     "cell_type": "code",
     "collapsed": false,
     "input": [
      "model.run_model()"
     ],
     "language": "python",
     "metadata": {},
     "outputs": [
      {
       "output_type": "stream",
       "stream": "stdout",
       "text": [
        "17\n",
        "124"
       ]
      },
      {
       "output_type": "stream",
       "stream": "stdout",
       "text": [
        "\n",
        "loan_amount: 28.3%"
       ]
      },
      {
       "output_type": "stream",
       "stream": "stdout",
       "text": [
        "\n",
        "repayment_term: 16.1%\n",
        "irregular_payments: 13.3%\n",
        "gender: 6.7%\n",
        "group_size: 2.1%\n",
        "SV: 1.9%\n",
        "PH: 1.7%\n",
        "bonus_credit_eligibility: 1.3%\n",
        "Agriculture: 1.2%\n",
        "Education: 1.2%\n",
        "Retail: 1.2%\n",
        "KH: 1.2%\n",
        "CO: 1.1%\n",
        "Housing: 1.1%\n",
        "dollars: 1.0%\n",
        "pay_at_end: 1.0%\n",
        "theme_none: 0.9%\n",
        "Food: 0.9%\n",
        "theme_Rural Exclusion: 0.8%\n",
        "KE: 0.7%\n",
        "Services: 0.7%\n",
        "theme_Underfunded Areas: 0.6%\n",
        "Clothing: 0.6%\n",
        "UG: 0.6%\n",
        "theme_Conflict Zones: 0.5%\n",
        "theme_Water and Sanitation: 0.5%\n",
        "NI: 0.5%\n",
        "Arts: 0.5%\n",
        "theme_Youth: 0.4%\n",
        "Personal Use: 0.4%\n",
        "TJ: 0.4%\n",
        "theme_Vulnerable Groups: 0.4%\n",
        "PE: 0.4%\n",
        "Manufacturing: 0.4%\n",
        "ID: 0.4%\n",
        "theme_Higher Education: 0.4%\n",
        "PK: 0.3%\n",
        "theme_Start-Up: 0.3%\n",
        "JO: 0.3%\n",
        "PS: 0.3%\n",
        "Transportation: 0.3%\n",
        "HN: 0.3%\n",
        "theme_Green: 0.3%\n",
        "Construction: 0.2%\n",
        "EC: 0.2%\n",
        "PY: 0.2%\n",
        "BO: 0.2%\n",
        "theme_Innovative Loans: 0.2%\n",
        "VN: 0.2%\n",
        "GT: 0.2%\n",
        "Health: 0.2%\n",
        "theme_Mobile Technology: 0.2%\n",
        "SN: 0.2%\n",
        "theme_Islamic Finance: 0.2%\n",
        "KG: 0.2%\n",
        "theme_Arab Youth: 0.2%\n",
        "ML: 0.2%\n",
        "RW: 0.2%\n",
        "AM: 0.2%\n",
        "TZ: 0.2%\n",
        "BJ: 0.1%\n",
        "IQ: 0.1%\n",
        "WS: 0.1%\n",
        "UA: 0.1%\n",
        "NG: 0.1%\n",
        "LB: 0.1%\n",
        "MN: 0.1%\n",
        "YE: 0.1%\n",
        "AZ: 0.1%\n",
        "US: 0.1%\n",
        "theme_Disaster recovery: 0.1%\n",
        "SL: 0.1%\n",
        "IN: 0.1%\n",
        "CR: 0.1%\n",
        "theme_Job Creation: 0.1%\n",
        "MX: 0.1%\n",
        "theme_Growing Businesses: 0.1%\n",
        "GE: 0.1%\n",
        "TL: 0.1%\n",
        "AL: 0.1%\n",
        "MZ: 0.1%\n",
        "XK: 0.1%\n",
        "CM: 0.1%\n",
        "HT: 0.1%\n",
        "ZW: 0.1%\n",
        "TG: 0.1%\n",
        "currency_loss: 0.1%\n",
        "GH: 0.1%\n",
        "BI: 0.0%\n",
        "Wholesale: 0.0%\n",
        "BR: 0.0%\n",
        "theme_Fair Trade: 0.0%\n",
        "Entertainment: 0.0%\n",
        "theme_Flexible Credit Study: 0.0%\n",
        "LR: 0.0%\n",
        "CD: 0.0%\n",
        "theme_SME: 0.0%\n",
        "DO: 0.0%\n",
        "LA: 0.0%\n",
        "MD: 0.0%\n",
        "SR: 0.0%\n",
        "MW: 0.0%\n",
        "BF: 0.0%\n",
        "ZM: 0.0%\n",
        "BZ: 0.0%\n",
        "CG: 0.0%\n",
        "IL: 0.0%\n",
        "TH: 0.0%\n",
        "theme_Kiva City LA: 0.0%\n",
        "TR: 0.0%\n",
        "NP: 0.0%\n",
        "SO: 0.0%\n",
        "ZA: 0.0%\n",
        "SB: 0.0%\n",
        "QS: 0.0%\n",
        "PA: 0.0%\n",
        "theme_Kiva City Detroit: 0.0%\n",
        "VU: 0.0%\n",
        "MM: 0.0%\n",
        "CN: 0.0%\n",
        "CL: 0.0%\n",
        "VC: 0.0%\n",
        "theme_Health: 0.0%\n",
        "MR: 0.0%\n"
       ]
      }
     ],
     "prompt_number": 88
    },
    {
     "cell_type": "code",
     "collapsed": false,
     "input": [
      "mod.transform_fit(hf)"
     ],
     "language": "python",
     "metadata": {},
     "outputs": [
      {
       "output_type": "stream",
       "stream": "stdout",
       "text": [
        "17\n"
       ]
      },
      {
       "output_type": "stream",
       "stream": "stderr",
       "text": [
        "/home/matt/anaconda/lib/python2.7/site-packages/sklearn/utils/__init__.py:93: DeprecationWarning: Function balance_weights is deprecated; balance_weights is an internal function and will be removed in 0.16\n",
        "  warnings.warn(msg, category=DeprecationWarning)\n"
       ]
      },
      {
       "ename": "NameError",
       "evalue": "global name 'sample_weight' is not defined",
       "output_type": "pyerr",
       "traceback": [
        "\u001b[1;31m---------------------------------------------------------------------------\u001b[0m\n\u001b[1;31mNameError\u001b[0m                                 Traceback (most recent call last)",
        "\u001b[1;32m<ipython-input-103-fb13e304f60d>\u001b[0m in \u001b[0;36m<module>\u001b[1;34m()\u001b[0m\n\u001b[1;32m----> 1\u001b[1;33m \u001b[0mmod\u001b[0m\u001b[1;33m.\u001b[0m\u001b[0mtransform_fit\u001b[0m\u001b[1;33m(\u001b[0m\u001b[0mhf\u001b[0m\u001b[1;33m)\u001b[0m\u001b[1;33m\u001b[0m\u001b[0m\n\u001b[0m",
        "\u001b[1;32m/home/matt/gdrive/final_project/Fundraising-Success/model.py\u001b[0m in \u001b[0;36mtransform_fit\u001b[1;34m(self, df, mod)\u001b[0m\n\u001b[0;32m     66\u001b[0m                 \u001b[0mself\u001b[0m\u001b[1;33m.\u001b[0m\u001b[0mcolumns\u001b[0m \u001b[1;33m=\u001b[0m \u001b[0mdf\u001b[0m\u001b[1;33m.\u001b[0m\u001b[0mcolumns\u001b[0m\u001b[1;33m\u001b[0m\u001b[0m\n\u001b[0;32m     67\u001b[0m                 \u001b[1;32mif\u001b[0m \u001b[0mmod\u001b[0m \u001b[1;33m==\u001b[0m \u001b[1;34m'weighted'\u001b[0m\u001b[1;33m:\u001b[0m\u001b[1;33m\u001b[0m\u001b[0m\n\u001b[1;32m---> 68\u001b[1;33m                         \u001b[0mself\u001b[0m\u001b[1;33m.\u001b[0m\u001b[0mfit_weighted\u001b[0m\u001b[1;33m(\u001b[0m\u001b[0mX\u001b[0m\u001b[1;33m,\u001b[0m\u001b[0my\u001b[0m\u001b[1;33m)\u001b[0m\u001b[1;33m\u001b[0m\u001b[0m\n\u001b[0m\u001b[0;32m     69\u001b[0m                 \u001b[1;32melse\u001b[0m\u001b[1;33m:\u001b[0m\u001b[1;33m\u001b[0m\u001b[0m\n\u001b[0;32m     70\u001b[0m                         \u001b[0mself\u001b[0m\u001b[1;33m.\u001b[0m\u001b[0mfit_oversample\u001b[0m\u001b[1;33m(\u001b[0m\u001b[0mX\u001b[0m\u001b[1;33m,\u001b[0m\u001b[0my\u001b[0m\u001b[1;33m)\u001b[0m\u001b[1;33m\u001b[0m\u001b[0m\n",
        "\u001b[1;32m/home/matt/gdrive/final_project/Fundraising-Success/model.py\u001b[0m in \u001b[0;36mfit_weighted\u001b[1;34m(self, X, y)\u001b[0m\n\u001b[0;32m     56\u001b[0m                 \u001b[0mself\u001b[0m\u001b[1;33m.\u001b[0m\u001b[0mmodel\u001b[0m \u001b[1;33m=\u001b[0m \u001b[0mRandomForestClassifier\u001b[0m\u001b[1;33m(\u001b[0m\u001b[1;33m)\u001b[0m\u001b[1;33m\u001b[0m\u001b[0m\n\u001b[0;32m     57\u001b[0m                 \u001b[0mclf_fit\u001b[0m \u001b[1;33m=\u001b[0m \u001b[0mself\u001b[0m\u001b[1;33m.\u001b[0m\u001b[0mmodel\u001b[0m\u001b[1;33m.\u001b[0m\u001b[0mfit\u001b[0m\u001b[1;33m(\u001b[0m\u001b[0mX\u001b[0m\u001b[1;33m,\u001b[0m \u001b[0my\u001b[0m\u001b[1;33m,\u001b[0m \u001b[0msample_weight\u001b[0m \u001b[1;33m=\u001b[0m \u001b[0mbalance_weights\u001b[0m\u001b[1;33m(\u001b[0m\u001b[0my\u001b[0m\u001b[1;33m)\u001b[0m\u001b[1;33m)\u001b[0m\u001b[1;33m\u001b[0m\u001b[0m\n\u001b[1;32m---> 58\u001b[1;33m                 \u001b[1;32mprint\u001b[0m \u001b[0msample_weight\u001b[0m\u001b[1;33m\u001b[0m\u001b[0m\n\u001b[0m\u001b[0;32m     59\u001b[0m \u001b[1;33m\u001b[0m\u001b[0m\n\u001b[0;32m     60\u001b[0m         \u001b[1;32mdef\u001b[0m \u001b[0mtransform_fit\u001b[0m\u001b[1;33m(\u001b[0m\u001b[0mself\u001b[0m\u001b[1;33m,\u001b[0m \u001b[0mdf\u001b[0m\u001b[1;33m,\u001b[0m \u001b[0mmod\u001b[0m \u001b[1;33m=\u001b[0m \u001b[1;34m'weighted'\u001b[0m\u001b[1;33m)\u001b[0m\u001b[1;33m:\u001b[0m\u001b[1;33m\u001b[0m\u001b[0m\n",
        "\u001b[1;31mNameError\u001b[0m: global name 'sample_weight' is not defined"
       ]
      }
     ],
     "prompt_number": 103
    },
    {
     "cell_type": "code",
     "collapsed": false,
     "input": [
      "mod.predict(df)"
     ],
     "language": "python",
     "metadata": {},
     "outputs": [
      {
       "output_type": "stream",
       "stream": "stdout",
       "text": [
        "124\n",
        "121\n",
        "0\n",
        "3\n",
        "121"
       ]
      },
      {
       "output_type": "stream",
       "stream": "stdout",
       "text": [
        "\n",
        "121\n",
        "pct_positive"
       ]
      },
      {
       "output_type": "stream",
       "stream": "stdout",
       "text": [
        " 0.0527716814159\n",
        "true_pos: 0.0411 false_pos: 0.0464\n",
        "true_neg 0.9008 false_neg 0.0117\n",
        "recall: 0.778 precision: 0.4692\n"
       ]
      }
     ],
     "prompt_number": 98
    },
    {
     "cell_type": "code",
     "collapsed": false,
     "input": [
      "mod.predict(tf)"
     ],
     "language": "python",
     "metadata": {},
     "outputs": [
      {
       "output_type": "stream",
       "stream": "stdout",
       "text": [
        "111\n",
        "121\n",
        "12\n",
        "2\n",
        "109\n",
        "121\n",
        "pct_positive"
       ]
      },
      {
       "output_type": "stream",
       "stream": "stdout",
       "text": [
        " 0.140450114334\n",
        "true_pos: 0.0141 false_pos: 0.0078\n",
        "true_neg 0.8517 false_neg 0.1264\n",
        "recall: 0.1003 precision: 0.6429\n"
       ]
      }
     ],
     "prompt_number": 99
    },
    {
     "cell_type": "code",
     "collapsed": false,
     "input": [
      "mod.predict(zf)"
     ],
     "language": "python",
     "metadata": {},
     "outputs": [
      {
       "output_type": "stream",
       "stream": "stdout",
       "text": [
        "113\n",
        "121\n",
        "9\n",
        "1\n",
        "112\n",
        "121\n",
        "pct_positive"
       ]
      },
      {
       "output_type": "stream",
       "stream": "stdout",
       "text": [
        " 0.0152527756818\n",
        "true_pos: 0.0027 false_pos: 0.0229\n",
        "true_neg 0.9618 false_neg 0.0125\n",
        "recall: 0.1784 precision: 0.1061\n"
       ]
      }
     ],
     "prompt_number": 100
    },
    {
     "cell_type": "code",
     "collapsed": false,
     "input": [
      "from sklearn.preprocessing import balance_weights\n",
      "\n"
     ],
     "language": "python",
     "metadata": {},
     "outputs": [],
     "prompt_number": 104
    },
    {
     "cell_type": "code",
     "collapsed": false,
     "input": [
      "y = df['expired'].values"
     ],
     "language": "python",
     "metadata": {},
     "outputs": [],
     "prompt_number": 106
    },
    {
     "cell_type": "code",
     "collapsed": false,
     "input": [
      "y"
     ],
     "language": "python",
     "metadata": {},
     "outputs": [
      {
       "metadata": {},
       "output_type": "pyout",
       "prompt_number": 107,
       "text": [
        "array([False, False, False, ..., False, False, False], dtype=bool)"
       ]
      }
     ],
     "prompt_number": 107
    },
    {
     "cell_type": "code",
     "collapsed": false,
     "input": [
      "aa = balance_weights(y)\n"
     ],
     "language": "python",
     "metadata": {},
     "outputs": [
      {
       "output_type": "stream",
       "stream": "stderr",
       "text": [
        "/home/matt/anaconda/lib/python2.7/site-packages/sklearn/utils/__init__.py:93: DeprecationWarning: Function balance_weights is deprecated; balance_weights is an internal function and will be removed in 0.16\n",
        "  warnings.warn(msg, category=DeprecationWarning)\n"
       ]
      }
     ],
     "prompt_number": 109
    },
    {
     "cell_type": "code",
     "collapsed": false,
     "input": [
      "aa[10:40]"
     ],
     "language": "python",
     "metadata": {},
     "outputs": [
      {
       "metadata": {},
       "output_type": "pyout",
       "prompt_number": 114,
       "text": [
        "array([ 0.05571168,  0.05571168,  0.05571168,  0.05571168,  0.05571168,\n",
        "        0.05571168,  0.05571168,  0.05571168,  0.05571168,  1.        ,\n",
        "        0.05571168,  0.05571168,  0.05571168,  1.        ,  0.05571168,\n",
        "        0.05571168,  1.        ,  0.05571168,  0.05571168,  0.05571168,\n",
        "        1.        ,  0.05571168,  0.05571168,  0.05571168,  0.05571168,\n",
        "        0.05571168,  0.05571168,  0.05571168,  0.05571168,  0.05571168])"
       ]
      }
     ],
     "prompt_number": 114
    },
    {
     "cell_type": "code",
     "collapsed": false,
     "input": [
      "mod.feat_imp()"
     ],
     "language": "python",
     "metadata": {},
     "outputs": [
      {
       "output_type": "stream",
       "stream": "stdout",
       "text": [
        "loan_amount: 28.6%\n",
        "repayment_term: 17.0%\n",
        "irregular_payments: 11.9%\n",
        "gender: 7.7%\n",
        "group_size: 2.2%\n",
        "SV: 1.5%\n",
        "Agriculture: 1.4%\n",
        "bonus_credit_eligibility: 1.3%\n",
        "Retail: 1.2%\n",
        "theme_none: 1.2%\n",
        "Housing: 1.2%\n",
        "KH: 1.1%\n",
        "Education: 1.0%\n",
        "KE: 1.0%\n",
        "Food: 0.9%\n",
        "pay_at_end: 0.9%\n",
        "dollars: 0.9%\n",
        "CO: 0.8%\n",
        "PH: 0.7%\n",
        "Services: 0.7%\n",
        "Clothing: 0.7%\n",
        "theme_Rural Exclusion: 0.6%\n",
        "UG: 0.6%\n",
        "theme_Underfunded Areas: 0.6%\n",
        "theme_Mobile Technology: 0.5%\n",
        "theme_Vulnerable Groups: 0.4%\n",
        "Personal Use: 0.4%\n",
        "NI: 0.4%\n",
        "theme_Water and Sanitation: 0.4%\n",
        "theme_Conflict Zones: 0.4%\n",
        "theme_Youth: 0.4%\n",
        "PE: 0.4%\n",
        "TJ: 0.4%\n",
        "Manufacturing: 0.4%\n",
        "Transportation: 0.3%\n",
        "PS: 0.3%\n",
        "Health: 0.3%\n",
        "PK: 0.3%\n",
        "theme_Innovative Loans: 0.3%\n",
        "PY: 0.3%\n",
        "theme_Disaster recovery: 0.3%\n",
        "theme_Higher Education: 0.3%\n",
        "NG: 0.3%\n",
        "Arts: 0.3%\n",
        "Construction: 0.3%\n",
        "theme_Green: 0.3%\n",
        "JO: 0.2%\n",
        "theme_Start-Up: 0.2%\n",
        "TZ: 0.2%\n",
        "BO: 0.2%\n",
        "HN: 0.2%\n",
        "VN: 0.2%\n",
        "ML: 0.2%\n",
        "SN: 0.2%\n",
        "ID: 0.2%\n",
        "theme_Arab Youth: 0.2%\n",
        "ZW: 0.2%\n",
        "EC: 0.2%\n",
        "WS: 0.2%\n",
        "GT: 0.2%\n",
        "LB: 0.2%\n",
        "IN: 0.2%\n",
        "AM: 0.2%\n",
        "IQ: 0.2%\n",
        "SL: 0.2%\n",
        "HT: 0.2%\n",
        "YE: 0.1%\n",
        "MX: 0.1%\n",
        "RW: 0.1%\n",
        "theme_Islamic Finance: 0.1%\n",
        "MN: 0.1%\n",
        "CR: 0.1%\n",
        "BJ: 0.1%\n",
        "theme_Job Creation: 0.1%\n",
        "AZ: 0.1%\n",
        "KG: 0.1%\n",
        "TG: 0.1%\n",
        "GE: 0.1%\n",
        "US: 0.1%\n",
        "GH: 0.1%\n",
        "XK: 0.1%\n",
        "MZ: 0.1%\n",
        "UA: 0.1%\n",
        "LR: 0.1%\n",
        "theme_Growing Businesses: 0.1%\n",
        "TL: 0.1%\n",
        "AL: 0.1%\n",
        "Wholesale: 0.0%\n",
        "CD: 0.0%\n",
        "Entertainment: 0.0%\n",
        "CM: 0.0%\n",
        "theme_Flexible Credit Study: 0.0%\n",
        "theme_SME: 0.0%\n",
        "BZ: 0.0%\n",
        "BI: 0.0%\n",
        "DO: 0.0%\n",
        "SR: 0.0%\n",
        "theme_Fair Trade: 0.0%\n",
        "ZM: 0.0%\n",
        "ZA: 0.0%\n",
        "BF: 0.0%\n",
        "IL: 0.0%\n",
        "MW: 0.0%\n",
        "LA: 0.0%\n",
        "MM: 0.0%\n",
        "theme_Kiva City LA: 0.0%\n",
        "TH: 0.0%\n",
        "NP: 0.0%\n",
        "TR: 0.0%\n",
        "MD: 0.0%\n",
        "CG: 0.0%\n",
        "PA: 0.0%\n",
        "MR: 0.0%\n",
        "BR: 0.0%\n",
        "VU: 0.0%\n",
        "QS: 0.0%\n",
        "theme_Kiva City Detroit: 0.0%\n",
        "theme_Health: 0.0%\n",
        "VC: 0.0%\n",
        "SO: 0.0%\n",
        "currency_loss: 0.0%\n"
       ]
      }
     ],
     "prompt_number": 115
    },
    {
     "cell_type": "code",
     "collapsed": false,
     "input": [
      "reload(model)\n",
      "mod = model.funding_model()"
     ],
     "language": "python",
     "metadata": {},
     "outputs": [],
     "prompt_number": 116
    },
    {
     "cell_type": "code",
     "collapsed": false,
     "input": [
      "mod.transform_fit(hf)"
     ],
     "language": "python",
     "metadata": {},
     "outputs": [
      {
       "output_type": "stream",
       "stream": "stdout",
       "text": [
        "17\n",
        "121"
       ]
      },
      {
       "output_type": "stream",
       "stream": "stdout",
       "text": [
        "\n"
       ]
      },
      {
       "output_type": "stream",
       "stream": "stderr",
       "text": [
        "/home/matt/anaconda/lib/python2.7/site-packages/sklearn/utils/__init__.py:93: DeprecationWarning: Function balance_weights is deprecated; balance_weights is an internal function and will be removed in 0.16\n",
        "  warnings.warn(msg, category=DeprecationWarning)\n"
       ]
      }
     ],
     "prompt_number": 117
    },
    {
     "cell_type": "code",
     "collapsed": false,
     "input": [
      "mod.predict(df)"
     ],
     "language": "python",
     "metadata": {},
     "outputs": [
      {
       "output_type": "stream",
       "stream": "stdout",
       "text": [
        "124\n",
        "121\n",
        "0\n",
        "3\n",
        "121"
       ]
      },
      {
       "output_type": "stream",
       "stream": "stdout",
       "text": [
        "\n",
        "121\n",
        "pct_positive"
       ]
      },
      {
       "output_type": "stream",
       "stream": "stdout",
       "text": [
        " 0.0527716814159\n",
        "true_pos: 0.041 false_pos: 0.0476\n",
        "true_neg 0.8996 false_neg 0.0118\n",
        "recall: 0.7765 precision: 0.4624\n"
       ]
      }
     ],
     "prompt_number": 118
    },
    {
     "cell_type": "code",
     "collapsed": false,
     "input": [
      "mod.predict(tf)"
     ],
     "language": "python",
     "metadata": {},
     "outputs": [
      {
       "output_type": "stream",
       "stream": "stdout",
       "text": [
        "111\n",
        "121\n",
        "12\n",
        "2\n",
        "109\n",
        "121\n",
        "pct_positive"
       ]
      },
      {
       "output_type": "stream",
       "stream": "stdout",
       "text": [
        " 0.140450114334\n",
        "true_pos: 0.013 false_pos: 0.0075\n",
        "true_neg 0.8521 false_neg 0.1275\n",
        "recall: 0.0925 precision: 0.6353\n"
       ]
      }
     ],
     "prompt_number": 119
    },
    {
     "cell_type": "code",
     "collapsed": false,
     "input": [
      "mod.predict(zf)"
     ],
     "language": "python",
     "metadata": {},
     "outputs": [
      {
       "output_type": "stream",
       "stream": "stdout",
       "text": [
        "113\n",
        "121\n",
        "9\n",
        "1\n",
        "112\n",
        "121\n",
        "pct_positive"
       ]
      },
      {
       "output_type": "stream",
       "stream": "stdout",
       "text": [
        " 0.0152527756818\n",
        "true_pos: 0.0031 false_pos: 0.0243\n",
        "true_neg 0.9604 false_neg 0.0121\n",
        "recall: 0.2049 precision: 0.1138\n"
       ]
      }
     ],
     "prompt_number": 120
    },
    {
     "cell_type": "code",
     "collapsed": false,
     "input": [
      "reload(model)\n",
      "mod = model.funding_model()\n",
      "mod.transform_fit(hf)"
     ],
     "language": "python",
     "metadata": {},
     "outputs": [
      {
       "output_type": "stream",
       "stream": "stdout",
       "text": [
        "17\n",
        "doing weighted"
       ]
      },
      {
       "output_type": "stream",
       "stream": "stdout",
       "text": [
        "\n",
        "121"
       ]
      },
      {
       "output_type": "stream",
       "stream": "stdout",
       "text": [
        "\n"
       ]
      }
     ],
     "prompt_number": 146
    },
    {
     "cell_type": "code",
     "collapsed": false,
     "input": [
      "mod.predict(df)"
     ],
     "language": "python",
     "metadata": {},
     "outputs": [
      {
       "output_type": "stream",
       "stream": "stdout",
       "text": [
        "124\n",
        "121\n",
        "0\n",
        "3\n",
        "121"
       ]
      },
      {
       "output_type": "stream",
       "stream": "stdout",
       "text": [
        "\n",
        "121\n",
        "pct_positive"
       ]
      },
      {
       "output_type": "stream",
       "stream": "stdout",
       "text": [
        " 0.0527716814159\n",
        "true_pos: 0.0515 false_pos: 0.2021\n",
        "true_neg 0.7452 false_neg 0.0013\n",
        "recall: 0.9754 precision: 0.203\n"
       ]
      }
     ],
     "prompt_number": 147
    },
    {
     "cell_type": "code",
     "collapsed": false,
     "input": [
      "mod.predict(tf)"
     ],
     "language": "python",
     "metadata": {},
     "outputs": [
      {
       "output_type": "stream",
       "stream": "stdout",
       "text": [
        "111\n",
        "121\n",
        "12\n",
        "2\n",
        "109\n",
        "121\n",
        "pct_positive"
       ]
      },
      {
       "output_type": "stream",
       "stream": "stdout",
       "text": [
        " 0.140450114334\n",
        "true_pos: 0.0726 false_pos: 0.1012\n",
        "true_neg 0.7583 false_neg 0.0679\n",
        "recall: 0.5167 precision: 0.4176\n"
       ]
      }
     ],
     "prompt_number": 148
    },
    {
     "cell_type": "code",
     "collapsed": false,
     "input": [
      "mod.predict(zf)"
     ],
     "language": "python",
     "metadata": {},
     "outputs": [
      {
       "output_type": "stream",
       "stream": "stdout",
       "text": [
        "113\n",
        "121\n",
        "9\n",
        "1\n",
        "112\n",
        "121\n",
        "pct_positive"
       ]
      },
      {
       "output_type": "stream",
       "stream": "stdout",
       "text": [
        " 0.0152527756818\n",
        "true_pos: 0.0135 false_pos: 0.1858\n",
        "true_neg 0.7989 false_neg 0.0017\n",
        "recall: 0.8869 precision: 0.0679\n"
       ]
      }
     ],
     "prompt_number": 149
    },
    {
     "cell_type": "code",
     "collapsed": false,
     "input": [
      "y"
     ],
     "language": "python",
     "metadata": {},
     "outputs": [
      {
       "metadata": {},
       "output_type": "pyout",
       "prompt_number": 142,
       "text": [
        "array([False, False, False, ..., False, False, False], dtype=bool)"
       ]
      }
     ],
     "prompt_number": 142
    },
    {
     "cell_type": "code",
     "collapsed": false,
     "input": [
      "(y*100+1).mean()"
     ],
     "language": "python",
     "metadata": {},
     "outputs": [
      {
       "metadata": {},
       "output_type": "pyout",
       "prompt_number": 145,
       "text": [
        "6.2771681415929201"
       ]
      }
     ],
     "prompt_number": 145
    },
    {
     "cell_type": "code",
     "collapsed": false,
     "input": [
      "df2, df3 = train_test_split(df)"
     ],
     "language": "python",
     "metadata": {},
     "outputs": [],
     "prompt_number": 151
    },
    {
     "cell_type": "code",
     "collapsed": false,
     "input": [
      "df2"
     ],
     "language": "python",
     "metadata": {},
     "outputs": [
      {
       "metadata": {},
       "output_type": "pyout",
       "prompt_number": 152,
       "text": [
        "array([[u'Poultry', True, u'SV', ..., [], [u'Rural Exclusion'],\n",
        "        u'to buy concentrated feed and vitamins and carry out improvements to the place where she keeps the chickens.'],\n",
        "       [u'Fishing', True, u'PH', ..., [{u'name': u'user_favorite'}], None,\n",
        "        u'to buy additional fishing nets.'],\n",
        "       [u'Food Market', False, u'SL', ..., [{u'name': u'user_favorite'}],\n",
        "        [u'Conflict Zones'],\n",
        "        u'to purchase palm oil and gari to expand her business'],\n",
        "       ..., \n",
        "       [u'Farming', True, u'PH', ...,\n",
        "        [{u'name': u'volunteer_pick'}, {u'name': u'volunteer_like'}],\n",
        "        [u'Disaster recovery'],\n",
        "        u'to repair his barn, buy seeds and start farm cultivation'],\n",
        "       [u'Agriculture', True, u'SV', ...,\n",
        "        [{u'name': u'user_favorite'}, {u'name': u'#Animals'}, {u'name': u'#Schooling'}],\n",
        "        [u'Rural Exclusion'],\n",
        "        u'buy more livestock, as well as manure and fertilizer for his fields'],\n",
        "       [u'Farming', True, u'PH', ...,\n",
        "        [{u'name': u'#WomanOwnedBiz'}, {u'name': u'#Elderly'}], None,\n",
        "        u'to buy fertilizer and farm supplies']], dtype=object)"
       ]
      }
     ],
     "prompt_number": 152
    },
    {
     "cell_type": "code",
     "collapsed": false,
     "input": [
      "reload(model)\n",
      "mod = model.funding_model()\n",
      "mod.transform_fit(hf)"
     ],
     "language": "python",
     "metadata": {},
     "outputs": [
      {
       "output_type": "stream",
       "stream": "stdout",
       "text": [
        "17\n",
        "doing weighted"
       ]
      },
      {
       "output_type": "stream",
       "stream": "stdout",
       "text": [
        "\n",
        "121"
       ]
      },
      {
       "output_type": "stream",
       "stream": "stdout",
       "text": [
        "\n"
       ]
      }
     ],
     "prompt_number": 198
    },
    {
     "cell_type": "code",
     "collapsed": false,
     "input": [
      "mod.predict(zf)"
     ],
     "language": "python",
     "metadata": {},
     "outputs": [
      {
       "output_type": "stream",
       "stream": "stdout",
       "text": [
        "113\n",
        "121\n",
        "9\n",
        "1\n",
        "112\n",
        "121\n",
        "pct_positive"
       ]
      },
      {
       "output_type": "stream",
       "stream": "stdout",
       "text": [
        " 0.0152527756818\n",
        "true_pos: 0.0151 false_pos: 0.2601\n",
        "true_neg 0.7247 false_neg 0.0001\n",
        "recall: 0.9912 precision: 0.0549\n"
       ]
      }
     ],
     "prompt_number": 199
    },
    {
     "cell_type": "code",
     "collapsed": false,
     "input": [
      "mod.predict(tf)"
     ],
     "language": "python",
     "metadata": {},
     "outputs": [
      {
       "output_type": "stream",
       "stream": "stdout",
       "text": [
        "111\n",
        "121\n",
        "12\n",
        "2\n",
        "109\n",
        "121\n",
        "pct_positive"
       ]
      },
      {
       "output_type": "stream",
       "stream": "stdout",
       "text": [
        " 0.140450114334\n",
        "true_pos: 0.104 false_pos: 0.1782\n",
        "true_neg 0.6813 false_neg 0.0365\n",
        "recall: 0.7404 precision: 0.3684\n"
       ]
      }
     ],
     "prompt_number": 200
    },
    {
     "cell_type": "code",
     "collapsed": false,
     "input": [
      "reload(model)\n",
      "mod = model.funding_model()\n",
      "mod.transform_fit(zf)\n",
      "mod.predict(hf)"
     ],
     "language": "python",
     "metadata": {},
     "outputs": [
      {
       "output_type": "stream",
       "stream": "stdout",
       "text": [
        "17\n",
        "doing weighted"
       ]
      },
      {
       "output_type": "stream",
       "stream": "stdout",
       "text": [
        "\n",
        "113"
       ]
      },
      {
       "output_type": "stream",
       "stream": "stdout",
       "text": [
        "\n",
        "121"
       ]
      },
      {
       "output_type": "stream",
       "stream": "stdout",
       "text": [
        "\n",
        "113\n",
        "1\n",
        "9\n",
        "112\n",
        "113\n",
        "pct_positive"
       ]
      },
      {
       "output_type": "stream",
       "stream": "stdout",
       "text": [
        " 0.0596975989482\n",
        "true_pos: 0.0266 false_pos: 0.0659\n",
        "true_neg 0.8744 false_neg 0.0331\n",
        "recall: 0.4454 precision: 0.2875\n"
       ]
      }
     ],
     "prompt_number": 201
    },
    {
     "cell_type": "code",
     "collapsed": false,
     "input": [
      "type(df2)"
     ],
     "language": "python",
     "metadata": {},
     "outputs": [
      {
       "metadata": {},
       "output_type": "pyout",
       "prompt_number": 158,
       "text": [
        "numpy.ndarray"
       ]
      }
     ],
     "prompt_number": 158
    },
    {
     "cell_type": "code",
     "collapsed": false,
     "input": [
      "df2 = pd.DataFrame(df2)"
     ],
     "language": "python",
     "metadata": {},
     "outputs": [],
     "prompt_number": 160
    },
    {
     "cell_type": "code",
     "collapsed": false,
     "input": [
      "model.run_model()"
     ],
     "language": "python",
     "metadata": {},
     "outputs": [
      {
       "output_type": "stream",
       "stream": "stdout",
       "text": [
        "17\n",
        "doing weighted"
       ]
      },
      {
       "output_type": "stream",
       "stream": "stdout",
       "text": [
        "\n",
        "124"
       ]
      },
      {
       "output_type": "stream",
       "stream": "stdout",
       "text": [
        "\n",
        "loan_amount: 30.0%"
       ]
      },
      {
       "output_type": "stream",
       "stream": "stdout",
       "text": [
        "\n",
        "repayment_term: 18.5%\n",
        "irregular_payments: 16.1%\n",
        "gender: 6.4%\n",
        "PH: 1.8%\n",
        "KH: 1.4%\n",
        "SV: 1.4%\n",
        "bonus_credit_eligibility: 1.3%\n",
        "group_size: 1.2%\n",
        "pay_at_end: 1.1%\n",
        "Education: 1.1%\n",
        "Agriculture: 1.0%\n",
        "dollars: 0.8%\n",
        "theme_Rural Exclusion: 0.8%\n",
        "Housing: 0.8%\n",
        "theme_none: 0.7%\n",
        "theme_Water and Sanitation: 0.7%\n",
        "ZW: 0.7%\n",
        "theme_Mobile Technology: 0.7%\n",
        "Arts: 0.7%\n",
        "LR: 0.7%\n",
        "CO: 0.7%\n",
        "Retail: 0.6%\n",
        "UG: 0.6%\n",
        "Manufacturing: 0.6%\n",
        "theme_Underfunded Areas: 0.5%\n",
        "theme_Higher Education: 0.5%\n",
        "theme_Innovative Loans: 0.5%\n",
        "KE: 0.5%\n",
        "theme_Conflict Zones: 0.5%\n",
        "Food: 0.3%\n",
        "Health: 0.3%\n",
        "PS: 0.3%\n",
        "NI: 0.2%\n",
        "VN: 0.2%\n",
        "ID: 0.2%\n",
        "PE: 0.2%\n",
        "PK: 0.2%\n",
        "Clothing: 0.2%\n",
        "Services: 0.2%\n",
        "theme_Youth: 0.2%\n",
        "theme_Green: 0.2%\n",
        "IQ: 0.2%\n",
        "IN: 0.2%\n",
        "PY: 0.2%\n",
        "EC: 0.2%\n",
        "theme_Disaster recovery: 0.2%\n",
        "Personal Use: 0.2%\n",
        "theme_Vulnerable Groups: 0.2%\n",
        "MX: 0.2%\n",
        "SL: 0.1%\n",
        "TJ: 0.1%\n",
        "CM: 0.1%\n",
        "AM: 0.1%\n",
        "HT: 0.1%\n",
        "ML: 0.1%\n",
        "NG: 0.1%\n",
        "CR: 0.1%\n",
        "RW: 0.1%\n",
        "JO: 0.1%\n",
        "theme_Islamic Finance: 0.1%\n",
        "TZ: 0.1%\n",
        "AZ: 0.1%\n",
        "SN: 0.1%\n",
        "Construction: 0.1%\n",
        "Transportation: 0.1%\n",
        "LB: 0.1%\n",
        "KG: 0.1%\n",
        "theme_Start-Up: 0.1%\n",
        "TL: 0.1%\n",
        "HN: 0.1%\n",
        "WS: 0.1%\n",
        "US: 0.1%\n",
        "theme_Arab Youth: 0.1%\n",
        "theme_Job Creation: 0.1%\n",
        "BJ: 0.1%\n",
        "YE: 0.0%\n",
        "GE: 0.0%\n",
        "GT: 0.0%\n",
        "GH: 0.0%\n",
        "BO: 0.0%\n",
        "BF: 0.0%\n",
        "SR: 0.0%\n",
        "UA: 0.0%\n",
        "MN: 0.0%\n",
        "theme_Growing Businesses: 0.0%\n",
        "TG: 0.0%\n",
        "theme_Fair Trade: 0.0%\n",
        "XK: 0.0%\n",
        "BZ: 0.0%\n",
        "AL: 0.0%\n",
        "CG: 0.0%\n",
        "LA: 0.0%\n",
        "BI: 0.0%\n",
        "MZ: 0.0%\n",
        "CD: 0.0%\n",
        "ZA: 0.0%\n",
        "DO: 0.0%\n",
        "MM: 0.0%\n",
        "IL: 0.0%\n",
        "TR: 0.0%\n",
        "currency_loss: 0.0%\n",
        "theme_Flexible Credit Study: 0.0%\n",
        "TH: 0.0%\n",
        "CN: 0.0%\n",
        "CL: 0.0%\n",
        "BR: 0.0%\n",
        "SO: 0.0%\n",
        "VU: 0.0%\n",
        "SB: 0.0%\n",
        "VC: 0.0%\n",
        "QS: 0.0%\n",
        "MD: 0.0%\n",
        "PA: 0.0%\n",
        "Wholesale: 0.0%\n",
        "NP: 0.0%\n",
        "ZM: 0.0%\n",
        "theme_SME: 0.0%\n",
        "MW: 0.0%\n",
        "MR: 0.0%\n",
        "Entertainment: 0.0%\n",
        "theme_Kiva City Detroit: 0.0%\n",
        "theme_Kiva City LA: 0.0%\n",
        "theme_Health: 0.0%\n"
       ]
      }
     ],
     "prompt_number": 2
    },
    {
     "cell_type": "code",
     "collapsed": false,
     "input": [
      "df"
     ],
     "language": "python",
     "metadata": {},
     "outputs": [
      {
       "ename": "NameError",
       "evalue": "name 'df' is not defined",
       "output_type": "pyerr",
       "traceback": [
        "\u001b[1;31m---------------------------------------------------------------------------\u001b[0m\n\u001b[1;31mNameError\u001b[0m                                 Traceback (most recent call last)",
        "\u001b[1;32m<ipython-input-3-7ed0097d7e9e>\u001b[0m in \u001b[0;36m<module>\u001b[1;34m()\u001b[0m\n\u001b[1;32m----> 1\u001b[1;33m \u001b[0mdf\u001b[0m\u001b[1;33m\u001b[0m\u001b[0m\n\u001b[0m",
        "\u001b[1;31mNameError\u001b[0m: name 'df' is not defined"
       ]
      }
     ],
     "prompt_number": 3
    },
    {
     "cell_type": "code",
     "collapsed": false,
     "input": [
      "jan = df[(df.posted_date > '2014-1-01') & (df.posted_date < '2014-2-01')]\n",
      "feb = df[(df.posted_date > '2014-2-01') & (df.posted_date < '2014-3-01')]\n",
      "march = df[(df.posted_date > '2014-3-01') & (df.posted_date < '2014-4-01')]\n",
      "april = df[(df.posted_date > '2014-4-01') & (df.posted_date < '2014-5-01')]\n",
      "may = df[(df.posted_date > '2014-5-01') & (df.posted_date < '2014-6-01')]\n",
      "june = df[(df.posted_date > '2014-6-01') & (df.posted_date < '2014-7-01')]\n",
      "july = df[(df.posted_date > '2014-7-01') & (df.posted_date < '2014-8-01')]\n",
      "aug = df[(df.posted_date > '2014-8-01') & (df.posted_date < '2014-9-01')]\n",
      "sep = df[(df.posted_date > '2014-9-01') & (df.posted_date < '2014-10-01')]\n",
      "oct = df[(df.posted_date > '2014-10-01') & (df.posted_date < '2014-11-01')]\n",
      "nov = df[(df.posted_date > '2014-11-01') & (df.posted_date < '2014-12-01')]\n",
      "augsep = df[(df.posted_date > '2014-8-01') & (df.posted_date < '2014-10-01')]\n",
      "apsep = df[(df.posted_date > '2014-4-01') & (df.posted_date < '2014-10-01')]\n"
     ],
     "language": "python",
     "metadata": {},
     "outputs": [],
     "prompt_number": 7
    },
    {
     "cell_type": "code",
     "collapsed": false,
     "input": [
      "reload(model)\n",
      "mod = model.funding_model()\n",
      "mod.transform_fit(jan)\n",
      "mod.predict(jan)\n",
      "mod.predict(feb)\n",
      "mod.predict(march)\n",
      "mod.predict(april)\n",
      "mod.predict(may)\n",
      "mod.predict(june)\n",
      "mod.predict(july)\n",
      "mod.predict(aug)\n",
      "mod.predict(sep)"
     ],
     "language": "python",
     "metadata": {},
     "outputs": [
      {
       "output_type": "stream",
       "stream": "stdout",
       "text": [
        "17\n",
        "doing weighted"
       ]
      },
      {
       "output_type": "stream",
       "stream": "stdout",
       "text": [
        "\n",
        "106"
       ]
      },
      {
       "output_type": "stream",
       "stream": "stdout",
       "text": [
        "\n",
        "106"
       ]
      },
      {
       "output_type": "stream",
       "stream": "stdout",
       "text": [
        "\n",
        "106\n",
        "0\n",
        "0\n",
        "106\n",
        "106\n",
        "pct_positive"
       ]
      },
      {
       "output_type": "stream",
       "stream": "stdout",
       "text": [
        " 0.0318977553431\n",
        "true_pos: 0.0317 false_pos: 0.1433\n",
        "true_neg 0.8248 false_neg 0.0002\n",
        "recall: 0.9933 precision: 0.1811\n",
        "109"
       ]
      },
      {
       "output_type": "stream",
       "stream": "stdout",
       "text": [
        "\n",
        "106\n",
        "2\n",
        "5\n",
        "104\n",
        "106\n",
        "pct_positive"
       ]
      },
      {
       "output_type": "stream",
       "stream": "stdout",
       "text": [
        " 0.0126262626263\n",
        "true_pos: 0.0078 false_pos: 0.1324\n",
        "true_neg 0.8549 false_neg 0.0048\n",
        "recall: 0.6176 precision: 0.0556\n",
        "109"
       ]
      },
      {
       "output_type": "stream",
       "stream": "stdout",
       "text": [
        "\n",
        "106\n",
        "3\n",
        "6\n",
        "103\n",
        "106\n",
        "pct_positive"
       ]
      },
      {
       "output_type": "stream",
       "stream": "stdout",
       "text": [
        " 0.00690713737529\n",
        "true_pos: 0.0052 false_pos: 0.1283\n",
        "true_neg 0.8648 false_neg 0.0017\n",
        "recall: 0.7475 precision: 0.0387\n",
        "112"
       ]
      },
      {
       "output_type": "stream",
       "stream": "stdout",
       "text": [
        "\n",
        "106\n",
        "3\n",
        "9\n",
        "103\n",
        "106\n",
        "pct_positive"
       ]
      },
      {
       "output_type": "stream",
       "stream": "stdout",
       "text": [
        " 0.0408048741382\n",
        "true_pos: 0.0274 false_pos: 0.1146\n",
        "true_neg 0.8446 false_neg 0.0134\n",
        "recall: 0.6719 precision: 0.1931\n",
        "109"
       ]
      },
      {
       "output_type": "stream",
       "stream": "stdout",
       "text": [
        "\n",
        "106\n",
        "5\n",
        "8\n",
        "101\n",
        "106\n",
        "pct_positive"
       ]
      },
      {
       "output_type": "stream",
       "stream": "stdout",
       "text": [
        " 0.047319121447\n",
        "true_pos: 0.0316 false_pos: 0.1104\n",
        "true_neg 0.8423 false_neg 0.0157\n",
        "recall: 0.6672 precision: 0.2224\n",
        "113"
       ]
      },
      {
       "output_type": "stream",
       "stream": "stdout",
       "text": [
        "\n",
        "106\n",
        "3\n",
        "10\n",
        "103\n",
        "106\n",
        "pct_positive"
       ]
      },
      {
       "output_type": "stream",
       "stream": "stdout",
       "text": [
        " 0.0582904222451\n",
        "true_pos: 0.0267 false_pos: 0.1053\n",
        "true_neg 0.8365 false_neg 0.0316\n",
        "recall: 0.4582 precision: 0.2024\n",
        "112"
       ]
      },
      {
       "output_type": "stream",
       "stream": "stdout",
       "text": [
        "\n",
        "106\n",
        "4\n",
        "10\n",
        "102\n",
        "106\n",
        "pct_positive"
       ]
      },
      {
       "output_type": "stream",
       "stream": "stdout",
       "text": [
        " 0.0314858891533\n",
        "true_pos: 0.0195 false_pos: 0.113\n",
        "true_neg 0.8556 false_neg 0.012\n",
        "recall: 0.6199 precision: 0.1473\n",
        "111"
       ]
      },
      {
       "output_type": "stream",
       "stream": "stdout",
       "text": [
        "\n",
        "106\n",
        "4\n",
        "9\n",
        "102\n",
        "106\n",
        "pct_positive"
       ]
      },
      {
       "output_type": "stream",
       "stream": "stdout",
       "text": [
        " 0.0871212121212\n",
        "true_pos: 0.0467 false_pos: 0.1013\n",
        "true_neg 0.8116 false_neg 0.0404\n",
        "recall: 0.5365 precision: 0.3158\n",
        "114"
       ]
      },
      {
       "output_type": "stream",
       "stream": "stdout",
       "text": [
        "\n",
        "106\n",
        "3\n",
        "11\n",
        "103\n",
        "106\n",
        "pct_positive"
       ]
      },
      {
       "output_type": "stream",
       "stream": "stdout",
       "text": [
        " 0.0986537652503\n",
        "true_pos: 0.0467 false_pos: 0.0868\n",
        "true_neg 0.8145 false_neg 0.052\n",
        "recall: 0.4733 precision: 0.3498\n"
       ]
      }
     ],
     "prompt_number": 14
    },
    {
     "cell_type": "code",
     "collapsed": false,
     "input": [
      "reload(model)\n",
      "mod = model.funding_model()\n",
      "mod.transform_fit(april)\n",
      "mod.predict(jan)\n",
      "mod.predict(feb)\n",
      "mod.predict(march)\n",
      "mod.predict(april)\n",
      "mod.predict(may)\n",
      "mod.predict(june)\n",
      "mod.predict(july)\n",
      "mod.predict(aug)\n",
      "mod.predict(sep)"
     ],
     "language": "python",
     "metadata": {},
     "outputs": [
      {
       "output_type": "stream",
       "stream": "stdout",
       "text": [
        "17\n",
        "doing weighted"
       ]
      },
      {
       "output_type": "stream",
       "stream": "stdout",
       "text": [
        "\n",
        "112"
       ]
      },
      {
       "output_type": "stream",
       "stream": "stdout",
       "text": [
        "\n",
        "106"
       ]
      },
      {
       "output_type": "stream",
       "stream": "stdout",
       "text": [
        "\n",
        "112\n",
        "9\n",
        "3\n",
        "103\n",
        "112\n",
        "pct_positive"
       ]
      },
      {
       "output_type": "stream",
       "stream": "stdout",
       "text": [
        " 0.0318977553431\n",
        "true_pos: 0.0317 false_pos: 0.257\n",
        "true_neg 0.7111 false_neg 0.0002\n",
        "recall: 0.9933 precision: 0.1097\n",
        "109"
       ]
      },
      {
       "output_type": "stream",
       "stream": "stdout",
       "text": [
        "\n",
        "112\n",
        "5\n",
        "2\n",
        "107\n",
        "112\n",
        "pct_positive"
       ]
      },
      {
       "output_type": "stream",
       "stream": "stdout",
       "text": [
        " 0.0126262626263\n",
        "true_pos: 0.0081 false_pos: 0.2473\n",
        "true_neg 0.74 false_neg 0.0045\n",
        "recall: 0.6412 precision: 0.0317\n",
        "109"
       ]
      },
      {
       "output_type": "stream",
       "stream": "stdout",
       "text": [
        "\n",
        "112\n",
        "3\n",
        "0\n",
        "109\n",
        "112\n",
        "pct_positive"
       ]
      },
      {
       "output_type": "stream",
       "stream": "stdout",
       "text": [
        " 0.00690713737529\n",
        "true_pos: 0.0056 false_pos: 0.2514\n",
        "true_neg 0.7417 false_neg 0.0013\n",
        "recall: 0.8081 precision: 0.0217\n",
        "112"
       ]
      },
      {
       "output_type": "stream",
       "stream": "stdout",
       "text": [
        "\n",
        "112\n",
        "0\n",
        "0\n",
        "112\n",
        "112\n",
        "pct_positive"
       ]
      },
      {
       "output_type": "stream",
       "stream": "stdout",
       "text": [
        " 0.0408048741382\n",
        "true_pos: 0.0401 false_pos: 0.2289\n",
        "true_neg 0.7303 false_neg 0.0007\n",
        "recall: 0.9823 precision: 0.149\n",
        "109"
       ]
      },
      {
       "output_type": "stream",
       "stream": "stdout",
       "text": [
        "\n",
        "112\n",
        "4\n",
        "1\n",
        "108\n",
        "112\n",
        "pct_positive"
       ]
      },
      {
       "output_type": "stream",
       "stream": "stdout",
       "text": [
        " 0.047319121447\n",
        "true_pos: 0.0409 false_pos: 0.2203\n",
        "true_neg 0.7324 false_neg 0.0065\n",
        "recall: 0.8635 precision: 0.1565\n",
        "113"
       ]
      },
      {
       "output_type": "stream",
       "stream": "stdout",
       "text": [
        "\n",
        "112\n",
        "2\n",
        "3\n",
        "110\n",
        "112\n",
        "pct_positive"
       ]
      },
      {
       "output_type": "stream",
       "stream": "stdout",
       "text": [
        " 0.0582904222451\n",
        "true_pos: 0.0435 false_pos: 0.2058\n",
        "true_neg 0.7359 false_neg 0.0148\n",
        "recall: 0.7456 precision: 0.1744\n",
        "112"
       ]
      },
      {
       "output_type": "stream",
       "stream": "stdout",
       "text": [
        "\n",
        "112\n",
        "3\n",
        "3\n",
        "109\n",
        "112\n",
        "pct_positive"
       ]
      },
      {
       "output_type": "stream",
       "stream": "stdout",
       "text": [
        " 0.0314858891533\n",
        "true_pos: 0.0269 false_pos: 0.2395\n",
        "true_neg 0.729 false_neg 0.0046\n",
        "recall: 0.8531 precision: 0.1008\n",
        "111"
       ]
      },
      {
       "output_type": "stream",
       "stream": "stdout",
       "text": [
        "\n",
        "112\n",
        "5\n",
        "4\n",
        "107\n",
        "112\n",
        "pct_positive"
       ]
      },
      {
       "output_type": "stream",
       "stream": "stdout",
       "text": [
        " 0.0871212121212\n",
        "true_pos: 0.067 false_pos: 0.2384\n",
        "true_neg 0.6745 false_neg 0.0201\n",
        "recall: 0.7695 precision: 0.2195\n",
        "114"
       ]
      },
      {
       "output_type": "stream",
       "stream": "stdout",
       "text": [
        "\n",
        "112\n",
        "4\n",
        "6\n",
        "108\n",
        "112\n",
        "pct_positive"
       ]
      },
      {
       "output_type": "stream",
       "stream": "stdout",
       "text": [
        " 0.0986537652503\n",
        "true_pos: 0.0653 false_pos: 0.1757\n",
        "true_neg 0.7256 false_neg 0.0334\n",
        "recall: 0.6617 precision: 0.2709\n"
       ]
      }
     ],
     "prompt_number": 15
    },
    {
     "cell_type": "code",
     "collapsed": false,
     "input": [
      "reload(model)\n",
      "mod = model.funding_model()\n",
      "mod.transform_fit(aug)\n",
      "mod.predict(jan)\n",
      "mod.predict(feb)\n",
      "mod.predict(march)\n",
      "mod.predict(april)\n",
      "mod.predict(may)\n",
      "mod.predict(june)\n",
      "mod.predict(july)\n",
      "mod.predict(aug)\n",
      "mod.predict(sep)"
     ],
     "language": "python",
     "metadata": {},
     "outputs": [
      {
       "output_type": "stream",
       "stream": "stdout",
       "text": [
        "17\n",
        "doing weighted"
       ]
      },
      {
       "output_type": "stream",
       "stream": "stdout",
       "text": [
        "\n",
        "111"
       ]
      },
      {
       "output_type": "stream",
       "stream": "stdout",
       "text": [
        "\n",
        "106"
       ]
      },
      {
       "output_type": "stream",
       "stream": "stdout",
       "text": [
        "\n",
        "111\n",
        "9\n",
        "4\n",
        "102\n",
        "111\n",
        "pct_positive"
       ]
      },
      {
       "output_type": "stream",
       "stream": "stdout",
       "text": [
        " 0.0318977553431\n",
        "true_pos: 0.0315 false_pos: 0.299\n",
        "true_neg 0.6691 false_neg 0.0004\n",
        "recall: 0.9865 precision: 0.0952\n",
        "109"
       ]
      },
      {
       "output_type": "stream",
       "stream": "stdout",
       "text": [
        "\n",
        "111\n",
        "7\n",
        "5\n",
        "104\n",
        "111\n",
        "pct_positive"
       ]
      },
      {
       "output_type": "stream",
       "stream": "stdout",
       "text": [
        " 0.0126262626263\n",
        "true_pos: 0.0126 false_pos: 0.3206\n",
        "true_neg 0.6667 false_neg 0.0001\n",
        "recall: 0.9941 precision: 0.0377\n",
        "109"
       ]
      },
      {
       "output_type": "stream",
       "stream": "stdout",
       "text": [
        "\n",
        "111\n",
        "5\n",
        "3\n",
        "106\n",
        "111\n",
        "pct_positive"
       ]
      },
      {
       "output_type": "stream",
       "stream": "stdout",
       "text": [
        " 0.00690713737529\n",
        "true_pos: 0.0069 false_pos: 0.3055\n",
        "true_neg 0.6876 false_neg 0.0\n",
        "recall: 1.0 precision: 0.0221\n",
        "112"
       ]
      },
      {
       "output_type": "stream",
       "stream": "stdout",
       "text": [
        "\n",
        "111\n",
        "4\n",
        "5\n",
        "107\n",
        "111\n",
        "pct_positive"
       ]
      },
      {
       "output_type": "stream",
       "stream": "stdout",
       "text": [
        " 0.0408048741382\n",
        "true_pos: 0.0389 false_pos: 0.2967\n",
        "true_neg 0.6625 false_neg 0.0019\n",
        "recall: 0.9528 precision: 0.1159\n",
        "109"
       ]
      },
      {
       "output_type": "stream",
       "stream": "stdout",
       "text": [
        "\n",
        "111\n",
        "6\n",
        "4\n",
        "105\n",
        "111\n",
        "pct_positive"
       ]
      },
      {
       "output_type": "stream",
       "stream": "stdout",
       "text": [
        " 0.047319121447\n",
        "true_pos: 0.0445 false_pos: 0.3058\n",
        "true_neg 0.6469 false_neg 0.0028\n",
        "recall: 0.9403 precision: 0.127\n",
        "113"
       ]
      },
      {
       "output_type": "stream",
       "stream": "stdout",
       "text": [
        "\n",
        "111\n",
        "3\n",
        "5\n",
        "108\n",
        "111\n",
        "pct_positive"
       ]
      },
      {
       "output_type": "stream",
       "stream": "stdout",
       "text": [
        " 0.0582904222451\n",
        "true_pos: 0.0563 false_pos: 0.3238\n",
        "true_neg 0.6179 false_neg 0.002\n",
        "recall: 0.9658 precision: 0.1481\n",
        "112"
       ]
      },
      {
       "output_type": "stream",
       "stream": "stdout",
       "text": [
        "\n",
        "111\n",
        "3\n",
        "4\n",
        "108\n",
        "111\n",
        "pct_positive"
       ]
      },
      {
       "output_type": "stream",
       "stream": "stdout",
       "text": [
        " 0.0314858891533\n",
        "true_pos: 0.0308 false_pos: 0.3034\n",
        "true_neg 0.6651 false_neg 0.0007\n",
        "recall: 0.9784 precision: 0.0922\n",
        "111"
       ]
      },
      {
       "output_type": "stream",
       "stream": "stdout",
       "text": [
        "\n",
        "111\n",
        "0\n",
        "0\n",
        "111\n",
        "111\n",
        "pct_positive"
       ]
      },
      {
       "output_type": "stream",
       "stream": "stdout",
       "text": [
        " 0.0871212121212\n",
        "true_pos: 0.086 false_pos: 0.2924\n",
        "true_neg 0.6205 false_neg 0.0011\n",
        "recall: 0.9869 precision: 0.2272\n",
        "114"
       ]
      },
      {
       "output_type": "stream",
       "stream": "stdout",
       "text": [
        "\n",
        "111\n",
        "1\n",
        "4\n",
        "110\n",
        "111\n",
        "pct_positive"
       ]
      },
      {
       "output_type": "stream",
       "stream": "stdout",
       "text": [
        " 0.0986537652503\n",
        "true_pos: 0.0931 false_pos: 0.2692\n",
        "true_neg 0.6321 false_neg 0.0055\n",
        "recall: 0.9439 precision: 0.257\n"
       ]
      }
     ],
     "prompt_number": 17
    },
    {
     "cell_type": "code",
     "collapsed": false,
     "input": [
      "reload(model)\n",
      "mod = model.funding_model()\n",
      "mod.transform_fit(aug)\n",
      "mod.predict(jan)\n",
      "mod.predict(feb)\n",
      "mod.predict(march)\n",
      "mod.predict(april)\n",
      "mod.predict(may)\n",
      "mod.predict(june)\n",
      "mod.predict(july)\n",
      "mod.predict(aug)\n",
      "mod.predict(sep)\n",
      "mod.predict(oct)\n",
      "mod.predict(nov)"
     ],
     "language": "python",
     "metadata": {},
     "outputs": [
      {
       "ename": "NameError",
       "evalue": "name 'aug' is not defined",
       "output_type": "pyerr",
       "traceback": [
        "\u001b[1;31m---------------------------------------------------------------------------\u001b[0m\n\u001b[1;31mNameError\u001b[0m                                 Traceback (most recent call last)",
        "\u001b[1;32m<ipython-input-5-a544460bae5a>\u001b[0m in \u001b[0;36m<module>\u001b[1;34m()\u001b[0m\n\u001b[0;32m      1\u001b[0m \u001b[0mreload\u001b[0m\u001b[1;33m(\u001b[0m\u001b[0mmodel\u001b[0m\u001b[1;33m)\u001b[0m\u001b[1;33m\u001b[0m\u001b[0m\n\u001b[0;32m      2\u001b[0m \u001b[0mmod\u001b[0m \u001b[1;33m=\u001b[0m \u001b[0mmodel\u001b[0m\u001b[1;33m.\u001b[0m\u001b[0mfunding_model\u001b[0m\u001b[1;33m(\u001b[0m\u001b[1;33m)\u001b[0m\u001b[1;33m\u001b[0m\u001b[0m\n\u001b[1;32m----> 3\u001b[1;33m \u001b[0mmod\u001b[0m\u001b[1;33m.\u001b[0m\u001b[0mtransform_fit\u001b[0m\u001b[1;33m(\u001b[0m\u001b[0maug\u001b[0m\u001b[1;33m)\u001b[0m\u001b[1;33m\u001b[0m\u001b[0m\n\u001b[0m\u001b[0;32m      4\u001b[0m \u001b[0mmod\u001b[0m\u001b[1;33m.\u001b[0m\u001b[0mpredict\u001b[0m\u001b[1;33m(\u001b[0m\u001b[0mjan\u001b[0m\u001b[1;33m)\u001b[0m\u001b[1;33m\u001b[0m\u001b[0m\n\u001b[0;32m      5\u001b[0m \u001b[0mmod\u001b[0m\u001b[1;33m.\u001b[0m\u001b[0mpredict\u001b[0m\u001b[1;33m(\u001b[0m\u001b[0mfeb\u001b[0m\u001b[1;33m)\u001b[0m\u001b[1;33m\u001b[0m\u001b[0m\n",
        "\u001b[1;31mNameError\u001b[0m: name 'aug' is not defined"
       ]
      }
     ],
     "prompt_number": 5
    },
    {
     "cell_type": "code",
     "collapsed": false,
     "input": [
      "reload(model)\n",
      "mod = model.funding_model()\n",
      "mod.transform_fit(sep)\n",
      "mod.predict(jan)\n",
      "mod.predict(feb)\n",
      "mod.predict(march)\n",
      "mod.predict(april)\n",
      "mod.predict(may)\n",
      "mod.predict(june)\n",
      "mod.predict(july)\n",
      "mod.predict(aug)\n",
      "mod.predict(sep)\n",
      "mod.predict(oct)\n",
      "mod.predict(nov)"
     ],
     "language": "python",
     "metadata": {},
     "outputs": [
      {
       "output_type": "stream",
       "stream": "stdout",
       "text": [
        "17\n",
        "doing weighted"
       ]
      },
      {
       "output_type": "stream",
       "stream": "stdout",
       "text": [
        "\n",
        "114"
       ]
      },
      {
       "output_type": "stream",
       "stream": "stdout",
       "text": [
        "\n",
        "106"
       ]
      },
      {
       "output_type": "stream",
       "stream": "stdout",
       "text": [
        "\n",
        "114\n",
        "11\n",
        "3\n",
        "103\n",
        "114\n",
        "pct_positive"
       ]
      },
      {
       "output_type": "stream",
       "stream": "stdout",
       "text": [
        " 0.0318977553431\n",
        "true_pos: 0.0314 false_pos: 0.3213\n",
        "true_neg 0.6468 false_neg 0.0005\n",
        "recall: 0.9832 precision: 0.0889\n",
        "109"
       ]
      },
      {
       "output_type": "stream",
       "stream": "stdout",
       "text": [
        "\n",
        "114\n",
        "8\n",
        "3\n",
        "106\n",
        "114\n",
        "pct_positive"
       ]
      },
      {
       "output_type": "stream",
       "stream": "stdout",
       "text": [
        " 0.0126262626263\n",
        "true_pos: 0.0126 false_pos: 0.3404\n",
        "true_neg 0.647 false_neg 0.0\n",
        "recall: 1.0 precision: 0.0358\n",
        "109"
       ]
      },
      {
       "output_type": "stream",
       "stream": "stdout",
       "text": [
        "\n",
        "114\n",
        "6\n",
        "1\n",
        "108\n",
        "114\n",
        "pct_positive"
       ]
      },
      {
       "output_type": "stream",
       "stream": "stdout",
       "text": [
        " 0.00690713737529\n",
        "true_pos: 0.0069 false_pos: 0.3184\n",
        "true_neg 0.6747 false_neg 0.0\n",
        "recall: 1.0 precision: 0.0212\n",
        "112"
       ]
      },
      {
       "output_type": "stream",
       "stream": "stdout",
       "text": [
        "\n",
        "114\n",
        "6\n",
        "4\n",
        "108\n",
        "114\n",
        "pct_positive"
       ]
      },
      {
       "output_type": "stream",
       "stream": "stdout",
       "text": [
        " 0.0408048741382\n",
        "true_pos: 0.0394 false_pos: 0.3034\n",
        "true_neg 0.6558 false_neg 0.0014\n",
        "recall: 0.9646 precision: 0.1148\n",
        "109"
       ]
      },
      {
       "output_type": "stream",
       "stream": "stdout",
       "text": [
        "\n",
        "114\n",
        "8\n",
        "3\n",
        "106\n",
        "114\n",
        "pct_positive"
       ]
      },
      {
       "output_type": "stream",
       "stream": "stdout",
       "text": [
        " 0.047319121447\n",
        "true_pos: 0.0447 false_pos: 0.3326\n",
        "true_neg 0.6201 false_neg 0.0027\n",
        "recall: 0.9437 precision: 0.1184\n",
        "113"
       ]
      },
      {
       "output_type": "stream",
       "stream": "stdout",
       "text": [
        "\n",
        "114\n",
        "4\n",
        "3\n",
        "110\n",
        "114\n",
        "pct_positive"
       ]
      },
      {
       "output_type": "stream",
       "stream": "stdout",
       "text": [
        " 0.0582904222451\n",
        "true_pos: 0.0548 false_pos: 0.3243\n",
        "true_neg 0.6174 false_neg 0.0035\n",
        "recall: 0.9399 precision: 0.1445\n",
        "112"
       ]
      },
      {
       "output_type": "stream",
       "stream": "stdout",
       "text": [
        "\n",
        "114\n",
        "5\n",
        "3\n",
        "109\n",
        "114\n",
        "pct_positive"
       ]
      },
      {
       "output_type": "stream",
       "stream": "stdout",
       "text": [
        " 0.0314858891533\n",
        "true_pos: 0.0304 false_pos: 0.297\n",
        "true_neg 0.6715 false_neg 0.0011\n",
        "recall: 0.9654 precision: 0.0929\n",
        "111"
       ]
      },
      {
       "output_type": "stream",
       "stream": "stdout",
       "text": [
        "\n",
        "114\n",
        "4\n",
        "1\n",
        "110\n",
        "114\n",
        "pct_positive"
       ]
      },
      {
       "output_type": "stream",
       "stream": "stdout",
       "text": [
        " 0.0871212121212\n",
        "true_pos: 0.082 false_pos: 0.2987\n",
        "true_neg 0.6142 false_neg 0.0051\n",
        "recall: 0.9409 precision: 0.2154\n",
        "114"
       ]
      },
      {
       "output_type": "stream",
       "stream": "stdout",
       "text": [
        "\n",
        "114\n",
        "0\n",
        "0\n",
        "114\n",
        "114\n",
        "pct_positive"
       ]
      },
      {
       "output_type": "stream",
       "stream": "stdout",
       "text": [
        " 0.0986537652503\n",
        "true_pos: 0.097 false_pos: 0.2766\n",
        "true_neg 0.6247 false_neg 0.0016\n",
        "recall: 0.9837 precision: 0.2597\n",
        "112"
       ]
      },
      {
       "output_type": "stream",
       "stream": "stdout",
       "text": [
        "\n",
        "114\n",
        "5\n",
        "3\n",
        "109\n",
        "114\n",
        "pct_positive"
       ]
      },
      {
       "output_type": "stream",
       "stream": "stdout",
       "text": [
        " 0.051148613486\n",
        "true_pos: 0.0502 false_pos: 0.3251\n",
        "true_neg 0.6237 false_neg 0.001\n",
        "recall: 0.9811 precision: 0.1337\n",
        "111"
       ]
      },
      {
       "output_type": "stream",
       "stream": "stdout",
       "text": [
        "\n",
        "114\n",
        "8\n",
        "5\n",
        "106\n",
        "114\n",
        "pct_positive"
       ]
      },
      {
       "output_type": "stream",
       "stream": "stdout",
       "text": [
        " 0.140450114334\n",
        "true_pos: 0.1354 false_pos: 0.2597\n",
        "true_neg 0.5998 false_neg 0.0051\n",
        "recall: 0.964 precision: 0.3427\n"
       ]
      }
     ],
     "prompt_number": 20
    },
    {
     "cell_type": "code",
     "collapsed": false,
     "input": [
      "mod.feat_imp()"
     ],
     "language": "python",
     "metadata": {},
     "outputs": [
      {
       "output_type": "stream",
       "stream": "stdout",
       "text": [
        "repayment_term: 34.4%\n",
        "irregular_payments: 20.2%\n",
        "loan_amount: 16.8%\n",
        "gender: 5.2%\n",
        "pay_at_end: 1.6%\n",
        "KH: 1.4%\n",
        "group_size: 1.3%\n",
        "Retail: 1.1%\n",
        "bonus_credit_eligibility: 1.1%\n",
        "SN: 1.0%\n",
        "Arts: 0.9%\n",
        "SV: 0.9%\n",
        "Education: 0.9%\n",
        "KE: 0.8%\n",
        "VN: 0.7%\n",
        "theme_Rural Exclusion: 0.7%\n",
        "theme_Disaster recovery: 0.7%\n",
        "HT: 0.5%\n",
        "Agriculture: 0.5%\n",
        "ZW: 0.5%\n",
        "theme_Higher Education: 0.4%\n",
        "Housing: 0.4%\n",
        "dollars: 0.4%\n",
        "theme_Underfunded Areas: 0.4%\n",
        "theme_Water and Sanitation: 0.4%\n",
        "UG: 0.4%\n",
        "theme_none: 0.3%\n",
        "PE: 0.3%\n",
        "IN: 0.3%\n",
        "WS: 0.3%\n",
        "PS: 0.3%\n",
        "PH: 0.3%\n",
        "TG: 0.3%\n",
        "theme_Conflict Zones: 0.3%\n",
        "CO: 0.3%\n",
        "PY: 0.3%\n",
        "TZ: 0.2%\n",
        "Manufacturing: 0.2%\n",
        "TJ: 0.2%\n",
        "Food: 0.2%\n",
        "theme_Innovative Loans: 0.2%\n",
        "RW: 0.2%\n",
        "theme_Green: 0.2%\n",
        "Personal Use: 0.2%\n",
        "PK: 0.2%\n",
        "YE: 0.1%\n",
        "theme_Mobile Technology: 0.1%\n",
        "AM: 0.1%\n",
        "theme_Vulnerable Groups: 0.1%\n",
        "EC: 0.1%\n",
        "ML: 0.1%\n",
        "ID: 0.1%\n",
        "Services: 0.1%\n",
        "XK: 0.1%\n",
        "Health: 0.1%\n",
        "BO: 0.1%\n",
        "HN: 0.1%\n",
        "theme_Youth: 0.1%\n",
        "Construction: 0.1%\n",
        "Transportation: 0.1%\n",
        "GH: 0.1%\n",
        "AZ: 0.1%\n",
        "JO: 0.0%\n",
        "Clothing: 0.0%\n",
        "NI: 0.0%\n",
        "MN: 0.0%\n",
        "SL: 0.0%\n",
        "TL: 0.0%\n",
        "US: 0.0%\n",
        "GT: 0.0%\n",
        "theme_Start-Up: 0.0%\n",
        "KG: 0.0%\n",
        "theme_Arab Youth: 0.0%\n",
        "theme_Growing Businesses: 0.0%\n",
        "CD: 0.0%\n",
        "currency_loss: 0.0%\n",
        "VC: 0.0%\n",
        "theme_Kiva City LA: 0.0%\n",
        "UA: 0.0%\n",
        "theme_Kiva City Detroit: 0.0%\n",
        "theme_Fair Trade: 0.0%\n",
        "theme_Flexible Credit Study: 0.0%\n",
        "theme_Health: 0.0%\n",
        "theme_Islamic Finance: 0.0%\n",
        "theme_Job Creation: 0.0%\n",
        "theme_SME: 0.0%\n",
        "Wholesale: 0.0%\n",
        "TR: 0.0%\n",
        "IQ: 0.0%\n",
        "NP: 0.0%\n",
        "MZ: 0.0%\n",
        "MX: 0.0%\n",
        "MW: 0.0%\n",
        "MM: 0.0%\n",
        "MD: 0.0%\n",
        "LR: 0.0%\n",
        "LB: 0.0%\n",
        "LA: 0.0%\n",
        "SO: 0.0%\n",
        "SR: 0.0%\n",
        "IL: 0.0%\n",
        "Entertainment: 0.0%\n",
        "GE: 0.0%\n",
        "DO: 0.0%\n",
        "CR: 0.0%\n",
        "CM: 0.0%\n",
        "ZM: 0.0%\n",
        "BZ: 0.0%\n",
        "BJ: 0.0%\n",
        "BI: 0.0%\n",
        "BF: 0.0%\n",
        "AL: 0.0%\n",
        "TH: 0.0%\n",
        "CG: 0.0%\n"
       ]
      }
     ],
     "prompt_number": 21
    },
    {
     "cell_type": "code",
     "collapsed": false,
     "input": [
      "reload(model)\n",
      "mod = model.funding_model()\n",
      "mod.transform_fit(augsep,weight=1.5)\n",
      "mod.predict(jan)\n",
      "mod.predict(feb)\n",
      "mod.predict(march)\n",
      "mod.predict(april)\n",
      "mod.predict(may)\n",
      "mod.predict(june)\n",
      "mod.predict(july)\n",
      "mod.predict(aug)\n",
      "mod.predict(sep)\n",
      "mod.predict(oct)\n",
      "mod.predict(nov)"
     ],
     "language": "python",
     "metadata": {},
     "outputs": [
      {
       "output_type": "stream",
       "stream": "stdout",
       "text": [
        "17\n",
        "doing weighted"
       ]
      },
      {
       "output_type": "stream",
       "stream": "stdout",
       "text": [
        "\n",
        "115"
       ]
      },
      {
       "output_type": "stream",
       "stream": "stdout",
       "text": [
        "\n",
        "106"
       ]
      },
      {
       "output_type": "stream",
       "stream": "stdout",
       "text": [
        "\n",
        "115\n",
        "12\n",
        "3\n",
        "103\n",
        "115\n",
        "pct_positive"
       ]
      },
      {
       "output_type": "stream",
       "stream": "stdout",
       "text": [
        " 0.0318977553431\n",
        "true_pos: 0.0317 false_pos: 0.3106\n",
        "true_neg 0.6575 false_neg 0.0002\n",
        "recall: 0.9933 precision: 0.0926\n",
        "109"
       ]
      },
      {
       "output_type": "stream",
       "stream": "stdout",
       "text": [
        "\n",
        "115\n",
        "9\n",
        "3\n",
        "106\n",
        "115\n",
        "pct_positive"
       ]
      },
      {
       "output_type": "stream",
       "stream": "stdout",
       "text": [
        " 0.0126262626263\n",
        "true_pos: 0.0125 false_pos: 0.275\n",
        "true_neg 0.7124 false_neg 0.0001\n",
        "recall: 0.9882 precision: 0.0434\n",
        "109"
       ]
      },
      {
       "output_type": "stream",
       "stream": "stdout",
       "text": [
        "\n",
        "115\n",
        "7\n",
        "1\n",
        "108\n",
        "115\n",
        "pct_positive"
       ]
      },
      {
       "output_type": "stream",
       "stream": "stdout",
       "text": [
        " 0.00690713737529\n",
        "true_pos: 0.0069 false_pos: 0.2877\n",
        "true_neg 0.7054 false_neg 0.0\n",
        "recall: 1.0 precision: 0.0234\n",
        "112"
       ]
      },
      {
       "output_type": "stream",
       "stream": "stdout",
       "text": [
        "\n",
        "115\n",
        "6\n",
        "3\n",
        "109\n",
        "115\n",
        "pct_positive"
       ]
      },
      {
       "output_type": "stream",
       "stream": "stdout",
       "text": [
        " 0.0408048741382\n",
        "true_pos: 0.0394 false_pos: 0.2765\n",
        "true_neg 0.6827 false_neg 0.0014\n",
        "recall: 0.9646 precision: 0.1246\n",
        "109"
       ]
      },
      {
       "output_type": "stream",
       "stream": "stdout",
       "text": [
        "\n",
        "115\n",
        "8\n",
        "2\n",
        "107\n",
        "115\n",
        "pct_positive"
       ]
      },
      {
       "output_type": "stream",
       "stream": "stdout",
       "text": [
        " 0.047319121447\n",
        "true_pos: 0.0443 false_pos: 0.2976\n",
        "true_neg 0.655 false_neg 0.003\n",
        "recall: 0.9369 precision: 0.1296\n",
        "113"
       ]
      },
      {
       "output_type": "stream",
       "stream": "stdout",
       "text": [
        "\n",
        "115\n",
        "4\n",
        "2\n",
        "111\n",
        "115\n",
        "pct_positive"
       ]
      },
      {
       "output_type": "stream",
       "stream": "stdout",
       "text": [
        " 0.0582904222451\n",
        "true_pos: 0.0562 false_pos: 0.2909\n",
        "true_neg 0.6508 false_neg 0.0021\n",
        "recall: 0.9635 precision: 0.1618\n",
        "112"
       ]
      },
      {
       "output_type": "stream",
       "stream": "stdout",
       "text": [
        "\n",
        "115\n",
        "5\n",
        "2\n",
        "110\n",
        "115\n",
        "pct_positive"
       ]
      },
      {
       "output_type": "stream",
       "stream": "stdout",
       "text": [
        " 0.0314858891533\n",
        "true_pos: 0.0305 false_pos: 0.2809\n",
        "true_neg 0.6877 false_neg 0.001\n",
        "recall: 0.9698 precision: 0.0981\n",
        "111"
       ]
      },
      {
       "output_type": "stream",
       "stream": "stdout",
       "text": [
        "\n",
        "115\n",
        "4\n",
        "0\n",
        "111\n",
        "115\n",
        "pct_positive"
       ]
      },
      {
       "output_type": "stream",
       "stream": "stdout",
       "text": [
        " 0.0871212121212\n",
        "true_pos: 0.0843 false_pos: 0.2652\n",
        "true_neg 0.6477 false_neg 0.0028\n",
        "recall: 0.968 precision: 0.2413\n",
        "114"
       ]
      },
      {
       "output_type": "stream",
       "stream": "stdout",
       "text": [
        "\n",
        "115\n",
        "1\n",
        "0\n",
        "114\n",
        "115\n",
        "pct_positive"
       ]
      },
      {
       "output_type": "stream",
       "stream": "stdout",
       "text": [
        " 0.0986537652503\n",
        "true_pos: 0.0951 false_pos: 0.2289\n",
        "true_neg 0.6725 false_neg 0.0036\n",
        "recall: 0.9638 precision: 0.2935\n",
        "112"
       ]
      },
      {
       "output_type": "stream",
       "stream": "stdout",
       "text": [
        "\n",
        "115\n",
        "5\n",
        "2\n",
        "110\n",
        "115\n",
        "pct_positive"
       ]
      },
      {
       "output_type": "stream",
       "stream": "stdout",
       "text": [
        " 0.051148613486\n",
        "true_pos: 0.0494 false_pos: 0.2857\n",
        "true_neg 0.6631 false_neg 0.0017\n",
        "recall: 0.9666 precision: 0.1475\n",
        "111"
       ]
      },
      {
       "output_type": "stream",
       "stream": "stdout",
       "text": [
        "\n",
        "115\n",
        "8\n",
        "4\n",
        "107\n",
        "115\n",
        "pct_positive"
       ]
      },
      {
       "output_type": "stream",
       "stream": "stdout",
       "text": [
        " 0.140450114334\n",
        "true_pos: 0.1317 false_pos: 0.2163\n",
        "true_neg 0.6433 false_neg 0.0088\n",
        "recall: 0.9374 precision: 0.3784\n"
       ]
      }
     ],
     "prompt_number": 23
    },
    {
     "cell_type": "code",
     "collapsed": false,
     "input": [
      "reload(model)\n",
      "mod = model.funding_model()\n",
      "mod.transform_fit(augsep)\n",
      "mod.predict(jan)\n",
      "mod.predict(feb)\n",
      "mod.predict(march)\n",
      "mod.predict(april)\n",
      "mod.predict(may)\n",
      "mod.predict(june)\n",
      "mod.predict(july)\n",
      "mod.predict(aug)\n",
      "mod.predict(sep)\n",
      "mod.predict(oct)\n",
      "mod.predict(nov)"
     ],
     "language": "python",
     "metadata": {},
     "outputs": [
      {
       "output_type": "stream",
       "stream": "stdout",
       "text": [
        "17\n",
        "doing weighted"
       ]
      },
      {
       "output_type": "stream",
       "stream": "stdout",
       "text": [
        "\n",
        "115"
       ]
      },
      {
       "output_type": "stream",
       "stream": "stdout",
       "text": [
        "\n",
        "106"
       ]
      },
      {
       "output_type": "stream",
       "stream": "stdout",
       "text": [
        "\n",
        "115\n",
        "12\n",
        "3\n",
        "103\n",
        "115\n",
        "pct_positive"
       ]
      },
      {
       "output_type": "stream",
       "stream": "stdout",
       "text": [
        " 0.0318977553431\n",
        "true_pos: 0.0319 false_pos: 0.4612\n",
        "true_neg 0.5069 false_neg 0.0\n",
        "recall: 1.0 precision: 0.0647\n",
        "109"
       ]
      },
      {
       "output_type": "stream",
       "stream": "stdout",
       "text": [
        "\n",
        "115\n",
        "9\n",
        "3\n",
        "106\n",
        "115\n",
        "pct_positive"
       ]
      },
      {
       "output_type": "stream",
       "stream": "stdout",
       "text": [
        " 0.0126262626263\n",
        "true_pos: 0.0114 false_pos: 0.4049\n",
        "true_neg 0.5824 false_neg 0.0012\n",
        "recall: 0.9059 precision: 0.0275\n",
        "109"
       ]
      },
      {
       "output_type": "stream",
       "stream": "stdout",
       "text": [
        "\n",
        "115\n",
        "7\n",
        "1\n",
        "108\n",
        "115\n",
        "pct_positive"
       ]
      },
      {
       "output_type": "stream",
       "stream": "stdout",
       "text": [
        " 0.00690713737529\n",
        "true_pos: 0.0069 false_pos: 0.44\n",
        "true_neg 0.5531 false_neg 0.0\n",
        "recall: 1.0 precision: 0.0155\n",
        "112"
       ]
      },
      {
       "output_type": "stream",
       "stream": "stdout",
       "text": [
        "\n",
        "115\n",
        "6\n",
        "3\n",
        "109\n",
        "115\n",
        "pct_positive"
       ]
      },
      {
       "output_type": "stream",
       "stream": "stdout",
       "text": [
        " 0.0408048741382\n",
        "true_pos: 0.0395 false_pos: 0.4092\n",
        "true_neg 0.55 false_neg 0.0013\n",
        "recall: 0.9686 precision: 0.0881\n",
        "109"
       ]
      },
      {
       "output_type": "stream",
       "stream": "stdout",
       "text": [
        "\n",
        "115\n",
        "8\n",
        "2\n",
        "107\n",
        "115\n",
        "pct_positive"
       ]
      },
      {
       "output_type": "stream",
       "stream": "stdout",
       "text": [
        " 0.047319121447\n",
        "true_pos: 0.0464 false_pos: 0.4469\n",
        "true_neg 0.5058 false_neg 0.0009\n",
        "recall: 0.9812 precision: 0.0941\n",
        "113"
       ]
      },
      {
       "output_type": "stream",
       "stream": "stdout",
       "text": [
        "\n",
        "115\n",
        "4\n",
        "2\n",
        "111\n",
        "115\n",
        "pct_positive"
       ]
      },
      {
       "output_type": "stream",
       "stream": "stdout",
       "text": [
        " 0.0582904222451\n",
        "true_pos: 0.057 false_pos: 0.4092\n",
        "true_neg 0.5325 false_neg 0.0013\n",
        "recall: 0.9776 precision: 0.1222\n",
        "112"
       ]
      },
      {
       "output_type": "stream",
       "stream": "stdout",
       "text": [
        "\n",
        "115\n",
        "5\n",
        "2\n",
        "110\n",
        "115\n",
        "pct_positive"
       ]
      },
      {
       "output_type": "stream",
       "stream": "stdout",
       "text": [
        " 0.0314858891533\n",
        "true_pos: 0.0313 false_pos: 0.4124\n",
        "true_neg 0.5561 false_neg 0.0001\n",
        "recall: 0.9957 precision: 0.0706\n",
        "111"
       ]
      },
      {
       "output_type": "stream",
       "stream": "stdout",
       "text": [
        "\n",
        "115\n",
        "4\n",
        "0\n",
        "111\n",
        "115\n",
        "pct_positive"
       ]
      },
      {
       "output_type": "stream",
       "stream": "stdout",
       "text": [
        " 0.0871212121212\n",
        "true_pos: 0.0863 false_pos: 0.3881\n",
        "true_neg 0.5248 false_neg 0.0009\n",
        "recall: 0.9902 precision: 0.1819\n",
        "114"
       ]
      },
      {
       "output_type": "stream",
       "stream": "stdout",
       "text": [
        "\n",
        "115\n",
        "1\n",
        "0\n",
        "114\n",
        "115\n",
        "pct_positive"
       ]
      },
      {
       "output_type": "stream",
       "stream": "stdout",
       "text": [
        " 0.0986537652503\n",
        "true_pos: 0.0984 false_pos: 0.3662\n",
        "true_neg 0.5351 false_neg 0.0003\n",
        "recall: 0.9972 precision: 0.2117\n",
        "112"
       ]
      },
      {
       "output_type": "stream",
       "stream": "stdout",
       "text": [
        "\n",
        "115\n",
        "5\n",
        "2\n",
        "110\n",
        "115\n",
        "pct_positive"
       ]
      },
      {
       "output_type": "stream",
       "stream": "stdout",
       "text": [
        " 0.051148613486\n",
        "true_pos: 0.0501 false_pos: 0.4536\n",
        "true_neg 0.4953 false_neg 0.001\n",
        "recall: 0.9797 precision: 0.0995\n",
        "111"
       ]
      },
      {
       "output_type": "stream",
       "stream": "stdout",
       "text": [
        "\n",
        "115\n",
        "8\n",
        "4\n",
        "107\n",
        "115\n",
        "pct_positive"
       ]
      },
      {
       "output_type": "stream",
       "stream": "stdout",
       "text": [
        " 0.140450114334\n",
        "true_pos: 0.137 false_pos: 0.342\n",
        "true_neg 0.5175 false_neg 0.0035\n",
        "recall: 0.9751 precision: 0.2859\n"
       ]
      }
     ],
     "prompt_number": 24
    },
    {
     "cell_type": "code",
     "collapsed": false,
     "input": [
      "reload(model)\n",
      "mod = model.funding_model()\n",
      "mod.transform_fit(augsep,weight= 1,leaf=40)\n",
      "mod.predict(jan)\n",
      "mod.predict(feb)\n",
      "mod.predict(march)\n",
      "mod.predict(april)\n",
      "mod.predict(may)\n",
      "mod.predict(june)\n",
      "mod.predict(july)\n",
      "mod.predict(aug)\n",
      "mod.predict(sep)\n",
      "mod.predict(oct)\n",
      "mod.predict(nov)"
     ],
     "language": "python",
     "metadata": {},
     "outputs": [
      {
       "output_type": "stream",
       "stream": "stdout",
       "text": [
        "115\n",
        "actl pos:"
       ]
      },
      {
       "output_type": "stream",
       "stream": "stdout",
       "text": [
        " 0.0319 pred pos: 0.2864\n",
        "true pos: 0.0314 false pos: 0.2551\n",
        "true neg: 0.713 false neg: 0.0005\n",
        "recall: 0.9832 precision: 0.1095\n",
        "115"
       ]
      },
      {
       "output_type": "stream",
       "stream": "stdout",
       "text": [
        "\n",
        "actl pos:"
       ]
      },
      {
       "output_type": "stream",
       "stream": "stdout",
       "text": [
        " 0.0126 pred pos: 0.264\n",
        "true pos: 0.0126 false pos: 0.2513\n",
        "true neg: 0.736 false neg: 0.0\n",
        "recall: 1.0 precision: 0.0478\n",
        "115"
       ]
      },
      {
       "output_type": "stream",
       "stream": "stdout",
       "text": [
        "\n",
        "actl pos:"
       ]
      },
      {
       "output_type": "stream",
       "stream": "stdout",
       "text": [
        " 0.0069 pred pos: 0.2494\n",
        "true pos: 0.0069 false pos: 0.2424\n",
        "true neg: 0.7506 false neg: 0.0\n",
        "recall: 1.0 precision: 0.0277\n",
        "115"
       ]
      },
      {
       "output_type": "stream",
       "stream": "stdout",
       "text": [
        "\n",
        "actl pos:"
       ]
      },
      {
       "output_type": "stream",
       "stream": "stdout",
       "text": [
        " 0.0408 pred pos: 0.264\n",
        "true pos: 0.0369 false pos: 0.2271\n",
        "true neg: 0.7321 false neg: 0.0039\n",
        "recall: 0.9037 precision: 0.1397\n",
        "115"
       ]
      },
      {
       "output_type": "stream",
       "stream": "stdout",
       "text": [
        "\n",
        "actl pos:"
       ]
      },
      {
       "output_type": "stream",
       "stream": "stdout",
       "text": [
        " 0.0473 pred pos: 0.2913\n",
        "true pos: 0.042 false pos: 0.2494\n",
        "true neg: 0.7033 false neg: 0.0053\n",
        "recall: 0.8874 precision: 0.1441\n",
        "115"
       ]
      },
      {
       "output_type": "stream",
       "stream": "stdout",
       "text": [
        "\n",
        "actl pos:"
       ]
      },
      {
       "output_type": "stream",
       "stream": "stdout",
       "text": [
        " 0.0583 pred pos: 0.3046\n",
        "true pos: 0.0542 false pos: 0.2504\n",
        "true neg: 0.6913 false neg: 0.0041\n",
        "recall: 0.9305 precision: 0.178\n",
        "115"
       ]
      },
      {
       "output_type": "stream",
       "stream": "stdout",
       "text": [
        "\n",
        "actl pos:"
       ]
      },
      {
       "output_type": "stream",
       "stream": "stdout",
       "text": [
        " 0.0315 pred pos: 0.2658\n",
        "true pos: 0.0298 false pos: 0.236\n",
        "true neg: 0.7325 false neg: 0.0017\n",
        "recall: 0.946 precision: 0.1121\n",
        "115"
       ]
      },
      {
       "output_type": "stream",
       "stream": "stdout",
       "text": [
        "\n",
        "actl pos:"
       ]
      },
      {
       "output_type": "stream",
       "stream": "stdout",
       "text": [
        " 0.0871 pred pos: 0.3172\n",
        "true pos: 0.0837 false pos: 0.2335\n",
        "true neg: 0.6794 false neg: 0.0034\n",
        "recall: 0.9606 precision: 0.2639\n",
        "115"
       ]
      },
      {
       "output_type": "stream",
       "stream": "stdout",
       "text": [
        "\n",
        "actl pos:"
       ]
      },
      {
       "output_type": "stream",
       "stream": "stdout",
       "text": [
        " 0.0987 pred pos: 0.2904\n",
        "true pos: 0.09 false pos: 0.2005\n",
        "true neg: 0.7009 false neg: 0.0087\n",
        "recall: 0.9119 precision: 0.3098\n",
        "115"
       ]
      },
      {
       "output_type": "stream",
       "stream": "stdout",
       "text": [
        "\n",
        "actl pos:"
       ]
      },
      {
       "output_type": "stream",
       "stream": "stdout",
       "text": [
        " 0.0511 pred pos: 0.2959\n",
        "true pos: 0.0484 false pos: 0.2475\n",
        "true neg: 0.7014 false neg: 0.0028\n",
        "recall: 0.9462 precision: 0.1636\n",
        "115"
       ]
      },
      {
       "output_type": "stream",
       "stream": "stdout",
       "text": [
        "\n",
        "actl pos:"
       ]
      },
      {
       "output_type": "stream",
       "stream": "stdout",
       "text": [
        " 0.1405 pred pos: 0.3181\n",
        "true pos: 0.1261 false pos: 0.192\n",
        "true neg: 0.6676 false neg: 0.0143\n",
        "recall: 0.898 precision: 0.3965\n"
       ]
      }
     ],
     "prompt_number": 11
    },
    {
     "cell_type": "code",
     "collapsed": false,
     "input": [
      "reload(model)\n",
      "mod = model.funding_model()\n",
      "mod.transform_fit(augsep,weight= 1,leaf=40, trees=20, split=50)\n",
      "mod.predict(jan)\n",
      "mod.predict(feb)\n",
      "mod.predict(march)\n",
      "mod.predict(april)\n",
      "mod.predict(may)\n",
      "mod.predict(june)\n",
      "mod.predict(july)\n",
      "mod.predict(aug)\n",
      "mod.predict(sep)\n",
      "mod.predict(oct)\n",
      "mod.predict(nov)"
     ],
     "language": "python",
     "metadata": {},
     "outputs": [
      {
       "output_type": "stream",
       "stream": "stdout",
       "text": [
        "actl pos: 0.0319 pred pos: 0.2753\n",
        "true pos: 0.0316 false pos: 0.2437\n",
        "true neg: 0.7244 false neg: 0.0003\n",
        "recall: 0.9899 precision: 0.1147\n",
        "\n",
        "actl pos:"
       ]
      },
      {
       "output_type": "stream",
       "stream": "stdout",
       "text": [
        " 0.0126 pred pos: 0.2626\n",
        "true pos: 0.0126 false pos: 0.25\n",
        "true neg: 0.7374 false neg: 0.0001\n",
        "recall: 0.9941 precision: 0.0478\n",
        "\n",
        "actl pos:"
       ]
      },
      {
       "output_type": "stream",
       "stream": "stdout",
       "text": [
        " 0.0069 pred pos: 0.2441\n",
        "true pos: 0.0069 false pos: 0.2371\n",
        "true neg: 0.7559 false neg: 0.0\n",
        "recall: 1.0 precision: 0.0283\n",
        "\n",
        "actl pos:"
       ]
      },
      {
       "output_type": "stream",
       "stream": "stdout",
       "text": [
        " 0.0408 pred pos: 0.2593\n",
        "true pos: 0.0371 false pos: 0.2222\n",
        "true neg: 0.737 false neg: 0.0037\n",
        "recall: 0.9096 precision: 0.1431\n",
        "\n",
        "actl pos:"
       ]
      },
      {
       "output_type": "stream",
       "stream": "stdout",
       "text": [
        " 0.0473 pred pos: 0.2865\n",
        "true pos: 0.0422 false pos: 0.2443\n",
        "true neg: 0.7083 false neg: 0.0052\n",
        "recall: 0.8908 precision: 0.1471\n",
        "\n",
        "actl pos:"
       ]
      },
      {
       "output_type": "stream",
       "stream": "stdout",
       "text": [
        " 0.0583 pred pos: 0.3008\n",
        "true pos: 0.054 false pos: 0.2468\n",
        "true neg: 0.6949 false neg: 0.0043\n",
        "recall: 0.9258 precision: 0.1794\n",
        "\n",
        "actl pos:"
       ]
      },
      {
       "output_type": "stream",
       "stream": "stdout",
       "text": [
        " 0.0315 pred pos: 0.264\n",
        "true pos: 0.0299 false pos: 0.2341\n",
        "true neg: 0.7344 false neg: 0.0016\n",
        "recall: 0.9503 precision: 0.1133\n",
        "\n",
        "actl pos:"
       ]
      },
      {
       "output_type": "stream",
       "stream": "stdout",
       "text": [
        " 0.0871 pred pos: 0.3051\n",
        "true pos: 0.0815 false pos: 0.2236\n",
        "true neg: 0.6893 false neg: 0.0056\n",
        "recall: 0.936 precision: 0.2673\n",
        "\n",
        "actl pos:"
       ]
      },
      {
       "output_type": "stream",
       "stream": "stdout",
       "text": [
        " 0.0987 pred pos: 0.293\n",
        "true pos: 0.0925 false pos: 0.2005\n",
        "true neg: 0.7008 false neg: 0.0062\n",
        "recall: 0.9375 precision: 0.3156\n",
        "\n",
        "actl pos:"
       ]
      },
      {
       "output_type": "stream",
       "stream": "stdout",
       "text": [
        " 0.0511 pred pos: 0.2804\n",
        "true pos: 0.0489 false pos: 0.2314\n",
        "true neg: 0.7174 false neg: 0.0022\n",
        "recall: 0.9564 precision: 0.1745\n",
        "\n",
        "actl pos:"
       ]
      },
      {
       "output_type": "stream",
       "stream": "stdout",
       "text": [
        " 0.1405 pred pos: 0.3073\n",
        "true pos: 0.1258 false pos: 0.1815\n",
        "true neg: 0.6781 false neg: 0.0147\n",
        "recall: 0.8955 precision: 0.4093\n",
        "\n"
       ]
      }
     ],
     "prompt_number": 13
    },
    {
     "cell_type": "code",
     "collapsed": false,
     "input": [
      "reload(model)\n",
      "mod = model.funding_model()\n",
      "mod.transform_fit(augsep,weight= 1,leaf=1, trees=20, split=2)\n",
      "mod.predict(jan)\n",
      "mod.predict(feb)\n",
      "mod.predict(march)\n",
      "mod.predict(april)\n",
      "mod.predict(may)\n",
      "mod.predict(june)\n",
      "mod.predict(july)\n",
      "mod.predict(aug)\n",
      "mod.predict(sep)\n",
      "mod.predict(oct)\n",
      "mod.predict(nov)"
     ],
     "language": "python",
     "metadata": {},
     "outputs": [
      {
       "output_type": "stream",
       "stream": "stdout",
       "text": [
        "actl pos: 0.0319 pred pos: 0.0249\n",
        "true pos: 0.007 false pos: 0.0179\n",
        "true neg: 0.9502 false neg: 0.0249\n",
        "recall: 0.2189 precision: 0.2802\n",
        "\n",
        "actl pos:"
       ]
      },
      {
       "output_type": "stream",
       "stream": "stdout",
       "text": [
        " 0.0126 pred pos: 0.028\n",
        "true pos: 0.0017 false pos: 0.0263\n",
        "true neg: 0.9611 false neg: 0.0109\n",
        "recall: 0.1353 precision: 0.061\n",
        "\n",
        "actl pos:"
       ]
      },
      {
       "output_type": "stream",
       "stream": "stdout",
       "text": [
        " 0.0069 pred pos: 0.0389\n",
        "true pos: 0.0028 false pos: 0.0361\n",
        "true neg: 0.957 false neg: 0.0041\n",
        "recall: 0.404 precision: 0.0717\n",
        "\n",
        "actl pos:"
       ]
      },
      {
       "output_type": "stream",
       "stream": "stdout",
       "text": [
        " 0.0408 pred pos: 0.0396\n",
        "true pos: 0.0131 false pos: 0.0265\n",
        "true neg: 0.9327 false neg: 0.0277\n",
        "recall: 0.3222 precision: 0.332\n",
        "\n",
        "actl pos:"
       ]
      },
      {
       "output_type": "stream",
       "stream": "stdout",
       "text": [
        " 0.0473 pred pos: 0.0323\n",
        "true pos: 0.0124 false pos: 0.0199\n",
        "true neg: 0.9327 false neg: 0.035\n",
        "recall: 0.2611 precision: 0.3825\n",
        "\n",
        "actl pos:"
       ]
      },
      {
       "output_type": "stream",
       "stream": "stdout",
       "text": [
        " 0.0583 pred pos: 0.044\n",
        "true pos: 0.0145 false pos: 0.0295\n",
        "true neg: 0.9122 false neg: 0.0438\n",
        "recall: 0.2485 precision: 0.3292\n",
        "\n",
        "actl pos:"
       ]
      },
      {
       "output_type": "stream",
       "stream": "stdout",
       "text": [
        " 0.0315 pred pos: 0.0391\n",
        "true pos: 0.0093 false pos: 0.0298\n",
        "true neg: 0.9387 false neg: 0.0222\n",
        "recall: 0.2959 precision: 0.2383\n",
        "\n",
        "actl pos:"
       ]
      },
      {
       "output_type": "stream",
       "stream": "stdout",
       "text": [
        " 0.0871 pred pos: 0.0466\n",
        "true pos: 0.033 false pos: 0.0136\n",
        "true neg: 0.8993 false neg: 0.0541\n",
        "recall: 0.379 precision: 0.7086\n",
        "\n",
        "actl pos:"
       ]
      },
      {
       "output_type": "stream",
       "stream": "stdout",
       "text": [
        " 0.0987 pred pos: 0.0618\n",
        "true pos: 0.0456 false pos: 0.0162\n",
        "true neg: 0.8851 false neg: 0.053\n",
        "recall: 0.4627 precision: 0.7381\n",
        "\n",
        "actl pos:"
       ]
      },
      {
       "output_type": "stream",
       "stream": "stdout",
       "text": [
        " 0.0511 pred pos: 0.0357\n",
        "true pos: 0.0141 false pos: 0.0216\n",
        "true neg: 0.9273 false neg: 0.037\n",
        "recall: 0.2762 precision: 0.3958\n",
        "\n",
        "actl pos:"
       ]
      },
      {
       "output_type": "stream",
       "stream": "stdout",
       "text": [
        " 0.1405 pred pos: 0.0344\n",
        "true pos: 0.0239 false pos: 0.0105\n",
        "true neg: 0.8491 false neg: 0.1165\n",
        "recall: 0.1705 precision: 0.6958\n",
        "\n"
       ]
      }
     ],
     "prompt_number": 14
    },
    {
     "cell_type": "code",
     "collapsed": false,
     "input": [
      "reload(model)\n",
      "mod = model.funding_model()\n",
      "mod.transform_fit(augsep,weight= 1,leaf=1, trees=200, split=2)\n",
      "mod.predict(oct)\n",
      "mod.predict(nov)"
     ],
     "language": "python",
     "metadata": {},
     "outputs": [
      {
       "output_type": "stream",
       "stream": "stdout",
       "text": [
        "actl pos: 0.0511 pred pos: 0.0265\n",
        "true pos: 0.0117 false pos: 0.0147\n",
        "true neg: 0.9341 false neg: 0.0394\n",
        "recall: 0.2297 precision: 0.4438\n",
        "\n",
        "actl pos:"
       ]
      },
      {
       "output_type": "stream",
       "stream": "stdout",
       "text": [
        " 0.1405 pred pos: 0.0247\n",
        "true pos: 0.0181 false pos: 0.0066\n",
        "true neg: 0.8529 false neg: 0.1224\n",
        "recall: 0.1285 precision: 0.7317\n",
        "\n"
       ]
      }
     ],
     "prompt_number": 20
    },
    {
     "cell_type": "code",
     "collapsed": false,
     "input": [
      "reload(model)\n",
      "mod = model.funding_model()\n",
      "mod.transform_fit(augsep,weight= 1,leaf=20, trees=200, split=500)\n",
      "mod.predict(oct)\n",
      "mod.predict(nov)"
     ],
     "language": "python",
     "metadata": {},
     "outputs": [
      {
       "output_type": "stream",
       "stream": "stdout",
       "text": [
        "actl pos: 0.0511 pred pos: 0.2735\n",
        "true pos: 0.0482 false pos: 0.2253\n",
        "true neg: 0.7236 false neg: 0.0029\n",
        "recall: 0.9433 precision: 0.1764\n",
        "\n",
        "actl pos:"
       ]
      },
      {
       "output_type": "stream",
       "stream": "stdout",
       "text": [
        " 0.1405 pred pos: 0.2949\n",
        "true pos: 0.1235 false pos: 0.1714\n",
        "true neg: 0.6882 false neg: 0.017\n",
        "recall: 0.8792 precision: 0.4188\n",
        "\n"
       ]
      }
     ],
     "prompt_number": 21
    },
    {
     "cell_type": "code",
     "collapsed": false,
     "input": [
      "reload(model)\n",
      "mod = model.funding_model()\n",
      "mod.transform_fit(augsep,weight= 1,leaf=10, trees=100, split=100)\n",
      "mod.predict(oct)\n",
      "mod.predict(nov)"
     ],
     "language": "python",
     "metadata": {},
     "outputs": [
      {
       "output_type": "stream",
       "stream": "stdout",
       "text": [
        "actl pos: 0.0511 pred pos: 0.2388\n",
        "true pos: 0.0479 false pos: 0.1909\n",
        "true neg: 0.7579 false neg: 0.0033\n",
        "recall: 0.936 precision: 0.2005\n",
        "\n",
        "actl pos:"
       ]
      },
      {
       "output_type": "stream",
       "stream": "stdout",
       "text": [
        " 0.1405 pred pos: 0.2634\n",
        "true pos: 0.1169 false pos: 0.1466\n",
        "true neg: 0.713 false neg: 0.0236\n",
        "recall: 0.832 precision: 0.4436\n",
        "\n"
       ]
      }
     ],
     "prompt_number": 24
    },
    {
     "cell_type": "code",
     "collapsed": false,
     "input": [
      "reload(model)\n",
      "mod = model.funding_model()\n",
      "mod.transform_fit(augsep,weight= 1,leaf=10, trees=100, split=100, mf = 5)\n",
      "mod.predict(oct)\n",
      "mod.predict(nov)"
     ],
     "language": "python",
     "metadata": {},
     "outputs": [
      {
       "output_type": "stream",
       "stream": "stdout",
       "text": [
        "actl pos: 0.0511 pred pos: 0.2375\n",
        "true pos: 0.0478 false pos: 0.1897\n",
        "true neg: 0.7592 false neg: 0.0033\n",
        "recall: 0.9346 precision: 0.2013\n",
        "\n",
        "actl pos:"
       ]
      },
      {
       "output_type": "stream",
       "stream": "stdout",
       "text": [
        " 0.1405 pred pos: 0.2549\n",
        "true pos: 0.1165 false pos: 0.1384\n",
        "true neg: 0.7211 false neg: 0.0239\n",
        "recall: 0.8295 precision: 0.457\n",
        "\n"
       ]
      }
     ],
     "prompt_number": 25
    },
    {
     "cell_type": "code",
     "collapsed": false,
     "input": [
      "reload(model)\n",
      "mod = model.funding_model()\n",
      "mod.transform_fit(augsep,weight= 1.5,leaf=10, trees=100, split=100, mf = 3)\n",
      "mod.predict(oct)\n",
      "mod.predict(nov)"
     ],
     "language": "python",
     "metadata": {},
     "outputs": [
      {
       "output_type": "stream",
       "stream": "stdout",
       "text": [
        "actl pos: 0.0511 pred pos: 0.2669\n",
        "true pos: 0.0484 false pos: 0.2185\n",
        "true neg: 0.7304 false neg: 0.0028\n",
        "recall: 0.9462 precision: 0.1813\n",
        "\n",
        "actl pos:"
       ]
      },
      {
       "output_type": "stream",
       "stream": "stdout",
       "text": [
        " 0.1405 pred pos: 0.29\n",
        "true pos: 0.1247 false pos: 0.1654\n",
        "true neg: 0.6942 false neg: 0.0158\n",
        "recall: 0.8877 precision: 0.4299\n",
        "\n"
       ]
      }
     ],
     "prompt_number": 26
    },
    {
     "cell_type": "code",
     "collapsed": false,
     "input": [
      "reload(model)\n",
      "mod = model.funding_model()\n",
      "mod.transform_fit(augsep,weight= 1.5,leaf=10, trees=200, split=100, mf = 2)\n",
      "mod.predict(oct)\n",
      "mod.predict(nov)"
     ],
     "language": "python",
     "metadata": {},
     "outputs": [
      {
       "output_type": "stream",
       "stream": "stdout",
       "text": [
        "actl pos: 0.0511 pred pos: 0.2705\n",
        "true pos: 0.0483 false pos: 0.2221\n",
        "true neg: 0.7267 false neg: 0.0028\n",
        "recall: 0.9448 precision: 0.1787\n",
        "\n",
        "actl pos:"
       ]
      },
      {
       "output_type": "stream",
       "stream": "stdout",
       "text": [
        " 0.1405 pred pos: 0.2919\n",
        "true pos: 0.1243 false pos: 0.1675\n",
        "true neg: 0.692 false neg: 0.0161\n",
        "recall: 0.8852 precision: 0.426\n",
        "\n"
       ]
      }
     ],
     "prompt_number": 27
    },
    {
     "cell_type": "code",
     "collapsed": false,
     "input": [
      "mod.feat_imp()"
     ],
     "language": "python",
     "metadata": {},
     "outputs": [
      {
       "output_type": "stream",
       "stream": "stdout",
       "text": [
        "repayment_term: 21.9%\n",
        "loan_amount: 21.5%\n",
        "irregular_payments: 15.3%\n",
        "gender: 6.1%\n",
        "PH: 2.3%\n",
        "KH: 1.9%\n",
        "group_size: 1.7%\n",
        "SV: 1.6%\n",
        "bonus_credit_eligibility: 1.4%\n",
        "Agriculture: 1.4%\n",
        "pay_at_end: 1.4%\n",
        "NG: 1.1%\n",
        "Retail: 1.0%\n",
        "Housing: 1.0%\n",
        "KE: 1.0%\n",
        "Education: 0.9%\n",
        "UG: 0.8%\n",
        "theme_none: 0.7%\n",
        "Arts: 0.7%\n",
        "theme_Green: 0.7%\n",
        "theme_Water and Sanitation: 0.7%\n",
        "theme_Rural Exclusion: 0.7%\n",
        "ZW: 0.6%\n",
        "CO: 0.6%\n",
        "dollars: 0.6%\n",
        "HT: 0.5%\n",
        "theme_Innovative Loans: 0.5%\n",
        "theme_Underfunded Areas: 0.5%\n",
        "theme_Conflict Zones: 0.5%\n",
        "theme_Higher Education: 0.5%\n",
        "SN: 0.4%\n",
        "theme_Disaster recovery: 0.4%\n",
        "PS: 0.4%\n",
        "Manufacturing: 0.4%\n",
        "IN: 0.4%\n",
        "theme_Mobile Technology: 0.4%\n",
        "PK: 0.3%\n",
        "VN: 0.3%\n",
        "theme_Youth: 0.3%\n",
        "Food: 0.3%\n",
        "ID: 0.3%\n",
        "ML: 0.3%\n",
        "PY: 0.3%\n",
        "theme_Vulnerable Groups: 0.3%\n",
        "TJ: 0.3%\n",
        "Services: 0.3%\n",
        "PE: 0.3%\n",
        "Health: 0.2%\n",
        "EC: 0.2%\n",
        "Personal Use: 0.2%\n",
        "RW: 0.2%\n",
        "Clothing: 0.2%\n",
        "WS: 0.2%\n",
        "JO: 0.2%\n",
        "NI: 0.2%\n",
        "SL: 0.1%\n",
        "AM: 0.1%\n",
        "Transportation: 0.1%\n",
        "BO: 0.1%\n",
        "MX: 0.1%\n",
        "IQ: 0.1%\n",
        "TZ: 0.1%\n",
        "Construction: 0.1%\n",
        "YE: 0.1%\n",
        "TL: 0.1%\n",
        "HN: 0.1%\n",
        "CR: 0.1%\n",
        "theme_Start-Up: 0.1%\n",
        "UA: 0.1%\n",
        "LB: 0.1%\n",
        "GT: 0.1%\n",
        "theme_Arab Youth: 0.1%\n",
        "TG: 0.1%\n",
        "MZ: 0.1%\n",
        "GH: 0.1%\n",
        "LR: 0.1%\n",
        "LA: 0.1%\n",
        "US: 0.1%\n",
        "MN: 0.0%\n",
        "KG: 0.0%\n",
        "AZ: 0.0%\n",
        "theme_Islamic Finance: 0.0%\n",
        "GE: 0.0%\n",
        "MM: 0.0%\n",
        "theme_Growing Businesses: 0.0%\n",
        "CD: 0.0%\n",
        "XK: 0.0%\n",
        "theme_Flexible Credit Study: 0.0%\n",
        "theme_Job Creation: 0.0%\n",
        "AL: 0.0%\n",
        "BF: 0.0%\n",
        "BI: 0.0%\n",
        "ZM: 0.0%\n",
        "theme_Fair Trade: 0.0%\n",
        "Entertainment: 0.0%\n",
        "TR: 0.0%\n",
        "CM: 0.0%\n",
        "DO: 0.0%\n",
        "CG: 0.0%\n",
        "Wholesale: 0.0%\n",
        "theme_SME: 0.0%\n",
        "VC: 0.0%\n",
        "currency_loss: 0.0%\n",
        "NP: 0.0%\n",
        "BZ: 0.0%\n",
        "BJ: 0.0%\n",
        "MD: 0.0%\n",
        "theme_Health: 0.0%\n",
        "SR: 0.0%\n",
        "MW: 0.0%\n",
        "IL: 0.0%\n",
        "TH: 0.0%\n",
        "theme_Kiva City LA: 0.0%\n",
        "theme_Kiva City Detroit: 0.0%\n",
        "SO: 0.0%\n"
       ]
      }
     ],
     "prompt_number": 28
    },
    {
     "cell_type": "code",
     "collapsed": false,
     "input": [
      "reload(model)\n",
      "mod = model.funding_model()\n",
      "mod.transform_fit(augsep,weight= 2,leaf=5, trees=200, split=20, mf = 2)\n",
      "mod.predict(oct)\n",
      "mod.predict(nov)"
     ],
     "language": "python",
     "metadata": {},
     "outputs": [
      {
       "output_type": "stream",
       "stream": "stdout",
       "text": [
        "actl pos: 0.0511 pred pos: 0.252\n",
        "true pos: 0.048 false pos: 0.2039\n",
        "true neg: 0.7449 false neg: 0.0031\n",
        "recall: 0.939 precision: 0.1906\n",
        "\n",
        "actl pos:"
       ]
      },
      {
       "output_type": "stream",
       "stream": "stdout",
       "text": [
        " 0.1405 pred pos: 0.2712\n",
        "true pos: 0.1202 false pos: 0.1509\n",
        "true neg: 0.7086 false neg: 0.0202\n",
        "recall: 0.856 precision: 0.4434\n",
        "\n"
       ]
      }
     ],
     "prompt_number": 30
    },
    {
     "cell_type": "code",
     "collapsed": false,
     "input": [
      "reload(model)\n",
      "mod = model.funding_model()\n",
      "mod.transform_fit(augsep,weight= 2,leaf=2, trees=500, split=10, mf = 1)\n",
      "mod.predict(oct)\n",
      "mod.predict(nov)"
     ],
     "language": "python",
     "metadata": {},
     "outputs": [
      {
       "output_type": "stream",
       "stream": "stdout",
       "text": [
        "actl pos: 0.0511 pred pos: 0.1858\n",
        "true pos: 0.0439 false pos: 0.1418\n",
        "true neg: 0.807 false neg: 0.0072\n",
        "recall: 0.859 precision: 0.2365\n",
        "\n",
        "actl pos:"
       ]
      },
      {
       "output_type": "stream",
       "stream": "stdout",
       "text": [
        " 0.1405 pred pos: 0.1979\n",
        "true pos: 0.0993 false pos: 0.0986\n",
        "true neg: 0.761 false neg: 0.0412\n",
        "recall: 0.7069 precision: 0.5018\n",
        "\n"
       ]
      }
     ],
     "prompt_number": 31
    },
    {
     "cell_type": "code",
     "collapsed": false,
     "input": [
      "reload(model)\n",
      "mod = model.funding_model()\n",
      "mod.transform_fit(augsep,weight= 2,leaf=5, trees=200, split=20, mf = 2)\n",
      "mod.predict(oct)\n",
      "mod.predict(nov)"
     ],
     "language": "python",
     "metadata": {},
     "outputs": [
      {
       "output_type": "stream",
       "stream": "stdout",
       "text": [
        "actl pos: 0.0511 pred pos: 0.2511\n",
        "true pos: 0.0484 false pos: 0.2027\n",
        "true neg: 0.7462 false neg: 0.0028\n",
        "recall: 0.9462 precision: 0.1928\n",
        "\n",
        "actl pos:"
       ]
      },
      {
       "output_type": "stream",
       "stream": "stdout",
       "text": [
        " 0.1405 pred pos: 0.2751\n",
        "true pos: 0.1225 false pos: 0.1526\n",
        "true neg: 0.7069 false neg: 0.0179\n",
        "recall: 0.8723 precision: 0.4453\n",
        "\n"
       ]
      }
     ],
     "prompt_number": 56
    },
    {
     "cell_type": "code",
     "collapsed": false,
     "input": [
      "mod.feat_imp()"
     ],
     "language": "python",
     "metadata": {},
     "outputs": [
      {
       "output_type": "stream",
       "stream": "stdout",
       "text": [
        "loan_amount: 20.8%\n",
        "repayment_term: 19.2%\n",
        "monthly: 11.5%\n",
        "irregular_payments: 9.4%\n",
        "gender: 4.9%\n",
        "PH: 2.4%\n",
        "KH: 1.9%\n",
        "group_size: 1.7%\n",
        "bonus_credit_eligibility: 1.4%\n",
        "NG: 1.2%\n",
        "Agriculture: 1.2%\n",
        "KE: 1.1%\n",
        "Retail: 1.0%\n",
        "Education: 0.9%\n",
        "SV: 0.9%\n",
        "pay_at_end: 0.9%\n",
        "theme_none: 0.8%\n",
        "Housing: 0.8%\n",
        "ZW: 0.8%\n",
        "theme_Green: 0.7%\n",
        "Arts: 0.6%\n",
        "theme_Rural Exclusion: 0.6%\n",
        "theme_Water and Sanitation: 0.6%\n",
        "dollars: 0.6%\n",
        "HT: 0.6%\n",
        "PS: 0.5%\n",
        "UG: 0.5%\n",
        "theme_Innovative Loans: 0.5%\n",
        "theme_Underfunded Areas: 0.5%\n",
        "Food: 0.4%\n",
        "CO: 0.4%\n",
        "theme_Disaster recovery: 0.4%\n",
        "SN: 0.4%\n",
        "theme_Higher Education: 0.4%\n",
        "TJ: 0.4%\n",
        "Manufacturing: 0.4%\n",
        "Services: 0.4%\n",
        "Personal Use: 0.3%\n",
        "theme_Conflict Zones: 0.3%\n",
        "PY: 0.3%\n",
        "PK: 0.3%\n",
        "Clothing: 0.3%\n",
        "VN: 0.3%\n",
        "EC: 0.3%\n",
        "PE: 0.3%\n",
        "theme_Vulnerable Groups: 0.3%\n",
        "Health: 0.3%\n",
        "RW: 0.3%\n",
        "theme_Youth: 0.3%\n",
        "IN: 0.2%\n",
        "ML: 0.2%\n",
        "ID: 0.2%\n",
        "JO: 0.2%\n",
        "Transportation: 0.2%\n",
        "theme_Mobile Technology: 0.2%\n",
        "TZ: 0.2%\n",
        "AM: 0.2%\n",
        "WS: 0.2%\n",
        "IQ: 0.1%\n",
        "HN: 0.1%\n",
        "BO: 0.1%\n",
        "Construction: 0.1%\n",
        "SL: 0.1%\n",
        "NI: 0.1%\n",
        "MX: 0.1%\n",
        "YE: 0.1%\n",
        "LB: 0.1%\n",
        "GT: 0.1%\n",
        "CR: 0.1%\n",
        "theme_Start-Up: 0.1%\n",
        "TL: 0.1%\n",
        "UA: 0.1%\n",
        "MZ: 0.1%\n",
        "theme_Arab Youth: 0.1%\n",
        "theme_Job Creation: 0.1%\n",
        "GH: 0.1%\n",
        "GE: 0.1%\n",
        "TG: 0.1%\n",
        "theme_Islamic Finance: 0.1%\n",
        "MN: 0.1%\n",
        "AL: 0.1%\n",
        "AZ: 0.1%\n",
        "KG: 0.1%\n",
        "LA: 0.1%\n",
        "US: 0.0%\n",
        "MM: 0.0%\n",
        "LR: 0.0%\n",
        "theme_Growing Businesses: 0.0%\n",
        "XK: 0.0%\n",
        "CD: 0.0%\n",
        "BI: 0.0%\n",
        "theme_Flexible Credit Study: 0.0%\n",
        "BF: 0.0%\n",
        "ZM: 0.0%\n",
        "CM: 0.0%\n",
        "DO: 0.0%\n",
        "theme_Fair Trade: 0.0%\n",
        "Entertainment: 0.0%\n",
        "theme_SME: 0.0%\n",
        "TH: 0.0%\n",
        "MW: 0.0%\n",
        "Wholesale: 0.0%\n",
        "CG: 0.0%\n",
        "TR: 0.0%\n",
        "BZ: 0.0%\n",
        "NP: 0.0%\n",
        "SO: 0.0%\n",
        "SR: 0.0%\n",
        "theme_Kiva City LA: 0.0%\n",
        "theme_Health: 0.0%\n",
        "IL: 0.0%\n",
        "MD: 0.0%\n",
        "theme_Kiva City Detroit: 0.0%\n",
        "VC: 0.0%\n",
        "BJ: 0.0%\n",
        "currency_loss: 0.0%\n"
       ]
      }
     ],
     "prompt_number": 57
    },
    {
     "cell_type": "code",
     "collapsed": false,
     "input": [
      "reload(model)\n",
      "mod = model.funding_model()\n",
      "mod.transform_fit(augsep,weight= 3,leaf=5, trees=200, split=20, mf = 3)\n",
      "mod.predict(oct)\n",
      "mod.predict(nov)"
     ],
     "language": "python",
     "metadata": {},
     "outputs": [
      {
       "output_type": "stream",
       "stream": "stdout",
       "text": [
        "actl pos: 0.0511 pred pos: 0.2745\n",
        "true pos: 0.0488 false pos: 0.2256\n",
        "true neg: 0.7232 false neg: 0.0023\n",
        "recall: 0.9549 precision: 0.178\n",
        "\n",
        "actl pos:"
       ]
      },
      {
       "output_type": "stream",
       "stream": "stdout",
       "text": [
        " 0.1405 pred pos: 0.2917\n",
        "true pos: 0.1254 false pos: 0.1663\n",
        "true neg: 0.6932 false neg: 0.015\n",
        "recall: 0.8929 precision: 0.4299\n",
        "\n"
       ]
      }
     ],
     "prompt_number": 60
    },
    {
     "cell_type": "code",
     "collapsed": false,
     "input": [
      "reload(model)\n",
      "mod = model.funding_model()\n",
      "mod.transform_fit(augsep,weight= 3,leaf=5, trees=200, split=20, mf = 3, depth=4)\n",
      "mod.predict(oct)\n",
      "mod.predict(nov)"
     ],
     "language": "python",
     "metadata": {},
     "outputs": [
      {
       "output_type": "stream",
       "stream": "stdout",
       "text": [
        "actl pos: 0.0511 pred pos: 0.276\n",
        "true pos: 0.0491 false pos: 0.227\n",
        "true neg: 0.7219 false neg: 0.0021\n",
        "recall: 0.9593 precision: 0.1778\n",
        "\n",
        "actl pos:"
       ]
      },
      {
       "output_type": "stream",
       "stream": "stdout",
       "text": [
        " 0.1405 pred pos: 0.2944\n",
        "true pos: 0.1276 false pos: 0.1668\n",
        "true neg: 0.6927 false neg: 0.0129\n",
        "recall: 0.9083 precision: 0.4334\n",
        "\n"
       ]
      }
     ],
     "prompt_number": 61
    },
    {
     "cell_type": "code",
     "collapsed": false,
     "input": [
      "reload(model)\n",
      "mod = model.funding_model()\n",
      "mod.transform_fit(augsep,weight= 3,leaf=1, trees=200, split=2, mf = 3, depth=4)\n",
      "mod.predict(oct)\n",
      "mod.predict(nov)"
     ],
     "language": "python",
     "metadata": {},
     "outputs": [
      {
       "output_type": "stream",
       "stream": "stdout",
       "text": [
        "actl pos: 0.0511 pred pos: 0.031\n",
        "true pos: 0.0123 false pos: 0.0187\n",
        "true neg: 0.9302 false neg: 0.0388\n",
        "recall: 0.2413 precision: 0.3981\n",
        "\n",
        "actl pos:"
       ]
      },
      {
       "output_type": "stream",
       "stream": "stdout",
       "text": [
        " 0.1405 pred pos: 0.0277\n",
        "true pos: 0.0205 false pos: 0.0072\n",
        "true neg: 0.8523 false neg: 0.12\n",
        "recall: 0.1457 precision: 0.7391\n",
        "\n"
       ]
      }
     ],
     "prompt_number": 65
    },
    {
     "cell_type": "code",
     "collapsed": false,
     "input": [
      "reload(model)\n",
      "mod = model.funding_model()\n",
      "mod.transform_fit(augsep,weight= 3,leaf=1, trees=200, split=2, mf = 3, depth=2)\n",
      "mod.predict(oct)\n",
      "mod.predict(nov)"
     ],
     "language": "python",
     "metadata": {},
     "outputs": [
      {
       "output_type": "stream",
       "stream": "stdout",
       "text": [
        "actl pos: 0.0511 pred pos: 0.0291\n",
        "true pos: 0.0113 false pos: 0.0178\n",
        "true neg: 0.9311 false neg: 0.0398\n",
        "recall: 0.2209 precision: 0.3887\n",
        "\n",
        "actl pos:"
       ]
      },
      {
       "output_type": "stream",
       "stream": "stdout",
       "text": [
        " 0.1405 pred pos: 0.0279\n",
        "true pos: 0.0213 false pos: 0.0066\n",
        "true neg: 0.8529 false neg: 0.1191\n",
        "recall: 0.1517 precision: 0.7629\n",
        "\n"
       ]
      }
     ],
     "prompt_number": 64
    },
    {
     "cell_type": "code",
     "collapsed": false,
     "input": [
      "reload(model)\n",
      "mod = model.funding_model()\n",
      "mod.transform_fit(augsep,weight= 2,leaf=5, trees=200, mf = 3, depth=4)\n",
      "mod.predict(aug)\n",
      "mod.predict(sep)\n",
      "mod.predict(oct)\n",
      "mod.predict(nov)"
     ],
     "language": "python",
     "metadata": {},
     "outputs": [
      {
       "output_type": "stream",
       "stream": "stdout",
       "text": [
        "actl pos: 0.0871 pred pos: 0.3365\n",
        "true pos: 0.0843 false pos: 0.2522\n",
        "true neg: 0.6607 false neg: 0.0028\n",
        "recall: 0.968 precision: 0.2506\n",
        "\n",
        "actl pos:"
       ]
      },
      {
       "output_type": "stream",
       "stream": "stdout",
       "text": [
        " 0.0987 pred pos: 0.3201\n",
        "true pos: 0.0956 false pos: 0.2244\n",
        "true neg: 0.6769 false neg: 0.003\n",
        "recall: 0.9694 precision: 0.2988\n",
        "\n",
        "actl pos:"
       ]
      },
      {
       "output_type": "stream",
       "stream": "stdout",
       "text": [
        " 0.0511 pred pos: 0.3168\n",
        "true pos: 0.0496 false pos: 0.2672\n",
        "true neg: 0.6817 false neg: 0.0016\n",
        "recall: 0.9695 precision: 0.1565\n",
        "\n",
        "actl pos:"
       ]
      },
      {
       "output_type": "stream",
       "stream": "stdout",
       "text": [
        " 0.1405 pred pos: 0.3357\n",
        "true pos: 0.1307 false pos: 0.205\n",
        "true neg: 0.6546 false neg: 0.0097\n",
        "recall: 0.9306 precision: 0.3894\n",
        "\n"
       ]
      }
     ],
     "prompt_number": 78
    },
    {
     "cell_type": "code",
     "collapsed": false,
     "input": [
      "reload(model)\n",
      "mod = model.funding_model()\n",
      "mod.transform_fit(augsep, mod = \"oversamp\", weight= 2,leaf=5, trees=200, split=2, mf = 3, depth=4)\n",
      "mod.predict(aug)\n",
      "mod.predict(sep)\n",
      "mod.predict(oct)\n",
      "mod.predict(nov)"
     ],
     "language": "python",
     "metadata": {},
     "outputs": [
      {
       "output_type": "stream",
       "stream": "stdout",
       "text": [
        "actl pos: 0.0871 pred pos: 0.2294\n",
        "true pos: 0.0775 false pos: 0.1519\n",
        "true neg: 0.7609 false neg: 0.0096\n",
        "recall: 0.8893 precision: 0.3377\n",
        "\n",
        "actl pos:"
       ]
      },
      {
       "output_type": "stream",
       "stream": "stdout",
       "text": [
        " 0.0987 pred pos: 0.2082\n",
        "true pos: 0.0852 false pos: 0.123\n",
        "true neg: 0.7784 false neg: 0.0135\n",
        "recall: 0.8635 precision: 0.4092\n",
        "\n",
        "actl pos:"
       ]
      },
      {
       "output_type": "stream",
       "stream": "stdout",
       "text": [
        " 0.0511 pred pos: 0.2103\n",
        "true pos: 0.0456 false pos: 0.1647\n",
        "true neg: 0.7841 false neg: 0.0056\n",
        "recall: 0.891 precision: 0.2167\n",
        "\n",
        "actl pos:"
       ]
      },
      {
       "output_type": "stream",
       "stream": "stdout",
       "text": [
        " 0.1405 pred pos: 0.2265\n",
        "true pos: 0.1066 false pos: 0.1199\n",
        "true neg: 0.7397 false neg: 0.0338\n",
        "recall: 0.7592 precision: 0.4708\n",
        "\n"
       ]
      }
     ],
     "prompt_number": 81
    },
    {
     "cell_type": "code",
     "collapsed": false,
     "input": [
      "reload(model)\n",
      "mod = model.funding_model()\n",
      "mod.transform_fit(apsep,weight= 2,leaf=5, trees=200, mf = 3, depth=4)\n",
      "mod.predict(aug)\n",
      "mod.predict(sep)\n",
      "mod.predict(oct)\n",
      "mod.predict(nov)"
     ],
     "language": "python",
     "metadata": {},
     "outputs": [
      {
       "output_type": "stream",
       "stream": "stdout",
       "text": [
        "actl pos: 0.0871 pred pos: 0.3075\n",
        "true pos: 0.0831 false pos: 0.2243\n",
        "true neg: 0.6885 false neg: 0.004\n",
        "recall: 0.9541 precision: 0.2703\n",
        "\n",
        "actl pos:"
       ]
      },
      {
       "output_type": "stream",
       "stream": "stdout",
       "text": [
        " 0.0987 pred pos: 0.2953\n",
        "true pos: 0.0926 false pos: 0.2027\n",
        "true neg: 0.6986 false neg: 0.006\n",
        "recall: 0.9389 precision: 0.3136\n",
        "\n",
        "actl pos:"
       ]
      },
      {
       "output_type": "stream",
       "stream": "stdout",
       "text": [
        " 0.0511 pred pos: 0.2693\n",
        "true pos: 0.049 false pos: 0.2203\n",
        "true neg: 0.7286 false neg: 0.0022\n",
        "recall: 0.9578 precision: 0.1819\n",
        "\n",
        "actl pos:"
       ]
      },
      {
       "output_type": "stream",
       "stream": "stdout",
       "text": [
        " 0.1405 pred pos: 0.301\n",
        "true pos: 0.1272 false pos: 0.1738\n",
        "true neg: 0.6858 false neg: 0.0132\n",
        "recall: 0.9057 precision: 0.4226\n",
        "\n"
       ]
      }
     ],
     "prompt_number": 83
    },
    {
     "cell_type": "code",
     "collapsed": false,
     "input": [
      "mod.feat_imp()"
     ],
     "language": "python",
     "metadata": {},
     "outputs": [
      {
       "output_type": "stream",
       "stream": "stdout",
       "text": [
        "loan_amount: 21.5%\n",
        "repayment_term: 17.3%\n",
        "monthly: 13.7%\n",
        "irregular_payments: 9.1%\n",
        "gender: 6.8%\n",
        "PH: 2.6%\n",
        "KH: 1.6%\n",
        "group_size: 1.4%\n",
        "SV: 1.3%\n",
        "Agriculture: 1.2%\n",
        "bonus_credit_eligibility: 1.0%\n",
        "Education: 0.9%\n",
        "Housing: 0.9%\n",
        "ZW: 0.8%\n",
        "KE: 0.8%\n",
        "theme_none: 0.7%\n",
        "Retail: 0.7%\n",
        "pay_at_end: 0.7%\n",
        "NG: 0.7%\n",
        "CO: 0.6%\n",
        "theme_Water and Sanitation: 0.6%\n",
        "dollars: 0.6%\n",
        "PS: 0.6%\n",
        "UG: 0.6%\n",
        "theme_Rural Exclusion: 0.5%\n",
        "Arts: 0.5%\n",
        "theme_Mobile Technology: 0.5%\n",
        "theme_Innovative Loans: 0.5%\n",
        "theme_Disaster recovery: 0.4%\n",
        "theme_Underfunded Areas: 0.4%\n",
        "theme_Higher Education: 0.4%\n",
        "Manufacturing: 0.4%\n",
        "IQ: 0.4%\n",
        "theme_Youth: 0.3%\n",
        "VN: 0.3%\n",
        "PK: 0.3%\n",
        "TJ: 0.3%\n",
        "ID: 0.3%\n",
        "theme_Conflict Zones: 0.3%\n",
        "Health: 0.3%\n",
        "Clothing: 0.3%\n",
        "Services: 0.3%\n",
        "Food: 0.3%\n",
        "PY: 0.3%\n",
        "TZ: 0.3%\n",
        "PE: 0.3%\n",
        "NI: 0.3%\n",
        "HT: 0.2%\n",
        "LR: 0.2%\n",
        "SN: 0.2%\n",
        "ML: 0.2%\n",
        "theme_Green: 0.2%\n",
        "theme_Vulnerable Groups: 0.2%\n",
        "EC: 0.2%\n",
        "BJ: 0.2%\n",
        "Personal Use: 0.2%\n",
        "JO: 0.2%\n",
        "AM: 0.2%\n",
        "CR: 0.1%\n",
        "MX: 0.1%\n",
        "theme_Arab Youth: 0.1%\n",
        "theme_Start-Up: 0.1%\n",
        "WS: 0.1%\n",
        "theme_Job Creation: 0.1%\n",
        "Construction: 0.1%\n",
        "IN: 0.1%\n",
        "Transportation: 0.1%\n",
        "RW: 0.1%\n",
        "SL: 0.1%\n",
        "LB: 0.1%\n",
        "theme_Islamic Finance: 0.1%\n",
        "YE: 0.1%\n",
        "HN: 0.1%\n",
        "TL: 0.1%\n",
        "MN: 0.1%\n",
        "GT: 0.1%\n",
        "BO: 0.1%\n",
        "CM: 0.1%\n",
        "GE: 0.1%\n",
        "AZ: 0.1%\n",
        "SR: 0.0%\n",
        "AL: 0.0%\n",
        "theme_Fair Trade: 0.0%\n",
        "KG: 0.0%\n",
        "TG: 0.0%\n",
        "UA: 0.0%\n",
        "theme_Growing Businesses: 0.0%\n",
        "GH: 0.0%\n",
        "BZ: 0.0%\n",
        "CD: 0.0%\n",
        "XK: 0.0%\n",
        "MZ: 0.0%\n",
        "US: 0.0%\n",
        "theme_Flexible Credit Study: 0.0%\n",
        "ZM: 0.0%\n",
        "Wholesale: 0.0%\n",
        "BI: 0.0%\n",
        "LA: 0.0%\n",
        "BF: 0.0%\n",
        "ZA: 0.0%\n",
        "Entertainment: 0.0%\n",
        "MM: 0.0%\n",
        "DO: 0.0%\n",
        "NP: 0.0%\n",
        "TR: 0.0%\n",
        "theme_SME: 0.0%\n",
        "theme_Kiva City LA: 0.0%\n",
        "CG: 0.0%\n",
        "IL: 0.0%\n",
        "TH: 0.0%\n",
        "PA: 0.0%\n",
        "MW: 0.0%\n",
        "theme_Health: 0.0%\n",
        "VU: 0.0%\n",
        "SO: 0.0%\n",
        "BR: 0.0%\n",
        "theme_Kiva City Detroit: 0.0%\n",
        "MR: 0.0%\n",
        "MD: 0.0%\n",
        "currency_loss: 0.0%\n",
        "VC: 0.0%\n"
       ]
      }
     ],
     "prompt_number": 84
    },
    {
     "cell_type": "code",
     "collapsed": false,
     "input": [
      "reload(model)\n",
      "mod = model.funding_model()\n",
      "mod.transform_fit(apsep,weight= 2,leaf=5, trees=20, mf = 3, depth=4)\n",
      "mod.predict(aug)\n",
      "mod.predict(sep)\n",
      "mod.predict(oct)\n",
      "mod.predict(nov)"
     ],
     "language": "python",
     "metadata": {},
     "outputs": [
      {
       "output_type": "stream",
       "stream": "stdout",
       "text": [
        "actl pos: 0.0871 pred pos: 0.2962\n",
        "true pos: 0.081 false pos: 0.2153\n",
        "true neg: 0.6976 false neg: 0.0061\n",
        "recall: 0.9295 precision: 0.2733\n",
        "\n",
        "actl pos:"
       ]
      },
      {
       "output_type": "stream",
       "stream": "stdout",
       "text": [
        " 0.0987 pred pos: 0.2863\n",
        "true pos: 0.0897 false pos: 0.1965\n",
        "true neg: 0.7048 false neg: 0.0089\n",
        "recall: 0.9097 precision: 0.3135\n",
        "\n",
        "actl pos:"
       ]
      },
      {
       "output_type": "stream",
       "stream": "stdout",
       "text": [
        " 0.0511 pred pos: 0.2604\n",
        "true pos: 0.0465 false pos: 0.2138\n",
        "true neg: 0.735 false neg: 0.0046\n",
        "recall: 0.9099 precision: 0.1788\n",
        "\n",
        "actl pos:"
       ]
      },
      {
       "output_type": "stream",
       "stream": "stdout",
       "text": [
        " 0.1405 pred pos: 0.3109\n",
        "true pos: 0.1295 false pos: 0.1814\n",
        "true neg: 0.6782 false neg: 0.011\n",
        "recall: 0.922 precision: 0.4166\n",
        "\n"
       ]
      }
     ],
     "prompt_number": 85
    },
    {
     "cell_type": "code",
     "collapsed": false,
     "input": [
      "reload(model)\n",
      "mod = model.funding_model()\n",
      "mod.transform_fit(apsep,weight= 2,leaf=5, trees=20, mf = 3, depth=4)\n",
      "mod.predict(aug)\n",
      "mod.predict(sep)\n",
      "mod.predict(oct)\n",
      "mod.predict(nov)"
     ],
     "language": "python",
     "metadata": {},
     "outputs": [
      {
       "output_type": "stream",
       "stream": "stdout",
       "text": [
        "actl pos: 0.0871 pred pos: 0.3116\n",
        "true pos: 0.082 false pos: 0.2296\n",
        "true neg: 0.6833 false neg: 0.0051\n",
        "recall: 0.9418 precision: 0.2633\n",
        "\n",
        "actl pos:"
       ]
      },
      {
       "output_type": "stream",
       "stream": "stdout",
       "text": [
        " 0.0987 pred pos: 0.3011\n",
        "true pos: 0.0933 false pos: 0.2079\n",
        "true neg: 0.6935 false neg: 0.0054\n",
        "recall: 0.9453 precision: 0.3097\n",
        "\n",
        "actl pos:"
       ]
      },
      {
       "output_type": "stream",
       "stream": "stdout",
       "text": [
        " 0.0511 pred pos: 0.2774\n",
        "true pos: 0.0486 false pos: 0.2288\n",
        "true neg: 0.7201 false neg: 0.0025\n",
        "recall: 0.9506 precision: 0.1753\n",
        "\n",
        "actl pos:"
       ]
      },
      {
       "output_type": "stream",
       "stream": "stdout",
       "text": [
        " 0.1405 pred pos: 0.3047\n",
        "true pos: 0.1278 false pos: 0.1769\n",
        "true neg: 0.6826 false neg: 0.0126\n",
        "recall: 0.91 precision: 0.4194\n",
        "\n"
       ]
      }
     ],
     "prompt_number": 86
    },
    {
     "cell_type": "code",
     "collapsed": false,
     "input": [
      "reload(model)\n",
      "mod = model.funding_model()\n",
      "mod.transform_fit(apsep,weight= 1.5,leaf=5, trees=30, mf = 3, depth=4)\n",
      "mod.predict(jan)\n",
      "mod.predict(feb)\n",
      "mod.predict(march)\n",
      "\n",
      "mod.predict(aug)\n",
      "mod.predict(sep)\n",
      "mod.predict(oct)\n",
      "mod.predict(nov)"
     ],
     "language": "python",
     "metadata": {},
     "outputs": [
      {
       "output_type": "stream",
       "stream": "stdout",
       "text": [
        "actl pos: 0.0319 pred pos: 0.2419\n",
        "true pos: 0.0309 false pos: 0.2109\n",
        "true neg: 0.7572 false neg: 0.001\n",
        "recall: 0.9697 precision: 0.1279\n",
        "\n",
        "actl pos:"
       ]
      },
      {
       "output_type": "stream",
       "stream": "stdout",
       "text": [
        " 0.0126 pred pos: 0.241\n",
        "true pos: 0.012 false pos: 0.2291\n",
        "true neg: 0.7583 false neg: 0.0007\n",
        "recall: 0.9471 precision: 0.0496\n",
        "\n",
        "actl pos:"
       ]
      },
      {
       "output_type": "stream",
       "stream": "stdout",
       "text": [
        " 0.0069 pred pos: 0.2197\n",
        "true pos: 0.0069 false pos: 0.2128\n",
        "true neg: 0.7803 false neg: 0.0\n",
        "recall: 1.0 precision: 0.0314\n",
        "\n",
        "actl pos:"
       ]
      },
      {
       "output_type": "stream",
       "stream": "stdout",
       "text": [
        " 0.0871 pred pos: 0.2879\n",
        "true pos: 0.0819 false pos: 0.206\n",
        "true neg: 0.7069 false neg: 0.0052\n",
        "recall: 0.9401 precision: 0.2845\n",
        "\n",
        "actl pos:"
       ]
      },
      {
       "output_type": "stream",
       "stream": "stdout",
       "text": [
        " 0.0987 pred pos: 0.275\n",
        "true pos: 0.0917 false pos: 0.1833\n",
        "true neg: 0.7181 false neg: 0.0069\n",
        "recall: 0.9296 precision: 0.3335\n",
        "\n",
        "actl pos:"
       ]
      },
      {
       "output_type": "stream",
       "stream": "stdout",
       "text": [
        " 0.0511 pred pos: 0.2475\n",
        "true pos: 0.0483 false pos: 0.1992\n",
        "true neg: 0.7497 false neg: 0.0028\n",
        "recall: 0.9448 precision: 0.1953\n",
        "\n",
        "actl pos:"
       ]
      },
      {
       "output_type": "stream",
       "stream": "stdout",
       "text": [
        " 0.1405 pred pos: 0.2825\n",
        "true pos: 0.1243 false pos: 0.1581\n",
        "true neg: 0.7014 false neg: 0.0161\n",
        "recall: 0.8852 precision: 0.4401\n",
        "\n"
       ]
      }
     ],
     "prompt_number": 88
    },
    {
     "cell_type": "code",
     "collapsed": false,
     "input": [
      "march[march.expired].count()"
     ],
     "language": "python",
     "metadata": {},
     "outputs": [
      {
       "metadata": {},
       "output_type": "pyout",
       "prompt_number": 92,
       "text": [
        "activity                    99\n",
        "bonus_credit_eligibility    99\n",
        "country                     99\n",
        "currency_loss               99\n",
        "dollars                     99\n",
        "expired                     99\n",
        "gender                      99\n",
        "group_size                  99\n",
        "irregular_payments          99\n",
        "loan_amount                 99\n",
        "pay_at_end                  99\n",
        "posted_date                 99\n",
        "repayment_term              99\n",
        "sector                      99\n",
        "tags                        99\n",
        "themes                      41\n",
        "use                         99\n",
        "monthly                     99\n",
        "dtype: int64"
       ]
      }
     ],
     "prompt_number": 92
    },
    {
     "cell_type": "code",
     "collapsed": false,
     "input": [
      "mod.feat_imp()"
     ],
     "language": "python",
     "metadata": {},
     "outputs": [
      {
       "output_type": "stream",
       "stream": "stdout",
       "text": [
        "repayment_term: 20.7%\n",
        "loan_amount: 20.5%\n",
        "irregular_payments: 10.7%\n",
        "monthly: 8.8%\n",
        "gender: 8.2%\n",
        "PH: 2.2%\n",
        "group_size: 1.8%\n",
        "KH: 1.8%\n",
        "Agriculture: 1.6%\n",
        "pay_at_end: 1.5%\n",
        "SV: 1.2%\n",
        "Education: 1.1%\n",
        "bonus_credit_eligibility: 1.0%\n",
        "NG: 0.9%\n",
        "KE: 0.9%\n",
        "Retail: 0.8%\n",
        "theme_none: 0.7%\n",
        "dollars: 0.7%\n",
        "ZW: 0.6%\n",
        "theme_Water and Sanitation: 0.5%\n",
        "theme_Innovative Loans: 0.5%\n",
        "PS: 0.5%\n",
        "theme_Conflict Zones: 0.5%\n",
        "Manufacturing: 0.5%\n",
        "Housing: 0.4%\n",
        "theme_Rural Exclusion: 0.4%\n",
        "theme_Youth: 0.4%\n",
        "CO: 0.4%\n",
        "Clothing: 0.4%\n",
        "theme_Higher Education: 0.4%\n",
        "Arts: 0.4%\n",
        "IQ: 0.4%\n",
        "theme_Underfunded Areas: 0.4%\n",
        "Health: 0.4%\n",
        "VN: 0.3%\n",
        "Services: 0.3%\n",
        "UG: 0.3%\n",
        "Food: 0.3%\n",
        "PY: 0.3%\n",
        "LR: 0.3%\n",
        "TZ: 0.3%\n",
        "PK: 0.3%\n",
        "HT: 0.3%\n",
        "SN: 0.2%\n",
        "theme_Green: 0.2%\n",
        "SL: 0.2%\n",
        "EC: 0.2%\n",
        "NI: 0.2%\n",
        "TJ: 0.2%\n",
        "PE: 0.2%\n",
        "theme_Vulnerable Groups: 0.2%\n",
        "theme_Disaster recovery: 0.2%\n",
        "Construction: 0.2%\n",
        "BJ: 0.2%\n",
        "Personal Use: 0.2%\n",
        "MX: 0.2%\n",
        "CR: 0.2%\n",
        "theme_Start-Up: 0.1%\n",
        "JO: 0.1%\n",
        "RW: 0.1%\n",
        "ML: 0.1%\n",
        "YE: 0.1%\n",
        "TL: 0.1%\n",
        "theme_Mobile Technology: 0.1%\n",
        "ID: 0.1%\n",
        "Transportation: 0.1%\n",
        "theme_Islamic Finance: 0.1%\n",
        "LB: 0.1%\n",
        "theme_Job Creation: 0.1%\n",
        "IN: 0.1%\n",
        "theme_Arab Youth: 0.1%\n",
        "WS: 0.1%\n",
        "MN: 0.1%\n",
        "AM: 0.1%\n",
        "GT: 0.1%\n",
        "AZ: 0.1%\n",
        "CM: 0.1%\n",
        "HN: 0.1%\n",
        "theme_Growing Businesses: 0.1%\n",
        "MZ: 0.0%\n",
        "GE: 0.0%\n",
        "SR: 0.0%\n",
        "KG: 0.0%\n",
        "AL: 0.0%\n",
        "BO: 0.0%\n",
        "XK: 0.0%\n",
        "BZ: 0.0%\n",
        "CD: 0.0%\n",
        "TG: 0.0%\n",
        "UA: 0.0%\n",
        "GH: 0.0%\n",
        "BF: 0.0%\n",
        "LA: 0.0%\n",
        "theme_Fair Trade: 0.0%\n",
        "Wholesale: 0.0%\n",
        "Entertainment: 0.0%\n",
        "ZM: 0.0%\n",
        "US: 0.0%\n",
        "ZA: 0.0%\n",
        "MM: 0.0%\n",
        "TR: 0.0%\n",
        "BI: 0.0%\n",
        "NP: 0.0%\n",
        "DO: 0.0%\n",
        "theme_SME: 0.0%\n",
        "theme_Kiva City LA: 0.0%\n",
        "PA: 0.0%\n",
        "CG: 0.0%\n",
        "theme_Flexible Credit Study: 0.0%\n",
        "currency_loss: 0.0%\n",
        "SO: 0.0%\n",
        "BR: 0.0%\n",
        "VU: 0.0%\n",
        "MD: 0.0%\n",
        "VC: 0.0%\n",
        "TH: 0.0%\n",
        "MW: 0.0%\n",
        "MR: 0.0%\n",
        "IL: 0.0%\n",
        "theme_Health: 0.0%\n",
        "theme_Kiva City Detroit: 0.0%\n"
       ]
      }
     ],
     "prompt_number": 94
    },
    {
     "cell_type": "code",
     "collapsed": false,
     "input": [
      "reload(model)\n",
      "mod = model.funding_model()\n",
      "mod.transform_fit(augsep,mod='SVM')\n",
      "mod.predict(sep)\n",
      "mod.predict(oct)\n",
      "mod.predict(nov)"
     ],
     "language": "python",
     "metadata": {},
     "outputs": [
      {
       "output_type": "stream",
       "stream": "stdout",
       "text": [
        "actl pos: 0.0987 pred pos: 0.3301\n",
        "true pos: 0.0871 false pos: 0.243\n",
        "true neg: 0.6583 false neg: 0.0116\n",
        "recall: 0.8827 precision: 0.2638\n",
        "\n",
        "actl pos:"
       ]
      },
      {
       "output_type": "stream",
       "stream": "stdout",
       "text": [
        " 0.0511 pred pos: 0.3357\n",
        "true pos: 0.0433 false pos: 0.2925\n",
        "true neg: 0.6564 false neg: 0.0079\n",
        "recall: 0.8459 precision: 0.1289\n",
        "\n",
        "actl pos:"
       ]
      },
      {
       "output_type": "stream",
       "stream": "stdout",
       "text": [
        " 0.1405 pred pos: 0.3294\n",
        "true pos: 0.1122 false pos: 0.2172\n",
        "true neg: 0.6423 false neg: 0.0283\n",
        "recall: 0.7986 precision: 0.3405\n",
        "\n"
       ]
      }
     ],
     "prompt_number": 96
    },
    {
     "cell_type": "code",
     "collapsed": false,
     "input": [
      "ag = df[df.sector=='Agriculture']"
     ],
     "language": "python",
     "metadata": {},
     "outputs": [],
     "prompt_number": 100
    },
    {
     "cell_type": "code",
     "collapsed": false,
     "input": [
      "mod.predict(ag)"
     ],
     "language": "python",
     "metadata": {},
     "outputs": [
      {
       "output_type": "stream",
       "stream": "stdout",
       "text": [
        "actl pos: 0.0449 pred pos: 0.3574\n",
        "true pos: 0.0368 false pos: 0.3206\n",
        "true neg: 0.6345 false neg: 0.0081\n",
        "recall: 0.8204 precision: 0.103\n",
        "\n"
       ]
      }
     ],
     "prompt_number": 101
    },
    {
     "cell_type": "code",
     "collapsed": false,
     "input": [
      "len(df.activity.unique())"
     ],
     "language": "python",
     "metadata": {},
     "outputs": [
      {
       "metadata": {},
       "output_type": "pyout",
       "prompt_number": 105,
       "text": [
        "149"
       ]
      }
     ],
     "prompt_number": 105
    },
    {
     "cell_type": "code",
     "collapsed": false,
     "input": [
      "df.shape"
     ],
     "language": "python",
     "metadata": {},
     "outputs": [
      {
       "metadata": {},
       "output_type": "pyout",
       "prompt_number": 106,
       "text": [
        "(141250, 18)"
       ]
      }
     ],
     "prompt_number": 106
    },
    {
     "cell_type": "code",
     "collapsed": false,
     "input": [
      "len(df.use.unique())"
     ],
     "language": "python",
     "metadata": {},
     "outputs": [
      {
       "metadata": {},
       "output_type": "pyout",
       "prompt_number": 109,
       "text": [
        "102074"
       ]
      }
     ],
     "prompt_number": 109
    },
    {
     "cell_type": "code",
     "collapsed": false,
     "input": [
      "df.shape"
     ],
     "language": "python",
     "metadata": {},
     "outputs": [
      {
       "metadata": {},
       "output_type": "pyout",
       "prompt_number": 110,
       "text": [
        "(141250, 18)"
       ]
      }
     ],
     "prompt_number": 110
    },
    {
     "cell_type": "code",
     "collapsed": false,
     "input": [
      "df.activity"
     ],
     "language": "python",
     "metadata": {},
     "outputs": [
      {
       "metadata": {},
       "output_type": "pyout",
       "prompt_number": 111,
       "text": [
        "638631                            Retail\n",
        "641006            Higher education costs\n",
        "641019            Higher education costs\n",
        "641594                           Farming\n",
        "642256                          Services\n",
        "642311                       Food Market\n",
        "642353                       Soft Drinks\n",
        "642386                    Clothing Sales\n",
        "642429                            Crafts\n",
        "642836                   Phone Use Sales\n",
        "643267                       Food Market\n",
        "643288    Primary/secondary school costs\n",
        "643402                       Agriculture\n",
        "643761             Construction Supplies\n",
        "644101                      Fish Selling\n",
        "...\n",
        "797968           Food Production/Sales\n",
        "797970                       Tailoring\n",
        "797971    Cloth & Dressmaking Supplies\n",
        "797972                   General Store\n",
        "797973                         Farming\n",
        "797974                         Farming\n",
        "797977                    Animal Sales\n",
        "797978                         Farming\n",
        "797979                  Charcoal Sales\n",
        "797980                Waste Management\n",
        "797982                          Cement\n",
        "797983                      Food Stall\n",
        "797984                    Beauty Salon\n",
        "797985                     Food Market\n",
        "797987                  Charcoal Sales\n",
        "Name: activity, Length: 141250, dtype: object"
       ]
      }
     ],
     "prompt_number": 111
    },
    {
     "cell_type": "code",
     "collapsed": false,
     "input": [
      "df.activity.map(lambda x: \"act: \" + x)"
     ],
     "language": "python",
     "metadata": {},
     "outputs": [
      {
       "metadata": {},
       "output_type": "pyout",
       "prompt_number": 112,
       "text": [
        "638631                            act: Retail\n",
        "641006            act: Higher education costs\n",
        "641019            act: Higher education costs\n",
        "641594                           act: Farming\n",
        "642256                          act: Services\n",
        "642311                       act: Food Market\n",
        "642353                       act: Soft Drinks\n",
        "642386                    act: Clothing Sales\n",
        "642429                            act: Crafts\n",
        "642836                   act: Phone Use Sales\n",
        "643267                       act: Food Market\n",
        "643288    act: Primary/secondary school costs\n",
        "643402                       act: Agriculture\n",
        "643761             act: Construction Supplies\n",
        "644101                      act: Fish Selling\n",
        "...\n",
        "797968           act: Food Production/Sales\n",
        "797970                       act: Tailoring\n",
        "797971    act: Cloth & Dressmaking Supplies\n",
        "797972                   act: General Store\n",
        "797973                         act: Farming\n",
        "797974                         act: Farming\n",
        "797977                    act: Animal Sales\n",
        "797978                         act: Farming\n",
        "797979                  act: Charcoal Sales\n",
        "797980                act: Waste Management\n",
        "797982                          act: Cement\n",
        "797983                      act: Food Stall\n",
        "797984                    act: Beauty Salon\n",
        "797985                     act: Food Market\n",
        "797987                  act: Charcoal Sales\n",
        "Name: activity, Length: 141250, dtype: object"
       ]
      }
     ],
     "prompt_number": 112
    },
    {
     "cell_type": "code",
     "collapsed": false,
     "input": [
      "adum = pd.get_dummies(df.activity)"
     ],
     "language": "python",
     "metadata": {},
     "outputs": [],
     "prompt_number": 113
    },
    {
     "cell_type": "code",
     "collapsed": false,
     "input": [
      "adum.mean()"
     ],
     "language": "python",
     "metadata": {},
     "outputs": [
      {
       "metadata": {},
       "output_type": "pyout",
       "prompt_number": 117,
       "text": [
        "Agriculture         0.047667\n",
        "Air Conditioning    0.000064\n",
        "Animal Sales        0.015781\n",
        "Arts                0.001041\n",
        "Auto Repair         0.002237\n",
        "Bakery              0.005508\n",
        "Balut-Making        0.000078\n",
        "Barber Shop         0.001550\n",
        "Beauty Salon        0.009508\n",
        "Bicycle Repair      0.000333\n",
        "Bicycle Sales       0.000078\n",
        "Blacksmith          0.000786\n",
        "Bookbinding         0.000064\n",
        "Bookstore           0.000765\n",
        "Bricks              0.000814\n",
        "...\n",
        "Transportation        0.006619\n",
        "Traveling Sales       0.000212\n",
        "Upholstery            0.000234\n",
        "Used Clothing         0.007596\n",
        "Used Shoes            0.001083\n",
        "Utilities             0.000276\n",
        "Vehicle               0.002605\n",
        "Vehicle Repairs       0.001090\n",
        "Veterinary Sales      0.000297\n",
        "Waste Management      0.000609\n",
        "Water Distribution    0.001055\n",
        "Weaving               0.003455\n",
        "Wedding Expenses      0.000581\n",
        "Well digging          0.000085\n",
        "Wholesale             0.000566\n",
        "Length: 149, dtype: float64"
       ]
      }
     ],
     "prompt_number": 117
    },
    {
     "cell_type": "code",
     "collapsed": false,
     "input": [
      "reload(model)\n",
      "mod = model.funding_model()\n",
      "mod.transform_fit(apsep,weight= 1.5,leaf=5, trees=30, mf = 3, depth=4)\n",
      "mod.predict(jan)\n",
      "mod.predict(feb)\n",
      "mod.predict(march)\n",
      "\n",
      "mod.predict(aug)\n",
      "mod.predict(sep)\n",
      "mod.predict(oct)\n",
      "mod.predict(nov)"
     ],
     "language": "python",
     "metadata": {},
     "outputs": [
      {
       "output_type": "stream",
       "stream": "stdout",
       "text": [
        "actl pos: 0.0319 pred pos: 0.2357\n",
        "true pos: 0.0307 false pos: 0.205\n",
        "true neg: 0.7631 false neg: 0.0012\n",
        "recall: 0.963 precision: 0.1303\n",
        "\n",
        "actl pos:"
       ]
      },
      {
       "output_type": "stream",
       "stream": "stdout",
       "text": [
        " 0.0126 pred pos: 0.2205\n",
        "true pos: 0.0111 false pos: 0.2094\n",
        "true neg: 0.7779 false neg: 0.0016\n",
        "recall: 0.8765 precision: 0.0502\n",
        "\n",
        "actl pos:"
       ]
      },
      {
       "output_type": "stream",
       "stream": "stdout",
       "text": [
        " 0.0069 pred pos: 0.2109\n",
        "true pos: 0.0069 false pos: 0.204\n",
        "true neg: 0.7891 false neg: 0.0\n",
        "recall: 1.0 precision: 0.0327\n",
        "\n",
        "actl pos:"
       ]
      },
      {
       "output_type": "stream",
       "stream": "stdout",
       "text": [
        " 0.0871 pred pos: 0.2778\n",
        "true pos: 0.0796 false pos: 0.1982\n",
        "true neg: 0.7147 false neg: 0.0075\n",
        "recall: 0.9139 precision: 0.2866\n",
        "\n",
        "actl pos:"
       ]
      },
      {
       "output_type": "stream",
       "stream": "stdout",
       "text": [
        " 0.0987 pred pos: 0.2684\n",
        "true pos: 0.0887 false pos: 0.1797\n",
        "true neg: 0.7216 false neg: 0.01\n",
        "recall: 0.8991 precision: 0.3305\n",
        "\n",
        "actl pos:"
       ]
      },
      {
       "output_type": "stream",
       "stream": "stdout",
       "text": [
        " 0.0511 pred pos: 0.2361\n",
        "true pos: 0.046 false pos: 0.1901\n",
        "true neg: 0.7588 false neg: 0.0051\n",
        "recall: 0.8997 precision: 0.1949\n",
        "\n",
        "actl pos:"
       ]
      },
      {
       "output_type": "stream",
       "stream": "stdout",
       "text": [
        " 0.1405 pred pos: 0.276\n",
        "true pos: 0.122 false pos: 0.1539\n",
        "true neg: 0.7056 false neg: 0.0184\n",
        "recall: 0.8689 precision: 0.4422\n",
        "\n"
       ]
      }
     ],
     "prompt_number": 21
    },
    {
     "cell_type": "code",
     "collapsed": false,
     "input": [
      "reload(model)\n",
      "mod = model.funding_model()\n",
      "mod.transform_fit(augsep,weight= 2,leaf=5, trees=50, mf = 10, depth=7)\n",
      "print 'jan'\n",
      "mod.predict(jan)\n",
      "print 'feb'\n",
      "mod.predict(feb)\n",
      "print 'march'\n",
      "mod.predict(march)\n",
      "print 'april'\n",
      "mod.predict(april)\n",
      "print 'may'\n",
      "mod.predict(may)\n",
      "print 'june'\n",
      "mod.predict(june)\n",
      "print 'july'\n",
      "mod.predict(july)\n",
      "print 'august'\n",
      "mod.predict(aug)\n",
      "print 'sep'\n",
      "mod.predict(sep)\n",
      "print 'oct'\n",
      "mod.predict(oct)\n",
      "print 'nov'\n",
      "mod.predict(nov)\n",
      "print 'apsep'\n",
      "mod.predict(apsep)\n",
      "print 'augsep'\n",
      "mod.predict(augsep)"
     ],
     "language": "python",
     "metadata": {},
     "outputs": [
      {
       "output_type": "stream",
       "stream": "stdout",
       "text": [
        "jan\n",
        "249"
       ]
      },
      {
       "output_type": "stream",
       "stream": "stdout",
       "text": [
        "\n",
        "263\n",
        "249\n",
        "263\n",
        "18\n",
        "4\n",
        "actl pos:"
       ]
      },
      {
       "output_type": "stream",
       "stream": "stdout",
       "text": [
        " 0.0319 pred pos: 0.312\n",
        "true pos: 0.0315 false pos: 0.2805\n",
        "true neg: 0.6876 false neg: 0.0004\n",
        "recall: 0.9865 precision: 0.1009\n",
        "\n",
        "feb\n",
        "255"
       ]
      },
      {
       "output_type": "stream",
       "stream": "stdout",
       "text": [
        "\n",
        "263\n",
        "255\n",
        "263\n",
        "12\n",
        "4\n",
        "actl pos:"
       ]
      },
      {
       "output_type": "stream",
       "stream": "stdout",
       "text": [
        " 0.0126 pred pos: 0.2853\n",
        "true pos: 0.0122 false pos: 0.2731\n",
        "true neg: 0.7143 false neg: 0.0004\n",
        "recall: 0.9647 precision: 0.0427\n",
        "\n",
        "march\n",
        "255"
       ]
      },
      {
       "output_type": "stream",
       "stream": "stdout",
       "text": [
        "\n",
        "263\n",
        "255\n",
        "263\n",
        "10\n",
        "2\n",
        "actl pos:"
       ]
      },
      {
       "output_type": "stream",
       "stream": "stdout",
       "text": [
        " 0.0069 pred pos: 0.2752\n",
        "true pos: 0.0069 false pos: 0.2683\n",
        "true neg: 0.7248 false neg: 0.0\n",
        "recall: 1.0 precision: 0.0251\n",
        "\n",
        "april\n",
        "253"
       ]
      },
      {
       "output_type": "stream",
       "stream": "stdout",
       "text": [
        "\n",
        "263\n",
        "253\n",
        "263\n",
        "13\n",
        "3\n",
        "actl pos:"
       ]
      },
      {
       "output_type": "stream",
       "stream": "stdout",
       "text": [
        " 0.0408 pred pos: 0.2869\n",
        "true pos: 0.0377 false pos: 0.2492\n",
        "true neg: 0.71 false neg: 0.0031\n",
        "recall: 0.9234 precision: 0.1313\n",
        "\n",
        "may\n",
        "255"
       ]
      },
      {
       "output_type": "stream",
       "stream": "stdout",
       "text": [
        "\n",
        "263\n",
        "255\n",
        "263\n",
        "10\n",
        "2\n",
        "actl pos:"
       ]
      },
      {
       "output_type": "stream",
       "stream": "stdout",
       "text": [
        " 0.0473 pred pos: 0.3345\n",
        "true pos: 0.0443 false pos: 0.2903\n",
        "true neg: 0.6624 false neg: 0.0031\n",
        "recall: 0.9352 precision: 0.1323\n",
        "\n",
        "june\n",
        "257"
       ]
      },
      {
       "output_type": "stream",
       "stream": "stdout",
       "text": [
        "\n",
        "263\n",
        "257\n",
        "263\n",
        "8\n",
        "2\n",
        "actl pos:"
       ]
      },
      {
       "output_type": "stream",
       "stream": "stdout",
       "text": [
        " 0.0583 pred pos: 0.3419\n",
        "true pos: 0.0557 false pos: 0.2862\n",
        "true neg: 0.6555 false neg: 0.0026\n",
        "recall: 0.9552 precision: 0.1629\n",
        "\n",
        "july\n",
        "255"
       ]
      },
      {
       "output_type": "stream",
       "stream": "stdout",
       "text": [
        "\n",
        "263\n",
        "255\n",
        "263\n",
        "10\n",
        "2\n",
        "actl pos:"
       ]
      },
      {
       "output_type": "stream",
       "stream": "stdout",
       "text": [
        " 0.0315 pred pos: 0.2965\n",
        "true pos: 0.0303 false pos: 0.2662\n",
        "true neg: 0.7023 false neg: 0.0012\n",
        "recall: 0.9611 precision: 0.1021\n",
        "\n",
        "august\n",
        "258"
       ]
      },
      {
       "output_type": "stream",
       "stream": "stdout",
       "text": [
        "\n",
        "263\n",
        "258\n",
        "263\n",
        "5\n",
        "0\n",
        "actl pos:"
       ]
      },
      {
       "output_type": "stream",
       "stream": "stdout",
       "text": [
        " 0.0871 pred pos: 0.3402\n",
        "true pos: 0.0833 false pos: 0.2569\n",
        "true neg: 0.656 false neg: 0.0038\n",
        "recall: 0.9565 precision: 0.245\n",
        "\n",
        "sep\n",
        "260"
       ]
      },
      {
       "output_type": "stream",
       "stream": "stdout",
       "text": [
        "\n",
        "263\n",
        "260\n",
        "263\n",
        "3\n",
        "0\n",
        "actl pos:"
       ]
      },
      {
       "output_type": "stream",
       "stream": "stdout",
       "text": [
        " 0.0987 pred pos: 0.3123\n",
        "true pos: 0.0949 false pos: 0.2174\n",
        "true neg: 0.6839 false neg: 0.0038\n",
        "recall: 0.9616 precision: 0.3038\n",
        "\n",
        "oct\n",
        "258"
       ]
      },
      {
       "output_type": "stream",
       "stream": "stdout",
       "text": [
        "\n",
        "263\n",
        "258\n",
        "263\n",
        "8\n",
        "3\n",
        "actl pos:"
       ]
      },
      {
       "output_type": "stream",
       "stream": "stdout",
       "text": [
        " 0.0511 pred pos: 0.3192\n",
        "true pos: 0.0494 false pos: 0.2699\n",
        "true neg: 0.679 false neg: 0.0018\n",
        "recall: 0.9651 precision: 0.1546\n",
        "\n",
        "nov\n",
        "252"
       ]
      },
      {
       "output_type": "stream",
       "stream": "stdout",
       "text": [
        "\n",
        "263\n",
        "252\n",
        "263\n",
        "16\n",
        "5\n",
        "actl pos:"
       ]
      },
      {
       "output_type": "stream",
       "stream": "stdout",
       "text": [
        " 0.1405 pred pos: 0.3371\n",
        "true pos: 0.132 false pos: 0.2051\n",
        "true neg: 0.6545 false neg: 0.0084\n",
        "recall: 0.94 precision: 0.3916\n",
        "\n",
        "apsep\n",
        "268"
       ]
      },
      {
       "output_type": "stream",
       "stream": "stdout",
       "text": [
        "\n",
        "263\n",
        "268\n",
        "263\n",
        "0\n",
        "5\n",
        "actl pos:"
       ]
      },
      {
       "output_type": "stream",
       "stream": "stdout",
       "text": [
        " 0.0611 pred pos: 0.3264\n",
        "true pos: 0.0595 false pos: 0.2669\n",
        "true neg: 0.672 false neg: 0.0016\n",
        "recall: 0.9744 precision: 0.1824\n",
        "\n",
        "augsep"
       ]
      },
      {
       "output_type": "stream",
       "stream": "stdout",
       "text": [
        "\n",
        "263"
       ]
      },
      {
       "output_type": "stream",
       "stream": "stdout",
       "text": [
        "\n",
        "263\n",
        "263\n",
        "263\n",
        "0\n",
        "0\n",
        "actl pos:"
       ]
      },
      {
       "output_type": "stream",
       "stream": "stdout",
       "text": [
        " 0.0929 pred pos: 0.3375\n",
        "true pos: 0.0913 false pos: 0.2462\n",
        "true neg: 0.6609 false neg: 0.0016\n",
        "recall: 0.9829 precision: 0.2706\n",
        "\n"
       ]
      }
     ],
     "prompt_number": 35
    },
    {
     "cell_type": "code",
     "collapsed": false,
     "input": [
      "mod.feat_imp()"
     ],
     "language": "python",
     "metadata": {},
     "outputs": [
      {
       "output_type": "stream",
       "stream": "stdout",
       "text": [
        "repayment_term: 18.8%\n",
        "loan_amount: 18.3%\n",
        "monthly: 13.0%\n",
        "irregular_payments: 8.1%\n",
        "gender: 6.3%\n",
        "PH: 2.4%\n",
        "group_size: 1.4%\n",
        "KH: 1.3%\n",
        "SV: 1.2%\n",
        "Agriculture: 1.1%\n",
        "bonus_credit_eligibility: 1.0%\n",
        "pay_at_end: 0.8%\n",
        "ZW: 0.8%\n",
        "Housing: 0.8%\n",
        "Retail: 0.8%\n",
        "dollars: 0.8%\n",
        "theme_none: 0.7%\n",
        "Education: 0.7%\n",
        "NG: 0.7%\n",
        "KE: 0.6%\n",
        "theme_Water and Sanitation: 0.6%\n",
        "theme_Disaster recovery: 0.6%\n",
        "theme_Innovative Loans: 0.6%\n",
        "Arts: 0.6%\n",
        "act: Personal Housing Expenses: 0.5%\n",
        "CO: 0.5%\n",
        "act: Farming: 0.5%\n",
        "PS: 0.5%\n",
        "UG: 0.5%\n",
        "theme_Rural Exclusion: 0.4%\n",
        "theme_Youth: 0.4%\n",
        "theme_Underfunded Areas: 0.4%\n",
        "LR: 0.4%\n",
        "NI: 0.4%\n",
        "Manufacturing: 0.3%\n",
        "theme_Conflict Zones: 0.3%\n",
        "act: Higher education costs: 0.3%\n",
        "act: Sewing: 0.3%\n",
        "VN: 0.3%\n",
        "ID: 0.3%\n",
        "theme_Higher Education: 0.3%\n",
        "Health: 0.3%\n",
        "act: Clothing Sales: 0.3%\n",
        "act: Agriculture: 0.3%\n",
        "PE: 0.3%\n",
        "PK: 0.3%\n",
        "Clothing: 0.3%\n",
        "theme_Mobile Technology: 0.3%\n",
        "act: Pigs: 0.2%\n",
        "TJ: 0.2%\n",
        "TZ: 0.2%\n",
        "theme_Vulnerable Groups: 0.2%\n",
        "IQ: 0.2%\n",
        "Food: 0.2%\n",
        "PY: 0.2%\n",
        "ML: 0.2%\n",
        "SN: 0.2%\n",
        "BJ: 0.2%\n",
        "EC: 0.2%\n",
        "act: Home Energy: 0.2%\n",
        "Services: 0.2%\n",
        "theme_Green: 0.2%\n",
        "AM: 0.2%\n",
        "Personal Use: 0.2%\n",
        "act: General Store: 0.2%\n",
        "act: Primary/secondary school costs: 0.2%\n",
        "HT: 0.2%\n",
        "CR: 0.2%\n",
        "act: Retail: 0.2%\n",
        "IN: 0.2%\n",
        "MX: 0.1%\n",
        "act: Fishing: 0.1%\n",
        "act: Phone Use Sales: 0.1%\n",
        "RW: 0.1%\n",
        "SL: 0.1%\n",
        "YE: 0.1%\n",
        "Transportation: 0.1%\n",
        "JO: 0.1%\n",
        "theme_Start-Up: 0.1%\n",
        "act: Poultry: 0.1%\n",
        "act: Dairy: 0.1%\n",
        "WS: 0.1%\n",
        "theme_Arab Youth: 0.1%\n",
        "LB: 0.1%\n",
        "theme_Islamic Finance: 0.1%\n",
        "Construction: 0.1%\n",
        "act: Personal Purchases: 0.1%\n",
        "act: Services: 0.1%\n",
        "act: Fruits & Vegetables: 0.1%\n",
        "act: Personal Medical Expenses: 0.1%\n",
        "act: Grocery Store: 0.1%\n",
        "act: Home Appliances: 0.1%\n",
        "act: Food Production/Sales: 0.1%\n",
        "theme_Job Creation: 0.1%\n",
        "act: Rickshaw: 0.1%\n",
        "act: Education provider: 0.1%\n",
        "act: Cattle: 0.1%\n",
        "TL: 0.1%\n",
        "act: Fish Selling: 0.1%\n",
        "act: Food Stall: 0.1%\n",
        "act: Tailoring: 0.1%\n",
        "GT: 0.1%\n",
        "act: Crafts: 0.1%\n",
        "act: Furniture Making: 0.1%\n",
        "act: Livestock: 0.1%\n",
        "HN: 0.1%\n",
        "CM: 0.1%\n",
        "GH: 0.1%\n",
        "BO: 0.0%\n",
        "act: Food Market: 0.0%\n",
        "act: Manufacturing: 0.0%\n",
        "theme_Growing Businesses: 0.0%\n",
        "act: Bakery: 0.0%\n",
        "act: Farm Supplies: 0.0%\n",
        "act: Charcoal Sales: 0.0%\n",
        "AZ: 0.0%\n",
        "act: Motorcycle Transport: 0.0%\n",
        "act: Animal Sales: 0.0%\n",
        "act: Construction Supplies: 0.0%\n",
        "act: Clothing: 0.0%\n",
        "act: Transportation: 0.0%\n",
        "SR: 0.0%\n",
        "act: Cosmetics Sales: 0.0%\n",
        "AL: 0.0%\n",
        "TG: 0.0%\n",
        "GE: 0.0%\n",
        "act: Carpentry: 0.0%\n",
        "MN: 0.0%\n",
        "act: Soft Drinks: 0.0%\n",
        "act: Personal Products Sales: 0.0%\n",
        "CD: 0.0%\n",
        "act: Vehicle: 0.0%\n",
        "KG: 0.0%\n",
        "MZ: 0.0%\n",
        "act: Shoe Sales: 0.0%\n",
        "act: Beauty Salon: 0.0%\n",
        "act: Food: 0.0%\n",
        "act: Fuel/Firewood: 0.0%\n",
        "UA: 0.0%\n",
        "BZ: 0.0%\n",
        "act: Cafe: 0.0%\n",
        "XK: 0.0%\n",
        "act: Cereals: 0.0%\n",
        "act: Used Clothing: 0.0%\n",
        "act: Cloth & Dressmaking Supplies: 0.0%\n",
        "act: Renewable Energy Products: 0.0%\n",
        "BI: 0.0%\n",
        "US: 0.0%\n",
        "theme_Flexible Credit Study: 0.0%\n",
        "act: Phone Accessories: 0.0%\n",
        "act: Home Products Sales: 0.0%\n",
        "act: Pharmacy: 0.0%\n",
        "act: Construction: 0.0%\n",
        "BF: 0.0%\n",
        "act: Pub: 0.0%\n",
        "act: Liquor Store / Off-License: 0.0%\n",
        "act: Metal Shop: 0.0%\n",
        "act: Milk Sales: 0.0%\n",
        "act: Butcher Shop: 0.0%\n",
        "act: Taxi: 0.0%\n",
        "LA: 0.0%\n",
        "act: Auto Repair: 0.0%\n",
        "act: Textiles: 0.0%\n",
        "act: Restaurant: 0.0%\n",
        "ZM: 0.0%\n",
        "Entertainment: 0.0%\n",
        "act: Mobile Phones: 0.0%\n",
        "ZA: 0.0%\n",
        "act: Spare Parts: 0.0%\n",
        "act: Weaving: 0.0%\n",
        "act: Cheese Making: 0.0%\n",
        "act: Jewelry: 0.0%\n",
        "DO: 0.0%\n",
        "Wholesale: 0.0%\n",
        "act: Consumer Goods: 0.0%\n",
        "act: Bricks: 0.0%\n",
        "act: Cobbler: 0.0%\n",
        "act: Health: 0.0%\n",
        "act: Property: 0.0%\n",
        "act: Perfumes: 0.0%\n",
        "act: Catering: 0.0%\n",
        "act: Hardware: 0.0%\n",
        "theme_Fair Trade: 0.0%\n",
        "MM: 0.0%\n",
        "act: Barber Shop: 0.0%\n",
        "act: Embroidery: 0.0%\n",
        "act: Wholesale: 0.0%\n",
        "act: Bookstore: 0.0%\n",
        "act: Vehicle Repairs: 0.0%\n",
        "act: Internet Cafe: 0.0%\n",
        "act: Electronics Sales: 0.0%\n",
        "act: Waste Management: 0.0%\n",
        "theme_SME: 0.0%\n",
        "act: Water Distribution: 0.0%\n",
        "act: Computers: 0.0%\n",
        "act: Arts: 0.0%\n",
        "act: Natural Medicines: 0.0%\n",
        "IL: 0.0%\n",
        "act: Recycled Materials: 0.0%\n",
        "act: Decorations Sales: 0.0%\n",
        "CG: 0.0%\n",
        "TR: 0.0%\n",
        "act: Electronics Repair: 0.0%\n",
        "act: Medical Clinic: 0.0%\n",
        "NP: 0.0%\n",
        "theme_Kiva City LA: 0.0%\n",
        "act: Photography: 0.0%\n",
        "act: Used Shoes: 0.0%\n",
        "act: Motorcycle Repair: 0.0%\n",
        "act: Flowers: 0.0%\n",
        "act: Goods Distribution: 0.0%\n",
        "TH: 0.0%\n",
        "act: Paper Sales: 0.0%\n",
        "act: Machinery Rental: 0.0%\n",
        "act: Electrical Goods: 0.0%\n",
        "act: Land Rental: 0.0%\n",
        "act: Entertainment: 0.0%\n",
        "act: Laundry: 0.0%\n",
        "act: Electrician: 0.0%\n",
        "act: Blacksmith: 0.0%\n",
        "act: Recycling: 0.0%\n",
        "act: Timber Sales: 0.0%\n",
        "act: Souvenir Sales: 0.0%\n",
        "act: Veterinary Sales: 0.0%\n",
        "act: Phone Repair: 0.0%\n",
        "act: Child Care: 0.0%\n",
        "act: Printing: 0.0%\n",
        "act: Office Supplies: 0.0%\n",
        "act: Bicycle Sales: 0.0%\n",
        "act: Hotel: 0.0%\n",
        "theme_Health: 0.0%\n",
        "act: Utilities: 0.0%\n",
        "act: Wedding Expenses: 0.0%\n",
        "act: Well digging: 0.0%\n",
        "VC: 0.0%\n",
        "BR: 0.0%\n",
        "MD: 0.0%\n",
        "act: Traveling Sales: 0.0%\n",
        "MR: 0.0%\n",
        "VU: 0.0%\n",
        "MW: 0.0%\n",
        "act: Games: 0.0%\n",
        "PA: 0.0%\n",
        "SO: 0.0%\n",
        "act: Funeral Expenses: 0.0%\n",
        "currency_loss: 0.0%\n",
        "act: Upholstery: 0.0%\n",
        "theme_Kiva City Detroit: 0.0%\n",
        "act: Tourism: 0.0%\n",
        "act: Bicycle Repair: 0.0%\n",
        "act: Music Discs & Tapes: 0.0%\n",
        "act: Musical Instruments: 0.0%\n",
        "act: Balut-Making: 0.0%\n",
        "act: Musical Performance: 0.0%\n",
        "act: Bookbinding: 0.0%\n",
        "act: Party Supplies: 0.0%\n",
        "act: Air Conditioning: 0.0%\n",
        "act: Movie Tapes & DVDs: 0.0%\n",
        "act: Plastics Sales: 0.0%\n",
        "act: Quarrying: 0.0%\n",
        "act: Call Center: 0.0%\n",
        "act: Religious Articles: 0.0%\n",
        "act: Secretarial Services: 0.0%\n",
        "act: Machine Shop: 0.0%\n",
        "act: Sporting Good Sales: 0.0%\n",
        "act: Cement: 0.0%\n",
        "act: Knitting: 0.0%\n",
        "act: Dental: 0.0%\n"
       ]
      }
     ],
     "prompt_number": 8
    },
    {
     "cell_type": "code",
     "collapsed": false,
     "input": [
      "apsep.shape[0]"
     ],
     "language": "python",
     "metadata": {},
     "outputs": [
      {
       "metadata": {},
       "output_type": "pyout",
       "prompt_number": 11,
       "text": [
        "82382"
       ]
      }
     ],
     "prompt_number": 11
    },
    {
     "cell_type": "code",
     "collapsed": false,
     "input": [
      "april.shape[0]+ may.shape[0] + june.shape[0] + july.shape[0] + aug.shape[0] + sep.shape[0]"
     ],
     "language": "python",
     "metadata": {},
     "outputs": [
      {
       "metadata": {},
       "output_type": "pyout",
       "prompt_number": 18,
       "text": [
        "82382"
       ]
      }
     ],
     "prompt_number": 18
    },
    {
     "cell_type": "code",
     "collapsed": false,
     "input": [
      "reload(model)\n",
      "mod = model.funding_model()\n",
      "mod.transform_fit(apsep,weight= 2,leaf=10, trees=50, mf = 10, depth=7)\n",
      "print 'jan'\n",
      "mod.predict(jan)\n",
      "print 'feb'\n",
      "mod.predict(feb)\n",
      "print 'march'\n",
      "mod.predict(march)\n",
      "print 'april'\n",
      "mod.predict(april)\n",
      "print 'may'\n",
      "mod.predict(may)\n",
      "print 'june'\n",
      "mod.predict(june)\n",
      "print 'july'\n",
      "mod.predict(july)\n",
      "print 'august'\n",
      "mod.predict(aug)\n",
      "print 'sep'\n",
      "mod.predict(sep)\n",
      "print 'oct'\n",
      "mod.predict(oct)\n",
      "print 'nov'\n",
      "mod.predict(nov)\n",
      "print 'apsep'\n",
      "mod.predict(apsep)\n",
      "print 'augsep'\n",
      "mod.predict(augsep)"
     ],
     "language": "python",
     "metadata": {},
     "outputs": [
      {
       "output_type": "stream",
       "stream": "stdout",
       "text": [
        "jan\n",
        "249"
       ]
      },
      {
       "output_type": "stream",
       "stream": "stdout",
       "text": [
        "\n",
        "268\n",
        "249\n",
        "268\n",
        "22\n",
        "3\n",
        "actl pos:"
       ]
      },
      {
       "output_type": "stream",
       "stream": "stdout",
       "text": [
        " 0.0319 pred pos: 0.2742\n",
        "true pos: 0.0311 false pos: 0.243\n",
        "true neg: 0.7251 false neg: 0.0008\n",
        "recall: 0.9764 precision: 0.1136\n",
        "\n",
        "feb\n",
        "255"
       ]
      },
      {
       "output_type": "stream",
       "stream": "stdout",
       "text": [
        "\n",
        "268\n",
        "255\n",
        "268\n",
        "15\n",
        "2\n",
        "actl pos:"
       ]
      },
      {
       "output_type": "stream",
       "stream": "stdout",
       "text": [
        " 0.0126 pred pos: 0.2617\n",
        "true pos: 0.0111 false pos: 0.2507\n",
        "true neg: 0.7367 false neg: 0.0016\n",
        "recall: 0.8765 precision: 0.0423\n",
        "\n",
        "march\n",
        "255"
       ]
      },
      {
       "output_type": "stream",
       "stream": "stdout",
       "text": [
        "\n",
        "268\n",
        "255\n",
        "268\n",
        "14\n",
        "1\n",
        "actl pos:"
       ]
      },
      {
       "output_type": "stream",
       "stream": "stdout",
       "text": [
        " 0.0069 pred pos: 0.2468\n",
        "true pos: 0.0069 false pos: 0.2399\n",
        "true neg: 0.7532 false neg: 0.0\n",
        "recall: 1.0 precision: 0.028\n",
        "\n",
        "april\n",
        "253"
       ]
      },
      {
       "output_type": "stream",
       "stream": "stdout",
       "text": [
        "\n",
        "268\n",
        "253\n",
        "268\n",
        "15\n",
        "0\n",
        "actl pos:"
       ]
      },
      {
       "output_type": "stream",
       "stream": "stdout",
       "text": [
        " 0.0408 pred pos: 0.256\n",
        "true pos: 0.0377 false pos: 0.2183\n",
        "true neg: 0.7409 false neg: 0.0031\n",
        "recall: 0.9234 precision: 0.1472\n",
        "\n",
        "may\n",
        "255"
       ]
      },
      {
       "output_type": "stream",
       "stream": "stdout",
       "text": [
        "\n",
        "268\n",
        "255\n",
        "268\n",
        "13\n",
        "0\n",
        "actl pos:"
       ]
      },
      {
       "output_type": "stream",
       "stream": "stdout",
       "text": [
        " 0.0473 pred pos: 0.2874\n",
        "true pos: 0.0443 false pos: 0.2431\n",
        "true neg: 0.7095 false neg: 0.0031\n",
        "recall: 0.9352 precision: 0.154\n",
        "\n",
        "june\n",
        "257"
       ]
      },
      {
       "output_type": "stream",
       "stream": "stdout",
       "text": [
        "\n",
        "268\n",
        "257\n",
        "268\n",
        "11\n",
        "0\n",
        "actl pos:"
       ]
      },
      {
       "output_type": "stream",
       "stream": "stdout",
       "text": [
        " 0.0583 pred pos: 0.307\n",
        "true pos: 0.0557 false pos: 0.2513\n",
        "true neg: 0.6904 false neg: 0.0026\n",
        "recall: 0.9552 precision: 0.1814\n",
        "\n",
        "july\n",
        "255"
       ]
      },
      {
       "output_type": "stream",
       "stream": "stdout",
       "text": [
        "\n",
        "268\n",
        "255\n",
        "268\n",
        "13\n",
        "0\n",
        "actl pos:"
       ]
      },
      {
       "output_type": "stream",
       "stream": "stdout",
       "text": [
        " 0.0315 pred pos: 0.2714\n",
        "true pos: 0.0303 false pos: 0.2411\n",
        "true neg: 0.7274 false neg: 0.0012\n",
        "recall: 0.9633 precision: 0.1118\n",
        "\n",
        "august\n",
        "258"
       ]
      },
      {
       "output_type": "stream",
       "stream": "stdout",
       "text": [
        "\n",
        "268\n",
        "258\n",
        "268\n",
        "10\n",
        "0\n",
        "actl pos:"
       ]
      },
      {
       "output_type": "stream",
       "stream": "stdout",
       "text": [
        " 0.0871 pred pos: 0.3154\n",
        "true pos: 0.0823 false pos: 0.2331\n",
        "true neg: 0.6798 false neg: 0.0048\n",
        "recall: 0.945 precision: 0.261\n",
        "\n",
        "sep\n",
        "260"
       ]
      },
      {
       "output_type": "stream",
       "stream": "stdout",
       "text": [
        "\n",
        "268\n",
        "260\n",
        "268\n",
        "8\n",
        "0\n",
        "actl pos:"
       ]
      },
      {
       "output_type": "stream",
       "stream": "stdout",
       "text": [
        " 0.0987 pred pos: 0.3037\n",
        "true pos: 0.0917 false pos: 0.212\n",
        "true neg: 0.6893 false neg: 0.0069\n",
        "recall: 0.9296 precision: 0.3019\n",
        "\n",
        "oct\n",
        "258"
       ]
      },
      {
       "output_type": "stream",
       "stream": "stdout",
       "text": [
        "\n",
        "268\n",
        "258\n",
        "268\n",
        "12\n",
        "2\n",
        "actl pos:"
       ]
      },
      {
       "output_type": "stream",
       "stream": "stdout",
       "text": [
        " 0.0511 pred pos: 0.2839\n",
        "true pos: 0.049 false pos: 0.2349\n",
        "true neg: 0.7139 false neg: 0.0022\n",
        "recall: 0.9578 precision: 0.1726\n",
        "\n",
        "nov\n",
        "252"
       ]
      },
      {
       "output_type": "stream",
       "stream": "stdout",
       "text": [
        "\n",
        "268\n",
        "252\n",
        "268\n",
        "20\n",
        "4\n",
        "actl pos:"
       ]
      },
      {
       "output_type": "stream",
       "stream": "stdout",
       "text": [
        " 0.1405 pred pos: 0.3154\n",
        "true pos: 0.1302 false pos: 0.1852\n",
        "true neg: 0.6743 false neg: 0.0102\n",
        "recall: 0.9272 precision: 0.4128\n",
        "\n",
        "apsep\n",
        "268"
       ]
      },
      {
       "output_type": "stream",
       "stream": "stdout",
       "text": [
        "\n",
        "268\n",
        "268\n",
        "268\n",
        "0\n",
        "0\n",
        "actl pos:"
       ]
      },
      {
       "output_type": "stream",
       "stream": "stdout",
       "text": [
        " 0.0611 pred pos: 0.2994\n",
        "true pos: 0.0598 false pos: 0.2396\n",
        "true neg: 0.6993 false neg: 0.0013\n",
        "recall: 0.9787 precision: 0.1997\n",
        "\n",
        "augsep"
       ]
      },
      {
       "output_type": "stream",
       "stream": "stdout",
       "text": [
        "\n",
        "263"
       ]
      },
      {
       "output_type": "stream",
       "stream": "stdout",
       "text": [
        "\n",
        "268\n",
        "263\n",
        "268\n",
        "5\n",
        "0\n",
        "actl pos:"
       ]
      },
      {
       "output_type": "stream",
       "stream": "stdout",
       "text": [
        " 0.0929 pred pos: 0.32\n",
        "true pos: 0.0883 false pos: 0.2317\n",
        "true neg: 0.6754 false neg: 0.0046\n",
        "recall: 0.9505 precision: 0.276\n",
        "\n"
       ]
      }
     ],
     "prompt_number": 36
    },
    {
     "cell_type": "code",
     "collapsed": false,
     "input": [
      "print 'august'\n",
      "mod.predict(aug)\n",
      "print 'sep'\n",
      "mod.predict(sep)\n",
      "print 'augsep'\n",
      "mod.predict(augsep)"
     ],
     "language": "python",
     "metadata": {},
     "outputs": [
      {
       "output_type": "stream",
       "stream": "stdout",
       "text": [
        "august\n",
        "actl pos:"
       ]
      },
      {
       "output_type": "stream",
       "stream": "stdout",
       "text": [
        " 0.0871 pred pos: 0.3177\n",
        "true pos: 0.0827 false pos: 0.235\n",
        "true neg: 0.6779 false neg: 0.0044\n",
        "recall: 0.9491 precision: 0.2603\n",
        "\n",
        "sep\n",
        "actl pos:"
       ]
      },
      {
       "output_type": "stream",
       "stream": "stdout",
       "text": [
        " 0.0987 pred pos: 0.3075\n",
        "true pos: 0.0926 false pos: 0.2149\n",
        "true neg: 0.6864 false neg: 0.006\n",
        "recall: 0.9389 precision: 0.3012\n",
        "\n",
        "augsep\n",
        "actl pos:"
       ]
      },
      {
       "output_type": "stream",
       "stream": "stdout",
       "text": [
        " 0.0929 pred pos: 0.3252\n",
        "true pos: 0.0891 false pos: 0.2361\n",
        "true neg: 0.671 false neg: 0.0039\n",
        "recall: 0.9585 precision: 0.274\n",
        "\n"
       ]
      }
     ],
     "prompt_number": 25
    },
    {
     "cell_type": "code",
     "collapsed": false,
     "input": [
      "mod.feat_imp()"
     ],
     "language": "python",
     "metadata": {},
     "outputs": [
      {
       "output_type": "stream",
       "stream": "stdout",
       "text": [
        "repayment_term: 19.5%\n",
        "loan_amount: 18.2%\n",
        "monthly: 12.7%\n",
        "irregular_payments: 9.5%\n",
        "gender: 6.3%\n",
        "PH: 2.4%\n",
        "KH: 1.4%\n",
        "group_size: 1.3%\n",
        "SV: 1.2%\n",
        "pay_at_end: 1.1%\n",
        "bonus_credit_eligibility: 0.9%\n",
        "Housing: 0.9%\n",
        "Agriculture: 0.8%\n",
        "Retail: 0.8%\n",
        "KE: 0.8%\n",
        "NG: 0.8%\n",
        "dollars: 0.7%\n",
        "Education: 0.7%\n",
        "CO: 0.6%\n",
        "PS: 0.6%\n",
        "theme_none: 0.6%\n",
        "UG: 0.6%\n",
        "act: Personal Housing Expenses: 0.6%\n",
        "ZW: 0.5%\n",
        "theme_Rural Exclusion: 0.5%\n",
        "theme_Water and Sanitation: 0.5%\n",
        "act: Higher education costs: 0.5%\n",
        "theme_Mobile Technology: 0.4%\n",
        "theme_Innovative Loans: 0.4%\n",
        "Arts: 0.4%\n",
        "theme_Disaster recovery: 0.4%\n",
        "theme_Underfunded Areas: 0.4%\n",
        "Manufacturing: 0.4%\n",
        "act: Farming: 0.4%\n",
        "act: Sewing: 0.4%\n",
        "theme_Youth: 0.3%\n",
        "Food: 0.3%\n",
        "theme_Higher Education: 0.3%\n",
        "VN: 0.3%\n",
        "theme_Conflict Zones: 0.3%\n",
        "act: Home Energy: 0.3%\n",
        "TZ: 0.3%\n",
        "act: Phone Use Sales: 0.3%\n",
        "SN: 0.3%\n",
        "TJ: 0.3%\n",
        "PE: 0.3%\n",
        "Health: 0.3%\n",
        "NI: 0.3%\n",
        "EC: 0.3%\n",
        "ID: 0.3%\n",
        "theme_Vulnerable Groups: 0.2%\n",
        "Clothing: 0.2%\n",
        "ML: 0.2%\n",
        "IQ: 0.2%\n",
        "act: Pigs: 0.2%\n",
        "theme_Green: 0.2%\n",
        "act: Clothing Sales: 0.2%\n",
        "PY: 0.2%\n",
        "IN: 0.2%\n",
        "LR: 0.2%\n",
        "act: Agriculture: 0.2%\n",
        "Services: 0.2%\n",
        "act: Primary/secondary school costs: 0.2%\n",
        "act: Dairy: 0.2%\n",
        "theme_Start-Up: 0.1%\n",
        "CR: 0.1%\n",
        "BJ: 0.1%\n",
        "Personal Use: 0.1%\n",
        "act: General Store: 0.1%\n",
        "PK: 0.1%\n",
        "act: Retail: 0.1%\n",
        "HT: 0.1%\n",
        "MX: 0.1%\n",
        "AM: 0.1%\n",
        "WS: 0.1%\n",
        "theme_Job Creation: 0.1%\n",
        "YE: 0.1%\n",
        "act: Fishing: 0.1%\n",
        "JO: 0.1%\n",
        "LB: 0.1%\n",
        "theme_Islamic Finance: 0.1%\n",
        "SL: 0.1%\n",
        "act: Grocery Store: 0.1%\n",
        "Transportation: 0.1%\n",
        "Construction: 0.1%\n",
        "theme_Arab Youth: 0.1%\n",
        "TL: 0.1%\n",
        "RW: 0.1%\n",
        "act: Fruits & Vegetables: 0.1%\n",
        "act: Personal Purchases: 0.1%\n",
        "act: Food Stall: 0.1%\n",
        "GT: 0.1%\n",
        "act: Home Appliances: 0.1%\n",
        "act: Services: 0.1%\n",
        "HN: 0.1%\n",
        "act: Animal Sales: 0.1%\n",
        "act: Tailoring: 0.1%\n",
        "act: Poultry: 0.1%\n",
        "act: Transportation: 0.1%\n",
        "act: Manufacturing: 0.1%\n",
        "act: Crafts: 0.1%\n",
        "MN: 0.1%\n",
        "CM: 0.1%\n",
        "BO: 0.1%\n",
        "act: Education provider: 0.0%\n",
        "act: Food Market: 0.0%\n",
        "act: Food Production/Sales: 0.0%\n",
        "act: Beauty Salon: 0.0%\n",
        "act: Furniture Making: 0.0%\n",
        "act: Livestock: 0.0%\n",
        "AZ: 0.0%\n",
        "GE: 0.0%\n",
        "act: Personal Medical Expenses: 0.0%\n",
        "act: Rickshaw: 0.0%\n",
        "act: Fish Selling: 0.0%\n",
        "act: Bakery: 0.0%\n",
        "SR: 0.0%\n",
        "KG: 0.0%\n",
        "TG: 0.0%\n",
        "act: Construction Supplies: 0.0%\n",
        "act: Vehicle: 0.0%\n",
        "act: Cattle: 0.0%\n",
        "act: Carpentry: 0.0%\n",
        "act: Farm Supplies: 0.0%\n",
        "CD: 0.0%\n",
        "GH: 0.0%\n",
        "act: Clothing: 0.0%\n",
        "act: Cosmetics Sales: 0.0%\n",
        "UA: 0.0%\n",
        "AL: 0.0%\n",
        "act: Motorcycle Transport: 0.0%\n",
        "act: Renewable Energy Products: 0.0%\n",
        "act: Used Clothing: 0.0%\n",
        "act: Fuel/Firewood: 0.0%\n",
        "act: Charcoal Sales: 0.0%\n",
        "theme_Fair Trade: 0.0%\n",
        "act: Food: 0.0%\n",
        "act: Personal Products Sales: 0.0%\n",
        "act: Metal Shop: 0.0%\n",
        "act: Cloth & Dressmaking Supplies: 0.0%\n",
        "act: Construction: 0.0%\n",
        "act: Soft Drinks: 0.0%\n",
        "BZ: 0.0%\n",
        "LA: 0.0%\n",
        "act: Milk Sales: 0.0%\n",
        "act: Cafe: 0.0%\n",
        "ZA: 0.0%\n",
        "act: Pharmacy: 0.0%\n",
        "act: Liquor Store / Off-License: 0.0%\n",
        "XK: 0.0%\n",
        "US: 0.0%\n",
        "act: Spare Parts: 0.0%\n",
        "act: Cereals: 0.0%\n",
        "act: Taxi: 0.0%\n",
        "MZ: 0.0%\n",
        "act: Restaurant: 0.0%\n",
        "MM: 0.0%\n",
        "act: Shoe Sales: 0.0%\n",
        "act: Weaving: 0.0%\n",
        "act: Embroidery: 0.0%\n",
        "ZM: 0.0%\n",
        "act: Home Products Sales: 0.0%\n",
        "act: Property: 0.0%\n",
        "act: Butcher Shop: 0.0%\n",
        "act: Auto Repair: 0.0%\n",
        "BF: 0.0%\n",
        "Entertainment: 0.0%\n",
        "BI: 0.0%\n",
        "act: Catering: 0.0%\n",
        "act: Textiles: 0.0%\n",
        "act: Pub: 0.0%\n",
        "Wholesale: 0.0%\n",
        "theme_Growing Businesses: 0.0%\n",
        "CG: 0.0%\n",
        "act: Jewelry: 0.0%\n",
        "act: Waste Management: 0.0%\n",
        "act: Internet Cafe: 0.0%\n",
        "act: Barber Shop: 0.0%\n",
        "act: Cobbler: 0.0%\n",
        "act: Bookstore: 0.0%\n",
        "act: Electrician: 0.0%\n",
        "act: Hardware: 0.0%\n",
        "act: Water Distribution: 0.0%\n",
        "act: Wholesale: 0.0%\n",
        "act: Arts: 0.0%\n",
        "DO: 0.0%\n",
        "theme_SME: 0.0%\n",
        "NP: 0.0%\n",
        "act: Bricks: 0.0%\n",
        "act: Vehicle Repairs: 0.0%\n",
        "act: Blacksmith: 0.0%\n",
        "act: Health: 0.0%\n",
        "act: Knitting: 0.0%\n",
        "act: Cheese Making: 0.0%\n",
        "TR: 0.0%\n",
        "act: Recycled Materials: 0.0%\n",
        "act: Decorations Sales: 0.0%\n",
        "act: Land Rental: 0.0%\n",
        "act: Electronics Repair: 0.0%\n",
        "act: Phone Accessories: 0.0%\n",
        "theme_Flexible Credit Study: 0.0%\n",
        "act: Consumer Goods: 0.0%\n",
        "act: Goods Distribution: 0.0%\n",
        "act: Flowers: 0.0%\n",
        "act: Used Shoes: 0.0%\n",
        "act: Natural Medicines: 0.0%\n",
        "theme_Kiva City Detroit: 0.0%\n",
        "act: Phone Repair: 0.0%\n",
        "act: Photography: 0.0%\n",
        "act: Perfumes: 0.0%\n",
        "act: Party Supplies: 0.0%\n",
        "act: Plastics Sales: 0.0%\n",
        "act: Paper Sales: 0.0%\n",
        "theme_Kiva City LA: 0.0%\n",
        "act: Office Supplies: 0.0%\n",
        "MR: 0.0%\n",
        "act: Printing: 0.0%\n",
        "act: Tourism: 0.0%\n",
        "currency_loss: 0.0%\n",
        "act: Wedding Expenses: 0.0%\n",
        "act: Veterinary Sales: 0.0%\n",
        "act: Utilities: 0.0%\n",
        "act: Upholstery: 0.0%\n",
        "act: Traveling Sales: 0.0%\n",
        "act: Timber Sales: 0.0%\n",
        "act: Quarrying: 0.0%\n",
        "act: Sporting Good Sales: 0.0%\n",
        "act: Souvenir Sales: 0.0%\n",
        "act: Secretarial Services: 0.0%\n",
        "act: Religious Articles: 0.0%\n",
        "act: Musical Performance: 0.0%\n",
        "act: Recycling: 0.0%\n",
        "theme_Health: 0.0%\n",
        "act: Machine Shop: 0.0%\n",
        "act: Musical Instruments: 0.0%\n",
        "act: Balut-Making: 0.0%\n",
        "act: Cement: 0.0%\n",
        "act: Call Center: 0.0%\n",
        "act: Well digging: 0.0%\n",
        "act: Bicycle Sales: 0.0%\n",
        "act: Bicycle Repair: 0.0%\n",
        "IL: 0.0%\n",
        "act: Air Conditioning: 0.0%\n",
        "act: Music Discs & Tapes: 0.0%\n",
        "VU: 0.0%\n",
        "VC: 0.0%\n",
        "TH: 0.0%\n",
        "SO: 0.0%\n",
        "PA: 0.0%\n",
        "MD: 0.0%\n",
        "act: Child Care: 0.0%\n",
        "act: Computers: 0.0%\n",
        "act: Dental: 0.0%\n",
        "BR: 0.0%\n",
        "act: Electrical Goods: 0.0%\n",
        "act: Electronics Sales: 0.0%\n",
        "act: Entertainment: 0.0%\n",
        "act: Funeral Expenses: 0.0%\n",
        "act: Games: 0.0%\n",
        "act: Hotel: 0.0%\n",
        "act: Laundry: 0.0%\n",
        "MW: 0.0%\n",
        "act: Machinery Rental: 0.0%\n",
        "act: Medical Clinic: 0.0%\n",
        "act: Mobile Phones: 0.0%\n",
        "act: Motorcycle Repair: 0.0%\n",
        "act: Movie Tapes & DVDs: 0.0%\n",
        "act: Bookbinding: 0.0%\n"
       ]
      }
     ],
     "prompt_number": 26
    },
    {
     "cell_type": "code",
     "collapsed": false,
     "input": [
      "house = df[df.activity == 'Personal Housing Expenses']"
     ],
     "language": "python",
     "metadata": {},
     "outputs": [],
     "prompt_number": 33
    },
    {
     "cell_type": "code",
     "collapsed": false,
     "input": [
      "house.shape"
     ],
     "language": "python",
     "metadata": {},
     "outputs": [
      {
       "metadata": {},
       "output_type": "pyout",
       "prompt_number": 31,
       "text": [
        "(8828, 17)"
       ]
      }
     ],
     "prompt_number": 31
    },
    {
     "cell_type": "code",
     "collapsed": false,
     "input": [
      "mod.predict(house)"
     ],
     "language": "python",
     "metadata": {},
     "outputs": [
      {
       "output_type": "stream",
       "stream": "stdout",
       "text": [
        "actl pos: 0.1305 pred pos: 0.3649\n",
        "true pos: 0.1041 false pos: 0.2608\n",
        "true neg: 0.6087 false neg: 0.0264\n",
        "recall: 0.7977 precision: 0.2853\n",
        "\n"
       ]
      }
     ],
     "prompt_number": 32
    },
    {
     "cell_type": "code",
     "collapsed": false,
     "input": [
      "reload(model)\n",
      "mod = model.funding_model()\n",
      "mod.transform_fit(apsep,weight= 1,leaf=10, trees=50, mf = 10, depth=7)\n",
      "print 'jan'\n",
      "mod.predict(jan)\n",
      "print 'feb'\n",
      "mod.predict(feb)\n",
      "print 'march'\n",
      "mod.predict(march)\n",
      "print 'april'\n",
      "mod.predict(april)\n",
      "print 'may'\n",
      "mod.predict(may)\n",
      "print 'june'\n",
      "mod.predict(june)\n",
      "print 'july'\n",
      "mod.predict(july)\n",
      "print 'august'\n",
      "mod.predict(aug)\n",
      "print 'sep'\n",
      "mod.predict(sep)\n",
      "print 'oct'\n",
      "mod.predict(oct)\n",
      "print 'nov'\n",
      "mod.predict(nov)\n",
      "print 'apsep'\n",
      "mod.predict(apsep)\n",
      "print 'augsep'\n",
      "mod.predict(augsep)"
     ],
     "language": "python",
     "metadata": {},
     "outputs": [
      {
       "output_type": "stream",
       "stream": "stdout",
       "text": [
        "jan\n",
        "3"
       ]
      },
      {
       "output_type": "stream",
       "stream": "stdout",
       "text": [
        "\n",
        "actl pos:"
       ]
      },
      {
       "output_type": "stream",
       "stream": "stdout",
       "text": [
        " 0.0319 pred pos: 0.1959\n",
        "true pos: 0.0288 false pos: 0.1671\n",
        "true neg: 0.801 false neg: 0.0031\n",
        "recall: 0.9024 precision: 0.1469\n",
        "\n",
        "feb\n",
        "2"
       ]
      },
      {
       "output_type": "stream",
       "stream": "stdout",
       "text": [
        "\n",
        "actl pos:"
       ]
      },
      {
       "output_type": "stream",
       "stream": "stdout",
       "text": [
        " 0.0126 pred pos: 0.192\n",
        "true pos: 0.0104 false pos: 0.1816\n",
        "true neg: 0.8058 false neg: 0.0022\n",
        "recall: 0.8235 precision: 0.0542\n",
        "\n",
        "march\n",
        "1"
       ]
      },
      {
       "output_type": "stream",
       "stream": "stdout",
       "text": [
        "\n",
        "actl pos:"
       ]
      },
      {
       "output_type": "stream",
       "stream": "stdout",
       "text": [
        " 0.0069 pred pos: 0.1857\n",
        "true pos: 0.0069 false pos: 0.1787\n",
        "true neg: 0.8143 false neg: 0.0\n",
        "recall: 1.0 precision: 0.0372\n",
        "\n",
        "april\n",
        "0"
       ]
      },
      {
       "output_type": "stream",
       "stream": "stdout",
       "text": [
        "\n",
        "actl pos:"
       ]
      },
      {
       "output_type": "stream",
       "stream": "stdout",
       "text": [
        " 0.0408 pred pos: 0.1962\n",
        "true pos: 0.0362 false pos: 0.1599\n",
        "true neg: 0.7993 false neg: 0.0046\n",
        "recall: 0.888 precision: 0.1847\n",
        "\n",
        "may\n",
        "0"
       ]
      },
      {
       "output_type": "stream",
       "stream": "stdout",
       "text": [
        "\n",
        "actl pos:"
       ]
      },
      {
       "output_type": "stream",
       "stream": "stdout",
       "text": [
        " 0.0473 pred pos: 0.2254\n",
        "true pos: 0.0413 false pos: 0.1841\n",
        "true neg: 0.7686 false neg: 0.0061\n",
        "recall: 0.872 precision: 0.1831\n",
        "\n",
        "june\n",
        "0"
       ]
      },
      {
       "output_type": "stream",
       "stream": "stdout",
       "text": [
        "\n",
        "actl pos:"
       ]
      },
      {
       "output_type": "stream",
       "stream": "stdout",
       "text": [
        " 0.0583 pred pos: 0.2353\n",
        "true pos: 0.0526 false pos: 0.1827\n",
        "true neg: 0.759 false neg: 0.0057\n",
        "recall: 0.9022 precision: 0.2235\n",
        "\n",
        "july\n",
        "0"
       ]
      },
      {
       "output_type": "stream",
       "stream": "stdout",
       "text": [
        "\n",
        "actl pos:"
       ]
      },
      {
       "output_type": "stream",
       "stream": "stdout",
       "text": [
        " 0.0315 pred pos: 0.1943\n",
        "true pos: 0.0281 false pos: 0.1662\n",
        "true neg: 0.8023 false neg: 0.0034\n",
        "recall: 0.892 precision: 0.1446\n",
        "\n",
        "august\n",
        "0"
       ]
      },
      {
       "output_type": "stream",
       "stream": "stdout",
       "text": [
        "\n",
        "actl pos:"
       ]
      },
      {
       "output_type": "stream",
       "stream": "stdout",
       "text": [
        " 0.0871 pred pos: 0.2446\n",
        "true pos: 0.0753 false pos: 0.1694\n",
        "true neg: 0.7435 false neg: 0.0119\n",
        "recall: 0.8638 precision: 0.3076\n",
        "\n",
        "sep\n",
        "0"
       ]
      },
      {
       "output_type": "stream",
       "stream": "stdout",
       "text": [
        "\n",
        "actl pos:"
       ]
      },
      {
       "output_type": "stream",
       "stream": "stdout",
       "text": [
        " 0.0987 pred pos: 0.2461\n",
        "true pos: 0.0865 false pos: 0.1597\n",
        "true neg: 0.7417 false neg: 0.0122\n",
        "recall: 0.8763 precision: 0.3513\n",
        "\n",
        "oct\n",
        "2"
       ]
      },
      {
       "output_type": "stream",
       "stream": "stdout",
       "text": [
        "\n",
        "actl pos:"
       ]
      },
      {
       "output_type": "stream",
       "stream": "stdout",
       "text": [
        " 0.0511 pred pos: 0.2146\n",
        "true pos: 0.0463 false pos: 0.1683\n",
        "true neg: 0.7805 false neg: 0.0048\n",
        "recall: 0.9055 precision: 0.2158\n",
        "\n",
        "nov\n",
        "4"
       ]
      },
      {
       "output_type": "stream",
       "stream": "stdout",
       "text": [
        "\n",
        "actl pos:"
       ]
      },
      {
       "output_type": "stream",
       "stream": "stdout",
       "text": [
        " 0.1405 pred pos: 0.2614\n",
        "true pos: 0.1206 false pos: 0.1408\n",
        "true neg: 0.7187 false neg: 0.0199\n",
        "recall: 0.8586 precision: 0.4613\n",
        "\n",
        "apsep\n",
        "0"
       ]
      },
      {
       "output_type": "stream",
       "stream": "stdout",
       "text": [
        "\n",
        "actl pos:"
       ]
      },
      {
       "output_type": "stream",
       "stream": "stdout",
       "text": [
        " 0.0611 pred pos: 0.2372\n",
        "true pos: 0.0576 false pos: 0.1797\n",
        "true neg: 0.7592 false neg: 0.0035\n",
        "recall: 0.9422 precision: 0.2426\n",
        "\n",
        "augsep"
       ]
      },
      {
       "output_type": "stream",
       "stream": "stdout",
       "text": [
        "\n",
        "0"
       ]
      },
      {
       "output_type": "stream",
       "stream": "stdout",
       "text": [
        "\n",
        "actl pos:"
       ]
      },
      {
       "output_type": "stream",
       "stream": "stdout",
       "text": [
        " 0.0929 pred pos: 0.2547\n",
        "true pos: 0.0833 false pos: 0.1714\n",
        "true neg: 0.7357 false neg: 0.0096\n",
        "recall: 0.8964 precision: 0.3271\n",
        "\n"
       ]
      }
     ],
     "prompt_number": 38
    },
    {
     "cell_type": "code",
     "collapsed": false,
     "input": [
      "mod.feat_imp()"
     ],
     "language": "python",
     "metadata": {},
     "outputs": [
      {
       "output_type": "stream",
       "stream": "stdout",
       "text": [
        "loan_amount: 17.3%\n",
        "monthly: 16.3%\n",
        "repayment_term: 15.2%\n",
        "irregular_payments: 8.7%\n",
        "gender: 7.2%\n",
        "PH: 2.9%\n",
        "SV: 1.7%\n",
        "KH: 1.3%\n",
        "group_size: 1.2%\n",
        "Housing: 1.1%\n",
        "Retail: 1.1%\n",
        "Agriculture: 1.0%\n",
        "KE: 1.0%\n",
        "theme_none: 0.8%\n",
        "CO: 0.8%\n",
        "Education: 0.8%\n",
        "dollars: 0.7%\n",
        "act: Personal Housing Expenses: 0.7%\n",
        "UG: 0.7%\n",
        "pay_at_end: 0.7%\n",
        "act: Farming: 0.7%\n",
        "PS: 0.6%\n",
        "NG: 0.6%\n",
        "bonus_credit_eligibility: 0.6%\n",
        "ZW: 0.6%\n",
        "theme_Underfunded Areas: 0.5%\n",
        "theme_Youth: 0.5%\n",
        "theme_Water and Sanitation: 0.4%\n",
        "Arts: 0.4%\n",
        "NI: 0.4%\n",
        "theme_Rural Exclusion: 0.4%\n",
        "theme_Mobile Technology: 0.4%\n",
        "Manufacturing: 0.3%\n",
        "Food: 0.3%\n",
        "theme_Conflict Zones: 0.3%\n",
        "act: Higher education costs: 0.3%\n",
        "ML: 0.3%\n",
        "ID: 0.3%\n",
        "act: Phone Use Sales: 0.3%\n",
        "theme_Innovative Loans: 0.3%\n",
        "theme_Higher Education: 0.3%\n",
        "VN: 0.3%\n",
        "TJ: 0.3%\n",
        "PY: 0.3%\n",
        "act: Home Energy: 0.3%\n",
        "PK: 0.3%\n",
        "act: Clothing Sales: 0.3%\n",
        "PE: 0.2%\n",
        "Clothing: 0.2%\n",
        "act: Sewing: 0.2%\n",
        "theme_Vulnerable Groups: 0.2%\n",
        "IQ: 0.2%\n",
        "LR: 0.2%\n",
        "theme_Disaster recovery: 0.2%\n",
        "act: General Store: 0.2%\n",
        "act: Retail: 0.2%\n",
        "EC: 0.2%\n",
        "act: Agriculture: 0.2%\n",
        "Health: 0.2%\n",
        "act: Personal Purchases: 0.2%\n",
        "BJ: 0.2%\n",
        "Personal Use: 0.2%\n",
        "Services: 0.2%\n",
        "TZ: 0.2%\n",
        "WS: 0.1%\n",
        "SN: 0.1%\n",
        "theme_Job Creation: 0.1%\n",
        "act: Pigs: 0.1%\n",
        "IN: 0.1%\n",
        "JO: 0.1%\n",
        "act: Services: 0.1%\n",
        "theme_Green: 0.1%\n",
        "theme_Arab Youth: 0.1%\n",
        "HT: 0.1%\n",
        "HN: 0.1%\n",
        "theme_Islamic Finance: 0.1%\n",
        "act: Primary/secondary school costs: 0.1%\n",
        "YE: 0.1%\n",
        "act: Grocery Store: 0.1%\n",
        "Transportation: 0.1%\n",
        "CR: 0.1%\n",
        "AM: 0.1%\n",
        "Construction: 0.1%\n",
        "act: Dairy: 0.1%\n",
        "act: Fishing: 0.1%\n",
        "RW: 0.1%\n",
        "SL: 0.1%\n",
        "MN: 0.1%\n",
        "MX: 0.1%\n",
        "LB: 0.1%\n",
        "theme_Start-Up: 0.1%\n",
        "act: Fruits & Vegetables: 0.1%\n",
        "act: Poultry: 0.1%\n",
        "act: Beauty Salon: 0.1%\n",
        "TL: 0.1%\n",
        "act: Livestock: 0.1%\n",
        "CD: 0.1%\n",
        "CM: 0.0%\n",
        "BO: 0.0%\n",
        "theme_Fair Trade: 0.0%\n",
        "act: Home Appliances: 0.0%\n",
        "AL: 0.0%\n",
        "act: Tailoring: 0.0%\n",
        "act: Animal Sales: 0.0%\n",
        "act: Cattle: 0.0%\n",
        "act: Food Production/Sales: 0.0%\n",
        "act: Education provider: 0.0%\n",
        "act: Fish Selling: 0.0%\n",
        "US: 0.0%\n",
        "GT: 0.0%\n",
        "SR: 0.0%\n",
        "act: Cosmetics Sales: 0.0%\n",
        "act: Rickshaw: 0.0%\n",
        "act: Crafts: 0.0%\n",
        "act: Transportation: 0.0%\n",
        "act: Food Stall: 0.0%\n",
        "GE: 0.0%\n",
        "TG: 0.0%\n",
        "act: Soft Drinks: 0.0%\n",
        "act: Manufacturing: 0.0%\n",
        "act: Clothing: 0.0%\n",
        "theme_Growing Businesses: 0.0%\n",
        "act: Farm Supplies: 0.0%\n",
        "XK: 0.0%\n",
        "KG: 0.0%\n",
        "AZ: 0.0%\n",
        "act: Bakery: 0.0%\n",
        "act: Motorcycle Transport: 0.0%\n",
        "act: Spare Parts: 0.0%\n",
        "act: Personal Medical Expenses: 0.0%\n",
        "act: Construction Supplies: 0.0%\n",
        "UA: 0.0%\n",
        "act: Furniture Making: 0.0%\n",
        "act: Food Market: 0.0%\n",
        "BZ: 0.0%\n",
        "act: Charcoal Sales: 0.0%\n",
        "act: Cereals: 0.0%\n",
        "act: Food: 0.0%\n",
        "GH: 0.0%\n",
        "act: Used Clothing: 0.0%\n",
        "MZ: 0.0%\n",
        "act: Pub: 0.0%\n",
        "LA: 0.0%\n",
        "act: Vehicle: 0.0%\n",
        "act: Fuel/Firewood: 0.0%\n",
        "act: Renewable Energy Products: 0.0%\n",
        "act: Cloth & Dressmaking Supplies: 0.0%\n",
        "act: Carpentry: 0.0%\n",
        "act: Cafe: 0.0%\n",
        "act: Restaurant: 0.0%\n",
        "act: Liquor Store / Off-License: 0.0%\n",
        "act: Pharmacy: 0.0%\n",
        "MM: 0.0%\n",
        "act: Construction: 0.0%\n",
        "act: Shoe Sales: 0.0%\n",
        "act: Hardware: 0.0%\n",
        "act: Home Products Sales: 0.0%\n",
        "act: Embroidery: 0.0%\n",
        "act: Butcher Shop: 0.0%\n",
        "ZM: 0.0%\n",
        "act: Personal Products Sales: 0.0%\n",
        "act: Taxi: 0.0%\n",
        "ZA: 0.0%\n",
        "act: Milk Sales: 0.0%\n",
        "act: Barber Shop: 0.0%\n",
        "act: Plastics Sales: 0.0%\n",
        "act: Textiles: 0.0%\n",
        "act: Metal Shop: 0.0%\n",
        "act: Weaving: 0.0%\n",
        "theme_SME: 0.0%\n",
        "act: Internet Cafe: 0.0%\n",
        "DO: 0.0%\n",
        "act: Recycled Materials: 0.0%\n",
        "act: Auto Repair: 0.0%\n",
        "act: Catering: 0.0%\n",
        "act: Waste Management: 0.0%\n",
        "BF: 0.0%\n",
        "Wholesale: 0.0%\n",
        "act: Land Rental: 0.0%\n",
        "theme_Flexible Credit Study: 0.0%\n",
        "act: Property: 0.0%\n",
        "BI: 0.0%\n",
        "act: Jewelry: 0.0%\n",
        "act: Vehicle Repairs: 0.0%\n",
        "act: Health: 0.0%\n",
        "act: Water Distribution: 0.0%\n",
        "act: Wedding Expenses: 0.0%\n",
        "act: Natural Medicines: 0.0%\n",
        "act: Electronics Sales: 0.0%\n",
        "act: Electrical Goods: 0.0%\n",
        "act: Cobbler: 0.0%\n",
        "act: Consumer Goods: 0.0%\n",
        "act: Knitting: 0.0%\n",
        "act: Perfumes: 0.0%\n",
        "TR: 0.0%\n",
        "act: Electronics Repair: 0.0%\n",
        "act: Flowers: 0.0%\n",
        "CG: 0.0%\n",
        "theme_Health: 0.0%\n",
        "theme_Kiva City Detroit: 0.0%\n",
        "theme_Kiva City LA: 0.0%\n",
        "currency_loss: 0.0%\n",
        "BR: 0.0%\n",
        "Entertainment: 0.0%\n",
        "act: Wholesale: 0.0%\n",
        "IL: 0.0%\n",
        "act: Photography: 0.0%\n",
        "act: Machinery Rental: 0.0%\n",
        "act: Medical Clinic: 0.0%\n",
        "act: Mobile Phones: 0.0%\n",
        "act: Motorcycle Repair: 0.0%\n",
        "act: Movie Tapes & DVDs: 0.0%\n",
        "act: Music Discs & Tapes: 0.0%\n",
        "act: Musical Instruments: 0.0%\n",
        "act: Musical Performance: 0.0%\n",
        "act: Office Supplies: 0.0%\n",
        "act: Paper Sales: 0.0%\n",
        "act: Party Supplies: 0.0%\n",
        "act: Phone Accessories: 0.0%\n",
        "act: Phone Repair: 0.0%\n",
        "act: Printing: 0.0%\n",
        "act: Laundry: 0.0%\n",
        "act: Quarrying: 0.0%\n",
        "act: Recycling: 0.0%\n",
        "act: Religious Articles: 0.0%\n",
        "act: Secretarial Services: 0.0%\n",
        "act: Souvenir Sales: 0.0%\n",
        "act: Sporting Good Sales: 0.0%\n",
        "act: Timber Sales: 0.0%\n",
        "act: Tourism: 0.0%\n",
        "act: Traveling Sales: 0.0%\n",
        "act: Upholstery: 0.0%\n",
        "act: Used Shoes: 0.0%\n",
        "act: Utilities: 0.0%\n",
        "act: Veterinary Sales: 0.0%\n",
        "act: Machine Shop: 0.0%\n",
        "act: Hotel: 0.0%\n",
        "MD: 0.0%\n",
        "act: Blacksmith: 0.0%\n",
        "MR: 0.0%\n",
        "MW: 0.0%\n",
        "NP: 0.0%\n",
        "PA: 0.0%\n",
        "SO: 0.0%\n",
        "TH: 0.0%\n",
        "VC: 0.0%\n",
        "VU: 0.0%\n",
        "act: Air Conditioning: 0.0%\n",
        "act: Arts: 0.0%\n",
        "act: Balut-Making: 0.0%\n",
        "act: Bicycle Repair: 0.0%\n",
        "act: Bicycle Sales: 0.0%\n",
        "act: Well digging: 0.0%\n",
        "act: Goods Distribution: 0.0%\n",
        "act: Bookstore: 0.0%\n",
        "act: Bricks: 0.0%\n",
        "act: Call Center: 0.0%\n",
        "act: Cement: 0.0%\n",
        "act: Cheese Making: 0.0%\n",
        "act: Child Care: 0.0%\n",
        "act: Computers: 0.0%\n",
        "act: Decorations Sales: 0.0%\n",
        "act: Dental: 0.0%\n",
        "act: Electrician: 0.0%\n",
        "act: Entertainment: 0.0%\n",
        "act: Funeral Expenses: 0.0%\n",
        "act: Games: 0.0%\n",
        "act: Bookbinding: 0.0%\n"
       ]
      }
     ],
     "prompt_number": 39
    },
    {
     "cell_type": "code",
     "collapsed": false,
     "input": [
      "df.groupby('expired').median()"
     ],
     "language": "python",
     "metadata": {},
     "outputs": [
      {
       "html": [
        "<div style=\"max-height:1000px;max-width:1500px;overflow:auto;\">\n",
        "<table border=\"1\" class=\"dataframe\">\n",
        "  <thead>\n",
        "    <tr style=\"text-align: right;\">\n",
        "      <th></th>\n",
        "      <th>bonus_credit_eligibility</th>\n",
        "      <th>currency_loss</th>\n",
        "      <th>dollars</th>\n",
        "      <th>gender</th>\n",
        "      <th>group_size</th>\n",
        "      <th>irregular_payments</th>\n",
        "      <th>loan_amount</th>\n",
        "      <th>pay_at_end</th>\n",
        "      <th>repayment_term</th>\n",
        "    </tr>\n",
        "    <tr>\n",
        "      <th>expired</th>\n",
        "      <th></th>\n",
        "      <th></th>\n",
        "      <th></th>\n",
        "      <th></th>\n",
        "      <th></th>\n",
        "      <th></th>\n",
        "      <th></th>\n",
        "      <th></th>\n",
        "      <th></th>\n",
        "    </tr>\n",
        "  </thead>\n",
        "  <tbody>\n",
        "    <tr>\n",
        "      <th>False</th>\n",
        "      <td> True</td>\n",
        "      <td> False</td>\n",
        "      <td> False</td>\n",
        "      <td>  True</td>\n",
        "      <td> 1</td>\n",
        "      <td> False</td>\n",
        "      <td>  500</td>\n",
        "      <td> False</td>\n",
        "      <td> 13</td>\n",
        "    </tr>\n",
        "    <tr>\n",
        "      <th>True </th>\n",
        "      <td> True</td>\n",
        "      <td> False</td>\n",
        "      <td> False</td>\n",
        "      <td> False</td>\n",
        "      <td> 1</td>\n",
        "      <td>  True</td>\n",
        "      <td> 1100</td>\n",
        "      <td> False</td>\n",
        "      <td> 15</td>\n",
        "    </tr>\n",
        "  </tbody>\n",
        "</table>\n",
        "</div>"
       ],
       "metadata": {},
       "output_type": "pyout",
       "prompt_number": 41,
       "text": [
        "        bonus_credit_eligibility currency_loss dollars gender  group_size  \\\n",
        "expired                                                                     \n",
        "False                       True         False   False   True           1   \n",
        "True                        True         False   False  False           1   \n",
        "\n",
        "        irregular_payments  loan_amount pay_at_end  repayment_term  \n",
        "expired                                                             \n",
        "False                False          500      False              13  \n",
        "True                  True         1100      False              15  "
       ]
      }
     ],
     "prompt_number": 41
    },
    {
     "cell_type": "code",
     "collapsed": false,
     "input": [
      "df.shape"
     ],
     "language": "python",
     "metadata": {},
     "outputs": [
      {
       "metadata": {},
       "output_type": "pyout",
       "prompt_number": 42,
       "text": [
        "(141250, 17)"
       ]
      }
     ],
     "prompt_number": 42
    },
    {
     "cell_type": "code",
     "collapsed": false,
     "input": [
      "reload(model)\n",
      "mod = model.funding_model()\n",
      "mod.transform_fit(df,weight= 1,leaf=10, trees=50, mf = 10)"
     ],
     "language": "python",
     "metadata": {},
     "outputs": [],
     "prompt_number": 3
    },
    {
     "cell_type": "code",
     "collapsed": false,
     "input": [
      "mod.feat_imp()"
     ],
     "language": "python",
     "metadata": {},
     "outputs": [
      {
       "output_type": "stream",
       "stream": "stdout",
       "text": [
        "monthly: 19.0%\n",
        "loan_amount: 16.8%\n",
        "repayment_term: 15.0%\n",
        "irregular_payments: 10.0%\n",
        "gender: 7.1%\n",
        "SV: 1.9%\n",
        "KH: 1.6%\n",
        "group_size: 1.3%\n",
        "CO: 1.2%\n",
        "PH: 1.1%\n",
        "Housing: 0.9%\n",
        "Education: 0.9%\n",
        "act: Personal Housing Expenses: 0.9%\n",
        "Agriculture: 0.9%\n",
        "UG: 0.8%\n",
        "bonus_credit_eligibility: 0.8%\n",
        "pay_at_end: 0.7%\n",
        "theme_none: 0.7%\n",
        "dollars: 0.7%\n",
        "KE: 0.6%\n",
        "theme_Rural Exclusion: 0.6%\n",
        "Retail: 0.6%\n",
        "theme_Water and Sanitation: 0.5%\n",
        "Arts: 0.5%\n",
        "ZW: 0.5%\n",
        "act: Farming: 0.5%\n",
        "act: Higher education costs: 0.4%\n",
        "NG: 0.4%\n",
        "theme_Underfunded Areas: 0.4%\n",
        "theme_Conflict Zones: 0.4%\n",
        "theme_Higher Education: 0.3%\n",
        "Food: 0.3%\n",
        "Manufacturing: 0.3%\n",
        "theme_Innovative Loans: 0.3%\n",
        "PK: 0.3%\n",
        "act: Sewing: 0.3%\n",
        "PS: 0.3%\n",
        "NI: 0.3%\n",
        "Health: 0.3%\n",
        "EC: 0.2%\n",
        "theme_Mobile Technology: 0.2%\n",
        "act: Pigs: 0.2%\n",
        "ID: 0.2%\n",
        "PE: 0.2%\n",
        "JO: 0.2%\n",
        "Services: 0.2%\n",
        "TJ: 0.2%\n",
        "act: General Store: 0.2%\n",
        "theme_Youth: 0.2%\n",
        "theme_Start-Up: 0.2%\n",
        "PY: 0.2%\n",
        "theme_Vulnerable Groups: 0.2%\n",
        "LR: 0.2%\n",
        "theme_Disaster recovery: 0.2%\n",
        "act: Phone Use Sales: 0.2%\n",
        "theme_Green: 0.2%\n",
        "Personal Use: 0.2%\n",
        "ML: 0.2%\n",
        "act: Home Energy: 0.2%\n",
        "act: Agriculture: 0.2%\n",
        "act: Clothing Sales: 0.2%\n",
        "Clothing: 0.1%\n",
        "VN: 0.1%\n",
        "IN: 0.1%\n",
        "AM: 0.1%\n",
        "act: Primary/secondary school costs: 0.1%\n",
        "theme_Job Creation: 0.1%\n",
        "SL: 0.1%\n",
        "US: 0.1%\n",
        "TZ: 0.1%\n",
        "act: Retail: 0.1%\n",
        "HT: 0.1%\n",
        "SN: 0.1%\n",
        "theme_Arab Youth: 0.1%\n",
        "YE: 0.1%\n",
        "act: Dairy: 0.1%\n",
        "TL: 0.1%\n",
        "act: Livestock: 0.1%\n",
        "act: Personal Purchases: 0.1%\n",
        "BJ: 0.1%\n",
        "WS: 0.1%\n",
        "MX: 0.1%\n",
        "AZ: 0.1%\n",
        "HN: 0.1%\n",
        "CM: 0.1%\n",
        "KG: 0.1%\n",
        "IQ: 0.1%\n",
        "CR: 0.1%\n",
        "theme_Islamic Finance: 0.1%\n",
        "act: Food Production/Sales: 0.1%\n",
        "act: Fruits & Vegetables: 0.1%\n",
        "act: Grocery Store: 0.1%\n",
        "Construction: 0.1%\n",
        "act: Services: 0.1%\n",
        "Transportation: 0.1%\n",
        "act: Home Appliances: 0.1%\n",
        "LB: 0.1%\n",
        "act: Manufacturing: 0.1%\n",
        "act: Poultry: 0.1%\n",
        "act: Fishing: 0.1%\n",
        "act: Transportation: 0.1%\n",
        "act: Education provider: 0.1%\n",
        "theme_Growing Businesses: 0.1%\n",
        "act: Tailoring: 0.1%\n",
        "BO: 0.1%\n",
        "act: Animal Sales: 0.1%\n",
        "GT: 0.1%\n",
        "RW: 0.0%\n",
        "act: Rickshaw: 0.0%\n",
        "MN: 0.0%\n",
        "act: Food Market: 0.0%\n",
        "act: Cattle: 0.0%\n",
        "act: Food Stall: 0.0%\n",
        "act: Personal Medical Expenses: 0.0%\n",
        "act: Furniture Making: 0.0%\n",
        "act: Farm Supplies: 0.0%\n",
        "UA: 0.0%\n",
        "act: Crafts: 0.0%\n",
        "act: Food: 0.0%\n",
        "act: Fish Selling: 0.0%\n",
        "act: Beauty Salon: 0.0%\n",
        "act: Bakery: 0.0%\n",
        "act: Soft Drinks: 0.0%\n",
        "act: Vehicle: 0.0%\n",
        "act: Home Products Sales: 0.0%\n",
        "XK: 0.0%\n",
        "act: Cosmetics Sales: 0.0%\n",
        "GH: 0.0%\n",
        "LA: 0.0%\n",
        "TG: 0.0%\n",
        "CD: 0.0%\n",
        "act: Construction Supplies: 0.0%\n",
        "act: Taxi: 0.0%\n",
        "currency_loss: 0.0%\n",
        "theme_Fair Trade: 0.0%\n",
        "GE: 0.0%\n",
        "MZ: 0.0%\n",
        "act: Motorcycle Transport: 0.0%\n",
        "act: Carpentry: 0.0%\n",
        "act: Personal Products Sales: 0.0%\n",
        "SR: 0.0%\n",
        "act: Clothing: 0.0%\n",
        "act: Cereals: 0.0%\n",
        "act: Cloth & Dressmaking Supplies: 0.0%\n",
        "AL: 0.0%\n",
        "act: Wedding Expenses: 0.0%\n",
        "act: Metal Shop: 0.0%\n",
        "act: Pub: 0.0%\n",
        "theme_Flexible Credit Study: 0.0%\n",
        "act: Shoe Sales: 0.0%\n",
        "BZ: 0.0%\n",
        "act: Cafe: 0.0%\n",
        "act: Pharmacy: 0.0%\n",
        "act: Construction: 0.0%\n",
        "act: Used Clothing: 0.0%\n",
        "act: Spare Parts: 0.0%\n",
        "act: Charcoal Sales: 0.0%\n",
        "act: Liquor Store / Off-License: 0.0%\n",
        "act: Restaurant: 0.0%\n",
        "act: Electronics Sales: 0.0%\n",
        "act: Renewable Energy Products: 0.0%\n",
        "act: Auto Repair: 0.0%\n",
        "act: Fuel/Firewood: 0.0%\n",
        "BF: 0.0%\n",
        "BI: 0.0%\n",
        "act: Health: 0.0%\n",
        "act: Consumer Goods: 0.0%\n",
        "act: Flowers: 0.0%\n",
        "act: Butcher Shop: 0.0%\n",
        "act: Barber Shop: 0.0%\n",
        "act: Hardware: 0.0%\n",
        "act: Weaving: 0.0%\n",
        "act: Milk Sales: 0.0%\n",
        "act: Property: 0.0%\n",
        "ZM: 0.0%\n",
        "MM: 0.0%\n",
        "ZA: 0.0%\n",
        "act: Waste Management: 0.0%\n",
        "act: Vehicle Repairs: 0.0%\n",
        "act: Phone Accessories: 0.0%\n",
        "Entertainment: 0.0%\n",
        "act: Jewelry: 0.0%\n",
        "act: Perfumes: 0.0%\n",
        "DO: 0.0%\n",
        "act: Mobile Phones: 0.0%\n",
        "act: Plastics Sales: 0.0%\n",
        "Wholesale: 0.0%\n",
        "act: Movie Tapes & DVDs: 0.0%\n",
        "act: Catering: 0.0%\n",
        "act: Electrical Goods: 0.0%\n",
        "act: Natural Medicines: 0.0%\n",
        "act: Textiles: 0.0%\n",
        "act: Embroidery: 0.0%\n",
        "act: Cheese Making: 0.0%\n",
        "IL: 0.0%\n",
        "act: Decorations Sales: 0.0%\n",
        "act: Land Rental: 0.0%\n",
        "act: Internet Cafe: 0.0%\n",
        "act: Electronics Repair: 0.0%\n",
        "act: Cobbler: 0.0%\n",
        "act: Games: 0.0%\n",
        "act: Arts: 0.0%\n",
        "act: Timber Sales: 0.0%\n",
        "act: Machinery Rental: 0.0%\n",
        "act: Recycling: 0.0%\n",
        "act: Computers: 0.0%\n",
        "TH: 0.0%\n",
        "MW: 0.0%\n",
        "act: Electrician: 0.0%\n",
        "theme_Kiva City LA: 0.0%\n",
        "act: Wholesale: 0.0%\n",
        "act: Water Distribution: 0.0%\n",
        "theme_SME: 0.0%\n",
        "act: Medical Clinic: 0.0%\n",
        "act: Used Shoes: 0.0%\n",
        "act: Bricks: 0.0%\n",
        "act: Recycled Materials: 0.0%\n",
        "BR: 0.0%\n",
        "act: Photography: 0.0%\n",
        "TR: 0.0%\n",
        "NP: 0.0%\n",
        "act: Motorcycle Repair: 0.0%\n",
        "act: Bookstore: 0.0%\n",
        "act: Veterinary Sales: 0.0%\n",
        "act: Printing: 0.0%\n",
        "act: Phone Repair: 0.0%\n",
        "act: Office Supplies: 0.0%\n",
        "theme_Kiva City Detroit: 0.0%\n",
        "act: Paper Sales: 0.0%\n",
        "act: Party Supplies: 0.0%\n",
        "act: Musical Performance: 0.0%\n",
        "act: Musical Instruments: 0.0%\n",
        "act: Music Discs & Tapes: 0.0%\n",
        "act: Patchwork: 0.0%\n",
        "MD: 0.0%\n",
        "theme_Health: 0.0%\n",
        "act: Religious Articles: 0.0%\n",
        "act: Secretarial Services: 0.0%\n",
        "act: Souvenir Sales: 0.0%\n",
        "act: Sporting Good Sales: 0.0%\n",
        "act: Tourism: 0.0%\n",
        "act: Traveling Sales: 0.0%\n",
        "act: Upholstery: 0.0%\n",
        "act: Utilities: 0.0%\n",
        "act: Quarrying: 0.0%\n",
        "act: Knitting: 0.0%\n",
        "act: Machine Shop: 0.0%\n",
        "act: Laundry: 0.0%\n",
        "MR: 0.0%\n",
        "CL: 0.0%\n",
        "CG: 0.0%\n",
        "PA: 0.0%\n",
        "QS: 0.0%\n",
        "SB: 0.0%\n",
        "SO: 0.0%\n",
        "VC: 0.0%\n",
        "VU: 0.0%\n",
        "act: Air Conditioning: 0.0%\n",
        "act: Balut-Making: 0.0%\n",
        "act: Bicycle Repair: 0.0%\n",
        "act: Bicycle Sales: 0.0%\n",
        "act: Well digging: 0.0%\n",
        "act: Bookbinding: 0.0%\n",
        "act: Call Center: 0.0%\n",
        "act: Cement: 0.0%\n",
        "act: Child Care: 0.0%\n",
        "act: Dental: 0.0%\n",
        "act: Entertainment: 0.0%\n",
        "act: Film: 0.0%\n",
        "act: Funeral Expenses: 0.0%\n",
        "act: Goods Distribution: 0.0%\n",
        "act: Hotel: 0.0%\n",
        "CN: 0.0%\n",
        "act: Blacksmith: 0.0%\n"
       ]
      }
     ],
     "prompt_number": 4
    },
    {
     "cell_type": "code",
     "collapsed": false,
     "input": [
      "mod.predict(df)"
     ],
     "language": "python",
     "metadata": {},
     "outputs": [
      {
       "output_type": "stream",
       "stream": "stdout",
       "text": [
        "0\n",
        "actl pos:"
       ]
      },
      {
       "output_type": "stream",
       "stream": "stdout",
       "text": [
        " 0.0528 pred pos: 0.2227\n",
        "true pos: 0.0497 false pos: 0.173\n",
        "true neg: 0.7742 false neg: 0.0031\n",
        "recall: 0.942 precision: 0.2232\n",
        "\n"
       ]
      }
     ],
     "prompt_number": 6
    },
    {
     "cell_type": "code",
     "collapsed": false,
     "input": [
      "df"
     ],
     "language": "python",
     "metadata": {},
     "outputs": [
      {
       "html": [
        "<div style=\"max-height:1000px;max-width:1500px;overflow:auto;\">\n",
        "<table border=\"1\" class=\"dataframe\">\n",
        "  <thead>\n",
        "    <tr style=\"text-align: right;\">\n",
        "      <th></th>\n",
        "      <th>activity</th>\n",
        "      <th>bonus_credit_eligibility</th>\n",
        "      <th>country</th>\n",
        "      <th>currency_loss</th>\n",
        "      <th>dollars</th>\n",
        "      <th>expired</th>\n",
        "      <th>gender</th>\n",
        "      <th>group_size</th>\n",
        "      <th>irregular_payments</th>\n",
        "      <th>loan_amount</th>\n",
        "      <th>pay_at_end</th>\n",
        "      <th>posted_date</th>\n",
        "      <th>repayment_term</th>\n",
        "      <th>sector</th>\n",
        "      <th>tags</th>\n",
        "      <th>themes</th>\n",
        "      <th>use</th>\n",
        "    </tr>\n",
        "  </thead>\n",
        "  <tbody>\n",
        "    <tr>\n",
        "      <th>638631</th>\n",
        "      <td>                         Retail</td>\n",
        "      <td> False</td>\n",
        "      <td> CR</td>\n",
        "      <td> False</td>\n",
        "      <td> False</td>\n",
        "      <td> False</td>\n",
        "      <td>  True</td>\n",
        "      <td>  9</td>\n",
        "      <td> False</td>\n",
        "      <td> 6950</td>\n",
        "      <td> False</td>\n",
        "      <td>2014-01-01 11:10:01</td>\n",
        "      <td> 13</td>\n",
        "      <td>       Retail</td>\n",
        "      <td> [{u'name': u'user_favorite'}, {u'name': u'#Wom...</td>\n",
        "      <td>                      [Underfunded Areas]</td>\n",
        "      <td> to buy sandals, clothing, beauty products, and...</td>\n",
        "    </tr>\n",
        "    <tr>\n",
        "      <th>641006</th>\n",
        "      <td>         Higher education costs</td>\n",
        "      <td> False</td>\n",
        "      <td> CD</td>\n",
        "      <td> False</td>\n",
        "      <td>  True</td>\n",
        "      <td> False</td>\n",
        "      <td> False</td>\n",
        "      <td>  1</td>\n",
        "      <td>  True</td>\n",
        "      <td> 1100</td>\n",
        "      <td> False</td>\n",
        "      <td>2014-01-07 07:50:02</td>\n",
        "      <td> 14</td>\n",
        "      <td>    Education</td>\n",
        "      <td> [{u'name': u'user_favorite'}, {u'name': u'#Par...</td>\n",
        "      <td>                                     None</td>\n",
        "      <td>     to pay the education costs for three students</td>\n",
        "    </tr>\n",
        "    <tr>\n",
        "      <th>641019</th>\n",
        "      <td>         Higher education costs</td>\n",
        "      <td> False</td>\n",
        "      <td> CD</td>\n",
        "      <td> False</td>\n",
        "      <td>  True</td>\n",
        "      <td> False</td>\n",
        "      <td> False</td>\n",
        "      <td>  1</td>\n",
        "      <td>  True</td>\n",
        "      <td>  775</td>\n",
        "      <td> False</td>\n",
        "      <td>2014-01-07 07:50:02</td>\n",
        "      <td> 14</td>\n",
        "      <td>    Education</td>\n",
        "      <td> [{u'name': u'#Parent'}, {u'name': u'#Schooling'}]</td>\n",
        "      <td>                                     None</td>\n",
        "      <td>       to pay the education costs for two students</td>\n",
        "    </tr>\n",
        "    <tr>\n",
        "      <th>641594</th>\n",
        "      <td>                        Farming</td>\n",
        "      <td> False</td>\n",
        "      <td> KE</td>\n",
        "      <td> False</td>\n",
        "      <td> False</td>\n",
        "      <td> False</td>\n",
        "      <td>  True</td>\n",
        "      <td>  3</td>\n",
        "      <td> False</td>\n",
        "      <td>  300</td>\n",
        "      <td>  True</td>\n",
        "      <td>2014-01-07 18:50:08</td>\n",
        "      <td> 10</td>\n",
        "      <td>  Agriculture</td>\n",
        "      <td>                   [{u'name': u'#Post-disbursed'}]</td>\n",
        "      <td>                        [Rural Exclusion]</td>\n",
        "      <td> To purchase hybrid seeds and fertilizers to gr...</td>\n",
        "    </tr>\n",
        "    <tr>\n",
        "      <th>642256</th>\n",
        "      <td>                       Services</td>\n",
        "      <td>  True</td>\n",
        "      <td> CM</td>\n",
        "      <td> False</td>\n",
        "      <td> False</td>\n",
        "      <td> False</td>\n",
        "      <td>  True</td>\n",
        "      <td>  1</td>\n",
        "      <td>  True</td>\n",
        "      <td>  625</td>\n",
        "      <td> False</td>\n",
        "      <td>2014-01-09 16:50:35</td>\n",
        "      <td> 15</td>\n",
        "      <td>     Services</td>\n",
        "      <td> [{u'name': u'#Parent'}, {u'name': u'#Interesti...</td>\n",
        "      <td>                      [Vulnerable Groups]</td>\n",
        "      <td>                    to purchase a milling machine.</td>\n",
        "    </tr>\n",
        "    <tr>\n",
        "      <th>642311</th>\n",
        "      <td>                    Food Market</td>\n",
        "      <td>  True</td>\n",
        "      <td> SL</td>\n",
        "      <td> False</td>\n",
        "      <td> False</td>\n",
        "      <td> False</td>\n",
        "      <td>  True</td>\n",
        "      <td>  5</td>\n",
        "      <td>  True</td>\n",
        "      <td> 1175</td>\n",
        "      <td> False</td>\n",
        "      <td>2014-01-07 19:10:02</td>\n",
        "      <td> 10</td>\n",
        "      <td>         Food</td>\n",
        "      <td>                                                []</td>\n",
        "      <td>                         [Conflict Zones]</td>\n",
        "      <td> to buy rice, palm-oil, tomatoes, pepper, onion...</td>\n",
        "    </tr>\n",
        "    <tr>\n",
        "      <th>642353</th>\n",
        "      <td>                    Soft Drinks</td>\n",
        "      <td>  True</td>\n",
        "      <td> CM</td>\n",
        "      <td> False</td>\n",
        "      <td> False</td>\n",
        "      <td> False</td>\n",
        "      <td>  True</td>\n",
        "      <td>  1</td>\n",
        "      <td>  True</td>\n",
        "      <td>  425</td>\n",
        "      <td> False</td>\n",
        "      <td>2014-01-09 16:50:35</td>\n",
        "      <td> 15</td>\n",
        "      <td>         Food</td>\n",
        "      <td>                    [{u'name': u'#WomanOwnedBiz'}]</td>\n",
        "      <td>                      [Vulnerable Groups]</td>\n",
        "      <td>                       to buy soft drinks to sell.</td>\n",
        "    </tr>\n",
        "    <tr>\n",
        "      <th>642386</th>\n",
        "      <td>                 Clothing Sales</td>\n",
        "      <td>  True</td>\n",
        "      <td> KE</td>\n",
        "      <td> False</td>\n",
        "      <td> False</td>\n",
        "      <td> False</td>\n",
        "      <td>  True</td>\n",
        "      <td>  1</td>\n",
        "      <td>  True</td>\n",
        "      <td>  250</td>\n",
        "      <td> False</td>\n",
        "      <td>2014-01-03 17:10:09</td>\n",
        "      <td> 14</td>\n",
        "      <td>     Clothing</td>\n",
        "      <td>                                                []</td>\n",
        "      <td>                                     None</td>\n",
        "      <td>                     to purchase stock of clothing</td>\n",
        "    </tr>\n",
        "    <tr>\n",
        "      <th>642429</th>\n",
        "      <td>                         Crafts</td>\n",
        "      <td>  True</td>\n",
        "      <td> BO</td>\n",
        "      <td> False</td>\n",
        "      <td> False</td>\n",
        "      <td> False</td>\n",
        "      <td> False</td>\n",
        "      <td>  1</td>\n",
        "      <td>  True</td>\n",
        "      <td>  600</td>\n",
        "      <td> False</td>\n",
        "      <td>2014-01-03 17:30:01</td>\n",
        "      <td> 14</td>\n",
        "      <td>         Arts</td>\n",
        "      <td>                                                []</td>\n",
        "      <td>                                     None</td>\n",
        "      <td> to buy fabrics, linings, and ribbons for his b...</td>\n",
        "    </tr>\n",
        "    <tr>\n",
        "      <th>642836</th>\n",
        "      <td>                Phone Use Sales</td>\n",
        "      <td>  True</td>\n",
        "      <td> KE</td>\n",
        "      <td> False</td>\n",
        "      <td> False</td>\n",
        "      <td> False</td>\n",
        "      <td>  True</td>\n",
        "      <td>  1</td>\n",
        "      <td>  True</td>\n",
        "      <td>  600</td>\n",
        "      <td> False</td>\n",
        "      <td>2014-01-08 07:30:02</td>\n",
        "      <td> 14</td>\n",
        "      <td>       Retail</td>\n",
        "      <td> [{u'name': u'user_favorite'}, {u'name': u'#Rep...</td>\n",
        "      <td>                                     None</td>\n",
        "      <td>         To add money float and phone accessories.</td>\n",
        "    </tr>\n",
        "    <tr>\n",
        "      <th>643267</th>\n",
        "      <td>                    Food Market</td>\n",
        "      <td>  True</td>\n",
        "      <td> CM</td>\n",
        "      <td> False</td>\n",
        "      <td> False</td>\n",
        "      <td> False</td>\n",
        "      <td>  True</td>\n",
        "      <td>  1</td>\n",
        "      <td>  True</td>\n",
        "      <td>  225</td>\n",
        "      <td> False</td>\n",
        "      <td>2014-01-09 16:50:35</td>\n",
        "      <td> 15</td>\n",
        "      <td>         Food</td>\n",
        "      <td>                                                []</td>\n",
        "      <td>                      [Vulnerable Groups]</td>\n",
        "      <td> to buy tomatoes, oil, condiments, and other pr...</td>\n",
        "    </tr>\n",
        "    <tr>\n",
        "      <th>643288</th>\n",
        "      <td> Primary/secondary school costs</td>\n",
        "      <td>  True</td>\n",
        "      <td> LB</td>\n",
        "      <td> False</td>\n",
        "      <td>  True</td>\n",
        "      <td> False</td>\n",
        "      <td> False</td>\n",
        "      <td>  1</td>\n",
        "      <td>  True</td>\n",
        "      <td> 1200</td>\n",
        "      <td> False</td>\n",
        "      <td>2014-01-02 18:50:01</td>\n",
        "      <td> 14</td>\n",
        "      <td>    Education</td>\n",
        "      <td> [{u'name': u'#Parent'}, {u'name': u'#Schooling'}]</td>\n",
        "      <td>                                     None</td>\n",
        "      <td> to pay for his children's school fees and main...</td>\n",
        "    </tr>\n",
        "    <tr>\n",
        "      <th>643402</th>\n",
        "      <td>                    Agriculture</td>\n",
        "      <td>  True</td>\n",
        "      <td> LB</td>\n",
        "      <td> False</td>\n",
        "      <td>  True</td>\n",
        "      <td> False</td>\n",
        "      <td> False</td>\n",
        "      <td>  1</td>\n",
        "      <td>  True</td>\n",
        "      <td> 1200</td>\n",
        "      <td> False</td>\n",
        "      <td>2014-01-02 18:50:01</td>\n",
        "      <td> 15</td>\n",
        "      <td>  Agriculture</td>\n",
        "      <td> [{u'name': u'user_favorite'}, {u'name': u'#Sus...</td>\n",
        "      <td>                                     None</td>\n",
        "      <td> To start a new agricultural business where he ...</td>\n",
        "    </tr>\n",
        "    <tr>\n",
        "      <th>643761</th>\n",
        "      <td>          Construction Supplies</td>\n",
        "      <td>  True</td>\n",
        "      <td> YE</td>\n",
        "      <td> False</td>\n",
        "      <td> False</td>\n",
        "      <td> False</td>\n",
        "      <td>  True</td>\n",
        "      <td>  4</td>\n",
        "      <td>  True</td>\n",
        "      <td>  700</td>\n",
        "      <td> False</td>\n",
        "      <td>2014-01-02 18:50:03</td>\n",
        "      <td> 15</td>\n",
        "      <td> Construction</td>\n",
        "      <td>                                                []</td>\n",
        "      <td>                                     None</td>\n",
        "      <td> to buy construction supplies to use in her sma...</td>\n",
        "    </tr>\n",
        "    <tr>\n",
        "      <th>644101</th>\n",
        "      <td>                   Fish Selling</td>\n",
        "      <td>  True</td>\n",
        "      <td> SL</td>\n",
        "      <td> False</td>\n",
        "      <td> False</td>\n",
        "      <td> False</td>\n",
        "      <td>  True</td>\n",
        "      <td>  4</td>\n",
        "      <td>  True</td>\n",
        "      <td>  750</td>\n",
        "      <td> False</td>\n",
        "      <td>2014-01-07 19:10:07</td>\n",
        "      <td> 12</td>\n",
        "      <td>         Food</td>\n",
        "      <td> [{u'name': u'#WomanOwnedBiz'}, {u'name': u'#El...</td>\n",
        "      <td>                         [Conflict Zones]</td>\n",
        "      <td> to buy a large quantity of fish to add to her ...</td>\n",
        "    </tr>\n",
        "    <tr>\n",
        "      <th>644518</th>\n",
        "      <td>                    Barber Shop</td>\n",
        "      <td> False</td>\n",
        "      <td> VN</td>\n",
        "      <td> False</td>\n",
        "      <td> False</td>\n",
        "      <td> False</td>\n",
        "      <td>  True</td>\n",
        "      <td>  6</td>\n",
        "      <td>  True</td>\n",
        "      <td> 2075</td>\n",
        "      <td> False</td>\n",
        "      <td>2014-01-17 14:30:03</td>\n",
        "      <td> 14</td>\n",
        "      <td>     Services</td>\n",
        "      <td>                     [{u'name': u'user_favorite'}]</td>\n",
        "      <td>                                     None</td>\n",
        "      <td> to buy barber tools, hair stylers, and shampoo...</td>\n",
        "    </tr>\n",
        "    <tr>\n",
        "      <th>645222</th>\n",
        "      <td>                       Services</td>\n",
        "      <td> False</td>\n",
        "      <td> ID</td>\n",
        "      <td> False</td>\n",
        "      <td> False</td>\n",
        "      <td> False</td>\n",
        "      <td>  True</td>\n",
        "      <td>  1</td>\n",
        "      <td>  True</td>\n",
        "      <td>  225</td>\n",
        "      <td> False</td>\n",
        "      <td>2014-01-07 23:10:03</td>\n",
        "      <td> 49</td>\n",
        "      <td>     Services</td>\n",
        "      <td> [{u'name': u'user_favorite'}, {u'name': u'#Low...</td>\n",
        "      <td>    [Mobile Technology, Innovative Loans]</td>\n",
        "      <td> to purchase a printer to process more mobile p...</td>\n",
        "    </tr>\n",
        "    <tr>\n",
        "      <th>645758</th>\n",
        "      <td>                    Agriculture</td>\n",
        "      <td> False</td>\n",
        "      <td> AM</td>\n",
        "      <td> False</td>\n",
        "      <td>  True</td>\n",
        "      <td> False</td>\n",
        "      <td> False</td>\n",
        "      <td>  1</td>\n",
        "      <td>  True</td>\n",
        "      <td> 3000</td>\n",
        "      <td> False</td>\n",
        "      <td>2014-01-13 22:50:07</td>\n",
        "      <td> 26</td>\n",
        "      <td>  Agriculture</td>\n",
        "      <td> [{u'name': u'user_favorite'}, {u'name': u'#Eco...</td>\n",
        "      <td>                                     None</td>\n",
        "      <td>                            to buy 30 new beehives</td>\n",
        "    </tr>\n",
        "    <tr>\n",
        "      <th>645781</th>\n",
        "      <td>                      Carpentry</td>\n",
        "      <td> False</td>\n",
        "      <td> VN</td>\n",
        "      <td> False</td>\n",
        "      <td> False</td>\n",
        "      <td> False</td>\n",
        "      <td>  True</td>\n",
        "      <td>  8</td>\n",
        "      <td>  True</td>\n",
        "      <td> 3425</td>\n",
        "      <td> False</td>\n",
        "      <td>2014-01-17 14:30:03</td>\n",
        "      <td> 14</td>\n",
        "      <td> Construction</td>\n",
        "      <td>                                                []</td>\n",
        "      <td>                                     None</td>\n",
        "      <td>                        to buy a carpentry machine</td>\n",
        "    </tr>\n",
        "    <tr>\n",
        "      <th>645846</th>\n",
        "      <td>                      Livestock</td>\n",
        "      <td> False</td>\n",
        "      <td> AM</td>\n",
        "      <td> False</td>\n",
        "      <td>  True</td>\n",
        "      <td>  True</td>\n",
        "      <td> False</td>\n",
        "      <td>  1</td>\n",
        "      <td>  True</td>\n",
        "      <td> 2000</td>\n",
        "      <td> False</td>\n",
        "      <td>2014-01-17 14:30:09</td>\n",
        "      <td> 26</td>\n",
        "      <td>  Agriculture</td>\n",
        "      <td> [{u'name': u'user_favorite'}, {u'name': u'#Ani...</td>\n",
        "      <td>                                     None</td>\n",
        "      <td> to purchase forage for feeding the livestock d...</td>\n",
        "    </tr>\n",
        "    <tr>\n",
        "      <th>645918</th>\n",
        "      <td>                      Livestock</td>\n",
        "      <td> False</td>\n",
        "      <td> AM</td>\n",
        "      <td> False</td>\n",
        "      <td>  True</td>\n",
        "      <td> False</td>\n",
        "      <td> False</td>\n",
        "      <td>  1</td>\n",
        "      <td>  True</td>\n",
        "      <td> 1500</td>\n",
        "      <td> False</td>\n",
        "      <td>2014-01-12 01:30:02</td>\n",
        "      <td> 27</td>\n",
        "      <td>  Agriculture</td>\n",
        "      <td> [{u'name': u'user_favorite'}, {u'name': u'#Ani...</td>\n",
        "      <td>                                     None</td>\n",
        "      <td>               to pay for forage for the livestock</td>\n",
        "    </tr>\n",
        "    <tr>\n",
        "      <th>645927</th>\n",
        "      <td>                    Agriculture</td>\n",
        "      <td> False</td>\n",
        "      <td> AM</td>\n",
        "      <td> False</td>\n",
        "      <td>  True</td>\n",
        "      <td> False</td>\n",
        "      <td>  True</td>\n",
        "      <td>  1</td>\n",
        "      <td>  True</td>\n",
        "      <td> 1500</td>\n",
        "      <td> False</td>\n",
        "      <td>2014-01-17 14:30:09</td>\n",
        "      <td> 26</td>\n",
        "      <td>  Agriculture</td>\n",
        "      <td> [{u'name': u'user_favorite'}, {u'name': u'#Veg...</td>\n",
        "      <td>                                     None</td>\n",
        "      <td> to buy forage for feeding the livestock in the...</td>\n",
        "    </tr>\n",
        "    <tr>\n",
        "      <th>645953</th>\n",
        "      <td>                      Livestock</td>\n",
        "      <td> False</td>\n",
        "      <td> AM</td>\n",
        "      <td> False</td>\n",
        "      <td>  True</td>\n",
        "      <td> False</td>\n",
        "      <td>  True</td>\n",
        "      <td>  1</td>\n",
        "      <td>  True</td>\n",
        "      <td> 3000</td>\n",
        "      <td> False</td>\n",
        "      <td>2014-01-17 14:30:10</td>\n",
        "      <td> 27</td>\n",
        "      <td>  Agriculture</td>\n",
        "      <td> [{u'name': u'user_favorite'}, {u'name': u'#Ani...</td>\n",
        "      <td>                                     None</td>\n",
        "      <td> to buy four calves and forage for feeding the ...</td>\n",
        "    </tr>\n",
        "    <tr>\n",
        "      <th>645971</th>\n",
        "      <td>                        Farming</td>\n",
        "      <td> False</td>\n",
        "      <td> AM</td>\n",
        "      <td> False</td>\n",
        "      <td>  True</td>\n",
        "      <td>  True</td>\n",
        "      <td> False</td>\n",
        "      <td>  1</td>\n",
        "      <td>  True</td>\n",
        "      <td> 1500</td>\n",
        "      <td> False</td>\n",
        "      <td>2014-01-17 14:30:10</td>\n",
        "      <td> 28</td>\n",
        "      <td>  Agriculture</td>\n",
        "      <td>                     [{u'name': u'user_favorite'}]</td>\n",
        "      <td>                                     None</td>\n",
        "      <td>                      to pay for a cow and forage </td>\n",
        "    </tr>\n",
        "    <tr>\n",
        "      <th>645976</th>\n",
        "      <td>                      Livestock</td>\n",
        "      <td> False</td>\n",
        "      <td> AM</td>\n",
        "      <td> False</td>\n",
        "      <td>  True</td>\n",
        "      <td> False</td>\n",
        "      <td>  True</td>\n",
        "      <td>  1</td>\n",
        "      <td>  True</td>\n",
        "      <td> 3000</td>\n",
        "      <td> False</td>\n",
        "      <td>2014-01-17 14:30:10</td>\n",
        "      <td> 26</td>\n",
        "      <td>  Agriculture</td>\n",
        "      <td> [{u'name': u'user_favorite'}, {u'name': u'#Ani...</td>\n",
        "      <td>                                     None</td>\n",
        "      <td>             to purchase oxen, piglets and forage </td>\n",
        "    </tr>\n",
        "    <tr>\n",
        "      <th>645977</th>\n",
        "      <td>                      Livestock</td>\n",
        "      <td> False</td>\n",
        "      <td> AM</td>\n",
        "      <td> False</td>\n",
        "      <td>  True</td>\n",
        "      <td> False</td>\n",
        "      <td> False</td>\n",
        "      <td>  1</td>\n",
        "      <td>  True</td>\n",
        "      <td> 1500</td>\n",
        "      <td> False</td>\n",
        "      <td>2014-01-17 14:30:10</td>\n",
        "      <td> 38</td>\n",
        "      <td>  Agriculture</td>\n",
        "      <td> [{u'name': u'user_favorite'}, {u'name': u'#Ani...</td>\n",
        "      <td>                                     None</td>\n",
        "      <td>              to renovate his barn and buy forage </td>\n",
        "    </tr>\n",
        "    <tr>\n",
        "      <th>646007</th>\n",
        "      <td>                      Livestock</td>\n",
        "      <td> False</td>\n",
        "      <td> AM</td>\n",
        "      <td> False</td>\n",
        "      <td>  True</td>\n",
        "      <td>  True</td>\n",
        "      <td> False</td>\n",
        "      <td>  1</td>\n",
        "      <td>  True</td>\n",
        "      <td> 1500</td>\n",
        "      <td> False</td>\n",
        "      <td>2014-01-17 14:30:10</td>\n",
        "      <td> 38</td>\n",
        "      <td>  Agriculture</td>\n",
        "      <td> [{u'name': u'user_favorite'}, {u'name': u'#Ani...</td>\n",
        "      <td>                                     None</td>\n",
        "      <td>                         to buy calves and forage </td>\n",
        "    </tr>\n",
        "    <tr>\n",
        "      <th>646126</th>\n",
        "      <td>                         Crafts</td>\n",
        "      <td> False</td>\n",
        "      <td> NI</td>\n",
        "      <td> False</td>\n",
        "      <td> False</td>\n",
        "      <td> False</td>\n",
        "      <td>  True</td>\n",
        "      <td>  1</td>\n",
        "      <td>  True</td>\n",
        "      <td> 1000</td>\n",
        "      <td> False</td>\n",
        "      <td>2014-01-18 09:50:05</td>\n",
        "      <td> 11</td>\n",
        "      <td>         Arts</td>\n",
        "      <td>                                                []</td>\n",
        "      <td>                                     None</td>\n",
        "      <td> to purchase materials such as resin, talc, zen...</td>\n",
        "    </tr>\n",
        "    <tr>\n",
        "      <th>646148</th>\n",
        "      <td>                  Grocery Store</td>\n",
        "      <td> False</td>\n",
        "      <td> NI</td>\n",
        "      <td> False</td>\n",
        "      <td> False</td>\n",
        "      <td> False</td>\n",
        "      <td>  True</td>\n",
        "      <td>  1</td>\n",
        "      <td>  True</td>\n",
        "      <td>  800</td>\n",
        "      <td> False</td>\n",
        "      <td>2014-01-18 09:50:05</td>\n",
        "      <td> 11</td>\n",
        "      <td>         Food</td>\n",
        "      <td> [{u'name': u'user_favorite'}, {u'name': u'#Par...</td>\n",
        "      <td>                                     None</td>\n",
        "      <td> to purchase rice, sugar, oil, pop, beer, canne...</td>\n",
        "    </tr>\n",
        "    <tr>\n",
        "      <th>646153</th>\n",
        "      <td>                  Grocery Store</td>\n",
        "      <td> False</td>\n",
        "      <td> NI</td>\n",
        "      <td> False</td>\n",
        "      <td> False</td>\n",
        "      <td> False</td>\n",
        "      <td>  True</td>\n",
        "      <td>  1</td>\n",
        "      <td>  True</td>\n",
        "      <td>  800</td>\n",
        "      <td> False</td>\n",
        "      <td>2014-01-18 09:50:05</td>\n",
        "      <td> 15</td>\n",
        "      <td>         Food</td>\n",
        "      <td> [{u'name': u'user_favorite'}, {u'name': u'#Wom...</td>\n",
        "      <td>                                     None</td>\n",
        "      <td>                    stock her small grocery store.</td>\n",
        "    </tr>\n",
        "    <tr>\n",
        "      <th>...</th>\n",
        "      <td>...</td>\n",
        "      <td>...</td>\n",
        "      <td>...</td>\n",
        "      <td>...</td>\n",
        "      <td>...</td>\n",
        "      <td>...</td>\n",
        "      <td>...</td>\n",
        "      <td>...</td>\n",
        "      <td>...</td>\n",
        "      <td>...</td>\n",
        "      <td>...</td>\n",
        "      <td>...</td>\n",
        "      <td>...</td>\n",
        "      <td>...</td>\n",
        "      <td>...</td>\n",
        "      <td>...</td>\n",
        "      <td>...</td>\n",
        "    </tr>\n",
        "    <tr>\n",
        "      <th>797942</th>\n",
        "      <td>                   Fish Selling</td>\n",
        "      <td> False</td>\n",
        "      <td> CG</td>\n",
        "      <td> False</td>\n",
        "      <td> False</td>\n",
        "      <td> False</td>\n",
        "      <td>  True</td>\n",
        "      <td>  5</td>\n",
        "      <td> False</td>\n",
        "      <td> 6750</td>\n",
        "      <td> False</td>\n",
        "      <td>2014-11-17 14:30:04</td>\n",
        "      <td>  8</td>\n",
        "      <td>         Food</td>\n",
        "      <td>                     [{u'name': u'user_favorite'}]</td>\n",
        "      <td>                         [Conflict Zones]</td>\n",
        "      <td>                          to purchase fish in bulk</td>\n",
        "    </tr>\n",
        "    <tr>\n",
        "      <th>797944</th>\n",
        "      <td>                     Food Stall</td>\n",
        "      <td> False</td>\n",
        "      <td> IN</td>\n",
        "      <td> False</td>\n",
        "      <td> False</td>\n",
        "      <td>  True</td>\n",
        "      <td>  True</td>\n",
        "      <td> 10</td>\n",
        "      <td> False</td>\n",
        "      <td> 2450</td>\n",
        "      <td>  True</td>\n",
        "      <td>2014-11-17 15:00:02</td>\n",
        "      <td> 43</td>\n",
        "      <td>         Food</td>\n",
        "      <td> [{u'name': u'#WomanOwnedBiz'}, {u'name': u'#In...</td>\n",
        "      <td>                      [Vulnerable Groups]</td>\n",
        "      <td> to put up a shade and to buy some utensils for...</td>\n",
        "    </tr>\n",
        "    <tr>\n",
        "      <th>797946</th>\n",
        "      <td>                      Tailoring</td>\n",
        "      <td> False</td>\n",
        "      <td> IN</td>\n",
        "      <td> False</td>\n",
        "      <td> False</td>\n",
        "      <td>  True</td>\n",
        "      <td>  True</td>\n",
        "      <td> 10</td>\n",
        "      <td> False</td>\n",
        "      <td> 2450</td>\n",
        "      <td>  True</td>\n",
        "      <td>2014-11-17 15:00:03</td>\n",
        "      <td> 43</td>\n",
        "      <td>     Services</td>\n",
        "      <td> [{u'name': u'#Parent'}, {u'name': u'#Fabrics'}...</td>\n",
        "      <td>                                     None</td>\n",
        "      <td>    to buy a sewing machine and related materials.</td>\n",
        "    </tr>\n",
        "    <tr>\n",
        "      <th>797947</th>\n",
        "      <td>                         Sewing</td>\n",
        "      <td>  True</td>\n",
        "      <td> TJ</td>\n",
        "      <td> False</td>\n",
        "      <td> False</td>\n",
        "      <td> False</td>\n",
        "      <td>  True</td>\n",
        "      <td>  1</td>\n",
        "      <td> False</td>\n",
        "      <td>  600</td>\n",
        "      <td> False</td>\n",
        "      <td>2014-11-17 15:40:02</td>\n",
        "      <td> 14</td>\n",
        "      <td>     Services</td>\n",
        "      <td> [{u'name': u'user_favorite'}, {u'name': u'#Par...</td>\n",
        "      <td>                                     None</td>\n",
        "      <td>                          To buy a sewing machine </td>\n",
        "    </tr>\n",
        "    <tr>\n",
        "      <th>797948</th>\n",
        "      <td>                      Tailoring</td>\n",
        "      <td>  True</td>\n",
        "      <td> KE</td>\n",
        "      <td> False</td>\n",
        "      <td> False</td>\n",
        "      <td> False</td>\n",
        "      <td> False</td>\n",
        "      <td>  1</td>\n",
        "      <td> False</td>\n",
        "      <td>  575</td>\n",
        "      <td> False</td>\n",
        "      <td>2014-11-17 15:40:07</td>\n",
        "      <td> 13</td>\n",
        "      <td>     Services</td>\n",
        "      <td> [{u'name': u'#Fabrics'}, {u'name': u'#IncomePr...</td>\n",
        "      <td>                                     None</td>\n",
        "      <td> to purchase cloth materials and sewing thread ...</td>\n",
        "    </tr>\n",
        "    <tr>\n",
        "      <th>797952</th>\n",
        "      <td>             Education provider</td>\n",
        "      <td> False</td>\n",
        "      <td> AM</td>\n",
        "      <td> False</td>\n",
        "      <td> False</td>\n",
        "      <td> False</td>\n",
        "      <td>  True</td>\n",
        "      <td>  1</td>\n",
        "      <td>  True</td>\n",
        "      <td> 1450</td>\n",
        "      <td> False</td>\n",
        "      <td>2014-11-17 15:40:08</td>\n",
        "      <td> 27</td>\n",
        "      <td>    Education</td>\n",
        "      <td> [{u'name': u'volunteer_like'}, {u'name': u'use...</td>\n",
        "      <td>                               [Start-Up]</td>\n",
        "      <td> to pay for a computer for providing classes mo...</td>\n",
        "    </tr>\n",
        "    <tr>\n",
        "      <th>797953</th>\n",
        "      <td>                     Embroidery</td>\n",
        "      <td>  True</td>\n",
        "      <td> PK</td>\n",
        "      <td> False</td>\n",
        "      <td> False</td>\n",
        "      <td> False</td>\n",
        "      <td>  True</td>\n",
        "      <td>  1</td>\n",
        "      <td> False</td>\n",
        "      <td>  450</td>\n",
        "      <td> False</td>\n",
        "      <td>2014-11-17 15:00:03</td>\n",
        "      <td> 14</td>\n",
        "      <td>         Arts</td>\n",
        "      <td>                                                []</td>\n",
        "      <td>                                     None</td>\n",
        "      <td> to purchase more beads, threads, frames, needl...</td>\n",
        "    </tr>\n",
        "    <tr>\n",
        "      <th>797956</th>\n",
        "      <td>                   Animal Sales</td>\n",
        "      <td>  True</td>\n",
        "      <td> KE</td>\n",
        "      <td> False</td>\n",
        "      <td> False</td>\n",
        "      <td> False</td>\n",
        "      <td>  True</td>\n",
        "      <td>  1</td>\n",
        "      <td> False</td>\n",
        "      <td>  350</td>\n",
        "      <td> False</td>\n",
        "      <td>2014-11-17 15:10:05</td>\n",
        "      <td> 13</td>\n",
        "      <td>  Agriculture</td>\n",
        "      <td>                    [{u'name': u'volunteer_pick'}]</td>\n",
        "      <td>                                     None</td>\n",
        "      <td>            to purchase goats and cows for resale.</td>\n",
        "    </tr>\n",
        "    <tr>\n",
        "      <th>797958</th>\n",
        "      <td>                          Dairy</td>\n",
        "      <td>  True</td>\n",
        "      <td> PK</td>\n",
        "      <td> False</td>\n",
        "      <td> False</td>\n",
        "      <td> False</td>\n",
        "      <td>  True</td>\n",
        "      <td>  1</td>\n",
        "      <td>  True</td>\n",
        "      <td>  500</td>\n",
        "      <td> False</td>\n",
        "      <td>2014-11-17 15:10:06</td>\n",
        "      <td> 15</td>\n",
        "      <td>  Agriculture</td>\n",
        "      <td> [{u'name': u'volunteer_pick'}, {u'name': u'use...</td>\n",
        "      <td>                                     None</td>\n",
        "      <td> to purchase one more buffalo for increasing mi...</td>\n",
        "    </tr>\n",
        "    <tr>\n",
        "      <th>797960</th>\n",
        "      <td>                      Livestock</td>\n",
        "      <td>  True</td>\n",
        "      <td> PK</td>\n",
        "      <td> False</td>\n",
        "      <td> False</td>\n",
        "      <td> False</td>\n",
        "      <td>  True</td>\n",
        "      <td>  1</td>\n",
        "      <td> False</td>\n",
        "      <td>  600</td>\n",
        "      <td> False</td>\n",
        "      <td>2014-11-17 15:10:07</td>\n",
        "      <td> 14</td>\n",
        "      <td>  Agriculture</td>\n",
        "      <td> [{u'name': u'user_favorite'}, {u'name': u'#Ani...</td>\n",
        "      <td>                                     None</td>\n",
        "      <td>   to purchase more animals to inflate her sales. </td>\n",
        "    </tr>\n",
        "    <tr>\n",
        "      <th>797962</th>\n",
        "      <td>                   Animal Sales</td>\n",
        "      <td>  True</td>\n",
        "      <td> PK</td>\n",
        "      <td> False</td>\n",
        "      <td> False</td>\n",
        "      <td> False</td>\n",
        "      <td>  True</td>\n",
        "      <td>  1</td>\n",
        "      <td> False</td>\n",
        "      <td>  400</td>\n",
        "      <td> False</td>\n",
        "      <td>2014-11-17 15:00:03</td>\n",
        "      <td> 14</td>\n",
        "      <td>  Agriculture</td>\n",
        "      <td>                                                []</td>\n",
        "      <td>                                     None</td>\n",
        "      <td> to purchase more baby goats and calves to cate...</td>\n",
        "    </tr>\n",
        "    <tr>\n",
        "      <th>797964</th>\n",
        "      <td>                   Animal Sales</td>\n",
        "      <td>  True</td>\n",
        "      <td> PK</td>\n",
        "      <td> False</td>\n",
        "      <td> False</td>\n",
        "      <td> False</td>\n",
        "      <td>  True</td>\n",
        "      <td>  1</td>\n",
        "      <td> False</td>\n",
        "      <td>  450</td>\n",
        "      <td> False</td>\n",
        "      <td>2014-11-17 15:10:07</td>\n",
        "      <td> 14</td>\n",
        "      <td>  Agriculture</td>\n",
        "      <td>                          [{u'name': u'#Animals'}]</td>\n",
        "      <td>                                     None</td>\n",
        "      <td>    to purchase more animals to inflate her sales.</td>\n",
        "    </tr>\n",
        "    <tr>\n",
        "      <th>797965</th>\n",
        "      <td> Primary/secondary school costs</td>\n",
        "      <td>  True</td>\n",
        "      <td> UG</td>\n",
        "      <td> False</td>\n",
        "      <td> False</td>\n",
        "      <td> False</td>\n",
        "      <td> False</td>\n",
        "      <td>  1</td>\n",
        "      <td> False</td>\n",
        "      <td>  375</td>\n",
        "      <td> False</td>\n",
        "      <td>2014-11-17 15:10:05</td>\n",
        "      <td>  8</td>\n",
        "      <td>    Education</td>\n",
        "      <td> [{u'name': u'user_favorite'}, {u'name': u'#Par...</td>\n",
        "      <td>                                     None</td>\n",
        "      <td>               to pay school fees for his children</td>\n",
        "    </tr>\n",
        "    <tr>\n",
        "      <th>797966</th>\n",
        "      <td>                      Tailoring</td>\n",
        "      <td>  True</td>\n",
        "      <td> KE</td>\n",
        "      <td> False</td>\n",
        "      <td> False</td>\n",
        "      <td> False</td>\n",
        "      <td> False</td>\n",
        "      <td>  1</td>\n",
        "      <td> False</td>\n",
        "      <td>  575</td>\n",
        "      <td> False</td>\n",
        "      <td>2014-11-17 15:10:06</td>\n",
        "      <td> 13</td>\n",
        "      <td>     Services</td>\n",
        "      <td> [{u'name': u'user_favorite'}, {u'name': u'#Fab...</td>\n",
        "      <td>                                     None</td>\n",
        "      <td> to purchase cloth materials and sewing thread ...</td>\n",
        "    </tr>\n",
        "    <tr>\n",
        "      <th>797967</th>\n",
        "      <td>                   Animal Sales</td>\n",
        "      <td>  True</td>\n",
        "      <td> PK</td>\n",
        "      <td> False</td>\n",
        "      <td> False</td>\n",
        "      <td> False</td>\n",
        "      <td>  True</td>\n",
        "      <td>  1</td>\n",
        "      <td> False</td>\n",
        "      <td>  400</td>\n",
        "      <td> False</td>\n",
        "      <td>2014-11-17 15:10:07</td>\n",
        "      <td> 14</td>\n",
        "      <td>  Agriculture</td>\n",
        "      <td> [{u'name': u'user_favorite'}, {u'name': u'#Ani...</td>\n",
        "      <td>                                     None</td>\n",
        "      <td> to purchase more animals for reselling in the ...</td>\n",
        "    </tr>\n",
        "    <tr>\n",
        "      <th>797968</th>\n",
        "      <td>          Food Production/Sales</td>\n",
        "      <td>  True</td>\n",
        "      <td> KE</td>\n",
        "      <td> False</td>\n",
        "      <td> False</td>\n",
        "      <td> False</td>\n",
        "      <td>  True</td>\n",
        "      <td>  1</td>\n",
        "      <td> False</td>\n",
        "      <td>  225</td>\n",
        "      <td> False</td>\n",
        "      <td>2014-11-17 15:10:06</td>\n",
        "      <td> 13</td>\n",
        "      <td>         Food</td>\n",
        "      <td>                                                []</td>\n",
        "      <td>                                     None</td>\n",
        "      <td> to purchase bundles of wheat flour, maize flou...</td>\n",
        "    </tr>\n",
        "    <tr>\n",
        "      <th>797970</th>\n",
        "      <td>                      Tailoring</td>\n",
        "      <td>  True</td>\n",
        "      <td> PK</td>\n",
        "      <td> False</td>\n",
        "      <td> False</td>\n",
        "      <td> False</td>\n",
        "      <td>  True</td>\n",
        "      <td>  1</td>\n",
        "      <td> False</td>\n",
        "      <td>  400</td>\n",
        "      <td> False</td>\n",
        "      <td>2014-11-17 15:20:17</td>\n",
        "      <td> 14</td>\n",
        "      <td>     Services</td>\n",
        "      <td> [{u'name': u'#Fabrics'}, {u'name': u'#IncomePr...</td>\n",
        "      <td>                                     None</td>\n",
        "      <td> to purchase a new stitching machine with some ...</td>\n",
        "    </tr>\n",
        "    <tr>\n",
        "      <th>797971</th>\n",
        "      <td>   Cloth &amp; Dressmaking Supplies</td>\n",
        "      <td>  True</td>\n",
        "      <td> PK</td>\n",
        "      <td> False</td>\n",
        "      <td> False</td>\n",
        "      <td> False</td>\n",
        "      <td>  True</td>\n",
        "      <td>  1</td>\n",
        "      <td> False</td>\n",
        "      <td>  400</td>\n",
        "      <td> False</td>\n",
        "      <td>2014-11-17 15:20:17</td>\n",
        "      <td> 14</td>\n",
        "      <td>       Retail</td>\n",
        "      <td> [{u'name': u'#WomanOwnedBiz'}, {u'name': u'#Fa...</td>\n",
        "      <td>                                     None</td>\n",
        "      <td> to buy a greater variety of cloth in different...</td>\n",
        "    </tr>\n",
        "    <tr>\n",
        "      <th>797972</th>\n",
        "      <td>                  General Store</td>\n",
        "      <td>  True</td>\n",
        "      <td> PK</td>\n",
        "      <td> False</td>\n",
        "      <td> False</td>\n",
        "      <td> False</td>\n",
        "      <td>  True</td>\n",
        "      <td>  1</td>\n",
        "      <td>  True</td>\n",
        "      <td>  400</td>\n",
        "      <td> False</td>\n",
        "      <td>2014-11-17 15:20:17</td>\n",
        "      <td> 14</td>\n",
        "      <td>       Retail</td>\n",
        "      <td>                    [{u'name': u'#WomanOwnedBiz'}]</td>\n",
        "      <td>                                     None</td>\n",
        "      <td> to buy rice, sugar, grains, biscuits, oil and ...</td>\n",
        "    </tr>\n",
        "    <tr>\n",
        "      <th>797973</th>\n",
        "      <td>                        Farming</td>\n",
        "      <td> False</td>\n",
        "      <td> IN</td>\n",
        "      <td> False</td>\n",
        "      <td> False</td>\n",
        "      <td> False</td>\n",
        "      <td>  True</td>\n",
        "      <td> 10</td>\n",
        "      <td> False</td>\n",
        "      <td> 2450</td>\n",
        "      <td>  True</td>\n",
        "      <td>2014-11-17 15:30:04</td>\n",
        "      <td> 43</td>\n",
        "      <td>  Agriculture</td>\n",
        "      <td> [{u'name': u'user_favorite'}, {u'name': u'#Veg...</td>\n",
        "      <td>                      [Underfunded Areas]</td>\n",
        "      <td>     to buy seeds and fertilizers for cultivation.</td>\n",
        "    </tr>\n",
        "    <tr>\n",
        "      <th>797974</th>\n",
        "      <td>                        Farming</td>\n",
        "      <td> False</td>\n",
        "      <td> IN</td>\n",
        "      <td> False</td>\n",
        "      <td> False</td>\n",
        "      <td> False</td>\n",
        "      <td>  True</td>\n",
        "      <td> 16</td>\n",
        "      <td> False</td>\n",
        "      <td> 2625</td>\n",
        "      <td>  True</td>\n",
        "      <td>2014-11-17 15:30:04</td>\n",
        "      <td> 43</td>\n",
        "      <td>  Agriculture</td>\n",
        "      <td> [{u'name': u'#Elderly'}, {u'name': u'#Fabrics'...</td>\n",
        "      <td>                      [Underfunded Areas]</td>\n",
        "      <td>  To buy saplings and fertilizers for cultivation.</td>\n",
        "    </tr>\n",
        "    <tr>\n",
        "      <th>797977</th>\n",
        "      <td>                   Animal Sales</td>\n",
        "      <td>  True</td>\n",
        "      <td> PK</td>\n",
        "      <td> False</td>\n",
        "      <td> False</td>\n",
        "      <td> False</td>\n",
        "      <td>  True</td>\n",
        "      <td>  1</td>\n",
        "      <td> False</td>\n",
        "      <td>  400</td>\n",
        "      <td> False</td>\n",
        "      <td>2014-11-17 15:20:17</td>\n",
        "      <td> 14</td>\n",
        "      <td>  Agriculture</td>\n",
        "      <td>   [{u'name': u'#Animals'}, {u'name': u'#Parent'}]</td>\n",
        "      <td>                                     None</td>\n",
        "      <td>                       to purchase another buffalo</td>\n",
        "    </tr>\n",
        "    <tr>\n",
        "      <th>797978</th>\n",
        "      <td>                        Farming</td>\n",
        "      <td>  True</td>\n",
        "      <td> KE</td>\n",
        "      <td> False</td>\n",
        "      <td> False</td>\n",
        "      <td> False</td>\n",
        "      <td> False</td>\n",
        "      <td>  1</td>\n",
        "      <td> False</td>\n",
        "      <td> 2000</td>\n",
        "      <td> False</td>\n",
        "      <td>2014-11-17 15:30:03</td>\n",
        "      <td> 20</td>\n",
        "      <td>  Agriculture</td>\n",
        "      <td> [{u'name': u'user_favorite'}, {u'name': u'#Pos...</td>\n",
        "      <td>                                     None</td>\n",
        "      <td>        to build a green house and buy a motorbike</td>\n",
        "    </tr>\n",
        "    <tr>\n",
        "      <th>797979</th>\n",
        "      <td>                 Charcoal Sales</td>\n",
        "      <td>  True</td>\n",
        "      <td> KE</td>\n",
        "      <td> False</td>\n",
        "      <td> False</td>\n",
        "      <td> False</td>\n",
        "      <td>  True</td>\n",
        "      <td>  1</td>\n",
        "      <td> False</td>\n",
        "      <td>  575</td>\n",
        "      <td> False</td>\n",
        "      <td>2014-11-17 15:40:07</td>\n",
        "      <td> 13</td>\n",
        "      <td>       Retail</td>\n",
        "      <td> [{u'name': u'user_favorite'}, {u'name': u'#Wom...</td>\n",
        "      <td>                                     None</td>\n",
        "      <td>          to purchase sacks of charcoal for resale</td>\n",
        "    </tr>\n",
        "    <tr>\n",
        "      <th>797980</th>\n",
        "      <td>               Waste Management</td>\n",
        "      <td> False</td>\n",
        "      <td> KE</td>\n",
        "      <td> False</td>\n",
        "      <td> False</td>\n",
        "      <td> False</td>\n",
        "      <td> False</td>\n",
        "      <td>  1</td>\n",
        "      <td> False</td>\n",
        "      <td>  450</td>\n",
        "      <td> False</td>\n",
        "      <td>2014-11-17 15:40:08</td>\n",
        "      <td> 14</td>\n",
        "      <td>     Services</td>\n",
        "      <td>                                                []</td>\n",
        "      <td> [Water and Sanitation, Innovative Loans]</td>\n",
        "      <td>         to purchase and run one Fresh Life Toilet</td>\n",
        "    </tr>\n",
        "    <tr>\n",
        "      <th>797982</th>\n",
        "      <td>                         Cement</td>\n",
        "      <td>  True</td>\n",
        "      <td> UG</td>\n",
        "      <td> False</td>\n",
        "      <td> False</td>\n",
        "      <td> False</td>\n",
        "      <td> False</td>\n",
        "      <td>  1</td>\n",
        "      <td> False</td>\n",
        "      <td>  375</td>\n",
        "      <td> False</td>\n",
        "      <td>2014-11-17 15:40:04</td>\n",
        "      <td> 10</td>\n",
        "      <td> Construction</td>\n",
        "      <td> [{u'name': u'user_favorite'}, {u'name': u'#Par...</td>\n",
        "      <td>                                     None</td>\n",
        "      <td>  to buy sand and cement for renovating his house.</td>\n",
        "    </tr>\n",
        "    <tr>\n",
        "      <th>797983</th>\n",
        "      <td>                     Food Stall</td>\n",
        "      <td>  True</td>\n",
        "      <td> KE</td>\n",
        "      <td> False</td>\n",
        "      <td> False</td>\n",
        "      <td> False</td>\n",
        "      <td>  True</td>\n",
        "      <td>  1</td>\n",
        "      <td> False</td>\n",
        "      <td>  225</td>\n",
        "      <td> False</td>\n",
        "      <td>2014-11-17 15:40:03</td>\n",
        "      <td>  8</td>\n",
        "      <td>         Food</td>\n",
        "      <td>                           [{u'name': u'#Parent'}]</td>\n",
        "      <td>                                     None</td>\n",
        "      <td> to purchase cooking ingredients for her food s...</td>\n",
        "    </tr>\n",
        "    <tr>\n",
        "      <th>797984</th>\n",
        "      <td>                   Beauty Salon</td>\n",
        "      <td> False</td>\n",
        "      <td> AM</td>\n",
        "      <td> False</td>\n",
        "      <td> False</td>\n",
        "      <td> False</td>\n",
        "      <td>  True</td>\n",
        "      <td>  1</td>\n",
        "      <td>  True</td>\n",
        "      <td>  725</td>\n",
        "      <td> False</td>\n",
        "      <td>2014-11-17 15:50:03</td>\n",
        "      <td> 27</td>\n",
        "      <td>     Services</td>\n",
        "      <td>                     [{u'name': u'user_favorite'}]</td>\n",
        "      <td>                               [Start-Up]</td>\n",
        "      <td> to pay for hairdressing tools and accessories ...</td>\n",
        "    </tr>\n",
        "    <tr>\n",
        "      <th>797985</th>\n",
        "      <td>                    Food Market</td>\n",
        "      <td>  True</td>\n",
        "      <td> KE</td>\n",
        "      <td> False</td>\n",
        "      <td> False</td>\n",
        "      <td> False</td>\n",
        "      <td>  True</td>\n",
        "      <td>  1</td>\n",
        "      <td> False</td>\n",
        "      <td>  225</td>\n",
        "      <td> False</td>\n",
        "      <td>2014-11-17 16:00:03</td>\n",
        "      <td> 14</td>\n",
        "      <td>         Food</td>\n",
        "      <td>                                                []</td>\n",
        "      <td>                                     None</td>\n",
        "      <td> To purchase more stock of flour, cooking fat a...</td>\n",
        "    </tr>\n",
        "    <tr>\n",
        "      <th>797987</th>\n",
        "      <td>                 Charcoal Sales</td>\n",
        "      <td>  True</td>\n",
        "      <td> KE</td>\n",
        "      <td> False</td>\n",
        "      <td> False</td>\n",
        "      <td> False</td>\n",
        "      <td>  True</td>\n",
        "      <td>  1</td>\n",
        "      <td> False</td>\n",
        "      <td>  575</td>\n",
        "      <td> False</td>\n",
        "      <td>2014-11-17 16:00:06</td>\n",
        "      <td> 13</td>\n",
        "      <td>       Retail</td>\n",
        "      <td> [{u'name': u'#WomanOwnedBiz'}, {u'name': u'#Pa...</td>\n",
        "      <td>                                     None</td>\n",
        "      <td>       to purchase bundles of charcoal for resale.</td>\n",
        "    </tr>\n",
        "  </tbody>\n",
        "</table>\n",
        "<p>141250 rows \u00d7 17 columns</p>\n",
        "</div>"
       ],
       "metadata": {},
       "output_type": "pyout",
       "prompt_number": 7,
       "text": [
        "                              activity bonus_credit_eligibility country  \\\n",
        "638631                          Retail                    False      CR   \n",
        "641006          Higher education costs                    False      CD   \n",
        "641019          Higher education costs                    False      CD   \n",
        "641594                         Farming                    False      KE   \n",
        "642256                        Services                     True      CM   \n",
        "642311                     Food Market                     True      SL   \n",
        "642353                     Soft Drinks                     True      CM   \n",
        "642386                  Clothing Sales                     True      KE   \n",
        "642429                          Crafts                     True      BO   \n",
        "642836                 Phone Use Sales                     True      KE   \n",
        "643267                     Food Market                     True      CM   \n",
        "643288  Primary/secondary school costs                     True      LB   \n",
        "643402                     Agriculture                     True      LB   \n",
        "643761           Construction Supplies                     True      YE   \n",
        "644101                    Fish Selling                     True      SL   \n",
        "644518                     Barber Shop                    False      VN   \n",
        "645222                        Services                    False      ID   \n",
        "645758                     Agriculture                    False      AM   \n",
        "645781                       Carpentry                    False      VN   \n",
        "645846                       Livestock                    False      AM   \n",
        "645918                       Livestock                    False      AM   \n",
        "645927                     Agriculture                    False      AM   \n",
        "645953                       Livestock                    False      AM   \n",
        "645971                         Farming                    False      AM   \n",
        "645976                       Livestock                    False      AM   \n",
        "645977                       Livestock                    False      AM   \n",
        "646007                       Livestock                    False      AM   \n",
        "646126                          Crafts                    False      NI   \n",
        "646148                   Grocery Store                    False      NI   \n",
        "646153                   Grocery Store                    False      NI   \n",
        "...                                ...                      ...     ...   \n",
        "797942                    Fish Selling                    False      CG   \n",
        "797944                      Food Stall                    False      IN   \n",
        "797946                       Tailoring                    False      IN   \n",
        "797947                          Sewing                     True      TJ   \n",
        "797948                       Tailoring                     True      KE   \n",
        "797952              Education provider                    False      AM   \n",
        "797953                      Embroidery                     True      PK   \n",
        "797956                    Animal Sales                     True      KE   \n",
        "797958                           Dairy                     True      PK   \n",
        "797960                       Livestock                     True      PK   \n",
        "797962                    Animal Sales                     True      PK   \n",
        "797964                    Animal Sales                     True      PK   \n",
        "797965  Primary/secondary school costs                     True      UG   \n",
        "797966                       Tailoring                     True      KE   \n",
        "797967                    Animal Sales                     True      PK   \n",
        "797968           Food Production/Sales                     True      KE   \n",
        "797970                       Tailoring                     True      PK   \n",
        "797971    Cloth & Dressmaking Supplies                     True      PK   \n",
        "797972                   General Store                     True      PK   \n",
        "797973                         Farming                    False      IN   \n",
        "797974                         Farming                    False      IN   \n",
        "797977                    Animal Sales                     True      PK   \n",
        "797978                         Farming                     True      KE   \n",
        "797979                  Charcoal Sales                     True      KE   \n",
        "797980                Waste Management                    False      KE   \n",
        "797982                          Cement                     True      UG   \n",
        "797983                      Food Stall                     True      KE   \n",
        "797984                    Beauty Salon                    False      AM   \n",
        "797985                     Food Market                     True      KE   \n",
        "797987                  Charcoal Sales                     True      KE   \n",
        "\n",
        "       currency_loss dollars expired gender  group_size irregular_payments  \\\n",
        "638631         False   False   False   True           9              False   \n",
        "641006         False    True   False  False           1               True   \n",
        "641019         False    True   False  False           1               True   \n",
        "641594         False   False   False   True           3              False   \n",
        "642256         False   False   False   True           1               True   \n",
        "642311         False   False   False   True           5               True   \n",
        "642353         False   False   False   True           1               True   \n",
        "642386         False   False   False   True           1               True   \n",
        "642429         False   False   False  False           1               True   \n",
        "642836         False   False   False   True           1               True   \n",
        "643267         False   False   False   True           1               True   \n",
        "643288         False    True   False  False           1               True   \n",
        "643402         False    True   False  False           1               True   \n",
        "643761         False   False   False   True           4               True   \n",
        "644101         False   False   False   True           4               True   \n",
        "644518         False   False   False   True           6               True   \n",
        "645222         False   False   False   True           1               True   \n",
        "645758         False    True   False  False           1               True   \n",
        "645781         False   False   False   True           8               True   \n",
        "645846         False    True    True  False           1               True   \n",
        "645918         False    True   False  False           1               True   \n",
        "645927         False    True   False   True           1               True   \n",
        "645953         False    True   False   True           1               True   \n",
        "645971         False    True    True  False           1               True   \n",
        "645976         False    True   False   True           1               True   \n",
        "645977         False    True   False  False           1               True   \n",
        "646007         False    True    True  False           1               True   \n",
        "646126         False   False   False   True           1               True   \n",
        "646148         False   False   False   True           1               True   \n",
        "646153         False   False   False   True           1               True   \n",
        "...              ...     ...     ...    ...         ...                ...   \n",
        "797942         False   False   False   True           5              False   \n",
        "797944         False   False    True   True          10              False   \n",
        "797946         False   False    True   True          10              False   \n",
        "797947         False   False   False   True           1              False   \n",
        "797948         False   False   False  False           1              False   \n",
        "797952         False   False   False   True           1               True   \n",
        "797953         False   False   False   True           1              False   \n",
        "797956         False   False   False   True           1              False   \n",
        "797958         False   False   False   True           1               True   \n",
        "797960         False   False   False   True           1              False   \n",
        "797962         False   False   False   True           1              False   \n",
        "797964         False   False   False   True           1              False   \n",
        "797965         False   False   False  False           1              False   \n",
        "797966         False   False   False  False           1              False   \n",
        "797967         False   False   False   True           1              False   \n",
        "797968         False   False   False   True           1              False   \n",
        "797970         False   False   False   True           1              False   \n",
        "797971         False   False   False   True           1              False   \n",
        "797972         False   False   False   True           1               True   \n",
        "797973         False   False   False   True          10              False   \n",
        "797974         False   False   False   True          16              False   \n",
        "797977         False   False   False   True           1              False   \n",
        "797978         False   False   False  False           1              False   \n",
        "797979         False   False   False   True           1              False   \n",
        "797980         False   False   False  False           1              False   \n",
        "797982         False   False   False  False           1              False   \n",
        "797983         False   False   False   True           1              False   \n",
        "797984         False   False   False   True           1               True   \n",
        "797985         False   False   False   True           1              False   \n",
        "797987         False   False   False   True           1              False   \n",
        "\n",
        "        loan_amount pay_at_end         posted_date  repayment_term  \\\n",
        "638631         6950      False 2014-01-01 11:10:01              13   \n",
        "641006         1100      False 2014-01-07 07:50:02              14   \n",
        "641019          775      False 2014-01-07 07:50:02              14   \n",
        "641594          300       True 2014-01-07 18:50:08              10   \n",
        "642256          625      False 2014-01-09 16:50:35              15   \n",
        "642311         1175      False 2014-01-07 19:10:02              10   \n",
        "642353          425      False 2014-01-09 16:50:35              15   \n",
        "642386          250      False 2014-01-03 17:10:09              14   \n",
        "642429          600      False 2014-01-03 17:30:01              14   \n",
        "642836          600      False 2014-01-08 07:30:02              14   \n",
        "643267          225      False 2014-01-09 16:50:35              15   \n",
        "643288         1200      False 2014-01-02 18:50:01              14   \n",
        "643402         1200      False 2014-01-02 18:50:01              15   \n",
        "643761          700      False 2014-01-02 18:50:03              15   \n",
        "644101          750      False 2014-01-07 19:10:07              12   \n",
        "644518         2075      False 2014-01-17 14:30:03              14   \n",
        "645222          225      False 2014-01-07 23:10:03              49   \n",
        "645758         3000      False 2014-01-13 22:50:07              26   \n",
        "645781         3425      False 2014-01-17 14:30:03              14   \n",
        "645846         2000      False 2014-01-17 14:30:09              26   \n",
        "645918         1500      False 2014-01-12 01:30:02              27   \n",
        "645927         1500      False 2014-01-17 14:30:09              26   \n",
        "645953         3000      False 2014-01-17 14:30:10              27   \n",
        "645971         1500      False 2014-01-17 14:30:10              28   \n",
        "645976         3000      False 2014-01-17 14:30:10              26   \n",
        "645977         1500      False 2014-01-17 14:30:10              38   \n",
        "646007         1500      False 2014-01-17 14:30:10              38   \n",
        "646126         1000      False 2014-01-18 09:50:05              11   \n",
        "646148          800      False 2014-01-18 09:50:05              11   \n",
        "646153          800      False 2014-01-18 09:50:05              15   \n",
        "...             ...        ...                 ...             ...   \n",
        "797942         6750      False 2014-11-17 14:30:04               8   \n",
        "797944         2450       True 2014-11-17 15:00:02              43   \n",
        "797946         2450       True 2014-11-17 15:00:03              43   \n",
        "797947          600      False 2014-11-17 15:40:02              14   \n",
        "797948          575      False 2014-11-17 15:40:07              13   \n",
        "797952         1450      False 2014-11-17 15:40:08              27   \n",
        "797953          450      False 2014-11-17 15:00:03              14   \n",
        "797956          350      False 2014-11-17 15:10:05              13   \n",
        "797958          500      False 2014-11-17 15:10:06              15   \n",
        "797960          600      False 2014-11-17 15:10:07              14   \n",
        "797962          400      False 2014-11-17 15:00:03              14   \n",
        "797964          450      False 2014-11-17 15:10:07              14   \n",
        "797965          375      False 2014-11-17 15:10:05               8   \n",
        "797966          575      False 2014-11-17 15:10:06              13   \n",
        "797967          400      False 2014-11-17 15:10:07              14   \n",
        "797968          225      False 2014-11-17 15:10:06              13   \n",
        "797970          400      False 2014-11-17 15:20:17              14   \n",
        "797971          400      False 2014-11-17 15:20:17              14   \n",
        "797972          400      False 2014-11-17 15:20:17              14   \n",
        "797973         2450       True 2014-11-17 15:30:04              43   \n",
        "797974         2625       True 2014-11-17 15:30:04              43   \n",
        "797977          400      False 2014-11-17 15:20:17              14   \n",
        "797978         2000      False 2014-11-17 15:30:03              20   \n",
        "797979          575      False 2014-11-17 15:40:07              13   \n",
        "797980          450      False 2014-11-17 15:40:08              14   \n",
        "797982          375      False 2014-11-17 15:40:04              10   \n",
        "797983          225      False 2014-11-17 15:40:03               8   \n",
        "797984          725      False 2014-11-17 15:50:03              27   \n",
        "797985          225      False 2014-11-17 16:00:03              14   \n",
        "797987          575      False 2014-11-17 16:00:06              13   \n",
        "\n",
        "              sector                                               tags  \\\n",
        "638631        Retail  [{u'name': u'user_favorite'}, {u'name': u'#Wom...   \n",
        "641006     Education  [{u'name': u'user_favorite'}, {u'name': u'#Par...   \n",
        "641019     Education  [{u'name': u'#Parent'}, {u'name': u'#Schooling'}]   \n",
        "641594   Agriculture                    [{u'name': u'#Post-disbursed'}]   \n",
        "642256      Services  [{u'name': u'#Parent'}, {u'name': u'#Interesti...   \n",
        "642311          Food                                                 []   \n",
        "642353          Food                     [{u'name': u'#WomanOwnedBiz'}]   \n",
        "642386      Clothing                                                 []   \n",
        "642429          Arts                                                 []   \n",
        "642836        Retail  [{u'name': u'user_favorite'}, {u'name': u'#Rep...   \n",
        "643267          Food                                                 []   \n",
        "643288     Education  [{u'name': u'#Parent'}, {u'name': u'#Schooling'}]   \n",
        "643402   Agriculture  [{u'name': u'user_favorite'}, {u'name': u'#Sus...   \n",
        "643761  Construction                                                 []   \n",
        "644101          Food  [{u'name': u'#WomanOwnedBiz'}, {u'name': u'#El...   \n",
        "644518      Services                      [{u'name': u'user_favorite'}]   \n",
        "645222      Services  [{u'name': u'user_favorite'}, {u'name': u'#Low...   \n",
        "645758   Agriculture  [{u'name': u'user_favorite'}, {u'name': u'#Eco...   \n",
        "645781  Construction                                                 []   \n",
        "645846   Agriculture  [{u'name': u'user_favorite'}, {u'name': u'#Ani...   \n",
        "645918   Agriculture  [{u'name': u'user_favorite'}, {u'name': u'#Ani...   \n",
        "645927   Agriculture  [{u'name': u'user_favorite'}, {u'name': u'#Veg...   \n",
        "645953   Agriculture  [{u'name': u'user_favorite'}, {u'name': u'#Ani...   \n",
        "645971   Agriculture                      [{u'name': u'user_favorite'}]   \n",
        "645976   Agriculture  [{u'name': u'user_favorite'}, {u'name': u'#Ani...   \n",
        "645977   Agriculture  [{u'name': u'user_favorite'}, {u'name': u'#Ani...   \n",
        "646007   Agriculture  [{u'name': u'user_favorite'}, {u'name': u'#Ani...   \n",
        "646126          Arts                                                 []   \n",
        "646148          Food  [{u'name': u'user_favorite'}, {u'name': u'#Par...   \n",
        "646153          Food  [{u'name': u'user_favorite'}, {u'name': u'#Wom...   \n",
        "...              ...                                                ...   \n",
        "797942          Food                      [{u'name': u'user_favorite'}]   \n",
        "797944          Food  [{u'name': u'#WomanOwnedBiz'}, {u'name': u'#In...   \n",
        "797946      Services  [{u'name': u'#Parent'}, {u'name': u'#Fabrics'}...   \n",
        "797947      Services  [{u'name': u'user_favorite'}, {u'name': u'#Par...   \n",
        "797948      Services  [{u'name': u'#Fabrics'}, {u'name': u'#IncomePr...   \n",
        "797952     Education  [{u'name': u'volunteer_like'}, {u'name': u'use...   \n",
        "797953          Arts                                                 []   \n",
        "797956   Agriculture                     [{u'name': u'volunteer_pick'}]   \n",
        "797958   Agriculture  [{u'name': u'volunteer_pick'}, {u'name': u'use...   \n",
        "797960   Agriculture  [{u'name': u'user_favorite'}, {u'name': u'#Ani...   \n",
        "797962   Agriculture                                                 []   \n",
        "797964   Agriculture                           [{u'name': u'#Animals'}]   \n",
        "797965     Education  [{u'name': u'user_favorite'}, {u'name': u'#Par...   \n",
        "797966      Services  [{u'name': u'user_favorite'}, {u'name': u'#Fab...   \n",
        "797967   Agriculture  [{u'name': u'user_favorite'}, {u'name': u'#Ani...   \n",
        "797968          Food                                                 []   \n",
        "797970      Services  [{u'name': u'#Fabrics'}, {u'name': u'#IncomePr...   \n",
        "797971        Retail  [{u'name': u'#WomanOwnedBiz'}, {u'name': u'#Fa...   \n",
        "797972        Retail                     [{u'name': u'#WomanOwnedBiz'}]   \n",
        "797973   Agriculture  [{u'name': u'user_favorite'}, {u'name': u'#Veg...   \n",
        "797974   Agriculture  [{u'name': u'#Elderly'}, {u'name': u'#Fabrics'...   \n",
        "797977   Agriculture    [{u'name': u'#Animals'}, {u'name': u'#Parent'}]   \n",
        "797978   Agriculture  [{u'name': u'user_favorite'}, {u'name': u'#Pos...   \n",
        "797979        Retail  [{u'name': u'user_favorite'}, {u'name': u'#Wom...   \n",
        "797980      Services                                                 []   \n",
        "797982  Construction  [{u'name': u'user_favorite'}, {u'name': u'#Par...   \n",
        "797983          Food                            [{u'name': u'#Parent'}]   \n",
        "797984      Services                      [{u'name': u'user_favorite'}]   \n",
        "797985          Food                                                 []   \n",
        "797987        Retail  [{u'name': u'#WomanOwnedBiz'}, {u'name': u'#Pa...   \n",
        "\n",
        "                                          themes  \\\n",
        "638631                       [Underfunded Areas]   \n",
        "641006                                      None   \n",
        "641019                                      None   \n",
        "641594                         [Rural Exclusion]   \n",
        "642256                       [Vulnerable Groups]   \n",
        "642311                          [Conflict Zones]   \n",
        "642353                       [Vulnerable Groups]   \n",
        "642386                                      None   \n",
        "642429                                      None   \n",
        "642836                                      None   \n",
        "643267                       [Vulnerable Groups]   \n",
        "643288                                      None   \n",
        "643402                                      None   \n",
        "643761                                      None   \n",
        "644101                          [Conflict Zones]   \n",
        "644518                                      None   \n",
        "645222     [Mobile Technology, Innovative Loans]   \n",
        "645758                                      None   \n",
        "645781                                      None   \n",
        "645846                                      None   \n",
        "645918                                      None   \n",
        "645927                                      None   \n",
        "645953                                      None   \n",
        "645971                                      None   \n",
        "645976                                      None   \n",
        "645977                                      None   \n",
        "646007                                      None   \n",
        "646126                                      None   \n",
        "646148                                      None   \n",
        "646153                                      None   \n",
        "...                                          ...   \n",
        "797942                          [Conflict Zones]   \n",
        "797944                       [Vulnerable Groups]   \n",
        "797946                                      None   \n",
        "797947                                      None   \n",
        "797948                                      None   \n",
        "797952                                [Start-Up]   \n",
        "797953                                      None   \n",
        "797956                                      None   \n",
        "797958                                      None   \n",
        "797960                                      None   \n",
        "797962                                      None   \n",
        "797964                                      None   \n",
        "797965                                      None   \n",
        "797966                                      None   \n",
        "797967                                      None   \n",
        "797968                                      None   \n",
        "797970                                      None   \n",
        "797971                                      None   \n",
        "797972                                      None   \n",
        "797973                       [Underfunded Areas]   \n",
        "797974                       [Underfunded Areas]   \n",
        "797977                                      None   \n",
        "797978                                      None   \n",
        "797979                                      None   \n",
        "797980  [Water and Sanitation, Innovative Loans]   \n",
        "797982                                      None   \n",
        "797983                                      None   \n",
        "797984                                [Start-Up]   \n",
        "797985                                      None   \n",
        "797987                                      None   \n",
        "\n",
        "                                                      use  \n",
        "638631  to buy sandals, clothing, beauty products, and...  \n",
        "641006      to pay the education costs for three students  \n",
        "641019        to pay the education costs for two students  \n",
        "641594  To purchase hybrid seeds and fertilizers to gr...  \n",
        "642256                     to purchase a milling machine.  \n",
        "642311  to buy rice, palm-oil, tomatoes, pepper, onion...  \n",
        "642353                        to buy soft drinks to sell.  \n",
        "642386                      to purchase stock of clothing  \n",
        "642429  to buy fabrics, linings, and ribbons for his b...  \n",
        "642836          To add money float and phone accessories.  \n",
        "643267  to buy tomatoes, oil, condiments, and other pr...  \n",
        "643288  to pay for his children's school fees and main...  \n",
        "643402  To start a new agricultural business where he ...  \n",
        "643761  to buy construction supplies to use in her sma...  \n",
        "644101  to buy a large quantity of fish to add to her ...  \n",
        "644518  to buy barber tools, hair stylers, and shampoo...  \n",
        "645222  to purchase a printer to process more mobile p...  \n",
        "645758                             to buy 30 new beehives  \n",
        "645781                         to buy a carpentry machine  \n",
        "645846  to purchase forage for feeding the livestock d...  \n",
        "645918                to pay for forage for the livestock  \n",
        "645927  to buy forage for feeding the livestock in the...  \n",
        "645953  to buy four calves and forage for feeding the ...  \n",
        "645971                       to pay for a cow and forage   \n",
        "645976              to purchase oxen, piglets and forage   \n",
        "645977               to renovate his barn and buy forage   \n",
        "646007                          to buy calves and forage   \n",
        "646126  to purchase materials such as resin, talc, zen...  \n",
        "646148  to purchase rice, sugar, oil, pop, beer, canne...  \n",
        "646153                     stock her small grocery store.  \n",
        "...                                                   ...  \n",
        "797942                           to purchase fish in bulk  \n",
        "797944  to put up a shade and to buy some utensils for...  \n",
        "797946     to buy a sewing machine and related materials.  \n",
        "797947                           To buy a sewing machine   \n",
        "797948  to purchase cloth materials and sewing thread ...  \n",
        "797952  to pay for a computer for providing classes mo...  \n",
        "797953  to purchase more beads, threads, frames, needl...  \n",
        "797956             to purchase goats and cows for resale.  \n",
        "797958  to purchase one more buffalo for increasing mi...  \n",
        "797960    to purchase more animals to inflate her sales.   \n",
        "797962  to purchase more baby goats and calves to cate...  \n",
        "797964     to purchase more animals to inflate her sales.  \n",
        "797965                to pay school fees for his children  \n",
        "797966  to purchase cloth materials and sewing thread ...  \n",
        "797967  to purchase more animals for reselling in the ...  \n",
        "797968  to purchase bundles of wheat flour, maize flou...  \n",
        "797970  to purchase a new stitching machine with some ...  \n",
        "797971  to buy a greater variety of cloth in different...  \n",
        "797972  to buy rice, sugar, grains, biscuits, oil and ...  \n",
        "797973      to buy seeds and fertilizers for cultivation.  \n",
        "797974   To buy saplings and fertilizers for cultivation.  \n",
        "797977                        to purchase another buffalo  \n",
        "797978         to build a green house and buy a motorbike  \n",
        "797979           to purchase sacks of charcoal for resale  \n",
        "797980          to purchase and run one Fresh Life Toilet  \n",
        "797982   to buy sand and cement for renovating his house.  \n",
        "797983  to purchase cooking ingredients for her food s...  \n",
        "797984  to pay for hairdressing tools and accessories ...  \n",
        "797985  To purchase more stock of flour, cooking fat a...  \n",
        "797987        to purchase bundles of charcoal for resale.  \n",
        "\n",
        "[141250 rows x 17 columns]"
       ]
      }
     ],
     "prompt_number": 7
    },
    {
     "cell_type": "code",
     "collapsed": false,
     "input": [
      "df.use"
     ],
     "language": "python",
     "metadata": {},
     "outputs": [
      {
       "metadata": {},
       "output_type": "pyout",
       "prompt_number": 9,
       "text": [
        "638631    to buy sandals, clothing, beauty products, and...\n",
        "641006        to pay the education costs for three students\n",
        "641019          to pay the education costs for two students\n",
        "641594    To purchase hybrid seeds and fertilizers to gr...\n",
        "642256                       to purchase a milling machine.\n",
        "642311    to buy rice, palm-oil, tomatoes, pepper, onion...\n",
        "642353                          to buy soft drinks to sell.\n",
        "642386                        to purchase stock of clothing\n",
        "642429    to buy fabrics, linings, and ribbons for his b...\n",
        "642836            To add money float and phone accessories.\n",
        "643267    to buy tomatoes, oil, condiments, and other pr...\n",
        "643288    to pay for his children's school fees and main...\n",
        "643402    To start a new agricultural business where he ...\n",
        "643761    to buy construction supplies to use in her sma...\n",
        "644101    to buy a large quantity of fish to add to her ...\n",
        "...\n",
        "797968    to purchase bundles of wheat flour, maize flou...\n",
        "797970    to purchase a new stitching machine with some ...\n",
        "797971    to buy a greater variety of cloth in different...\n",
        "797972    to buy rice, sugar, grains, biscuits, oil and ...\n",
        "797973        to buy seeds and fertilizers for cultivation.\n",
        "797974     To buy saplings and fertilizers for cultivation.\n",
        "797977                          to purchase another buffalo\n",
        "797978           to build a green house and buy a motorbike\n",
        "797979             to purchase sacks of charcoal for resale\n",
        "797980            to purchase and run one Fresh Life Toilet\n",
        "797982     to buy sand and cement for renovating his house.\n",
        "797983    to purchase cooking ingredients for her food s...\n",
        "797984    to pay for hairdressing tools and accessories ...\n",
        "797985    To purchase more stock of flour, cooking fat a...\n",
        "797987          to purchase bundles of charcoal for resale.\n",
        "Name: use, Length: 141250, dtype: object"
       ]
      }
     ],
     "prompt_number": 9
    },
    {
     "cell_type": "code",
     "collapsed": false,
     "input": [
      "sep.expired.mean()"
     ],
     "language": "python",
     "metadata": {},
     "outputs": [
      {
       "metadata": {},
       "output_type": "pyout",
       "prompt_number": 15,
       "text": [
        "0.098653765250315523"
       ]
      }
     ],
     "prompt_number": 15
    },
    {
     "cell_type": "code",
     "collapsed": false,
     "input": [
      "sep.shape"
     ],
     "language": "python",
     "metadata": {},
     "outputs": [
      {
       "metadata": {},
       "output_type": "pyout",
       "prompt_number": 18,
       "text": [
        "(14262, 17)"
       ]
      }
     ],
     "prompt_number": 18
    },
    {
     "cell_type": "code",
     "collapsed": false,
     "input": [
      "sep.loan_amount.mean()"
     ],
     "language": "python",
     "metadata": {},
     "outputs": [
      {
       "metadata": {},
       "output_type": "pyout",
       "prompt_number": 19,
       "text": [
        "853.26917683354372"
       ]
      }
     ],
     "prompt_number": 19
    },
    {
     "cell_type": "code",
     "collapsed": false,
     "input": [
      "aug.loan_amount.mean()"
     ],
     "language": "python",
     "metadata": {},
     "outputs": [
      {
       "metadata": {},
       "output_type": "pyout",
       "prompt_number": 20,
       "text": [
        "884.94318181818187"
       ]
      }
     ],
     "prompt_number": 20
    },
    {
     "cell_type": "code",
     "collapsed": false,
     "input": [
      "july.loan_amount.mean()"
     ],
     "language": "python",
     "metadata": {},
     "outputs": [
      {
       "metadata": {},
       "output_type": "pyout",
       "prompt_number": 21,
       "text": [
        "859.81298877932682"
       ]
      }
     ],
     "prompt_number": 21
    },
    {
     "cell_type": "code",
     "collapsed": false,
     "input": [
      "march.loan_amount.mean()"
     ],
     "language": "python",
     "metadata": {},
     "outputs": [
      {
       "metadata": {},
       "output_type": "pyout",
       "prompt_number": 22,
       "text": [
        "878.24600572106328"
       ]
      }
     ],
     "prompt_number": 22
    },
    {
     "cell_type": "code",
     "collapsed": false,
     "input": [
      "feb.loan_amount.mean()"
     ],
     "language": "python",
     "metadata": {},
     "outputs": [
      {
       "metadata": {},
       "output_type": "pyout",
       "prompt_number": 23,
       "text": [
        "925.65730837789658"
       ]
      }
     ],
     "prompt_number": 23
    },
    {
     "cell_type": "code",
     "collapsed": false,
     "input": [
      "nov.loan_amount.mean()"
     ],
     "language": "python",
     "metadata": {},
     "outputs": [
      {
       "metadata": {},
       "output_type": "pyout",
       "prompt_number": 24,
       "text": [
        "821.2360091467084"
       ]
      }
     ],
     "prompt_number": 24
    },
    {
     "cell_type": "code",
     "collapsed": false,
     "input": [
      "use = sep.use.values"
     ],
     "language": "python",
     "metadata": {},
     "outputs": [],
     "prompt_number": 27
    },
    {
     "cell_type": "code",
     "collapsed": false,
     "input": [
      "\n",
      "from sklearn.feature_extraction.text import TfidfVectorizer\n",
      "from nltk.stem.porter import PorterStemmer\n",
      "from nltk import word_tokenize\n",
      "from sklearn.naive_bayes import MultinomialNB"
     ],
     "language": "python",
     "metadata": {},
     "outputs": [],
     "prompt_number": 1
    },
    {
     "cell_type": "code",
     "collapsed": false,
     "input": [
      "def tokenize(txt, stemmer=PorterStemmer()):\n",
      "    return [stemmer.stem(word) for word in word_tokenize(txt) if word not in [',', '.',\"'s\"]]"
     ],
     "language": "python",
     "metadata": {},
     "outputs": [],
     "prompt_number": 28
    },
    {
     "cell_type": "code",
     "collapsed": false,
     "input": [
      "vectorizer = TfidfVectorizer(stop_words='english', tokenizer=tokenize, max_features=50)"
     ],
     "language": "python",
     "metadata": {},
     "outputs": [],
     "prompt_number": 29
    },
    {
     "cell_type": "code",
     "collapsed": false,
     "input": [
      "vect = vectorizer.fit_transform(nov.use.values)\n"
     ],
     "language": "python",
     "metadata": {},
     "outputs": [],
     "prompt_number": 30
    },
    {
     "cell_type": "code",
     "collapsed": false,
     "input": [
      "vect.shape"
     ],
     "language": "python",
     "metadata": {},
     "outputs": [
      {
       "metadata": {},
       "output_type": "pyout",
       "prompt_number": 31,
       "text": [
        "(8309, 50)"
       ]
      }
     ],
     "prompt_number": 31
    },
    {
     "cell_type": "code",
     "collapsed": false,
     "input": [
      "type(vect)"
     ],
     "language": "python",
     "metadata": {},
     "outputs": [
      {
       "metadata": {},
       "output_type": "pyout",
       "prompt_number": 32,
       "text": [
        "scipy.sparse.csr.csr_matrix"
       ]
      }
     ],
     "prompt_number": 32
    },
    {
     "cell_type": "code",
     "collapsed": false,
     "input": [
      "vect.toarray()"
     ],
     "language": "python",
     "metadata": {},
     "outputs": [
      {
       "metadata": {},
       "output_type": "pyout",
       "prompt_number": 33,
       "text": [
        "array([[ 0.,  0.,  0., ...,  0.,  0.,  0.],\n",
        "       [ 0.,  0.,  0., ...,  0.,  0.,  0.],\n",
        "       [ 0.,  0.,  0., ...,  0.,  0.,  0.],\n",
        "       ..., \n",
        "       [ 0.,  0.,  0., ...,  0.,  0.,  0.],\n",
        "       [ 0.,  0.,  0., ...,  0.,  0.,  0.],\n",
        "       [ 0.,  0.,  0., ...,  0.,  0.,  0.]])"
       ]
      }
     ],
     "prompt_number": 33
    },
    {
     "cell_type": "code",
     "collapsed": false,
     "input": [
      "vectorizer.get_feature_names()"
     ],
     "language": "python",
     "metadata": {},
     "outputs": [
      {
       "metadata": {},
       "output_type": "pyout",
       "prompt_number": 34,
       "text": [
        "[u'addit',\n",
        " u'bean',\n",
        " u'beverag',\n",
        " u'build',\n",
        " u'busi',\n",
        " u'buy',\n",
        " u'cement',\n",
        " u'cloth',\n",
        " u'corn',\n",
        " u'custom',\n",
        " u'drink',\n",
        " u'farm',\n",
        " u'fee',\n",
        " u'feed',\n",
        " u'fertil',\n",
        " u'fish',\n",
        " u'flour',\n",
        " u'food',\n",
        " u'fruit',\n",
        " u'good',\n",
        " u'groceri',\n",
        " u'hi',\n",
        " u'hous',\n",
        " u'increas',\n",
        " u'ingredi',\n",
        " u'item',\n",
        " u'like',\n",
        " u'make',\n",
        " u'materi',\n",
        " u'milk',\n",
        " u'new',\n",
        " u'oil',\n",
        " u'pay',\n",
        " u'pig',\n",
        " u'product',\n",
        " u'purchas',\n",
        " u'resal',\n",
        " u'rice',\n",
        " u'sack',\n",
        " u'school',\n",
        " u'seed',\n",
        " u'sell',\n",
        " u'shampoo',\n",
        " u'stock',\n",
        " u'store',\n",
        " u'sugar',\n",
        " u'suppli',\n",
        " u'veget',\n",
        " u'vitamin',\n",
        " u'water']"
       ]
      }
     ],
     "prompt_number": 34
    },
    {
     "cell_type": "code",
     "collapsed": false,
     "input": [
      "col = ['use: ' + str(x) for x in vectorizer.get_feature_names()]"
     ],
     "language": "python",
     "metadata": {},
     "outputs": [],
     "prompt_number": 35
    },
    {
     "cell_type": "code",
     "collapsed": false,
     "input": [
      "col"
     ],
     "language": "python",
     "metadata": {},
     "outputs": [
      {
       "metadata": {},
       "output_type": "pyout",
       "prompt_number": 36,
       "text": [
        "['use: addit',\n",
        " 'use: bean',\n",
        " 'use: beverag',\n",
        " 'use: build',\n",
        " 'use: busi',\n",
        " 'use: buy',\n",
        " 'use: cement',\n",
        " 'use: cloth',\n",
        " 'use: corn',\n",
        " 'use: custom',\n",
        " 'use: drink',\n",
        " 'use: farm',\n",
        " 'use: fee',\n",
        " 'use: feed',\n",
        " 'use: fertil',\n",
        " 'use: fish',\n",
        " 'use: flour',\n",
        " 'use: food',\n",
        " 'use: fruit',\n",
        " 'use: good',\n",
        " 'use: groceri',\n",
        " 'use: hi',\n",
        " 'use: hous',\n",
        " 'use: increas',\n",
        " 'use: ingredi',\n",
        " 'use: item',\n",
        " 'use: like',\n",
        " 'use: make',\n",
        " 'use: materi',\n",
        " 'use: milk',\n",
        " 'use: new',\n",
        " 'use: oil',\n",
        " 'use: pay',\n",
        " 'use: pig',\n",
        " 'use: product',\n",
        " 'use: purchas',\n",
        " 'use: resal',\n",
        " 'use: rice',\n",
        " 'use: sack',\n",
        " 'use: school',\n",
        " 'use: seed',\n",
        " 'use: sell',\n",
        " 'use: shampoo',\n",
        " 'use: stock',\n",
        " 'use: store',\n",
        " 'use: sugar',\n",
        " 'use: suppli',\n",
        " 'use: veget',\n",
        " 'use: vitamin',\n",
        " 'use: water']"
       ]
      }
     ],
     "prompt_number": 36
    },
    {
     "cell_type": "code",
     "collapsed": false,
     "input": [
      "tf = pd.DataFrame(vect.toarray(), columns = col)"
     ],
     "language": "python",
     "metadata": {},
     "outputs": [],
     "prompt_number": 37
    },
    {
     "cell_type": "code",
     "collapsed": false,
     "input": [
      "clf = MultinomialNB()\n",
      "clf.fit(vect, sep.expired.values)\n",
      "print \"train score\"\n",
      "print clf.score(vect, sep.expired.values)"
     ],
     "language": "python",
     "metadata": {},
     "outputs": [
      {
       "output_type": "stream",
       "stream": "stdout",
       "text": [
        "train score\n",
        "0.89896227738\n"
       ]
      }
     ],
     "prompt_number": 200
    },
    {
     "cell_type": "code",
     "collapsed": false,
     "input": [
      "type(df)"
     ],
     "language": "python",
     "metadata": {},
     "outputs": [
      {
       "metadata": {},
       "output_type": "pyout",
       "prompt_number": 222,
       "text": [
        "pandas.core.frame.DataFrame"
       ]
      }
     ],
     "prompt_number": 222
    },
    {
     "cell_type": "code",
     "collapsed": false,
     "input": [
      "reload(model)\n",
      "mod = model.funding_model()\n",
      "mod.transform_fit(nov)\n",
      "mod.predict(nov)\n",
      "mod.predict(sep)\n",
      "mod.feat_imp()"
     ],
     "language": "python",
     "metadata": {},
     "outputs": [
      {
       "output_type": "stream",
       "stream": "stdout",
       "text": [
        "(8309, 16)\n",
        "(8309, 252)"
       ]
      },
      {
       "output_type": "stream",
       "stream": "stdout",
       "text": [
        "\n",
        "(8309, 302)\n",
        "<class 'pandas.core.frame.DataFrame'>\n",
        "Float64Index: 8309 entries, 777202.0 to 797987.0\n",
        "Data columns (total 50 columns):\n",
        "use: addit      8309 non-null float64\n",
        "use: bean       8309 non-null float64\n",
        "use: beverag    8309 non-null float64\n",
        "use: build      8309 non-null float64\n",
        "use: busi       8309 non-null float64\n",
        "use: buy        8309 non-null float64\n",
        "use: cement     8309 non-null float64\n",
        "use: cloth      8309 non-null float64\n",
        "use: corn       8309 non-null float64\n",
        "use: custom     8309 non-null float64\n",
        "use: drink      8309 non-null float64\n",
        "use: farm       8309 non-null float64\n",
        "use: fee        8309 non-null float64\n",
        "use: feed       8309 non-null float64\n",
        "use: fertil     8309 non-null float64\n",
        "use: fish       8309 non-null float64\n",
        "use: flour      8309 non-null float64\n",
        "use: food       8309 non-null float64\n",
        "use: fruit      8309 non-null float64\n",
        "use: good       8309 non-null float64\n",
        "use: groceri    8309 non-null float64\n",
        "use: hi         8309 non-null float64\n",
        "use: hous       8309 non-null float64\n",
        "use: increas    8309 non-null float64\n",
        "use: ingredi    8309 non-null float64\n",
        "use: item       8309 non-null float64\n",
        "use: like       8309 non-null float64\n",
        "use: make       8309 non-null float64\n",
        "use: materi     8309 non-null float64\n",
        "use: milk       8309 non-null float64\n",
        "use: new        8309 non-null float64\n",
        "use: oil        8309 non-null float64\n",
        "use: pay        8309 non-null float64\n",
        "use: pig        8309 non-null float64\n",
        "use: product    8309 non-null float64\n",
        "use: purchas    8309 non-null float64\n",
        "use: resal      8309 non-null float64\n",
        "use: rice       8309 non-null float64\n",
        "use: sack       8309 non-null float64\n",
        "use: school     8309 non-null float64\n",
        "use: seed       8309 non-null float64\n",
        "use: sell       8309 non-null float64\n",
        "use: shampoo    8309 non-null float64\n",
        "use: stock      8309 non-null float64\n",
        "use: store      8309 non-null float64\n",
        "use: sugar      8309 non-null float64\n",
        "use: suppli     8309 non-null float64\n",
        "use: veget      8309 non-null float64\n",
        "use: vitamin    8309 non-null float64\n",
        "use: water      8309 non-null float64\n",
        "dtypes: float64(50)"
       ]
      },
      {
       "output_type": "stream",
       "stream": "stdout",
       "text": [
        "None\n",
        "0"
       ]
      },
      {
       "output_type": "stream",
       "stream": "stdout",
       "text": [
        "\n",
        "actl pos:"
       ]
      },
      {
       "output_type": "stream",
       "stream": "stdout",
       "text": [
        " 0.1405 pred pos: 0.4047\n",
        "true pos: 0.1377 false pos: 0.2671\n",
        "true neg: 0.5925 false neg: 0.0028\n",
        "recall: 0.9803 precision: 0.3402\n",
        "\n",
        "<class 'pandas.core.frame.DataFrame'>\n",
        "Float64Index: 14262 entries, 746295.0 to 775807.0\n",
        "Data columns (total 50 columns):\n",
        "use: addit      14262 non-null float64\n",
        "use: bean       14262 non-null float64\n",
        "use: beverag    14262 non-null float64\n",
        "use: build      14262 non-null float64\n",
        "use: busi       14262 non-null float64\n",
        "use: buy        14262 non-null float64\n",
        "use: cement     14262 non-null float64\n",
        "use: cloth      14262 non-null float64\n",
        "use: corn       14262 non-null float64\n",
        "use: custom     14262 non-null float64\n",
        "use: drink      14262 non-null float64\n",
        "use: farm       14262 non-null float64\n",
        "use: fee        14262 non-null float64\n",
        "use: feed       14262 non-null float64\n",
        "use: fertil     14262 non-null float64\n",
        "use: fish       14262 non-null float64\n",
        "use: flour      14262 non-null float64\n",
        "use: food       14262 non-null float64\n",
        "use: fruit      14262 non-null float64\n",
        "use: good       14262 non-null float64\n",
        "use: groceri    14262 non-null float64\n",
        "use: hi         14262 non-null float64\n",
        "use: hous       14262 non-null float64\n",
        "use: increas    14262 non-null float64\n",
        "use: ingredi    14262 non-null float64\n",
        "use: item       14262 non-null float64\n",
        "use: like       14262 non-null float64\n",
        "use: make       14262 non-null float64\n",
        "use: materi     14262 non-null float64\n",
        "use: milk       14262 non-null float64\n",
        "use: new        14262 non-null float64\n",
        "use: oil        14262 non-null float64\n",
        "use: pay        14262 non-null float64\n",
        "use: pig        14262 non-null float64\n",
        "use: product    14262 non-null float64\n",
        "use: purchas    14262 non-null float64\n",
        "use: resal      14262 non-null float64\n",
        "use: rice       14262 non-null float64\n",
        "use: sack       14262 non-null float64\n",
        "use: school     14262 non-null float64\n",
        "use: seed       14262 non-null float64\n",
        "use: sell       14262 non-null float64\n",
        "use: shampoo    14262 non-null float64\n",
        "use: stock      14262 non-null float64\n",
        "use: store      14262 non-null float64\n",
        "use: sugar      14262 non-null float64\n",
        "use: suppli     14262 non-null float64\n",
        "use: veget      14262 non-null float64\n",
        "use: vitamin    14262 non-null float64\n",
        "use: water      14262 non-null float64\n",
        "dtypes: float64(50)"
       ]
      },
      {
       "output_type": "stream",
       "stream": "stdout",
       "text": [
        "None\n",
        "15"
       ]
      },
      {
       "output_type": "stream",
       "stream": "stdout",
       "text": [
        "\n",
        "actl pos:"
       ]
      },
      {
       "output_type": "stream",
       "stream": "stdout",
       "text": [
        " 0.0987 pred pos: 0.3949\n",
        "true pos: 0.0926 false pos: 0.3023\n",
        "true neg: 0.5991 false neg: 0.006\n",
        "recall: 0.9389 precision: 0.2346\n",
        "\n",
        "loan_amount: 19.6%\n",
        "repayment_term: 16.0%\n",
        "monthly: 15.3%\n",
        "irregular_payments: 13.0%\n",
        "gender: 5.4%\n",
        "SV: 1.9%\n",
        "CO: 1.8%\n",
        "pay_at_end: 1.8%\n",
        "PH: 1.6%\n",
        "group_size: 1.6%\n",
        "use: hi: 1.3%\n",
        "theme_Rural Exclusion: 0.9%\n",
        "IN: 0.8%\n",
        "KH: 0.7%\n",
        "NG: 0.7%\n",
        "use: cement: 0.7%\n",
        "act: Higher education costs: 0.6%\n",
        "theme_Higher Education: 0.6%\n",
        "dollars: 0.6%\n",
        "use: sell: 0.6%\n",
        "KE: 0.5%\n",
        "KG: 0.5%\n",
        "PS: 0.4%\n",
        "theme_none: 0.4%\n",
        "use: busi: 0.4%\n",
        "act: Personal Housing Expenses: 0.4%\n",
        "Arts: 0.4%\n",
        "Food: 0.4%\n",
        "Agriculture: 0.4%\n",
        "act: Livestock: 0.4%\n",
        "use: buy: 0.4%\n",
        "VN: 0.4%\n",
        "use: hous: 0.4%\n",
        "use: water: 0.4%\n",
        "use: like: 0.3%\n",
        "Housing: 0.3%\n",
        "use: store: 0.3%\n",
        "Manufacturing: 0.3%\n",
        "use: fee: 0.2%\n",
        "use: cloth: 0.2%\n",
        "use: purchas: 0.2%\n",
        "act: General Store: 0.2%\n",
        "PE: 0.2%\n",
        "Retail: 0.2%\n",
        "theme_Innovative Loans: 0.2%\n",
        "bonus_credit_eligibility: 0.2%\n",
        "use: vitamin: 0.2%\n",
        "Education: 0.2%\n",
        "TL: 0.2%\n",
        "act: Retail: 0.2%\n",
        "use: stock: 0.2%\n",
        "theme_Green: 0.2%\n",
        "EC: 0.2%\n",
        "use: product: 0.2%\n",
        "use: pig: 0.2%\n",
        "use: fish: 0.2%\n",
        "theme_Start-Up: 0.2%\n",
        "use: sugar: 0.2%\n",
        "use: increas: 0.2%\n",
        "act: Farming: 0.2%\n",
        "use: rice: 0.1%\n",
        "use: build: 0.1%\n",
        "theme_Underfunded Areas: 0.1%\n",
        "act: Clothing Sales: 0.1%\n",
        "use: new: 0.1%\n",
        "Health: 0.1%\n",
        "use: resal: 0.1%\n",
        "act: Pigs: 0.1%\n",
        "use: school: 0.1%\n",
        "theme_Conflict Zones: 0.1%\n",
        "use: item: 0.1%\n",
        "JO: 0.1%\n",
        "act: Charcoal Sales: 0.1%\n",
        "AZ: 0.1%\n",
        "Services: 0.1%\n",
        "ML: 0.1%\n",
        "UG: 0.1%\n",
        "theme_Water and Sanitation: 0.1%\n",
        "ID: 0.1%\n",
        "use: shampoo: 0.1%\n",
        "act: Agriculture: 0.1%\n",
        "use: seed: 0.1%\n",
        "PY: 0.1%\n",
        "use: food: 0.1%\n",
        "use: pay: 0.1%\n",
        "GT: 0.1%\n",
        "use: groceri: 0.0%\n",
        "use: fruit: 0.0%\n",
        "act: Fishing: 0.0%\n",
        "YE: 0.0%\n",
        "BO: 0.0%\n",
        "theme_Disaster recovery: 0.0%\n",
        "TJ: 0.0%\n",
        "use: ingredi: 0.0%\n",
        "use: good: 0.0%\n",
        "act: Food: 0.0%\n",
        "act: Tailoring: 0.0%\n",
        "theme_Islamic Finance: 0.0%\n",
        "use: bean: 0.0%\n",
        "use: addit: 0.0%\n",
        "act: Fruits & Vegetables: 0.0%\n",
        "act: Food Production/Sales: 0.0%\n",
        "use: make: 0.0%\n",
        "use: fertil: 0.0%\n",
        "use: suppli: 0.0%\n",
        "theme_Vulnerable Groups: 0.0%\n",
        "Clothing: 0.0%\n",
        "act: Motorcycle Transport: 0.0%\n",
        "act: Fish Selling: 0.0%\n",
        "use: materi: 0.0%\n",
        "use: sack: 0.0%\n",
        "act: Sewing: 0.0%\n",
        "act: Poultry: 0.0%\n",
        "use: veget: 0.0%\n",
        "theme_Youth: 0.0%\n",
        "use: custom: 0.0%\n",
        "act: Home Products Sales: 0.0%\n",
        "MZ: 0.0%\n",
        "use: feed: 0.0%\n",
        "act: Home Appliances: 0.0%\n",
        "use: oil: 0.0%\n",
        "use: corn: 0.0%\n",
        "QS: 0.0%\n",
        "TH: 0.0%\n",
        "WS: 0.0%\n",
        "US: 0.0%\n",
        "UA: 0.0%\n",
        "ZW: 0.0%\n",
        "TZ: 0.0%\n",
        "act: Animal Sales: 0.0%\n",
        "TR: 0.0%\n",
        "NI: 0.0%\n",
        "RW: 0.0%\n",
        "XK: 0.0%\n",
        "NP: 0.0%\n",
        "SR: 0.0%\n",
        "SN: 0.0%\n",
        "act: Arts: 0.0%\n",
        "SL: 0.0%\n",
        "SB: 0.0%\n",
        "use: flour: 0.0%\n",
        "PK: 0.0%\n",
        "TG: 0.0%\n",
        "CN: 0.0%\n",
        "MX: 0.0%\n",
        "MW: 0.0%\n",
        "Wholesale: 0.0%\n",
        "Transportation: 0.0%\n",
        "Personal Use: 0.0%\n",
        "use: milk: 0.0%\n",
        "Entertainment: 0.0%\n",
        "Construction: 0.0%\n",
        "theme_SME: 0.0%\n",
        "theme_Mobile Technology: 0.0%\n",
        "theme_Kiva City LA: 0.0%\n",
        "theme_Kiva City Detroit: 0.0%\n",
        "theme_Job Creation: 0.0%\n",
        "theme_Health: 0.0%\n",
        "theme_Growing Businesses: 0.0%\n",
        "theme_Flexible Credit Study: 0.0%\n",
        "theme_Fair Trade: 0.0%\n",
        "theme_Arab Youth: 0.0%\n",
        "currency_loss: 0.0%\n",
        "AL: 0.0%\n",
        "AM: 0.0%\n",
        "BF: 0.0%\n",
        "GH: 0.0%\n",
        "MN: 0.0%\n",
        "LB: 0.0%\n",
        "LA: 0.0%\n",
        "IQ: 0.0%\n",
        "IL: 0.0%\n",
        "HT: 0.0%\n",
        "HN: 0.0%\n",
        "GE: 0.0%\n",
        "BI: 0.0%\n",
        "CR: 0.0%\n",
        "act: Bakery: 0.0%\n",
        "CM: 0.0%\n",
        "CG: 0.0%\n",
        "CD: 0.0%\n",
        "BZ: 0.0%\n",
        "BR: 0.0%\n",
        "act: Auto Repair: 0.0%\n",
        "act: Catering: 0.0%\n",
        "act: Barber Shop: 0.0%\n",
        "act: Personal Purchases: 0.0%\n",
        "act: Recycling: 0.0%\n",
        "act: Recycled Materials: 0.0%\n",
        "act: Pub: 0.0%\n",
        "act: Property: 0.0%\n",
        "act: Printing: 0.0%\n",
        "act: Primary/secondary school costs: 0.0%\n",
        "act: Plastics Sales: 0.0%\n",
        "act: Photography: 0.0%\n",
        "act: Phone Use Sales: 0.0%\n",
        "act: Phone Repair: 0.0%\n",
        "act: Phone Accessories: 0.0%\n",
        "act: Pharmacy: 0.0%\n",
        "act: Personal Products Sales: 0.0%\n",
        "act: Metal Shop: 0.0%\n",
        "act: Personal Medical Expenses: 0.0%\n",
        "act: Perfumes: 0.0%\n",
        "act: Patchwork: 0.0%\n",
        "act: Paper Sales: 0.0%\n",
        "act: Office Supplies: 0.0%\n",
        "act: Natural Medicines: 0.0%\n",
        "act: Musical Performance: 0.0%\n",
        "act: Musical Instruments: 0.0%\n",
        "act: Music Discs & Tapes: 0.0%\n",
        "act: Movie Tapes & DVDs: 0.0%\n",
        "act: Motorcycle Repair: 0.0%\n",
        "act: Mobile Phones: 0.0%\n",
        "act: Religious Articles: 0.0%\n",
        "act: Renewable Energy Products: 0.0%\n",
        "act: Restaurant: 0.0%\n",
        "act: Rickshaw: 0.0%\n",
        "act: Wholesale: 0.0%\n",
        "act: Well digging: 0.0%\n",
        "act: Wedding Expenses: 0.0%\n",
        "act: Weaving: 0.0%\n",
        "act: Water Distribution: 0.0%\n",
        "act: Waste Management: 0.0%\n",
        "act: Veterinary Sales: 0.0%\n",
        "act: Vehicle Repairs: 0.0%\n",
        "act: Vehicle: 0.0%\n",
        "act: Utilities: 0.0%\n",
        "act: Used Shoes: 0.0%\n",
        "act: Used Clothing: 0.0%\n",
        "act: Upholstery: 0.0%\n",
        "act: Traveling Sales: 0.0%\n",
        "act: Transportation: 0.0%\n",
        "act: Tourism: 0.0%\n",
        "act: Timber Sales: 0.0%\n",
        "act: Textiles: 0.0%\n",
        "act: Taxi: 0.0%\n",
        "act: Spare Parts: 0.0%\n",
        "act: Souvenir Sales: 0.0%\n",
        "act: Soft Drinks: 0.0%\n",
        "act: Shoe Sales: 0.0%\n",
        "act: Services: 0.0%\n",
        "act: Secretarial Services: 0.0%\n",
        "act: Milk Sales: 0.0%\n",
        "act: Medical Clinic: 0.0%\n",
        "act: Beauty Salon: 0.0%\n",
        "act: Child Care: 0.0%\n",
        "act: Dental: 0.0%\n",
        "act: Decorations Sales: 0.0%\n",
        "act: Dairy: 0.0%\n",
        "act: Crafts: 0.0%\n",
        "act: Cosmetics Sales: 0.0%\n",
        "act: Consumer Goods: 0.0%\n",
        "act: Construction Supplies: 0.0%\n",
        "act: Construction: 0.0%\n",
        "act: Computers: 0.0%\n",
        "act: Cobbler: 0.0%\n",
        "act: Clothing: 0.0%\n",
        "act: Cloth & Dressmaking Supplies: 0.0%\n",
        "act: Cheese Making: 0.0%\n",
        "act: Manufacturing: 0.0%\n",
        "act: Cereals: 0.0%\n",
        "act: Cement: 0.0%\n",
        "act: Cattle: 0.0%\n",
        "use: beverag: 0.0%\n",
        "act: Carpentry: 0.0%\n",
        "act: Call Center: 0.0%\n",
        "act: Cafe: 0.0%\n",
        "act: Butcher Shop: 0.0%\n",
        "act: Bricks: 0.0%\n",
        "act: Bookstore: 0.0%\n",
        "act: Blacksmith: 0.0%\n",
        "act: Bicycle Repair: 0.0%\n",
        "act: Education provider: 0.0%\n",
        "act: Electrical Goods: 0.0%\n",
        "act: Electronics Repair: 0.0%\n",
        "act: Embroidery: 0.0%\n",
        "act: Machinery Rental: 0.0%\n",
        "act: Machine Shop: 0.0%\n",
        "act: Liquor Store / Off-License: 0.0%\n",
        "act: Laundry: 0.0%\n",
        "act: Land Rental: 0.0%\n",
        "act: Knitting: 0.0%\n",
        "act: Jewelry: 0.0%\n",
        "act: Internet Cafe: 0.0%\n",
        "act: Hotel: 0.0%\n",
        "act: Home Energy: 0.0%\n",
        "use: drink: 0.0%\n",
        "act: Health: 0.0%\n",
        "act: Hardware: 0.0%\n",
        "act: Grocery Store: 0.0%\n",
        "act: Goods Distribution: 0.0%\n",
        "use: farm: 0.0%\n",
        "act: Games: 0.0%\n",
        "act: Furniture Making: 0.0%\n",
        "act: Funeral Expenses: 0.0%\n",
        "act: Fuel/Firewood: 0.0%\n",
        "act: Food Stall: 0.0%\n",
        "act: Food Market: 0.0%\n",
        "act: Flowers: 0.0%\n",
        "act: Farm Supplies: 0.0%\n",
        "act: Entertainment: 0.0%\n",
        "act: Electronics Sales: 0.0%\n"
       ]
      }
     ],
     "prompt_number": 70
    },
    {
     "cell_type": "code",
     "collapsed": false,
     "input": [
      "df.use.values"
     ],
     "language": "python",
     "metadata": {},
     "outputs": [
      {
       "metadata": {},
       "output_type": "pyout",
       "prompt_number": 45,
       "text": [
        "array([u'to buy sandals, clothing, beauty products, and general merchandise.',\n",
        "       u'to pay the education costs for three students',\n",
        "       u'to pay the education costs for two students', ...,\n",
        "       u'to pay for hairdressing tools and accessories (dryer, hair iron)',\n",
        "       u'To purchase more stock of flour, cooking fat and rice to sell in her shop.',\n",
        "       u'to purchase bundles of charcoal for resale.'], dtype=object)"
       ]
      }
     ],
     "prompt_number": 45
    },
    {
     "cell_type": "code",
     "collapsed": false,
     "input": [
      "    def tokenize(txt, stemmer=PorterStemmer()):\n",
      "        return [stemmer.stem(word) for word in word_tokenize(txt) if word not in [',', '.',\"'s\"]]\n",
      "\n",
      "vectorizer = TfidfVectorizer(stop_words='english', tokenizer=tokenize, max_features=50)\n"
     ],
     "language": "python",
     "metadata": {},
     "outputs": [],
     "prompt_number": 50
    },
    {
     "cell_type": "code",
     "collapsed": false,
     "input": [
      "vect = vectorizer.fit_transform(nov.use.values)"
     ],
     "language": "python",
     "metadata": {},
     "outputs": [],
     "prompt_number": 51
    },
    {
     "cell_type": "code",
     "collapsed": false,
     "input": [
      "reload(model)\n",
      "mod = model.funding_model()\n",
      "mod.transform_fit(augsep)\n",
      "mod.predict(nov)\n",
      "mod.predict(sep)\n",
      "mod.feat_imp()"
     ],
     "language": "python",
     "metadata": {},
     "outputs": [
      {
       "output_type": "stream",
       "stream": "stdout",
       "text": [
        "(28254, 16)\n",
        "(28254, 263)"
       ]
      },
      {
       "output_type": "stream",
       "stream": "stdout",
       "text": [
        "\n",
        "(28254, 463)"
       ]
      },
      {
       "output_type": "stream",
       "stream": "stdout",
       "text": [
        "\n",
        "<class 'pandas.core.frame.DataFrame'>\n",
        "Float64Index: 8309 entries, 777202.0 to 797987.0\n",
        "Columns: 200 entries, use: ( to use: yield\n",
        "dtypes: float64(200)"
       ]
      },
      {
       "output_type": "stream",
       "stream": "stdout",
       "text": [
        "None\n",
        "5"
       ]
      },
      {
       "output_type": "stream",
       "stream": "stdout",
       "text": [
        "\n",
        "actl pos:"
       ]
      },
      {
       "output_type": "stream",
       "stream": "stdout",
       "text": [
        " 0.1405 pred pos: 0.3661\n",
        "true pos: 0.1321 false pos: 0.234\n",
        "true neg: 0.6256 false neg: 0.0083\n",
        "recall: 0.9409 precision: 0.3609\n",
        "\n",
        "<class 'pandas.core.frame.DataFrame'>\n",
        "Float64Index: 14262 entries, 746295.0 to 775807.0\n",
        "Columns: 200 entries, use: ( to use: yield\n",
        "dtypes: float64(200)"
       ]
      },
      {
       "output_type": "stream",
       "stream": "stdout",
       "text": [
        "None\n",
        "0"
       ]
      },
      {
       "output_type": "stream",
       "stream": "stdout",
       "text": [
        "\n",
        "actl pos:"
       ]
      },
      {
       "output_type": "stream",
       "stream": "stdout",
       "text": [
        " 0.0987 pred pos: 0.3359\n",
        "true pos: 0.0923 false pos: 0.2436\n",
        "true neg: 0.6578 false neg: 0.0064\n",
        "recall: 0.9353 precision: 0.2747\n",
        "\n",
        "repayment_term: 16.2%"
       ]
      },
      {
       "output_type": "stream",
       "stream": "stdout",
       "text": [
        "\n",
        "irregular_payments: 15.8%\n",
        "loan_amount: 13.5%\n",
        "monthly: 11.5%\n",
        "gender: 3.8%\n",
        "PH: 3.1%\n",
        "KH: 2.0%\n",
        "use: hi: 1.3%\n",
        "bonus_credit_eligibility: 1.2%\n",
        "ZW: 0.9%\n",
        "Education: 0.8%\n",
        "KE: 0.7%\n",
        "theme_Green: 0.7%\n",
        "act: Personal Housing Expenses: 0.7%\n",
        "NG: 0.6%\n",
        "SV: 0.6%\n",
        "group_size: 0.6%\n",
        "use: solar: 0.6%\n",
        "use: input: 0.5%\n",
        "Agriculture: 0.5%\n",
        "ML: 0.5%\n",
        "use: doubl: 0.4%\n",
        "use: incom: 0.4%\n",
        "act: Farming: 0.4%\n",
        "theme_Water and Sanitation: 0.4%\n",
        "theme_Innovative Loans: 0.4%\n",
        "PS: 0.4%\n",
        "use: buy: 0.4%\n",
        "Retail: 0.4%\n",
        "Arts: 0.4%\n",
        "theme_Rural Exclusion: 0.4%\n",
        "CO: 0.4%\n",
        "pay_at_end: 0.3%\n",
        "dollars: 0.3%\n",
        "theme_Mobile Technology: 0.3%\n",
        "use: hous: 0.3%\n",
        "act: Retail: 0.3%\n",
        "use: fish: 0.3%\n",
        "Housing: 0.3%\n",
        "theme_Disaster recovery: 0.3%\n",
        "HT: 0.3%\n",
        "use: purchas: 0.3%\n",
        "use: yield: 0.3%\n",
        "use: stock: 0.3%\n",
        "theme_none: 0.3%\n",
        "use: order: 0.3%\n",
        "UG: 0.3%\n",
        "use: high-qual: 0.3%\n",
        "use: haiti: 0.2%\n",
        "act: Pigs: 0.2%\n",
        "theme_Underfunded Areas: 0.2%\n",
        "use: fee: 0.2%\n",
        "act: Agriculture: 0.2%\n",
        "SN: 0.2%\n",
        "theme_Youth: 0.2%\n",
        "act: Home Energy: 0.2%\n",
        "use: cement: 0.2%\n",
        "use: pig: 0.2%\n",
        "IN: 0.2%\n",
        "YE: 0.2%\n",
        "use: materi: 0.2%\n",
        "use: busi: 0.2%\n",
        "use: seed: 0.2%\n",
        "theme_Higher Education: 0.2%\n",
        "use: beehiv: 0.2%\n",
        "use: feed: 0.2%\n",
        "use: access: 0.2%\n",
        "use: pay: 0.2%\n",
        "use: sell: 0.2%\n",
        "TJ: 0.2%\n",
        "theme_Conflict Zones: 0.2%\n",
        "Manufacturing: 0.2%\n",
        "use: increas: 0.2%\n",
        "use: addit: 0.2%\n",
        "use: groceri: 0.2%\n",
        "act: Sewing: 0.2%\n",
        "PE: 0.2%\n",
        "use: grid: 0.2%\n",
        "EC: 0.1%\n",
        "use: store: 0.1%\n",
        "use: cow: 0.1%\n",
        "use: semest: 0.1%\n",
        "act: Fishing: 0.1%\n",
        "use: dairi: 0.1%\n",
        "use: fertil: 0.1%\n",
        "use: safe: 0.1%\n",
        "PY: 0.1%\n",
        "use: product: 0.1%\n",
        "use: food: 0.1%\n",
        "use: tuition: 0.1%\n",
        "use: hybrid: 0.1%\n",
        "act: Poultry: 0.1%\n",
        "use: plow: 0.1%\n",
        "act: Higher education costs: 0.1%\n",
        "use: sale: 0.1%\n",
        "use: machin: 0.1%\n",
        "Health: 0.1%\n",
        "Clothing: 0.1%\n",
        "use: connect: 0.1%\n",
        "RW: 0.1%\n",
        "use: resal: 0.1%\n",
        "use: work: 0.1%\n",
        "use: sew: 0.1%\n",
        "use: farmland: 0.1%\n",
        "WS: 0.1%\n",
        "use: school: 0.1%\n",
        "use: sand: 0.1%\n",
        "theme_Vulnerable Groups: 0.1%\n",
        "use: rais: 0.1%\n",
        "ID: 0.1%\n",
        "use: repair: 0.1%\n",
        "act: Clothing Sales: 0.1%\n",
        "use: raw: 0.1%\n",
        "use: water: 0.1%\n",
        "use: oil: 0.1%\n",
        "use: drink: 0.1%\n",
        "use: item: 0.1%\n",
        "use: chick: 0.1%\n",
        "act: General Store: 0.1%\n",
        "VN: 0.1%\n",
        "use: farm: 0.1%\n",
        "use: cook: 0.1%\n",
        "TG: 0.1%\n",
        "use: ingredi: 0.1%\n",
        "use: cloth: 0.1%\n",
        "PK: 0.1%\n",
        "use: filter: 0.1%\n",
        "AM: 0.1%\n",
        "use: candi: 0.1%\n",
        "use: latrin: 0.1%\n",
        "act: Home Appliances: 0.1%\n",
        "Food: 0.1%\n",
        "use: veget: 0.1%\n",
        "use: fabric: 0.1%\n",
        "Services: 0.1%\n",
        "act: Dairy: 0.1%\n",
        "use: gravel: 0.1%\n",
        "use: shampoo: 0.1%\n",
        "use: new: 0.1%\n",
        "use: soft: 0.1%\n",
        "act: Animal Sales: 0.1%\n",
        "use: mobil: 0.1%\n",
        "act: Crafts: 0.1%\n",
        "use: univers: 0.1%\n",
        "use: rice: 0.1%\n",
        "use: electr: 0.1%\n",
        "use: poultri: 0.1%\n",
        "JO: 0.1%\n",
        "use: grain: 0.1%\n",
        "Personal Use: 0.0%\n",
        "use: cover: 0.0%\n",
        "act: Transportation: 0.0%\n",
        "use: husband: 0.0%\n",
        "act: Grocery Store: 0.0%\n",
        "use: custom: 0.0%\n",
        "use: good: 0.0%\n",
        "use: set: 0.0%\n",
        "use: start: 0.0%\n",
        "theme_Start-Up: 0.0%\n",
        "use: phone: 0.0%\n",
        "act: Used Clothing: 0.0%\n",
        "use: maiz: 0.0%\n",
        "use: sheet: 0.0%\n",
        "act: Phone Use Sales: 0.0%\n",
        "use: coffe: 0.0%\n",
        "use: larg: 0.0%\n",
        "use: inventori: 0.0%\n",
        "use: bulk: 0.0%\n",
        "use: pesticid: 0.0%\n",
        "use: improv: 0.0%\n",
        "use: corn: 0.0%\n",
        "TL: 0.0%\n",
        "HN: 0.0%\n",
        "use: cattl: 0.0%\n",
        "use: meat: 0.0%\n",
        "use: resel: 0.0%\n",
        "use: build: 0.0%\n",
        "use: capit: 0.0%\n",
        "use: anim: 0.0%\n",
        "use: crop: 0.0%\n",
        "use: fruit: 0.0%\n",
        "use: wholesal: 0.0%\n",
        "use: soap: 0.0%\n",
        "use: chicken: 0.0%\n",
        "use: bag: 0.0%\n",
        "IQ: 0.0%\n",
        "AZ: 0.0%\n",
        "TZ: 0.0%\n",
        "use: basic: 0.0%\n",
        "LB: 0.0%\n",
        "Transportation: 0.0%\n",
        "use: help: 0.0%\n",
        "use: flour: 0.0%\n",
        "use: honey: 0.0%\n",
        "use: home: 0.0%\n",
        "MM: 0.0%\n",
        "use: agricultur: 0.0%\n",
        "use: potato: 0.0%\n",
        "use: qualiti: 0.0%\n",
        "act: Personal Purchases: 0.0%\n",
        "use: sack: 0.0%\n",
        "act: Primary/secondary school costs: 0.0%\n",
        "use: tool: 0.0%\n",
        "use: need: 0.0%\n",
        "act: Fruits & Vegetables: 0.0%\n",
        "NI: 0.0%\n",
        "use: equip: 0.0%\n",
        "use: famili: 0.0%\n",
        "use: shoe: 0.0%\n",
        "LA: 0.0%\n",
        "use: milk: 0.0%\n",
        "use: plastic: 0.0%\n",
        "use: bean: 0.0%\n",
        "SL: 0.0%\n",
        "act: Fish Selling: 0.0%\n",
        "use: servic: 0.0%\n",
        "Construction: 0.0%\n",
        "CR: 0.0%\n",
        "act: Food: 0.0%\n",
        "use: like: 0.0%\n",
        "act: Food Market: 0.0%\n",
        "use: seedl: 0.0%\n",
        "act: Beauty Salon: 0.0%\n",
        "use: egg: 0.0%\n",
        "use: cost: 0.0%\n",
        "use: sugar: 0.0%\n",
        "use: differ: 0.0%\n",
        "use: suppli: 0.0%\n",
        "act: Farm Supplies: 0.0%\n",
        "use: noodl: 0.0%\n",
        "use: mainten: 0.0%\n",
        "use: expand: 0.0%\n",
        "use: cosmet: 0.0%\n",
        "use: thread: 0.0%\n",
        "use: commun: 0.0%\n",
        "use: son: 0.0%\n",
        "MX: 0.0%\n",
        "use: provid: 0.0%\n",
        "BO: 0.0%\n",
        "act: Food Stall: 0.0%\n",
        "theme_Arab Youth: 0.0%\n",
        "act: Livestock: 0.0%\n",
        "act: Cattle: 0.0%\n",
        "use: ): 0.0%\n",
        "use: make: 0.0%\n",
        "use: gener: 0.0%\n",
        "use: livestock: 0.0%\n",
        "use: box: 0.0%\n",
        "use: educ: 0.0%\n",
        "use: better: 0.0%\n",
        "theme_Islamic Finance: 0.0%\n",
        "KG: 0.0%\n",
        "GE: 0.0%\n",
        "use: merchandis: 0.0%\n",
        "use: wood: 0.0%\n",
        "use: manur: 0.0%\n",
        "use: salt: 0.0%\n",
        "use: banana: 0.0%\n",
        "GH: 0.0%\n",
        "GT: 0.0%\n",
        "use: organ: 0.0%\n",
        "act: Rickshaw: 0.0%\n",
        "use: herbicid: 0.0%\n",
        "use: grow: 0.0%\n",
        "UA: 0.0%\n",
        "use: chemic: 0.0%\n",
        "act: Food Production/Sales: 0.0%\n",
        "use: soda: 0.0%\n",
        "use: wheat: 0.0%\n",
        "use: net: 0.0%\n",
        "use: tomato: 0.0%\n",
        "use: construct: 0.0%\n",
        "use: onion: 0.0%\n",
        "use: snack: 0.0%\n",
        "use: charcoal: 0.0%\n",
        "use: land: 0.0%\n",
        "use: beverag: 0.0%\n",
        "US: 0.0%\n",
        "LR: 0.0%\n",
        "act: Tailoring: 0.0%\n",
        "use: labor: 0.0%\n",
        "use: cream: 0.0%\n",
        "use: season: 0.0%\n",
        "use: invest: 0.0%\n",
        "XK: 0.0%\n",
        "use: bread: 0.0%\n",
        "use: deterg: 0.0%\n",
        "act: Clothing: 0.0%\n",
        "BI: 0.0%\n",
        "use: biscuit: 0.0%\n",
        "use: roof: 0.0%\n",
        "act: Personal Products Sales: 0.0%\n",
        "use: room: 0.0%\n",
        "use: accessori: 0.0%\n",
        "use: dri: 0.0%\n",
        "use: children: 0.0%\n",
        "act: Home Products Sales: 0.0%\n",
        "ZM: 0.0%\n",
        "VC: 0.0%\n",
        "SR: 0.0%\n",
        "use: smart: 0.0%\n",
        "TR: 0.0%\n",
        "act: Arts: 0.0%\n",
        "TH: 0.0%\n",
        "act: Air Conditioning: 0.0%\n",
        "SO: 0.0%\n",
        "theme_Flexible Credit Study: 0.0%\n",
        "NP: 0.0%\n",
        "theme_Growing Businesses: 0.0%\n",
        "use: toiletri: 0.0%\n",
        "theme_SME: 0.0%\n",
        "theme_Kiva City LA: 0.0%\n",
        "theme_Kiva City Detroit: 0.0%\n",
        "theme_Job Creation: 0.0%\n",
        "theme_Health: 0.0%\n",
        "use: use: 0.0%\n",
        "MZ: 0.0%\n",
        "act: Bakery: 0.0%\n",
        "theme_Fair Trade: 0.0%\n",
        "use: varieti: 0.0%\n",
        "use: vitamin: 0.0%\n",
        "use: wall: 0.0%\n",
        "currency_loss: 0.0%\n",
        "use: sweet: 0.0%\n",
        "Entertainment: 0.0%\n",
        "use: stove: 0.0%\n",
        "Wholesale: 0.0%\n",
        "AL: 0.0%\n",
        "BF: 0.0%\n",
        "BJ: 0.0%\n",
        "BZ: 0.0%\n",
        "CD: 0.0%\n",
        "CG: 0.0%\n",
        "CM: 0.0%\n",
        "DO: 0.0%\n",
        "IL: 0.0%\n",
        "use: spare: 0.0%\n",
        "MD: 0.0%\n",
        "MN: 0.0%\n",
        "MW: 0.0%\n",
        "act: Auto Repair: 0.0%\n",
        "act: Party Supplies: 0.0%\n",
        "act: Balut-Making: 0.0%\n",
        "act: Musical Instruments: 0.0%\n",
        "act: Taxi: 0.0%\n",
        "act: Sporting Good Sales: 0.0%\n",
        "act: Spare Parts: 0.0%\n",
        "act: Souvenir Sales: 0.0%\n",
        "act: Soft Drinks: 0.0%\n",
        "act: Shoe Sales: 0.0%\n",
        "act: Services: 0.0%\n",
        "act: Secretarial Services: 0.0%\n",
        "use: shirt: 0.0%\n",
        "act: Restaurant: 0.0%\n",
        "act: Religious Articles: 0.0%\n",
        "act: Recycling: 0.0%\n",
        "act: Recycled Materials: 0.0%\n",
        "act: Quarrying: 0.0%\n",
        "act: Pub: 0.0%\n",
        "act: Property: 0.0%\n",
        "act: Printing: 0.0%\n",
        "act: Plastics Sales: 0.0%\n",
        "act: Photography: 0.0%\n",
        "act: Phone Repair: 0.0%\n",
        "act: Phone Accessories: 0.0%\n",
        "act: Pharmacy: 0.0%\n",
        "act: Personal Medical Expenses: 0.0%\n",
        "act: Perfumes: 0.0%\n",
        "act: Paper Sales: 0.0%\n",
        "act: Office Supplies: 0.0%\n",
        "act: Natural Medicines: 0.0%\n",
        "act: Textiles: 0.0%\n",
        "act: Timber Sales: 0.0%\n",
        "act: Tourism: 0.0%\n",
        "use: apiari: 0.0%\n",
        "use: renov: 0.0%\n",
        "use: prepar: 0.0%\n",
        "use: plant: 0.0%\n",
        "use: paint: 0.0%\n",
        "use: nail: 0.0%\n",
        "use: motorcycl: 0.0%\n",
        "use: metal: 0.0%\n",
        "use: iron: 0.0%\n",
        "use: hair: 0.0%\n",
        "use: cultiv: 0.0%\n",
        "use: brick: 0.0%\n",
        "use: beer: 0.0%\n",
        "use: (: 0.0%\n",
        "act: Traveling Sales: 0.0%\n",
        "act: Wholesale: 0.0%\n",
        "act: Well digging: 0.0%\n",
        "act: Wedding Expenses: 0.0%\n",
        "act: Weaving: 0.0%\n",
        "act: Water Distribution: 0.0%\n",
        "act: Waste Management: 0.0%\n",
        "act: Veterinary Sales: 0.0%\n",
        "act: Vehicle Repairs: 0.0%\n",
        "act: Vehicle: 0.0%\n",
        "act: Utilities: 0.0%\n",
        "act: Used Shoes: 0.0%\n",
        "act: Upholstery: 0.0%\n",
        "act: Musical Performance: 0.0%\n",
        "act: Music Discs & Tapes: 0.0%\n",
        "act: Barber Shop: 0.0%\n",
        "act: Movie Tapes & DVDs: 0.0%\n",
        "act: Electrical Goods: 0.0%\n",
        "act: Education provider: 0.0%\n",
        "act: Dental: 0.0%\n",
        "act: Decorations Sales: 0.0%\n",
        "act: Cosmetics Sales: 0.0%\n",
        "act: Consumer Goods: 0.0%\n",
        "act: Construction Supplies: 0.0%\n",
        "act: Construction: 0.0%\n",
        "act: Computers: 0.0%\n",
        "act: Cobbler: 0.0%\n",
        "act: Cloth & Dressmaking Supplies: 0.0%\n",
        "act: Child Care: 0.0%\n",
        "act: Cheese Making: 0.0%\n",
        "act: Charcoal Sales: 0.0%\n",
        "act: Cereals: 0.0%\n",
        "act: Cement: 0.0%\n",
        "act: Catering: 0.0%\n",
        "act: Carpentry: 0.0%\n",
        "act: Call Center: 0.0%\n",
        "act: Cafe: 0.0%\n",
        "act: Butcher Shop: 0.0%\n",
        "act: Bricks: 0.0%\n",
        "act: Bookstore: 0.0%\n",
        "act: Bookbinding: 0.0%\n",
        "act: Blacksmith: 0.0%\n",
        "act: Bicycle Sales: 0.0%\n",
        "act: Bicycle Repair: 0.0%\n",
        "act: Electrician: 0.0%\n",
        "act: Electronics Repair: 0.0%\n",
        "act: Electronics Sales: 0.0%\n",
        "act: Knitting: 0.0%\n",
        "act: Motorcycle Transport: 0.0%\n",
        "act: Motorcycle Repair: 0.0%\n",
        "act: Mobile Phones: 0.0%\n",
        "act: Milk Sales: 0.0%\n",
        "act: Metal Shop: 0.0%\n",
        "act: Medical Clinic: 0.0%\n",
        "act: Manufacturing: 0.0%\n",
        "act: Machinery Rental: 0.0%\n",
        "act: Machine Shop: 0.0%\n",
        "act: Liquor Store / Off-License: 0.0%\n",
        "act: Laundry: 0.0%\n",
        "act: Land Rental: 0.0%\n",
        "act: Jewelry: 0.0%\n",
        "act: Embroidery: 0.0%\n",
        "act: Internet Cafe: 0.0%\n",
        "act: Hotel: 0.0%\n",
        "act: Health: 0.0%\n",
        "act: Hardware: 0.0%\n",
        "act: Goods Distribution: 0.0%\n",
        "act: Games: 0.0%\n",
        "act: Furniture Making: 0.0%\n",
        "act: Funeral Expenses: 0.0%\n",
        "act: Fuel/Firewood: 0.0%\n",
        "act: Flowers: 0.0%\n",
        "use: shop: 0.0%\n",
        "act: Entertainment: 0.0%\n",
        "act: Renewable Energy Products: 0.0%\n"
       ]
      }
     ],
     "prompt_number": 71
    },
    {
     "cell_type": "code",
     "collapsed": false,
     "input": [
      "months = filter.get_months(df)"
     ],
     "language": "python",
     "metadata": {},
     "outputs": [],
     "prompt_number": 3
    },
    {
     "cell_type": "code",
     "collapsed": false,
     "input": [
      "months[2].info()"
     ],
     "language": "python",
     "metadata": {},
     "outputs": [
      {
       "output_type": "stream",
       "stream": "stdout",
       "text": [
        "<class 'pandas.core.frame.DataFrame'>\n",
        "Float64Index: 14333 entries, 656258.0 to 691697.0\n",
        "Data columns (total 17 columns):\n",
        "activity                    14333 non-null object\n",
        "bonus_credit_eligibility    14333 non-null bool\n",
        "country                     14333 non-null object\n",
        "currency_loss               14333 non-null bool\n",
        "dollars                     14333 non-null bool\n",
        "expired                     14333 non-null bool\n",
        "gender                      14333 non-null bool\n",
        "group_size                  14333 non-null int64\n",
        "irregular_payments          14333 non-null bool\n",
        "loan_amount                 14333 non-null int64\n",
        "pay_at_end                  14333 non-null bool\n",
        "posted_date                 14333 non-null datetime64[ns]\n",
        "repayment_term              14333 non-null int64\n",
        "sector                      14333 non-null object\n",
        "tags                        14333 non-null object\n",
        "themes                      5957 non-null object\n",
        "use                         14333 non-null object\n",
        "dtypes: bool(7), datetime64[ns](1), int64(3), object(6)"
       ]
      }
     ],
     "prompt_number": 4
    },
    {
     "cell_type": "code",
     "collapsed": false,
     "input": [
      "for month in months:\n",
      "    print month[month.expired].loan_amount.sum()/(10**3), month[~month.expired].loan_amount.sum()/10**3"
     ],
     "language": "python",
     "metadata": {},
     "outputs": [
      {
       "output_type": "stream",
       "stream": "stdout",
       "text": [
        "649 7848\n",
        "490 11972\n",
        "231 12356\n",
        "740 10398\n",
        "895 10079\n",
        "988 11867\n",
        "649 "
       ]
      },
      {
       "output_type": "stream",
       "stream": "stdout",
       "text": [
        "11994\n",
        "1706 10675\n",
        "1845 10324\n",
        "1080 10876\n",
        "1407 5416\n"
       ]
      }
     ],
     "prompt_number": 20
    },
    {
     "cell_type": "code",
     "collapsed": false,
     "input": [
      "reload(filter)\n",
      "aps, aus = filter.get_time_periods(df)"
     ],
     "language": "python",
     "metadata": {},
     "outputs": [],
     "prompt_number": 5
    },
    {
     "cell_type": "code",
     "collapsed": false,
     "input": [
      "aus.info()"
     ],
     "language": "python",
     "metadata": {},
     "outputs": [
      {
       "output_type": "stream",
       "stream": "stdout",
       "text": [
        "<class 'pandas.core.frame.DataFrame'>\n",
        "Float64Index: 28254 entries, 729723.0 to 775807.0\n",
        "Data columns (total 17 columns):\n",
        "activity                    28254 non-null object\n",
        "bonus_credit_eligibility    28254 non-null bool\n",
        "country                     28254 non-null object\n",
        "currency_loss               28254 non-null bool\n",
        "dollars                     28254 non-null bool\n",
        "expired                     28254 non-null bool\n",
        "gender                      28254 non-null bool\n",
        "group_size                  28254 non-null int64\n",
        "irregular_payments          28254 non-null bool\n",
        "loan_amount                 28254 non-null int64\n",
        "pay_at_end                  28254 non-null bool\n",
        "posted_date                 28254 non-null datetime64[ns]\n",
        "repayment_term              28254 non-null int64\n",
        "sector                      28254 non-null object\n",
        "tags                        28254 non-null object\n",
        "themes                      11936 non-null object\n",
        "use                         28254 non-null object\n",
        "dtypes: bool(7), datetime64[ns](1), int64(3), object(6)"
       ]
      }
     ],
     "prompt_number": 6
    },
    {
     "cell_type": "code",
     "collapsed": false,
     "input": [
      "reload(model)\n",
      "mod = model.funding_model()\n",
      "mod.transform_fit(aps,weight= 1,leaf=100, trees=50, split = 400, depth = 4)"
     ],
     "language": "python",
     "metadata": {},
     "outputs": [
      {
       "output_type": "stream",
       "stream": "stdout",
       "text": [
        "(82382, 16)\n",
        "(82382, 268)"
       ]
      },
      {
       "output_type": "stream",
       "stream": "stdout",
       "text": [
        "\n",
        "(82382, 468)"
       ]
      },
      {
       "output_type": "stream",
       "stream": "stdout",
       "text": [
        "\n"
       ]
      }
     ],
     "prompt_number": 44
    },
    {
     "cell_type": "code",
     "collapsed": false,
     "input": [
      "for month in months:\n",
      "    mod.predict(month)"
     ],
     "language": "python",
     "metadata": {},
     "outputs": [
      {
       "output_type": "stream",
       "stream": "stdout",
       "text": [
        "<class 'pandas.core.frame.DataFrame'>\n",
        "Float64Index: 9311 entries, 638631.0 to 664356.0\n",
        "Columns: 200 entries, use: ( to use: yield\n",
        "dtypes: float64(200)None\n",
        "3"
       ]
      },
      {
       "output_type": "stream",
       "stream": "stdout",
       "text": [
        "\n",
        "actl pos:"
       ]
      },
      {
       "output_type": "stream",
       "stream": "stdout",
       "text": [
        " 0.0319 pred pos: 0.2355\n",
        "true pos: 0.03 false pos: 0.2056\n",
        "true neg: 0.7625 false neg: 0.0019\n",
        "recall: 0.9394 precision: 0.1272\n",
        "\n",
        "<class 'pandas.core.frame.DataFrame'>\n",
        "Float64Index: 13464 entries, 650353.0 to 677993.0\n",
        "Columns: 200 entries, use: ( to use: yield\n",
        "dtypes: float64(200)"
       ]
      },
      {
       "output_type": "stream",
       "stream": "stdout",
       "text": [
        "None\n",
        "2"
       ]
      },
      {
       "output_type": "stream",
       "stream": "stdout",
       "text": [
        "\n",
        "actl pos:"
       ]
      },
      {
       "output_type": "stream",
       "stream": "stdout",
       "text": [
        " 0.0126 pred pos: 0.2233\n",
        "true pos: 0.0114 false pos: 0.212\n",
        "true neg: 0.7754 false neg: 0.0013\n",
        "recall: 0.9 precision: 0.0509\n",
        "\n",
        "<class 'pandas.core.frame.DataFrame'>\n",
        "Float64Index: 14333 entries, 656258.0 to 691697.0\n",
        "Columns: 200 entries, use: ( to use: yield\n",
        "dtypes: float64(200)"
       ]
      },
      {
       "output_type": "stream",
       "stream": "stdout",
       "text": [
        "None\n",
        "1"
       ]
      },
      {
       "output_type": "stream",
       "stream": "stdout",
       "text": [
        "\n",
        "actl pos:"
       ]
      },
      {
       "output_type": "stream",
       "stream": "stdout",
       "text": [
        " 0.0069 pred pos: 0.2175\n",
        "true pos: 0.0069 false pos: 0.2106\n",
        "true neg: 0.7825 false neg: 0.0\n",
        "recall: 1.0 precision: 0.0318\n",
        "\n",
        "<class 'pandas.core.frame.DataFrame'>\n",
        "Float64Index: 12474 entries, 667730.0 to 704501.0\n",
        "Columns: 200 entries, use: ( to use: yield\n",
        "dtypes: float64(200)"
       ]
      },
      {
       "output_type": "stream",
       "stream": "stdout",
       "text": [
        "None\n",
        "0"
       ]
      },
      {
       "output_type": "stream",
       "stream": "stdout",
       "text": [
        "\n",
        "actl pos:"
       ]
      },
      {
       "output_type": "stream",
       "stream": "stdout",
       "text": [
        " 0.0408 pred pos: 0.227\n",
        "true pos: 0.036 false pos: 0.191\n",
        "true neg: 0.7682 false neg: 0.0048\n",
        "recall: 0.8821 precision: 0.1585\n",
        "\n",
        "<class 'pandas.core.frame.DataFrame'>\n",
        "Float64Index: 12384 entries, 685402.0 to 717015.0\n",
        "Columns: 200 entries, use: ( to use: yield\n",
        "dtypes: float64(200)"
       ]
      },
      {
       "output_type": "stream",
       "stream": "stdout",
       "text": [
        "None\n",
        "0"
       ]
      },
      {
       "output_type": "stream",
       "stream": "stdout",
       "text": [
        "\n",
        "actl pos:"
       ]
      },
      {
       "output_type": "stream",
       "stream": "stdout",
       "text": [
        " 0.0473 pred pos: 0.2652\n",
        "true pos: 0.0409 false pos: 0.2242\n",
        "true neg: 0.7284 false neg: 0.0064\n",
        "recall: 0.8652 precision: 0.1544\n",
        "\n",
        "<class 'pandas.core.frame.DataFrame'>\n",
        "Float64Index: 14565 entries, 698897.0 to 732583.0\n",
        "Columns: 200 entries, use: ( to use: yield\n",
        "dtypes: float64(200)"
       ]
      },
      {
       "output_type": "stream",
       "stream": "stdout",
       "text": [
        "None\n",
        "0"
       ]
      },
      {
       "output_type": "stream",
       "stream": "stdout",
       "text": [
        "\n",
        "actl pos:"
       ]
      },
      {
       "output_type": "stream",
       "stream": "stdout",
       "text": [
        " 0.0583 pred pos: 0.28\n",
        "true pos: 0.054 false pos: 0.226\n",
        "true neg: 0.7158 false neg: 0.0043\n",
        "recall: 0.927 precision: 0.193\n",
        "\n",
        "<class 'pandas.core.frame.DataFrame'>\n",
        "Float64Index: 14705 entries, 709972.0 to 747878.0\n",
        "Columns: 200 entries, use: ( to use: yield\n",
        "dtypes: float64(200)"
       ]
      },
      {
       "output_type": "stream",
       "stream": "stdout",
       "text": [
        "None\n",
        "0"
       ]
      },
      {
       "output_type": "stream",
       "stream": "stdout",
       "text": [
        "\n",
        "actl pos:"
       ]
      },
      {
       "output_type": "stream",
       "stream": "stdout",
       "text": [
        " 0.0315 pred pos: 0.2437\n",
        "true pos: 0.0288 false pos: 0.2149\n",
        "true neg: 0.7536 false neg: 0.0027\n",
        "recall: 0.9136 precision: 0.1181\n",
        "\n",
        "<class 'pandas.core.frame.DataFrame'>\n",
        "Float64Index: 13992 entries, 729723.0 to 761629.0\n",
        "Columns: 200 entries, use: ( to use: yield\n",
        "dtypes: float64(200)"
       ]
      },
      {
       "output_type": "stream",
       "stream": "stdout",
       "text": [
        "None\n",
        "0"
       ]
      },
      {
       "output_type": "stream",
       "stream": "stdout",
       "text": [
        "\n",
        "actl pos:"
       ]
      },
      {
       "output_type": "stream",
       "stream": "stdout",
       "text": [
        " 0.0871 pred pos: 0.2854\n",
        "true pos: 0.077 false pos: 0.2084\n",
        "true neg: 0.7045 false neg: 0.0101\n",
        "recall: 0.8843 precision: 0.2699\n",
        "\n",
        "<class 'pandas.core.frame.DataFrame'>\n",
        "Float64Index: 14262 entries, 746295.0 to 775807.0\n",
        "Columns: 200 entries, use: ( to use: yield\n",
        "dtypes: float64(200)"
       ]
      },
      {
       "output_type": "stream",
       "stream": "stdout",
       "text": [
        "None\n",
        "0"
       ]
      },
      {
       "output_type": "stream",
       "stream": "stdout",
       "text": [
        "\n",
        "actl pos:"
       ]
      },
      {
       "output_type": "stream",
       "stream": "stdout",
       "text": [
        " 0.0987 pred pos: 0.2911\n",
        "true pos: 0.088 false pos: 0.2031\n",
        "true neg: 0.6982 false neg: 0.0107\n",
        "recall: 0.892 precision: 0.3023\n",
        "\n",
        "<class 'pandas.core.frame.DataFrame'>\n",
        "Float64Index: 13451 entries, 759886.0 to 791574.0\n",
        "Columns: 200 entries, use: ( to use: yield\n",
        "dtypes: float64(200)"
       ]
      },
      {
       "output_type": "stream",
       "stream": "stdout",
       "text": [
        "None\n",
        "2"
       ]
      },
      {
       "output_type": "stream",
       "stream": "stdout",
       "text": [
        "\n",
        "actl pos:"
       ]
      },
      {
       "output_type": "stream",
       "stream": "stdout",
       "text": [
        " 0.0511 pred pos: 0.2674\n",
        "true pos: 0.0478 false pos: 0.2196\n",
        "true neg: 0.7292 false neg: 0.0033\n",
        "recall: 0.9346 precision: 0.1788\n",
        "\n",
        "<class 'pandas.core.frame.DataFrame'>\n",
        "Float64Index: 8309 entries, 777202.0 to 797987.0\n",
        "Columns: 200 entries, use: ( to use: yield\n",
        "dtypes: float64(200)"
       ]
      },
      {
       "output_type": "stream",
       "stream": "stdout",
       "text": [
        "None\n",
        "4"
       ]
      },
      {
       "output_type": "stream",
       "stream": "stdout",
       "text": [
        "\n",
        "actl pos:"
       ]
      },
      {
       "output_type": "stream",
       "stream": "stdout",
       "text": [
        " 0.1405 pred pos: 0.3094\n",
        "true pos: 0.1269 false pos: 0.1826\n",
        "true neg: 0.677 false neg: 0.0136\n",
        "recall: 0.9032 precision: 0.41\n",
        "\n"
       ]
      }
     ],
     "prompt_number": 45
    },
    {
     "cell_type": "code",
     "collapsed": false,
     "input": [
      "reload(model)\n",
      "mod = model.funding_model()\n",
      "mod.transform_fit(aps,weight= 1,leaf=200, trees=50, split = 400, depth = 4)\n",
      "for month in months:\n",
      "    mod.predict(month)"
     ],
     "language": "python",
     "metadata": {},
     "outputs": [
      {
       "output_type": "stream",
       "stream": "stdout",
       "text": [
        "(82382, 16)\n",
        "(82382, 268)"
       ]
      },
      {
       "output_type": "stream",
       "stream": "stdout",
       "text": [
        "\n",
        "(82382, 468)"
       ]
      },
      {
       "output_type": "stream",
       "stream": "stdout",
       "text": [
        "\n",
        "<class 'pandas.core.frame.DataFrame'>\n",
        "Float64Index: 9311 entries, 638631.0 to 664356.0\n",
        "Columns: 200 entries, use: ( to use: yield\n",
        "dtypes: float64(200)"
       ]
      },
      {
       "output_type": "stream",
       "stream": "stdout",
       "text": [
        "None\n",
        "3"
       ]
      },
      {
       "output_type": "stream",
       "stream": "stdout",
       "text": [
        "\n",
        "actl pos:"
       ]
      },
      {
       "output_type": "stream",
       "stream": "stdout",
       "text": [
        " 0.0319 pred pos: 0.2538\n",
        "true pos: 0.0299 false pos: 0.2239\n",
        "true neg: 0.7442 false neg: 0.002\n",
        "recall: 0.936 precision: 0.1176\n",
        "\n",
        "<class 'pandas.core.frame.DataFrame'>\n",
        "Float64Index: 13464 entries, 650353.0 to 677993.0\n",
        "Columns: 200 entries, use: ( to use: yield\n",
        "dtypes: float64(200)"
       ]
      },
      {
       "output_type": "stream",
       "stream": "stdout",
       "text": [
        "None\n",
        "2"
       ]
      },
      {
       "output_type": "stream",
       "stream": "stdout",
       "text": [
        "\n",
        "actl pos:"
       ]
      },
      {
       "output_type": "stream",
       "stream": "stdout",
       "text": [
        " 0.0126 pred pos: 0.2609\n",
        "true pos: 0.0117 false pos: 0.2493\n",
        "true neg: 0.7381 false neg: 0.001\n",
        "recall: 0.9235 precision: 0.0447\n",
        "\n",
        "<class 'pandas.core.frame.DataFrame'>\n",
        "Float64Index: 14333 entries, 656258.0 to 691697.0\n",
        "Columns: 200 entries, use: ( to use: yield\n",
        "dtypes: float64(200)"
       ]
      },
      {
       "output_type": "stream",
       "stream": "stdout",
       "text": [
        "None\n",
        "1"
       ]
      },
      {
       "output_type": "stream",
       "stream": "stdout",
       "text": [
        "\n",
        "actl pos:"
       ]
      },
      {
       "output_type": "stream",
       "stream": "stdout",
       "text": [
        " 0.0069 pred pos: 0.2414\n",
        "true pos: 0.0069 false pos: 0.2345\n",
        "true neg: 0.7586 false neg: 0.0\n",
        "recall: 1.0 precision: 0.0286\n",
        "\n",
        "<class 'pandas.core.frame.DataFrame'>\n",
        "Float64Index: 12474 entries, 667730.0 to 704501.0\n",
        "Columns: 200 entries, use: ( to use: yield\n",
        "dtypes: float64(200)"
       ]
      },
      {
       "output_type": "stream",
       "stream": "stdout",
       "text": [
        "None\n",
        "0"
       ]
      },
      {
       "output_type": "stream",
       "stream": "stdout",
       "text": [
        "\n",
        "actl pos:"
       ]
      },
      {
       "output_type": "stream",
       "stream": "stdout",
       "text": [
        " 0.0408 pred pos: 0.2545\n",
        "true pos: 0.0367 false pos: 0.2178\n",
        "true neg: 0.7414 false neg: 0.0041\n",
        "recall: 0.8998 precision: 0.1443\n",
        "\n",
        "<class 'pandas.core.frame.DataFrame'>\n",
        "Float64Index: 12384 entries, 685402.0 to 717015.0\n",
        "Columns: 200 entries, use: ( to use: yield\n",
        "dtypes: float64(200)"
       ]
      },
      {
       "output_type": "stream",
       "stream": "stdout",
       "text": [
        "None\n",
        "0"
       ]
      },
      {
       "output_type": "stream",
       "stream": "stdout",
       "text": [
        "\n",
        "actl pos:"
       ]
      },
      {
       "output_type": "stream",
       "stream": "stdout",
       "text": [
        " 0.0473 pred pos: 0.309\n",
        "true pos: 0.0417 false pos: 0.2673\n",
        "true neg: 0.6854 false neg: 0.0056\n",
        "recall: 0.8823 precision: 0.1351\n",
        "\n",
        "<class 'pandas.core.frame.DataFrame'>\n",
        "Float64Index: 14565 entries, 698897.0 to 732583.0\n",
        "Columns: 200 entries, use: ( to use: yield\n",
        "dtypes: float64(200)"
       ]
      },
      {
       "output_type": "stream",
       "stream": "stdout",
       "text": [
        "None\n",
        "0"
       ]
      },
      {
       "output_type": "stream",
       "stream": "stdout",
       "text": [
        "\n",
        "actl pos:"
       ]
      },
      {
       "output_type": "stream",
       "stream": "stdout",
       "text": [
        " 0.0583 pred pos: 0.3042\n",
        "true pos: 0.0542 false pos: 0.25\n",
        "true neg: 0.6917 false neg: 0.0041\n",
        "recall: 0.9305 precision: 0.1783\n",
        "\n",
        "<class 'pandas.core.frame.DataFrame'>\n",
        "Float64Index: 14705 entries, 709972.0 to 747878.0\n",
        "Columns: 200 entries, use: ( to use: yield\n",
        "dtypes: float64(200)"
       ]
      },
      {
       "output_type": "stream",
       "stream": "stdout",
       "text": [
        "None\n",
        "0"
       ]
      },
      {
       "output_type": "stream",
       "stream": "stdout",
       "text": [
        "\n",
        "actl pos:"
       ]
      },
      {
       "output_type": "stream",
       "stream": "stdout",
       "text": [
        " 0.0315 pred pos: 0.2573\n",
        "true pos: 0.0289 false pos: 0.2284\n",
        "true neg: 0.7402 false neg: 0.0026\n",
        "recall: 0.9179 precision: 0.1123\n",
        "\n",
        "<class 'pandas.core.frame.DataFrame'>\n",
        "Float64Index: 13992 entries, 729723.0 to 761629.0\n",
        "Columns: 200 entries, use: ( to use: yield\n",
        "dtypes: float64(200)"
       ]
      },
      {
       "output_type": "stream",
       "stream": "stdout",
       "text": [
        "None\n",
        "0"
       ]
      },
      {
       "output_type": "stream",
       "stream": "stdout",
       "text": [
        "\n",
        "actl pos:"
       ]
      },
      {
       "output_type": "stream",
       "stream": "stdout",
       "text": [
        " 0.0871 pred pos: 0.316\n",
        "true pos: 0.0776 false pos: 0.2384\n",
        "true neg: 0.6745 false neg: 0.0095\n",
        "recall: 0.8909 precision: 0.2456\n",
        "\n",
        "<class 'pandas.core.frame.DataFrame'>\n",
        "Float64Index: 14262 entries, 746295.0 to 775807.0\n",
        "Columns: 200 entries, use: ( to use: yield\n",
        "dtypes: float64(200)"
       ]
      },
      {
       "output_type": "stream",
       "stream": "stdout",
       "text": [
        "None\n",
        "0"
       ]
      },
      {
       "output_type": "stream",
       "stream": "stdout",
       "text": [
        "\n",
        "actl pos:"
       ]
      },
      {
       "output_type": "stream",
       "stream": "stdout",
       "text": [
        " 0.0987 pred pos: 0.3229\n",
        "true pos: 0.0895 false pos: 0.2334\n",
        "true neg: 0.6679 false neg: 0.0092\n",
        "recall: 0.9069 precision: 0.2771\n",
        "\n",
        "<class 'pandas.core.frame.DataFrame'>\n",
        "Float64Index: 13451 entries, 759886.0 to 791574.0\n",
        "Columns: 200 entries, use: ( to use: yield\n",
        "dtypes: float64(200)"
       ]
      },
      {
       "output_type": "stream",
       "stream": "stdout",
       "text": [
        "None\n",
        "2"
       ]
      },
      {
       "output_type": "stream",
       "stream": "stdout",
       "text": [
        "\n",
        "actl pos:"
       ]
      },
      {
       "output_type": "stream",
       "stream": "stdout",
       "text": [
        " 0.0511 pred pos: 0.2824\n",
        "true pos: 0.0482 false pos: 0.2342\n",
        "true neg: 0.7147 false neg: 0.0029\n",
        "recall: 0.9433 precision: 0.1708\n",
        "\n",
        "<class 'pandas.core.frame.DataFrame'>\n",
        "Float64Index: 8309 entries, 777202.0 to 797987.0\n",
        "Columns: 200 entries, use: ( to use: yield\n",
        "dtypes: float64(200)"
       ]
      },
      {
       "output_type": "stream",
       "stream": "stdout",
       "text": [
        "None\n",
        "4"
       ]
      },
      {
       "output_type": "stream",
       "stream": "stdout",
       "text": [
        "\n",
        "actl pos:"
       ]
      },
      {
       "output_type": "stream",
       "stream": "stdout",
       "text": [
        " 0.1405 pred pos: 0.3323\n",
        "true pos: 0.1289 false pos: 0.2034\n",
        "true neg: 0.6562 false neg: 0.0116\n",
        "recall: 0.9177 precision: 0.3879\n",
        "\n"
       ]
      }
     ],
     "prompt_number": 46
    },
    {
     "cell_type": "code",
     "collapsed": false,
     "input": [
      "mod.feat_imp()"
     ],
     "language": "python",
     "metadata": {},
     "outputs": [
      {
       "output_type": "stream",
       "stream": "stdout",
       "text": [
        "loan_amount: 17.3%\n",
        "irregular_payments: 15.1%\n",
        "monthly: 14.4%\n",
        "repayment_term: 13.4%\n",
        "gender: 9.0%\n",
        "PH: 2.3%\n",
        "SV: 2.0%\n",
        "KH: 1.3%\n",
        "Retail: 0.9%\n",
        "Housing: 0.9%\n",
        "act: Personal Housing Expenses: 0.9%\n",
        "use: hi: 0.8%\n",
        "theme_none: 0.7%\n",
        "CO: 0.7%\n",
        "Agriculture: 0.7%\n",
        "ID: 0.7%\n",
        "group_size: 0.7%\n",
        "ZW: 0.7%\n",
        "bonus_credit_eligibility: 0.6%\n",
        "UG: 0.6%\n",
        "Education: 0.6%\n",
        "dollars: 0.6%\n",
        "use: purchas: 0.6%\n",
        "theme_Mobile Technology: 0.5%\n",
        "theme_Underfunded Areas: 0.4%\n",
        "use: buy: 0.4%\n",
        "use: hous: 0.4%\n",
        "KE: 0.4%\n",
        "theme_Rural Exclusion: 0.4%\n",
        "use: yield: 0.4%\n",
        "pay_at_end: 0.4%\n",
        "NI: 0.3%\n",
        "use: fee: 0.3%\n",
        "use: process: 0.3%\n",
        "use: fertil: 0.3%\n",
        "NG: 0.3%\n",
        "theme_Disaster recovery: 0.3%\n",
        "Arts: 0.3%\n",
        "LR: 0.2%\n",
        "theme_Conflict Zones: 0.2%\n",
        "use: cement: 0.2%\n",
        "use: sand: 0.2%\n",
        "act: Higher education costs: 0.2%\n",
        "act: Clothing Sales: 0.2%\n",
        "use: doubl: 0.2%\n",
        "use: addit: 0.2%\n",
        "theme_Higher Education: 0.2%\n",
        "use: access: 0.2%\n",
        "theme_Youth: 0.2%\n",
        "use: feed: 0.2%\n",
        "use: fish: 0.2%\n",
        "act: Farming: 0.2%\n",
        "use: machin: 0.2%\n",
        "PS: 0.2%\n",
        "use: cloth: 0.2%\n",
        "use: pay: 0.2%\n",
        "use: solar: 0.2%\n",
        "Food: 0.2%\n",
        "act: General Store: 0.2%\n",
        "use: new: 0.1%\n",
        "use: seed: 0.1%\n",
        "use: mobil: 0.1%\n",
        "use: materi: 0.1%\n",
        "use: farmland: 0.1%\n",
        "act: Services: 0.1%\n",
        "use: herbicid: 0.1%\n",
        "use: phone: 0.1%\n",
        "TJ: 0.1%\n",
        "act: Pigs: 0.1%\n",
        "use: pig: 0.1%\n",
        "use: sell: 0.1%\n",
        "act: Agriculture: 0.1%\n",
        "theme_Water and Sanitation: 0.1%\n",
        "use: incom: 0.1%\n",
        "act: Sewing: 0.1%\n",
        "use: high-qual: 0.1%\n",
        "PE: 0.1%\n",
        "EC: 0.1%\n",
        "theme_Arab Youth: 0.1%\n",
        "ML: 0.1%\n",
        "SN: 0.1%\n",
        "act: Poultry: 0.1%\n",
        "use: labor: 0.1%\n",
        "use: like: 0.1%\n",
        "IN: 0.1%\n",
        "use: build: 0.1%\n",
        "Clothing: 0.1%\n",
        "PY: 0.1%\n",
        "use: groceri: 0.1%\n",
        "act: Home Energy: 0.1%\n",
        "use: busi: 0.1%\n",
        "PK: 0.1%\n",
        "use: input: 0.1%\n",
        "theme_Innovative Loans: 0.1%\n",
        "use: home: 0.1%\n",
        "Services: 0.1%\n",
        "VN: 0.1%\n",
        "AM: 0.1%\n",
        "theme_Vulnerable Groups: 0.0%\n",
        "use: tuition: 0.0%\n",
        "act: Retail: 0.0%\n",
        "use: plow: 0.0%\n",
        "use: order: 0.0%\n",
        "use: thread: 0.0%\n",
        "use: sew: 0.0%\n",
        "Health: 0.0%\n",
        "use: store: 0.0%\n",
        "use: renov: 0.0%\n",
        "use: vitamin: 0.0%\n",
        "use: product: 0.0%\n",
        "use: soda: 0.0%\n",
        "use: drink: 0.0%\n",
        "use: electr: 0.0%\n",
        "act: Primary/secondary school costs: 0.0%\n",
        "act: Fruits & Vegetables: 0.0%\n",
        "act: Dairy: 0.0%\n",
        "use: gravel: 0.0%\n",
        "use: farm: 0.0%\n",
        "use: snack: 0.0%\n",
        "use: water: 0.0%\n",
        "use: school: 0.0%\n",
        "use: rice: 0.0%\n",
        "use: oil: 0.0%\n",
        "use: cow: 0.0%\n",
        "IQ: 0.0%\n",
        "use: cattl: 0.0%\n",
        "theme_Green: 0.0%\n",
        "BO: 0.0%\n",
        "act: Animal Sales: 0.0%\n",
        "use: noodl: 0.0%\n",
        "use: stock: 0.0%\n",
        "SL: 0.0%\n",
        "act: Fish Selling: 0.0%\n",
        "use: veget: 0.0%\n",
        "use: charcoal: 0.0%\n",
        "CD: 0.0%\n",
        "Manufacturing: 0.0%\n",
        "use: flour: 0.0%\n",
        "act: Grocery Store: 0.0%\n",
        "use: sugar: 0.0%\n",
        "use: univers: 0.0%\n",
        "theme_Islamic Finance: 0.0%\n",
        "use: expand: 0.0%\n",
        "use: improv: 0.0%\n",
        "Personal Use: 0.0%\n",
        "act: Food Market: 0.0%\n",
        "use: ingredi: 0.0%\n",
        "use: gener: 0.0%\n",
        "use: maiz: 0.0%\n",
        "use: dairi: 0.0%\n",
        "use: soft: 0.0%\n",
        "use: construct: 0.0%\n",
        "use: good: 0.0%\n",
        "use: coffe: 0.0%\n",
        "use: item: 0.0%\n",
        "use: suppli: 0.0%\n",
        "TZ: 0.0%\n",
        "use: cost: 0.0%\n",
        "use: agricultur: 0.0%\n",
        "use: increas: 0.0%\n",
        "use: shampoo: 0.0%\n",
        "use: cook: 0.0%\n",
        "use: inventori: 0.0%\n",
        "use: husband: 0.0%\n",
        "use: chemic: 0.0%\n",
        "use: fruit: 0.0%\n",
        "use: food: 0.0%\n",
        "use: resal: 0.0%\n",
        "act: Food Production/Sales: 0.0%\n",
        "use: shop: 0.0%\n",
        "use: beverag: 0.0%\n",
        "use: differ: 0.0%\n",
        "use: semest: 0.0%\n",
        "use: bag: 0.0%\n",
        "TL: 0.0%\n",
        "use: make: 0.0%\n",
        "WS: 0.0%\n",
        "use: ): 0.0%\n",
        "use: banana: 0.0%\n",
        "use: fabric: 0.0%\n",
        "act: Food: 0.0%\n",
        "use: color: 0.0%\n",
        "use: bean: 0.0%\n",
        "act: Cereals: 0.0%\n",
        "use: crop: 0.0%\n",
        "YE: 0.0%\n",
        "use: need: 0.0%\n",
        "use: cultiv: 0.0%\n",
        "use: brick: 0.0%\n",
        "KG: 0.0%\n",
        "use: corn: 0.0%\n",
        "use: manur: 0.0%\n",
        "use: tomato: 0.0%\n",
        "act: Charcoal Sales: 0.0%\n",
        "use: soap: 0.0%\n",
        "use: merchandis: 0.0%\n",
        "act: Home Appliances: 0.0%\n",
        "use: mainten: 0.0%\n",
        "act: Motorcycle Transport: 0.0%\n",
        "use: resel: 0.0%\n",
        "act: Fishing: 0.0%\n",
        "act: Used Clothing: 0.0%\n",
        "Transportation: 0.0%\n",
        "use: toiletri: 0.0%\n",
        "use: custom: 0.0%\n",
        "use: meat: 0.0%\n",
        "HN: 0.0%\n",
        "use: spare: 0.0%\n",
        "use: milk: 0.0%\n",
        "use: repair: 0.0%\n",
        "use: wood: 0.0%\n",
        "RW: 0.0%\n",
        "use: egg: 0.0%\n",
        "use: sack: 0.0%\n",
        "ZM: 0.0%\n",
        "act: Arts: 0.0%\n",
        "ZA: 0.0%\n",
        "act: Crafts: 0.0%\n",
        "XK: 0.0%\n",
        "use: wheat: 0.0%\n",
        "use: start: 0.0%\n",
        "act: Cosmetics Sales: 0.0%\n",
        "act: Air Conditioning: 0.0%\n",
        "act: Auto Repair: 0.0%\n",
        "currency_loss: 0.0%\n",
        "act: Bakery: 0.0%\n",
        "act: Carpentry: 0.0%\n",
        "act: Clothing: 0.0%\n",
        "act: Cobbler: 0.0%\n",
        "act: Computers: 0.0%\n",
        "act: Construction: 0.0%\n",
        "act: Cloth & Dressmaking Supplies: 0.0%\n",
        "act: Construction Supplies: 0.0%\n",
        "act: Cheese Making: 0.0%\n",
        "act: Cement: 0.0%\n",
        "act: Cattle: 0.0%\n",
        "act: Catering: 0.0%\n",
        "use: wholesal: 0.0%\n",
        "act: Call Center: 0.0%\n",
        "act: Balut-Making: 0.0%\n",
        "act: Cafe: 0.0%\n",
        "act: Consumer Goods: 0.0%\n",
        "act: Butcher Shop: 0.0%\n",
        "act: Bricks: 0.0%\n",
        "act: Bookstore: 0.0%\n",
        "act: Bookbinding: 0.0%\n",
        "act: Blacksmith: 0.0%\n",
        "act: Bicycle Sales: 0.0%\n",
        "act: Bicycle Repair: 0.0%\n",
        "act: Beauty Salon: 0.0%\n",
        "act: Barber Shop: 0.0%\n",
        "act: Child Care: 0.0%\n",
        "Entertainment: 0.0%\n",
        "VU: 0.0%\n",
        "VC: 0.0%\n",
        "HT: 0.0%\n",
        "theme_Kiva City LA: 0.0%\n",
        "GT: 0.0%\n",
        "GH: 0.0%\n",
        "GE: 0.0%\n",
        "DO: 0.0%\n",
        "use: varieti: 0.0%\n",
        "CR: 0.0%\n",
        "theme_SME: 0.0%\n",
        "theme_Start-Up: 0.0%\n",
        "CM: 0.0%\n",
        "CG: 0.0%\n",
        "BZ: 0.0%\n",
        "act: Decorations Sales: 0.0%\n",
        "BR: 0.0%\n",
        "BJ: 0.0%\n",
        "BI: 0.0%\n",
        "BF: 0.0%\n",
        "AZ: 0.0%\n",
        "use: use: 0.0%\n",
        "AL: 0.0%\n",
        "Wholesale: 0.0%\n",
        "use: toilet: 0.0%\n",
        "use: tool: 0.0%\n",
        "Construction: 0.0%\n",
        "theme_Kiva City Detroit: 0.0%\n",
        "use: sweet: 0.0%\n",
        "IL: 0.0%\n",
        "PA: 0.0%\n",
        "US: 0.0%\n",
        "UA: 0.0%\n",
        "TR: 0.0%\n",
        "use: wall: 0.0%\n",
        "TH: 0.0%\n",
        "TG: 0.0%\n",
        "SR: 0.0%\n",
        "SO: 0.0%\n",
        "theme_Fair Trade: 0.0%\n",
        "theme_Flexible Credit Study: 0.0%\n",
        "use: stove: 0.0%\n",
        "NP: 0.0%\n",
        "theme_Job Creation: 0.0%\n",
        "theme_Growing Businesses: 0.0%\n",
        "MZ: 0.0%\n",
        "MX: 0.0%\n",
        "MW: 0.0%\n",
        "MR: 0.0%\n",
        "MN: 0.0%\n",
        "MM: 0.0%\n",
        "theme_Health: 0.0%\n",
        "LB: 0.0%\n",
        "LA: 0.0%\n",
        "JO: 0.0%\n",
        "MD: 0.0%\n",
        "act: Personal Products Sales: 0.0%\n",
        "act: Dental: 0.0%\n",
        "use: educ: 0.0%\n",
        "use: children: 0.0%\n",
        "use: compost: 0.0%\n",
        "use: cosmet: 0.0%\n",
        "use: cover: 0.0%\n",
        "use: cream: 0.0%\n",
        "use: deterg: 0.0%\n",
        "use: dri: 0.0%\n",
        "use: equip: 0.0%\n",
        "use: chick: 0.0%\n",
        "use: etc.: 0.0%\n",
        "use: expens: 0.0%\n",
        "use: famili: 0.0%\n",
        "use: firewood: 0.0%\n",
        "use: grain: 0.0%\n",
        "use: grow: 0.0%\n",
        "use: hair: 0.0%\n",
        "use: chicken: 0.0%\n",
        "use: capit: 0.0%\n",
        "use: son: 0.0%\n",
        "use: (: 0.0%\n",
        "act: Veterinary Sales: 0.0%\n",
        "act: Waste Management: 0.0%\n",
        "act: Water Distribution: 0.0%\n",
        "act: Weaving: 0.0%\n",
        "act: Wedding Expenses: 0.0%\n",
        "act: Well digging: 0.0%\n",
        "act: Wholesale: 0.0%\n",
        "use: accessori: 0.0%\n",
        "use: candi: 0.0%\n",
        "use: anim: 0.0%\n",
        "use: basic: 0.0%\n",
        "use: beer: 0.0%\n",
        "use: biscuit: 0.0%\n",
        "use: box: 0.0%\n",
        "use: bread: 0.0%\n",
        "use: bulk: 0.0%\n",
        "use: help: 0.0%\n",
        "use: insecticid: 0.0%\n",
        "act: Education provider: 0.0%\n",
        "use: room: 0.0%\n",
        "use: prepar: 0.0%\n",
        "use: provid: 0.0%\n",
        "use: qualiti: 0.0%\n",
        "use: quantiti: 0.0%\n",
        "use: rais: 0.0%\n",
        "use: raw: 0.0%\n",
        "use: roof: 0.0%\n",
        "use: sale: 0.0%\n",
        "use: potato: 0.0%\n",
        "use: salt: 0.0%\n",
        "use: season: 0.0%\n",
        "use: seedl: 0.0%\n",
        "use: sheet: 0.0%\n",
        "use: shirt: 0.0%\n",
        "use: shoe: 0.0%\n",
        "use: small: 0.0%\n",
        "use: poultri: 0.0%\n",
        "use: plastic: 0.0%\n",
        "use: instal: 0.0%\n",
        "use: motorcycl: 0.0%\n",
        "use: invest: 0.0%\n",
        "use: iron: 0.0%\n",
        "use: juic: 0.0%\n",
        "use: land: 0.0%\n",
        "use: larg: 0.0%\n",
        "use: livestock: 0.0%\n",
        "use: metal: 0.0%\n",
        "use: nail: 0.0%\n",
        "use: plant: 0.0%\n",
        "use: net: 0.0%\n",
        "use: onion: 0.0%\n",
        "use: organ: 0.0%\n",
        "use: paint: 0.0%\n",
        "use: perfum: 0.0%\n",
        "use: pesticid: 0.0%\n",
        "use: piglet: 0.0%\n",
        "act: Vehicle Repairs: 0.0%\n",
        "act: Vehicle: 0.0%\n",
        "act: Utilities: 0.0%\n",
        "act: Manufacturing: 0.0%\n",
        "act: Knitting: 0.0%\n",
        "act: Land Rental: 0.0%\n",
        "act: Laundry: 0.0%\n",
        "act: Liquor Store / Off-License: 0.0%\n",
        "act: Livestock: 0.0%\n",
        "act: Machine Shop: 0.0%\n",
        "act: Machinery Rental: 0.0%\n",
        "act: Medical Clinic: 0.0%\n",
        "act: Internet Cafe: 0.0%\n",
        "act: Metal Shop: 0.0%\n",
        "act: Milk Sales: 0.0%\n",
        "act: Mobile Phones: 0.0%\n",
        "act: Motorcycle Repair: 0.0%\n",
        "act: Movie Tapes & DVDs: 0.0%\n",
        "act: Music Discs & Tapes: 0.0%\n",
        "act: Musical Instruments: 0.0%\n",
        "act: Jewelry: 0.0%\n",
        "act: Hotel: 0.0%\n",
        "act: Used Shoes: 0.0%\n",
        "act: Flowers: 0.0%\n",
        "act: Electrical Goods: 0.0%\n",
        "act: Electrician: 0.0%\n",
        "act: Electronics Repair: 0.0%\n",
        "act: Electronics Sales: 0.0%\n",
        "act: Embroidery: 0.0%\n",
        "act: Entertainment: 0.0%\n",
        "act: Farm Supplies: 0.0%\n",
        "act: Food Stall: 0.0%\n",
        "act: Home Products Sales: 0.0%\n",
        "act: Fuel/Firewood: 0.0%\n",
        "act: Funeral Expenses: 0.0%\n",
        "act: Furniture Making: 0.0%\n",
        "act: Games: 0.0%\n",
        "act: Goods Distribution: 0.0%\n",
        "act: Hardware: 0.0%\n",
        "act: Health: 0.0%\n",
        "act: Musical Performance: 0.0%\n",
        "act: Natural Medicines: 0.0%\n",
        "act: Office Supplies: 0.0%\n",
        "act: Sporting Good Sales: 0.0%\n",
        "act: Restaurant: 0.0%\n",
        "act: Rickshaw: 0.0%\n",
        "act: Secretarial Services: 0.0%\n",
        "act: Shoe Sales: 0.0%\n",
        "act: Soft Drinks: 0.0%\n",
        "act: Souvenir Sales: 0.0%\n",
        "act: Spare Parts: 0.0%\n",
        "act: Tailoring: 0.0%\n",
        "act: Paper Sales: 0.0%\n",
        "act: Taxi: 0.0%\n",
        "act: Textiles: 0.0%\n",
        "act: Timber Sales: 0.0%\n",
        "act: Tourism: 0.0%\n",
        "act: Transportation: 0.0%\n",
        "act: Traveling Sales: 0.0%\n",
        "act: Upholstery: 0.0%\n",
        "act: Renewable Energy Products: 0.0%\n",
        "act: Religious Articles: 0.0%\n",
        "act: Recycling: 0.0%\n",
        "use: work: 0.0%\n",
        "act: Party Supplies: 0.0%\n",
        "act: Perfumes: 0.0%\n",
        "use: spice: 0.0%\n",
        "act: Personal Medical Expenses: 0.0%\n",
        "act: Personal Purchases: 0.0%\n",
        "act: Pharmacy: 0.0%\n",
        "act: Phone Accessories: 0.0%\n",
        "act: Phone Repair: 0.0%\n",
        "act: Phone Use Sales: 0.0%\n",
        "act: Photography: 0.0%\n",
        "act: Plastics Sales: 0.0%\n",
        "act: Printing: 0.0%\n",
        "act: Property: 0.0%\n",
        "act: Pub: 0.0%\n",
        "act: Quarrying: 0.0%\n",
        "act: Recycled Materials: 0.0%\n"
       ]
      }
     ],
     "prompt_number": 47
    },
    {
     "cell_type": "code",
     "collapsed": false,
     "input": [
      "reload(model)\n",
      "mod = model.funding_model()\n",
      "mod.transform_fit(aps,weight= 1,leaf=100, trees=50, split = 600, depth = 5)\n",
      "for month in months:\n",
      "    mod.predict(month)"
     ],
     "language": "python",
     "metadata": {},
     "outputs": [
      {
       "output_type": "stream",
       "stream": "stdout",
       "text": [
        "(82382, 16)\n",
        "(82382, 268)"
       ]
      },
      {
       "output_type": "stream",
       "stream": "stdout",
       "text": [
        "\n",
        "(82382, 468)"
       ]
      },
      {
       "output_type": "stream",
       "stream": "stdout",
       "text": [
        "\n"
       ]
      },
      {
       "ename": "MemoryError",
       "evalue": "",
       "output_type": "pyerr",
       "traceback": [
        "\u001b[1;31m---------------------------------------------------------------------------\u001b[0m\n\u001b[1;31mMemoryError\u001b[0m                               Traceback (most recent call last)",
        "\u001b[1;32m<ipython-input-7-70ee6d73b9a1>\u001b[0m in \u001b[0;36m<module>\u001b[1;34m()\u001b[0m\n\u001b[0;32m      1\u001b[0m \u001b[0mreload\u001b[0m\u001b[1;33m(\u001b[0m\u001b[0mmodel\u001b[0m\u001b[1;33m)\u001b[0m\u001b[1;33m\u001b[0m\u001b[0m\n\u001b[0;32m      2\u001b[0m \u001b[0mmod\u001b[0m \u001b[1;33m=\u001b[0m \u001b[0mmodel\u001b[0m\u001b[1;33m.\u001b[0m\u001b[0mfunding_model\u001b[0m\u001b[1;33m(\u001b[0m\u001b[1;33m)\u001b[0m\u001b[1;33m\u001b[0m\u001b[0m\n\u001b[1;32m----> 3\u001b[1;33m \u001b[0mmod\u001b[0m\u001b[1;33m.\u001b[0m\u001b[0mtransform_fit\u001b[0m\u001b[1;33m(\u001b[0m\u001b[0maps\u001b[0m\u001b[1;33m,\u001b[0m\u001b[0mweight\u001b[0m\u001b[1;33m=\u001b[0m \u001b[1;36m1\u001b[0m\u001b[1;33m,\u001b[0m\u001b[0mleaf\u001b[0m\u001b[1;33m=\u001b[0m\u001b[1;36m100\u001b[0m\u001b[1;33m,\u001b[0m \u001b[0mtrees\u001b[0m\u001b[1;33m=\u001b[0m\u001b[1;36m50\u001b[0m\u001b[1;33m,\u001b[0m \u001b[0msplit\u001b[0m \u001b[1;33m=\u001b[0m \u001b[1;36m600\u001b[0m\u001b[1;33m,\u001b[0m \u001b[0mdepth\u001b[0m \u001b[1;33m=\u001b[0m \u001b[1;36m5\u001b[0m\u001b[1;33m)\u001b[0m\u001b[1;33m\u001b[0m\u001b[0m\n\u001b[0m\u001b[0;32m      4\u001b[0m \u001b[1;32mfor\u001b[0m \u001b[0mmonth\u001b[0m \u001b[1;32min\u001b[0m \u001b[0mmonths\u001b[0m\u001b[1;33m:\u001b[0m\u001b[1;33m\u001b[0m\u001b[0m\n\u001b[0;32m      5\u001b[0m     \u001b[0mmod\u001b[0m\u001b[1;33m.\u001b[0m\u001b[0mpredict\u001b[0m\u001b[1;33m(\u001b[0m\u001b[0mmonth\u001b[0m\u001b[1;33m)\u001b[0m\u001b[1;33m\u001b[0m\u001b[0m\n",
        "\u001b[1;32m/home/matt/gdrive/final_project/Fundraising-Success/model.pyc\u001b[0m in \u001b[0;36mtransform_fit\u001b[1;34m(self, df, mod, weight, leaf, split, trees, mf, depth)\u001b[0m\n\u001b[0;32m    117\u001b[0m         \u001b[0mself\u001b[0m\u001b[1;33m.\u001b[0m\u001b[0mcolumns\u001b[0m \u001b[1;33m=\u001b[0m \u001b[0mdf\u001b[0m\u001b[1;33m.\u001b[0m\u001b[0mcolumns\u001b[0m\u001b[1;33m\u001b[0m\u001b[0m\n\u001b[0;32m    118\u001b[0m         \u001b[1;32mif\u001b[0m \u001b[0mmod\u001b[0m \u001b[1;33m==\u001b[0m \u001b[1;34m'weighted'\u001b[0m\u001b[1;33m:\u001b[0m\u001b[1;33m\u001b[0m\u001b[0m\n\u001b[1;32m--> 119\u001b[1;33m             \u001b[0mself\u001b[0m\u001b[1;33m.\u001b[0m\u001b[0mfit_weighted\u001b[0m\u001b[1;33m(\u001b[0m\u001b[0mX\u001b[0m\u001b[1;33m,\u001b[0m \u001b[0my\u001b[0m\u001b[1;33m,\u001b[0m \u001b[0mw\u001b[0m\u001b[1;33m=\u001b[0m\u001b[0mweight\u001b[0m\u001b[1;33m,\u001b[0m \u001b[0mleaf\u001b[0m\u001b[1;33m=\u001b[0m\u001b[0mleaf\u001b[0m\u001b[1;33m,\u001b[0m \u001b[0msplit\u001b[0m\u001b[1;33m=\u001b[0m\u001b[0msplit\u001b[0m\u001b[1;33m,\u001b[0m \u001b[0mtrees\u001b[0m\u001b[1;33m=\u001b[0m\u001b[0mtrees\u001b[0m\u001b[1;33m,\u001b[0m \u001b[0mmf\u001b[0m\u001b[1;33m=\u001b[0m\u001b[1;34m\"sqrt\"\u001b[0m\u001b[1;33m)\u001b[0m\u001b[1;33m\u001b[0m\u001b[0m\n\u001b[0m\u001b[0;32m    120\u001b[0m         \u001b[1;32melif\u001b[0m \u001b[0mmod\u001b[0m \u001b[1;33m==\u001b[0m \u001b[1;34m'SVM'\u001b[0m\u001b[1;33m:\u001b[0m\u001b[1;33m\u001b[0m\u001b[0m\n\u001b[0;32m    121\u001b[0m             \u001b[0mself\u001b[0m\u001b[1;33m.\u001b[0m\u001b[0mfit_svm\u001b[0m\u001b[1;33m(\u001b[0m\u001b[0mX\u001b[0m\u001b[1;33m,\u001b[0m \u001b[0my\u001b[0m\u001b[1;33m)\u001b[0m\u001b[1;33m\u001b[0m\u001b[0m\n",
        "\u001b[1;32m/home/matt/gdrive/final_project/Fundraising-Success/model.pyc\u001b[0m in \u001b[0;36mfit_weighted\u001b[1;34m(self, X, y, split, w, leaf, trees, mf, depth)\u001b[0m\n\u001b[0;32m     91\u001b[0m         \u001b[0mweights\u001b[0m \u001b[1;33m=\u001b[0m \u001b[1;33m[\u001b[0m\u001b[1;36m1\u001b[0m\u001b[1;33m/\u001b[0m\u001b[1;33m(\u001b[0m\u001b[0my\u001b[0m\u001b[1;33m.\u001b[0m\u001b[0mmean\u001b[0m\u001b[1;33m(\u001b[0m\u001b[1;33m)\u001b[0m\u001b[1;33m*\u001b[0m\u001b[0mw\u001b[0m\u001b[1;33m)\u001b[0m \u001b[1;32mif\u001b[0m \u001b[0mx\u001b[0m \u001b[1;32melse\u001b[0m \u001b[1;36m1\u001b[0m \u001b[1;32mfor\u001b[0m \u001b[0mx\u001b[0m \u001b[1;32min\u001b[0m \u001b[0mlist\u001b[0m\u001b[1;33m(\u001b[0m\u001b[0my\u001b[0m\u001b[1;33m)\u001b[0m\u001b[1;33m]\u001b[0m\u001b[1;33m\u001b[0m\u001b[0m\n\u001b[0;32m     92\u001b[0m         \u001b[1;31m# self.model.fit(X, y, sample_weight = balance_weights(y)-.05)\u001b[0m\u001b[1;33m\u001b[0m\u001b[1;33m\u001b[0m\u001b[0m\n\u001b[1;32m---> 93\u001b[1;33m         \u001b[0mself\u001b[0m\u001b[1;33m.\u001b[0m\u001b[0mmodel\u001b[0m\u001b[1;33m.\u001b[0m\u001b[0mfit\u001b[0m\u001b[1;33m(\u001b[0m\u001b[0mX\u001b[0m\u001b[1;33m,\u001b[0m \u001b[0my\u001b[0m\u001b[1;33m,\u001b[0m \u001b[0msample_weight\u001b[0m\u001b[1;33m=\u001b[0m\u001b[0mweights\u001b[0m\u001b[1;33m)\u001b[0m\u001b[1;33m\u001b[0m\u001b[0m\n\u001b[0m\u001b[0;32m     94\u001b[0m \u001b[1;33m\u001b[0m\u001b[0m\n\u001b[0;32m     95\u001b[0m     \u001b[1;32mdef\u001b[0m \u001b[0mfit_svm\u001b[0m\u001b[1;33m(\u001b[0m\u001b[0mself\u001b[0m\u001b[1;33m,\u001b[0m\u001b[0mX\u001b[0m\u001b[1;33m,\u001b[0m\u001b[0my\u001b[0m\u001b[1;33m,\u001b[0m\u001b[0mclass_weight\u001b[0m \u001b[1;33m=\u001b[0m \u001b[1;34m'auto'\u001b[0m\u001b[1;33m)\u001b[0m\u001b[1;33m:\u001b[0m\u001b[1;33m\u001b[0m\u001b[0m\n",
        "\u001b[1;32m/home/matt/anaconda/lib/python2.7/site-packages/sklearn/ensemble/forest.pyc\u001b[0m in \u001b[0;36mfit\u001b[1;34m(self, X, y, sample_weight)\u001b[0m\n\u001b[0;32m    222\u001b[0m \u001b[1;33m\u001b[0m\u001b[0m\n\u001b[0;32m    223\u001b[0m         \u001b[1;31m# Convert data\u001b[0m\u001b[1;33m\u001b[0m\u001b[1;33m\u001b[0m\u001b[0m\n\u001b[1;32m--> 224\u001b[1;33m         \u001b[0mX\u001b[0m\u001b[1;33m,\u001b[0m \u001b[1;33m=\u001b[0m \u001b[0mcheck_arrays\u001b[0m\u001b[1;33m(\u001b[0m\u001b[0mX\u001b[0m\u001b[1;33m,\u001b[0m \u001b[0mdtype\u001b[0m\u001b[1;33m=\u001b[0m\u001b[0mDTYPE\u001b[0m\u001b[1;33m,\u001b[0m \u001b[0msparse_format\u001b[0m\u001b[1;33m=\u001b[0m\u001b[1;34m\"dense\"\u001b[0m\u001b[1;33m)\u001b[0m\u001b[1;33m\u001b[0m\u001b[0m\n\u001b[0m\u001b[0;32m    225\u001b[0m \u001b[1;33m\u001b[0m\u001b[0m\n\u001b[0;32m    226\u001b[0m         \u001b[1;31m# Remap output\u001b[0m\u001b[1;33m\u001b[0m\u001b[1;33m\u001b[0m\u001b[0m\n",
        "\u001b[1;32m/home/matt/anaconda/lib/python2.7/site-packages/sklearn/utils/validation.pyc\u001b[0m in \u001b[0;36mcheck_arrays\u001b[1;34m(*arrays, **options)\u001b[0m\n\u001b[0;32m    279\u001b[0m                     \u001b[0marray\u001b[0m \u001b[1;33m=\u001b[0m \u001b[0mnp\u001b[0m\u001b[1;33m.\u001b[0m\u001b[0mascontiguousarray\u001b[0m\u001b[1;33m(\u001b[0m\u001b[0marray\u001b[0m\u001b[1;33m,\u001b[0m \u001b[0mdtype\u001b[0m\u001b[1;33m=\u001b[0m\u001b[0mdtype\u001b[0m\u001b[1;33m)\u001b[0m\u001b[1;33m\u001b[0m\u001b[0m\n\u001b[0;32m    280\u001b[0m                 \u001b[1;32melse\u001b[0m\u001b[1;33m:\u001b[0m\u001b[1;33m\u001b[0m\u001b[0m\n\u001b[1;32m--> 281\u001b[1;33m                     \u001b[0marray\u001b[0m \u001b[1;33m=\u001b[0m \u001b[0mnp\u001b[0m\u001b[1;33m.\u001b[0m\u001b[0masarray\u001b[0m\u001b[1;33m(\u001b[0m\u001b[0marray\u001b[0m\u001b[1;33m,\u001b[0m \u001b[0mdtype\u001b[0m\u001b[1;33m=\u001b[0m\u001b[0mdtype\u001b[0m\u001b[1;33m)\u001b[0m\u001b[1;33m\u001b[0m\u001b[0m\n\u001b[0m\u001b[0;32m    282\u001b[0m                 \u001b[1;32mif\u001b[0m \u001b[1;32mnot\u001b[0m \u001b[0mallow_nans\u001b[0m\u001b[1;33m:\u001b[0m\u001b[1;33m\u001b[0m\u001b[0m\n\u001b[0;32m    283\u001b[0m                     \u001b[0m_assert_all_finite\u001b[0m\u001b[1;33m(\u001b[0m\u001b[0marray\u001b[0m\u001b[1;33m)\u001b[0m\u001b[1;33m\u001b[0m\u001b[0m\n",
        "\u001b[1;32m/home/matt/anaconda/lib/python2.7/site-packages/numpy/core/numeric.pyc\u001b[0m in \u001b[0;36masarray\u001b[1;34m(a, dtype, order)\u001b[0m\n\u001b[0;32m    460\u001b[0m \u001b[1;33m\u001b[0m\u001b[0m\n\u001b[0;32m    461\u001b[0m     \"\"\"\n\u001b[1;32m--> 462\u001b[1;33m     \u001b[1;32mreturn\u001b[0m \u001b[0marray\u001b[0m\u001b[1;33m(\u001b[0m\u001b[0ma\u001b[0m\u001b[1;33m,\u001b[0m \u001b[0mdtype\u001b[0m\u001b[1;33m,\u001b[0m \u001b[0mcopy\u001b[0m\u001b[1;33m=\u001b[0m\u001b[0mFalse\u001b[0m\u001b[1;33m,\u001b[0m \u001b[0morder\u001b[0m\u001b[1;33m=\u001b[0m\u001b[0morder\u001b[0m\u001b[1;33m)\u001b[0m\u001b[1;33m\u001b[0m\u001b[0m\n\u001b[0m\u001b[0;32m    463\u001b[0m \u001b[1;33m\u001b[0m\u001b[0m\n\u001b[0;32m    464\u001b[0m \u001b[1;32mdef\u001b[0m \u001b[0masanyarray\u001b[0m\u001b[1;33m(\u001b[0m\u001b[0ma\u001b[0m\u001b[1;33m,\u001b[0m \u001b[0mdtype\u001b[0m\u001b[1;33m=\u001b[0m\u001b[0mNone\u001b[0m\u001b[1;33m,\u001b[0m \u001b[0morder\u001b[0m\u001b[1;33m=\u001b[0m\u001b[0mNone\u001b[0m\u001b[1;33m)\u001b[0m\u001b[1;33m:\u001b[0m\u001b[1;33m\u001b[0m\u001b[0m\n",
        "\u001b[1;31mMemoryError\u001b[0m: "
       ]
      }
     ],
     "prompt_number": 7
    },
    {
     "cell_type": "code",
     "collapsed": false,
     "input": [
      "mod.feat_imp()\n"
     ],
     "language": "python",
     "metadata": {},
     "outputs": [
      {
       "output_type": "stream",
       "stream": "stdout",
       "text": [
        "irregular_payments: 13.3%\n",
        "loan_amount: 13.1%\n",
        "monthly: 12.8%\n",
        "repayment_term: 12.6%\n",
        "gender: 7.9%\n",
        "PH: 3.7%\n",
        "SV: 1.8%\n",
        "CO: 1.3%\n",
        "act: Personal Housing Expenses: 1.2%\n",
        "group_size: 1.1%\n",
        "KH: 1.1%\n",
        "use: hi: 1.1%\n",
        "Retail: 1.0%\n",
        "UG: 1.0%\n",
        "theme_none: 1.0%\n",
        "bonus_credit_eligibility: 0.8%\n",
        "Agriculture: 0.8%\n",
        "KE: 0.8%\n",
        "Housing: 0.8%\n",
        "Education: 0.8%\n",
        "use: process: 0.7%\n",
        "ZW: 0.7%\n",
        "pay_at_end: 0.6%\n",
        "dollars: 0.6%\n",
        "theme_Conflict Zones: 0.5%\n",
        "theme_Underfunded Areas: 0.4%\n",
        "theme_Rural Exclusion: 0.4%\n",
        "theme_Disaster recovery: 0.4%\n",
        "use: hous: 0.4%\n",
        "use: purchas: 0.4%\n",
        "act: Farming: 0.4%\n",
        "use: buy: 0.4%\n",
        "use: yield: 0.4%\n",
        "act: Phone Use Sales: 0.4%\n",
        "use: pay: 0.4%\n",
        "theme_Mobile Technology: 0.3%\n",
        "theme_Water and Sanitation: 0.3%\n",
        "theme_Youth: 0.3%\n",
        "use: cement: 0.3%\n",
        "PK: 0.3%\n",
        "use: fish: 0.3%\n",
        "theme_Innovative Loans: 0.3%\n",
        "use: doubl: 0.3%\n",
        "use: fertil: 0.3%\n",
        "theme_Higher Education: 0.3%\n",
        "act: Higher education costs: 0.3%\n",
        "use: build: 0.3%\n",
        "PS: 0.3%\n",
        "NI: 0.2%\n",
        "use: phone: 0.2%\n",
        "use: high-qual: 0.2%\n",
        "use: feed: 0.2%\n",
        "use: incom: 0.2%\n",
        "use: access: 0.2%\n",
        "use: fee: 0.2%\n",
        "use: materi: 0.2%\n",
        "act: General Store: 0.2%\n",
        "ID: 0.2%\n",
        "SN: 0.2%\n",
        "use: farmland: 0.2%\n",
        "use: seed: 0.2%\n",
        "use: sew: 0.2%\n",
        "use: cloth: 0.2%\n",
        "act: Clothing Sales: 0.2%\n",
        "use: mobil: 0.2%\n",
        "NG: 0.2%\n",
        "LR: 0.2%\n",
        "PE: 0.1%\n",
        "use: solar: 0.1%\n",
        "theme_Vulnerable Groups: 0.1%\n",
        "use: sand: 0.1%\n",
        "use: addit: 0.1%\n",
        "VN: 0.1%\n",
        "WS: 0.1%\n",
        "ML: 0.1%\n",
        "Arts: 0.1%\n",
        "use: busi: 0.1%\n",
        "use: sell: 0.1%\n",
        "EC: 0.1%\n",
        "use: machin: 0.1%\n",
        "use: cow: 0.1%\n",
        "act: Sewing: 0.1%\n",
        "use: construct: 0.1%\n",
        "Food: 0.1%\n",
        "use: electr: 0.1%\n",
        "TZ: 0.1%\n",
        "IN: 0.1%\n",
        "IQ: 0.1%\n",
        "use: new: 0.1%\n",
        "act: Agriculture: 0.1%\n",
        "PY: 0.1%\n",
        "Clothing: 0.1%\n",
        "use: groceri: 0.1%\n",
        "use: home: 0.1%\n",
        "use: rice: 0.1%\n",
        "AM: 0.1%\n",
        "act: Personal Purchases: 0.1%\n",
        "use: oil: 0.1%\n",
        "theme_Green: 0.1%\n",
        "use: brick: 0.1%\n",
        "TJ: 0.1%\n",
        "act: Services: 0.1%\n",
        "Manufacturing: 0.1%\n",
        "use: store: 0.1%\n",
        "use: input: 0.1%\n",
        "use: order: 0.1%\n",
        "theme_Islamic Finance: 0.1%\n",
        "HT: 0.1%\n",
        "use: tuition: 0.1%\n",
        "use: herbicid: 0.1%\n",
        "use: plow: 0.1%\n",
        "use: labor: 0.1%\n",
        "theme_Arab Youth: 0.1%\n",
        "use: pig: 0.1%\n",
        "RW: 0.1%\n",
        "use: basic: 0.1%\n",
        "use: stock: 0.1%\n",
        "use: vitamin: 0.1%\n",
        "use: product: 0.1%\n",
        "Health: 0.1%\n",
        "use: grain: 0.1%\n",
        "act: Retail: 0.1%\n",
        "use: soda: 0.1%\n",
        "Personal Use: 0.1%\n",
        "act: Poultry: 0.1%\n",
        "use: gravel: 0.1%\n",
        "act: Dairy: 0.1%\n",
        "use: pesticid: 0.1%\n",
        "BJ: 0.1%\n",
        "act: Home Energy: 0.0%\n",
        "use: increas: 0.0%\n",
        "act: Primary/secondary school costs: 0.0%\n",
        "use: veget: 0.0%\n",
        "Services: 0.0%\n",
        "use: gener: 0.0%\n",
        "JO: 0.0%\n",
        "use: item: 0.0%\n",
        "use: ingredi: 0.0%\n",
        "use: dairi: 0.0%\n",
        "theme_Start-Up: 0.0%\n",
        "use: flour: 0.0%\n",
        "use: sugar: 0.0%\n",
        "use: sale: 0.0%\n",
        "use: soft: 0.0%\n",
        "use: like: 0.0%\n",
        "act: Home Appliances: 0.0%\n",
        "SL: 0.0%\n",
        "use: water: 0.0%\n",
        "use: univers: 0.0%\n",
        "use: snack: 0.0%\n",
        "use: metal: 0.0%\n",
        "act: Food Production/Sales: 0.0%\n",
        "HN: 0.0%\n",
        "use: cattl: 0.0%\n",
        "use: larg: 0.0%\n",
        "use: good: 0.0%\n",
        "TL: 0.0%\n",
        "use: suppli: 0.0%\n",
        "act: Fishing: 0.0%\n",
        "act: Charcoal Sales: 0.0%\n",
        "use: repair: 0.0%\n",
        "use: maiz: 0.0%\n",
        "BO: 0.0%\n",
        "Transportation: 0.0%\n",
        "use: wall: 0.0%\n",
        "act: Grocery Store: 0.0%\n",
        "use: cook: 0.0%\n",
        "YE: 0.0%\n",
        "use: stove: 0.0%\n",
        "act: Cattle: 0.0%\n",
        "use: drink: 0.0%\n",
        "use: room: 0.0%\n",
        "use: season: 0.0%\n",
        "act: Fish Selling: 0.0%\n",
        "use: soap: 0.0%\n",
        "use: need: 0.0%\n",
        "use: charcoal: 0.0%\n",
        "CR: 0.0%\n",
        "act: Fruits & Vegetables: 0.0%\n",
        "use: farm: 0.0%\n",
        "use: make: 0.0%\n",
        "use: expand: 0.0%\n",
        "use: coffe: 0.0%\n",
        "use: thread: 0.0%\n",
        "TG: 0.0%\n",
        "use: biscuit: 0.0%\n",
        "use: wood: 0.0%\n",
        "use: instal: 0.0%\n",
        "act: Livestock: 0.0%\n",
        "act: Beauty Salon: 0.0%\n",
        "use: cost: 0.0%\n",
        "use: chick: 0.0%\n",
        "act: Animal Sales: 0.0%\n",
        "use: roof: 0.0%\n",
        "use: resal: 0.0%\n",
        "use: land: 0.0%\n",
        "act: Food Stall: 0.0%\n",
        "use: noodl: 0.0%\n",
        "use: inventori: 0.0%\n",
        "use: bag: 0.0%\n",
        "use: motorcycl: 0.0%\n",
        "use: improv: 0.0%\n",
        "use: work: 0.0%\n",
        "act: Pigs: 0.0%\n",
        "act: Tailoring: 0.0%\n",
        "use: school: 0.0%\n",
        "act: Used Clothing: 0.0%\n",
        "use: food: 0.0%\n",
        "use: milk: 0.0%\n",
        "use: manur: 0.0%\n",
        "use: merchandis: 0.0%\n",
        "use: sheet: 0.0%\n",
        "act: Rickshaw: 0.0%\n",
        "use: bulk: 0.0%\n",
        "act: Personal Medical Expenses: 0.0%\n",
        "use: fabric: 0.0%\n",
        "use: help: 0.0%\n",
        "use: husband: 0.0%\n",
        "GT: 0.0%\n",
        "use: anim: 0.0%\n",
        "use: custom: 0.0%\n",
        "use: bean: 0.0%\n",
        "use: poultri: 0.0%\n",
        "act: Cloth & Dressmaking Supplies: 0.0%\n",
        "use: insecticid: 0.0%\n",
        "use: spare: 0.0%\n",
        "use: semest: 0.0%\n",
        "use: varieti: 0.0%\n",
        "use: crop: 0.0%\n",
        "act: Motorcycle Transport: 0.0%\n",
        "use: cultiv: 0.0%\n",
        "use: shoe: 0.0%\n",
        "use: meat: 0.0%\n",
        "Construction: 0.0%\n",
        "use: bread: 0.0%\n",
        "use: chicken: 0.0%\n",
        "use: chemic: 0.0%\n",
        "act: Clothing: 0.0%\n",
        "use: shampoo: 0.0%\n",
        "AZ: 0.0%\n",
        "GH: 0.0%\n",
        "use: wheat: 0.0%\n",
        "act: Milk Sales: 0.0%\n",
        "use: wholesal: 0.0%\n",
        "use: use: 0.0%\n",
        "use: color: 0.0%\n",
        "use: agricultur: 0.0%\n",
        "act: Food Market: 0.0%\n",
        "use: deterg: 0.0%\n",
        "use: capit: 0.0%\n",
        "use: toiletri: 0.0%\n",
        "use: resel: 0.0%\n",
        "use: organ: 0.0%\n",
        "use: rais: 0.0%\n",
        "use: corn: 0.0%\n",
        "use: piglet: 0.0%\n",
        "use: cosmet: 0.0%\n",
        "act: Food: 0.0%\n",
        "use: famili: 0.0%\n",
        "use: differ: 0.0%\n",
        "use: children: 0.0%\n",
        "use: beverag: 0.0%\n",
        "act: Cosmetics Sales: 0.0%\n",
        "use: provid: 0.0%\n",
        "use: banana: 0.0%\n",
        "use: candi: 0.0%\n",
        "use: fruit: 0.0%\n",
        "act: Shoe Sales: 0.0%\n",
        "use: tomato: 0.0%\n",
        "use: sack: 0.0%\n",
        "use: qualiti: 0.0%\n",
        "act: Home Products Sales: 0.0%\n",
        "use: tool: 0.0%\n",
        "use: perfum: 0.0%\n",
        "use: compost: 0.0%\n",
        "use: egg: 0.0%\n",
        "use: potato: 0.0%\n",
        "use: spice: 0.0%\n",
        "use: shop: 0.0%\n",
        "use: mainten: 0.0%\n",
        "use: box: 0.0%\n",
        "use: onion: 0.0%\n",
        "use: raw: 0.0%\n",
        "use: salt: 0.0%\n",
        "CD: 0.0%\n",
        "use: net: 0.0%\n",
        "BI: 0.0%\n",
        "act: Cereals: 0.0%\n",
        "KG: 0.0%\n",
        "MN: 0.0%\n",
        "MW: 0.0%\n",
        "XK: 0.0%\n",
        "VC: 0.0%\n",
        "NP: 0.0%\n",
        "use: toilet: 0.0%\n",
        "MZ: 0.0%\n",
        "theme_SME: 0.0%\n",
        "VU: 0.0%\n",
        "BF: 0.0%\n",
        "CM: 0.0%\n",
        "Entertainment: 0.0%\n",
        "IL: 0.0%\n",
        "currency_loss: 0.0%\n",
        "use: start: 0.0%\n",
        "ZA: 0.0%\n",
        "ZM: 0.0%\n",
        "GE: 0.0%\n",
        "Wholesale: 0.0%\n",
        "act: Air Conditioning: 0.0%\n",
        "theme_Growing Businesses: 0.0%\n",
        "act: Arts: 0.0%\n",
        "act: Auto Repair: 0.0%\n",
        "act: Bakery: 0.0%\n",
        "US: 0.0%\n",
        "UA: 0.0%\n",
        "MR: 0.0%\n",
        "theme_Health: 0.0%\n",
        "theme_Kiva City Detroit: 0.0%\n",
        "MM: 0.0%\n",
        "CG: 0.0%\n",
        "MD: 0.0%\n",
        "theme_Fair Trade: 0.0%\n",
        "theme_Job Creation: 0.0%\n",
        "LB: 0.0%\n",
        "BZ: 0.0%\n",
        "LA: 0.0%\n",
        "BR: 0.0%\n",
        "theme_Flexible Credit Study: 0.0%\n",
        "SO: 0.0%\n",
        "SR: 0.0%\n",
        "PA: 0.0%\n",
        "use: sweet: 0.0%\n",
        "TH: 0.0%\n",
        "MX: 0.0%\n",
        "theme_Kiva City LA: 0.0%\n",
        "act: Balut-Making: 0.0%\n",
        "TR: 0.0%\n",
        "DO: 0.0%\n",
        "AL: 0.0%\n",
        "use: small: 0.0%\n",
        "act: Barber Shop: 0.0%\n",
        "act: Bicycle Repair: 0.0%\n",
        "act: Waste Management: 0.0%\n",
        "act: Veterinary Sales: 0.0%\n",
        "act: Vehicle Repairs: 0.0%\n",
        "act: Vehicle: 0.0%\n",
        "act: Utilities: 0.0%\n",
        "act: Used Shoes: 0.0%\n",
        "act: Upholstery: 0.0%\n",
        "act: Traveling Sales: 0.0%\n",
        "act: Transportation: 0.0%\n",
        "act: Tourism: 0.0%\n",
        "act: Timber Sales: 0.0%\n",
        "act: Textiles: 0.0%\n",
        "act: Taxi: 0.0%\n",
        "act: Sporting Good Sales: 0.0%\n",
        "act: Spare Parts: 0.0%\n",
        "act: Souvenir Sales: 0.0%\n",
        "act: Soft Drinks: 0.0%\n",
        "act: Secretarial Services: 0.0%\n",
        "act: Restaurant: 0.0%\n",
        "act: Renewable Energy Products: 0.0%\n",
        "act: Religious Articles: 0.0%\n",
        "act: Recycling: 0.0%\n",
        "act: Quarrying: 0.0%\n",
        "act: Pub: 0.0%\n",
        "act: Property: 0.0%\n",
        "act: Printing: 0.0%\n",
        "act: Plastics Sales: 0.0%\n",
        "act: Photography: 0.0%\n",
        "act: Phone Repair: 0.0%\n",
        "act: Water Distribution: 0.0%\n",
        "act: Weaving: 0.0%\n",
        "act: Wedding Expenses: 0.0%\n",
        "use: hair: 0.0%\n",
        "use: shirt: 0.0%\n",
        "use: seedl: 0.0%\n",
        "use: renov: 0.0%\n",
        "use: quantiti: 0.0%\n",
        "use: prepar: 0.0%\n",
        "use: plastic: 0.0%\n",
        "use: plant: 0.0%\n",
        "use: paint: 0.0%\n",
        "use: nail: 0.0%\n",
        "use: livestock: 0.0%\n",
        "use: juic: 0.0%\n",
        "use: iron: 0.0%\n",
        "use: invest: 0.0%\n",
        "use: grow: 0.0%\n",
        "act: Well digging: 0.0%\n",
        "use: firewood: 0.0%\n",
        "use: expens: 0.0%\n",
        "use: etc.: 0.0%\n",
        "use: equip: 0.0%\n",
        "use: educ: 0.0%\n",
        "use: dri: 0.0%\n",
        "use: cream: 0.0%\n",
        "use: cover: 0.0%\n",
        "use: beer: 0.0%\n",
        "use: accessori: 0.0%\n",
        "use: ): 0.0%\n",
        "use: (: 0.0%\n",
        "act: Wholesale: 0.0%\n",
        "act: Phone Accessories: 0.0%\n",
        "act: Pharmacy: 0.0%\n",
        "act: Personal Products Sales: 0.0%\n",
        "act: Computers: 0.0%\n",
        "act: Entertainment: 0.0%\n",
        "act: Embroidery: 0.0%\n",
        "act: Electronics Sales: 0.0%\n",
        "act: Electronics Repair: 0.0%\n",
        "act: Electrician: 0.0%\n",
        "act: Electrical Goods: 0.0%\n",
        "act: Education provider: 0.0%\n",
        "act: Dental: 0.0%\n",
        "act: Decorations Sales: 0.0%\n",
        "act: Crafts: 0.0%\n",
        "act: Consumer Goods: 0.0%\n",
        "act: Construction Supplies: 0.0%\n",
        "act: Construction: 0.0%\n",
        "act: Cobbler: 0.0%\n",
        "act: Flowers: 0.0%\n",
        "act: Child Care: 0.0%\n",
        "act: Cheese Making: 0.0%\n",
        "act: Cement: 0.0%\n",
        "act: Catering: 0.0%\n",
        "act: Carpentry: 0.0%\n",
        "act: Call Center: 0.0%\n",
        "act: Cafe: 0.0%\n",
        "act: Butcher Shop: 0.0%\n",
        "act: Bricks: 0.0%\n",
        "act: Bookstore: 0.0%\n",
        "act: Bookbinding: 0.0%\n",
        "act: Blacksmith: 0.0%\n",
        "act: Bicycle Sales: 0.0%\n",
        "act: Farm Supplies: 0.0%\n",
        "act: Fuel/Firewood: 0.0%\n",
        "use: son: 0.0%\n",
        "act: Manufacturing: 0.0%\n",
        "act: Perfumes: 0.0%\n",
        "act: Party Supplies: 0.0%\n",
        "act: Paper Sales: 0.0%\n",
        "act: Office Supplies: 0.0%\n",
        "act: Natural Medicines: 0.0%\n",
        "act: Musical Performance: 0.0%\n",
        "act: Musical Instruments: 0.0%\n",
        "act: Music Discs & Tapes: 0.0%\n",
        "act: Movie Tapes & DVDs: 0.0%\n",
        "act: Motorcycle Repair: 0.0%\n",
        "act: Mobile Phones: 0.0%\n",
        "act: Metal Shop: 0.0%\n",
        "act: Medical Clinic: 0.0%\n",
        "act: Machinery Rental: 0.0%\n",
        "act: Funeral Expenses: 0.0%\n",
        "act: Machine Shop: 0.0%\n",
        "act: Liquor Store / Off-License: 0.0%\n",
        "act: Laundry: 0.0%\n",
        "act: Land Rental: 0.0%\n",
        "act: Knitting: 0.0%\n",
        "act: Jewelry: 0.0%\n",
        "act: Internet Cafe: 0.0%\n",
        "act: Hotel: 0.0%\n",
        "act: Health: 0.0%\n",
        "act: Hardware: 0.0%\n",
        "act: Goods Distribution: 0.0%\n",
        "act: Games: 0.0%\n",
        "act: Furniture Making: 0.0%\n",
        "act: Recycled Materials: 0.0%\n"
       ]
      }
     ],
     "prompt_number": 6
    },
    {
     "cell_type": "code",
     "collapsed": false,
     "input": [
      "y = months[8].expired.values"
     ],
     "language": "python",
     "metadata": {},
     "outputs": [],
     "prompt_number": 43
    },
    {
     "cell_type": "code",
     "collapsed": false,
     "input": [
      "a = [1/y.mean() if x else 1 for x in list(y)]"
     ],
     "language": "python",
     "metadata": {},
     "outputs": [],
     "prompt_number": 44
    },
    {
     "cell_type": "code",
     "collapsed": false,
     "input": [
      "sum(a)/len(a)"
     ],
     "language": "python",
     "metadata": {},
     "outputs": [
      {
       "metadata": {},
       "output_type": "pyout",
       "prompt_number": 47,
       "text": [
        "1.9013462347497068"
       ]
      }
     ],
     "prompt_number": 47
    },
    {
     "cell_type": "code",
     "collapsed": false,
     "input": [
      "months = filter.get_months(df)"
     ],
     "language": "python",
     "metadata": {},
     "outputs": [],
     "prompt_number": 5
    },
    {
     "cell_type": "code",
     "collapsed": false,
     "input": [],
     "language": "python",
     "metadata": {},
     "outputs": [],
     "prompt_number": 6
    },
    {
     "cell_type": "code",
     "collapsed": false,
     "input": [
      "reload(model)\n",
      "mod = model.funding_model()\n",
      "mod.transform_fit(months[9])"
     ],
     "language": "python",
     "metadata": {},
     "outputs": [],
     "prompt_number": 42
    },
    {
     "cell_type": "code",
     "collapsed": false,
     "input": [
      "a = [1,2,3]"
     ],
     "language": "python",
     "metadata": {},
     "outputs": [],
     "prompt_number": 9
    },
    {
     "cell_type": "code",
     "collapsed": false,
     "input": [
      "import numpy as np\n",
      "np.array(a)"
     ],
     "language": "python",
     "metadata": {},
     "outputs": [
      {
       "metadata": {},
       "output_type": "pyout",
       "prompt_number": 11,
       "text": [
        "array([1, 2, 3])"
       ]
      }
     ],
     "prompt_number": 11
    },
    {
     "cell_type": "code",
     "collapsed": false,
     "input": [
      "mod.feat_imp()"
     ],
     "language": "python",
     "metadata": {},
     "outputs": [
      {
       "output_type": "stream",
       "stream": "stdout",
       "text": [
        "irregular_payments: 15.83%\n",
        "loan_amount: 12.78%\n",
        "monthly: 11.76%\n",
        "gender: 8.5%\n",
        "repayment_term: 7.14%\n",
        "country: UG: 3.23%\n",
        "country: SV: 2.52%\n",
        "sector: Housing: 2.32%\n",
        "dollars: 2.01%\n",
        "activity: Personal Housing Expenses: 1.87%\n",
        "country: US: 1.75%\n",
        "use: house: 1.52%\n",
        "sector: Education: 1.44%\n",
        "country: CO: 1.34%\n",
        "country: PH: 1.32%\n",
        "sector: Retail: 1.21%\n",
        "group_size: 1.07%\n",
        "pay_at_end: 0.72%\n",
        "bonus_credit_eligibility: 0.7%\n",
        "use: fee: 0.59%\n",
        "use: buy: 0.58%\n",
        "use: sand: 0.53%\n",
        "country: KE: 0.5%\n",
        "activity: General Store: 0.47%\n",
        "sector: Agriculture: 0.46%\n",
        "theme: Underfunded Areas: 0.45%\n",
        "use: soda: 0.43%\n",
        "use: shop: 0.43%\n",
        "use: clothes: 0.38%\n",
        "theme: Higher Education: 0.37%\n",
        "country: PS: 0.36%\n",
        "use: grain: 0.34%\n",
        "use: vitamin: 0.33%\n",
        "use: livestock: 0.31%\n",
        "theme: Innovative Loans: 0.3%\n",
        "use: iron: 0.3%\n",
        "use: product: 0.29%\n",
        "use: beer: 0.29%\n",
        "use: pay: 0.29%\n",
        "sector: Food: 0.28%\n",
        "activity: Livestock: 0.28%\n",
        "country: KG: 0.28%\n",
        "use: stock: 0.28%\n",
        "theme: none: 0.27%\n",
        "use: canned: 0.27%\n",
        "use: school: 0.26%\n",
        "use: purchase: 0.24%\n",
        "use: sell: 0.24%\n",
        "use: tuition: 0.24%\n",
        "theme: Conflict Zones: 0.22%\n",
        "activity: Higher education costs: 0.22%\n",
        "activity: Farming: 0.22%\n",
        "country: KH: 0.22%\n",
        "theme: Growing Businesses: 0.2%\n",
        "country: JO: 0.2%\n",
        "country: TL: 0.2%\n",
        "theme: Water and Sanitation: 0.2%\n",
        "sector: Personal Use: 0.19%\n",
        "activity: Home Energy: 0.18%\n",
        "activity: Personal Purchases: 0.17%\n",
        "use: repair: 0.17%\n",
        "country: NI: 0.17%\n",
        "sector: Clothing: 0.17%\n",
        "country: RW: 0.17%\n",
        "country: EC: 0.16%\n",
        "country: AM: 0.16%\n",
        "use: business: 0.16%\n",
        "use: store: 0.16%\n",
        "use: metal: 0.15%\n",
        "use: water: 0.14%\n",
        "theme: Start-Up: 0.13%\n",
        "use: new: 0.13%\n",
        "activity: Pigs: 0.13%\n",
        "use: oil: 0.13%\n",
        "activity: Spare Parts: 0.12%\n",
        "use: good: 0.11%\n",
        "use: feed: 0.11%\n",
        "activity: Education provider: 0.11%\n",
        "use: basic: 0.11%\n",
        "use: increase: 0.11%\n",
        "use: item: 0.11%\n",
        "use: candy: 0.1%\n",
        "theme: Arab Youth: 0.1%\n",
        "use: cement: 0.1%\n",
        "theme: Rural Exclusion: 0.1%\n",
        "use: additional: 0.1%\n",
        "use: fertilizer: 0.1%\n",
        "country: PK: 0.09%\n",
        "use: drink: 0.09%\n",
        "use: seed: 0.09%\n",
        "use: merchandise: 0.08%\n",
        "activity: Clothing Sales: 0.08%\n",
        "activity: Services: 0.08%\n",
        "use: resale: 0.08%\n",
        "theme: Green: 0.08%\n",
        "country: LB: 0.08%\n",
        "use: sugar: 0.08%\n",
        "use: noodle: 0.08%\n",
        "use: rice: 0.08%\n",
        "use: nail: 0.08%\n",
        "use: salt: 0.08%\n",
        "use: order: 0.08%\n",
        "country: PE: 0.08%\n",
        "country: AZ: 0.08%\n",
        "use: snack: 0.07%\n",
        "use: fish: 0.07%\n",
        "use: sweet: 0.07%\n",
        "theme: Vulnerable Groups: 0.07%\n",
        "country: MZ: 0.07%\n",
        "use: customer: 0.07%\n",
        "country: TJ: 0.07%\n",
        "use: brick: 0.06%\n",
        "use: chair: 0.06%\n",
        "theme: Disaster recovery: 0.06%\n",
        "sector: Arts: 0.06%\n",
        "use: shirt: 0.06%\n",
        "activity: Home Appliances: 0.06%\n",
        "use: motorcycle: 0.06%\n",
        "sector: Manufacturing: 0.06%\n",
        "use: clothing: 0.06%\n",
        "use: cream: 0.06%\n",
        "use: sheet: 0.06%\n",
        "use: wholesale: 0.05%\n",
        "use: cattle: 0.05%\n",
        "use: crop: 0.05%\n",
        "use: (: 0.05%\n",
        "use: gravel: 0.05%\n",
        "sector: Construction: 0.05%\n",
        "use: safe: 0.05%\n",
        "use: vegetable: 0.05%\n",
        "use: sale: 0.05%\n",
        "use: inventory: 0.05%\n",
        "use: ingredient: 0.05%\n",
        "use: filter: 0.04%\n",
        "use: room: 0.04%\n",
        "activity: Agriculture: 0.04%\n",
        "use: farmland: 0.04%\n",
        "use: meet: 0.04%\n",
        "use: farm: 0.04%\n",
        "use: improve: 0.04%\n",
        "use: cow: 0.04%\n",
        "use: material: 0.04%\n",
        "use: variety: 0.04%\n",
        "use: equipment: 0.04%\n",
        "theme: Youth: 0.04%\n",
        "activity: Food Market: 0.04%\n",
        "sector: Services: 0.04%\n",
        "country: HT: 0.04%\n",
        "use: spare: 0.04%\n",
        "use: son: 0.03%\n",
        "country: NG: 0.03%\n",
        "use: upcoming: 0.03%\n",
        "theme: Islamic Finance: 0.03%\n",
        "activity: Retail: 0.03%\n",
        "sector: Transportation: 0.03%\n",
        "use: shampoo: 0.03%\n",
        "activity: Fishing: 0.03%\n",
        "use: provide: 0.03%\n",
        "use: food: 0.03%\n",
        "use: fishing: 0.03%\n",
        "use: building: 0.03%\n",
        "use: tool: 0.03%\n",
        "use: restock: 0.03%\n",
        "activity: Food Production/Sales: 0.03%\n",
        "activity: Grocery Store: 0.02%\n",
        "use: expand: 0.02%\n",
        "activity: Home Products Sales: 0.02%\n",
        "use: machine: 0.02%\n",
        "use: support: 0.02%\n",
        "use: child: 0.02%\n",
        "use: solar: 0.02%\n",
        "use: including: 0.02%\n",
        "use: invest: 0.02%\n",
        "use: flour: 0.02%\n",
        "country: ID: 0.02%\n",
        "use: like: 0.02%\n",
        "activity: Beauty Salon: 0.02%\n",
        "use: build: 0.01%\n",
        "country: IN: 0.01%\n",
        "activity: Food: 0.01%\n",
        "use: dairy: 0.01%\n",
        "use: make: 0.01%\n",
        "use: cooking: 0.01%\n",
        "use: pesticide: 0.01%\n",
        "use: raw: 0.01%\n",
        "use: toiletry: 0.01%\n",
        "use: cosmetic: 0.01%\n",
        "use: selling: 0.01%\n",
        "use: grocery: 0.01%\n",
        "use: milk: 0.01%\n",
        "country: VN: 0.01%\n",
        "use: land: 0.0%\n",
        "use: labor: 0.0%\n",
        "activity: Sewing: 0.0%\n",
        "use: bread: 0.0%\n",
        "use: wheat: 0.0%\n",
        "activity: Farm Supplies: 0.0%\n",
        "use: agricultural: 0.0%\n",
        "sector: Health: 0.0%\n",
        "use: soft: 0.0%\n",
        "use: fruit: 0.0%\n",
        "use: corn: 0.0%\n",
        "use: charcoal: 0.0%\n",
        "country: GT: 0.0%\n",
        "activity: Poultry: 0.0%\n",
        "country: ML: 0.0%\n",
        "use: thread: 0.0%\n",
        "activity: Food Stall: 0.0%\n",
        "use: potato: 0.0%\n",
        "use: sack: 0.0%\n",
        "use: piglet: 0.0%\n",
        "use: soap: 0.0%\n",
        "use: supply: 0.0%\n",
        "use: general: 0.0%\n",
        "use: maintenance: 0.0%\n",
        "use: meat: 0.0%\n",
        "country: NP: 0.0%\n",
        "use: cloth: 0.0%\n",
        "country: SR: 0.0%\n",
        "country: SN: 0.0%\n",
        "country: LR: 0.0%\n",
        "use: making: 0.0%\n",
        "country: TH: 0.0%\n",
        "country: MN: 0.0%\n",
        "use: medicine: 0.0%\n",
        "country: SL: 0.0%\n",
        "use: maize: 0.0%\n",
        "country: MW: 0.0%\n",
        "country: PY: 0.0%\n",
        "country: MX: 0.0%\n",
        "country: QS: 0.0%\n",
        "use: manure: 0.0%\n",
        "country: TG: 0.0%\n",
        "use: family: 0.0%\n",
        "use: loan: 0.0%\n",
        "use: chicken: 0.0%\n",
        "activity: Carpentry: 0.0%\n",
        "activity: Cafe: 0.0%\n",
        "activity: Butcher Shop: 0.0%\n",
        "activity: Bricks: 0.0%\n",
        "activity: Bookstore: 0.0%\n",
        "activity: Bookbinding: 0.0%\n",
        "activity: Blacksmith: 0.0%\n",
        "activity: Bicycle Sales: 0.0%\n",
        "activity: Bicycle Repair: 0.0%\n",
        "use: chemical: 0.0%\n",
        "activity: Barber Shop: 0.0%\n",
        "activity: Balut-Making: 0.0%\n",
        "activity: Bakery: 0.0%\n",
        "activity: Auto Repair: 0.0%\n",
        "activity: Arts: 0.0%\n",
        "activity: Animal Sales: 0.0%\n",
        "activity: Air Conditioning: 0.0%\n",
        "country: ZW: 0.0%\n",
        "country: ZM: 0.0%\n",
        "country: YE: 0.0%\n",
        "country: XK: 0.0%\n",
        "country: WS: 0.0%\n",
        "country: LA: 0.0%\n",
        "use: large: 0.0%\n",
        "country: UA: 0.0%\n",
        "country: TZ: 0.0%\n",
        "country: TR: 0.0%\n",
        "use: needed: 0.0%\n",
        "country: GH: 0.0%\n",
        "use: net: 0.0%\n",
        "use: start: 0.0%\n",
        "use: seedling: 0.0%\n",
        "use: semester: 0.0%\n",
        "use: service: 0.0%\n",
        "use: sewing: 0.0%\n",
        "use: sheep: 0.0%\n",
        "use: sheeting: 0.0%\n",
        "use: shoe: 0.0%\n",
        "theme: SME: 0.0%\n",
        "theme: Mobile Technology: 0.0%\n",
        "theme: Kiva City LA: 0.0%\n",
        "theme: Kiva City Detroit: 0.0%\n",
        "theme: Job Creation: 0.0%\n",
        "theme: Health: 0.0%\n",
        "sector: Entertainment: 0.0%\n",
        "use: cost: 0.0%\n",
        "use: thing: 0.0%\n",
        "theme: Flexible Credit Study: 0.0%\n",
        "theme: Fair Trade: 0.0%\n",
        "use: tomato: 0.0%\n",
        "use: cover: 0.0%\n",
        "use: university: 0.0%\n",
        "use: urgent: 0.0%\n",
        "use: use: 0.0%\n",
        "use: various: 0.0%\n",
        "use: wall: 0.0%\n",
        "currency_loss: 0.0%\n",
        "use: roof: 0.0%\n",
        "use: resell: 0.0%\n",
        "use: onion: 0.0%\n",
        "country: CG: 0.0%\n",
        "use: paint: 0.0%\n",
        "country: IQ: 0.0%\n",
        "use: drinking: 0.0%\n",
        "country: IL: 0.0%\n",
        "use: detergent: 0.0%\n",
        "use: pig: 0.0%\n",
        "country: HN: 0.0%\n",
        "activity: Cattle: 0.0%\n",
        "country: GE: 0.0%\n",
        "country: DO: 0.0%\n",
        "country: CR: 0.0%\n",
        "country: CM: 0.0%\n",
        "country: CD: 0.0%\n",
        "use: raise: 0.0%\n",
        "country: BZ: 0.0%\n",
        "country: BR: 0.0%\n",
        "country: BO: 0.0%\n",
        "country: BI: 0.0%\n",
        "country: BF: 0.0%\n",
        "use: poultry: 0.0%\n",
        "use: price: 0.0%\n",
        "country: AL: 0.0%\n",
        "sector: Wholesale: 0.0%\n",
        "use: coffee: 0.0%\n",
        "use: production: 0.0%\n",
        "use: construction: 0.0%\n",
        "activity: Catering: 0.0%\n",
        "activity: Cloth & Dressmaking Supplies: 0.0%\n",
        "activity: Cement: 0.0%\n",
        "activity: Recycled Materials: 0.0%\n",
        "activity: Textiles: 0.0%\n",
        "activity: Taxi: 0.0%\n",
        "activity: Tailoring: 0.0%\n",
        "activity: Sporting Good Sales: 0.0%\n",
        "use: expense: 0.0%\n",
        "activity: Souvenir Sales: 0.0%\n",
        "activity: Soft Drinks: 0.0%\n",
        "activity: Shoe Sales: 0.0%\n",
        "activity: Secretarial Services: 0.0%\n",
        "activity: Rickshaw: 0.0%\n",
        "use: wood: 0.0%\n",
        "activity: Restaurant: 0.0%\n",
        "activity: Renewable Energy Products: 0.0%\n",
        "activity: Recycling: 0.0%\n",
        "activity: Quarrying: 0.0%\n",
        "activity: Paper Sales: 0.0%\n",
        "activity: Pub: 0.0%\n",
        "activity: Property: 0.0%\n",
        "activity: Printing: 0.0%\n",
        "activity: Primary/secondary school costs: 0.0%\n",
        "activity: Plastics Sales: 0.0%\n",
        "activity: Photography: 0.0%\n",
        "activity: Phone Use Sales: 0.0%\n",
        "activity: Phone Repair: 0.0%\n",
        "activity: Phone Accessories: 0.0%\n",
        "activity: Pharmacy: 0.0%\n",
        "use: goat: 0.0%\n",
        "activity: Personal Products Sales: 0.0%\n",
        "activity: Personal Medical Expenses: 0.0%\n",
        "activity: Perfumes: 0.0%\n",
        "activity: Timber Sales: 0.0%\n",
        "activity: Tourism: 0.0%\n",
        "activity: Transportation: 0.0%\n",
        "activity: Traveling Sales: 0.0%\n",
        "use: box: 0.0%\n",
        "use: boat: 0.0%\n",
        "use: blouse: 0.0%\n",
        "use: biscuit: 0.0%\n",
        "use: beverage: 0.0%\n",
        "use: farming: 0.0%\n",
        "use: beauty: 0.0%\n",
        "use: bean: 0.0%\n",
        "use: firewood: 0.0%\n",
        "use: banana: 0.0%\n",
        "use: bag: 0.0%\n",
        "use: animal: 0.0%\n",
        "use: bulk: 0.0%\n",
        "use: accessory: 0.0%\n",
        "use: ): 0.0%\n",
        "use: fabric: 0.0%\n",
        "activity: Wholesale: 0.0%\n",
        "activity: Well digging: 0.0%\n",
        "activity: Wedding Expenses: 0.0%\n",
        "activity: Weaving: 0.0%\n",
        "activity: Water Distribution: 0.0%\n",
        "activity: Waste Management: 0.0%\n",
        "activity: Veterinary Sales: 0.0%\n",
        "activity: Vehicle Repairs: 0.0%\n",
        "activity: Vehicle: 0.0%\n",
        "activity: Utilities: 0.0%\n",
        "activity: Used Shoes: 0.0%\n",
        "activity: Used Clothing: 0.0%\n",
        "activity: Upholstery: 0.0%\n",
        "activity: Party Supplies: 0.0%\n",
        "activity: Office Supplies: 0.0%\n",
        "activity: Cereals: 0.0%\n",
        "use: daughter: 0.0%\n",
        "activity: Fruits & Vegetables: 0.0%\n",
        "use: electricity: 0.0%\n",
        "use: income: 0.0%\n",
        "use: egg: 0.0%\n",
        "activity: Flowers: 0.0%\n",
        "activity: Fish Selling: 0.0%\n",
        "activity: Film: 0.0%\n",
        "use: input: 0.0%\n",
        "activity: Entertainment: 0.0%\n",
        "activity: Embroidery: 0.0%\n",
        "activity: Electronics Sales: 0.0%\n",
        "activity: Electronics Repair: 0.0%\n",
        "activity: Electrician: 0.0%\n",
        "activity: Electrical Goods: 0.0%\n",
        "activity: Dental: 0.0%\n",
        "activity: Natural Medicines: 0.0%\n",
        "activity: Decorations Sales: 0.0%\n",
        "activity: Dairy: 0.0%\n",
        "activity: Crafts: 0.0%\n",
        "activity: Cosmetics Sales: 0.0%\n",
        "activity: Consumer Goods: 0.0%\n",
        "activity: Construction Supplies: 0.0%\n",
        "activity: Construction: 0.0%\n",
        "activity: Computers: 0.0%\n",
        "activity: Cobbler: 0.0%\n",
        "use: juice: 0.0%\n",
        "activity: Clothing: 0.0%\n",
        "activity: Child Care: 0.0%\n",
        "activity: Cheese Making: 0.0%\n",
        "activity: Charcoal Sales: 0.0%\n",
        "activity: Fuel/Firewood: 0.0%\n",
        "activity: Furniture Making: 0.0%\n",
        "activity: Games: 0.0%\n",
        "use: engine: 0.0%\n",
        "activity: Musical Performance: 0.0%\n",
        "activity: Musical Instruments: 0.0%\n",
        "activity: Music Discs & Tapes: 0.0%\n",
        "activity: Movie Tapes & DVDs: 0.0%\n",
        "activity: Motorcycle Transport: 0.0%\n",
        "activity: Motorcycle Repair: 0.0%\n",
        "activity: Mobile Phones: 0.0%\n",
        "activity: Milk Sales: 0.0%\n",
        "activity: Metal Shop: 0.0%\n",
        "activity: Medical Clinic: 0.0%\n",
        "activity: Manufacturing: 0.0%\n",
        "activity: Machinery Rental: 0.0%\n",
        "activity: Machine Shop: 0.0%\n",
        "use: hair: 0.0%\n",
        "activity: Liquor Store / Off-License: 0.0%\n",
        "activity: Laundry: 0.0%\n",
        "activity: Land Rental: 0.0%\n",
        "activity: Knitting: 0.0%\n",
        "activity: Jewelry: 0.0%\n",
        "activity: Internet Cafe: 0.0%\n",
        "activity: Hotel: 0.0%\n",
        "use: etc.: 0.0%\n",
        "use: herbicide: 0.0%\n",
        "use: home: 0.0%\n",
        "use: husband: 0.0%\n",
        "activity: Health: 0.0%\n",
        "activity: Hardware: 0.0%\n",
        "use: cassava: 0.0%\n",
        "activity: Goods Distribution: 0.0%\n",
        "use: work: 0.0%\n"
       ]
      }
     ],
     "prompt_number": 43
    },
    {
     "cell_type": "code",
     "collapsed": false,
     "input": [
      "from nltk import WordNetLemmatizer"
     ],
     "language": "python",
     "metadata": {},
     "outputs": [],
     "prompt_number": 14
    },
    {
     "cell_type": "code",
     "collapsed": false,
     "input": [
      "reload(model)\n",
      "mod = model.funding_model()\n",
      "mod.transform_fit(months[9])"
     ],
     "language": "python",
     "metadata": {},
     "outputs": [
      {
       "output_type": "stream",
       "stream": "stdout",
       "text": [
        "[ 1.  1.  1. ...,  1.  1.  1.]\n"
       ]
      }
     ],
     "prompt_number": 37
    },
    {
     "cell_type": "code",
     "collapsed": false,
     "input": [
      "mod.feat_imp()"
     ],
     "language": "python",
     "metadata": {},
     "outputs": [
      {
       "output_type": "stream",
       "stream": "stdout",
       "text": [
        "loan_amount: 17.29%\n",
        "monthly: 14.33%\n",
        "gender: 8.2%\n",
        "repayment_term: 7.71%\n",
        "irregular_payments: 7.6%\n",
        "country: SV: 5.25%\n",
        "country: PH: 2.85%\n",
        "country: UG: 2.5%\n",
        "sector: Housing: 2.43%\n",
        "dollars: 1.97%\n",
        "theme: Underfunded Areas: 1.52%\n",
        "activity: Personal Housing Expenses: 1.31%\n",
        "country: CO: 1.3%\n",
        "sector: Education: 1.21%\n",
        "country: US: 1.19%\n",
        "use: cement: 1.1%\n",
        "country: KH: 1.0%\n",
        "pay_at_end: 0.86%\n",
        "sector: Retail: 0.79%\n",
        "activity: Personal Purchases: 0.67%\n",
        "group_size: 0.56%\n",
        "use: buy: 0.56%\n",
        "activity: General Store: 0.54%\n",
        "use: fee: 0.51%\n",
        "use: beer: 0.49%\n",
        "use: pay: 0.47%\n",
        "use: purchase: 0.44%\n",
        "theme: none: 0.43%\n",
        "theme: Conflict Zones: 0.43%\n",
        "activity: Higher education costs: 0.41%\n",
        "use: good: 0.41%\n",
        "use: store: 0.39%\n",
        "sector: Food: 0.35%\n",
        "activity: Pigs: 0.35%\n",
        "activity: Clothing Sales: 0.33%\n",
        "use: order: 0.33%\n",
        "use: salt: 0.33%\n",
        "activity: Services: 0.3%\n",
        "country: KE: 0.28%\n",
        "bonus_credit_eligibility: 0.28%\n",
        "use: additional: 0.27%\n",
        "country: AM: 0.27%\n",
        "use: soda: 0.26%\n",
        "country: EC: 0.25%\n",
        "theme: Innovative Loans: 0.24%\n",
        "country: RW: 0.24%\n",
        "use: motorcycle: 0.24%\n",
        "country: PS: 0.23%\n",
        "use: sand: 0.22%\n",
        "country: KG: 0.22%\n",
        "use: brick: 0.21%\n",
        "use: food: 0.2%\n",
        "activity: Retail: 0.2%\n",
        "use: increase: 0.2%\n",
        "theme: Water and Sanitation: 0.19%\n",
        "theme: Youth: 0.18%\n",
        "use: metal: 0.18%\n",
        "sector: Personal Use: 0.18%\n",
        "use: fertilizer: 0.17%\n",
        "use: livestock: 0.17%\n",
        "use: sugar: 0.16%\n",
        "use: clothes: 0.16%\n",
        "use: sell: 0.15%\n",
        "use: house: 0.15%\n",
        "country: PE: 0.14%\n",
        "use: canned: 0.13%\n",
        "use: shop: 0.12%\n",
        "use: labor: 0.12%\n",
        "use: supply: 0.12%\n",
        "use: gravel: 0.11%\n",
        "use: product: 0.11%\n",
        "country: JO: 0.11%\n",
        "use: water: 0.11%\n",
        "use: tuition: 0.11%\n",
        "use: stock: 0.1%\n",
        "use: dairy: 0.1%\n",
        "use: invest: 0.1%\n",
        "use: material: 0.1%\n",
        "sector: Arts: 0.09%\n",
        "country: WS: 0.09%\n",
        "use: expand: 0.09%\n",
        "use: soft: 0.09%\n",
        "use: oil: 0.09%\n",
        "use: build: 0.09%\n",
        "use: home: 0.09%\n",
        "sector: Agriculture: 0.09%\n",
        "use: detergent: 0.08%\n",
        "sector: Services: 0.08%\n",
        "theme: Rural Exclusion: 0.08%\n",
        "use: soap: 0.08%\n",
        "use: basic: 0.08%\n",
        "use: drink: 0.07%\n",
        "activity: Farming: 0.07%\n",
        "sector: Clothing: 0.07%\n",
        "use: clothing: 0.07%\n",
        "theme: Vulnerable Groups: 0.07%\n",
        "use: improve: 0.07%\n",
        "use: farm: 0.07%\n",
        "use: child: 0.07%\n",
        "use: university: 0.07%\n",
        "sector: Health: 0.07%\n",
        "use: electricity: 0.07%\n",
        "activity: Spare Parts: 0.06%\n",
        "use: repair: 0.06%\n",
        "country: NI: 0.06%\n",
        "use: seed: 0.06%\n",
        "use: flour: 0.06%\n",
        "activity: Livestock: 0.06%\n",
        "use: snack: 0.06%\n",
        "country: VN: 0.06%\n",
        "use: upcoming: 0.06%\n",
        "use: accessory: 0.06%\n",
        "activity: Food Market: 0.06%\n",
        "use: feed: 0.06%\n",
        "activity: Sewing: 0.06%\n",
        "sector: Construction: 0.06%\n",
        "country: TL: 0.05%\n",
        "use: rice: 0.05%\n",
        "use: fish: 0.05%\n",
        "use: resale: 0.05%\n",
        "country: GT: 0.05%\n",
        "use: solar: 0.04%\n",
        "country: PK: 0.04%\n",
        "use: corn: 0.04%\n",
        "theme: Fair Trade: 0.04%\n",
        "use: chair: 0.04%\n",
        "use: coffee: 0.04%\n",
        "use: crop: 0.04%\n",
        "activity: Dairy: 0.04%\n",
        "use: wholesale: 0.04%\n",
        "activity: Cattle: 0.03%\n",
        "theme: Green: 0.03%\n",
        "country: HT: 0.03%\n",
        "use: cattle: 0.03%\n",
        "use: cost: 0.03%\n",
        "use: restock: 0.03%\n",
        "use: business: 0.03%\n",
        "activity: Beauty Salon: 0.03%\n",
        "use: cow: 0.03%\n",
        "use: merchandise: 0.02%\n",
        "use: inventory: 0.02%\n",
        "use: sewing: 0.02%\n",
        "theme: Islamic Finance: 0.02%\n",
        "use: cosmetic: 0.02%\n",
        "country: MN: 0.02%\n",
        "use: grain: 0.02%\n",
        "sector: Transportation: 0.02%\n",
        "activity: Home Energy: 0.02%\n",
        "use: vitamin: 0.02%\n",
        "use: toiletry: 0.02%\n",
        "use: egg: 0.02%\n",
        "use: selling: 0.02%\n",
        "activity: Home Appliances: 0.02%\n",
        "use: provide: 0.02%\n",
        "use: start: 0.01%\n",
        "use: general: 0.01%\n",
        "country: CD: 0.01%\n",
        "use: machine: 0.01%\n",
        "use: item: 0.01%\n",
        "use: ): 0.01%\n",
        "use: production: 0.01%\n",
        "theme: Disaster recovery: 0.01%\n",
        "country: BO: 0.01%\n",
        "activity: Crafts: 0.01%\n",
        "use: cover: 0.01%\n",
        "use: (: 0.01%\n",
        "activity: Food Production/Sales: 0.01%\n",
        "country: TJ: 0.01%\n",
        "activity: Poultry: 0.01%\n",
        "activity: Personal Products Sales: 0.01%\n",
        "activity: Motorcycle Transport: 0.01%\n",
        "use: construction: 0.01%\n",
        "use: family: 0.01%\n",
        "use: new: 0.01%\n",
        "use: beauty: 0.01%\n",
        "use: chicken: 0.01%\n",
        "activity: Agriculture: 0.01%\n",
        "use: meat: 0.01%\n",
        "use: fishing: 0.0%\n",
        "use: bread: 0.0%\n",
        "use: vegetable: 0.0%\n",
        "use: grocery: 0.0%\n",
        "activity: Charcoal Sales: 0.0%\n",
        "use: work: 0.0%\n",
        "use: ingredient: 0.0%\n",
        "use: like: 0.0%\n",
        "activity: Fruits & Vegetables: 0.0%\n",
        "use: customer: 0.0%\n",
        "country: LA: 0.0%\n",
        "country: TZ: 0.0%\n",
        "use: charcoal: 0.0%\n",
        "activity: Fishing: 0.0%\n",
        "use: cooking: 0.0%\n",
        "use: pesticide: 0.0%\n",
        "use: meet: 0.0%\n",
        "country: ML: 0.0%\n",
        "use: maize: 0.0%\n",
        "use: net: 0.0%\n",
        "use: sack: 0.0%\n",
        "use: sheep: 0.0%\n",
        "country: GH: 0.0%\n",
        "country: SL: 0.0%\n",
        "use: spare: 0.0%\n",
        "country: QS: 0.0%\n",
        "country: PY: 0.0%\n",
        "use: filter: 0.0%\n",
        "use: firewood: 0.0%\n",
        "use: fruit: 0.0%\n",
        "use: goat: 0.0%\n",
        "country: NP: 0.0%\n",
        "use: seedling: 0.0%\n",
        "country: NG: 0.0%\n",
        "country: MZ: 0.0%\n",
        "country: MX: 0.0%\n",
        "country: MW: 0.0%\n",
        "use: hair: 0.0%\n",
        "use: herbicide: 0.0%\n",
        "country: LR: 0.0%\n",
        "country: LB: 0.0%\n",
        "use: husband: 0.0%\n",
        "use: including: 0.0%\n",
        "use: income: 0.0%\n",
        "use: support: 0.0%\n",
        "use: input: 0.0%\n",
        "country: IQ: 0.0%\n",
        "country: IN: 0.0%\n",
        "country: IL: 0.0%\n",
        "country: ID: 0.0%\n",
        "use: iron: 0.0%\n",
        "country: HN: 0.0%\n",
        "country: SN: 0.0%\n",
        "country: SR: 0.0%\n",
        "use: son: 0.0%\n",
        "use: drinking: 0.0%\n",
        "activity: Bookstore: 0.0%\n",
        "activity: Bookbinding: 0.0%\n",
        "activity: Blacksmith: 0.0%\n",
        "activity: Bicycle Sales: 0.0%\n",
        "activity: Bicycle Repair: 0.0%\n",
        "use: daughter: 0.0%\n",
        "activity: Barber Shop: 0.0%\n",
        "activity: Balut-Making: 0.0%\n",
        "activity: Bakery: 0.0%\n",
        "activity: Auto Repair: 0.0%\n",
        "activity: Arts: 0.0%\n",
        "activity: Animal Sales: 0.0%\n",
        "activity: Air Conditioning: 0.0%\n",
        "country: ZW: 0.0%\n",
        "country: TG: 0.0%\n",
        "country: ZM: 0.0%\n",
        "country: YE: 0.0%\n",
        "country: XK: 0.0%\n",
        "use: engine: 0.0%\n",
        "use: equipment: 0.0%\n",
        "use: etc.: 0.0%\n",
        "use: expense: 0.0%\n",
        "country: UA: 0.0%\n",
        "use: fabric: 0.0%\n",
        "country: TR: 0.0%\n",
        "use: farming: 0.0%\n",
        "use: farmland: 0.0%\n",
        "country: TH: 0.0%\n",
        "use: juice: 0.0%\n",
        "country: GE: 0.0%\n",
        "activity: Butcher Shop: 0.0%\n",
        "use: sweet: 0.0%\n",
        "use: sale: 0.0%\n",
        "use: pig: 0.0%\n",
        "use: urgent: 0.0%\n",
        "theme: Start-Up: 0.0%\n",
        "theme: SME: 0.0%\n",
        "use: piglet: 0.0%\n",
        "theme: Mobile Technology: 0.0%\n",
        "theme: Kiva City LA: 0.0%\n",
        "theme: Kiva City Detroit: 0.0%\n",
        "theme: Job Creation: 0.0%\n",
        "use: potato: 0.0%\n",
        "use: use: 0.0%\n",
        "theme: Higher Education: 0.0%\n",
        "theme: Health: 0.0%\n",
        "theme: Growing Businesses: 0.0%\n",
        "use: poultry: 0.0%\n",
        "theme: Flexible Credit Study: 0.0%\n",
        "use: price: 0.0%\n",
        "use: safe: 0.0%\n",
        "use: variety: 0.0%\n",
        "theme: Arab Youth: 0.0%\n",
        "use: various: 0.0%\n",
        "use: raise: 0.0%\n",
        "use: raw: 0.0%\n",
        "use: wall: 0.0%\n",
        "use: resell: 0.0%\n",
        "use: wheat: 0.0%\n",
        "use: roof: 0.0%\n",
        "currency_loss: 0.0%\n",
        "use: paint: 0.0%\n",
        "use: school: 0.0%\n",
        "use: onion: 0.0%\n",
        "country: AL: 0.0%\n",
        "country: DO: 0.0%\n",
        "country: CR: 0.0%\n",
        "use: thing: 0.0%\n",
        "country: CM: 0.0%\n",
        "country: CG: 0.0%\n",
        "use: land: 0.0%\n",
        "country: BZ: 0.0%\n",
        "country: BR: 0.0%\n",
        "use: large: 0.0%\n",
        "country: BI: 0.0%\n",
        "country: BF: 0.0%\n",
        "country: AZ: 0.0%\n",
        "use: thread: 0.0%\n",
        "sector: Wholesale: 0.0%\n",
        "use: noodle: 0.0%\n",
        "use: loan: 0.0%\n",
        "use: maintenance: 0.0%\n",
        "use: make: 0.0%\n",
        "use: making: 0.0%\n",
        "sector: Manufacturing: 0.0%\n",
        "use: tomato: 0.0%\n",
        "use: manure: 0.0%\n",
        "use: tool: 0.0%\n",
        "sector: Entertainment: 0.0%\n",
        "use: medicine: 0.0%\n",
        "use: milk: 0.0%\n",
        "use: nail: 0.0%\n",
        "use: needed: 0.0%\n",
        "activity: Bricks: 0.0%\n",
        "activity: Cafe: 0.0%\n",
        "activity: Wholesale: 0.0%\n",
        "activity: Milk Sales: 0.0%\n",
        "activity: Recycled Materials: 0.0%\n",
        "activity: Quarrying: 0.0%\n",
        "activity: Pub: 0.0%\n",
        "activity: Property: 0.0%\n",
        "activity: Printing: 0.0%\n",
        "activity: Primary/secondary school costs: 0.0%\n",
        "use: bag: 0.0%\n",
        "activity: Plastics Sales: 0.0%\n",
        "use: sheeting: 0.0%\n",
        "activity: Photography: 0.0%\n",
        "activity: Phone Use Sales: 0.0%\n",
        "activity: Phone Repair: 0.0%\n",
        "activity: Phone Accessories: 0.0%\n",
        "activity: Pharmacy: 0.0%\n",
        "use: shirt: 0.0%\n",
        "use: banana: 0.0%\n",
        "activity: Personal Medical Expenses: 0.0%\n",
        "use: shoe: 0.0%\n",
        "activity: Perfumes: 0.0%\n",
        "activity: Party Supplies: 0.0%\n",
        "activity: Paper Sales: 0.0%\n",
        "activity: Office Supplies: 0.0%\n",
        "use: room: 0.0%\n",
        "activity: Musical Performance: 0.0%\n",
        "activity: Musical Instruments: 0.0%\n",
        "activity: Music Discs & Tapes: 0.0%\n",
        "activity: Movie Tapes & DVDs: 0.0%\n",
        "use: bean: 0.0%\n",
        "activity: Motorcycle Repair: 0.0%\n",
        "activity: Recycling: 0.0%\n",
        "activity: Renewable Energy Products: 0.0%\n",
        "activity: Restaurant: 0.0%\n",
        "activity: Transportation: 0.0%\n",
        "activity: Well digging: 0.0%\n",
        "activity: Wedding Expenses: 0.0%\n",
        "activity: Weaving: 0.0%\n",
        "activity: Water Distribution: 0.0%\n",
        "activity: Waste Management: 0.0%\n",
        "activity: Veterinary Sales: 0.0%\n",
        "activity: Vehicle Repairs: 0.0%\n",
        "activity: Vehicle: 0.0%\n",
        "activity: Utilities: 0.0%\n",
        "activity: Used Shoes: 0.0%\n",
        "activity: Used Clothing: 0.0%\n",
        "activity: Upholstery: 0.0%\n",
        "activity: Traveling Sales: 0.0%\n",
        "activity: Tourism: 0.0%\n",
        "use: wood: 0.0%\n",
        "activity: Timber Sales: 0.0%\n",
        "activity: Textiles: 0.0%\n",
        "activity: Taxi: 0.0%\n",
        "activity: Tailoring: 0.0%\n",
        "activity: Sporting Good Sales: 0.0%\n",
        "use: agricultural: 0.0%\n",
        "activity: Souvenir Sales: 0.0%\n",
        "activity: Soft Drinks: 0.0%\n",
        "activity: Shoe Sales: 0.0%\n",
        "use: animal: 0.0%\n",
        "use: sheet: 0.0%\n",
        "activity: Secretarial Services: 0.0%\n",
        "activity: Rickshaw: 0.0%\n",
        "activity: Mobile Phones: 0.0%\n",
        "activity: Metal Shop: 0.0%\n",
        "activity: Carpentry: 0.0%\n",
        "activity: Medical Clinic: 0.0%\n",
        "use: candy: 0.0%\n",
        "activity: Farm Supplies: 0.0%\n",
        "activity: Entertainment: 0.0%\n",
        "activity: Embroidery: 0.0%\n",
        "activity: Electronics Sales: 0.0%\n",
        "activity: Electronics Repair: 0.0%\n",
        "activity: Electrician: 0.0%\n",
        "activity: Electrical Goods: 0.0%\n",
        "activity: Education provider: 0.0%\n",
        "activity: Dental: 0.0%\n",
        "activity: Decorations Sales: 0.0%\n",
        "use: cassava: 0.0%\n",
        "use: semester: 0.0%\n",
        "activity: Cosmetics Sales: 0.0%\n",
        "activity: Consumer Goods: 0.0%\n",
        "activity: Construction Supplies: 0.0%\n",
        "activity: Construction: 0.0%\n",
        "activity: Computers: 0.0%\n",
        "activity: Cobbler: 0.0%\n",
        "use: chemical: 0.0%\n",
        "activity: Clothing: 0.0%\n",
        "activity: Cloth & Dressmaking Supplies: 0.0%\n",
        "activity: Child Care: 0.0%\n",
        "activity: Cheese Making: 0.0%\n",
        "use: cloth: 0.0%\n",
        "activity: Cereals: 0.0%\n",
        "activity: Cement: 0.0%\n",
        "use: cream: 0.0%\n",
        "activity: Catering: 0.0%\n",
        "activity: Film: 0.0%\n",
        "activity: Fish Selling: 0.0%\n",
        "use: service: 0.0%\n",
        "use: biscuit: 0.0%\n",
        "activity: Manufacturing: 0.0%\n",
        "activity: Machinery Rental: 0.0%\n",
        "activity: Machine Shop: 0.0%\n",
        "use: shampoo: 0.0%\n",
        "activity: Liquor Store / Off-License: 0.0%\n",
        "activity: Laundry: 0.0%\n",
        "activity: Land Rental: 0.0%\n",
        "activity: Knitting: 0.0%\n",
        "activity: Jewelry: 0.0%\n",
        "activity: Internet Cafe: 0.0%\n",
        "activity: Hotel: 0.0%\n",
        "activity: Home Products Sales: 0.0%\n",
        "use: beverage: 0.0%\n",
        "use: blouse: 0.0%\n",
        "activity: Flowers: 0.0%\n",
        "activity: Health: 0.0%\n",
        "activity: Hardware: 0.0%\n",
        "activity: Grocery Store: 0.0%\n",
        "activity: Goods Distribution: 0.0%\n",
        "use: boat: 0.0%\n",
        "activity: Games: 0.0%\n",
        "activity: Furniture Making: 0.0%\n",
        "activity: Fuel/Firewood: 0.0%\n",
        "use: box: 0.0%\n",
        "activity: Food Stall: 0.0%\n",
        "use: building: 0.0%\n",
        "use: bulk: 0.0%\n",
        "activity: Food: 0.0%\n",
        "activity: Natural Medicines: 0.0%\n"
       ]
      }
     ],
     "prompt_number": 38
    },
    {
     "cell_type": "code",
     "collapsed": false,
     "input": [
      "['bla: ' + x for x in months[1].columns]"
     ],
     "language": "python",
     "metadata": {},
     "outputs": [
      {
       "metadata": {},
       "output_type": "pyout",
       "prompt_number": 26,
       "text": [
        "[u'bla: activity',\n",
        " u'bla: bonus_credit_eligibility',\n",
        " u'bla: country',\n",
        " u'bla: currency_loss',\n",
        " u'bla: dollars',\n",
        " u'bla: expired',\n",
        " u'bla: gender',\n",
        " u'bla: group_size',\n",
        " u'bla: irregular_payments',\n",
        " u'bla: loan_amount',\n",
        " u'bla: pay_at_end',\n",
        " u'bla: posted_date',\n",
        " u'bla: repayment_term',\n",
        " u'bla: sector',\n",
        " u'bla: tags',\n",
        " u'bla: themes',\n",
        " u'bla: use']"
       ]
      }
     ],
     "prompt_number": 26
    },
    {
     "cell_type": "code",
     "collapsed": false,
     "input": [
      "type(df.columns)"
     ],
     "language": "python",
     "metadata": {},
     "outputs": [
      {
       "metadata": {},
       "output_type": "pyout",
       "prompt_number": 28,
       "text": [
        "pandas.core.index.Index"
       ]
      }
     ],
     "prompt_number": 28
    },
    {
     "cell_type": "code",
     "collapsed": false,
     "input": [
      "mod.predict(months[10])"
     ],
     "language": "python",
     "metadata": {},
     "outputs": [
      {
       "output_type": "stream",
       "stream": "stdout",
       "text": [
        "<class 'pandas.core.frame.DataFrame'>\n",
        "Float64Index: 8309 entries, 777202.0 to 797987.0\n",
        "Columns: 200 entries, use: ( to use: work\n",
        "dtypes: float64(200)None\n",
        "6"
       ]
      },
      {
       "output_type": "stream",
       "stream": "stdout",
       "text": [
        "\n",
        "actl pos:"
       ]
      },
      {
       "output_type": "stream",
       "stream": "stdout",
       "text": [
        " 0.1405 pred pos: 0.1113\n",
        "true pos: 0.0655 false pos: 0.0459\n",
        "true neg: 0.8137 false neg: 0.075\n",
        "recall: 0.4662 precision: 0.5881\n",
        "\n"
       ]
      }
     ],
     "prompt_number": 44
    },
    {
     "cell_type": "code",
     "collapsed": false,
     "input": [],
     "language": "python",
     "metadata": {},
     "outputs": []
    }
   ],
   "metadata": {}
  }
 ]
}