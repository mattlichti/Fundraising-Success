{
 "metadata": {
  "name": "",
  "signature": "sha256:871be189ab4f712d557eb44919b1d7477113bb0f787ef54b28d40d3164d5b522"
 },
 "nbformat": 3,
 "nbformat_minor": 0,
 "worksheets": [
  {
   "cells": [
    {
     "cell_type": "code",
     "collapsed": false,
     "input": [
      "import clean\n",
      "import pandas as pd\n",
      "import json\n",
      "import glob\n",
      "import os\n",
      "import matplotlib.pyplot as plt\n",
      "%matplotlib inline"
     ],
     "language": "python",
     "metadata": {},
     "outputs": [],
     "prompt_number": 97
    },
    {
     "cell_type": "code",
     "collapsed": false,
     "input": [
      "f = open('1050.json')\n",
      "dic = json.loads(f.read())\n",
      "f.close()\n",
      "aa = pd.read_json(dic)"
     ],
     "language": "python",
     "metadata": {},
     "outputs": [],
     "prompt_number": 37
    },
    {
     "cell_type": "code",
     "collapsed": false,
     "input": [
      "f = open('790s.json')\n",
      "dic = json.loads(f.read())\n",
      "f.close()\n",
      "cc = pd.read_json(dic)"
     ],
     "language": "python",
     "metadata": {},
     "outputs": [],
     "prompt_number": 46
    },
    {
     "cell_type": "code",
     "collapsed": false,
     "input": [
      "def load_cleaned(lst):\n",
      "    dfs = []\n",
      "    for jsn in lst:\n",
      "        f = open(jsn + '.json')\n",
      "        dic = json.loads(f.read())\n",
      "        f.close()\n",
      "        df = pd.read_json(dic)\n",
      "        dfs.append(df)\n",
      "    return pd.concat(dfs,axis=0)"
     ],
     "language": "python",
     "metadata": {},
     "outputs": [],
     "prompt_number": 53
    },
    {
     "cell_type": "code",
     "collapsed": false,
     "input": [
      "dddf = load_cleaned(['1050', '790s'])"
     ],
     "language": "python",
     "metadata": {},
     "outputs": [],
     "prompt_number": 54
    },
    {
     "cell_type": "code",
     "collapsed": false,
     "input": [
      "dddf.info()"
     ],
     "language": "python",
     "metadata": {},
     "outputs": [
      {
       "output_type": "stream",
       "stream": "stdout",
       "text": [
        "<class 'pandas.core.frame.DataFrame'>\n",
        "Float64Index: 6000 entries, 0.0 to 999.0\n",
        "Data columns (total 21 columns):\n",
        "activity                    6000 non-null object\n",
        "bonus_credit_eligibility    6000 non-null bool\n",
        "country                     6000 non-null object\n",
        "currency_loss               6000 non-null object\n",
        "description                 6000 non-null object\n",
        "gender                      6000 non-null object\n",
        "group_size                  6000 non-null int64\n",
        "id                          6000 non-null int64\n",
        "image                       6000 non-null object\n",
        "loan_amount                 6000 non-null int64\n",
        "name                        6000 non-null object\n",
        "partner_id                  6000 non-null int64\n",
        "planned_expiration_date     6000 non-null int64\n",
        "posted_date                 6000 non-null int64\n",
        "repayment_interval          6000 non-null object\n",
        "repayment_term              6000 non-null int64\n",
        "sector                      6000 non-null object\n",
        "status                      6000 non-null object\n",
        "tags                        6000 non-null object\n",
        "theme                       648 non-null object\n",
        "use                         6000 non-null object\n",
        "dtypes: bool(1), int64(7), object(13)\n",
        "memory usage: 990.2+ KB\n"
       ]
      }
     ],
     "prompt_number": 55
    },
    {
     "cell_type": "code",
     "collapsed": false,
     "input": [
      "bigdf = load_cleaned(['790s','800s','900s','1000s'])"
     ],
     "language": "python",
     "metadata": {},
     "outputs": [],
     "prompt_number": 56
    },
    {
     "cell_type": "code",
     "collapsed": false,
     "input": [
      "reload(clean)"
     ],
     "language": "python",
     "metadata": {},
     "outputs": [
      {
       "metadata": {},
       "output_type": "pyout",
       "prompt_number": 67,
       "text": [
        "<module 'clean' from '/Users/datascientist/matt/Fundraising-Success/clean.pyc'>"
       ]
      }
     ],
     "prompt_number": 67
    },
    {
     "cell_type": "code",
     "collapsed": false,
     "input": [
      "bdf = clean.load_cleaned(['800s','900s','1000s','1100s','1200s','1300s','1400s'])"
     ],
     "language": "python",
     "metadata": {},
     "outputs": [],
     "prompt_number": 68
    },
    {
     "cell_type": "code",
     "collapsed": false,
     "input": [
      "bdf.info()"
     ],
     "language": "python",
     "metadata": {},
     "outputs": [
      {
       "output_type": "stream",
       "stream": "stdout",
       "text": [
        "<class 'pandas.core.frame.DataFrame'>\n",
        "Float64Index: 350000 entries, 0.0 to 9999.0\n",
        "Data columns (total 21 columns):\n",
        "activity                    350000 non-null object\n",
        "bonus_credit_eligibility    350000 non-null bool\n",
        "country                     350000 non-null object\n",
        "currency_loss               350000 non-null object\n",
        "description                 349992 non-null object\n",
        "gender                      350000 non-null object\n",
        "group_size                  350000 non-null int64\n",
        "id                          350000 non-null int64\n",
        "image                       350000 non-null object\n",
        "loan_amount                 350000 non-null int64\n",
        "name                        350000 non-null object\n",
        "partner_id                  350000 non-null int64\n",
        "planned_expiration_date     350000 non-null int64\n",
        "posted_date                 350000 non-null int64\n",
        "repayment_interval          350000 non-null object\n",
        "repayment_term              350000 non-null int64\n",
        "sector                      350000 non-null object\n",
        "status                      350000 non-null object\n",
        "tags                        350000 non-null object\n",
        "theme                       94762 non-null object\n",
        "use                         350000 non-null object\n",
        "dtypes: bool(1), int64(7), object(13)\n",
        "memory usage: 56.4+ MB\n"
       ]
      }
     ],
     "prompt_number": 69
    },
    {
     "cell_type": "code",
     "collapsed": false,
     "input": [
      "bdf[bdf.description.isnull()]"
     ],
     "language": "python",
     "metadata": {},
     "outputs": [
      {
       "html": [
        "<div style=\"max-height:1000px;max-width:1500px;overflow:auto;\">\n",
        "<table border=\"1\" class=\"dataframe\">\n",
        "  <thead>\n",
        "    <tr style=\"text-align: right;\">\n",
        "      <th></th>\n",
        "      <th>activity</th>\n",
        "      <th>bonus_credit_eligibility</th>\n",
        "      <th>country</th>\n",
        "      <th>currency_loss</th>\n",
        "      <th>description</th>\n",
        "      <th>gender</th>\n",
        "      <th>group_size</th>\n",
        "      <th>id</th>\n",
        "      <th>image</th>\n",
        "      <th>loan_amount</th>\n",
        "      <th>...</th>\n",
        "      <th>partner_id</th>\n",
        "      <th>planned_expiration_date</th>\n",
        "      <th>posted_date</th>\n",
        "      <th>repayment_interval</th>\n",
        "      <th>repayment_term</th>\n",
        "      <th>sector</th>\n",
        "      <th>status</th>\n",
        "      <th>tags</th>\n",
        "      <th>theme</th>\n",
        "      <th>use</th>\n",
        "    </tr>\n",
        "  </thead>\n",
        "  <tbody>\n",
        "    <tr>\n",
        "      <th>25703</th>\n",
        "      <td> Higher education costs</td>\n",
        "      <td> False</td>\n",
        "      <td> BO</td>\n",
        "      <td>   none</td>\n",
        "      <td> None</td>\n",
        "      <td> F</td>\n",
        "      <td> 1</td>\n",
        "      <td> 570711</td>\n",
        "      <td> {u'id': 1369115, u'template_id': 1}</td>\n",
        "      <td> 1475</td>\n",
        "      <td>...</td>\n",
        "      <td> 264</td>\n",
        "      <td> 1373862003000</td>\n",
        "      <td> 1371270003000</td>\n",
        "      <td> Irregularly</td>\n",
        "      <td> 34</td>\n",
        "      <td>    Education</td>\n",
        "      <td> in_repayment</td>\n",
        "      <td>                     [{u'name': u'user_favorite'}]</td>\n",
        "      <td> Higher Education</td>\n",
        "      <td>              To buy textbooks and school supplies</td>\n",
        "    </tr>\n",
        "    <tr>\n",
        "      <th>25715</th>\n",
        "      <td> Higher education costs</td>\n",
        "      <td> False</td>\n",
        "      <td> BO</td>\n",
        "      <td>   none</td>\n",
        "      <td> None</td>\n",
        "      <td> F</td>\n",
        "      <td> 1</td>\n",
        "      <td> 570710</td>\n",
        "      <td> {u'id': 1369113, u'template_id': 1}</td>\n",
        "      <td>  150</td>\n",
        "      <td>...</td>\n",
        "      <td> 264</td>\n",
        "      <td> 1373862602000</td>\n",
        "      <td> 1371270602000</td>\n",
        "      <td> Irregularly</td>\n",
        "      <td> 15</td>\n",
        "      <td>    Education</td>\n",
        "      <td>         paid</td>\n",
        "      <td>                                                []</td>\n",
        "      <td> Higher Education</td>\n",
        "      <td>                                To pay for tuition</td>\n",
        "    </tr>\n",
        "    <tr>\n",
        "      <th>34970</th>\n",
        "      <td>          General Store</td>\n",
        "      <td> False</td>\n",
        "      <td> NI</td>\n",
        "      <td> shared</td>\n",
        "      <td> None</td>\n",
        "      <td> F</td>\n",
        "      <td> 1</td>\n",
        "      <td> 631258</td>\n",
        "      <td> {u'id': 1468496, u'template_id': 1}</td>\n",
        "      <td>  625</td>\n",
        "      <td>...</td>\n",
        "      <td>  96</td>\n",
        "      <td> 1389586204000</td>\n",
        "      <td> 1384402204000</td>\n",
        "      <td>     Monthly</td>\n",
        "      <td> 15</td>\n",
        "      <td>       Retail</td>\n",
        "      <td>         paid</td>\n",
        "      <td> [{u'name': u'volunteer_pick'}, {u'name': u'use...</td>\n",
        "      <td>             None</td>\n",
        "      <td> to invest in business capital and stock genera...</td>\n",
        "    </tr>\n",
        "    <tr>\n",
        "      <th>44453</th>\n",
        "      <td>  Construction Supplies</td>\n",
        "      <td> False</td>\n",
        "      <td> MX</td>\n",
        "      <td> shared</td>\n",
        "      <td> None</td>\n",
        "      <td> F</td>\n",
        "      <td> 1</td>\n",
        "      <td> 640333</td>\n",
        "      <td> {u'id': 1482214, u'template_id': 1}</td>\n",
        "      <td>  500</td>\n",
        "      <td>...</td>\n",
        "      <td> 301</td>\n",
        "      <td> 1391203203000</td>\n",
        "      <td> 1386019203000</td>\n",
        "      <td>     Monthly</td>\n",
        "      <td>  8</td>\n",
        "      <td> Construction</td>\n",
        "      <td>         paid</td>\n",
        "      <td>                     [{u'name': u'user_favorite'}]</td>\n",
        "      <td>             None</td>\n",
        "      <td> to build a bedroom for her daughters and a pro...</td>\n",
        "    </tr>\n",
        "    <tr>\n",
        "      <th>21421</th>\n",
        "      <td>           Animal Sales</td>\n",
        "      <td>  True</td>\n",
        "      <td> TJ</td>\n",
        "      <td> shared</td>\n",
        "      <td> None</td>\n",
        "      <td> M</td>\n",
        "      <td> 1</td>\n",
        "      <td> 666816</td>\n",
        "      <td> {u'id': 1525834, u'template_id': 1}</td>\n",
        "      <td> 2100</td>\n",
        "      <td>...</td>\n",
        "      <td>  63</td>\n",
        "      <td> 1395446401000</td>\n",
        "      <td> 1392854401000</td>\n",
        "      <td> Irregularly</td>\n",
        "      <td> 14</td>\n",
        "      <td>  Agriculture</td>\n",
        "      <td>         paid</td>\n",
        "      <td>                     [{u'name': u'user_favorite'}]</td>\n",
        "      <td>         Start-Up</td>\n",
        "      <td>          \u0414\u043b\u044f \u043a\u0443\u043f\u043b\u0438 \u0442\u0435\u043b\u044f\u0442 \u0438 \u043d\u0430\u0447\u0430\u043b\u0430 \u043d\u043e\u0432\u043e\u0433\u043e \u0431\u0438\u0437\u043d\u0435\u0441\u0430.</td>\n",
        "    </tr>\n",
        "    <tr>\n",
        "      <th>38784</th>\n",
        "      <td>               Property</td>\n",
        "      <td> False</td>\n",
        "      <td> MX</td>\n",
        "      <td> shared</td>\n",
        "      <td> None</td>\n",
        "      <td> F</td>\n",
        "      <td> 1</td>\n",
        "      <td> 686823</td>\n",
        "      <td> {u'id': 1565153, u'template_id': 1}</td>\n",
        "      <td> 2225</td>\n",
        "      <td>...</td>\n",
        "      <td> 339</td>\n",
        "      <td> 1398028802000</td>\n",
        "      <td> 1395436802000</td>\n",
        "      <td>     Monthly</td>\n",
        "      <td> 61</td>\n",
        "      <td>      Housing</td>\n",
        "      <td> in_repayment</td>\n",
        "      <td> [{u'name': u'user_favorite'}, {u'name': u'#Eld...</td>\n",
        "      <td>             None</td>\n",
        "      <td> to build Luz\u00b4s house by promoting and strength...</td>\n",
        "    </tr>\n",
        "    <tr>\n",
        "      <th>49513</th>\n",
        "      <td>    Fruits &amp; Vegetables</td>\n",
        "      <td>  True</td>\n",
        "      <td> SV</td>\n",
        "      <td>   none</td>\n",
        "      <td> None</td>\n",
        "      <td> F</td>\n",
        "      <td> 1</td>\n",
        "      <td> 693768</td>\n",
        "      <td> {u'id': 1577998, u'template_id': 1}</td>\n",
        "      <td>  225</td>\n",
        "      <td>...</td>\n",
        "      <td> 167</td>\n",
        "      <td> 1400178607000</td>\n",
        "      <td> 1397586607000</td>\n",
        "      <td>     Monthly</td>\n",
        "      <td>  8</td>\n",
        "      <td>         Food</td>\n",
        "      <td>         paid</td>\n",
        "      <td>                                                []</td>\n",
        "      <td>             None</td>\n",
        "      <td> compra de yuca, papas, pepinos, mangos, sandia...</td>\n",
        "    </tr>\n",
        "    <tr>\n",
        "      <th>6140 </th>\n",
        "      <td>            Agriculture</td>\n",
        "      <td> False</td>\n",
        "      <td> PE</td>\n",
        "      <td> shared</td>\n",
        "      <td> None</td>\n",
        "      <td> F</td>\n",
        "      <td> 1</td>\n",
        "      <td> 700833</td>\n",
        "      <td>  {u'id': 726677, u'template_id': 1}</td>\n",
        "      <td>  725</td>\n",
        "      <td>...</td>\n",
        "      <td>  71</td>\n",
        "      <td> 1401481801000</td>\n",
        "      <td> 1398889802000</td>\n",
        "      <td>     Monthly</td>\n",
        "      <td> 10</td>\n",
        "      <td>  Agriculture</td>\n",
        "      <td> in_repayment</td>\n",
        "      <td>                                                []</td>\n",
        "      <td>            Green</td>\n",
        "      <td>     Compra de abono org\u00e1nico y gallinas peque\u00f1as.</td>\n",
        "    </tr>\n",
        "  </tbody>\n",
        "</table>\n",
        "<p>8 rows \u00d7 21 columns</p>\n",
        "</div>"
       ],
       "metadata": {},
       "output_type": "pyout",
       "prompt_number": 70,
       "text": [
        "                     activity bonus_credit_eligibility country currency_loss  \\\n",
        "25703  Higher education costs                    False      BO          none   \n",
        "25715  Higher education costs                    False      BO          none   \n",
        "34970           General Store                    False      NI        shared   \n",
        "44453   Construction Supplies                    False      MX        shared   \n",
        "21421            Animal Sales                     True      TJ        shared   \n",
        "38784                Property                    False      MX        shared   \n",
        "49513     Fruits & Vegetables                     True      SV          none   \n",
        "6140              Agriculture                    False      PE        shared   \n",
        "\n",
        "      description gender  group_size      id  \\\n",
        "25703        None      F           1  570711   \n",
        "25715        None      F           1  570710   \n",
        "34970        None      F           1  631258   \n",
        "44453        None      F           1  640333   \n",
        "21421        None      M           1  666816   \n",
        "38784        None      F           1  686823   \n",
        "49513        None      F           1  693768   \n",
        "6140         None      F           1  700833   \n",
        "\n",
        "                                     image  loan_amount  \\\n",
        "25703  {u'id': 1369115, u'template_id': 1}         1475   \n",
        "25715  {u'id': 1369113, u'template_id': 1}          150   \n",
        "34970  {u'id': 1468496, u'template_id': 1}          625   \n",
        "44453  {u'id': 1482214, u'template_id': 1}          500   \n",
        "21421  {u'id': 1525834, u'template_id': 1}         2100   \n",
        "38784  {u'id': 1565153, u'template_id': 1}         2225   \n",
        "49513  {u'id': 1577998, u'template_id': 1}          225   \n",
        "6140    {u'id': 726677, u'template_id': 1}          725   \n",
        "\n",
        "                             ...                         partner_id  \\\n",
        "25703                        ...                                264   \n",
        "25715                        ...                                264   \n",
        "34970                        ...                                 96   \n",
        "44453                        ...                                301   \n",
        "21421                        ...                                 63   \n",
        "38784                        ...                                339   \n",
        "49513                        ...                                167   \n",
        "6140                         ...                                 71   \n",
        "\n",
        "       planned_expiration_date    posted_date  repayment_interval  \\\n",
        "25703            1373862003000  1371270003000         Irregularly   \n",
        "25715            1373862602000  1371270602000         Irregularly   \n",
        "34970            1389586204000  1384402204000             Monthly   \n",
        "44453            1391203203000  1386019203000             Monthly   \n",
        "21421            1395446401000  1392854401000         Irregularly   \n",
        "38784            1398028802000  1395436802000             Monthly   \n",
        "49513            1400178607000  1397586607000             Monthly   \n",
        "6140             1401481801000  1398889802000             Monthly   \n",
        "\n",
        "      repayment_term        sector        status  \\\n",
        "25703             34     Education  in_repayment   \n",
        "25715             15     Education          paid   \n",
        "34970             15        Retail          paid   \n",
        "44453              8  Construction          paid   \n",
        "21421             14   Agriculture          paid   \n",
        "38784             61       Housing  in_repayment   \n",
        "49513              8          Food          paid   \n",
        "6140              10   Agriculture  in_repayment   \n",
        "\n",
        "                                                    tags             theme  \\\n",
        "25703                      [{u'name': u'user_favorite'}]  Higher Education   \n",
        "25715                                                 []  Higher Education   \n",
        "34970  [{u'name': u'volunteer_pick'}, {u'name': u'use...              None   \n",
        "44453                      [{u'name': u'user_favorite'}]              None   \n",
        "21421                      [{u'name': u'user_favorite'}]          Start-Up   \n",
        "38784  [{u'name': u'user_favorite'}, {u'name': u'#Eld...              None   \n",
        "49513                                                 []              None   \n",
        "6140                                                  []             Green   \n",
        "\n",
        "                                                     use  \n",
        "25703               To buy textbooks and school supplies  \n",
        "25715                                 To pay for tuition  \n",
        "34970  to invest in business capital and stock genera...  \n",
        "44453  to build a bedroom for her daughters and a pro...  \n",
        "21421           \u0414\u043b\u044f \u043a\u0443\u043f\u043b\u0438 \u0442\u0435\u043b\u044f\u0442 \u0438 \u043d\u0430\u0447\u0430\u043b\u0430 \u043d\u043e\u0432\u043e\u0433\u043e \u0431\u0438\u0437\u043d\u0435\u0441\u0430.  \n",
        "38784  to build Luz\u00b4s house by promoting and strength...  \n",
        "49513  compra de yuca, papas, pepinos, mangos, sandia...  \n",
        "6140       Compra de abono org\u00e1nico y gallinas peque\u00f1as.  \n",
        "\n",
        "[8 rows x 21 columns]"
       ]
      }
     ],
     "prompt_number": 70
    },
    {
     "cell_type": "code",
     "collapsed": false,
     "input": [
      "bigdf.info()"
     ],
     "language": "python",
     "metadata": {},
     "outputs": [
      {
       "output_type": "stream",
       "stream": "stdout",
       "text": [
        "<class 'pandas.core.frame.DataFrame'>\n",
        "Float64Index: 155000 entries, 0.0 to 9999.0\n",
        "Data columns (total 21 columns):\n",
        "activity                    155000 non-null object\n",
        "bonus_credit_eligibility    155000 non-null bool\n",
        "country                     155000 non-null object\n",
        "currency_loss               155000 non-null object\n",
        "description                 155000 non-null object\n",
        "gender                      155000 non-null object\n",
        "group_size                  155000 non-null int64\n",
        "id                          155000 non-null int64\n",
        "image                       155000 non-null object\n",
        "loan_amount                 155000 non-null int64\n",
        "name                        155000 non-null object\n",
        "partner_id                  155000 non-null int64\n",
        "planned_expiration_date     155000 non-null int64\n",
        "posted_date                 155000 non-null int64\n",
        "repayment_interval          155000 non-null object\n",
        "repayment_term              155000 non-null int64\n",
        "sector                      155000 non-null object\n",
        "status                      155000 non-null object\n",
        "tags                        155000 non-null object\n",
        "theme                       24044 non-null object\n",
        "use                         155000 non-null object\n",
        "dtypes: bool(1), int64(7), object(13)\n",
        "memory usage: 25.0+ MB\n"
       ]
      }
     ],
     "prompt_number": 57
    },
    {
     "cell_type": "code",
     "collapsed": false,
     "input": [
      "bigdf.planned_expiration_date"
     ],
     "language": "python",
     "metadata": {},
     "outputs": [
      {
       "metadata": {},
       "output_type": "pyout",
       "prompt_number": 58,
       "text": [
        "0       1330910403000\n",
        "1       1330910403000\n",
        "10      1330911604000\n",
        "100     1330960802000\n",
        "1000    1331198403000\n",
        "1001    1331198404000\n",
        "1002    1331199002000\n",
        "1003    1331199003000\n",
        "1004    1331206202000\n",
        "1005    1331206802000\n",
        "1006    1331207403000\n",
        "1007    1331208004000\n",
        "1008    1331208004000\n",
        "1009    1331208004000\n",
        "101     1330960802000\n",
        "...\n",
        "9986    1357451402000\n",
        "9987    1357451402000\n",
        "9988    1357453801000\n",
        "9989    1357456201000\n",
        "999     1355685002000\n",
        "9990    1357457401000\n",
        "9991    1357457402000\n",
        "9992    1357457402000\n",
        "9993    1357457402000\n",
        "9994    1357463401000\n",
        "9995    1357470601000\n",
        "9996    1357470602000\n",
        "9997    1357470603000\n",
        "9998    1357474201000\n",
        "9999    1357474202000\n",
        "Name: planned_expiration_date, Length: 155000, dtype: int64"
       ]
      }
     ],
     "prompt_number": 58
    },
    {
     "cell_type": "code",
     "collapsed": false,
     "input": [
      "bigdf['planned_expiration_date'] =pd.to_datetime(bigdf.planned_expiration_date*1000000)"
     ],
     "language": "python",
     "metadata": {},
     "outputs": [],
     "prompt_number": 63
    },
    {
     "cell_type": "code",
     "collapsed": false,
     "input": [
      "bigdf.info()"
     ],
     "language": "python",
     "metadata": {},
     "outputs": [
      {
       "output_type": "stream",
       "stream": "stdout",
       "text": [
        "<class 'pandas.core.frame.DataFrame'>\n",
        "Float64Index: 155000 entries, 0.0 to 9999.0\n",
        "Data columns (total 22 columns):\n",
        "activity                    155000 non-null object\n",
        "bonus_credit_eligibility    155000 non-null bool\n",
        "country                     155000 non-null object\n",
        "currency_loss               155000 non-null object\n",
        "description                 155000 non-null object\n",
        "gender                      155000 non-null object\n",
        "group_size                  155000 non-null int64\n",
        "id                          155000 non-null int64\n",
        "image                       155000 non-null object\n",
        "loan_amount                 155000 non-null int64\n",
        "name                        155000 non-null object\n",
        "partner_id                  155000 non-null int64\n",
        "planned_expiration_date     155000 non-null datetime64[ns]\n",
        "posted_date                 155000 non-null int64\n",
        "repayment_interval          155000 non-null object\n",
        "repayment_term              155000 non-null int64\n",
        "sector                      155000 non-null object\n",
        "status                      155000 non-null object\n",
        "tags                        155000 non-null object\n",
        "theme                       24044 non-null object\n",
        "use                         155000 non-null object\n",
        "planned_expiration          155000 non-null datetime64[ns]\n",
        "dtypes: bool(1), datetime64[ns](2), int64(6), object(13)\n",
        "memory usage: 26.2+ MB\n"
       ]
      }
     ],
     "prompt_number": 64
    },
    {
     "cell_type": "code",
     "collapsed": false,
     "input": [
      "bdf.groupby('status').count()"
     ],
     "language": "python",
     "metadata": {},
     "outputs": [
      {
       "html": [
        "<div style=\"max-height:1000px;max-width:1500px;overflow:auto;\">\n",
        "<table border=\"1\" class=\"dataframe\">\n",
        "  <thead>\n",
        "    <tr style=\"text-align: right;\">\n",
        "      <th></th>\n",
        "      <th>activity</th>\n",
        "      <th>bonus_credit_eligibility</th>\n",
        "      <th>country</th>\n",
        "      <th>currency_loss</th>\n",
        "      <th>description</th>\n",
        "      <th>gender</th>\n",
        "      <th>group_size</th>\n",
        "      <th>id</th>\n",
        "      <th>image</th>\n",
        "      <th>loan_amount</th>\n",
        "      <th>name</th>\n",
        "      <th>partner_id</th>\n",
        "      <th>planned_expiration_date</th>\n",
        "      <th>posted_date</th>\n",
        "      <th>repayment_interval</th>\n",
        "      <th>repayment_term</th>\n",
        "      <th>sector</th>\n",
        "      <th>tags</th>\n",
        "      <th>theme</th>\n",
        "      <th>use</th>\n",
        "    </tr>\n",
        "    <tr>\n",
        "      <th>status</th>\n",
        "      <th></th>\n",
        "      <th></th>\n",
        "      <th></th>\n",
        "      <th></th>\n",
        "      <th></th>\n",
        "      <th></th>\n",
        "      <th></th>\n",
        "      <th></th>\n",
        "      <th></th>\n",
        "      <th></th>\n",
        "      <th></th>\n",
        "      <th></th>\n",
        "      <th></th>\n",
        "      <th></th>\n",
        "      <th></th>\n",
        "      <th></th>\n",
        "      <th></th>\n",
        "      <th></th>\n",
        "      <th></th>\n",
        "      <th></th>\n",
        "    </tr>\n",
        "  </thead>\n",
        "  <tbody>\n",
        "    <tr>\n",
        "      <th>defaulted</th>\n",
        "      <td>   6659</td>\n",
        "      <td>   6659</td>\n",
        "      <td>   6659</td>\n",
        "      <td>   6659</td>\n",
        "      <td>   6659</td>\n",
        "      <td>   6659</td>\n",
        "      <td>   6659</td>\n",
        "      <td>   6659</td>\n",
        "      <td>   6659</td>\n",
        "      <td>   6659</td>\n",
        "      <td>   6659</td>\n",
        "      <td>   6659</td>\n",
        "      <td>   6659</td>\n",
        "      <td>   6659</td>\n",
        "      <td>   6659</td>\n",
        "      <td>   6659</td>\n",
        "      <td>   6659</td>\n",
        "      <td>   6659</td>\n",
        "      <td>   6659</td>\n",
        "      <td>   6659</td>\n",
        "    </tr>\n",
        "    <tr>\n",
        "      <th>expired</th>\n",
        "      <td>  13871</td>\n",
        "      <td>  13871</td>\n",
        "      <td>  13871</td>\n",
        "      <td>  13871</td>\n",
        "      <td>  13871</td>\n",
        "      <td>  13871</td>\n",
        "      <td>  13871</td>\n",
        "      <td>  13871</td>\n",
        "      <td>  13871</td>\n",
        "      <td>  13871</td>\n",
        "      <td>  13871</td>\n",
        "      <td>  13871</td>\n",
        "      <td>  13871</td>\n",
        "      <td>  13871</td>\n",
        "      <td>  13871</td>\n",
        "      <td>  13871</td>\n",
        "      <td>  13871</td>\n",
        "      <td>  13871</td>\n",
        "      <td>  13871</td>\n",
        "      <td>  13871</td>\n",
        "    </tr>\n",
        "    <tr>\n",
        "      <th>in_repayment</th>\n",
        "      <td>  79066</td>\n",
        "      <td>  79066</td>\n",
        "      <td>  79066</td>\n",
        "      <td>  79066</td>\n",
        "      <td>  79066</td>\n",
        "      <td>  79066</td>\n",
        "      <td>  79066</td>\n",
        "      <td>  79066</td>\n",
        "      <td>  79066</td>\n",
        "      <td>  79066</td>\n",
        "      <td>  79066</td>\n",
        "      <td>  79066</td>\n",
        "      <td>  79066</td>\n",
        "      <td>  79066</td>\n",
        "      <td>  79066</td>\n",
        "      <td>  79066</td>\n",
        "      <td>  79066</td>\n",
        "      <td>  79066</td>\n",
        "      <td>  79066</td>\n",
        "      <td>  79066</td>\n",
        "    </tr>\n",
        "    <tr>\n",
        "      <th>paid</th>\n",
        "      <td> 249599</td>\n",
        "      <td> 249599</td>\n",
        "      <td> 249599</td>\n",
        "      <td> 249599</td>\n",
        "      <td> 249599</td>\n",
        "      <td> 249599</td>\n",
        "      <td> 249599</td>\n",
        "      <td> 249599</td>\n",
        "      <td> 249599</td>\n",
        "      <td> 249599</td>\n",
        "      <td> 249599</td>\n",
        "      <td> 249599</td>\n",
        "      <td> 249599</td>\n",
        "      <td> 249599</td>\n",
        "      <td> 249599</td>\n",
        "      <td> 249599</td>\n",
        "      <td> 249599</td>\n",
        "      <td> 249599</td>\n",
        "      <td> 249599</td>\n",
        "      <td> 249599</td>\n",
        "    </tr>\n",
        "    <tr>\n",
        "      <th>refunded</th>\n",
        "      <td>    805</td>\n",
        "      <td>    805</td>\n",
        "      <td>    805</td>\n",
        "      <td>    805</td>\n",
        "      <td>    805</td>\n",
        "      <td>    805</td>\n",
        "      <td>    805</td>\n",
        "      <td>    805</td>\n",
        "      <td>    805</td>\n",
        "      <td>    805</td>\n",
        "      <td>    805</td>\n",
        "      <td>    805</td>\n",
        "      <td>    805</td>\n",
        "      <td>    805</td>\n",
        "      <td>    805</td>\n",
        "      <td>    805</td>\n",
        "      <td>    805</td>\n",
        "      <td>    805</td>\n",
        "      <td>    805</td>\n",
        "      <td>    805</td>\n",
        "    </tr>\n",
        "  </tbody>\n",
        "</table>\n",
        "</div>"
       ],
       "metadata": {},
       "output_type": "pyout",
       "prompt_number": 104,
       "text": [
        "              activity  bonus_credit_eligibility  country  currency_loss  \\\n",
        "status                                                                     \n",
        "defaulted         6659                      6659     6659           6659   \n",
        "expired          13871                     13871    13871          13871   \n",
        "in_repayment     79066                     79066    79066          79066   \n",
        "paid            249599                    249599   249599         249599   \n",
        "refunded           805                       805      805            805   \n",
        "\n",
        "              description  gender  group_size      id   image  loan_amount  \\\n",
        "status                                                                       \n",
        "defaulted            6659    6659        6659    6659    6659         6659   \n",
        "expired             13871   13871       13871   13871   13871        13871   \n",
        "in_repayment        79066   79066       79066   79066   79066        79066   \n",
        "paid               249599  249599      249599  249599  249599       249599   \n",
        "refunded              805     805         805     805     805          805   \n",
        "\n",
        "                name  partner_id  planned_expiration_date  posted_date  \\\n",
        "status                                                                   \n",
        "defaulted       6659        6659                     6659         6659   \n",
        "expired        13871       13871                    13871        13871   \n",
        "in_repayment   79066       79066                    79066        79066   \n",
        "paid          249599      249599                   249599       249599   \n",
        "refunded         805         805                      805          805   \n",
        "\n",
        "              repayment_interval  repayment_term  sector    tags   theme  \\\n",
        "status                                                                     \n",
        "defaulted                   6659            6659    6659    6659    6659   \n",
        "expired                    13871           13871   13871   13871   13871   \n",
        "in_repayment               79066           79066   79066   79066   79066   \n",
        "paid                      249599          249599  249599  249599  249599   \n",
        "refunded                     805             805     805     805     805   \n",
        "\n",
        "                 use  \n",
        "status                \n",
        "defaulted       6659  \n",
        "expired        13871  \n",
        "in_repayment   79066  \n",
        "paid          249599  \n",
        "refunded         805  "
       ]
      }
     ],
     "prompt_number": 104
    },
    {
     "cell_type": "code",
     "collapsed": false,
     "input": [
      "bbcc = pd.concat([cc,bb],axis=0)"
     ],
     "language": "python",
     "metadata": {},
     "outputs": [],
     "prompt_number": 47
    },
    {
     "cell_type": "code",
     "collapsed": false,
     "input": [
      "bbcc.info()"
     ],
     "language": "python",
     "metadata": {},
     "outputs": [
      {
       "output_type": "stream",
       "stream": "stdout",
       "text": [
        "<class 'pandas.core.frame.DataFrame'>\n",
        "Float64Index: 55000 entries, 0.0 to 9999.0\n",
        "Data columns (total 21 columns):\n",
        "activity                    55000 non-null object\n",
        "bonus_credit_eligibility    55000 non-null bool\n",
        "country                     55000 non-null object\n",
        "currency_loss               55000 non-null object\n",
        "description                 55000 non-null object\n",
        "gender                      55000 non-null object\n",
        "group_size                  55000 non-null int64\n",
        "id                          55000 non-null int64\n",
        "image                       55000 non-null object\n",
        "loan_amount                 55000 non-null int64\n",
        "name                        55000 non-null object\n",
        "partner_id                  55000 non-null int64\n",
        "planned_expiration_date     55000 non-null int64\n",
        "posted_date                 55000 non-null int64\n",
        "repayment_interval          55000 non-null object\n",
        "repayment_term              55000 non-null int64\n",
        "sector                      55000 non-null object\n",
        "status                      55000 non-null object\n",
        "tags                        55000 non-null object\n",
        "theme                       4206 non-null object\n",
        "use                         55000 non-null object\n",
        "dtypes: bool(1), int64(7), object(13)\n",
        "memory usage: 8.9+ MB\n"
       ]
      }
     ],
     "prompt_number": 48
    },
    {
     "cell_type": "code",
     "collapsed": false,
     "input": [
      "exp = (bdf.planned_expiration_date - bdf.posted_date)/(1000*60*60*24)"
     ],
     "language": "python",
     "metadata": {},
     "outputs": [],
     "prompt_number": 74
    },
    {
     "cell_type": "code",
     "collapsed": false,
     "input": [
      "exp.describe"
     ],
     "language": "python",
     "metadata": {},
     "outputs": [
      {
       "metadata": {},
       "output_type": "pyout",
       "prompt_number": 76,
       "text": [
        "<bound method Series.describe of 0        30.000000\n",
        "1        30.000000\n",
        "10       30.000000\n",
        "100      30.000000\n",
        "1000     30.000000\n",
        "10000    30.000000\n",
        "10001    30.000000\n",
        "10002    29.999988\n",
        "10003    29.999988\n",
        "10004    30.000000\n",
        "10005    30.000000\n",
        "10006    30.000000\n",
        "10007    29.999988\n",
        "10008    30.000000\n",
        "10009    30.000000\n",
        "...\n",
        "9986    30\n",
        "9987    30\n",
        "9988    30\n",
        "9989    30\n",
        "999     30\n",
        "9990    30\n",
        "9991    30\n",
        "9992    30\n",
        "9993    30\n",
        "9994    30\n",
        "9995    30\n",
        "9996    30\n",
        "9997    30\n",
        "9998    30\n",
        "9999    30\n",
        "Length: 350000, dtype: float64>"
       ]
      }
     ],
     "prompt_number": 76
    },
    {
     "cell_type": "code",
     "collapsed": false,
     "input": [
      "plt.plot(exp)"
     ],
     "language": "python",
     "metadata": {},
     "outputs": [
      {
       "metadata": {},
       "output_type": "pyout",
       "prompt_number": 78,
       "text": [
        "[<matplotlib.lines.Line2D at 0x1f60132d0>]"
       ]
      }
     ],
     "prompt_number": 78
    },
    {
     "cell_type": "code",
     "collapsed": false,
     "input": [
      "plt.show()"
     ],
     "language": "python",
     "metadata": {},
     "outputs": [],
     "prompt_number": 79
    },
    {
     "cell_type": "code",
     "collapsed": false,
     "input": [
      "plt.scatter(bdf.id,exp)"
     ],
     "language": "python",
     "metadata": {},
     "outputs": [
      {
       "metadata": {},
       "output_type": "pyout",
       "prompt_number": 80,
       "text": [
        "<matplotlib.collections.PathCollection at 0x1f6b7ed90>"
       ]
      }
     ],
     "prompt_number": 80
    },
    {
     "cell_type": "code",
     "collapsed": false,
     "input": [
      "plt.show()"
     ],
     "language": "python",
     "metadata": {},
     "outputs": [],
     "prompt_number": 81
    },
    {
     "cell_type": "code",
     "collapsed": false,
     "input": [
      "(exp>31).mean()"
     ],
     "language": "python",
     "metadata": {},
     "outputs": [
      {
       "metadata": {},
       "output_type": "pyout",
       "prompt_number": 83,
       "text": [
        "0.079608571428571431"
       ]
      }
     ],
     "prompt_number": 83
    },
    {
     "cell_type": "code",
     "collapsed": false,
     "input": [
      "(exp>44).mean()"
     ],
     "language": "python",
     "metadata": {},
     "outputs": [
      {
       "metadata": {},
       "output_type": "pyout",
       "prompt_number": 84,
       "text": [
        "0.079608571428571431"
       ]
      }
     ],
     "prompt_number": 84
    },
    {
     "cell_type": "code",
     "collapsed": false,
     "input": [
      "plt.hist(exp)"
     ],
     "language": "python",
     "metadata": {},
     "outputs": [
      {
       "ename": "TypeError",
       "evalue": "len() of unsized object",
       "output_type": "pyerr",
       "traceback": [
        "\u001b[0;31m---------------------------------------------------------------------------\u001b[0m\n\u001b[0;31mTypeError\u001b[0m                                 Traceback (most recent call last)",
        "\u001b[0;32m<ipython-input-85-579a1e0abd6e>\u001b[0m in \u001b[0;36m<module>\u001b[0;34m()\u001b[0m\n\u001b[0;32m----> 1\u001b[0;31m \u001b[0mplt\u001b[0m\u001b[0;34m.\u001b[0m\u001b[0mhist\u001b[0m\u001b[0;34m(\u001b[0m\u001b[0mexp\u001b[0m\u001b[0;34m)\u001b[0m\u001b[0;34m\u001b[0m\u001b[0m\n\u001b[0m",
        "\u001b[0;32m/Users/datascientist/anaconda/lib/python2.7/site-packages/matplotlib/pyplot.pyc\u001b[0m in \u001b[0;36mhist\u001b[0;34m(x, bins, range, normed, weights, cumulative, bottom, histtype, align, orientation, rwidth, log, color, label, stacked, hold, **kwargs)\u001b[0m\n\u001b[1;32m   2888\u001b[0m                       \u001b[0mhisttype\u001b[0m\u001b[0;34m=\u001b[0m\u001b[0mhisttype\u001b[0m\u001b[0;34m,\u001b[0m \u001b[0malign\u001b[0m\u001b[0;34m=\u001b[0m\u001b[0malign\u001b[0m\u001b[0;34m,\u001b[0m \u001b[0morientation\u001b[0m\u001b[0;34m=\u001b[0m\u001b[0morientation\u001b[0m\u001b[0;34m,\u001b[0m\u001b[0;34m\u001b[0m\u001b[0m\n\u001b[1;32m   2889\u001b[0m                       \u001b[0mrwidth\u001b[0m\u001b[0;34m=\u001b[0m\u001b[0mrwidth\u001b[0m\u001b[0;34m,\u001b[0m \u001b[0mlog\u001b[0m\u001b[0;34m=\u001b[0m\u001b[0mlog\u001b[0m\u001b[0;34m,\u001b[0m \u001b[0mcolor\u001b[0m\u001b[0;34m=\u001b[0m\u001b[0mcolor\u001b[0m\u001b[0;34m,\u001b[0m \u001b[0mlabel\u001b[0m\u001b[0;34m=\u001b[0m\u001b[0mlabel\u001b[0m\u001b[0;34m,\u001b[0m\u001b[0;34m\u001b[0m\u001b[0m\n\u001b[0;32m-> 2890\u001b[0;31m                       stacked=stacked, **kwargs)\n\u001b[0m\u001b[1;32m   2891\u001b[0m         \u001b[0mdraw_if_interactive\u001b[0m\u001b[0;34m(\u001b[0m\u001b[0;34m)\u001b[0m\u001b[0;34m\u001b[0m\u001b[0m\n\u001b[1;32m   2892\u001b[0m     \u001b[0;32mfinally\u001b[0m\u001b[0;34m:\u001b[0m\u001b[0;34m\u001b[0m\u001b[0m\n",
        "\u001b[0;32m/Users/datascientist/anaconda/lib/python2.7/site-packages/matplotlib/axes/_axes.pyc\u001b[0m in \u001b[0;36mhist\u001b[0;34m(self, x, bins, range, normed, weights, cumulative, bottom, histtype, align, orientation, rwidth, log, color, label, stacked, **kwargs)\u001b[0m\n\u001b[1;32m   5619\u001b[0m             \u001b[0mxmax\u001b[0m \u001b[0;34m=\u001b[0m \u001b[0;34m-\u001b[0m\u001b[0mnp\u001b[0m\u001b[0;34m.\u001b[0m\u001b[0minf\u001b[0m\u001b[0;34m\u001b[0m\u001b[0m\n\u001b[1;32m   5620\u001b[0m             \u001b[0;32mfor\u001b[0m \u001b[0mxi\u001b[0m \u001b[0;32min\u001b[0m \u001b[0mx\u001b[0m\u001b[0;34m:\u001b[0m\u001b[0;34m\u001b[0m\u001b[0m\n\u001b[0;32m-> 5621\u001b[0;31m                 \u001b[0;32mif\u001b[0m \u001b[0mlen\u001b[0m\u001b[0;34m(\u001b[0m\u001b[0mxi\u001b[0m\u001b[0;34m)\u001b[0m \u001b[0;34m>\u001b[0m \u001b[0;36m0\u001b[0m\u001b[0;34m:\u001b[0m\u001b[0;34m\u001b[0m\u001b[0m\n\u001b[0m\u001b[1;32m   5622\u001b[0m                     \u001b[0mxmin\u001b[0m \u001b[0;34m=\u001b[0m \u001b[0mmin\u001b[0m\u001b[0;34m(\u001b[0m\u001b[0mxmin\u001b[0m\u001b[0;34m,\u001b[0m \u001b[0mxi\u001b[0m\u001b[0;34m.\u001b[0m\u001b[0mmin\u001b[0m\u001b[0;34m(\u001b[0m\u001b[0;34m)\u001b[0m\u001b[0;34m)\u001b[0m\u001b[0;34m\u001b[0m\u001b[0m\n\u001b[1;32m   5623\u001b[0m                     \u001b[0mxmax\u001b[0m \u001b[0;34m=\u001b[0m \u001b[0mmax\u001b[0m\u001b[0;34m(\u001b[0m\u001b[0mxmax\u001b[0m\u001b[0;34m,\u001b[0m \u001b[0mxi\u001b[0m\u001b[0;34m.\u001b[0m\u001b[0mmax\u001b[0m\u001b[0;34m(\u001b[0m\u001b[0;34m)\u001b[0m\u001b[0;34m)\u001b[0m\u001b[0;34m\u001b[0m\u001b[0m\n",
        "\u001b[0;31mTypeError\u001b[0m: len() of unsized object"
       ]
      }
     ],
     "prompt_number": 85
    },
    {
     "cell_type": "code",
     "collapsed": false,
     "input": [
      "aaa = pd.to_datetime(bdf.planned_expiration_date*1000000)"
     ],
     "language": "python",
     "metadata": {},
     "outputs": [],
     "prompt_number": 89
    },
    {
     "cell_type": "code",
     "collapsed": false,
     "input": [
      "aaa"
     ],
     "language": "python",
     "metadata": {},
     "outputs": [
      {
       "metadata": {},
       "output_type": "pyout",
       "prompt_number": 90,
       "text": [
        "0       2012-03-20 05:10:02\n",
        "1       2012-03-20 05:30:01\n",
        "10      2012-03-20 06:40:03\n",
        "100     2012-03-20 14:00:22\n",
        "1000    2012-03-23 01:50:02\n",
        "10000   2012-04-16 16:30:03\n",
        "10001   2012-04-16 16:50:01\n",
        "10002   2012-04-16 17:40:02\n",
        "10003   2012-04-16 18:00:02\n",
        "10004   2012-04-16 18:00:03\n",
        "10005   2012-04-16 18:00:03\n",
        "10006   2012-04-16 18:00:03\n",
        "10007   2012-04-16 18:10:01\n",
        "10008   2012-04-16 18:20:03\n",
        "10009   2012-04-16 18:20:04\n",
        "...\n",
        "9986   2014-06-10 18:10:02\n",
        "9987   2014-06-10 18:10:02\n",
        "9988   2014-06-10 18:30:01\n",
        "9989   2014-06-10 18:50:02\n",
        "999    2014-05-19 17:40:03\n",
        "9990   2014-06-10 19:10:01\n",
        "9991   2014-06-10 19:30:02\n",
        "9992   2014-06-10 19:30:02\n",
        "9993   2014-06-10 19:30:02\n",
        "9994   2014-06-10 19:30:03\n",
        "9995   2014-06-10 19:50:02\n",
        "9996   2014-06-10 19:50:02\n",
        "9997   2014-06-10 19:50:02\n",
        "9998   2014-06-10 19:50:02\n",
        "9999   2014-06-10 19:50:03\n",
        "Name: planned_expiration_date, Length: 350000, dtype: datetime64[ns]"
       ]
      }
     ],
     "prompt_number": 90
    },
    {
     "cell_type": "code",
     "collapsed": false,
     "input": [
      "aaa.max()"
     ],
     "language": "python",
     "metadata": {},
     "outputs": [
      {
       "metadata": {},
       "output_type": "pyout",
       "prompt_number": 91,
       "text": [
        "Timestamp('2014-09-04 00:30:03')"
       ]
      }
     ],
     "prompt_number": 91
    },
    {
     "cell_type": "code",
     "collapsed": false,
     "input": [
      "plt.hist(bdf.loan_amount.values)"
     ],
     "language": "python",
     "metadata": {},
     "outputs": [
      {
       "metadata": {},
       "output_type": "pyout",
       "prompt_number": 99,
       "text": [
        "(array([  3.49895000e+05,   8.00000000e+01,   1.50000000e+01,\n",
        "          0.00000000e+00,   9.00000000e+00,   0.00000000e+00,\n",
        "          0.00000000e+00,   0.00000000e+00,   0.00000000e+00,\n",
        "          1.00000000e+00]),\n",
        " array([  2.50000000e+01,   1.00225000e+04,   2.00200000e+04,\n",
        "          3.00175000e+04,   4.00150000e+04,   5.00125000e+04,\n",
        "          6.00100000e+04,   7.00075000e+04,   8.00050000e+04,\n",
        "          9.00025000e+04,   1.00000000e+05]),\n",
        " <a list of 10 Patch objects>)"
       ]
      },
      {
       "metadata": {},
       "output_type": "display_data",
       "png": "[encoded data removed]",
       "text": [
        "<matplotlib.figure.Figure at 0x1f91caf50>"
       ]
      }
     ],
     "prompt_number": 99
    },
    {
     "cell_type": "code",
     "collapsed": false,
     "input": [
      "plt.show()"
     ],
     "language": "python",
     "metadata": {},
     "outputs": [],
     "prompt_number": 100
    },
    {
     "cell_type": "code",
     "collapsed": false,
     "input": [
      "plt.hist(exp.values)\n",
      "plt.show()"
     ],
     "language": "python",
     "metadata": {},
     "outputs": [
      {
       "metadata": {},
       "output_type": "display_data",
       "png": "[encoded data removed]",
       "text": [
        "<matplotlib.figure.Figure at 0x1d7c5d550>"
       ]
      }
     ],
     "prompt_number": 103
    },
    {
     "cell_type": "code",
     "collapsed": false,
     "input": [
      "bdf.planned_expiration_date = (bdf.planned_expiration_date / (1000.*60*60*24*365.25))"
     ],
     "language": "python",
     "metadata": {},
     "outputs": [],
     "prompt_number": 125
    },
    {
     "cell_type": "code",
     "collapsed": false,
     "input": [
      "len(bdf.country.unique())"
     ],
     "language": "python",
     "metadata": {},
     "outputs": [
      {
       "metadata": {},
       "output_type": "pyout",
       "prompt_number": 126,
       "text": [
        "78"
       ]
      }
     ],
     "prompt_number": 126
    },
    {
     "cell_type": "code",
     "collapsed": false,
     "input": [
      "plt.hist(bdf.planned_expiration_date.values,bins=20)\n",
      "plt.show()"
     ],
     "language": "python",
     "metadata": {},
     "outputs": [
      {
       "metadata": {},
       "output_type": "display_data",
       "png": "[encoded data removed]",
       "text": [
        "<matplotlib.figure.Figure at 0x19c4c10d0>"
       ]
      }
     ],
     "prompt_number": 127
    },
    {
     "cell_type": "code",
     "collapsed": false,
     "input": [
      "plt.hist(bdf[bdf.status == 'expired'].planned_expiration_date.values,bins=20)\n",
      "plt.show()"
     ],
     "language": "python",
     "metadata": {},
     "outputs": [
      {
       "metadata": {},
       "output_type": "display_data",
       "png": "[encoded data removed]",
       "text": [
        "<matplotlib.figure.Figure at 0x120f33b90>"
       ]
      }
     ],
     "prompt_number": 119
    },
    {
     "cell_type": "code",
     "collapsed": false,
     "input": [
      "posted = bdf.posted_date / (1000.*60*60*24*365.25) - 30"
     ],
     "language": "python",
     "metadata": {},
     "outputs": [],
     "prompt_number": 135
    },
    {
     "cell_type": "code",
     "collapsed": false,
     "input": [
      "posted"
     ],
     "language": "python",
     "metadata": {},
     "outputs": [
      {
       "metadata": {},
       "output_type": "pyout",
       "prompt_number": 136,
       "text": [
        "0        12.133375\n",
        "1        12.133413\n",
        "10       12.133546\n",
        "100      12.134384\n",
        "1000     12.141209\n",
        "10000    12.208590\n",
        "10001    12.208628\n",
        "10002    12.208723\n",
        "10003    12.208761\n",
        "10004    12.208761\n",
        "10005    12.208761\n",
        "10006    12.208761\n",
        "10007    12.208780\n",
        "10008    12.208799\n",
        "10009    12.208799\n",
        "...\n",
        "9986    14.357993\n",
        "9987    14.357993\n",
        "9988    14.358031\n",
        "9989    14.358069\n",
        "999     14.297703\n",
        "9990    14.358107\n",
        "9991    14.358145\n",
        "9992    14.358145\n",
        "9993    14.358145\n",
        "9994    14.358145\n",
        "9995    14.358183\n",
        "9996    14.358183\n",
        "9997    14.358183\n",
        "9998    14.358183\n",
        "9999    14.358183\n",
        "Name: posted_date, Length: 350000, dtype: float64"
       ]
      }
     ],
     "prompt_number": 136
    },
    {
     "cell_type": "code",
     "collapsed": false,
     "input": [
      "plt.hist(posted[bdf.status == 'expired'].values,bins=36)\n",
      "plt.show()"
     ],
     "language": "python",
     "metadata": {},
     "outputs": [
      {
       "metadata": {},
       "output_type": "display_data",
       "png": "[encoded data removed]",
       "text": [
        "<matplotlib.figure.Figure at 0x1d878bfd0>"
       ]
      }
     ],
     "prompt_number": 139
    },
    {
     "cell_type": "code",
     "collapsed": false,
     "input": [
      "plt.hist(posted.values,bins=36)\n",
      "plt.show()"
     ],
     "language": "python",
     "metadata": {},
     "outputs": [
      {
       "metadata": {},
       "output_type": "display_data",
       "png": "[encoded data removed]",
       "text": [
        "<matplotlib.figure.Figure at 0x1dbfd34d0>"
       ]
      }
     ],
     "prompt_number": 141
    },
    {
     "cell_type": "code",
     "collapsed": false,
     "input": [],
     "language": "python",
     "metadata": {},
     "outputs": []
    }
   ],
   "metadata": {}
  }
 ]
}