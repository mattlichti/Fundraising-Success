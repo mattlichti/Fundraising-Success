{
 "metadata": {
  "name": "",
  "signature": "sha256:2d1e906ba810ecc816fb357d23c9f0fd4f1f2e0a0e9d68b2a8f70ea82b1e09b0"
 },
 "nbformat": 3,
 "nbformat_minor": 0,
 "worksheets": [
  {
   "cells": [
    {
     "cell_type": "code",
     "collapsed": false,
     "input": [
      "import clean\n",
      "import matplotlib.pyplot as plt\n",
      "%matplotlib inline\n",
      "import pandas as pd"
     ],
     "language": "python",
     "metadata": {},
     "outputs": [],
     "prompt_number": 22
    },
    {
     "cell_type": "code",
     "collapsed": false,
     "input": [
      "df = clean.load_cleaned(['todo'])"
     ],
     "language": "python",
     "metadata": {},
     "outputs": [],
     "prompt_number": 2
    },
    {
     "cell_type": "code",
     "collapsed": false,
     "input": [
      "df.info()"
     ],
     "language": "python",
     "metadata": {},
     "outputs": [
      {
       "output_type": "stream",
       "stream": "stdout",
       "text": [
        "<class 'pandas.core.frame.DataFrame'>\n",
        "Float64Index: 426333 entries, 0.0 to 99999.0\n",
        "Data columns (total 20 columns):\n",
        "activity                    426333 non-null object\n",
        "bonus_credit_eligibility    426333 non-null bool\n",
        "country                     426333 non-null object\n",
        "currency_loss               426333 non-null object\n",
        "days_available              426333 non-null int64\n",
        "gender                      426333 non-null object\n",
        "group_size                  426333 non-null int64\n",
        "id                          426333 non-null int64\n",
        "image                       426333 non-null int64\n",
        "loan_amount                 426333 non-null int64\n",
        "name                        426333 non-null object\n",
        "partner_id                  426333 non-null int64\n",
        "posted_date                 426333 non-null datetime64[ns]\n",
        "repayment_interval          426333 non-null object\n",
        "repayment_term              426333 non-null int64\n",
        "sector                      426333 non-null object\n",
        "status                      426333 non-null object\n",
        "tags                        426333 non-null object\n",
        "themes                      125570 non-null object\n",
        "use                         426333 non-null object\n",
        "dtypes: bool(1), datetime64[ns](1), int64(7), object(11)"
       ]
      }
     ],
     "prompt_number": 3
    },
    {
     "cell_type": "code",
     "collapsed": false,
     "input": [
      "df.index = "
     ],
     "language": "python",
     "metadata": {},
     "outputs": [
      {
       "metadata": {},
       "output_type": "pyout",
       "prompt_number": 4,
       "text": [
        "Float64Index([0.0, 1.0, 10.0, 100.0, 1000.0, 10000.0, 100000.0, 100001.0, 100002.0, 100003.0, 100004.0, 100005.0, 100006.0, 100007.0, 100008.0, 100009.0, 10001.0, 100010.0, 100011.0, 100012.0, 100013.0, 100014.0, 100015.0, 100016.0, 100017.0, 100018.0, 100019.0, 10002.0, 100020.0, 100021.0, 100022.0, 100023.0, 100024.0, 100025.0, 100026.0, 100027.0, 100028.0, 100029.0, 10003.0, 100030.0, 100031.0, 100032.0, 100033.0, 100034.0, 100035.0, 100036.0, 100037.0, 100038.0, 100039.0, 10004.0, 100040.0, 100041.0, 100042.0, 100043.0, 100044.0, 100045.0, 100046.0, 100047.0, 100048.0, 100049.0, 10005.0, 100050.0, 100051.0, 100052.0, 100053.0, 100054.0, 100055.0, 100056.0, 100057.0, 100058.0, 100059.0, 10006.0, 100060.0, 100061.0, 100062.0, 100063.0, 100064.0, 100065.0, 100066.0, 100067.0, 100068.0, 100069.0, 10007.0, 100070.0, 100071.0, 100072.0, 100073.0, 100074.0, 100075.0, 100076.0, 100077.0, 100078.0, 100079.0, 10008.0, 100080.0, 100081.0, 100082.0, 100083.0, 100084.0, 100085.0, ...], dtype='float64')"
       ]
      }
     ],
     "prompt_number": 4
    },
    {
     "cell_type": "code",
     "collapsed": false,
     "input": [
      "df.groupby('status').mean()"
     ],
     "language": "python",
     "metadata": {},
     "outputs": [
      {
       "html": [
        "<div style=\"max-height:1000px;max-width:1500px;overflow:auto;\">\n",
        "<table border=\"1\" class=\"dataframe\">\n",
        "  <thead>\n",
        "    <tr style=\"text-align: right;\">\n",
        "      <th></th>\n",
        "      <th>bonus_credit_eligibility</th>\n",
        "      <th>days_available</th>\n",
        "      <th>group_size</th>\n",
        "      <th>id</th>\n",
        "      <th>image</th>\n",
        "      <th>loan_amount</th>\n",
        "      <th>partner_id</th>\n",
        "      <th>repayment_term</th>\n",
        "    </tr>\n",
        "    <tr>\n",
        "      <th>status</th>\n",
        "      <th></th>\n",
        "      <th></th>\n",
        "      <th></th>\n",
        "      <th></th>\n",
        "      <th></th>\n",
        "      <th></th>\n",
        "      <th></th>\n",
        "      <th></th>\n",
        "    </tr>\n",
        "  </thead>\n",
        "  <tbody>\n",
        "    <tr>\n",
        "      <th>defaulted</th>\n",
        "      <td> 0.395086</td>\n",
        "      <td> 31.062705</td>\n",
        "      <td> 2.719611</td>\n",
        "      <td> 497669.480788</td>\n",
        "      <td>  726677.000000</td>\n",
        "      <td>  804.702900</td>\n",
        "      <td> 150.328239</td>\n",
        "      <td> 12.344379</td>\n",
        "    </tr>\n",
        "    <tr>\n",
        "      <th>expired</th>\n",
        "      <td> 0.593002</td>\n",
        "      <td> 31.422922</td>\n",
        "      <td> 1.543555</td>\n",
        "      <td> 607753.308365</td>\n",
        "      <td> 1410891.908019</td>\n",
        "      <td> 1591.171233</td>\n",
        "      <td> 139.548950</td>\n",
        "      <td> 18.348175</td>\n",
        "    </tr>\n",
        "    <tr>\n",
        "      <th>funded</th>\n",
        "      <td> 0.000000</td>\n",
        "      <td> 45.000000</td>\n",
        "      <td> 3.903226</td>\n",
        "      <td> 805831.645161</td>\n",
        "      <td> 1741686.645161</td>\n",
        "      <td> 1023.387097</td>\n",
        "      <td> 385.290323</td>\n",
        "      <td> 15.161290</td>\n",
        "    </tr>\n",
        "    <tr>\n",
        "      <th>in_repayment</th>\n",
        "      <td> 0.595515</td>\n",
        "      <td> 33.613668</td>\n",
        "      <td> 1.703739</td>\n",
        "      <td> 725328.006910</td>\n",
        "      <td> 1476041.740423</td>\n",
        "      <td>  911.647311</td>\n",
        "      <td> 163.919573</td>\n",
        "      <td> 17.856471</td>\n",
        "    </tr>\n",
        "    <tr>\n",
        "      <th>paid</th>\n",
        "      <td> 0.729464</td>\n",
        "      <td> 32.298364</td>\n",
        "      <td> 2.057116</td>\n",
        "      <td> 543093.405513</td>\n",
        "      <td> 1293897.137267</td>\n",
        "      <td>  855.982178</td>\n",
        "      <td> 137.910835</td>\n",
        "      <td> 11.532272</td>\n",
        "    </tr>\n",
        "    <tr>\n",
        "      <th>refunded</th>\n",
        "      <td> 0.431647</td>\n",
        "      <td> 33.067815</td>\n",
        "      <td> 1.885899</td>\n",
        "      <td> 582573.871905</td>\n",
        "      <td>  726677.000000</td>\n",
        "      <td> 1143.675996</td>\n",
        "      <td> 184.992465</td>\n",
        "      <td> 16.339074</td>\n",
        "    </tr>\n",
        "  </tbody>\n",
        "</table>\n",
        "</div>"
       ],
       "metadata": {},
       "output_type": "pyout",
       "prompt_number": 9,
       "text": [
        "              bonus_credit_eligibility  days_available  group_size  \\\n",
        "status                                                               \n",
        "defaulted                     0.395086       31.062705    2.719611   \n",
        "expired                       0.593002       31.422922    1.543555   \n",
        "funded                        0.000000       45.000000    3.903226   \n",
        "in_repayment                  0.595515       33.613668    1.703739   \n",
        "paid                          0.729464       32.298364    2.057116   \n",
        "refunded                      0.431647       33.067815    1.885899   \n",
        "\n",
        "                         id           image  loan_amount  partner_id  \\\n",
        "status                                                                 \n",
        "defaulted     497669.480788   726677.000000   804.702900  150.328239   \n",
        "expired       607753.308365  1410891.908019  1591.171233  139.548950   \n",
        "funded        805831.645161  1741686.645161  1023.387097  385.290323   \n",
        "in_repayment  725328.006910  1476041.740423   911.647311  163.919573   \n",
        "paid          543093.405513  1293897.137267   855.982178  137.910835   \n",
        "refunded      582573.871905   726677.000000  1143.675996  184.992465   \n",
        "\n",
        "              repayment_term  \n",
        "status                        \n",
        "defaulted          12.344379  \n",
        "expired            18.348175  \n",
        "funded             15.161290  \n",
        "in_repayment       17.856471  \n",
        "paid               11.532272  \n",
        "refunded           16.339074  "
       ]
      }
     ],
     "prompt_number": 9
    },
    {
     "cell_type": "code",
     "collapsed": false,
     "input": [
      "df.posted_date"
     ],
     "language": "python",
     "metadata": {},
     "outputs": [
      {
       "metadata": {},
       "output_type": "pyout",
       "prompt_number": 11,
       "text": [
        "0        2012-02-23 20:10:03\n",
        "1        2012-02-23 20:10:03\n",
        "10       2012-08-18 10:10:02\n",
        "100      2012-08-18 16:00:03\n",
        "1000     2012-09-11 23:50:22\n",
        "10000    2012-09-01 07:00:04\n",
        "100000   2013-06-01 21:50:08\n",
        "100001   2012-01-30 00:30:03\n",
        "100002   2012-01-30 12:20:04\n",
        "100003   2012-02-01 08:00:48\n",
        "100004   2012-05-24 02:40:03\n",
        "100005   2013-06-01 21:50:08\n",
        "100006   2013-07-09 18:30:09\n",
        "100007   2013-06-01 22:00:02\n",
        "100008   2013-06-01 22:20:02\n",
        "...\n",
        "99986   2013-06-01 20:10:02\n",
        "99987   2013-06-01 20:10:02\n",
        "99988   2013-06-01 20:10:03\n",
        "99989   2013-06-01 20:20:02\n",
        "9999    2012-09-01 07:00:04\n",
        "99990   2012-05-24 02:40:03\n",
        "99991   2013-07-09 18:30:09\n",
        "99992   2013-06-01 20:30:01\n",
        "99993   2013-06-01 20:30:02\n",
        "99994   2013-06-01 20:30:05\n",
        "99995   2013-06-01 20:30:05\n",
        "99996   2013-06-01 20:30:05\n",
        "99997   2013-06-01 20:50:01\n",
        "99998   2013-06-01 21:50:01\n",
        "99999   2013-06-01 21:50:08\n",
        "Name: posted_date, Length: 426333, dtype: datetime64[ns]"
       ]
      }
     ],
     "prompt_number": 11
    },
    {
     "cell_type": "code",
     "collapsed": false,
     "input": [
      "df.posted_date = df.posted_date.astype(int)/(1000*60*60*24*365.25) - 30"
     ],
     "language": "python",
     "metadata": {},
     "outputs": [],
     "prompt_number": 13
    },
    {
     "cell_type": "code",
     "collapsed": false,
     "input": [
      "df.posted_date += 30"
     ],
     "language": "python",
     "metadata": {},
     "outputs": [],
     "prompt_number": 15
    },
    {
     "cell_type": "code",
     "collapsed": false,
     "input": [
      "df.posted_date /= 10**6"
     ],
     "language": "python",
     "metadata": {},
     "outputs": [],
     "prompt_number": 16
    },
    {
     "cell_type": "code",
     "collapsed": false,
     "input": [
      "df.posted_date -= 30"
     ],
     "language": "python",
     "metadata": {},
     "outputs": [],
     "prompt_number": 18
    },
    {
     "cell_type": "code",
     "collapsed": false,
     "input": [
      "plt.scatter(df.posted_date,df.days_available)"
     ],
     "language": "python",
     "metadata": {},
     "outputs": [
      {
       "metadata": {},
       "output_type": "pyout",
       "prompt_number": 19,
       "text": [
        "<matplotlib.collections.PathCollection at 0x7f8a93a41650>"
       ]
      },
      {
       "metadata": {},
       "output_type": "display_data",
       "png": "[encoded data removed]",
       "text": [
        "<matplotlib.figure.Figure at 0x7f8a9338ea50>"
       ]
      }
     ],
     "prompt_number": 19
    },
    {
     "cell_type": "code",
     "collapsed": false,
     "input": [
      "df.posted_date.max()"
     ],
     "language": "python",
     "metadata": {},
     "outputs": [
      {
       "metadata": {},
       "output_type": "pyout",
       "prompt_number": 20,
       "text": [
        "14.971918333460088"
       ]
      }
     ],
     "prompt_number": 20
    },
    {
     "cell_type": "code",
     "collapsed": false,
     "input": [
      "a = pd.get_dummies(df,'sector')"
     ],
     "language": "python",
     "metadata": {},
     "outputs": [
      {
       "ename": "ValueError",
       "evalue": "cannot copy sequence with size 20 to array axis with dimension 426333",
       "output_type": "pyerr",
       "traceback": [
        "\u001b[1;31m---------------------------------------------------------------------------\u001b[0m\n\u001b[1;31mValueError\u001b[0m                                Traceback (most recent call last)",
        "\u001b[1;32m<ipython-input-23-e23150236530>\u001b[0m in \u001b[0;36m<module>\u001b[1;34m()\u001b[0m\n\u001b[1;32m----> 1\u001b[1;33m \u001b[0ma\u001b[0m \u001b[1;33m=\u001b[0m \u001b[0mpd\u001b[0m\u001b[1;33m.\u001b[0m\u001b[0mget_dummies\u001b[0m\u001b[1;33m(\u001b[0m\u001b[0mdf\u001b[0m\u001b[1;33m,\u001b[0m\u001b[1;34m'sector'\u001b[0m\u001b[1;33m)\u001b[0m\u001b[1;33m\u001b[0m\u001b[0m\n\u001b[0m",
        "\u001b[1;32m/home/matt/anaconda/lib/python2.7/site-packages/pandas/core/reshape.pyc\u001b[0m in \u001b[0;36mget_dummies\u001b[1;34m(data, prefix, prefix_sep, dummy_na)\u001b[0m\n\u001b[0;32m    999\u001b[0m     \"\"\"\n\u001b[0;32m   1000\u001b[0m     \u001b[1;31m# Series avoids inconsistent NaN handling\u001b[0m\u001b[1;33m\u001b[0m\u001b[1;33m\u001b[0m\u001b[0m\n\u001b[1;32m-> 1001\u001b[1;33m     \u001b[0mcat\u001b[0m \u001b[1;33m=\u001b[0m \u001b[0mCategorical\u001b[0m\u001b[1;33m.\u001b[0m\u001b[0mfrom_array\u001b[0m\u001b[1;33m(\u001b[0m\u001b[0mSeries\u001b[0m\u001b[1;33m(\u001b[0m\u001b[0mdata\u001b[0m\u001b[1;33m)\u001b[0m\u001b[1;33m)\u001b[0m\u001b[1;33m\u001b[0m\u001b[0m\n\u001b[0m\u001b[0;32m   1002\u001b[0m     \u001b[0mlevels\u001b[0m \u001b[1;33m=\u001b[0m \u001b[0mcat\u001b[0m\u001b[1;33m.\u001b[0m\u001b[0mlevels\u001b[0m\u001b[1;33m\u001b[0m\u001b[0m\n\u001b[0;32m   1003\u001b[0m \u001b[1;33m\u001b[0m\u001b[0m\n",
        "\u001b[1;32m/home/matt/anaconda/lib/python2.7/site-packages/pandas/core/series.pyc\u001b[0m in \u001b[0;36m__init__\u001b[1;34m(self, data, index, dtype, name, copy, fastpath)\u001b[0m\n\u001b[0;32m    227\u001b[0m             \u001b[1;32melse\u001b[0m\u001b[1;33m:\u001b[0m\u001b[1;33m\u001b[0m\u001b[0m\n\u001b[0;32m    228\u001b[0m                 data = _sanitize_array(data, index, dtype, copy,\n\u001b[1;32m--> 229\u001b[1;33m                                        raise_cast_failure=True)\n\u001b[0m\u001b[0;32m    230\u001b[0m \u001b[1;33m\u001b[0m\u001b[0m\n\u001b[0;32m    231\u001b[0m                 \u001b[0mdata\u001b[0m \u001b[1;33m=\u001b[0m \u001b[0mSingleBlockManager\u001b[0m\u001b[1;33m(\u001b[0m\u001b[0mdata\u001b[0m\u001b[1;33m,\u001b[0m \u001b[0mindex\u001b[0m\u001b[1;33m,\u001b[0m \u001b[0mfastpath\u001b[0m\u001b[1;33m=\u001b[0m\u001b[0mTrue\u001b[0m\u001b[1;33m)\u001b[0m\u001b[1;33m\u001b[0m\u001b[0m\n",
        "\u001b[1;32m/home/matt/anaconda/lib/python2.7/site-packages/pandas/core/series.pyc\u001b[0m in \u001b[0;36m_sanitize_array\u001b[1;34m(data, index, dtype, copy, raise_cast_failure)\u001b[0m\n\u001b[0;32m   2507\u001b[0m             \u001b[1;32mraise\u001b[0m \u001b[0mException\u001b[0m\u001b[1;33m(\u001b[0m\u001b[1;34m'Data must be 1-dimensional'\u001b[0m\u001b[1;33m)\u001b[0m\u001b[1;33m\u001b[0m\u001b[0m\n\u001b[0;32m   2508\u001b[0m         \u001b[1;32melse\u001b[0m\u001b[1;33m:\u001b[0m\u001b[1;33m\u001b[0m\u001b[0m\n\u001b[1;32m-> 2509\u001b[1;33m             \u001b[0msubarr\u001b[0m \u001b[1;33m=\u001b[0m \u001b[0m_asarray_tuplesafe\u001b[0m\u001b[1;33m(\u001b[0m\u001b[0mdata\u001b[0m\u001b[1;33m,\u001b[0m \u001b[0mdtype\u001b[0m\u001b[1;33m=\u001b[0m\u001b[0mdtype\u001b[0m\u001b[1;33m)\u001b[0m\u001b[1;33m\u001b[0m\u001b[0m\n\u001b[0m\u001b[0;32m   2510\u001b[0m \u001b[1;33m\u001b[0m\u001b[0m\n\u001b[0;32m   2511\u001b[0m     \u001b[1;31m# This is to prevent mixed-type Series getting all casted to\u001b[0m\u001b[1;33m\u001b[0m\u001b[1;33m\u001b[0m\u001b[0m\n",
        "\u001b[1;32m/home/matt/anaconda/lib/python2.7/site-packages/pandas/core/common.pyc\u001b[0m in \u001b[0;36m_asarray_tuplesafe\u001b[1;34m(values, dtype)\u001b[0m\n\u001b[0;32m   2191\u001b[0m             \u001b[1;32mexcept\u001b[0m \u001b[0mValueError\u001b[0m\u001b[1;33m:\u001b[0m\u001b[1;33m\u001b[0m\u001b[0m\n\u001b[0;32m   2192\u001b[0m                 \u001b[1;31m# we have a list-of-list\u001b[0m\u001b[1;33m\u001b[0m\u001b[1;33m\u001b[0m\u001b[0m\n\u001b[1;32m-> 2193\u001b[1;33m                 \u001b[0mresult\u001b[0m\u001b[1;33m[\u001b[0m\u001b[1;33m:\u001b[0m\u001b[1;33m]\u001b[0m \u001b[1;33m=\u001b[0m \u001b[1;33m[\u001b[0m\u001b[0mtuple\u001b[0m\u001b[1;33m(\u001b[0m\u001b[0mx\u001b[0m\u001b[1;33m)\u001b[0m \u001b[1;32mfor\u001b[0m \u001b[0mx\u001b[0m \u001b[1;32min\u001b[0m \u001b[0mvalues\u001b[0m\u001b[1;33m]\u001b[0m\u001b[1;33m\u001b[0m\u001b[0m\n\u001b[0m\u001b[0;32m   2194\u001b[0m \u001b[1;33m\u001b[0m\u001b[0m\n\u001b[0;32m   2195\u001b[0m     \u001b[1;32mreturn\u001b[0m \u001b[0mresult\u001b[0m\u001b[1;33m\u001b[0m\u001b[0m\n",
        "\u001b[1;31mValueError\u001b[0m: cannot copy sequence with size 20 to array axis with dimension 426333"
       ]
      }
     ],
     "prompt_number": 23
    },
    {
     "cell_type": "code",
     "collapsed": false,
     "input": [],
     "language": "python",
     "metadata": {},
     "outputs": []
    }
   ],
   "metadata": {}
  }
 ]
}